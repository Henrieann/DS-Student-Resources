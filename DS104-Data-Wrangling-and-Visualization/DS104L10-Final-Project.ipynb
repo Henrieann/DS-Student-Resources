{
 "cells": [
  {
   "cell_type": "markdown",
   "id": "50e6ddbb-52d3-4a02-9b69-100a4181e3b0",
   "metadata": {},
   "source": [
    "# DS104 Data Wrangling and Visualization, Lesson Ten: Final Project"
   ]
  },
  {
   "cell_type": "markdown",
   "id": "d1bd4bfc-9b15-4b80-87b4-b8b60eb56371",
   "metadata": {},
   "source": [
    "### Table of Contents <a class=\"anchor\" id=\"DS104L10_toc\"></a>\n",
    "\n",
    "* [Table of Contents](#DS104L10_toc)\n",
    "    * [Page 1 - Lesson 10 Final Project ](#DS104L10_page_1)\n",
    "\n",
    "    "
   ]
  },
  {
   "cell_type": "markdown",
   "id": "ef5a8c65-ed48-4354-a257-e01b0fd733d4",
   "metadata": {},
   "source": [
    "<hr style=\"height:10px;border-width:0;color:gray;background-color:gray\">\n",
    "\n",
    "# Page 1 - Lesson 10 Final Project<a class=\"anchor\" id=\"DS104L10_page_1\"></a>\n",
    "\n",
    "[Back to Top](#DS104L10_toc)\n",
    "\n",
    "<hr style=\"height:10px;border-width:0;color:gray;background-color:gray\">"
   ]
  },
  {
   "cell_type": "markdown",
   "id": "5b6ad526-95fa-43c4-bc43-1fe807708ed3",
   "metadata": {},
   "source": [
    "\n",
    "For your Data Wrangling and Visualization Final Project, use **[the following data set](https://repo.exeterlms.com/documents/V2/DataScience/Data-Wrang-Visual/motor_vehicle_crashes.zip)** to complete the requirements.\n",
    "\n",
    "<div class=\"panel panel-success\">\n",
    "    <div class=\"panel-heading\">\n",
    "        <h3 class=\"panel-title\">Additional Info!</h3>\n",
    "    </div>\n",
    "    <div class=\"panel-body\">\n",
    "        <p>You may want to watch <a href=\"https://vimeo.com/441195408\">this recorded live workshop in Tableau</a> before beginning the hands-on, which goes over a similar example, or <a href=\"https://vimeo.com/447671224\">this recorded live workshop in Python</a>, or even <a href=\"https://vimeo.com/455256451\">this recorded live workshop in R</a>.</p>\n",
    "    </div>\n",
    "</div>\n",
    "\n",
    "This Hands-On **will** be graded, so make sure you complete all requirements. When you are done, please submit one document with all of your findings for grading.\n",
    "\n",
    "<div class=\"panel panel-danger\">\n",
    "    <div class=\"panel-heading\">\n",
    "        <h3 class=\"panel-title\">Caution!</h3>\n",
    "    </div>\n",
    "    <div class=\"panel-body\">\n",
    "        <p>Do not submit your project until you have completed all requirements, as you will not be able to resubmit.</p>\n",
    "    </div>\n",
    "</div>\n",
    "\n",
    "The data file attached above is a subset of crash data from Texas in 2013. The entire file has over 500,000 rows. What you are seeing here is about 1% of those rows, selected randomly. Your assignment for this project is to create visualizations using these data. As you do this, take into account which columns are what kind of data. For instance, the ```Crash_ID``` column looks like a number, but in reality it is a categorical variable. Doing math on the numbers doesn't really make any sense. There are many, many columns that are coded with numbers, so not only do they not make any sense, they are also categorical.\n",
    "\n",
    "There are a lot of blanks - these are called missing data. There are, however, some familiar columns which should make sense to you.\n",
    "\n",
    "Treat this as a data exploration exercise. You will have to do some data wrangling and summarization as well.Whatever you come up with, you need to attach some verbiage to it. Presenting graphs is important, but you also really need to spell out the takeaways for your audience as well. \n",
    "\n",
    "There are no right or wrong answers with this assignment. You will be graded on the depth of your work.\n",
    "\n",
    "<div class=\"panel panel-success\">\n",
    "    <div class=\"panel-heading\">\n",
    "        <h3 class=\"panel-title\">Additional Info!</h3>\n",
    "    </div>\n",
    "    <div class=\"panel-body\">\n",
    "        <p>This is very typical of some of the work of a data scientist, and is called data mining. Lots of people think data mining is the process of dumping a large dataset into some sort of tool, and having it spit out all kinds of findings. This is not the case. Most data mining is done by hand. It is like having a big mess of string somewhere, and grabbing the end of one piece of string. When you pull it, you will find out where it goes. If this exercise is boring and mundane to you, you might be traveling down the wrong path. It is likely that the Texas Department of Transportation is either paying someone to sift through these data to make actionable discoveries, or they wish they had someone who could do it.</p>\n",
    "    </div>\n",
    "</div>\n",
    "\n",
    "Prepare your findings in a presentation (Powerpoint or equivalent) and submit it below for grading. Please do not just attach a Tableau workbook file - your mentor won't be able to grade it.\n",
    "\n",
    "<div class=\"panel panel-danger\">\n",
    "    <div class=\"panel-heading\">\n",
    "        <h3 class=\"panel-title\">Caution!</h3>\n",
    "    </div>\n",
    "    <div class=\"panel-body\">\n",
    "        <p>Be sure to zip and submit your entire directory when finished!</p>\n",
    "    </div>\n",
    "</div>"
   ]
  }
 ],
 "metadata": {
  "kernelspec": {
   "display_name": "Python 3 (ipykernel)",
   "language": "python",
   "name": "python3"
  },
  "language_info": {
   "codemirror_mode": {
    "name": "ipython",
    "version": 3
   },
   "file_extension": ".py",
   "mimetype": "text/x-python",
   "name": "python",
   "nbconvert_exporter": "python",
   "pygments_lexer": "ipython3",
   "version": "3.9.9"
  }
 },
 "nbformat": 4,
 "nbformat_minor": 5
}
