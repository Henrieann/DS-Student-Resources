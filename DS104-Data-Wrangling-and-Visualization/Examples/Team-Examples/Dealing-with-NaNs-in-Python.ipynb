{
 "cells": [
  {
   "cell_type": "markdown",
   "id": "70dba180-c8c8-4b72-8682-1dc8680fec1f",
   "metadata": {
    "tags": []
   },
   "source": [
    "# Dealing with NaNs in Python\n",
    "\n",
    "### Pandas \n",
    "- [isna](https://pandas.pydata.org/pandas-docs/stable/reference/api/pandas.isna.html)\n",
    "- [notna](https://pandas.pydata.org/pandas-docs/stable/reference/api/pandas.notna.html)\n",
    "- [isnull](https://pandas.pydata.org/pandas-docs/stable/reference/api/pandas.isnull.html)\n",
    "- [notnull](https://pandas.pydata.org/pandas-docs/stable/reference/api/pandas.notnull.html)\n",
    "\n",
    "- [missing-data-na](https://pandas.pydata.org/pandas-docs/stable/user_guide/missing_data.html#missing-data-na)"
   ]
  },
  {
   "cell_type": "markdown",
   "id": "b0b9e043-1cb0-4909-80c4-3e8e704ade9f",
   "metadata": {},
   "source": [
    "## [pandas.isna](https://pandas.pydata.org/pandas-docs/stable/reference/api/pandas.isna.html)\n",
    "\n",
    "### Detect missing values for an array-like object.\n",
    "\n",
    "This function takes a scalar or array-like object and indicates whether values are missing (NaN in numeric arrays, None or NaN in object arrays, NaT in datetimelike).\n",
    "\n",
    "#### Parameters\n",
    "objscalar or array-like\n",
    "Object to check for null or missing values.\n",
    "\n",
    "#### Returns\n",
    "bool or array-like of bool\n",
    "For scalar input, returns a scalar boolean. For array input, returns an array of boolean indicating whether each corresponding element is missing.\n",
    "\n",
    "#### See also\n",
    "\n",
    "[notna](https://pandas.pydata.org/pandas-docs/stable/reference/api/pandas.notna.html)\n",
    "Boolean inverse of pandas.isna.\n",
    "\n",
    "[Series.isna](https://pandas.pydata.org/pandas-docs/stable/reference/api/pandas.Series.isna.html#pandas.Series.isna)\n",
    "Detect missing values in a Series.\n",
    "\n",
    "[DataFrame.isna](https://pandas.pydata.org/pandas-docs/stable/reference/api/pandas.DataFrame.isna.html#pandas.DataFrame.isna)\n",
    "Detect missing values in a DataFrame.\n",
    "\n",
    "[Index.isna](https://pandas.pydata.org/pandas-docs/stable/reference/api/pandas.Index.isna.html#pandas.Index.isna)\n",
    "Detect missing values in an Index."
   ]
  },
  {
   "cell_type": "markdown",
   "id": "d7cb10c3-6f07-4de8-b495-0adea38fa0d8",
   "metadata": {},
   "source": [
    "# Examples"
   ]
  },
  {
   "cell_type": "code",
   "execution_count": 3,
   "id": "9f162fc9-1a53-4a53-917c-6f51a3f0f7b6",
   "metadata": {},
   "outputs": [],
   "source": [
    "import pandas as pd"
   ]
  },
  {
   "cell_type": "code",
   "execution_count": 4,
   "id": "7a518eb6-3f88-444d-ade5-86b2e8106b09",
   "metadata": {},
   "outputs": [
    {
     "data": {
      "text/plain": [
       "False"
      ]
     },
     "execution_count": 4,
     "metadata": {},
     "output_type": "execute_result"
    }
   ],
   "source": [
    "pd.isna('dog')"
   ]
  },
  {
   "cell_type": "code",
   "execution_count": 5,
   "id": "3e8bf8b2-270e-4197-909d-88f2c98f7e71",
   "metadata": {},
   "outputs": [
    {
     "data": {
      "text/plain": [
       "True"
      ]
     },
     "execution_count": 5,
     "metadata": {},
     "output_type": "execute_result"
    }
   ],
   "source": [
    "pd.isna(pd.NA)"
   ]
  },
  {
   "cell_type": "code",
   "execution_count": 6,
   "id": "fafc2505-185a-44d4-83a1-658b9832d98c",
   "metadata": {},
   "outputs": [],
   "source": [
    "import numpy as np"
   ]
  },
  {
   "cell_type": "code",
   "execution_count": 7,
   "id": "5e9d583f-a8b8-47b1-8380-d7d4f58d0c82",
   "metadata": {},
   "outputs": [
    {
     "data": {
      "text/plain": [
       "True"
      ]
     },
     "execution_count": 7,
     "metadata": {},
     "output_type": "execute_result"
    }
   ],
   "source": [
    "pd.isna(np.nan)"
   ]
  },
  {
   "cell_type": "markdown",
   "id": "93b67de7-2c8f-4615-9e45-9d0ca29e5400",
   "metadata": {},
   "source": [
    "ndarrays result in an ndarray of booleans."
   ]
  },
  {
   "cell_type": "code",
   "execution_count": 8,
   "id": "409e933a-2158-4ff0-aa15-28af829a5e6d",
   "metadata": {},
   "outputs": [],
   "source": [
    "array = np.array([[1, np.nan, 3], [4, 5, np.nan]])"
   ]
  },
  {
   "cell_type": "code",
   "execution_count": 9,
   "id": "5717a8c3-c8c8-4f71-92b2-3a47a4bc4fb3",
   "metadata": {},
   "outputs": [
    {
     "data": {
      "text/plain": [
       "array([[ 1., nan,  3.],\n",
       "       [ 4.,  5., nan]])"
      ]
     },
     "execution_count": 9,
     "metadata": {},
     "output_type": "execute_result"
    }
   ],
   "source": [
    "array"
   ]
  },
  {
   "cell_type": "code",
   "execution_count": 10,
   "id": "0439a31b-5d4e-4928-a107-38d9fdbf8cd5",
   "metadata": {},
   "outputs": [
    {
     "data": {
      "text/plain": [
       "array([[False,  True, False],\n",
       "       [False, False,  True]])"
      ]
     },
     "execution_count": 10,
     "metadata": {},
     "output_type": "execute_result"
    }
   ],
   "source": [
    "pd.isna(array)"
   ]
  },
  {
   "cell_type": "markdown",
   "id": "abe32493-f118-4a80-aae9-785804d42e67",
   "metadata": {},
   "source": [
    "For indexes, an ndarray of booleans is returned."
   ]
  },
  {
   "cell_type": "code",
   "execution_count": 11,
   "id": "1407807b-499f-4383-84ac-d0de4f189056",
   "metadata": {},
   "outputs": [],
   "source": [
    "index = pd.DatetimeIndex([\"2017-07-05\", \"2017-07-06\", None, \"2017-07-08\"])"
   ]
  },
  {
   "cell_type": "code",
   "execution_count": 12,
   "id": "3487ff68-d0bc-46f0-bf1c-b9997b526023",
   "metadata": {},
   "outputs": [
    {
     "data": {
      "text/plain": [
       "DatetimeIndex(['2017-07-05', '2017-07-06', 'NaT', '2017-07-08'], dtype='datetime64[ns]', freq=None)"
      ]
     },
     "execution_count": 12,
     "metadata": {},
     "output_type": "execute_result"
    }
   ],
   "source": [
    "index"
   ]
  },
  {
   "cell_type": "markdown",
   "id": "7819efcb-97c6-4a41-928a-54cc39c89b6e",
   "metadata": {},
   "source": [
    "For datetime64[ns] types, NaT represents missing values. This is a pseudo-native sentinel value that can be represented by NumPy in a singular dtype (datetime64[ns]). pandas objects provide compatibility between NaT and NaN."
   ]
  },
  {
   "cell_type": "code",
   "execution_count": 13,
   "id": "d3363a00-85c4-4e68-bfeb-46380042ce49",
   "metadata": {},
   "outputs": [
    {
     "data": {
      "text/plain": [
       "array([False, False,  True, False])"
      ]
     },
     "execution_count": 13,
     "metadata": {},
     "output_type": "execute_result"
    }
   ],
   "source": [
    "pd.isna(index)"
   ]
  },
  {
   "cell_type": "markdown",
   "id": "6810a469-b4c2-4e68-a2e3-f6d2b524bf74",
   "metadata": {},
   "source": [
    "For Series and DataFrame, the same type is returned, containing booleans."
   ]
  },
  {
   "cell_type": "code",
   "execution_count": 14,
   "id": "0f915270-e410-40a8-8cae-f246cbc69eb5",
   "metadata": {},
   "outputs": [],
   "source": [
    "df = pd.DataFrame([['ant', 'bee', 'cat'], ['dog', None, 'fly']])"
   ]
  },
  {
   "cell_type": "code",
   "execution_count": 15,
   "id": "73deef8d-0317-44ee-bc7a-bcc8ca535cf8",
   "metadata": {},
   "outputs": [
    {
     "data": {
      "text/html": [
       "<div>\n",
       "<style scoped>\n",
       "    .dataframe tbody tr th:only-of-type {\n",
       "        vertical-align: middle;\n",
       "    }\n",
       "\n",
       "    .dataframe tbody tr th {\n",
       "        vertical-align: top;\n",
       "    }\n",
       "\n",
       "    .dataframe thead th {\n",
       "        text-align: right;\n",
       "    }\n",
       "</style>\n",
       "<table border=\"1\" class=\"dataframe\">\n",
       "  <thead>\n",
       "    <tr style=\"text-align: right;\">\n",
       "      <th></th>\n",
       "      <th>0</th>\n",
       "      <th>1</th>\n",
       "      <th>2</th>\n",
       "    </tr>\n",
       "  </thead>\n",
       "  <tbody>\n",
       "    <tr>\n",
       "      <th>0</th>\n",
       "      <td>ant</td>\n",
       "      <td>bee</td>\n",
       "      <td>cat</td>\n",
       "    </tr>\n",
       "    <tr>\n",
       "      <th>1</th>\n",
       "      <td>dog</td>\n",
       "      <td>None</td>\n",
       "      <td>fly</td>\n",
       "    </tr>\n",
       "  </tbody>\n",
       "</table>\n",
       "</div>"
      ],
      "text/plain": [
       "     0     1    2\n",
       "0  ant   bee  cat\n",
       "1  dog  None  fly"
      ]
     },
     "execution_count": 15,
     "metadata": {},
     "output_type": "execute_result"
    }
   ],
   "source": [
    "df"
   ]
  },
  {
   "cell_type": "code",
   "execution_count": 16,
   "id": "0e623a57-ff6c-4bb2-81a6-41e146c1b005",
   "metadata": {},
   "outputs": [
    {
     "data": {
      "text/html": [
       "<div>\n",
       "<style scoped>\n",
       "    .dataframe tbody tr th:only-of-type {\n",
       "        vertical-align: middle;\n",
       "    }\n",
       "\n",
       "    .dataframe tbody tr th {\n",
       "        vertical-align: top;\n",
       "    }\n",
       "\n",
       "    .dataframe thead th {\n",
       "        text-align: right;\n",
       "    }\n",
       "</style>\n",
       "<table border=\"1\" class=\"dataframe\">\n",
       "  <thead>\n",
       "    <tr style=\"text-align: right;\">\n",
       "      <th></th>\n",
       "      <th>0</th>\n",
       "      <th>1</th>\n",
       "      <th>2</th>\n",
       "    </tr>\n",
       "  </thead>\n",
       "  <tbody>\n",
       "    <tr>\n",
       "      <th>0</th>\n",
       "      <td>False</td>\n",
       "      <td>False</td>\n",
       "      <td>False</td>\n",
       "    </tr>\n",
       "    <tr>\n",
       "      <th>1</th>\n",
       "      <td>False</td>\n",
       "      <td>True</td>\n",
       "      <td>False</td>\n",
       "    </tr>\n",
       "  </tbody>\n",
       "</table>\n",
       "</div>"
      ],
      "text/plain": [
       "       0      1      2\n",
       "0  False  False  False\n",
       "1  False   True  False"
      ]
     },
     "execution_count": 16,
     "metadata": {},
     "output_type": "execute_result"
    }
   ],
   "source": [
    "pd.isna(df)"
   ]
  },
  {
   "cell_type": "code",
   "execution_count": 17,
   "id": "d0e62a9b-0f7f-4e91-aece-e83123cd792d",
   "metadata": {},
   "outputs": [
    {
     "data": {
      "text/plain": [
       "0    False\n",
       "1     True\n",
       "Name: 1, dtype: bool"
      ]
     },
     "execution_count": 17,
     "metadata": {},
     "output_type": "execute_result"
    }
   ],
   "source": [
    "pd.isna(df[1])"
   ]
  },
  {
   "cell_type": "markdown",
   "id": "2aea32fe-00c6-4ef2-9314-b8c1389e9bc1",
   "metadata": {},
   "source": [
    "# Handling missing values\n",
    "\n",
    "Missing values and NANs are commonplace occurrences in a dataset and need to be taken care of before data can be put to any use. We will look into various sources of missing values and the different types, as well as how to handle them in the upcoming sections.\n",
    "\n",
    "## Sources of missing values\n",
    "A missing value can enter a dataset because of or during the following processes.\n",
    "\n",
    "### Data extraction\n",
    "This entails the data that's available but we missed during its extraction from a source. It deals with engineering tasks such as the following:\n",
    "\n",
    "- Scraping from a website\n",
    "- Querying from a database\n",
    "- Extracting from flat files\n",
    "\n",
    "There can be many sources of missing values, some of which are as follows:\n",
    "\n",
    "- Regular expressions resulting in the wrong or non-unique results\n",
    "- Wrong query\n",
    "- A different data type storage\n",
    "- Incomplete download\n",
    "- Incomplete processing\n",
    "\n",
    "### Data collection\n",
    "This entails the data points that are not available or are difficult to collect. Suppose you are surveying 100,000 people for the type of electric car they own. In this case, if we encounter someone who doesn't own an electric car, we would have a missing value for that person's car type.\n",
    "\n",
    "Missing values originating because of data extraction, in theory, can be rectified if we are able to identify the issue that led to the missing value and rerun the extraction process. Missing values originating from data collection issues are difficult to rectify.\n",
    "\n",
    "How do you know your data has missing values? The easiest way to find this out is to run a summary of the dataset, which gives a count of rows as well. Since the rows containing missing values don't get counted, this count will be lower for columns containing a missing value. Take a look at the following diagram, which shows a summary of the famous titanic dataset, for an illustration of this:\n",
    "\n"
   ]
  },
  {
   "cell_type": "code",
   "execution_count": 19,
   "id": "ec625cda-aee7-4459-97fb-57543b05bef1",
   "metadata": {},
   "outputs": [],
   "source": [
    "titanic = pd.read_csv('../../Data/titanic.csv')"
   ]
  },
  {
   "cell_type": "code",
   "execution_count": 21,
   "id": "0381c58c-2447-4a65-9a36-5e8815750050",
   "metadata": {},
   "outputs": [
    {
     "data": {
      "text/html": [
       "<div>\n",
       "<style scoped>\n",
       "    .dataframe tbody tr th:only-of-type {\n",
       "        vertical-align: middle;\n",
       "    }\n",
       "\n",
       "    .dataframe tbody tr th {\n",
       "        vertical-align: top;\n",
       "    }\n",
       "\n",
       "    .dataframe thead th {\n",
       "        text-align: right;\n",
       "    }\n",
       "</style>\n",
       "<table border=\"1\" class=\"dataframe\">\n",
       "  <thead>\n",
       "    <tr style=\"text-align: right;\">\n",
       "      <th></th>\n",
       "      <th>pclass</th>\n",
       "      <th>survived</th>\n",
       "      <th>age</th>\n",
       "      <th>sibsp</th>\n",
       "      <th>parch</th>\n",
       "      <th>fare</th>\n",
       "      <th>body</th>\n",
       "    </tr>\n",
       "  </thead>\n",
       "  <tbody>\n",
       "    <tr>\n",
       "      <th>count</th>\n",
       "      <td>1309.000000</td>\n",
       "      <td>1309.000000</td>\n",
       "      <td>1046.000000</td>\n",
       "      <td>1309.000000</td>\n",
       "      <td>1309.000000</td>\n",
       "      <td>1308.000000</td>\n",
       "      <td>121.000000</td>\n",
       "    </tr>\n",
       "    <tr>\n",
       "      <th>mean</th>\n",
       "      <td>2.294882</td>\n",
       "      <td>0.381971</td>\n",
       "      <td>29.881135</td>\n",
       "      <td>0.498854</td>\n",
       "      <td>0.385027</td>\n",
       "      <td>33.295479</td>\n",
       "      <td>160.809917</td>\n",
       "    </tr>\n",
       "    <tr>\n",
       "      <th>std</th>\n",
       "      <td>0.837836</td>\n",
       "      <td>0.486055</td>\n",
       "      <td>14.413500</td>\n",
       "      <td>1.041658</td>\n",
       "      <td>0.865560</td>\n",
       "      <td>51.758668</td>\n",
       "      <td>97.696922</td>\n",
       "    </tr>\n",
       "    <tr>\n",
       "      <th>min</th>\n",
       "      <td>1.000000</td>\n",
       "      <td>0.000000</td>\n",
       "      <td>0.166700</td>\n",
       "      <td>0.000000</td>\n",
       "      <td>0.000000</td>\n",
       "      <td>0.000000</td>\n",
       "      <td>1.000000</td>\n",
       "    </tr>\n",
       "    <tr>\n",
       "      <th>25%</th>\n",
       "      <td>2.000000</td>\n",
       "      <td>0.000000</td>\n",
       "      <td>21.000000</td>\n",
       "      <td>0.000000</td>\n",
       "      <td>0.000000</td>\n",
       "      <td>7.895800</td>\n",
       "      <td>72.000000</td>\n",
       "    </tr>\n",
       "    <tr>\n",
       "      <th>50%</th>\n",
       "      <td>3.000000</td>\n",
       "      <td>0.000000</td>\n",
       "      <td>28.000000</td>\n",
       "      <td>0.000000</td>\n",
       "      <td>0.000000</td>\n",
       "      <td>14.454200</td>\n",
       "      <td>155.000000</td>\n",
       "    </tr>\n",
       "    <tr>\n",
       "      <th>75%</th>\n",
       "      <td>3.000000</td>\n",
       "      <td>1.000000</td>\n",
       "      <td>39.000000</td>\n",
       "      <td>1.000000</td>\n",
       "      <td>0.000000</td>\n",
       "      <td>31.275000</td>\n",
       "      <td>256.000000</td>\n",
       "    </tr>\n",
       "    <tr>\n",
       "      <th>max</th>\n",
       "      <td>3.000000</td>\n",
       "      <td>1.000000</td>\n",
       "      <td>80.000000</td>\n",
       "      <td>8.000000</td>\n",
       "      <td>9.000000</td>\n",
       "      <td>512.329200</td>\n",
       "      <td>328.000000</td>\n",
       "    </tr>\n",
       "  </tbody>\n",
       "</table>\n",
       "</div>"
      ],
      "text/plain": [
       "            pclass     survived          age        sibsp        parch  \\\n",
       "count  1309.000000  1309.000000  1046.000000  1309.000000  1309.000000   \n",
       "mean      2.294882     0.381971    29.881135     0.498854     0.385027   \n",
       "std       0.837836     0.486055    14.413500     1.041658     0.865560   \n",
       "min       1.000000     0.000000     0.166700     0.000000     0.000000   \n",
       "25%       2.000000     0.000000    21.000000     0.000000     0.000000   \n",
       "50%       3.000000     0.000000    28.000000     0.000000     0.000000   \n",
       "75%       3.000000     1.000000    39.000000     1.000000     0.000000   \n",
       "max       3.000000     1.000000    80.000000     8.000000     9.000000   \n",
       "\n",
       "              fare        body  \n",
       "count  1308.000000  121.000000  \n",
       "mean     33.295479  160.809917  \n",
       "std      51.758668   97.696922  \n",
       "min       0.000000    1.000000  \n",
       "25%       7.895800   72.000000  \n",
       "50%      14.454200  155.000000  \n",
       "75%      31.275000  256.000000  \n",
       "max     512.329200  328.000000  "
      ]
     },
     "execution_count": 21,
     "metadata": {},
     "output_type": "execute_result"
    }
   ],
   "source": [
    "titanic.describe()"
   ]
  },
  {
   "cell_type": "markdown",
   "id": "9e8fcc67-f37c-4631-bc86-044d389a2c1b",
   "metadata": {},
   "source": [
    "The age and body columns have missing values as they have fewer rows than the others.\n",
    "\n",
    "It is of prime importance to take care of missing values because they propagate the missing values to the results of numeric operations and can lead to incorrect interpretations of data. They don't allow many numeric computations to run. They may also lead to an incorrect hypothesis if only a sample of the data gets used.\n",
    "\n",
    "There are other ways in which the origin of missing values can be classified. Let's go over them now."
   ]
  },
  {
   "cell_type": "code",
   "execution_count": 23,
   "id": "84b85c8c-bf99-4c02-a854-d8816bcd15fb",
   "metadata": {},
   "outputs": [
    {
     "data": {
      "text/plain": [
       "pclass          1\n",
       "survived        1\n",
       "name            1\n",
       "sex             1\n",
       "age           264\n",
       "sibsp           1\n",
       "parch           1\n",
       "ticket          1\n",
       "fare            2\n",
       "cabin        1015\n",
       "embarked        3\n",
       "boat          824\n",
       "body         1189\n",
       "home.dest     565\n",
       "dtype: int64"
      ]
     },
     "execution_count": 23,
     "metadata": {},
     "output_type": "execute_result"
    }
   ],
   "source": [
    "titanic.isnull().sum()"
   ]
  },
  {
   "cell_type": "markdown",
   "id": "84bc967c-8855-46a7-8cdd-d6ce492d2758",
   "metadata": {},
   "source": [
    "## Different types of missing values\n",
    "The following are different types of missing values:\n",
    "\n",
    "- **Not a Number (NaN):** NaN is a placeholder for missing values for any data type. These can be created using numpy.nan. NaNs that are created using numpy.nan can be assigned to a nullable integer datatype. The missing value of an integer type is saved as a NaN. It is the default identifier of a missing value in Python.\n",
    "\n",
    "- **NA:** NA comes mostly from R, where NA is an identifier for a missing value.\n",
    "- **NaT:** This is equivalent to a NaN for timestamp data points.\n",
    "- **None:** This represents missing values of data types other than numeric.\n",
    "- **Null:** This originates when a function doesn't return a value or if the value is undefined.\n",
    "- **Inf:** Inf is infinity—a value that is greater than any other value. inf is, therefore, smaller than any other value. It is generated by all the calculations, leading to very large or very small values. Often, we need to treat inf as a missing value. This can be done by specifying the following options in pandas:\n",
    "\n",
    "pandas.options.mode.use_inf_as_na = True\n",
    "\n",
    "A placeholder infinity variable can also be generated for comparison purposes, as shown in the following example:\n",
    "\n",
    "import math\n",
    "test = math.inf\n",
    "test>pow(10,10) #Comparing whether Inf is larger than 10 to the power 10\n",
    "It returns True."
   ]
  },
  {
   "cell_type": "markdown",
   "id": "5e87fa87-6f08-45ae-b9f6-340a71f4b82f",
   "metadata": {},
   "source": [
    "## Miscellaneous analysis of missing values\n",
    "To get a sense of how mad the missing value problem is, you may want to find out about the following information:\n",
    "\n",
    "- How many cells in a column have a missing value\n",
    "- Which cells in a column have a missing value\n",
    "- How many columns have missing values\n",
    "\n",
    "These tasks can be performed as follows:\n",
    "    \n",
    "```python\n",
    "pd.isnull(data['body']) #returns TRUE if a cell has missing values\n",
    "pd.notnull(data['body']) #returns TRUE if a cell doesn't have missing values\n",
    "```\n",
    "\n",
    "Finding cells that have missing values:\n",
    "\n",
    "```python\n",
    "pd.isnull(data['body']).values.ravel().sum() #returns the total number of missing values\n",
    "pd.nottnull(data['body']).values.ravel().sum()#returns the total number of non-missing values\n",
    "```"
   ]
  },
  {
   "cell_type": "code",
   "execution_count": 25,
   "id": "f68c548f-a83b-43f8-9375-1b8777876542",
   "metadata": {},
   "outputs": [
    {
     "data": {
      "text/plain": [
       "264"
      ]
     },
     "execution_count": 25,
     "metadata": {},
     "output_type": "execute_result"
    }
   ],
   "source": [
    "pd.isnull(titanic['age']).values.ravel().sum()"
   ]
  },
  {
   "cell_type": "code",
   "execution_count": 26,
   "id": "6e579dcf-d310-4ebd-817c-848d24405bda",
   "metadata": {},
   "outputs": [
    {
     "data": {
      "text/plain": [
       "1046"
      ]
     },
     "execution_count": 26,
     "metadata": {},
     "output_type": "execute_result"
    }
   ],
   "source": [
    "pd.notnull(titanic['age']).values.ravel().sum()"
   ]
  },
  {
   "cell_type": "markdown",
   "id": "094984cf-c092-4b70-af03-ad70d4485d57",
   "metadata": {},
   "source": [
    "## Strategies for handling missing values\n",
    "The following are the major strategies for handling missing values.\n",
    "\n",
    "### Deletion\n",
    "This will delete the entire row or column that contains the missing value.\n",
    "\n",
    "Deletion leads to data loss and is not recommended unless there is no other way out.\n",
    "\n",
    "Deletion can be performed as follows:\n",
    "\n",
    "Dropping all the rows where all the cells have missing values:\n",
    "\n",
    "```python\n",
    "data.dropna(axis=0,how='all')# axis=0 means along rows\n",
    "```\n",
    "\n",
    "Dropping all the rows where any of the cells have missing values:\n",
    "\n",
    "```python\n",
    "data.dropna(axis=0,how='any')\n",
    "```"
   ]
  },
  {
   "cell_type": "markdown",
   "id": "e9e7b11f-bdc0-43b2-8a10-ede33e8a46b3",
   "metadata": {},
   "source": [
    "## Imputation\n",
    "This replaces the missing value with a number that makes sense.\n",
    "\n",
    "There are various ways in which imputation can be performed. Some of them are as follows:\n",
    "\n",
    "Imputing all the missing values in a dataset with 0:\n",
    "```python\n",
    "data.fillna(0)\n",
    "```\n",
    "Imputing all the missing values with specified text:\n",
    "```python\n",
    "data.fillna('text')\n",
    "```\n",
    "Imputing only the missing values in the body column with 0:\n",
    "```python\n",
    "data['body'].fillna(0)\n",
    "```\n",
    "Imputing with a mean of non-missing values:\n",
    "```python\n",
    "data['age'].fillna(data['age'].mean())\n",
    "```\n",
    "Imputing with a forward fill – this works especially well for time series data. Here, a missing value is replaced with the value in the previous row (period):\n",
    "```python\n",
    "data['age'].fillna(method='ffill')\n",
    "```\n"
   ]
  },
  {
   "cell_type": "code",
   "execution_count": null,
   "id": "d0579865-301b-40b6-a76d-094e685fd264",
   "metadata": {},
   "outputs": [],
   "source": []
  }
 ],
 "metadata": {
  "kernelspec": {
   "display_name": "Python 3 (ipykernel)",
   "language": "python",
   "name": "python3"
  },
  "language_info": {
   "codemirror_mode": {
    "name": "ipython",
    "version": 3
   },
   "file_extension": ".py",
   "mimetype": "text/x-python",
   "name": "python",
   "nbconvert_exporter": "python",
   "pygments_lexer": "ipython3",
   "version": "3.9.10"
  }
 },
 "nbformat": 4,
 "nbformat_minor": 5
}
