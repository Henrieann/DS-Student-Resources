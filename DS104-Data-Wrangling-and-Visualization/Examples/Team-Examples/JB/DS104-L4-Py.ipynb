{
 "cells": [
  {
   "cell_type": "markdown",
   "id": "3b83c8f1-4de7-4795-9ad8-ea3e0c979e3f",
   "metadata": {},
   "source": [
    "# DS0104 Python"
   ]
  },
  {
   "cell_type": "markdown",
   "id": "f9fb9e99-2709-4809-b291-b1363abd5220",
   "metadata": {},
   "source": [
    "# Import Packages"
   ]
  },
  {
   "cell_type": "code",
   "execution_count": 1,
   "id": "48abdcb2-c9e8-4c0a-99fc-dca5fc3fb2f8",
   "metadata": {},
   "outputs": [],
   "source": [
    "import pandas as pd"
   ]
  },
  {
   "cell_type": "markdown",
   "id": "a307b17c-70f8-4d73-84a0-4ebfcd725398",
   "metadata": {},
   "source": [
    "# Import Datasets"
   ]
  },
  {
   "cell_type": "code",
   "execution_count": 2,
   "id": "a3aec04f-b9a1-4606-b73d-298753d3c34f",
   "metadata": {},
   "outputs": [],
   "source": [
    "P1 = pd.read_csv(\"/Users/julieraeboucher/Desktop/Hi/WozU /Datasets/DS104-L4/DS_1.csv\")\n",
    "P2 = pd.read_csv(\"/Users/julieraeboucher/Desktop/Hi/WozU /Datasets/DS104-L4/DS_2.csv\")\n",
    "P3 = pd.read_csv(\"/Users/julieraeboucher/Desktop/Hi/WozU /Datasets/DS104-L4/DS_3.csv\")\n",
    "P4 = pd.read_csv(\"/Users/julieraeboucher/Desktop/Hi/WozU /Datasets/DS104-L4/DS_4.csv\")\n",
    "P5 = pd.read_csv(\"/Users/julieraeboucher/Desktop/Hi/WozU /Datasets/DS104-L4/DS_5.csv\")"
   ]
  },
  {
   "cell_type": "markdown",
   "id": "6ff737c2-e780-419b-8ad1-f2e7e28a572e",
   "metadata": {},
   "source": [
    "# Part 1\n",
    "### Here's a listing of the number of power boats registered in Florida (in the 1000's) for each year, 35 years worth of data. Tinker with the settings until you have created a histogram with 7 bars."
   ]
  },
  {
   "cell_type": "code",
   "execution_count": 3,
   "id": "35e4cc7d-8a42-4ed0-a20d-2ca497de3567",
   "metadata": {},
   "outputs": [
    {
     "data": {
      "text/html": [
       "<div>\n",
       "<style scoped>\n",
       "    .dataframe tbody tr th:only-of-type {\n",
       "        vertical-align: middle;\n",
       "    }\n",
       "\n",
       "    .dataframe tbody tr th {\n",
       "        vertical-align: top;\n",
       "    }\n",
       "\n",
       "    .dataframe thead th {\n",
       "        text-align: right;\n",
       "    }\n",
       "</style>\n",
       "<table border=\"1\" class=\"dataframe\">\n",
       "  <thead>\n",
       "    <tr style=\"text-align: right;\">\n",
       "      <th></th>\n",
       "      <th>Power Boats (in 1000's)</th>\n",
       "    </tr>\n",
       "  </thead>\n",
       "  <tbody>\n",
       "    <tr>\n",
       "      <th>0</th>\n",
       "      <td>436</td>\n",
       "    </tr>\n",
       "    <tr>\n",
       "      <th>1</th>\n",
       "      <td>449</td>\n",
       "    </tr>\n",
       "    <tr>\n",
       "      <th>2</th>\n",
       "      <td>470</td>\n",
       "    </tr>\n",
       "    <tr>\n",
       "      <th>3</th>\n",
       "      <td>487</td>\n",
       "    </tr>\n",
       "    <tr>\n",
       "      <th>4</th>\n",
       "      <td>502</td>\n",
       "    </tr>\n",
       "  </tbody>\n",
       "</table>\n",
       "</div>"
      ],
      "text/plain": [
       "   Power Boats (in 1000's)\n",
       "0                      436\n",
       "1                      449\n",
       "2                      470\n",
       "3                      487\n",
       "4                      502"
      ]
     },
     "execution_count": 3,
     "metadata": {},
     "output_type": "execute_result"
    }
   ],
   "source": [
    "P1.head()"
   ]
  },
  {
   "cell_type": "code",
   "execution_count": null,
   "id": "a7fe5612-5778-4812-9de1-e7f7470e9c3e",
   "metadata": {},
   "outputs": [],
   "source": []
  },
  {
   "cell_type": "code",
   "execution_count": null,
   "id": "8e518f11-807a-4e7b-9c59-d5432b25dc04",
   "metadata": {},
   "outputs": [],
   "source": []
  },
  {
   "cell_type": "code",
   "execution_count": null,
   "id": "4210762d-4a21-4768-a633-5aa841062e2b",
   "metadata": {},
   "outputs": [],
   "source": []
  },
  {
   "cell_type": "markdown",
   "id": "95f75f8f-71e7-4f09-865e-792f739c01e3",
   "metadata": {},
   "source": [
    "# Part 2\n",
    "### Use the following data to create a bar graph."
   ]
  },
  {
   "cell_type": "code",
   "execution_count": 4,
   "id": "555d6d95-5a7b-467d-b521-232477401623",
   "metadata": {},
   "outputs": [
    {
     "data": {
      "text/html": [
       "<div>\n",
       "<style scoped>\n",
       "    .dataframe tbody tr th:only-of-type {\n",
       "        vertical-align: middle;\n",
       "    }\n",
       "\n",
       "    .dataframe tbody tr th {\n",
       "        vertical-align: top;\n",
       "    }\n",
       "\n",
       "    .dataframe thead th {\n",
       "        text-align: right;\n",
       "    }\n",
       "</style>\n",
       "<table border=\"1\" class=\"dataframe\">\n",
       "  <thead>\n",
       "    <tr style=\"text-align: right;\">\n",
       "      <th></th>\n",
       "      <th>Cars</th>\n",
       "    </tr>\n",
       "  </thead>\n",
       "  <tbody>\n",
       "    <tr>\n",
       "      <th>0</th>\n",
       "      <td>Mitsubishi</td>\n",
       "    </tr>\n",
       "    <tr>\n",
       "      <th>1</th>\n",
       "      <td>Mitsubishi</td>\n",
       "    </tr>\n",
       "    <tr>\n",
       "      <th>2</th>\n",
       "      <td>Dodge</td>\n",
       "    </tr>\n",
       "    <tr>\n",
       "      <th>3</th>\n",
       "      <td>Mitsubishi</td>\n",
       "    </tr>\n",
       "    <tr>\n",
       "      <th>4</th>\n",
       "      <td>Dodge</td>\n",
       "    </tr>\n",
       "  </tbody>\n",
       "</table>\n",
       "</div>"
      ],
      "text/plain": [
       "         Cars\n",
       "0  Mitsubishi\n",
       "1  Mitsubishi\n",
       "2       Dodge\n",
       "3  Mitsubishi\n",
       "4       Dodge"
      ]
     },
     "execution_count": 4,
     "metadata": {},
     "output_type": "execute_result"
    }
   ],
   "source": [
    "P2.head()"
   ]
  },
  {
   "cell_type": "code",
   "execution_count": null,
   "id": "13bff3ff-1785-444d-8f5a-1000c39f4a3f",
   "metadata": {},
   "outputs": [],
   "source": []
  },
  {
   "cell_type": "code",
   "execution_count": null,
   "id": "30f08e3d-e3c6-41e3-aed4-c9c966a5767d",
   "metadata": {},
   "outputs": [],
   "source": []
  },
  {
   "cell_type": "code",
   "execution_count": null,
   "id": "80d5993e-dfd4-4ff5-bfa0-b2964fec067a",
   "metadata": {},
   "outputs": [],
   "source": []
  },
  {
   "cell_type": "markdown",
   "id": "ae1da471-ff05-45d7-af33-8ff3676c059f",
   "metadata": {},
   "source": [
    "# Part 3\n",
    "### Use the following data to create a stacked bar chart using either Python or R."
   ]
  },
  {
   "cell_type": "code",
   "execution_count": 5,
   "id": "e7c38056-eb8e-4c46-b801-062b6b3ae477",
   "metadata": {},
   "outputs": [
    {
     "data": {
      "text/html": [
       "<div>\n",
       "<style scoped>\n",
       "    .dataframe tbody tr th:only-of-type {\n",
       "        vertical-align: middle;\n",
       "    }\n",
       "\n",
       "    .dataframe tbody tr th {\n",
       "        vertical-align: top;\n",
       "    }\n",
       "\n",
       "    .dataframe thead th {\n",
       "        text-align: right;\n",
       "    }\n",
       "</style>\n",
       "<table border=\"1\" class=\"dataframe\">\n",
       "  <thead>\n",
       "    <tr style=\"text-align: right;\">\n",
       "      <th></th>\n",
       "      <th>Car</th>\n",
       "      <th>Location</th>\n",
       "    </tr>\n",
       "  </thead>\n",
       "  <tbody>\n",
       "    <tr>\n",
       "      <th>0</th>\n",
       "      <td>Ford</td>\n",
       "      <td>Northwest</td>\n",
       "    </tr>\n",
       "    <tr>\n",
       "      <th>1</th>\n",
       "      <td>Ford</td>\n",
       "      <td>East</td>\n",
       "    </tr>\n",
       "    <tr>\n",
       "      <th>2</th>\n",
       "      <td>Mitsubishi</td>\n",
       "      <td>Northwest</td>\n",
       "    </tr>\n",
       "    <tr>\n",
       "      <th>3</th>\n",
       "      <td>Datsun</td>\n",
       "      <td>Northwest</td>\n",
       "    </tr>\n",
       "    <tr>\n",
       "      <th>4</th>\n",
       "      <td>Mitsubishi</td>\n",
       "      <td>Southwest</td>\n",
       "    </tr>\n",
       "  </tbody>\n",
       "</table>\n",
       "</div>"
      ],
      "text/plain": [
       "          Car   Location\n",
       "0        Ford  Northwest\n",
       "1        Ford       East\n",
       "2  Mitsubishi  Northwest\n",
       "3      Datsun  Northwest\n",
       "4  Mitsubishi  Southwest"
      ]
     },
     "execution_count": 5,
     "metadata": {},
     "output_type": "execute_result"
    }
   ],
   "source": [
    "P3.head()"
   ]
  },
  {
   "cell_type": "code",
   "execution_count": null,
   "id": "a35f6678-5a85-4db7-ac09-b194724b8366",
   "metadata": {},
   "outputs": [],
   "source": []
  },
  {
   "cell_type": "code",
   "execution_count": null,
   "id": "addfdf76-6f85-4b2a-b34c-80c8d49e262e",
   "metadata": {},
   "outputs": [],
   "source": []
  },
  {
   "cell_type": "code",
   "execution_count": null,
   "id": "d35705c4-e2dd-40d5-a188-138a79cb79e8",
   "metadata": {},
   "outputs": [],
   "source": []
  },
  {
   "cell_type": "markdown",
   "id": "41af72ce-e1a1-498c-9ace-35b120421a91",
   "metadata": {},
   "source": [
    "# Part 4\n",
    "### The following dataset contains data for estuarine crocodiles, recording their head length and body length. Visualize the data with a clearly labeled scatter plot."
   ]
  },
  {
   "cell_type": "code",
   "execution_count": 6,
   "id": "f50e0c99-483b-49cb-9bc8-adde841fed9f",
   "metadata": {},
   "outputs": [
    {
     "data": {
      "text/html": [
       "<div>\n",
       "<style scoped>\n",
       "    .dataframe tbody tr th:only-of-type {\n",
       "        vertical-align: middle;\n",
       "    }\n",
       "\n",
       "    .dataframe tbody tr th {\n",
       "        vertical-align: top;\n",
       "    }\n",
       "\n",
       "    .dataframe thead th {\n",
       "        text-align: right;\n",
       "    }\n",
       "</style>\n",
       "<table border=\"1\" class=\"dataframe\">\n",
       "  <thead>\n",
       "    <tr style=\"text-align: right;\">\n",
       "      <th></th>\n",
       "      <th>CommonName</th>\n",
       "      <th>HeadLength</th>\n",
       "      <th>BodyLength</th>\n",
       "    </tr>\n",
       "  </thead>\n",
       "  <tbody>\n",
       "    <tr>\n",
       "      <th>0</th>\n",
       "      <td>Estuarine Crocodile</td>\n",
       "      <td>24</td>\n",
       "      <td>161</td>\n",
       "    </tr>\n",
       "    <tr>\n",
       "      <th>1</th>\n",
       "      <td>Estuarine Crocodile</td>\n",
       "      <td>24</td>\n",
       "      <td>179</td>\n",
       "    </tr>\n",
       "    <tr>\n",
       "      <th>2</th>\n",
       "      <td>Estuarine Crocodile</td>\n",
       "      <td>32</td>\n",
       "      <td>226</td>\n",
       "    </tr>\n",
       "    <tr>\n",
       "      <th>3</th>\n",
       "      <td>Estuarine Crocodile</td>\n",
       "      <td>35</td>\n",
       "      <td>259</td>\n",
       "    </tr>\n",
       "    <tr>\n",
       "      <th>4</th>\n",
       "      <td>Estuarine Crocodile</td>\n",
       "      <td>40</td>\n",
       "      <td>287</td>\n",
       "    </tr>\n",
       "  </tbody>\n",
       "</table>\n",
       "</div>"
      ],
      "text/plain": [
       "            CommonName  HeadLength  BodyLength\n",
       "0  Estuarine Crocodile          24         161\n",
       "1  Estuarine Crocodile          24         179\n",
       "2  Estuarine Crocodile          32         226\n",
       "3  Estuarine Crocodile          35         259\n",
       "4  Estuarine Crocodile          40         287"
      ]
     },
     "execution_count": 6,
     "metadata": {},
     "output_type": "execute_result"
    }
   ],
   "source": [
    "P4.head()"
   ]
  },
  {
   "cell_type": "code",
   "execution_count": null,
   "id": "386700a6-4546-4b97-858e-dcc40405faa9",
   "metadata": {},
   "outputs": [],
   "source": []
  },
  {
   "cell_type": "code",
   "execution_count": null,
   "id": "c92e4ba5-961d-45f3-888c-d4231fdb6d9b",
   "metadata": {},
   "outputs": [],
   "source": []
  },
  {
   "cell_type": "code",
   "execution_count": null,
   "id": "373b3513-6396-4f70-91a0-1af76bf22355",
   "metadata": {},
   "outputs": [],
   "source": []
  },
  {
   "cell_type": "markdown",
   "id": "d47be5e0-8b85-46bf-ab3b-eb37d4a5a4ad",
   "metadata": {},
   "source": [
    "# Part 5\n",
    "### Here's data tracking heart attacks treated at a hospital chain in a large US city. Use this data to create a line chart. Be sure to label the graph, and label both axes."
   ]
  },
  {
   "cell_type": "code",
   "execution_count": 7,
   "id": "45bc9f7d-ed4e-4d44-90b2-6e66e64f9a24",
   "metadata": {},
   "outputs": [
    {
     "data": {
      "text/html": [
       "<div>\n",
       "<style scoped>\n",
       "    .dataframe tbody tr th:only-of-type {\n",
       "        vertical-align: middle;\n",
       "    }\n",
       "\n",
       "    .dataframe tbody tr th {\n",
       "        vertical-align: top;\n",
       "    }\n",
       "\n",
       "    .dataframe thead th {\n",
       "        text-align: right;\n",
       "    }\n",
       "</style>\n",
       "<table border=\"1\" class=\"dataframe\">\n",
       "  <thead>\n",
       "    <tr style=\"text-align: right;\">\n",
       "      <th></th>\n",
       "      <th>Month</th>\n",
       "      <th>Day</th>\n",
       "      <th>Year</th>\n",
       "      <th>Heart Attacks</th>\n",
       "    </tr>\n",
       "  </thead>\n",
       "  <tbody>\n",
       "    <tr>\n",
       "      <th>0</th>\n",
       "      <td>May</td>\n",
       "      <td>1,</td>\n",
       "      <td>2003</td>\n",
       "      <td>12</td>\n",
       "    </tr>\n",
       "    <tr>\n",
       "      <th>1</th>\n",
       "      <td>May</td>\n",
       "      <td>2,</td>\n",
       "      <td>2003</td>\n",
       "      <td>12</td>\n",
       "    </tr>\n",
       "    <tr>\n",
       "      <th>2</th>\n",
       "      <td>May</td>\n",
       "      <td>3,</td>\n",
       "      <td>2003</td>\n",
       "      <td>6</td>\n",
       "    </tr>\n",
       "    <tr>\n",
       "      <th>3</th>\n",
       "      <td>May</td>\n",
       "      <td>4,</td>\n",
       "      <td>2003</td>\n",
       "      <td>16</td>\n",
       "    </tr>\n",
       "    <tr>\n",
       "      <th>4</th>\n",
       "      <td>May</td>\n",
       "      <td>5,</td>\n",
       "      <td>2003</td>\n",
       "      <td>13</td>\n",
       "    </tr>\n",
       "  </tbody>\n",
       "</table>\n",
       "</div>"
      ],
      "text/plain": [
       "  Month Day  Year  Heart Attacks\n",
       "0   May  1,  2003             12\n",
       "1   May  2,  2003             12\n",
       "2   May  3,  2003              6\n",
       "3   May  4,  2003             16\n",
       "4   May  5,  2003             13"
      ]
     },
     "execution_count": 7,
     "metadata": {},
     "output_type": "execute_result"
    }
   ],
   "source": [
    "P5.head()"
   ]
  },
  {
   "cell_type": "code",
   "execution_count": null,
   "id": "fdacf4c0-2092-48d5-8eed-ac63cc9f8ef5",
   "metadata": {},
   "outputs": [],
   "source": []
  },
  {
   "cell_type": "code",
   "execution_count": null,
   "id": "922d8b44-ad1c-4fc8-a667-1176c180e0d2",
   "metadata": {},
   "outputs": [],
   "source": []
  },
  {
   "cell_type": "code",
   "execution_count": null,
   "id": "cf73a25c-c6fa-42eb-91e4-1e1d02f2b39a",
   "metadata": {},
   "outputs": [],
   "source": []
  }
 ],
 "metadata": {
  "kernelspec": {
   "display_name": "Python 3 (ipykernel)",
   "language": "python",
   "name": "python3"
  },
  "language_info": {
   "codemirror_mode": {
    "name": "ipython",
    "version": 3
   },
   "file_extension": ".py",
   "mimetype": "text/x-python",
   "name": "python",
   "nbconvert_exporter": "python",
   "pygments_lexer": "ipython3",
   "version": "3.9.9"
  }
 },
 "nbformat": 4,
 "nbformat_minor": 5
}
