{
 "cells": [
  {
   "cell_type": "code",
   "execution_count": 1,
   "id": "bfbef32d-d1ee-4a29-8ff1-d9da726a5aa8",
   "metadata": {},
   "outputs": [
    {
     "data": {
      "text/html": [
       "\n",
       "        <iframe\n",
       "            width=\"720\"\n",
       "            height=\"480\"\n",
       "            src=\"https://player.vimeo.com/video/638719047\"\n",
       "            frameborder=\"0\"\n",
       "            allowfullscreen\n",
       "            \n",
       "        ></iframe>\n",
       "        "
      ],
      "text/plain": [
       "<IPython.lib.display.VimeoVideo at 0x1114aa880>"
      ]
     },
     "execution_count": 1,
     "metadata": {},
     "output_type": "execute_result"
    }
   ],
   "source": [
    "from IPython.display import VimeoVideo\n",
    "# Tutorial Video Name: Tableau Dual Axis Chart\n",
    "VimeoVideo('638719047', width=720, height=480)"
   ]
  },
  {
   "cell_type": "markdown",
   "id": "d78e9919-d074-4b9f-a4fe-4a00f7208360",
   "metadata": {},
   "source": [
    "https://vimeo.com/638719047"
   ]
  },
  {
   "cell_type": "code",
   "execution_count": null,
   "id": "5a315070-13db-4ba8-902f-123cceb8e1ac",
   "metadata": {},
   "outputs": [],
   "source": []
  }
 ],
 "metadata": {
  "kernelspec": {
   "display_name": "Python 3 (ipykernel)",
   "language": "python",
   "name": "python3"
  },
  "language_info": {
   "codemirror_mode": {
    "name": "ipython",
    "version": 3
   },
   "file_extension": ".py",
   "mimetype": "text/x-python",
   "name": "python",
   "nbconvert_exporter": "python",
   "pygments_lexer": "ipython3",
   "version": "3.9.9"
  }
 },
 "nbformat": 4,
 "nbformat_minor": 5
}
