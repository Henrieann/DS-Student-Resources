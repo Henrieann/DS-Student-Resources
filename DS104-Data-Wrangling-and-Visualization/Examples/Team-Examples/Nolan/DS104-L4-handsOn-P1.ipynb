{
 "cells": [
  {
   "cell_type": "markdown",
   "id": "af0c7f5b-85c9-4225-8b78-cbfdf4c8895a",
   "metadata": {},
   "source": [
    "## DS104 Data Wrangling and Viz L4 Hands On Part 1"
   ]
  },
  {
   "cell_type": "code",
   "execution_count": 1,
   "id": "17739df4-43b7-40fd-952c-899be5eb2f71",
   "metadata": {},
   "outputs": [
    {
     "data": {
      "text/html": [
       "\n",
       "        <iframe\n",
       "            width=\"720\"\n",
       "            height=\"480\"\n",
       "            src=\"https://player.vimeo.com/video/638649962\"\n",
       "            frameborder=\"0\"\n",
       "            allowfullscreen\n",
       "            \n",
       "        ></iframe>\n",
       "        "
      ],
      "text/plain": [
       "<IPython.lib.display.VimeoVideo at 0x110b28880>"
      ]
     },
     "execution_count": 1,
     "metadata": {},
     "output_type": "execute_result"
    }
   ],
   "source": [
    "from IPython.display import VimeoVideo\n",
    "# Tutorial Video Name: L4 HandsOn Part 1\n",
    "VimeoVideo('638649962', width=720, height=480)"
   ]
  },
  {
   "cell_type": "markdown",
   "id": "ba3a274e-e6d2-4710-813b-c08e7c0bbcfe",
   "metadata": {},
   "source": [
    "https://vimeo.com/638649962"
   ]
  },
  {
   "cell_type": "code",
   "execution_count": 1,
   "id": "41e5925c-a435-4521-9032-ac960a9d8d62",
   "metadata": {},
   "outputs": [],
   "source": [
    "## import packages\n",
    "import pandas as pd\n",
    "import matplotlib.mlab as mlab\n",
    "import matplotlib.pyplot as plt\n",
    "import seaborn as sns"
   ]
  },
  {
   "cell_type": "code",
   "execution_count": 2,
   "id": "e855ec79-6efd-477d-8ac7-dd0799c07daf",
   "metadata": {},
   "outputs": [],
   "source": [
    "data = pd.read_csv(\"../../../Data/L3P1.csv\")"
   ]
  },
  {
   "cell_type": "code",
   "execution_count": 3,
   "id": "9633c430-3953-445d-a0f4-616a6e05c6d5",
   "metadata": {},
   "outputs": [
    {
     "data": {
      "text/html": [
       "<div>\n",
       "<style scoped>\n",
       "    .dataframe tbody tr th:only-of-type {\n",
       "        vertical-align: middle;\n",
       "    }\n",
       "\n",
       "    .dataframe tbody tr th {\n",
       "        vertical-align: top;\n",
       "    }\n",
       "\n",
       "    .dataframe thead th {\n",
       "        text-align: right;\n",
       "    }\n",
       "</style>\n",
       "<table border=\"1\" class=\"dataframe\">\n",
       "  <thead>\n",
       "    <tr style=\"text-align: right;\">\n",
       "      <th></th>\n",
       "      <th>Power Boats (in 1000's)</th>\n",
       "    </tr>\n",
       "  </thead>\n",
       "  <tbody>\n",
       "    <tr>\n",
       "      <th>0</th>\n",
       "      <td>436</td>\n",
       "    </tr>\n",
       "    <tr>\n",
       "      <th>1</th>\n",
       "      <td>449</td>\n",
       "    </tr>\n",
       "    <tr>\n",
       "      <th>2</th>\n",
       "      <td>470</td>\n",
       "    </tr>\n",
       "    <tr>\n",
       "      <th>3</th>\n",
       "      <td>487</td>\n",
       "    </tr>\n",
       "    <tr>\n",
       "      <th>4</th>\n",
       "      <td>502</td>\n",
       "    </tr>\n",
       "  </tbody>\n",
       "</table>\n",
       "</div>"
      ],
      "text/plain": [
       "   Power Boats (in 1000's)\n",
       "0                      436\n",
       "1                      449\n",
       "2                      470\n",
       "3                      487\n",
       "4                      502"
      ]
     },
     "execution_count": 3,
     "metadata": {},
     "output_type": "execute_result"
    }
   ],
   "source": [
    "## inspect data\n",
    "data.head()"
   ]
  },
  {
   "cell_type": "code",
   "execution_count": 12,
   "id": "84b69e88-afd6-4ea7-8c45-e3ddf0908a39",
   "metadata": {},
   "outputs": [
    {
     "data": {
      "text/plain": [
       "array([[<AxesSubplot:title={'center':\"Power Boats (in 1000's)\"}>]],\n",
       "      dtype=object)"
      ]
     },
     "execution_count": 12,
     "metadata": {},
     "output_type": "execute_result"
    },
    {
     "data": {
      "image/png": "[encoded data removed]",
      "text/plain": [
       "<Figure size 432x288 with 1 Axes>"
      ]
     },
     "metadata": {
      "needs_background": "light"
     },
     "output_type": "display_data"
    }
   ],
   "source": [
    "## regular histogram\n",
    "data.hist()"
   ]
  },
  {
   "cell_type": "code",
   "execution_count": 13,
   "id": "a3daf6cf-c4ce-408c-926a-093564ffa09b",
   "metadata": {},
   "outputs": [
    {
     "data": {
      "text/plain": [
       "<seaborn.axisgrid.FacetGrid at 0x29aecab8c40>"
      ]
     },
     "execution_count": 13,
     "metadata": {},
     "output_type": "execute_result"
    },
    {
     "data": {
      "image/png": "[encoded data removed]",
      "text/plain": [
       "<Figure size 513.75x360 with 1 Axes>"
      ]
     },
     "metadata": {
      "needs_background": "light"
     },
     "output_type": "display_data"
    }
   ],
   "source": [
    "## histogram with best fit line\n",
    "sns.displot(data, kde = True)"
   ]
  },
  {
   "cell_type": "code",
   "execution_count": null,
   "id": "e9d5d051-2120-4c95-9b1e-9095dabe141d",
   "metadata": {},
   "outputs": [],
   "source": []
  }
 ],
 "metadata": {
  "kernelspec": {
   "display_name": "Python 3 (ipykernel)",
   "language": "python",
   "name": "python3"
  },
  "language_info": {
   "codemirror_mode": {
    "name": "ipython",
    "version": 3
   },
   "file_extension": ".py",
   "mimetype": "text/x-python",
   "name": "python",
   "nbconvert_exporter": "python",
   "pygments_lexer": "ipython3",
   "version": "3.9.9"
  }
 },
 "nbformat": 4,
 "nbformat_minor": 5
}
