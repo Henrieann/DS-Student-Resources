{
 "cells": [
  {
   "cell_type": "markdown",
   "id": "2e6f677c-7f6b-402a-979e-c09e3008c3d3",
   "metadata": {},
   "source": [
    "# DS104 Lesson 4:"
   ]
  },
  {
   "cell_type": "code",
   "execution_count": 6,
   "id": "51ef8a82-b3ab-4d45-91c9-0e0b181218e2",
   "metadata": {},
   "outputs": [],
   "source": [
    "import pandas as pd"
   ]
  },
  {
   "cell_type": "markdown",
   "id": "072126ca-64ad-469b-994e-cc6edefe7c6c",
   "metadata": {},
   "source": [
    "# Part 1¶\n",
    "### Here's a listing of the number of power boats registered in Florida (in the 1000's) for each year, 35 years worth of data. Tinker with the settings until you have created a histogram with 7 bars.  "
   ]
  },
  {
   "cell_type": "markdown",
   "id": "54f77624-a92b-4b23-9ef4-d9288301283e",
   "metadata": {},
   "source": [
    "# Import these packages to create a more detailed Histogram in Python"
   ]
  },
  {
   "cell_type": "code",
   "execution_count": 7,
   "id": "54f78bd4-80cc-4cec-b5d9-f8db757d524a",
   "metadata": {},
   "outputs": [],
   "source": [
    "import matplotlib.mlab as mlab\n",
    "import matplotlib.pyplot as plt"
   ]
  },
  {
   "cell_type": "markdown",
   "id": "736f8abd-8ce8-4779-95fe-7db5c685fe7a",
   "metadata": {},
   "source": [
    "# Import Dataset 1"
   ]
  },
  {
   "cell_type": "code",
   "execution_count": null,
   "id": "9a0da501-7d63-4df0-92e1-0486c13d554a",
   "metadata": {},
   "outputs": [],
   "source": []
  },
  {
   "cell_type": "code",
   "execution_count": null,
   "id": "e828218d-f8ab-4275-993b-85e409b4d9e6",
   "metadata": {},
   "outputs": [],
   "source": [
    "# Detailed Histogram Example in Python\n",
    "\n",
    "num_bins = 5\n",
    "n, bins, patches = plt.hist(HR['satisfaction_level'], num_bins, facecolor='blue', alpha=.05)\n",
    "plt.xlabel('Satisfaction Level')\n",
    "plt.ylabel('Frequency')\n",
    "plt.title('Histogram of Satisfaction Level')\n",
    "plt.show()"
   ]
  },
  {
   "cell_type": "markdown",
   "id": "4e348685-2fe9-4a2f-a431-886a433bd9b1",
   "metadata": {},
   "source": [
    "# Part 2¶\n",
    "### Use the following data to create a bar graph."
   ]
  },
  {
   "cell_type": "markdown",
   "id": "53322fe0-2443-48de-9577-602c3979b1b1",
   "metadata": {},
   "source": [
    "# Import Dataset 2"
   ]
  },
  {
   "cell_type": "code",
   "execution_count": null,
   "id": "08d12100-cb14-42cb-a330-dd7ae6c64789",
   "metadata": {},
   "outputs": [],
   "source": []
  },
  {
   "cell_type": "code",
   "execution_count": null,
   "id": "916dcc6f-937c-4b54-95f2-7f51acd19e80",
   "metadata": {},
   "outputs": [],
   "source": [
    "# Bar Chart Example\n",
    "HR['salary'].value_counts().plot(kind='bar')"
   ]
  },
  {
   "cell_type": "code",
   "execution_count": null,
   "id": "a236c68a-6ef8-462f-91cf-190ec851a6a7",
   "metadata": {},
   "outputs": [],
   "source": []
  },
  {
   "cell_type": "markdown",
   "id": "72acd2a2-2c83-419a-b8f4-7745bc53c0ba",
   "metadata": {},
   "source": [
    "# Part 3¶\n",
    "### Use the following data to create a stacked bar chart using either Python or R."
   ]
  },
  {
   "cell_type": "markdown",
   "id": "ba07467a-b59e-454b-b292-3a4443dd4721",
   "metadata": {},
   "source": [
    "# Import Dataset 3"
   ]
  },
  {
   "cell_type": "code",
   "execution_count": null,
   "id": "86014c64-b3db-4679-9073-7989f88f6d75",
   "metadata": {},
   "outputs": [],
   "source": []
  },
  {
   "cell_type": "code",
   "execution_count": null,
   "id": "b5e8f7e7-0214-47d3-b66b-ce25124ad575",
   "metadata": {},
   "outputs": [],
   "source": [
    "# Stacked Bar Chart Example\n",
    "crosstab_df = pd.crosstab(HR_data['sales'], HR_data['salary'])\n",
    "crosstab_df.plot.bar(stacked=True)"
   ]
  },
  {
   "cell_type": "code",
   "execution_count": null,
   "id": "00143484-32bf-4448-be7b-3a5c3f9a3559",
   "metadata": {},
   "outputs": [],
   "source": []
  },
  {
   "cell_type": "markdown",
   "id": "7dbe803e-e13a-49d4-a42f-d158a02c2604",
   "metadata": {},
   "source": [
    "# Part 4\n",
    "### The following dataset contains data for estuarine crocodiles, recording their head length and body length. Visualize the data with a clearly labeled scatter plot."
   ]
  },
  {
   "cell_type": "markdown",
   "id": "68079ac2-c67b-411f-9994-bd2b65411212",
   "metadata": {},
   "source": [
    "# Import Dataset 4"
   ]
  },
  {
   "cell_type": "code",
   "execution_count": null,
   "id": "dd08527b-0e49-4934-b760-7df2cd91d256",
   "metadata": {},
   "outputs": [],
   "source": []
  },
  {
   "cell_type": "code",
   "execution_count": null,
   "id": "56840ea2-8bdf-4479-9d0b-c243a89c7342",
   "metadata": {},
   "outputs": [],
   "source": [
    "# Scatter Plot Example\n",
    "Plot = nutrition.plot.scatter(x='fats', y='sat fats')\n",
    "Plot.set_title(\"Fats by Saturated Fats\")\n",
    "Plot.set_xlabel(\"Fats\")\n",
    "Plot.set_ylabel(\"Saturated Fats\")"
   ]
  },
  {
   "cell_type": "code",
   "execution_count": null,
   "id": "8d98a8b1-e038-44e8-89b1-4855f214f3d5",
   "metadata": {},
   "outputs": [],
   "source": []
  },
  {
   "cell_type": "markdown",
   "id": "6911033e-4b3b-4b6f-b5d7-36be227d639c",
   "metadata": {},
   "source": [
    "# Part 5\n",
    "### Here's data tracking heart attacks treated at a hospital chain in a large US city. Use this data to create a line chart. Be sure to label the graph, and label both axes."
   ]
  },
  {
   "cell_type": "markdown",
   "id": "56c6ce08-4542-4881-b11e-4cf8ecf0ffa8",
   "metadata": {},
   "source": [
    "# Import Dataset 5"
   ]
  },
  {
   "cell_type": "code",
   "execution_count": null,
   "id": "02766f50-5428-4ff9-b758-b6fbec8df9c2",
   "metadata": {},
   "outputs": [],
   "source": [
    "\n"
   ]
  },
  {
   "cell_type": "code",
   "execution_count": null,
   "id": "bd2c2311-130e-43a2-bdf4-a88fc195269e",
   "metadata": {},
   "outputs": [],
   "source": [
    "# Line Chart Example\n",
    "plt.plot(Earthquakes['Date'], Earthquakes['M'])"
   ]
  },
  {
   "cell_type": "code",
   "execution_count": null,
   "id": "d9e41f9a-cae1-4129-918b-b2b70f343a87",
   "metadata": {},
   "outputs": [],
   "source": []
  }
 ],
 "metadata": {
  "kernelspec": {
   "display_name": "Python 3.9.9 64-bit",
   "language": "python",
   "name": "python399jvsc74a57bd0b0fa6594d8f4cbf19f97940f81e996739fb7646882a419484c72d19e05852a7e"
  },
  "language_info": {
   "codemirror_mode": {
    "name": "ipython",
    "version": 3
   },
   "file_extension": ".py",
   "mimetype": "text/x-python",
   "name": "python",
   "nbconvert_exporter": "python",
   "pygments_lexer": "ipython3",
   "version": "3.9.10"
  }
 },
 "nbformat": 4,
 "nbformat_minor": 5
}
