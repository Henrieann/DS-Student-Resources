{
 "cells": [
  {
   "cell_type": "markdown",
   "id": "070a8d11-d878-4b62-b908-017a6a5a0644",
   "metadata": {},
   "source": [
    "DSO104-Lesson-1-Page-6-babies"
   ]
  },
  {
   "cell_type": "code",
   "execution_count": 5,
   "id": "b2fdd28c-5083-4632-b5a1-36089f1d65f2",
   "metadata": {},
   "outputs": [
    {
     "name": "stdout",
     "output_type": "stream",
     "text": [
      "\n",
      "The downloaded binary packages are in\n",
      "\t/var/folders/cq/34csgc994551lq_ps072fgyr0000gn/T//Rtmpte70fK/downloaded_packages\n",
      "\n",
      "The downloaded binary packages are in\n",
      "\t/var/folders/cq/34csgc994551lq_ps072fgyr0000gn/T//Rtmpte70fK/downloaded_packages\n"
     ]
    }
   ],
   "source": [
    "install.packages(\"readxl\")\n",
    "install.packages(\"tidyr\")"
   ]
  },
  {
   "cell_type": "code",
   "execution_count": 6,
   "id": "87632889-acab-48c2-89ef-4332e7d90560",
   "metadata": {},
   "outputs": [],
   "source": [
    "library(\"readxl\")\n",
    "library(\"tidyr\")"
   ]
  },
  {
   "cell_type": "code",
   "execution_count": 3,
   "id": "988bb59e-5d52-4a7c-8d82-cb36fb2bebed",
   "metadata": {},
   "outputs": [],
   "source": [
    "babies <- read_excel('../Data/babies.xlsx')"
   ]
  },
  {
   "cell_type": "code",
   "execution_count": 4,
   "id": "a0582829-9965-4231-96e8-8a9df5ad558c",
   "metadata": {},
   "outputs": [
    {
     "data": {
      "text/html": [
       "<table class=\"dataframe\">\n",
       "<caption>A tibble: 6 × 11</caption>\n",
       "<thead>\n",
       "\t<tr><th scope=col>Name</th><th scope=col>First</th><th scope=col>Birthday</th><th scope=col>StreetAddress</th><th scope=col>City</th><th scope=col>Zipcode</th><th scope=col>Weight</th><th scope=col>Height</th><th scope=col>HospitalID</th><th scope=col>ParentPhoneNumber</th><th scope=col>ParentEmail</th></tr>\n",
       "\t<tr><th scope=col>&lt;chr&gt;</th><th scope=col>&lt;chr&gt;</th><th scope=col>&lt;dttm&gt;</th><th scope=col>&lt;chr&gt;</th><th scope=col>&lt;chr&gt;</th><th scope=col>&lt;dbl&gt;</th><th scope=col>&lt;dbl&gt;</th><th scope=col>&lt;dbl&gt;</th><th scope=col>&lt;dbl&gt;</th><th scope=col>&lt;chr&gt;</th><th scope=col>&lt;chr&gt;</th></tr>\n",
       "</thead>\n",
       "<tbody>\n",
       "\t<tr><td>Potter  </td><td>Alec J.   </td><td>2017-11-06</td><td>229-8390 Dignissim. Road    </td><td>Ucluelet</td><td>36170</td><td> 1</td><td> 9</td><td>1.672053e+12</td><td>1-180-978-6309</td><td>ut@nisiAenean.ca                 </td></tr>\n",
       "\t<tr><td>Mcclure </td><td>Lucius S. </td><td>2018-08-14</td><td>P.O. Box 593, 7892 Nunc St. </td><td>Licantén</td><td>47279</td><td> 5</td><td>19</td><td>1.609023e+12</td><td>1-667-136-7396</td><td>Donec.luctus@Maecenas.edu        </td></tr>\n",
       "\t<tr><td>Farley  </td><td>Hilel Y.  </td><td>2017-12-07</td><td>3859 Tellus Rd.             </td><td>Alva    </td><td>78490</td><td> 6</td><td> 5</td><td>1.664012e+12</td><td>1-914-735-7605</td><td>Aenean@imperdietnonvestibulum.ca </td></tr>\n",
       "\t<tr><td>Cummings</td><td>Randall W.</td><td>2018-03-07</td><td>Ap #293-6684 Lobortis Street</td><td>Vicuña  </td><td>36395</td><td> 9</td><td> 9</td><td>1.669073e+12</td><td>1-568-861-3669</td><td>velit.eu.sem@Aliquam.com         </td></tr>\n",
       "\t<tr><td>Lester  </td><td>Bruce I.  </td><td>2018-01-14</td><td>495-3192 Dictum St.         </td><td>Bonnert </td><td>25130</td><td>10</td><td>15</td><td>1.603101e+12</td><td>1-494-905-3888</td><td>dolor.Donec@miAliquamgravida.com </td></tr>\n",
       "\t<tr><td>Wall    </td><td>Simone D. </td><td>2018-03-21</td><td>6354 Sed St.                </td><td>Miraj   </td><td>91893</td><td>15</td><td>17</td><td>1.623102e+12</td><td>1-303-930-2311</td><td>Aenean.eget.magna@acfermentum.net</td></tr>\n",
       "</tbody>\n",
       "</table>\n"
      ],
      "text/latex": [
       "A tibble: 6 × 11\n",
       "\\begin{tabular}{lllllllllll}\n",
       " Name & First & Birthday & StreetAddress & City & Zipcode & Weight & Height & HospitalID & ParentPhoneNumber & ParentEmail\\\\\n",
       " <chr> & <chr> & <dttm> & <chr> & <chr> & <dbl> & <dbl> & <dbl> & <dbl> & <chr> & <chr>\\\\\n",
       "\\hline\n",
       "\t Potter   & Alec J.    & 2017-11-06 & 229-8390 Dignissim. Road     & Ucluelet & 36170 &  1 &  9 & 1.672053e+12 & 1-180-978-6309 & ut@nisiAenean.ca                 \\\\\n",
       "\t Mcclure  & Lucius S.  & 2018-08-14 & P.O. Box 593, 7892 Nunc St.  & Licantén & 47279 &  5 & 19 & 1.609023e+12 & 1-667-136-7396 & Donec.luctus@Maecenas.edu        \\\\\n",
       "\t Farley   & Hilel Y.   & 2017-12-07 & 3859 Tellus Rd.              & Alva     & 78490 &  6 &  5 & 1.664012e+12 & 1-914-735-7605 & Aenean@imperdietnonvestibulum.ca \\\\\n",
       "\t Cummings & Randall W. & 2018-03-07 & Ap \\#293-6684 Lobortis Street & Vicuña   & 36395 &  9 &  9 & 1.669073e+12 & 1-568-861-3669 & velit.eu.sem@Aliquam.com         \\\\\n",
       "\t Lester   & Bruce I.   & 2018-01-14 & 495-3192 Dictum St.          & Bonnert  & 25130 & 10 & 15 & 1.603101e+12 & 1-494-905-3888 & dolor.Donec@miAliquamgravida.com \\\\\n",
       "\t Wall     & Simone D.  & 2018-03-21 & 6354 Sed St.                 & Miraj    & 91893 & 15 & 17 & 1.623102e+12 & 1-303-930-2311 & Aenean.eget.magna@acfermentum.net\\\\\n",
       "\\end{tabular}\n"
      ],
      "text/markdown": [
       "\n",
       "A tibble: 6 × 11\n",
       "\n",
       "| Name &lt;chr&gt; | First &lt;chr&gt; | Birthday &lt;dttm&gt; | StreetAddress &lt;chr&gt; | City &lt;chr&gt; | Zipcode &lt;dbl&gt; | Weight &lt;dbl&gt; | Height &lt;dbl&gt; | HospitalID &lt;dbl&gt; | ParentPhoneNumber &lt;chr&gt; | ParentEmail &lt;chr&gt; |\n",
       "|---|---|---|---|---|---|---|---|---|---|---|\n",
       "| Potter   | Alec J.    | 2017-11-06 | 229-8390 Dignissim. Road     | Ucluelet | 36170 |  1 |  9 | 1.672053e+12 | 1-180-978-6309 | ut@nisiAenean.ca                  |\n",
       "| Mcclure  | Lucius S.  | 2018-08-14 | P.O. Box 593, 7892 Nunc St.  | Licantén | 47279 |  5 | 19 | 1.609023e+12 | 1-667-136-7396 | Donec.luctus@Maecenas.edu         |\n",
       "| Farley   | Hilel Y.   | 2017-12-07 | 3859 Tellus Rd.              | Alva     | 78490 |  6 |  5 | 1.664012e+12 | 1-914-735-7605 | Aenean@imperdietnonvestibulum.ca  |\n",
       "| Cummings | Randall W. | 2018-03-07 | Ap #293-6684 Lobortis Street | Vicuña   | 36395 |  9 |  9 | 1.669073e+12 | 1-568-861-3669 | velit.eu.sem@Aliquam.com          |\n",
       "| Lester   | Bruce I.   | 2018-01-14 | 495-3192 Dictum St.          | Bonnert  | 25130 | 10 | 15 | 1.603101e+12 | 1-494-905-3888 | dolor.Donec@miAliquamgravida.com  |\n",
       "| Wall     | Simone D.  | 2018-03-21 | 6354 Sed St.                 | Miraj    | 91893 | 15 | 17 | 1.623102e+12 | 1-303-930-2311 | Aenean.eget.magna@acfermentum.net |\n",
       "\n"
      ],
      "text/plain": [
       "  Name     First      Birthday   StreetAddress                City     Zipcode\n",
       "1 Potter   Alec J.    2017-11-06 229-8390 Dignissim. Road     Ucluelet 36170  \n",
       "2 Mcclure  Lucius S.  2018-08-14 P.O. Box 593, 7892 Nunc St.  Licantén 47279  \n",
       "3 Farley   Hilel Y.   2017-12-07 3859 Tellus Rd.              Alva     78490  \n",
       "4 Cummings Randall W. 2018-03-07 Ap #293-6684 Lobortis Street Vicuña   36395  \n",
       "5 Lester   Bruce I.   2018-01-14 495-3192 Dictum St.          Bonnert  25130  \n",
       "6 Wall     Simone D.  2018-03-21 6354 Sed St.                 Miraj    91893  \n",
       "  Weight Height HospitalID   ParentPhoneNumber\n",
       "1  1      9     1.672053e+12 1-180-978-6309   \n",
       "2  5     19     1.609023e+12 1-667-136-7396   \n",
       "3  6      5     1.664012e+12 1-914-735-7605   \n",
       "4  9      9     1.669073e+12 1-568-861-3669   \n",
       "5 10     15     1.603101e+12 1-494-905-3888   \n",
       "6 15     17     1.623102e+12 1-303-930-2311   \n",
       "  ParentEmail                      \n",
       "1 ut@nisiAenean.ca                 \n",
       "2 Donec.luctus@Maecenas.edu        \n",
       "3 Aenean@imperdietnonvestibulum.ca \n",
       "4 velit.eu.sem@Aliquam.com         \n",
       "5 dolor.Donec@miAliquamgravida.com \n",
       "6 Aenean.eget.magna@acfermentum.net"
      ]
     },
     "metadata": {},
     "output_type": "display_data"
    }
   ],
   "source": [
    "head(babies)"
   ]
  },
  {
   "cell_type": "code",
   "execution_count": 7,
   "id": "6bd83a4e-4f17-405a-b9fc-443e88fa99d0",
   "metadata": {},
   "outputs": [],
   "source": [
    "names(babies)[names(babies) == \"ParentPhoneNumber\"] <- \"Phone\""
   ]
  },
  {
   "cell_type": "code",
   "execution_count": 9,
   "id": "bc27b154-993e-4b53-8ad3-f9cb46a937df",
   "metadata": {},
   "outputs": [],
   "source": [
    "babies1 <- unite(babies, Address, StreetAddress, City, Zipcode, sep = \"/\")"
   ]
  },
  {
   "cell_type": "code",
   "execution_count": 10,
   "id": "148cdc11-a9f7-4e4b-8c90-e9c42dfb74f0",
   "metadata": {},
   "outputs": [
    {
     "data": {
      "text/html": [
       "<table class=\"dataframe\">\n",
       "<caption>A tibble: 6 × 9</caption>\n",
       "<thead>\n",
       "\t<tr><th scope=col>Name</th><th scope=col>First</th><th scope=col>Birthday</th><th scope=col>Address</th><th scope=col>Weight</th><th scope=col>Height</th><th scope=col>HospitalID</th><th scope=col>Phone</th><th scope=col>ParentEmail</th></tr>\n",
       "\t<tr><th scope=col>&lt;chr&gt;</th><th scope=col>&lt;chr&gt;</th><th scope=col>&lt;dttm&gt;</th><th scope=col>&lt;chr&gt;</th><th scope=col>&lt;dbl&gt;</th><th scope=col>&lt;dbl&gt;</th><th scope=col>&lt;dbl&gt;</th><th scope=col>&lt;chr&gt;</th><th scope=col>&lt;chr&gt;</th></tr>\n",
       "</thead>\n",
       "<tbody>\n",
       "\t<tr><td>Potter  </td><td>Alec J.   </td><td>2017-11-06</td><td>229-8390 Dignissim. Road/Ucluelet/36170   </td><td> 1</td><td> 9</td><td>1.672053e+12</td><td>1-180-978-6309</td><td>ut@nisiAenean.ca                 </td></tr>\n",
       "\t<tr><td>Mcclure </td><td>Lucius S. </td><td>2018-08-14</td><td>P.O. Box 593, 7892 Nunc St./Licantén/47279</td><td> 5</td><td>19</td><td>1.609023e+12</td><td>1-667-136-7396</td><td>Donec.luctus@Maecenas.edu        </td></tr>\n",
       "\t<tr><td>Farley  </td><td>Hilel Y.  </td><td>2017-12-07</td><td>3859 Tellus Rd./Alva/78490                </td><td> 6</td><td> 5</td><td>1.664012e+12</td><td>1-914-735-7605</td><td>Aenean@imperdietnonvestibulum.ca </td></tr>\n",
       "\t<tr><td>Cummings</td><td>Randall W.</td><td>2018-03-07</td><td>Ap #293-6684 Lobortis Street/Vicuña/36395 </td><td> 9</td><td> 9</td><td>1.669073e+12</td><td>1-568-861-3669</td><td>velit.eu.sem@Aliquam.com         </td></tr>\n",
       "\t<tr><td>Lester  </td><td>Bruce I.  </td><td>2018-01-14</td><td>495-3192 Dictum St./Bonnert/25130         </td><td>10</td><td>15</td><td>1.603101e+12</td><td>1-494-905-3888</td><td>dolor.Donec@miAliquamgravida.com </td></tr>\n",
       "\t<tr><td>Wall    </td><td>Simone D. </td><td>2018-03-21</td><td>6354 Sed St./Miraj/91893                  </td><td>15</td><td>17</td><td>1.623102e+12</td><td>1-303-930-2311</td><td>Aenean.eget.magna@acfermentum.net</td></tr>\n",
       "</tbody>\n",
       "</table>\n"
      ],
      "text/latex": [
       "A tibble: 6 × 9\n",
       "\\begin{tabular}{lllllllll}\n",
       " Name & First & Birthday & Address & Weight & Height & HospitalID & Phone & ParentEmail\\\\\n",
       " <chr> & <chr> & <dttm> & <chr> & <dbl> & <dbl> & <dbl> & <chr> & <chr>\\\\\n",
       "\\hline\n",
       "\t Potter   & Alec J.    & 2017-11-06 & 229-8390 Dignissim. Road/Ucluelet/36170    &  1 &  9 & 1.672053e+12 & 1-180-978-6309 & ut@nisiAenean.ca                 \\\\\n",
       "\t Mcclure  & Lucius S.  & 2018-08-14 & P.O. Box 593, 7892 Nunc St./Licantén/47279 &  5 & 19 & 1.609023e+12 & 1-667-136-7396 & Donec.luctus@Maecenas.edu        \\\\\n",
       "\t Farley   & Hilel Y.   & 2017-12-07 & 3859 Tellus Rd./Alva/78490                 &  6 &  5 & 1.664012e+12 & 1-914-735-7605 & Aenean@imperdietnonvestibulum.ca \\\\\n",
       "\t Cummings & Randall W. & 2018-03-07 & Ap \\#293-6684 Lobortis Street/Vicuña/36395  &  9 &  9 & 1.669073e+12 & 1-568-861-3669 & velit.eu.sem@Aliquam.com         \\\\\n",
       "\t Lester   & Bruce I.   & 2018-01-14 & 495-3192 Dictum St./Bonnert/25130          & 10 & 15 & 1.603101e+12 & 1-494-905-3888 & dolor.Donec@miAliquamgravida.com \\\\\n",
       "\t Wall     & Simone D.  & 2018-03-21 & 6354 Sed St./Miraj/91893                   & 15 & 17 & 1.623102e+12 & 1-303-930-2311 & Aenean.eget.magna@acfermentum.net\\\\\n",
       "\\end{tabular}\n"
      ],
      "text/markdown": [
       "\n",
       "A tibble: 6 × 9\n",
       "\n",
       "| Name &lt;chr&gt; | First &lt;chr&gt; | Birthday &lt;dttm&gt; | Address &lt;chr&gt; | Weight &lt;dbl&gt; | Height &lt;dbl&gt; | HospitalID &lt;dbl&gt; | Phone &lt;chr&gt; | ParentEmail &lt;chr&gt; |\n",
       "|---|---|---|---|---|---|---|---|---|\n",
       "| Potter   | Alec J.    | 2017-11-06 | 229-8390 Dignissim. Road/Ucluelet/36170    |  1 |  9 | 1.672053e+12 | 1-180-978-6309 | ut@nisiAenean.ca                  |\n",
       "| Mcclure  | Lucius S.  | 2018-08-14 | P.O. Box 593, 7892 Nunc St./Licantén/47279 |  5 | 19 | 1.609023e+12 | 1-667-136-7396 | Donec.luctus@Maecenas.edu         |\n",
       "| Farley   | Hilel Y.   | 2017-12-07 | 3859 Tellus Rd./Alva/78490                 |  6 |  5 | 1.664012e+12 | 1-914-735-7605 | Aenean@imperdietnonvestibulum.ca  |\n",
       "| Cummings | Randall W. | 2018-03-07 | Ap #293-6684 Lobortis Street/Vicuña/36395  |  9 |  9 | 1.669073e+12 | 1-568-861-3669 | velit.eu.sem@Aliquam.com          |\n",
       "| Lester   | Bruce I.   | 2018-01-14 | 495-3192 Dictum St./Bonnert/25130          | 10 | 15 | 1.603101e+12 | 1-494-905-3888 | dolor.Donec@miAliquamgravida.com  |\n",
       "| Wall     | Simone D.  | 2018-03-21 | 6354 Sed St./Miraj/91893                   | 15 | 17 | 1.623102e+12 | 1-303-930-2311 | Aenean.eget.magna@acfermentum.net |\n",
       "\n"
      ],
      "text/plain": [
       "  Name     First      Birthday   Address                                   \n",
       "1 Potter   Alec J.    2017-11-06 229-8390 Dignissim. Road/Ucluelet/36170   \n",
       "2 Mcclure  Lucius S.  2018-08-14 P.O. Box 593, 7892 Nunc St./Licantén/47279\n",
       "3 Farley   Hilel Y.   2017-12-07 3859 Tellus Rd./Alva/78490                \n",
       "4 Cummings Randall W. 2018-03-07 Ap #293-6684 Lobortis Street/Vicuña/36395 \n",
       "5 Lester   Bruce I.   2018-01-14 495-3192 Dictum St./Bonnert/25130         \n",
       "6 Wall     Simone D.  2018-03-21 6354 Sed St./Miraj/91893                  \n",
       "  Weight Height HospitalID   Phone          ParentEmail                      \n",
       "1  1      9     1.672053e+12 1-180-978-6309 ut@nisiAenean.ca                 \n",
       "2  5     19     1.609023e+12 1-667-136-7396 Donec.luctus@Maecenas.edu        \n",
       "3  6      5     1.664012e+12 1-914-735-7605 Aenean@imperdietnonvestibulum.ca \n",
       "4  9      9     1.669073e+12 1-568-861-3669 velit.eu.sem@Aliquam.com         \n",
       "5 10     15     1.603101e+12 1-494-905-3888 dolor.Donec@miAliquamgravida.com \n",
       "6 15     17     1.623102e+12 1-303-930-2311 Aenean.eget.magna@acfermentum.net"
      ]
     },
     "metadata": {},
     "output_type": "display_data"
    }
   ],
   "source": [
    "head(babies1)"
   ]
  },
  {
   "cell_type": "code",
   "execution_count": 11,
   "id": "ceeea60f-259e-4093-95d6-860305cf99de",
   "metadata": {},
   "outputs": [],
   "source": [
    "babies2 <- separate(babies1, Address, c(\"StreetAddress\", \"City\", \"Zipcode\"), sep=\"/\")"
   ]
  },
  {
   "cell_type": "code",
   "execution_count": 12,
   "id": "c4052885-ff8d-456c-8f8b-c6c71514c68a",
   "metadata": {},
   "outputs": [
    {
     "data": {
      "text/html": [
       "<table class=\"dataframe\">\n",
       "<caption>A tibble: 6 × 11</caption>\n",
       "<thead>\n",
       "\t<tr><th scope=col>Name</th><th scope=col>First</th><th scope=col>Birthday</th><th scope=col>StreetAddress</th><th scope=col>City</th><th scope=col>Zipcode</th><th scope=col>Weight</th><th scope=col>Height</th><th scope=col>HospitalID</th><th scope=col>Phone</th><th scope=col>ParentEmail</th></tr>\n",
       "\t<tr><th scope=col>&lt;chr&gt;</th><th scope=col>&lt;chr&gt;</th><th scope=col>&lt;dttm&gt;</th><th scope=col>&lt;chr&gt;</th><th scope=col>&lt;chr&gt;</th><th scope=col>&lt;chr&gt;</th><th scope=col>&lt;dbl&gt;</th><th scope=col>&lt;dbl&gt;</th><th scope=col>&lt;dbl&gt;</th><th scope=col>&lt;chr&gt;</th><th scope=col>&lt;chr&gt;</th></tr>\n",
       "</thead>\n",
       "<tbody>\n",
       "\t<tr><td>Potter  </td><td>Alec J.   </td><td>2017-11-06</td><td>229-8390 Dignissim. Road    </td><td>Ucluelet</td><td>36170</td><td> 1</td><td> 9</td><td>1.672053e+12</td><td>1-180-978-6309</td><td>ut@nisiAenean.ca                 </td></tr>\n",
       "\t<tr><td>Mcclure </td><td>Lucius S. </td><td>2018-08-14</td><td>P.O. Box 593, 7892 Nunc St. </td><td>Licantén</td><td>47279</td><td> 5</td><td>19</td><td>1.609023e+12</td><td>1-667-136-7396</td><td>Donec.luctus@Maecenas.edu        </td></tr>\n",
       "\t<tr><td>Farley  </td><td>Hilel Y.  </td><td>2017-12-07</td><td>3859 Tellus Rd.             </td><td>Alva    </td><td>78490</td><td> 6</td><td> 5</td><td>1.664012e+12</td><td>1-914-735-7605</td><td>Aenean@imperdietnonvestibulum.ca </td></tr>\n",
       "\t<tr><td>Cummings</td><td>Randall W.</td><td>2018-03-07</td><td>Ap #293-6684 Lobortis Street</td><td>Vicuña  </td><td>36395</td><td> 9</td><td> 9</td><td>1.669073e+12</td><td>1-568-861-3669</td><td>velit.eu.sem@Aliquam.com         </td></tr>\n",
       "\t<tr><td>Lester  </td><td>Bruce I.  </td><td>2018-01-14</td><td>495-3192 Dictum St.         </td><td>Bonnert </td><td>25130</td><td>10</td><td>15</td><td>1.603101e+12</td><td>1-494-905-3888</td><td>dolor.Donec@miAliquamgravida.com </td></tr>\n",
       "\t<tr><td>Wall    </td><td>Simone D. </td><td>2018-03-21</td><td>6354 Sed St.                </td><td>Miraj   </td><td>91893</td><td>15</td><td>17</td><td>1.623102e+12</td><td>1-303-930-2311</td><td>Aenean.eget.magna@acfermentum.net</td></tr>\n",
       "</tbody>\n",
       "</table>\n"
      ],
      "text/latex": [
       "A tibble: 6 × 11\n",
       "\\begin{tabular}{lllllllllll}\n",
       " Name & First & Birthday & StreetAddress & City & Zipcode & Weight & Height & HospitalID & Phone & ParentEmail\\\\\n",
       " <chr> & <chr> & <dttm> & <chr> & <chr> & <chr> & <dbl> & <dbl> & <dbl> & <chr> & <chr>\\\\\n",
       "\\hline\n",
       "\t Potter   & Alec J.    & 2017-11-06 & 229-8390 Dignissim. Road     & Ucluelet & 36170 &  1 &  9 & 1.672053e+12 & 1-180-978-6309 & ut@nisiAenean.ca                 \\\\\n",
       "\t Mcclure  & Lucius S.  & 2018-08-14 & P.O. Box 593, 7892 Nunc St.  & Licantén & 47279 &  5 & 19 & 1.609023e+12 & 1-667-136-7396 & Donec.luctus@Maecenas.edu        \\\\\n",
       "\t Farley   & Hilel Y.   & 2017-12-07 & 3859 Tellus Rd.              & Alva     & 78490 &  6 &  5 & 1.664012e+12 & 1-914-735-7605 & Aenean@imperdietnonvestibulum.ca \\\\\n",
       "\t Cummings & Randall W. & 2018-03-07 & Ap \\#293-6684 Lobortis Street & Vicuña   & 36395 &  9 &  9 & 1.669073e+12 & 1-568-861-3669 & velit.eu.sem@Aliquam.com         \\\\\n",
       "\t Lester   & Bruce I.   & 2018-01-14 & 495-3192 Dictum St.          & Bonnert  & 25130 & 10 & 15 & 1.603101e+12 & 1-494-905-3888 & dolor.Donec@miAliquamgravida.com \\\\\n",
       "\t Wall     & Simone D.  & 2018-03-21 & 6354 Sed St.                 & Miraj    & 91893 & 15 & 17 & 1.623102e+12 & 1-303-930-2311 & Aenean.eget.magna@acfermentum.net\\\\\n",
       "\\end{tabular}\n"
      ],
      "text/markdown": [
       "\n",
       "A tibble: 6 × 11\n",
       "\n",
       "| Name &lt;chr&gt; | First &lt;chr&gt; | Birthday &lt;dttm&gt; | StreetAddress &lt;chr&gt; | City &lt;chr&gt; | Zipcode &lt;chr&gt; | Weight &lt;dbl&gt; | Height &lt;dbl&gt; | HospitalID &lt;dbl&gt; | Phone &lt;chr&gt; | ParentEmail &lt;chr&gt; |\n",
       "|---|---|---|---|---|---|---|---|---|---|---|\n",
       "| Potter   | Alec J.    | 2017-11-06 | 229-8390 Dignissim. Road     | Ucluelet | 36170 |  1 |  9 | 1.672053e+12 | 1-180-978-6309 | ut@nisiAenean.ca                  |\n",
       "| Mcclure  | Lucius S.  | 2018-08-14 | P.O. Box 593, 7892 Nunc St.  | Licantén | 47279 |  5 | 19 | 1.609023e+12 | 1-667-136-7396 | Donec.luctus@Maecenas.edu         |\n",
       "| Farley   | Hilel Y.   | 2017-12-07 | 3859 Tellus Rd.              | Alva     | 78490 |  6 |  5 | 1.664012e+12 | 1-914-735-7605 | Aenean@imperdietnonvestibulum.ca  |\n",
       "| Cummings | Randall W. | 2018-03-07 | Ap #293-6684 Lobortis Street | Vicuña   | 36395 |  9 |  9 | 1.669073e+12 | 1-568-861-3669 | velit.eu.sem@Aliquam.com          |\n",
       "| Lester   | Bruce I.   | 2018-01-14 | 495-3192 Dictum St.          | Bonnert  | 25130 | 10 | 15 | 1.603101e+12 | 1-494-905-3888 | dolor.Donec@miAliquamgravida.com  |\n",
       "| Wall     | Simone D.  | 2018-03-21 | 6354 Sed St.                 | Miraj    | 91893 | 15 | 17 | 1.623102e+12 | 1-303-930-2311 | Aenean.eget.magna@acfermentum.net |\n",
       "\n"
      ],
      "text/plain": [
       "  Name     First      Birthday   StreetAddress                City     Zipcode\n",
       "1 Potter   Alec J.    2017-11-06 229-8390 Dignissim. Road     Ucluelet 36170  \n",
       "2 Mcclure  Lucius S.  2018-08-14 P.O. Box 593, 7892 Nunc St.  Licantén 47279  \n",
       "3 Farley   Hilel Y.   2017-12-07 3859 Tellus Rd.              Alva     78490  \n",
       "4 Cummings Randall W. 2018-03-07 Ap #293-6684 Lobortis Street Vicuña   36395  \n",
       "5 Lester   Bruce I.   2018-01-14 495-3192 Dictum St.          Bonnert  25130  \n",
       "6 Wall     Simone D.  2018-03-21 6354 Sed St.                 Miraj    91893  \n",
       "  Weight Height HospitalID   Phone          ParentEmail                      \n",
       "1  1      9     1.672053e+12 1-180-978-6309 ut@nisiAenean.ca                 \n",
       "2  5     19     1.609023e+12 1-667-136-7396 Donec.luctus@Maecenas.edu        \n",
       "3  6      5     1.664012e+12 1-914-735-7605 Aenean@imperdietnonvestibulum.ca \n",
       "4  9      9     1.669073e+12 1-568-861-3669 velit.eu.sem@Aliquam.com         \n",
       "5 10     15     1.603101e+12 1-494-905-3888 dolor.Donec@miAliquamgravida.com \n",
       "6 15     17     1.623102e+12 1-303-930-2311 Aenean.eget.magna@acfermentum.net"
      ]
     },
     "metadata": {},
     "output_type": "display_data"
    }
   ],
   "source": [
    "head(babies2)"
   ]
  },
  {
   "cell_type": "code",
   "execution_count": null,
   "id": "f1ba69a1-9737-4845-b30f-db590941b146",
   "metadata": {},
   "outputs": [],
   "source": []
  }
 ],
 "metadata": {
  "kernelspec": {
   "display_name": "R",
   "language": "R",
   "name": "ir"
  },
  "language_info": {
   "codemirror_mode": "r",
   "file_extension": ".r",
   "mimetype": "text/x-r-source",
   "name": "R",
   "pygments_lexer": "r",
   "version": "4.0.5"
  }
 },
 "nbformat": 4,
 "nbformat_minor": 5
}
