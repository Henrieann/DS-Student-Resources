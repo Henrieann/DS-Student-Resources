{
 "cells": [
  {
   "cell_type": "markdown",
   "id": "351e80d4-0f3b-44dc-bb2a-9750eb070790",
   "metadata": {},
   "source": [
    "# Pandas Tricks for Imputing Missing Data\n",
    "## Dealing with nulls\n",
    "##### By Matthew Gerardino\n",
    "---"
   ]
  },
  {
   "cell_type": "code",
   "execution_count": 1,
   "id": "76ed30da-4fa9-4c22-9d14-2d77a8487377",
   "metadata": {},
   "outputs": [],
   "source": [
    "#imports\n",
    "import pandas as pd "
   ]
  },
  {
   "cell_type": "code",
   "execution_count": 2,
   "id": "ffc756be-4278-4d49-bbbe-5e99bfc579d9",
   "metadata": {},
   "outputs": [
    {
     "data": {
      "text/html": [
       "<div>\n",
       "<style scoped>\n",
       "    .dataframe tbody tr th:only-of-type {\n",
       "        vertical-align: middle;\n",
       "    }\n",
       "\n",
       "    .dataframe tbody tr th {\n",
       "        vertical-align: top;\n",
       "    }\n",
       "\n",
       "    .dataframe thead th {\n",
       "        text-align: right;\n",
       "    }\n",
       "</style>\n",
       "<table border=\"1\" class=\"dataframe\">\n",
       "  <thead>\n",
       "    <tr style=\"text-align: right;\">\n",
       "      <th></th>\n",
       "      <th>country</th>\n",
       "      <th>designation</th>\n",
       "      <th>points</th>\n",
       "      <th>price</th>\n",
       "      <th>province</th>\n",
       "      <th>region_1</th>\n",
       "      <th>region_2</th>\n",
       "      <th>variety</th>\n",
       "      <th>winery</th>\n",
       "      <th>last_year_points</th>\n",
       "    </tr>\n",
       "  </thead>\n",
       "  <tbody>\n",
       "    <tr>\n",
       "      <th>0</th>\n",
       "      <td>US</td>\n",
       "      <td>Martha's Vineyard</td>\n",
       "      <td>96.0</td>\n",
       "      <td>235.0</td>\n",
       "      <td>California</td>\n",
       "      <td>Napa Valley</td>\n",
       "      <td>Napa</td>\n",
       "      <td>Cabernet Sauvignon</td>\n",
       "      <td>Heitz</td>\n",
       "      <td>94</td>\n",
       "    </tr>\n",
       "    <tr>\n",
       "      <th>1</th>\n",
       "      <td>Spain</td>\n",
       "      <td>Carodorum Selección Especial Reserva</td>\n",
       "      <td>96.0</td>\n",
       "      <td>110.0</td>\n",
       "      <td>Northern Spain</td>\n",
       "      <td>Toro</td>\n",
       "      <td>NaN</td>\n",
       "      <td>Tinta de Toro</td>\n",
       "      <td>Bodega Carmen Rodríguez</td>\n",
       "      <td>92</td>\n",
       "    </tr>\n",
       "    <tr>\n",
       "      <th>2</th>\n",
       "      <td>US</td>\n",
       "      <td>Special Selected Late Harvest</td>\n",
       "      <td>96.0</td>\n",
       "      <td>90.0</td>\n",
       "      <td>California</td>\n",
       "      <td>Knights Valley</td>\n",
       "      <td>Sonoma</td>\n",
       "      <td>Sauvignon Blanc</td>\n",
       "      <td>Macauley</td>\n",
       "      <td>100</td>\n",
       "    </tr>\n",
       "    <tr>\n",
       "      <th>3</th>\n",
       "      <td>US</td>\n",
       "      <td>Reserve</td>\n",
       "      <td>96.0</td>\n",
       "      <td>65.0</td>\n",
       "      <td>Oregon</td>\n",
       "      <td>Willamette Valley</td>\n",
       "      <td>Willamette Valley</td>\n",
       "      <td>Pinot Noir</td>\n",
       "      <td>Ponzi</td>\n",
       "      <td>94</td>\n",
       "    </tr>\n",
       "    <tr>\n",
       "      <th>4</th>\n",
       "      <td>France</td>\n",
       "      <td>La Brûlade</td>\n",
       "      <td>95.0</td>\n",
       "      <td>66.0</td>\n",
       "      <td>Provence</td>\n",
       "      <td>Bandol</td>\n",
       "      <td>NaN</td>\n",
       "      <td>Provence red blend</td>\n",
       "      <td>Domaine de la Bégude</td>\n",
       "      <td>94</td>\n",
       "    </tr>\n",
       "  </tbody>\n",
       "</table>\n",
       "</div>"
      ],
      "text/plain": [
       "  country                           designation  points  price  \\\n",
       "0      US                     Martha's Vineyard    96.0  235.0   \n",
       "1   Spain  Carodorum Selección Especial Reserva    96.0  110.0   \n",
       "2      US         Special Selected Late Harvest    96.0   90.0   \n",
       "3      US                               Reserve    96.0   65.0   \n",
       "4  France                            La Brûlade    95.0   66.0   \n",
       "\n",
       "         province           region_1           region_2             variety  \\\n",
       "0      California        Napa Valley               Napa  Cabernet Sauvignon   \n",
       "1  Northern Spain               Toro                NaN       Tinta de Toro   \n",
       "2      California     Knights Valley             Sonoma     Sauvignon Blanc   \n",
       "3          Oregon  Willamette Valley  Willamette Valley          Pinot Noir   \n",
       "4        Provence             Bandol                NaN  Provence red blend   \n",
       "\n",
       "                    winery  last_year_points  \n",
       "0                    Heitz                94  \n",
       "1  Bodega Carmen Rodríguez                92  \n",
       "2                 Macauley               100  \n",
       "3                    Ponzi                94  \n",
       "4     Domaine de la Bégude                94  "
      ]
     },
     "execution_count": 2,
     "metadata": {},
     "output_type": "execute_result"
    }
   ],
   "source": [
    "#reading in data seperated by semicolon\n",
    "df = pd.read_csv(\"../Data/winemag-data_first150k.csv\", sep=';')\n",
    "df.head()"
   ]
  },
  {
   "cell_type": "code",
   "execution_count": 3,
   "id": "0f7640ba-d224-4026-af0f-b81b49326734",
   "metadata": {},
   "outputs": [
    {
     "data": {
      "text/plain": [
       "country              object\n",
       "designation          object\n",
       "points              float64\n",
       "price               float64\n",
       "province             object\n",
       "region_1             object\n",
       "region_2             object\n",
       "variety              object\n",
       "winery               object\n",
       "last_year_points      int64\n",
       "dtype: object"
      ]
     },
     "execution_count": 3,
     "metadata": {},
     "output_type": "execute_result"
    }
   ],
   "source": [
    "#view dtypes\n",
    "df.dtypes"
   ]
  },
  {
   "cell_type": "code",
   "execution_count": 4,
   "id": "8438c4fd-2ac4-4d40-8b17-da26312258fb",
   "metadata": {},
   "outputs": [
    {
     "data": {
      "text/plain": [
       "country                 2\n",
       "designation         43826\n",
       "points                  5\n",
       "price               13396\n",
       "province                7\n",
       "region_1            23845\n",
       "region_2            85659\n",
       "variety                 5\n",
       "winery                  5\n",
       "last_year_points        0\n",
       "dtype: int64"
      ]
     },
     "execution_count": 4,
     "metadata": {},
     "output_type": "execute_result"
    }
   ],
   "source": [
    "#sum of null values in each column\n",
    "df.isnull().sum()"
   ]
  },
  {
   "cell_type": "code",
   "execution_count": 5,
   "id": "f5ba9081-01b3-4899-b07f-dd0d8eacd3f5",
   "metadata": {},
   "outputs": [
    {
     "data": {
      "text/plain": [
       "['country',\n",
       " 'designation',\n",
       " 'points',\n",
       " 'price',\n",
       " 'province',\n",
       " 'region_1',\n",
       " 'region_2',\n",
       " 'variety',\n",
       " 'winery']"
      ]
     },
     "execution_count": 5,
     "metadata": {},
     "output_type": "execute_result"
    }
   ],
   "source": [
    "#view only columns with null/missing values\n",
    "[col for col in df.columns if df[col].isnull().any()]"
   ]
  },
  {
   "cell_type": "code",
   "execution_count": 6,
   "id": "e7b40b7a-3d6d-44f5-8c64-04de5a6e8099",
   "metadata": {},
   "outputs": [
    {
     "name": "stdout",
     "output_type": "stream",
     "text": [
      "['country', 'designation', 'points', 'price', 'province', 'region_1', 'region_2', 'variety', 'winery']\n"
     ]
    }
   ],
   "source": [
    "#view only columns with null/missing values\n",
    "col_nul=[]\n",
    "for col in df.columns:\n",
    "    if df[col].isnull().any():\n",
    "        col_nul.append(col)\n",
    "print(col_nul)"
   ]
  },
  {
   "cell_type": "markdown",
   "id": "4bfaea22-2234-49ae-aa71-73e6f135c702",
   "metadata": {},
   "source": [
    "---\n",
    "#### The _price_ column contains 8996 missing values. We can replace these missing values using the ```.fillna()``` method. For example, let’s fill in the missing values with the mean price:"
   ]
  },
  {
   "cell_type": "code",
   "execution_count": 7,
   "id": "0449f1af-c446-47bc-8cb7-b26375c4255b",
   "metadata": {},
   "outputs": [],
   "source": [
    "#replacing null with mean for price column\n",
    "df['price'].fillna(df['price'].mean(), inplace = True)"
   ]
  },
  {
   "cell_type": "code",
   "execution_count": 8,
   "id": "8fc227b2-fa13-4e21-bc46-7aa2d454abd6",
   "metadata": {},
   "outputs": [
    {
     "data": {
      "text/plain": [
       "country                 2\n",
       "designation         43826\n",
       "points                  5\n",
       "price                   0\n",
       "province                7\n",
       "region_1            23845\n",
       "region_2            85659\n",
       "variety                 5\n",
       "winery                  5\n",
       "last_year_points        0\n",
       "dtype: int64"
      ]
     },
     "execution_count": 8,
     "metadata": {},
     "output_type": "execute_result"
    }
   ],
   "source": [
    "#ensure price column has no null values\n",
    "df.isnull().sum()"
   ]
  },
  {
   "cell_type": "code",
   "execution_count": 9,
   "id": "cabd8bd8-f473-4ef4-b4bb-ae92f4af8f9e",
   "metadata": {},
   "outputs": [],
   "source": [
    "#replacing all columns that still have nulls with the mode of each column\n",
    "my_list=df[list(df.columns)]\n",
    "list_mode=[]\n",
    "\n",
    "for i in my_list:\n",
    "    list_mode.append(i)\n",
    "    \n",
    "for i in list_mode:\n",
    "    df[i].fillna(df[i].mode()[0], inplace = True)"
   ]
  },
  {
   "cell_type": "code",
   "execution_count": 10,
   "id": "bd60b0d0-facc-4e1f-8f29-8fd53cc5b068",
   "metadata": {},
   "outputs": [
    {
     "data": {
      "text/plain": [
       "country             0\n",
       "designation         0\n",
       "points              0\n",
       "price               0\n",
       "province            0\n",
       "region_1            0\n",
       "region_2            0\n",
       "variety             0\n",
       "winery              0\n",
       "last_year_points    0\n",
       "dtype: int64"
      ]
     },
     "execution_count": 10,
     "metadata": {},
     "output_type": "execute_result"
    }
   ],
   "source": [
    "#ensure that all columns have no nulls\n",
    "df.isnull().sum()"
   ]
  },
  {
   "cell_type": "code",
   "execution_count": null,
   "id": "e9240f7e-4a80-484d-b3b2-55a595f1e7ae",
   "metadata": {},
   "outputs": [],
   "source": []
  }
 ],
 "metadata": {
  "kernelspec": {
   "display_name": "Python 3 (ipykernel)",
   "language": "python",
   "name": "python3"
  },
  "language_info": {
   "codemirror_mode": {
    "name": "ipython",
    "version": 3
   },
   "file_extension": ".py",
   "mimetype": "text/x-python",
   "name": "python",
   "nbconvert_exporter": "python",
   "pygments_lexer": "ipython3",
   "version": "3.9.7"
  }
 },
 "nbformat": 4,
 "nbformat_minor": 5
}
