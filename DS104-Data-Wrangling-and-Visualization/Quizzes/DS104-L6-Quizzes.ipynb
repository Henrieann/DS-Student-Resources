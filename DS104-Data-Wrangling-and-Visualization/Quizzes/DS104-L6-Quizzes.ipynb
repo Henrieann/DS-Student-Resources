{
 "cells": [
  {
   "cell_type": "code",
   "execution_count": 1,
   "id": "f138e3af-79ef-4ecc-b0c2-c66bfd962488",
   "metadata": {},
   "outputs": [],
   "source": [
    "from DS_Students import *"
   ]
  },
  {
   "cell_type": "markdown",
   "id": "bbbac69a-473f-4427-ba75-0cc57327ad12",
   "metadata": {},
   "source": [
    "## Page 5"
   ]
  },
  {
   "cell_type": "code",
   "execution_count": 2,
   "id": "b15e8dd8-145c-462b-b36f-083fb4870169",
   "metadata": {},
   "outputs": [],
   "source": [
    "L6P5Q1 = MultipleChoice('1. You need to have a creators license for using certain Spatial files in Tableau.',['True','False','This answer is not correct. You must have a license in order to use certain Spatial files.'],'True')\n",
    "L6P5Q2 = MultipleChoice('2. What button do you need to use in order to add multiple workbooks to your data source page?',['Add','Upload','Ok', 'Join'],'Add')\n",
    "L6P5Q3 = MC('3. When joining your data, you can easily connect your workbooks when data is uncommon or has no similarity.',['True','False'],'False', cor='', incor='This answer is not correct. You must have at least one column that is similar in the data sets.')"
   ]
  },
  {
   "cell_type": "code",
   "execution_count": 3,
   "id": "588346f0-0fd0-442f-af68-d340d986926b",
   "metadata": {},
   "outputs": [
    {
     "data": {
      "application/vnd.jupyter.widget-view+json": {
       "model_id": "09eec0d54ac24f7098604c8067a4870e",
       "version_major": 2,
       "version_minor": 0
      },
      "text/plain": [
       "VBox(children=(Output(), RadioButtons(layout=Layout(width='max-content'), options=(('True', 0), ('False', 1), …"
      ]
     },
     "metadata": {},
     "output_type": "display_data"
    },
    {
     "data": {
      "application/vnd.jupyter.widget-view+json": {
       "model_id": "75c5a4296884498db2af4cc3c8941320",
       "version_major": 2,
       "version_minor": 0
      },
      "text/plain": [
       "VBox(children=(Output(), RadioButtons(layout=Layout(width='max-content'), options=(('Add', 0), ('Upload', 1), …"
      ]
     },
     "metadata": {},
     "output_type": "display_data"
    },
    {
     "data": {
      "application/vnd.jupyter.widget-view+json": {
       "model_id": "de63d64f36384aa5a7c212ec6df3e951",
       "version_major": 2,
       "version_minor": 0
      },
      "text/plain": [
       "VBox(children=(Output(), RadioButtons(layout=Layout(width='max-content'), options=(('True', 0), ('False', 1)),…"
      ]
     },
     "metadata": {},
     "output_type": "display_data"
    }
   ],
   "source": [
    "if __name__ == \"__main__\":\n",
    "    display(L6P5Q1, L6P5Q2, L6P5Q3)"
   ]
  },
  {
   "cell_type": "markdown",
   "id": "b461dbc8-b065-4b5c-a3cd-dca99bd08c84",
   "metadata": {},
   "source": [
    "## Page 6"
   ]
  },
  {
   "cell_type": "code",
   "execution_count": 4,
   "id": "b8cd1393-40ee-468d-9495-20c39060bfc2",
   "metadata": {},
   "outputs": [],
   "source": [
    "L6P6Q1 = MultipleChoice('1. True or False? Tableau will automatically try to find a common key for you to join with.',['True','False'],'True')\n",
    "L6P6Q2 = MC('2. You can join any type of data together in Tableau.',['True','False'],'False', cor='', incor='Nice try! This answer is incorrect. The data must contain a least one column that has the same type of column. Ex. both data sets should have the Name column and so on in order to join them.')\n",
    "L6P6Q3 = MultipleChoice('3. There are multiple ways you can join data in Tableau.',['True','False'],'True')"
   ]
  },
  {
   "cell_type": "code",
   "execution_count": 5,
   "id": "bef9c0c6-87b1-4a9f-a428-786537b4fac3",
   "metadata": {},
   "outputs": [
    {
     "data": {
      "application/vnd.jupyter.widget-view+json": {
       "model_id": "edaff73e8a69482d91b9f23a63893e3c",
       "version_major": 2,
       "version_minor": 0
      },
      "text/plain": [
       "VBox(children=(Output(), RadioButtons(layout=Layout(width='max-content'), options=(('True', 0), ('False', 1)),…"
      ]
     },
     "metadata": {},
     "output_type": "display_data"
    },
    {
     "data": {
      "application/vnd.jupyter.widget-view+json": {
       "model_id": "8243b9460e7c4ce4bd22a6555f2775c0",
       "version_major": 2,
       "version_minor": 0
      },
      "text/plain": [
       "VBox(children=(Output(), RadioButtons(layout=Layout(width='max-content'), options=(('True', 0), ('False', 1)),…"
      ]
     },
     "metadata": {},
     "output_type": "display_data"
    },
    {
     "data": {
      "application/vnd.jupyter.widget-view+json": {
       "model_id": "c804ad4dc90e46c5a6c2602cdbf498f0",
       "version_major": 2,
       "version_minor": 0
      },
      "text/plain": [
       "VBox(children=(Output(), RadioButtons(layout=Layout(width='max-content'), options=(('True', 0), ('False', 1)),…"
      ]
     },
     "metadata": {},
     "output_type": "display_data"
    }
   ],
   "source": [
    "if __name__ == \"__main__\":\n",
    "    display(L6P6Q1, L6P6Q2, L6P6Q3)"
   ]
  },
  {
   "cell_type": "markdown",
   "id": "cf14be0c-3539-4640-a9b8-d378c8170b09",
   "metadata": {},
   "source": [
    "## Page 7"
   ]
  },
  {
   "cell_type": "code",
   "execution_count": 6,
   "id": "8ce3a839-31e2-464f-848e-60f741fb5beb",
   "metadata": {},
   "outputs": [],
   "source": [
    "L6P7Q1 = MultipleChoice('1. True or False? You must click into Worksheets before creating any visuals.',['True','False'],'True')\n",
    "L6P7Q2 = MultipleChoice('2. How do you add a new metric to a text table?',['Drag it into your table','Double click on it'],'Double click on it')\n",
    "L6P7Q3 = MultipleChoice('3. Will you need to create an account to save your work?',['Yes','No'],'Yes')\n",
    "L6P7Q4 = MC('4. Double clicking your dimensions and measure pills will automatically put them where they need to go on your worksheet.',['True','False'],'True', cor='', incor='Double click your pill and Tableau will place it in the best place for interpretation.')"
   ]
  },
  {
   "cell_type": "code",
   "execution_count": 7,
   "id": "57451aba-7e9e-4ace-8480-7aeb86db8eb6",
   "metadata": {},
   "outputs": [
    {
     "data": {
      "application/vnd.jupyter.widget-view+json": {
       "model_id": "9a37423c7958462fa82ec7dd26b8cef0",
       "version_major": 2,
       "version_minor": 0
      },
      "text/plain": [
       "VBox(children=(Output(), RadioButtons(layout=Layout(width='max-content'), options=(('True', 0), ('False', 1)),…"
      ]
     },
     "metadata": {},
     "output_type": "display_data"
    },
    {
     "data": {
      "application/vnd.jupyter.widget-view+json": {
       "model_id": "13bb519497d64c6099b5644b4a6a9415",
       "version_major": 2,
       "version_minor": 0
      },
      "text/plain": [
       "VBox(children=(Output(), RadioButtons(layout=Layout(width='max-content'), options=(('Drag it into your table',…"
      ]
     },
     "metadata": {},
     "output_type": "display_data"
    },
    {
     "data": {
      "application/vnd.jupyter.widget-view+json": {
       "model_id": "b8a259625a174c6aa8aa17d46ed004e7",
       "version_major": 2,
       "version_minor": 0
      },
      "text/plain": [
       "VBox(children=(Output(), RadioButtons(layout=Layout(width='max-content'), options=(('Yes', 0), ('No', 1)), val…"
      ]
     },
     "metadata": {},
     "output_type": "display_data"
    },
    {
     "data": {
      "application/vnd.jupyter.widget-view+json": {
       "model_id": "9df3fdf7021b45b6a8b0a037385c722f",
       "version_major": 2,
       "version_minor": 0
      },
      "text/plain": [
       "VBox(children=(Output(), RadioButtons(layout=Layout(width='max-content'), options=(('True', 0), ('False', 1)),…"
      ]
     },
     "metadata": {},
     "output_type": "display_data"
    }
   ],
   "source": [
    "if __name__ == \"__main__\":\n",
    "    display(L6P7Q1, L6P7Q2, L6P7Q3, L6P7Q4)"
   ]
  },
  {
   "cell_type": "markdown",
   "id": "3079c503-b790-4dd1-9df0-c8d7129a7844",
   "metadata": {},
   "source": [
    "## Page 10"
   ]
  },
  {
   "cell_type": "code",
   "execution_count": 8,
   "id": "5c577ccf-dd0d-4cc1-9c60-d6284b28add2",
   "metadata": {},
   "outputs": [],
   "source": [
    "L6P10Q1 = MultipleChoice('1. What is a categorical variable called in Tableau?',['Level','Factor','Measure', 'Dimension'],'Dimension')\n",
    "L6P10Q2 = MultipleChoice('2. What is a continuous variable called in Tableau?',['Measure','Metric','Dimension', 'Numeric'],'Measure')\n",
    "L6P10Q3 = MultipleChoice('3. Where is the variable type located in Tableau?',['Next to the variable name on the right','Next to the variable name on the left','It is not shown in Tableau', 'Under columns'],'Next to the variable name on the left')\n",
    "L6P10Q4 = MultipleChoice('4. True or false? Tableau automatically aggregates all measures.',['True','False'],'True')"
   ]
  },
  {
   "cell_type": "code",
   "execution_count": 9,
   "id": "8bba7ba7-eb90-4f52-9e8c-acf955ecc91f",
   "metadata": {},
   "outputs": [
    {
     "data": {
      "application/vnd.jupyter.widget-view+json": {
       "model_id": "8be0dd71bbd84eefb480cbfd412297b3",
       "version_major": 2,
       "version_minor": 0
      },
      "text/plain": [
       "VBox(children=(Output(), RadioButtons(layout=Layout(width='max-content'), options=(('Level', 0), ('Factor', 1)…"
      ]
     },
     "metadata": {},
     "output_type": "display_data"
    },
    {
     "data": {
      "application/vnd.jupyter.widget-view+json": {
       "model_id": "a863804dea8144a28b9e35498fc7c221",
       "version_major": 2,
       "version_minor": 0
      },
      "text/plain": [
       "VBox(children=(Output(), RadioButtons(layout=Layout(width='max-content'), options=(('Measure', 0), ('Metric', …"
      ]
     },
     "metadata": {},
     "output_type": "display_data"
    },
    {
     "data": {
      "application/vnd.jupyter.widget-view+json": {
       "model_id": "189a3149354c4b3db90173b4d5b9d153",
       "version_major": 2,
       "version_minor": 0
      },
      "text/plain": [
       "VBox(children=(Output(), RadioButtons(layout=Layout(width='max-content'), options=(('Next to the variable name…"
      ]
     },
     "metadata": {},
     "output_type": "display_data"
    },
    {
     "data": {
      "application/vnd.jupyter.widget-view+json": {
       "model_id": "40b76ca5093641dea72b35374c280219",
       "version_major": 2,
       "version_minor": 0
      },
      "text/plain": [
       "VBox(children=(Output(), RadioButtons(layout=Layout(width='max-content'), options=(('True', 0), ('False', 1)),…"
      ]
     },
     "metadata": {},
     "output_type": "display_data"
    }
   ],
   "source": [
    "if __name__ == \"__main__\":\n",
    "    display(L6P10Q1, L6P10Q2, L6P10Q3, L6P10Q4)"
   ]
  },
  {
   "cell_type": "markdown",
   "id": "28111450-21e0-436a-874e-ae9cffb942f8",
   "metadata": {},
   "source": [
    "## Page 11"
   ]
  },
  {
   "cell_type": "code",
   "execution_count": 10,
   "id": "49397647-641e-4719-be49-a965096d4ef5",
   "metadata": {},
   "outputs": [],
   "source": [
    "L6P11Q1 = MultipleChoice('1. Where should you drag a variable to turn it into a filter?',['Row','Column','Color', 'Filters'],'Filters')\n",
    "L6P11Q2 = MC('2. True or False? You can only filter by dimension.',['True','False'],'False', cor='You can filter by both dimension and measure.', incor='')"
   ]
  },
  {
   "cell_type": "code",
   "execution_count": 11,
   "id": "7f4219af-f3cb-4ebf-be78-9d6450e0cbb9",
   "metadata": {},
   "outputs": [
    {
     "data": {
      "application/vnd.jupyter.widget-view+json": {
       "model_id": "d2399b06e3d34b2197b10da378ae3775",
       "version_major": 2,
       "version_minor": 0
      },
      "text/plain": [
       "VBox(children=(Output(), RadioButtons(layout=Layout(width='max-content'), options=(('Row', 0), ('Column', 1), …"
      ]
     },
     "metadata": {},
     "output_type": "display_data"
    },
    {
     "data": {
      "application/vnd.jupyter.widget-view+json": {
       "model_id": "fbf754eac6f942d48bb0fdb6b371e44c",
       "version_major": 2,
       "version_minor": 0
      },
      "text/plain": [
       "VBox(children=(Output(), RadioButtons(layout=Layout(width='max-content'), options=(('True', 0), ('False', 1)),…"
      ]
     },
     "metadata": {},
     "output_type": "display_data"
    }
   ],
   "source": [
    "if __name__ == \"__main__\":\n",
    "    display(L6P11Q1, L6P11Q2)"
   ]
  },
  {
   "cell_type": "markdown",
   "id": "9d250a2b-b97c-4f28-b0ee-fcb294ce8f27",
   "metadata": {},
   "source": [
    "## Page 12"
   ]
  },
  {
   "cell_type": "code",
   "execution_count": 12,
   "id": "8d51b622-f903-4c6d-b4eb-b2efdabce969",
   "metadata": {},
   "outputs": [],
   "source": [
    "L6P12Q1 = MultipleChoice('1. How would you sort only a particular metric on a text table?',['There is no way to sort by a particular metric; you can only sort in aggregate','Use the sort button in the toolbar','Hover over the metric title and click the resulting sort button'],'Hover over the metric title and click the resulting sort button')"
   ]
  },
  {
   "cell_type": "code",
   "execution_count": 13,
   "id": "6948e320-9fdd-4013-a40b-2c5f293d39ec",
   "metadata": {},
   "outputs": [
    {
     "data": {
      "application/vnd.jupyter.widget-view+json": {
       "model_id": "dd2979c5db60464cbccf15346790a4f1",
       "version_major": 2,
       "version_minor": 0
      },
      "text/plain": [
       "VBox(children=(Output(), RadioButtons(layout=Layout(width='max-content'), options=(('There is no way to sort b…"
      ]
     },
     "metadata": {},
     "output_type": "display_data"
    }
   ],
   "source": [
    "if __name__ == \"__main__\":\n",
    "    display(L6P12Q1)"
   ]
  },
  {
   "cell_type": "markdown",
   "id": "e67d7806-1088-4a8d-be3a-8506a552316f",
   "metadata": {},
   "source": [
    "## Page 13"
   ]
  },
  {
   "cell_type": "code",
   "execution_count": 14,
   "id": "79e5df1f-6664-4e0f-8998-97e8d2c09ba6",
   "metadata": {},
   "outputs": [],
   "source": [
    "L6P13Q1 = MultipleChoice('1. True or False? After you\\'ve added color to a text table, changing the Marks section to square will provide a heat map.',['True','False'],'True')"
   ]
  },
  {
   "cell_type": "code",
   "execution_count": 15,
   "id": "8223db46-2754-4855-9d8d-2a4dc825351c",
   "metadata": {},
   "outputs": [
    {
     "data": {
      "application/vnd.jupyter.widget-view+json": {
       "model_id": "0abed3d1154145ecb15578dc62e64f64",
       "version_major": 2,
       "version_minor": 0
      },
      "text/plain": [
       "VBox(children=(Output(), RadioButtons(layout=Layout(width='max-content'), options=(('True', 0), ('False', 1)),…"
      ]
     },
     "metadata": {},
     "output_type": "display_data"
    }
   ],
   "source": [
    "if __name__ == \"__main__\":\n",
    "    display(L6P13Q1)"
   ]
  },
  {
   "cell_type": "markdown",
   "id": "02784dc9-7bd4-48a2-8a46-397211a0857f",
   "metadata": {},
   "source": [
    "## Page 14"
   ]
  },
  {
   "cell_type": "code",
   "execution_count": 16,
   "id": "211d8a3a-d47a-41df-b566-b52a445a842a",
   "metadata": {},
   "outputs": [],
   "source": [
    "L6P14Q1 = MultipleChoice('1. How do you add labels to a bar chart?',['Click the plus sign at the very bottom left corner of Tableau','Click to see the entire view','Drag the metric that occupies the column section into the label category', 'Drag the metric that occupies the row section into the label category'],'Drag the metric that occupies the row section into the label category')\n",
    "L6P14Q2 = MultipleChoice('2. True or false? It is always a best practice to label data in your visualizations.',['True','False'],'True')"
   ]
  },
  {
   "cell_type": "code",
   "execution_count": 17,
   "id": "e19c6cea-4db8-455b-9376-e4b7ef1f0b70",
   "metadata": {},
   "outputs": [
    {
     "data": {
      "application/vnd.jupyter.widget-view+json": {
       "model_id": "ec27df8bcddb4284a7033716b816ab0a",
       "version_major": 2,
       "version_minor": 0
      },
      "text/plain": [
       "VBox(children=(Output(), RadioButtons(layout=Layout(width='max-content'), options=(('Click the plus sign at th…"
      ]
     },
     "metadata": {},
     "output_type": "display_data"
    },
    {
     "data": {
      "application/vnd.jupyter.widget-view+json": {
       "model_id": "eabebcf59be54446bc409f3c76db4a59",
       "version_major": 2,
       "version_minor": 0
      },
      "text/plain": [
       "VBox(children=(Output(), RadioButtons(layout=Layout(width='max-content'), options=(('True', 0), ('False', 1)),…"
      ]
     },
     "metadata": {},
     "output_type": "display_data"
    }
   ],
   "source": [
    "if __name__ == \"__main__\":\n",
    "    display(L6P14Q1, L6P14Q2)"
   ]
  },
  {
   "cell_type": "markdown",
   "id": "1f13df3d-ed91-45de-8a5e-ed096709fc83",
   "metadata": {},
   "source": [
    "## Page 17"
   ]
  },
  {
   "cell_type": "code",
   "execution_count": 18,
   "id": "bd1d013e-ff97-44e6-a6bb-b6447be2d02d",
   "metadata": {},
   "outputs": [],
   "source": [
    "L6P17Q1 = MultipleChoice('1. How do you make a stacked bar chart in Tableau?',['Create a regular bar chart, then drag an additional dimension into label','Create a regular bar chart, then drag an additional dimension into color'],'Create a regular bar chart, then drag an additional dimension into color')"
   ]
  },
  {
   "cell_type": "code",
   "execution_count": 19,
   "id": "2082ef60-6ed1-497b-b1e6-c8d0aea69167",
   "metadata": {},
   "outputs": [
    {
     "data": {
      "application/vnd.jupyter.widget-view+json": {
       "model_id": "abf8e078d3414185bbe59d7400e3e781",
       "version_major": 2,
       "version_minor": 0
      },
      "text/plain": [
       "VBox(children=(Output(), RadioButtons(layout=Layout(width='max-content'), options=(('Create a regular bar char…"
      ]
     },
     "metadata": {},
     "output_type": "display_data"
    }
   ],
   "source": [
    "if __name__ == \"__main__\":\n",
    "    display(L6P17Q1)"
   ]
  },
  {
   "cell_type": "markdown",
   "id": "00553570-592a-437a-ad46-900298a0a189",
   "metadata": {},
   "source": [
    "## Page 18"
   ]
  },
  {
   "cell_type": "code",
   "execution_count": 20,
   "id": "3f285b1f-75dc-4986-950f-3a81a5c2cc50",
   "metadata": {},
   "outputs": [],
   "source": [
    "L6P18Q1 = MultipleChoice('1. What step is critical to creating a line chart in Tableau?',['Changing the Path','Adding a dimension in Columns and a metric in Rows','Changing the Marks from Automatic to Line', 'Labeling'],'Changing the Marks from Automatic to Line')\n",
    "L6P18Q2 = MultipleChoice('2. To to show the thickness on your line chart, you will drag your continous variable over to the size on the marks card.',['True','False'],'False')\n",
    "L6P18Q3 = MC('3. Once you change the colors on the marks card, you can customize the colors.',['True','False'],'True', cor='Correct! You will have many colors to choose from.', incor='')\n",
    "L6P18Q4 = MultipleChoice('4. Number of Records is a automatic generated filed by Tableau.',['True','False'],'True')"
   ]
  },
  {
   "cell_type": "code",
   "execution_count": 21,
   "id": "7c28f2a7-0105-49d6-b27e-fa449dc37b80",
   "metadata": {},
   "outputs": [
    {
     "data": {
      "application/vnd.jupyter.widget-view+json": {
       "model_id": "6641ade3807e42a2b3a239202f77e335",
       "version_major": 2,
       "version_minor": 0
      },
      "text/plain": [
       "VBox(children=(Output(), RadioButtons(layout=Layout(width='max-content'), options=(('Changing the Path', 0), (…"
      ]
     },
     "metadata": {},
     "output_type": "display_data"
    },
    {
     "data": {
      "application/vnd.jupyter.widget-view+json": {
       "model_id": "5520ea60b3d1415684ea925210017668",
       "version_major": 2,
       "version_minor": 0
      },
      "text/plain": [
       "VBox(children=(Output(), RadioButtons(layout=Layout(width='max-content'), options=(('True', 0), ('False', 1)),…"
      ]
     },
     "metadata": {},
     "output_type": "display_data"
    },
    {
     "data": {
      "application/vnd.jupyter.widget-view+json": {
       "model_id": "d74a37f257814ba2878ae8652b865857",
       "version_major": 2,
       "version_minor": 0
      },
      "text/plain": [
       "VBox(children=(Output(), RadioButtons(layout=Layout(width='max-content'), options=(('True', 0), ('False', 1)),…"
      ]
     },
     "metadata": {},
     "output_type": "display_data"
    },
    {
     "data": {
      "application/vnd.jupyter.widget-view+json": {
       "model_id": "74d4967f1cbd4dd6af5fdcc37b10262c",
       "version_major": 2,
       "version_minor": 0
      },
      "text/plain": [
       "VBox(children=(Output(), RadioButtons(layout=Layout(width='max-content'), options=(('True', 0), ('False', 1)),…"
      ]
     },
     "metadata": {},
     "output_type": "display_data"
    }
   ],
   "source": [
    "if __name__ == \"__main__\":\n",
    "    display(L6P18Q1, L6P18Q2, L6P18Q3, L6P18Q4)"
   ]
  },
  {
   "cell_type": "markdown",
   "id": "2ebd5919-cf33-424f-beef-ecd6ba8db7fa",
   "metadata": {},
   "source": [
    "## Page 19"
   ]
  },
  {
   "cell_type": "code",
   "execution_count": 22,
   "id": "f263b23e-d866-4f6d-9750-586bbce1c971",
   "metadata": {},
   "outputs": [],
   "source": [
    "L6P19Q1 = MultipleChoice('1. What are the steps you\\'ll take to make a dual-axis chart?',['Include two dimensions in the columns section, then right click on one and select Dual Axis','Include two dimensions in the rows section, then right click on one and select Dual Axis','Include two measures in the rows section, then right click on one and select Dual Axis', 'Include two measures in the columns section, then right click on one and select Dual Axis'],'Include two measures in the rows section, then right click on one and select Dual Axis')"
   ]
  },
  {
   "cell_type": "code",
   "execution_count": 23,
   "id": "f0b2f610-069f-4018-a3c3-b02c8e1dbdf4",
   "metadata": {},
   "outputs": [
    {
     "data": {
      "application/vnd.jupyter.widget-view+json": {
       "model_id": "6bb217301b4f47e6b5214dcd19abe8a6",
       "version_major": 2,
       "version_minor": 0
      },
      "text/plain": [
       "VBox(children=(Output(), RadioButtons(layout=Layout(width='max-content'), options=(('Include two dimensions in…"
      ]
     },
     "metadata": {},
     "output_type": "display_data"
    }
   ],
   "source": [
    "if __name__ == \"__main__\":\n",
    "    display(L6P19Q1)"
   ]
  },
  {
   "cell_type": "markdown",
   "id": "c9f6cb37-56bc-478e-b990-2b030e4b89eb",
   "metadata": {},
   "source": [
    "## Page 22"
   ]
  },
  {
   "cell_type": "code",
   "execution_count": 24,
   "id": "9bc035d7-0530-4148-8c4d-c1da10fbc06d",
   "metadata": {},
   "outputs": [],
   "source": [
    "L6P22Q1 = MultipleChoice('1. To make a scatter plot, what Marks do you need to choose?',['Square','Line','Circle', 'Automatic'],'Circle')\n",
    "L6P22Q2 = MultipleChoice('2. If you want to change the color on your scatter plot, you can place your pill over the color box in the Marks Card and release.',['True','False'],'True')"
   ]
  },
  {
   "cell_type": "code",
   "execution_count": 25,
   "id": "33bdf40a-295a-4a2c-b3d6-77408e230041",
   "metadata": {},
   "outputs": [
    {
     "data": {
      "application/vnd.jupyter.widget-view+json": {
       "model_id": "266e5cfdb6a84b1392d98e0d7b5565da",
       "version_major": 2,
       "version_minor": 0
      },
      "text/plain": [
       "VBox(children=(Output(), RadioButtons(layout=Layout(width='max-content'), options=(('Square', 0), ('Line', 1),…"
      ]
     },
     "metadata": {},
     "output_type": "display_data"
    },
    {
     "data": {
      "application/vnd.jupyter.widget-view+json": {
       "model_id": "582e83339cf54137984c0c6bad494404",
       "version_major": 2,
       "version_minor": 0
      },
      "text/plain": [
       "VBox(children=(Output(), RadioButtons(layout=Layout(width='max-content'), options=(('True', 0), ('False', 1)),…"
      ]
     },
     "metadata": {},
     "output_type": "display_data"
    }
   ],
   "source": [
    "if __name__ == \"__main__\":\n",
    "    display(L6P22Q1, L6P22Q2)"
   ]
  },
  {
   "cell_type": "markdown",
   "id": "392db25c-5678-450f-94a3-421fcdb3f585",
   "metadata": {},
   "source": [
    "## Page 25"
   ]
  },
  {
   "cell_type": "code",
   "execution_count": 26,
   "id": "2b28920a-3d21-4d6d-905c-d270b3eeb29c",
   "metadata": {},
   "outputs": [],
   "source": [
    "L6P25Q1 = MultipleChoice('1. What type of reference highlights a whole area of data?',['Line','Band','Distribution', 'Box plot'],'Band')\n",
    "L6P25Q2 = MC('2. True or false? You cannot change the label on a reference line.',['True','False'],'False', cor='You can create a custom label for your reference line, so that you can label it as you wish.', incor='')"
   ]
  },
  {
   "cell_type": "code",
   "execution_count": 27,
   "id": "4834147f-3d41-48d2-839c-23a52f55e1ff",
   "metadata": {},
   "outputs": [
    {
     "data": {
      "application/vnd.jupyter.widget-view+json": {
       "model_id": "3a802f62de73488caef4a162bf710039",
       "version_major": 2,
       "version_minor": 0
      },
      "text/plain": [
       "VBox(children=(Output(), RadioButtons(layout=Layout(width='max-content'), options=(('Line', 0), ('Band', 1), (…"
      ]
     },
     "metadata": {},
     "output_type": "display_data"
    },
    {
     "data": {
      "application/vnd.jupyter.widget-view+json": {
       "model_id": "b569cd5562684b67ab0e7dfb16820bbb",
       "version_major": 2,
       "version_minor": 0
      },
      "text/plain": [
       "VBox(children=(Output(), RadioButtons(layout=Layout(width='max-content'), options=(('True', 0), ('False', 1)),…"
      ]
     },
     "metadata": {},
     "output_type": "display_data"
    }
   ],
   "source": [
    "if __name__ == \"__main__\":\n",
    "    display(L6P25Q1, L6P25Q2)"
   ]
  },
  {
   "cell_type": "markdown",
   "id": "6d3facb9-12c1-45a6-aa38-d71d55cb3e52",
   "metadata": {},
   "source": [
    "## Page 26"
   ]
  },
  {
   "cell_type": "code",
   "execution_count": 28,
   "id": "49cd1e6d-4456-48d8-a88f-b6420edf236e",
   "metadata": {},
   "outputs": [],
   "source": [
    "L6P26Q1 = MultipleChoice('1. How do you make a tree map in Tableau?',['Drag a measure into color and a dimension into size','Drag a dimension into color and a measure into size','Drag a measure into column and a dimension into row', 'Drag a dimension into column and a measure into row'],'Drag a dimension into color and a measure into size')\n",
    "L6P26Q2 = MultipleChoice('2. What does the detail function do?',['Change the coloring','Add an additional measure','Subdivide your tree map boxes by a dimension', 'Allow you to hover your mouse over the tree map to get additional information'],'Subdivide your tree map boxes by a dimension')"
   ]
  },
  {
   "cell_type": "code",
   "execution_count": 29,
   "id": "f395e836-76bf-4d17-b3ae-3bb6006432ca",
   "metadata": {},
   "outputs": [
    {
     "data": {
      "application/vnd.jupyter.widget-view+json": {
       "model_id": "fd29a20cb1634aee84481092a38fa6fc",
       "version_major": 2,
       "version_minor": 0
      },
      "text/plain": [
       "VBox(children=(Output(), RadioButtons(layout=Layout(width='max-content'), options=(('Drag a measure into color…"
      ]
     },
     "metadata": {},
     "output_type": "display_data"
    },
    {
     "data": {
      "application/vnd.jupyter.widget-view+json": {
       "model_id": "9b61252ca4b14fc0b0b186b321c2cccf",
       "version_major": 2,
       "version_minor": 0
      },
      "text/plain": [
       "VBox(children=(Output(), RadioButtons(layout=Layout(width='max-content'), options=(('Change the coloring', 0),…"
      ]
     },
     "metadata": {},
     "output_type": "display_data"
    }
   ],
   "source": [
    "if __name__ == \"__main__\":\n",
    "    display(L6P26Q1, L6P26Q2)"
   ]
  },
  {
   "cell_type": "code",
   "execution_count": null,
   "id": "8114ecfd-a5ce-4271-be9d-1f47052abcfd",
   "metadata": {},
   "outputs": [],
   "source": []
  },
  {
   "cell_type": "code",
   "execution_count": null,
   "id": "0f1c6692-4679-471c-bdd1-835907ea1dbb",
   "metadata": {},
   "outputs": [],
   "source": []
  },
  {
   "cell_type": "code",
   "execution_count": null,
   "id": "c25206fa-2062-4d58-af83-fc13a0a5ba2e",
   "metadata": {},
   "outputs": [],
   "source": []
  }
 ],
 "metadata": {
  "kernelspec": {
   "display_name": "Python 3 (ipykernel)",
   "language": "python",
   "name": "python3"
  },
  "language_info": {
   "codemirror_mode": {
    "name": "ipython",
    "version": 3
   },
   "file_extension": ".py",
   "mimetype": "text/x-python",
   "name": "python",
   "nbconvert_exporter": "python",
   "pygments_lexer": "ipython3",
   "version": "3.9.7"
  }
 },
 "nbformat": 4,
 "nbformat_minor": 5
}
