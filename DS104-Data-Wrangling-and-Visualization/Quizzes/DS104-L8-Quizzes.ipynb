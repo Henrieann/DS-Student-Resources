{
 "cells": [
  {
   "cell_type": "markdown",
   "id": "d6263b6e-1b61-47f0-8d35-99b10af3071e",
   "metadata": {},
   "source": [
    "# DS104\n",
    "## Lesson 8"
   ]
  },
  {
   "cell_type": "code",
   "execution_count": 1,
   "id": "60438e9e-555e-4a0b-a670-6566e1d1daba",
   "metadata": {},
   "outputs": [],
   "source": [
    "from DS_Students import *"
   ]
  },
  {
   "cell_type": "markdown",
   "id": "4b98e033-ca19-4a6c-b3ef-e3b439c0b2b4",
   "metadata": {},
   "source": [
    "### Page 3"
   ]
  },
  {
   "cell_type": "code",
   "execution_count": 2,
   "id": "7840fafa-b2a7-421b-9277-17aec98ce5bc",
   "metadata": {},
   "outputs": [],
   "source": [
    "L8P3Q1 = MC('1. True or False?\\n\\n   3D graphics are better at representing information than their 2D counterparts.',['A. True','B. False'],'B. False', cor='Because they ad so much complexity, 3D visuals may actually do a worse job of representing information than 2D visuals.', incor='')\n",
    "L8P3Q2 = MC('2. What are the data requirements for a tornado chart?',['A. A mean or frequency by a categorical variable','B. Multiple categorical variables','C.  Multiple continuous variables', 'D. Multiple frequencies from cateforical variables'],'A. A mean or frequency by a categorical variable', cor='', incor='')\n"
   ]
  },
  {
   "cell_type": "code",
   "execution_count": 3,
   "id": "79227676-5cf6-49fa-ad7b-290c564aabc7",
   "metadata": {},
   "outputs": [
    {
     "data": {
      "application/vnd.jupyter.widget-view+json": {
       "model_id": "19296037661342419fc695790b479840",
       "version_major": 2,
       "version_minor": 0
      },
      "text/plain": [
       "VBox(children=(Output(outputs=({'name': 'stdout', 'text': '1. True or False?\\n\\n   3D graphics are better at r…"
      ]
     },
     "metadata": {},
     "output_type": "display_data"
    },
    {
     "data": {
      "application/vnd.jupyter.widget-view+json": {
       "model_id": "38afaeba47cc48299fd8d801274865f3",
       "version_major": 2,
       "version_minor": 0
      },
      "text/plain": [
       "VBox(children=(Output(outputs=({'name': 'stdout', 'text': '2. What are the data requirements for a tornado cha…"
      ]
     },
     "metadata": {},
     "output_type": "display_data"
    }
   ],
   "source": [
    "if __name__ == \"__main__\":\n",
    "    display(L8P3Q1, L8P3Q2)"
   ]
  },
  {
   "cell_type": "markdown",
   "id": "1c616594-9b70-48fb-a222-04757ea8f063",
   "metadata": {},
   "source": [
    "### Page 4"
   ]
  },
  {
   "cell_type": "code",
   "execution_count": 4,
   "id": "9ff03ec7-522d-4c80-b4e6-97f20e8a7af6",
   "metadata": {},
   "outputs": [],
   "source": [
    "L8P4Q1 = MC('1. Which of the following is NOT a property of dashboards?',['A. Uses for reoccuring metrics','B. Indicated the \"health\" of something', 'C. Employs a red/amber/green color scheme', 'D. Made for one-time use'],'D. Made for one-time use', cor='', incor='')\n",
    "L8P4Q2 = MC('2. What do dashboards and infographics have in common?',['A. Red/amber/green color scheme','B. Simplistic and well-designed','C. Traditional data visualizations', 'D. Automation'],'B. Simplistic and well-designed', cor='', incor='')\n"
   ]
  },
  {
   "cell_type": "code",
   "execution_count": 5,
   "id": "b35dd861-6b1a-4b38-9533-c7b1781697c2",
   "metadata": {},
   "outputs": [
    {
     "data": {
      "application/vnd.jupyter.widget-view+json": {
       "model_id": "0a8fa2ca8378492589614c79da10a7fd",
       "version_major": 2,
       "version_minor": 0
      },
      "text/plain": [
       "VBox(children=(Output(outputs=({'name': 'stdout', 'text': '1. Which of the following is NOT a property of dash…"
      ]
     },
     "metadata": {},
     "output_type": "display_data"
    },
    {
     "data": {
      "application/vnd.jupyter.widget-view+json": {
       "model_id": "627113f3b5b3410db03706e694cb6f0d",
       "version_major": 2,
       "version_minor": 0
      },
      "text/plain": [
       "VBox(children=(Output(outputs=({'name': 'stdout', 'text': '2. What do dashboards and infographics have in comm…"
      ]
     },
     "metadata": {},
     "output_type": "display_data"
    }
   ],
   "source": [
    "if __name__ == \"__main__\":\n",
    "    display(L8P4Q1, L8P4Q2)"
   ]
  },
  {
   "cell_type": "markdown",
   "id": "974e3b5f-f966-4a07-a30a-de54a783b3e8",
   "metadata": {},
   "source": [
    "### Page 5"
   ]
  },
  {
   "cell_type": "code",
   "execution_count": 6,
   "id": "0db1f8fe-8dd4-4f8f-9984-36d6336ca71a",
   "metadata": {},
   "outputs": [],
   "source": [
    "L8P5Q1 = MC('1. True or False?\\n\\n   As a data scientist, you can use your expert knowledge of math, data, and visualization to twist the truth and get what you want.',['A. True','B. False'],'B. False', cor='As a steward of data, it is INCREDIBLY IMPORTANT that you represent yourself well. When you get found out (and you will get found out), you will have lost the trust of your company and their benefactors forever.', incor='')\n"
   ]
  },
  {
   "cell_type": "code",
   "execution_count": 7,
   "id": "88cdbc20-a7f0-49d0-8ce9-33b051b68e4f",
   "metadata": {},
   "outputs": [
    {
     "data": {
      "application/vnd.jupyter.widget-view+json": {
       "model_id": "fe02b1f7951247e28b22f70c34b4dad1",
       "version_major": 2,
       "version_minor": 0
      },
      "text/plain": [
       "VBox(children=(Output(outputs=({'name': 'stdout', 'text': '1. True or False?\\n\\n   As a data scientist, you ca…"
      ]
     },
     "metadata": {},
     "output_type": "display_data"
    }
   ],
   "source": [
    "if __name__ == \"__main__\":\n",
    "    display(L8P5Q1)"
   ]
  },
  {
   "cell_type": "markdown",
   "id": "4ed944a8-da6e-4d89-b3bb-ceaf3a857770",
   "metadata": {},
   "source": [
    "### Page 6"
   ]
  },
  {
   "cell_type": "code",
   "execution_count": 9,
   "id": "50b957f4-24aa-41c1-a7d8-0a0f22e3ad9a",
   "metadata": {},
   "outputs": [],
   "source": [
    "L8P6Q1 = MC('1. What does the definition of a dynamic chart encompass?',['A. A user interface','B. Automatic data updates', 'C. Animation', 'D. All of the above'],'D. All of the above', cor='', incor='')\n"
   ]
  },
  {
   "cell_type": "code",
   "execution_count": 10,
   "id": "c3498b62-e19b-4246-9a52-0bf09955a82b",
   "metadata": {},
   "outputs": [
    {
     "data": {
      "application/vnd.jupyter.widget-view+json": {
       "model_id": "c95329906c4f4da99ca144165ac1c7f3",
       "version_major": 2,
       "version_minor": 0
      },
      "text/plain": [
       "VBox(children=(Output(outputs=({'name': 'stdout', 'text': '1. What does the definition of a dynamic chart enco…"
      ]
     },
     "metadata": {},
     "output_type": "display_data"
    }
   ],
   "source": [
    "if __name__ == \"__main__\":\n",
    "    display(L8P6Q1)"
   ]
  },
  {
   "cell_type": "markdown",
   "id": "cb532166-bae8-42cd-aa0d-6dd0d3c2abea",
   "metadata": {},
   "source": [
    "### Page 8"
   ]
  },
  {
   "cell_type": "code",
   "execution_count": 11,
   "id": "ac2c8877-cfc6-4e23-8f9d-cc73c84866d9",
   "metadata": {},
   "outputs": [],
   "source": [
    "L8P8Q1 = MC('1. Which of the following is NOT a dynamic chart you could create in MS Excel?',['A. A fully automated and animated chart','B. A chart that changes the amount of data used', 'C. A chart that shows different categories of data', 'D. A chart that utilizes an interactive scroll bar'],'A. A fully automated and animated chart', cor='', incor='')\n"
   ]
  },
  {
   "cell_type": "code",
   "execution_count": 12,
   "id": "1a905103-6c13-4a18-b148-8988ad5a554b",
   "metadata": {},
   "outputs": [
    {
     "data": {
      "application/vnd.jupyter.widget-view+json": {
       "model_id": "4566093721e14a898827903d5f1fbfe1",
       "version_major": 2,
       "version_minor": 0
      },
      "text/plain": [
       "VBox(children=(Output(outputs=({'name': 'stdout', 'text': '1. Which of the following is NOT a dynamic chart yo…"
      ]
     },
     "metadata": {},
     "output_type": "display_data"
    }
   ],
   "source": [
    "if __name__ == \"__main__\":\n",
    "    display(L8P8Q1)"
   ]
  },
  {
   "cell_type": "code",
   "execution_count": null,
   "id": "ebd5029f-54e5-470c-800a-58abaa945bbd",
   "metadata": {},
   "outputs": [],
   "source": []
  }
 ],
 "metadata": {
  "kernelspec": {
   "display_name": "Python 3 (ipykernel)",
   "language": "python",
   "name": "python3"
  },
  "language_info": {
   "codemirror_mode": {
    "name": "ipython",
    "version": 3
   },
   "file_extension": ".py",
   "mimetype": "text/x-python",
   "name": "python",
   "nbconvert_exporter": "python",
   "pygments_lexer": "ipython3",
   "version": "3.9.9"
  }
 },
 "nbformat": 4,
 "nbformat_minor": 5
}
