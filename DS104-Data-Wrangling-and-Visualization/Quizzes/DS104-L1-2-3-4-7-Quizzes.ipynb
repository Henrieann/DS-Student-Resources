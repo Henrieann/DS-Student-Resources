{
 "cells": [
  {
   "cell_type": "markdown",
   "id": "701c6664-c3af-4538-bac7-f1a5cc1826cd",
   "metadata": {},
   "source": [
    "# DS104 Questions\n",
    "\n",
    "#\n",
    "# Lesson 1\n",
    "\n",
    "## Page 2"
   ]
  },
  {
   "cell_type": "code",
   "execution_count": 1,
   "id": "9fdc1222-3d73-42e1-b6bf-b95d73e3d8ff",
   "metadata": {},
   "outputs": [],
   "source": [
    "from DS_Students import *"
   ]
  },
  {
   "cell_type": "code",
   "execution_count": 2,
   "id": "6963cd34-6d30-40e7-9b8d-b9e9be3e36a6",
   "metadata": {},
   "outputs": [],
   "source": [
    "L1P2Q1 = MC('1. What will the following code do? babies$Footprint = \"Yes\"',['A. Create a new column in the Footprint dataset called babies that is filled with the value Yes','B. Create a new column in the babies dataset called Footprint that is filled witht the value Yes','C. Create a new column in the babies dataset called Footprint that is empty', 'D. Create a new column in the Footprint dataset called babies that is empty'],'B. Create a new column in the babies dataset called Footprint that is filled witht the value Yes', cor='Adding Columns in R: DatasetName$AddingNewColumnName = \"NewValueInsideSpecifiedColumn\"', incor='')\n"
   ]
  },
  {
   "cell_type": "markdown",
   "id": "bc25d849-f627-4c10-a60e-2a48fb7108ae",
   "metadata": {},
   "source": [
    "L1P2Q1 = MC('1. Question?',['A','B','C', 'D'],'D')\n",
    "L1P2Q2 = MC('2. Question?',['A','B','C', 'D'],'D')\n",
    "L1P2Q3 = MC('3. Question?',['A','B','C', 'D'],'D')\n",
    "L1P2Q4 = MC('4. Question?',['A','B','C', 'D'],'D')\n",
    "L1P2Q5 = MC('5. Question?',['A','B','C', 'D'],'D')\n"
   ]
  },
  {
   "cell_type": "code",
   "execution_count": 3,
   "id": "6f20d99a-0d5d-482e-82a1-2adf01327726",
   "metadata": {},
   "outputs": [
    {
     "data": {
      "application/vnd.jupyter.widget-view+json": {
       "model_id": "1c6c2d54b04e44fd98895ba349442818",
       "version_major": 2,
       "version_minor": 0
      },
      "text/plain": [
       "VBox(children=(Output(outputs=({'name': 'stdout', 'text': '1. What will the following code do? babies$Footprin…"
      ]
     },
     "metadata": {},
     "output_type": "display_data"
    }
   ],
   "source": [
    "if __name__ == \"__main__\":\n",
    "    display(L1P2Q1)"
   ]
  },
  {
   "cell_type": "markdown",
   "id": "59237b93-23a1-4511-9c47-069ff58089ca",
   "metadata": {},
   "source": [
    "## Page 3"
   ]
  },
  {
   "cell_type": "code",
   "execution_count": 4,
   "id": "804f8220-30a7-408a-b4b6-c31c43c63510",
   "metadata": {},
   "outputs": [],
   "source": [
    "L1P3Q1 = MC('2. What will the following code do? babies[\"Footprint\"] = \"No\"',['A. Create a new column in the Footprint dataset called babies that is filled with the value No','B. Create a new column in the babies dataset called Footprint that is filled witht the value No','C.Create a new column in the babies dataset called Footprint that is empty ', 'D. Create a new column in the Footprint dataset called babies that is empty'],'B. Create a new column in the babies dataset called Footprint that is filled witht the value No', cor='Adding Columns in Python: DatasetName[\"AddingNewColumnName\"] = \"NewValueInsideSpecifiedColumn\"', incor='')\n"
   ]
  },
  {
   "cell_type": "markdown",
   "id": "35661294-10f1-4ed9-b382-e7f263e38976",
   "metadata": {},
   "source": [
    "L1P3Q1 = MC('1. Question?',['A','B','C', 'D'],'D')\n",
    "L1P3Q2 = MC('2. Question?',['A','B','C', 'D'],'D')\n",
    "L1P3Q3 = MC('3. Question?',['A','B','C', 'D'],'D')\n",
    "L1P3Q4 = MC('4. Question?',['A','B','C', 'D'],'D')\n",
    "L1P3Q5 = MC('5. Question?',['A','B','C', 'D'],'D')\n"
   ]
  },
  {
   "cell_type": "code",
   "execution_count": 5,
   "id": "395b4e32-213a-432c-8570-dba7e76bc602",
   "metadata": {},
   "outputs": [
    {
     "data": {
      "application/vnd.jupyter.widget-view+json": {
       "model_id": "1629e2b04faf4e26a86a62666c9fa4aa",
       "version_major": 2,
       "version_minor": 0
      },
      "text/plain": [
       "VBox(children=(Output(outputs=({'name': 'stdout', 'text': '2. What will the following code do? babies[\"Footpri…"
      ]
     },
     "metadata": {},
     "output_type": "display_data"
    }
   ],
   "source": [
    "if __name__ == \"__main__\":\n",
    "    display(L1P3Q1)"
   ]
  },
  {
   "cell_type": "markdown",
   "id": "214526dd-72ee-40d8-a2e5-41e165dcd951",
   "metadata": {},
   "source": [
    "## Page 4"
   ]
  },
  {
   "cell_type": "code",
   "execution_count": 6,
   "id": "bb0caab7-f101-4130-8828-01a93915ed5d",
   "metadata": {},
   "outputs": [],
   "source": [
    "L1P4Q1 = MC('3. What is the function used in R to rename columns?',['A. rename()','B. names()','C. There is no function'],'B. names()', cor='names() function, renames columns in R', incor= '')\n",
    "L1P4Q2 = MC('2. What does the following code do? names(babies)[names(babies) == \"Weight\"] <- \"BabyWeight\"',['A. Change the values in the Babyweight column to Weight','B. Change the values in the Weight column to BabyWeight','C. Rename the BabyWeight column to Weight', 'D. Rename the Weight column to BabyWeight'],'D. Rename the Weight column to BabyWeight', cor= 'names(DatasetName)[names(DatasetName) == \"OldColumnName\"] <- \"NewColumnName\"', incor='')\n",
    "L1P4Q3 = MC('3. True or False? The following is a good column name: Gen Kids',['A. True','B. False'],'B. False', cor=' False: This column is not a good name to rename a column because it contains spaces and the meaning is not very clear - gen could stand for gender, generation, etc', incor='')\n"
   ]
  },
  {
   "cell_type": "markdown",
   "id": "cdd63ebc-99a6-42c9-8ca5-e132dd120d24",
   "metadata": {},
   "source": [
    "L1P4Q1 = MC('1. Question?',['A','B','C', 'D'],'D')\n",
    "L1P4Q2 = MC('2. Question?',['A','B','C', 'D'],'D')\n",
    "L1P4Q3 = MC('3. Question?',['A','B','C', 'D'],'D')\n",
    "L1P4Q4 = MC('4. Question?',['A','B','C', 'D'],'D')\n",
    "L1P4Q5 = MC('5. Question?',['A','B','C', 'D'],'D')\n"
   ]
  },
  {
   "cell_type": "code",
   "execution_count": 7,
   "id": "3adf2b8c-6d74-449d-abd7-f2ecd2cef18e",
   "metadata": {},
   "outputs": [
    {
     "data": {
      "application/vnd.jupyter.widget-view+json": {
       "model_id": "ad3b6f52bc374127832c1dd8d8064caa",
       "version_major": 2,
       "version_minor": 0
      },
      "text/plain": [
       "VBox(children=(Output(outputs=({'name': 'stdout', 'text': '3. What is the function used in R to rename columns…"
      ]
     },
     "metadata": {},
     "output_type": "display_data"
    },
    {
     "data": {
      "application/vnd.jupyter.widget-view+json": {
       "model_id": "8f77405795074478abcb3ccaccf365d4",
       "version_major": 2,
       "version_minor": 0
      },
      "text/plain": [
       "VBox(children=(Output(outputs=({'name': 'stdout', 'text': '2. What does the following code do? names(babies)[n…"
      ]
     },
     "metadata": {},
     "output_type": "display_data"
    },
    {
     "data": {
      "application/vnd.jupyter.widget-view+json": {
       "model_id": "6602bebdc395416194c7d0117ef0026d",
       "version_major": 2,
       "version_minor": 0
      },
      "text/plain": [
       "VBox(children=(Output(outputs=({'name': 'stdout', 'text': '3. True or False? The following is a good column na…"
      ]
     },
     "metadata": {},
     "output_type": "display_data"
    }
   ],
   "source": [
    "if __name__ == \"__main__\":\n",
    "    display(L1P4Q1, L1P4Q2, L1P4Q3)"
   ]
  },
  {
   "cell_type": "markdown",
   "id": "108d5139-1700-4dde-8d88-66796da8fae0",
   "metadata": {},
   "source": [
    "## Page 5"
   ]
  },
  {
   "cell_type": "code",
   "execution_count": 8,
   "id": "27aac8f4-a1d5-465f-92d9-534378e76d18",
   "metadata": {},
   "outputs": [],
   "source": [
    "L1P5Q1 = MC('1. What is the function used in Python to rename columns?',['A. renames()','B. names() This is the function used in R','C. inplace = True , This is the agrument used to make the change permanent', 'D. There is no function'],'A. renames()', cor=\" The rename() method of pandas.DataFrame to change column / index name individually.\", incor= '')\n",
    "L1P5Q2 = MC('2. What does the following code do? babies.rename(columns={\"Weight\" : \"BabyWeight\"}, inplace=True)',['A. Change the values in the Babyweight column to Weight','B. Change the values in the Weight column to BabyWeight','C. Rename the BabyWeight column to Weight', 'D. Rename the Weight column to BabyWeight'],'D. Rename the Weight column to BabyWeight', cor= 'DatasetName.rename(columns={\"OldColumnName\" : \"NewColumnName\"}, inplace=True)', incor='')\n",
    "L1P5Q3 = MC('3. True or False?',['A. True','B. False'],'B. False', cor= \"Python does not support periods as part of variable names\", incor='')\n"
   ]
  },
  {
   "cell_type": "markdown",
   "id": "dbad1965-c117-4e0a-a490-c72c2b834dc1",
   "metadata": {},
   "source": [
    "L1P5Q1 = MC('1. Question?',['A','B','C', 'D'],'D')\n",
    "L1P5Q2 = MC('2. Question?',['A','B','C', 'D'],'D')\n",
    "L1P5Q3 = MC('3. Question?',['A','B','C', 'D'],'D')\n",
    "L1P5Q4 = MC('4. Question?',['A','B','C', 'D'],'D')\n",
    "L1P5Q5 = MC('5. Question?',['A','B','C', 'D'],'D')"
   ]
  },
  {
   "cell_type": "code",
   "execution_count": 9,
   "id": "e33a33b6-a747-41db-aa4c-9dc9a112fd0a",
   "metadata": {},
   "outputs": [
    {
     "data": {
      "application/vnd.jupyter.widget-view+json": {
       "model_id": "01b41624ae744dad8e57e8377ab30aad",
       "version_major": 2,
       "version_minor": 0
      },
      "text/plain": [
       "VBox(children=(Output(outputs=({'name': 'stdout', 'text': '1. What is the function used in Python to rename co…"
      ]
     },
     "metadata": {},
     "output_type": "display_data"
    },
    {
     "data": {
      "application/vnd.jupyter.widget-view+json": {
       "model_id": "8a8936b309b74c929e47e03b964143a5",
       "version_major": 2,
       "version_minor": 0
      },
      "text/plain": [
       "VBox(children=(Output(outputs=({'name': 'stdout', 'text': '2. What does the following code do? babies.rename(c…"
      ]
     },
     "metadata": {},
     "output_type": "display_data"
    },
    {
     "data": {
      "application/vnd.jupyter.widget-view+json": {
       "model_id": "e7b92b9abe5441079adf988276686d69",
       "version_major": 2,
       "version_minor": 0
      },
      "text/plain": [
       "VBox(children=(Output(outputs=({'name': 'stdout', 'text': '3. True or False?\\n', 'output_type': 'stream'},)), …"
      ]
     },
     "metadata": {},
     "output_type": "display_data"
    }
   ],
   "source": [
    "if __name__ == \"__main__\":\n",
    "    display(L1P5Q1, L1P5Q2, L1P5Q3)"
   ]
  },
  {
   "cell_type": "markdown",
   "id": "a84efdae-f709-44fc-a554-1b2b668e6038",
   "metadata": {},
   "source": [
    "## Page 6"
   ]
  },
  {
   "cell_type": "code",
   "execution_count": 10,
   "id": "ef7e45c2-7bbc-4b6e-8ee9-dd81e4b3acea",
   "metadata": {},
   "outputs": [],
   "source": [
    "L1P6Q1 = MC('1. Which function will combine columns in R?',['A. c()','B. names()','C. unite()', 'D. seperate()'],'C. unite()', cor= 'The unite() method is used to merge two or more columns into a single column or variable', incor= '')\n",
    "L1P6Q2 = MultipleChoice(\"2. True or False? If you get this warning message, then there's a chance your separators haven't worked like you thought when combining columns: Expected X pieces. Additional pieces discard.\",['A. True','B. False'],'A. True')\n"
   ]
  },
  {
   "cell_type": "markdown",
   "id": "4eb34ae0-9f23-4dec-9166-715ffe4ecb15",
   "metadata": {},
   "source": [
    "L1P6Q1 = MC('1. Question?',['A','B','C', 'D'],'D')\n",
    "L1P6Q2 = MC('2. Question?',['A','B','C', 'D'],'D')\n",
    "L1P6Q3 = MC('3. Question?',['A','B','C', 'D'],'D')\n",
    "L1P6Q4 = MC('4. Question?',['A','B','C', 'D'],'D')\n",
    "L1P6Q5 = MC('5. Question?',['A','B','C', 'D'],'D')"
   ]
  },
  {
   "cell_type": "code",
   "execution_count": 11,
   "id": "5e57d136-7016-44b0-b430-5f34233a786d",
   "metadata": {},
   "outputs": [
    {
     "data": {
      "application/vnd.jupyter.widget-view+json": {
       "model_id": "c9446d53497b40b8bd16c6c5e0651b10",
       "version_major": 2,
       "version_minor": 0
      },
      "text/plain": [
       "VBox(children=(Output(outputs=({'name': 'stdout', 'text': '1. Which function will combine columns in R?\\n', 'o…"
      ]
     },
     "metadata": {},
     "output_type": "display_data"
    },
    {
     "data": {
      "application/vnd.jupyter.widget-view+json": {
       "model_id": "d2b37fb15d4f44e6aa3e820524ef1573",
       "version_major": 2,
       "version_minor": 0
      },
      "text/plain": [
       "VBox(children=(Output(outputs=({'name': 'stdout', 'text': \"2. True or False? If you get this warning message, …"
      ]
     },
     "metadata": {},
     "output_type": "display_data"
    }
   ],
   "source": [
    "if __name__ == \"__main__\":\n",
    "    display(L1P6Q1, L1P6Q2)"
   ]
  },
  {
   "cell_type": "markdown",
   "id": "fcf406c2-3f4d-438e-8dc6-e53dcae822f7",
   "metadata": {},
   "source": [
    "## Page 7 CONTINUE HERE!!!!"
   ]
  },
  {
   "cell_type": "code",
   "execution_count": 12,
   "id": "9b7ce9f2-156f-429a-b0c5-3cadc6f5173c",
   "metadata": {},
   "outputs": [],
   "source": [
    "L1P7Q1 = MultipleChoice('1. What is does the sep= argument do?',['A. It is a character where the columns will be split','B. It gives the new columns names','C. It makes a new dataset', 'D. It creates a vector'],'A. It is a character where the columns will be split')\n",
    "L1P7Q2 = MultipleChoice('2. You have data in a column named FullName that has this piece of data after a historical elopement: Juliet Capulet MontagueHow would you break this column into FirstName, MiddleName, and LastName?',['A. data1 <- separate(data, FullName, c(\"FirstName\", \"MiddleName\", \"LastName\"), sep=\"/\")','B. data1 <- separate(data, FullName, c(\"FirstName\", \"MiddleName\", \"LastName\"), sep=\" \")','C. data1 <- separate(data, FirstName, MiddleName, LastName, c(\"FullName\"), sep=\" \")', 'D. data1 <- separate(data, FirstName, MiddleName, LastName, c(\"FullName\"), sep=\"/\")'],'B. data1 <- separate(data, FullName, c(\"FirstName\", \"MiddleName\", \"LastName\"), sep=\" \")')\n"
   ]
  },
  {
   "cell_type": "markdown",
   "id": "cc866ba2-e1f6-415d-b33f-8368fb31ea2b",
   "metadata": {},
   "source": [
    "L1P7Q1 = MC('1. Question?',['A','B','C', 'D'],'D')\n",
    "L1P7Q2 = MC('2. Question?',['A','B','C', 'D'],'D')\n",
    "L1P7Q3 = MC('3. Question?',['A','B','C', 'D'],'D')\n",
    "L1P7Q4 = MC('4. Question?',['A','B','C', 'D'],'D')\n",
    "L1P7Q5 = MC('5. Question?',['A','B','C', 'D'],'D')"
   ]
  },
  {
   "cell_type": "code",
   "execution_count": 13,
   "id": "83eaf88c-2414-483b-8305-f7e679dc2cb4",
   "metadata": {},
   "outputs": [
    {
     "data": {
      "application/vnd.jupyter.widget-view+json": {
       "model_id": "de61a603adea4bfbbd574b8dcb9c21f3",
       "version_major": 2,
       "version_minor": 0
      },
      "text/plain": [
       "VBox(children=(Output(outputs=({'name': 'stdout', 'text': '1. What is does the sep= argument do?\\n', 'output_t…"
      ]
     },
     "metadata": {},
     "output_type": "display_data"
    },
    {
     "data": {
      "application/vnd.jupyter.widget-view+json": {
       "model_id": "19b02d7dc4f94077825c8647f4a68a17",
       "version_major": 2,
       "version_minor": 0
      },
      "text/plain": [
       "VBox(children=(Output(outputs=({'name': 'stdout', 'text': '2. You have data in a column named\\xa0FullName\\xa0t…"
      ]
     },
     "metadata": {},
     "output_type": "display_data"
    }
   ],
   "source": [
    "if __name__ == \"__main__\":\n",
    "    display(L1P7Q1, L1P7Q2)"
   ]
  },
  {
   "cell_type": "markdown",
   "id": "d9027fb4-ce19-4620-9afa-674232f5dcf2",
   "metadata": {},
   "source": [
    "## Page 8"
   ]
  },
  {
   "cell_type": "code",
   "execution_count": 14,
   "id": "e5d99266-0b4b-4efa-87b3-ceb9c5d6b064",
   "metadata": {},
   "outputs": [],
   "source": [
    "L1P8Q1 = MultipleChoice('1. What would this new column end up looking like, given the example code provided below? data1[\"UniqueID\"] = data[\"DateOfBirth\"] + \",\" + data[\"LastName\"].map(str)',['A. Adams, 12/5/96','B. 12/5/96,Adams','C. 12/5/96, Adams', 'D. 12/5/96 Adams'],'B. 12/5/96,Adams')\n",
    "L1P8Q2 = MultipleChoice(\"1. What does the str specifier do when you're combining columns in Python?\",['A. Turn the information into a number','B. Turn the information into a string','C. Concatenate', 'D. Append'],'B. Turn the information into a string')\n"
   ]
  },
  {
   "cell_type": "markdown",
   "id": "556e2feb-32b8-4978-8d97-eeaa7038a1b5",
   "metadata": {},
   "source": [
    "L1P8Q1 = MC('1. Question?',['A','B','C', 'D'],'D')\n",
    "L1P8Q2 = MC('2. Question?',['A','B','C', 'D'],'D')\n",
    "L1P8Q3 = MC('3. Question?',['A','B','C', 'D'],'D')\n",
    "L1P8Q4 = MC('4. Question?',['A','B','C', 'D'],'D')\n",
    "L1P8Q5 = MC('5. Question?',['A','B','C', 'D'],'D')"
   ]
  },
  {
   "cell_type": "code",
   "execution_count": 15,
   "id": "5a6b263b-b11e-4881-abde-87a8d7a17d2a",
   "metadata": {},
   "outputs": [
    {
     "data": {
      "application/vnd.jupyter.widget-view+json": {
       "model_id": "36c1536d9e064ad99f55f44651b05363",
       "version_major": 2,
       "version_minor": 0
      },
      "text/plain": [
       "VBox(children=(Output(outputs=({'name': 'stdout', 'text': '1. What would this new column end up looking like, …"
      ]
     },
     "metadata": {},
     "output_type": "display_data"
    },
    {
     "data": {
      "application/vnd.jupyter.widget-view+json": {
       "model_id": "4f68026135284ff19fb2705d8c928eed",
       "version_major": 2,
       "version_minor": 0
      },
      "text/plain": [
       "VBox(children=(Output(outputs=({'name': 'stdout', 'text': \"1. What does the\\xa0str\\xa0specifier do when you're…"
      ]
     },
     "metadata": {},
     "output_type": "display_data"
    }
   ],
   "source": [
    "if __name__ == \"__main__\":\n",
    "    display(L1P8Q1, L1P8Q2)"
   ]
  },
  {
   "cell_type": "markdown",
   "id": "fc0cc521-0127-4d74-bebf-d47201f1b19c",
   "metadata": {},
   "source": [
    "## Page 9"
   ]
  },
  {
   "cell_type": "code",
   "execution_count": 16,
   "id": "7b3bb1e6-3fc9-4d24-868d-e570aabd6edf",
   "metadata": {},
   "outputs": [],
   "source": [
    "L1P9Q1 = MultipleChoice('1. Which of the following separates a column in Python?',['A. .rename() This function is used to rename columns.','B. expand=True This function is used to make the columns a dataframe rather than a list.','C. str.split()', 'D. pd.concat()This function appends data.'],'C. str.split()')\n",
    "L1P9Q2 = MultipleChoice('2. What does the argument axis=1 do in the pd.concat() function?',['A. Add columns side by side','B. Add rows','C. Make the change permanent', 'D. Split a string'],'A. Add columns side by side')"
   ]
  },
  {
   "cell_type": "markdown",
   "id": "40c91ee9-b859-42ff-8f34-44732c90bc76",
   "metadata": {},
   "source": [
    "L1P9Q1 = MC('1. Question?',['A','B','C', 'D'],'D')\n",
    "L1P9Q2 = MC('2. Question?',['A','B','C', 'D'],'D')\n",
    "L1P9Q3 = MC('3. Question?',['A','B','C', 'D'],'D')\n",
    "L1P9Q4 = MC('4. Question?',['A','B','C', 'D'],'D')\n",
    "L1P9Q5 = MC('5. Question?',['A','B','C', 'D'],'D')"
   ]
  },
  {
   "cell_type": "code",
   "execution_count": 17,
   "id": "73ec7fdb-358e-4333-a960-fe26e4d83a3f",
   "metadata": {},
   "outputs": [
    {
     "data": {
      "application/vnd.jupyter.widget-view+json": {
       "model_id": "84b9a49fe56341bbb18c745fb0b76171",
       "version_major": 2,
       "version_minor": 0
      },
      "text/plain": [
       "VBox(children=(Output(outputs=({'name': 'stdout', 'text': '1. Which of the following separates a column in Pyt…"
      ]
     },
     "metadata": {},
     "output_type": "display_data"
    },
    {
     "data": {
      "application/vnd.jupyter.widget-view+json": {
       "model_id": "5522b68b73eb47779d9eb4d42a9513fe",
       "version_major": 2,
       "version_minor": 0
      },
      "text/plain": [
       "VBox(children=(Output(outputs=({'name': 'stdout', 'text': '2. What does the argument\\xa0axis=1\\xa0do in the\\xa…"
      ]
     },
     "metadata": {},
     "output_type": "display_data"
    }
   ],
   "source": [
    "if __name__ == \"__main__\":\n",
    "    display(L1P9Q1, L1P9Q2)"
   ]
  },
  {
   "cell_type": "markdown",
   "id": "c0a77dd3-e852-408a-8832-75fc8dd94444",
   "metadata": {},
   "source": [
    "## Page 10"
   ]
  },
  {
   "cell_type": "code",
   "execution_count": 18,
   "id": "0ee6565d-e5c5-4d98-9b1c-4e6b16f058a2",
   "metadata": {},
   "outputs": [],
   "source": [
    "L1P10Q1 = MultipleChoice('1. What will this line of code keep? poverty1 <- poverty[35: 500, 2:8]',['A. Rows 35-500 and columns 2-8','B. Columns 35-500 and rows 2-8 '],'A. Rows 35-500 and columns 2-8')"
   ]
  },
  {
   "cell_type": "markdown",
   "id": "e875921b-d2a4-4f00-9d8a-6628a258f114",
   "metadata": {},
   "source": [
    "L1P10Q1 = MC('1. Question?',['A','B','C', 'D'],'D')\n",
    "L1P10Q2 = MC('2. Question?',['A','B','C', 'D'],'D')\n",
    "L1P10Q3 = MC('3. Question?',['A','B','C', 'D'],'D')\n",
    "L1P10Q4 = MC('4. Question?',['A','B','C', 'D'],'D')\n",
    "L1P10Q5 = MC('5. Question?',['A','B','C', 'D'],'D')"
   ]
  },
  {
   "cell_type": "code",
   "execution_count": 19,
   "id": "3a63ec17-2155-458c-aabf-cfcfd32dee63",
   "metadata": {},
   "outputs": [
    {
     "data": {
      "application/vnd.jupyter.widget-view+json": {
       "model_id": "ffa118d14ed34bc1b1bc53d3c1421b59",
       "version_major": 2,
       "version_minor": 0
      },
      "text/plain": [
       "VBox(children=(Output(outputs=({'name': 'stdout', 'text': '1. What will this line of code keep? poverty1 <- po…"
      ]
     },
     "metadata": {},
     "output_type": "display_data"
    }
   ],
   "source": [
    "if __name__ == \"__main__\":\n",
    "    display(L1P10Q1)"
   ]
  },
  {
   "cell_type": "markdown",
   "id": "31205ce5-4ea0-4b22-8916-651509780013",
   "metadata": {},
   "source": [
    "## Page 11"
   ]
  },
  {
   "cell_type": "code",
   "execution_count": 20,
   "id": "12e88c31-fd77-4f1d-8049-9f4912801b0d",
   "metadata": {},
   "outputs": [
    {
     "name": "stderr",
     "output_type": "stream",
     "text": [
      "/opt/homebrew/Cellar/jupyterlab/3.2.5/libexec/lib/python3.9/site-packages/IPython/core/inputtransformer2.py:486: UserWarning: `make_tokens_by_line` received a list of lines which do not have lineending markers ('\\n', '\\r', '\\r\\n', '\\x0b', '\\x0c'), behavior will be unspecified\n",
      "  warnings.warn(\"`make_tokens_by_line` received a list of lines which do not have lineending markers ('\\\\n', '\\\\r', '\\\\r\\\\n', '\\\\x0b', '\\\\x0c'), behavior will be unspecified\")\n"
     ]
    }
   ],
   "source": [
    "L1P11Q1 = MultipleChoice('1. What function would you use to drop columns in Python?',[\"A. You don't use a function - just place the names of the columns in double brackets. This is how you would keep columns in Python.\",'B. .drop()','C. .rename() This is used to rename columns in Python.', 'D. keeps() ",
    "You would use a vector named keeps and apply it to keep columns in R.'],'B. .drop()')\n",
    "L1P11Q2 = MultipleChoice('2. What does this code do? data2 = data[:17]',['A. Keeps the first 17 columns','B. Drops the first 17 columns','C. Keeps the first 17 rows', 'D. Drops the first 17 rows'],'C. Keeps the first 17 rows')\n"
   ]
  },
  {
   "cell_type": "markdown",
   "id": "6402e8a9-bf8c-4d42-a624-b048ab53376c",
   "metadata": {},
   "source": [
    "L1P11Q1 = MC('1. Question?',['A','B','C', 'D'],'D')\n",
    "L1P11Q2 = MC('2. Question?',['A','B','C', 'D'],'D')\n",
    "L1P11Q3 = MC('3. Question?',['A','B','C', 'D'],'D')\n",
    "L1P11Q4 = MC('4. Question?',['A','B','C', 'D'],'D')\n",
    "L1P11Q5 = MC('5. Question?',['A','B','C', 'D'],'D')"
   ]
  },
  {
   "cell_type": "code",
   "execution_count": 21,
   "id": "2e0addbd-2fae-4349-9ef4-2c263dd20a3f",
   "metadata": {},
   "outputs": [
    {
     "data": {
      "application/vnd.jupyter.widget-view+json": {
       "model_id": "c422a9536e6f4c98accd7181e1affede",
       "version_major": 2,
       "version_minor": 0
      },
      "text/plain": [
       "VBox(children=(Output(outputs=({'name': 'stdout', 'text': '1. What function would you use to drop columns in P…"
      ]
     },
     "metadata": {},
     "output_type": "display_data"
    },
    {
     "data": {
      "application/vnd.jupyter.widget-view+json": {
       "model_id": "81197cdd6542457a9f59fc0b4ba6c06f",
       "version_major": 2,
       "version_minor": 0
      },
      "text/plain": [
       "VBox(children=(Output(outputs=({'name': 'stdout', 'text': '2. What does this code do? data2 = data[:17]\\n', 'o…"
      ]
     },
     "metadata": {},
     "output_type": "display_data"
    }
   ],
   "source": [
    "if __name__ == \"__main__\":\n",
    "    display(L1P11Q1, L1P11Q2)"
   ]
  },
  {
   "cell_type": "markdown",
   "id": "fbd02314-2ef4-43be-aa7f-82453a99c3aa",
   "metadata": {},
   "source": [
    "# Lesson 2"
   ]
  },
  {
   "cell_type": "markdown",
   "id": "fd7a9e27-0f5c-4f41-8c60-c0679796b53d",
   "metadata": {},
   "source": [
    "## Page 2"
   ]
  },
  {
   "cell_type": "code",
   "execution_count": 22,
   "id": "fc0a8ebf-f2f5-49e2-a86d-77552ea4f910",
   "metadata": {},
   "outputs": [],
   "source": [
    "L2P2Q1 = MultipleChoice('1. In which library is the t() function located?',['A. ggplot2','B. base R','C. tidyr', 'D. dplyr'],'C. tidyr')\n",
    "L2P2Q2 = MultipleChoice('2. What does the function t() do?',['A. Flips your data','B. Flips your data only from wide to long The t() function will flip your data the reverse way of what it is currently in.',\"C. Renames your data after a flip To rename your data after a flip, make use of the names() and gsub() functions.\", 'D. Changes your dataset to a data frame. This would be the function as.data.frame().'],'A. Flips your data')\n",
    "L2P2Q3 = MultipleChoice('3. Which function will allow you to determine the format of your data?',['A. t() This transposes your data.','B. str() This checks the variable type of your data.','C. class()', 'D. as.data.frame() This turns your data into a data frame.'],'C. class()')\n",
    "L2P2Q4 = MultipleChoice(\"4. True or False? gsub() conceptually functions similarly to Python's lambda x function.\",['A. True','B. False'],'A. True')\n"
   ]
  },
  {
   "cell_type": "code",
   "execution_count": 23,
   "id": "9da89662-599d-4833-a17a-a8a93847c536",
   "metadata": {},
   "outputs": [
    {
     "data": {
      "application/vnd.jupyter.widget-view+json": {
       "model_id": "7109186f515545e6afd3304df190a3b4",
       "version_major": 2,
       "version_minor": 0
      },
      "text/plain": [
       "VBox(children=(Output(outputs=({'name': 'stdout', 'text': '1. In which library is the\\xa0t()\\xa0function locat…"
      ]
     },
     "metadata": {},
     "output_type": "display_data"
    },
    {
     "data": {
      "application/vnd.jupyter.widget-view+json": {
       "model_id": "a76cde78758842588770dfde402b3d58",
       "version_major": 2,
       "version_minor": 0
      },
      "text/plain": [
       "VBox(children=(Output(outputs=({'name': 'stdout', 'text': '2. What does the function\\xa0t()\\xa0do?\\n', 'output…"
      ]
     },
     "metadata": {},
     "output_type": "display_data"
    },
    {
     "data": {
      "application/vnd.jupyter.widget-view+json": {
       "model_id": "7085218de7d9465389b58c7375eec0ed",
       "version_major": 2,
       "version_minor": 0
      },
      "text/plain": [
       "VBox(children=(Output(outputs=({'name': 'stdout', 'text': '3. Which function will allow you to determine the f…"
      ]
     },
     "metadata": {},
     "output_type": "display_data"
    },
    {
     "data": {
      "application/vnd.jupyter.widget-view+json": {
       "model_id": "c78fb16f79864ae8883bfa6c6560f946",
       "version_major": 2,
       "version_minor": 0
      },
      "text/plain": [
       "VBox(children=(Output(outputs=({'name': 'stdout', 'text': \"4. True or False? gsub() conceptually functions sim…"
      ]
     },
     "metadata": {},
     "output_type": "display_data"
    }
   ],
   "source": [
    "if __name__ == \"__main__\":\n",
    "    display(L2P2Q1, L2P2Q2, L2P2Q3, L2P2Q4)"
   ]
  },
  {
   "cell_type": "markdown",
   "id": "3df3489b-6780-4319-a4cf-e4260035f831",
   "metadata": {},
   "source": [
    "## Page 5"
   ]
  },
  {
   "cell_type": "code",
   "execution_count": 24,
   "id": "bfbf849f-0e90-4622-9549-34451f1e3aae",
   "metadata": {},
   "outputs": [],
   "source": [
    "L2P5Q1 = MultipleChoice('1. What does the argument set_index() allow you to do with the function .T?',['A. Flip the data from the long to wide','B. Flip the data from wide to long','C. Automatically re-name the transposed data columns', 'D. Change the Python system from zero-index to one-index'],'C. Automatically re-name the transposed data columns')\n"
   ]
  },
  {
   "cell_type": "code",
   "execution_count": 25,
   "id": "00b75a16-5f3a-4c50-835e-d2cdb8b5fc51",
   "metadata": {},
   "outputs": [
    {
     "data": {
      "application/vnd.jupyter.widget-view+json": {
       "model_id": "048e86bbb5df48259d101960f516ca70",
       "version_major": 2,
       "version_minor": 0
      },
      "text/plain": [
       "VBox(children=(Output(outputs=({'name': 'stdout', 'text': '1. What does the argument\\xa0set_index()\\xa0allow y…"
      ]
     },
     "metadata": {},
     "output_type": "display_data"
    }
   ],
   "source": [
    "if __name__ == \"__main__\":\n",
    "    display(L2P5Q1)"
   ]
  },
  {
   "cell_type": "markdown",
   "id": "4ffabc98-4399-4737-8f8b-ec99f1eae529",
   "metadata": {},
   "source": [
    "## Page 8"
   ]
  },
  {
   "cell_type": "code",
   "execution_count": 26,
   "id": "a4b7c6b6-3d4e-4e1d-a16b-bbeff996b20f",
   "metadata": {},
   "outputs": [],
   "source": [
    "L2P8Q1 = MultipleChoice('1.True or False? It is easy to transpose small amounts of data in a spreadsheet program.',['A. True','B. False'],'A. True')\n"
   ]
  },
  {
   "cell_type": "code",
   "execution_count": 27,
   "id": "067f4336-7f3d-4622-a10c-10682361c6ba",
   "metadata": {},
   "outputs": [
    {
     "data": {
      "application/vnd.jupyter.widget-view+json": {
       "model_id": "c5ec134debd545a7a60fc54b8d80fb96",
       "version_major": 2,
       "version_minor": 0
      },
      "text/plain": [
       "VBox(children=(Output(outputs=({'name': 'stdout', 'text': '1.True or False? It is easy to transpose small amou…"
      ]
     },
     "metadata": {},
     "output_type": "display_data"
    }
   ],
   "source": [
    "if __name__ == \"__main__\":\n",
    "    display(L2P8Q1)"
   ]
  },
  {
   "cell_type": "markdown",
   "id": "afe2c131-7318-42a8-bad1-e12c9739ab8f",
   "metadata": {},
   "source": [
    "## Page 9"
   ]
  },
  {
   "cell_type": "code",
   "execution_count": 28,
   "id": "b30a483f-2ad3-4221-94f9-6f0799b10818",
   "metadata": {},
   "outputs": [],
   "source": [
    "L2P9Q1 = MultipleChoice('1. Which type of join would provide all the data in both tables?',['A. Full Outer','B. Inner','C. Left', 'D. Right'],'A. Full Outer')\n",
    "L2P9Q2 = MultipleChoice('2. Which type of join would provide all the data on the left, but only data that matched the first table on the right?',['A. Full Outer','B. Inner','C. Left', 'D. Right'],'C. Left')\n",
    "L2P9Q3 = MultipleChoice('3. If you were adding data to the bottom of your dataset, or columns to the end of your dataset, what is this called?',['A. Concatenating','B. Merging','C. Joining', 'D. Appending'],'D. Appending')\n"
   ]
  },
  {
   "cell_type": "code",
   "execution_count": 29,
   "id": "bbbe39a4-727b-4a09-a400-00a26e044fb2",
   "metadata": {},
   "outputs": [
    {
     "data": {
      "application/vnd.jupyter.widget-view+json": {
       "model_id": "5bc8676b440c491eb0ff6f814949d4bd",
       "version_major": 2,
       "version_minor": 0
      },
      "text/plain": [
       "VBox(children=(Output(outputs=({'name': 'stdout', 'text': '1. Which type of join would provide all the data in…"
      ]
     },
     "metadata": {},
     "output_type": "display_data"
    },
    {
     "data": {
      "application/vnd.jupyter.widget-view+json": {
       "model_id": "d3443ead7f53466aaa488dcd691226ad",
       "version_major": 2,
       "version_minor": 0
      },
      "text/plain": [
       "VBox(children=(Output(outputs=({'name': 'stdout', 'text': '2. Which type of join would provide all the data on…"
      ]
     },
     "metadata": {},
     "output_type": "display_data"
    },
    {
     "data": {
      "application/vnd.jupyter.widget-view+json": {
       "model_id": "0f066d5dcecc47f284c7a4af403886bf",
       "version_major": 2,
       "version_minor": 0
      },
      "text/plain": [
       "VBox(children=(Output(outputs=({'name': 'stdout', 'text': '3. If you were adding data to the bottom of your da…"
      ]
     },
     "metadata": {},
     "output_type": "display_data"
    }
   ],
   "source": [
    "if __name__ == \"__main__\":\n",
    "    display(L2P9Q1, L2P9Q2, L2P9Q3)"
   ]
  },
  {
   "cell_type": "markdown",
   "id": "c0750caf-51bf-44b0-97b0-36a5a936a157",
   "metadata": {},
   "source": [
    "## Page 10"
   ]
  },
  {
   "cell_type": "code",
   "execution_count": 30,
   "id": "962fbce1-d8ee-4052-b3a1-59fd0e1a836a",
   "metadata": {},
   "outputs": [],
   "source": [
    "L2P10Q1 = MC('1. True or False? By default, R provides an Outer Join.',['A. True','B. False'],'B. False', cor='False: R provides an inner join by default, but you can change it to an outer join by using the argument all=TRUE.', incor=\" \")\n",
    "L2P10Q2 = MC('2. True or False? It is possible to merge based on columns that contain the same data, but are named differently.',['A. True','B. False'],'A. True', cor= \"True: You will need to make use of the by x= and by y= arguments to do so.\", incor= \" \")\n"
   ]
  },
  {
   "cell_type": "code",
   "execution_count": 31,
   "id": "48e2b24d-4a5b-4f22-bb77-c5159b6b7df5",
   "metadata": {},
   "outputs": [
    {
     "data": {
      "application/vnd.jupyter.widget-view+json": {
       "model_id": "23fdef735efc4086a8e3ad9c72af1612",
       "version_major": 2,
       "version_minor": 0
      },
      "text/plain": [
       "VBox(children=(Output(outputs=({'name': 'stdout', 'text': '1. True or False? By default, R provides an Outer J…"
      ]
     },
     "metadata": {},
     "output_type": "display_data"
    },
    {
     "data": {
      "application/vnd.jupyter.widget-view+json": {
       "model_id": "a1489a7a46194810815c7aedafde4b97",
       "version_major": 2,
       "version_minor": 0
      },
      "text/plain": [
       "VBox(children=(Output(outputs=({'name': 'stdout', 'text': '2. True or False? It is possible to merge based on …"
      ]
     },
     "metadata": {},
     "output_type": "display_data"
    }
   ],
   "source": [
    "if __name__ == \"__main__\":\n",
    "    display(L2P10Q1, L2P10Q2)"
   ]
  },
  {
   "cell_type": "markdown",
   "id": "f80e4487-e16e-4e0c-943b-4261c69192d4",
   "metadata": {},
   "source": [
    "## Page 11"
   ]
  },
  {
   "cell_type": "code",
   "execution_count": 32,
   "id": "319447e2-ccda-4a37-8933-6762bd7d05c7",
   "metadata": {},
   "outputs": [],
   "source": [
    "L2P11Q1 = MultipleChoice('1. What is the function for appending data in R?',['A. join()','B. merge()','C. rbind()', 'D. append()'],'C. rbind()')\n"
   ]
  },
  {
   "cell_type": "code",
   "execution_count": 33,
   "id": "c64a7c46-f5f7-4e3b-9ed8-476593f27ffe",
   "metadata": {},
   "outputs": [
    {
     "data": {
      "application/vnd.jupyter.widget-view+json": {
       "model_id": "ff7cbb05b2a044f9b1e08e15748f2ee8",
       "version_major": 2,
       "version_minor": 0
      },
      "text/plain": [
       "VBox(children=(Output(outputs=({'name': 'stdout', 'text': '1. What is the function for appending data in R?\\n'…"
      ]
     },
     "metadata": {},
     "output_type": "display_data"
    }
   ],
   "source": [
    "if __name__ == \"__main__\":\n",
    "    display(L2P11Q1)"
   ]
  },
  {
   "cell_type": "markdown",
   "id": "e852a289-99b8-426d-ad94-9c05a49cfeae",
   "metadata": {},
   "source": [
    "## Page 14"
   ]
  },
  {
   "cell_type": "code",
   "execution_count": 34,
   "id": "019ce21a-1415-4aeb-9c48-ea230865d48b",
   "metadata": {},
   "outputs": [],
   "source": [
    "L2P14Q1 = MultipleChoice('1. True or False? One of the benefits of merging in Python is that you are not required to specify a column to merge by.',['A. True','B. False'],'A. True')\n",
    "L2P14Q2 = MultipleChoice('2. If the columns you are merging by have different names, how will you specify them?',['A. Using how= This is for specifying the type of join.','B. Using left_on= and right_on=','C. Using _x and _y. This is what happens if you have duplicate column names.', 'D. Using on= .You will use this to specify matching column names to merge upon.'],'B. Using left_on= and right_on=')\n",
    "L2P14Q3 = MultipleChoice('3. Which one of these would provide a join that only provides records that match in both tables?',['A. how=\"left\"','B. how=\"right\"','C. how=\"outer\"', 'D. how=\"inner\"'],'D. how=\"inner\"')\n"
   ]
  },
  {
   "cell_type": "code",
   "execution_count": 35,
   "id": "d7fc9f4c-f859-4227-b4dd-78a67b86e9ed",
   "metadata": {},
   "outputs": [
    {
     "data": {
      "application/vnd.jupyter.widget-view+json": {
       "model_id": "57900233faf04c89b15953eb75421c92",
       "version_major": 2,
       "version_minor": 0
      },
      "text/plain": [
       "VBox(children=(Output(outputs=({'name': 'stdout', 'text': '1. True or False? One of the benefits of merging in…"
      ]
     },
     "metadata": {},
     "output_type": "display_data"
    },
    {
     "data": {
      "application/vnd.jupyter.widget-view+json": {
       "model_id": "7acb162e14744957accfd492af89653a",
       "version_major": 2,
       "version_minor": 0
      },
      "text/plain": [
       "VBox(children=(Output(outputs=({'name': 'stdout', 'text': '2. If the columns you are merging by have different…"
      ]
     },
     "metadata": {},
     "output_type": "display_data"
    },
    {
     "data": {
      "application/vnd.jupyter.widget-view+json": {
       "model_id": "7fbbeb9837bd4c298bf8020543cb1a38",
       "version_major": 2,
       "version_minor": 0
      },
      "text/plain": [
       "VBox(children=(Output(outputs=({'name': 'stdout', 'text': '3. Which one of these would provide a join that onl…"
      ]
     },
     "metadata": {},
     "output_type": "display_data"
    }
   ],
   "source": [
    "if __name__ == \"__main__\":\n",
    "    display(L2P14Q1, L2P14Q2, L2P14Q3)"
   ]
  },
  {
   "cell_type": "markdown",
   "id": "23f17404-6e7f-44ed-a944-bed854c1934b",
   "metadata": {},
   "source": [
    "## Page 15"
   ]
  },
  {
   "cell_type": "code",
   "execution_count": 36,
   "id": "9a6c2168-b61b-4a5e-809f-02e23ab80b3d",
   "metadata": {},
   "outputs": [],
   "source": [
    "L2P15Q1 = MultipleChoice('1. Which argument will help you determine if you have overlapping indices when appending in Python?',['A. verify_integrity= True','B. ignore_index= True. This gives the dataset a common index.','C. how= \"inner\". This performs an inner join on the data.', 'D. pd.concat(). This is the function to merge data.'],'A. verify_integrity= True')\n"
   ]
  },
  {
   "cell_type": "code",
   "execution_count": 37,
   "id": "e7f185f2-195a-4772-b7d5-2c5037040fd0",
   "metadata": {},
   "outputs": [
    {
     "data": {
      "application/vnd.jupyter.widget-view+json": {
       "model_id": "a4aec8feed9b45c7a532d5276f68efff",
       "version_major": 2,
       "version_minor": 0
      },
      "text/plain": [
       "VBox(children=(Output(outputs=({'name': 'stdout', 'text': '1. Which argument will help you determine if you ha…"
      ]
     },
     "metadata": {},
     "output_type": "display_data"
    }
   ],
   "source": [
    "if __name__ == \"__main__\":\n",
    "    display(L2P15Q1)"
   ]
  },
  {
   "cell_type": "markdown",
   "id": "b3741fa8-ddd5-45b4-9741-5903005eec2c",
   "metadata": {},
   "source": [
    "## Page 18"
   ]
  },
  {
   "cell_type": "code",
   "execution_count": 38,
   "id": "050c2541-9c31-47d6-b47c-c959247a3556",
   "metadata": {},
   "outputs": [],
   "source": [
    "L2P18Q1 = MultipleChoice('1. To easily summarize your data by a particular variable, you would use which function in R?',['A. merge()','B. group_by()','C. aggregate()', 'D. sum()'],'C. aggregate()')\n",
    "L2P18Q2 = MultipleChoice('2. Which of the following descriptive statistics is NOT an argument for the function aggregate()?',['A. n','B. sum','C. median', 'D. mean'],'A. n')\n"
   ]
  },
  {
   "cell_type": "code",
   "execution_count": 39,
   "id": "ecd5b9ff-374e-4cb3-9324-7cc0ac125385",
   "metadata": {},
   "outputs": [
    {
     "data": {
      "application/vnd.jupyter.widget-view+json": {
       "model_id": "28c143ea194a48cc9bd586a58aed30ea",
       "version_major": 2,
       "version_minor": 0
      },
      "text/plain": [
       "VBox(children=(Output(outputs=({'name': 'stdout', 'text': '1. To easily summarize your data by a particular va…"
      ]
     },
     "metadata": {},
     "output_type": "display_data"
    },
    {
     "data": {
      "application/vnd.jupyter.widget-view+json": {
       "model_id": "c07cc948e18644f593fbad03c3e6c77e",
       "version_major": 2,
       "version_minor": 0
      },
      "text/plain": [
       "VBox(children=(Output(outputs=({'name': 'stdout', 'text': '2. Which of the following descriptive statistics is…"
      ]
     },
     "metadata": {},
     "output_type": "display_data"
    }
   ],
   "source": [
    "if __name__ == \"__main__\":\n",
    "    display(L2P18Q1, L2P18Q2)"
   ]
  },
  {
   "cell_type": "markdown",
   "id": "9ba07eb1-a5d2-42fd-9c84-3cc90f44ef11",
   "metadata": {},
   "source": [
    "## Page 19"
   ]
  },
  {
   "cell_type": "code",
   "execution_count": 40,
   "id": "e0b592aa-c65b-4f93-8db1-23e1328c6834",
   "metadata": {},
   "outputs": [],
   "source": [
    "L2P19Q1 = MultipleChoice('1. In which package is the function groupby() housed?',['A. pandas','B. numpy'],'A. pandas')\n",
    "L2P19Q2 = MultipleChoice('2. Which of the following descriptive statistics is NOT an operation used with the function groupby()?',['A. sd','B. sum','C. median', 'D. mean'],'A. sd')\n"
   ]
  },
  {
   "cell_type": "code",
   "execution_count": 41,
   "id": "683c5386-df66-48e2-b302-f3cbdbe26e0b",
   "metadata": {},
   "outputs": [
    {
     "data": {
      "application/vnd.jupyter.widget-view+json": {
       "model_id": "78f78a69fd894c3cb7f7a0b9bda3b60f",
       "version_major": 2,
       "version_minor": 0
      },
      "text/plain": [
       "VBox(children=(Output(outputs=({'name': 'stdout', 'text': '1. In which package is the function groupby() house…"
      ]
     },
     "metadata": {},
     "output_type": "display_data"
    },
    {
     "data": {
      "application/vnd.jupyter.widget-view+json": {
       "model_id": "2a7faf649550424587d1f2353857dbf0",
       "version_major": 2,
       "version_minor": 0
      },
      "text/plain": [
       "VBox(children=(Output(outputs=({'name': 'stdout', 'text': '2. Which of the following descriptive statistics is…"
      ]
     },
     "metadata": {},
     "output_type": "display_data"
    }
   ],
   "source": [
    "if __name__ == \"__main__\":\n",
    "    display(L2P19Q1, L2P19Q2)"
   ]
  },
  {
   "cell_type": "markdown",
   "id": "c536d2c7-6364-4ba6-b985-8ece3043cc56",
   "metadata": {},
   "source": [
    "## Page 20"
   ]
  },
  {
   "cell_type": "code",
   "execution_count": 42,
   "id": "c604eafe-c1bc-49e3-8e9f-4819be376dd5",
   "metadata": {},
   "outputs": [],
   "source": [
    "L2P20Q1 = MultipleChoice('1. True or false? Pivot tables are a way for your clients to easily examine data on their own.',['A. True','B. False'],'A. True')\n"
   ]
  },
  {
   "cell_type": "code",
   "execution_count": 43,
   "id": "bfc17006-59a2-4e0e-8537-b598836dfaf5",
   "metadata": {},
   "outputs": [
    {
     "data": {
      "application/vnd.jupyter.widget-view+json": {
       "model_id": "a278c84f1c234e4ab5d14c40fdd3d975",
       "version_major": 2,
       "version_minor": 0
      },
      "text/plain": [
       "VBox(children=(Output(outputs=({'name': 'stdout', 'text': '1. True or false? Pivot tables are a way for your c…"
      ]
     },
     "metadata": {},
     "output_type": "display_data"
    }
   ],
   "source": [
    "if __name__ == \"__main__\":\n",
    "    display(L2P20Q1)"
   ]
  },
  {
   "cell_type": "markdown",
   "id": "e45d2ae2-e7e5-4dee-be0d-b7319e50d24b",
   "metadata": {},
   "source": [
    "# Lesson 3"
   ]
  },
  {
   "cell_type": "markdown",
   "id": "bb879a36-cf8a-43c2-8ddb-53842647c799",
   "metadata": {},
   "source": [
    "## Page 2"
   ]
  },
  {
   "cell_type": "code",
   "execution_count": 44,
   "id": "c1c495f0-0d95-497e-a35c-7c161aa91202",
   "metadata": {},
   "outputs": [],
   "source": [
    "L3P2Q1 = MultipleChoice('1. You have a variable named furniture. Inside it are the following values: Sofa, Recliner, Table, Kitchen Chair, Desk, Futon, Night stand. You want to create a new variable that is soft_furnishingsYN. Is this recoding?',['A. Yes, into a new variable AND to analyze data differently','B. Yes, into a new variable','C. Yes, to analyze data differently', 'D. No'],'A. Yes, into a new variable AND to analyze data differently')\n",
    "L3P2Q2 = MC('2. You have a variable named furniture. Inside it are the following values: Sofa, Recliner, Table, Kitchen Chair, Desk, Futon, Night stand. You want to create a new variable that indicates whether the furniture is soft or not. Which of the following is NOT a good naming convention for this recode?',['A. furnitureRecode','B. furnitureR','C. furniture2', 'D. soft_furnishingsYN'],'C. furniture2', cor= \"This does not give any indication that this variable has been recoded, nor does it give any information about the content.\", incor= \" \")\n",
    "\n"
   ]
  },
  {
   "cell_type": "code",
   "execution_count": 45,
   "id": "ba5b15eb-de5c-483e-bbe7-02d2e0c8fc64",
   "metadata": {},
   "outputs": [
    {
     "data": {
      "application/vnd.jupyter.widget-view+json": {
       "model_id": "b5d7c04ab10948c487b008d2a2f250a5",
       "version_major": 2,
       "version_minor": 0
      },
      "text/plain": [
       "VBox(children=(Output(outputs=({'name': 'stdout', 'text': '1. You have a variable named\\xa0furniture. Inside i…"
      ]
     },
     "metadata": {},
     "output_type": "display_data"
    },
    {
     "data": {
      "application/vnd.jupyter.widget-view+json": {
       "model_id": "805748ac3c2846e78c4397be33309ea9",
       "version_major": 2,
       "version_minor": 0
      },
      "text/plain": [
       "VBox(children=(Output(outputs=({'name': 'stdout', 'text': '2. You have a variable named\\xa0furniture. Inside i…"
      ]
     },
     "metadata": {},
     "output_type": "display_data"
    }
   ],
   "source": [
    "if __name__ == \"__main__\":\n",
    "    display(L3P2Q1,L3P2Q2)"
   ]
  },
  {
   "cell_type": "markdown",
   "id": "c106f4c0-5782-4c1f-9f0d-5bbdb23e1a25",
   "metadata": {},
   "source": [
    "## Page 3"
   ]
  },
  {
   "cell_type": "code",
   "execution_count": 46,
   "id": "b086f80f-3244-48fa-9550-fcf236daddd6",
   "metadata": {},
   "outputs": [],
   "source": [
    "L3P3Q1 = MultipleChoice('1. True or False? Analyses like regressions or analyses of covariance can have categorical data, but they can only have two levels.',['A. True','B. False'],'A. True')\n",
    "L3P3Q2 = MC('2. Is this information dummy coded? A variable called delivery_status with the following levels: delivered, en-route, not_shipped, missing.',['A. Yes','B. No'],'B. No', cor= \"No: Since this variable has four levels, it is not dummy coded. A dummy coded variable can only have two levels, so there would need to be additional variables here for deliveredYN, en-routeYN, not_shippedYN, and missingYN.\", incor= \"\")\n"
   ]
  },
  {
   "cell_type": "code",
   "execution_count": 47,
   "id": "ede51c13-30c3-418d-9439-9c4f84940718",
   "metadata": {},
   "outputs": [
    {
     "data": {
      "application/vnd.jupyter.widget-view+json": {
       "model_id": "a437e958845d43fe92176cd1c6661299",
       "version_major": 2,
       "version_minor": 0
      },
      "text/plain": [
       "VBox(children=(Output(outputs=({'name': 'stdout', 'text': '1. True or False? Analyses like regressions or anal…"
      ]
     },
     "metadata": {},
     "output_type": "display_data"
    },
    {
     "data": {
      "application/vnd.jupyter.widget-view+json": {
       "model_id": "771fb94ddaa54302aca0640dc1e057d3",
       "version_major": 2,
       "version_minor": 0
      },
      "text/plain": [
       "VBox(children=(Output(outputs=({'name': 'stdout', 'text': '2. Is this information dummy coded? A variable call…"
      ]
     },
     "metadata": {},
     "output_type": "display_data"
    }
   ],
   "source": [
    "if __name__ == \"__main__\":\n",
    "    display(L3P3Q1,L3P3Q2)"
   ]
  },
  {
   "cell_type": "markdown",
   "id": "b58faaab-9764-4b26-9ddb-0d43a67bf0ac",
   "metadata": {},
   "source": [
    "## Page 4"
   ]
  },
  {
   "cell_type": "code",
   "execution_count": 48,
   "id": "ba7ef5a3-ca83-4231-97d4-ccf78c31ba53",
   "metadata": {},
   "outputs": [],
   "source": [
    "L3P4Q1 = MultipleChoice('1. To recode into a new variable in Python, which of the following is NOT needed?',['A. Create a new function','B. Use if statements','C. Use the function .apply()', 'D. Use a for loop'],'D, Use a for Loop')\n"
   ]
  },
  {
   "cell_type": "code",
   "execution_count": 49,
   "id": "0757075d-d8a0-4e36-b311-1a619e443cdc",
   "metadata": {},
   "outputs": [
    {
     "data": {
      "application/vnd.jupyter.widget-view+json": {
       "model_id": "acbb3eaa1e3747cfab81a6437a21471d",
       "version_major": 2,
       "version_minor": 0
      },
      "text/plain": [
       "VBox(children=(Output(outputs=({'name': 'stdout', 'text': '1. To recode into a new variable in Python, which o…"
      ]
     },
     "metadata": {},
     "output_type": "display_data"
    }
   ],
   "source": [
    "if __name__ == \"__main__\":\n",
    "    display(L3P4Q1)\n"
   ]
  },
  {
   "cell_type": "code",
   "execution_count": 50,
   "id": "c2ec66ef-1a1b-45e0-9acc-1fd404349bc8",
   "metadata": {},
   "outputs": [],
   "source": [
    "L3P4Q2 = MultipleChoice('2. What will this set of code do in Python?',['A. Recode the raceR column into a new column named Race','B. Recode the Race column into a new column named raceR'],'B. Recode the Race column into a new column named raceR')\n"
   ]
  },
  {
   "cell_type": "markdown",
   "id": "2ea60f84-9996-441d-8431-e3a8c707d6b1",
   "metadata": {},
   "source": [
    "<img src=\"Media/L04-23.png\" alt=\"Drawing\" style=\"width: 500px;\"/>"
   ]
  },
  {
   "cell_type": "code",
   "execution_count": 51,
   "id": "074fc7e6-08b2-478d-819f-aa5befddda69",
   "metadata": {},
   "outputs": [
    {
     "data": {
      "application/vnd.jupyter.widget-view+json": {
       "model_id": "2802a627ada24a6788f1933fcc3be7be",
       "version_major": 2,
       "version_minor": 0
      },
      "text/plain": [
       "VBox(children=(Output(outputs=({'name': 'stdout', 'text': '2. What will this set of code do in Python?\\n', 'ou…"
      ]
     },
     "metadata": {},
     "output_type": "display_data"
    }
   ],
   "source": [
    "if __name__ == \"__main__\":\n",
    "    display(L3P4Q2)"
   ]
  },
  {
   "cell_type": "markdown",
   "id": "85021c9a-1dd8-494d-94c1-7903e698c53c",
   "metadata": {},
   "source": [
    "## Page 5"
   ]
  },
  {
   "cell_type": "code",
   "execution_count": 52,
   "id": "ed24bb95-6259-4925-b81c-e2eb3ffa70f7",
   "metadata": {},
   "outputs": [],
   "source": [
    "L3P5Q1 = MultipleChoice('1. True or False? You can categorize your data with a recode into a smaller number of groups.',['A. True','B. False'],'A. True')\n"
   ]
  },
  {
   "cell_type": "code",
   "execution_count": 53,
   "id": "de42dad5-29d1-4f3b-a59a-9d16d30a3508",
   "metadata": {},
   "outputs": [
    {
     "data": {
      "application/vnd.jupyter.widget-view+json": {
       "model_id": "3aecec4052524c80a38daec64c84d63a",
       "version_major": 2,
       "version_minor": 0
      },
      "text/plain": [
       "VBox(children=(Output(outputs=({'name': 'stdout', 'text': '1. True or False? You can categorize your data with…"
      ]
     },
     "metadata": {},
     "output_type": "display_data"
    }
   ],
   "source": [
    "if __name__ == \"__main__\":\n",
    "    display(L3P5Q1)"
   ]
  },
  {
   "cell_type": "markdown",
   "id": "983c6df3-f62e-439f-8002-ac8cedcd4ee7",
   "metadata": {},
   "source": [
    "## Page 6 "
   ]
  },
  {
   "cell_type": "code",
   "execution_count": 54,
   "id": "dfcb4279-e05c-4c47-ad77-4be279e66de3",
   "metadata": {},
   "outputs": [],
   "source": [
    "L3P6Q1 = MC('1. Would this be an appropriate continuous to categorical recode?',['A. Yes','B. No'],'B. No', cor=\"The categories overlap -  30 will go in both\" , incor=\"\")\n"
   ]
  },
  {
   "cell_type": "markdown",
   "id": "17b71a0e-d98c-4ded-aa8c-34b66db34fab",
   "metadata": {},
   "source": [
    "<img src=\"Media/L03-13.PNG\" alt=\"Drawing\" style=\"width: 500px;\"/>"
   ]
  },
  {
   "cell_type": "code",
   "execution_count": 55,
   "id": "ab54205d-f61c-4378-a6bf-117bcef02273",
   "metadata": {},
   "outputs": [
    {
     "data": {
      "application/vnd.jupyter.widget-view+json": {
       "model_id": "2bfe1bcbbf4c44d88beb1eb05766d284",
       "version_major": 2,
       "version_minor": 0
      },
      "text/plain": [
       "VBox(children=(Output(outputs=({'name': 'stdout', 'text': '1. Would this be an appropriate continuous to categ…"
      ]
     },
     "metadata": {},
     "output_type": "display_data"
    }
   ],
   "source": [
    "if __name__ == \"__main__\":\n",
    "    display(L3P6Q1)"
   ]
  },
  {
   "cell_type": "markdown",
   "id": "7b551753-c399-41ad-b716-79ef45d09332",
   "metadata": {},
   "source": [
    "## Page 7"
   ]
  },
  {
   "cell_type": "code",
   "execution_count": 56,
   "id": "dfae0615-246a-407e-a122-dddddf5fd2d3",
   "metadata": {},
   "outputs": [],
   "source": [
    "L3P7Q1 = MultipleChoice('1. Which of the following is NOT a cautionary statement about using .replace()?',['A. You can only run .replace() one time','B. .replace() permanently replaces all your data','C. You can recode many variables at once', 'D. It can be difficult to read'],'C. You can recode many variables at once')\n",
    "L3P7Q2 = MultipleChoice('2. Question?',['A. Make the changes, then revert back to a previous dataset and then re-run the fixed .replace()','B. Just revert back to a previous data set','C. Re-run your .replace() code again', 'D. There is no way to fix a mistake.'],'A. Make the changes, then revert back to a previous dataset and then re-run the fixed .replace()')\n"
   ]
  },
  {
   "cell_type": "code",
   "execution_count": 57,
   "id": "de609d33-b65f-4121-ab8d-b9473bde354e",
   "metadata": {},
   "outputs": [
    {
     "data": {
      "application/vnd.jupyter.widget-view+json": {
       "model_id": "9f23782282794e89a9abe41a07c0d4f3",
       "version_major": 2,
       "version_minor": 0
      },
      "text/plain": [
       "VBox(children=(Output(outputs=({'name': 'stdout', 'text': '1. Which of the following is NOT a cautionary state…"
      ]
     },
     "metadata": {},
     "output_type": "display_data"
    },
    {
     "data": {
      "application/vnd.jupyter.widget-view+json": {
       "model_id": "e20bc3c1e27e47c59d521ee571641e61",
       "version_major": 2,
       "version_minor": 0
      },
      "text/plain": [
       "VBox(children=(Output(outputs=({'name': 'stdout', 'text': '2. Question?\\n', 'output_type': 'stream'},)), Radio…"
      ]
     },
     "metadata": {},
     "output_type": "display_data"
    }
   ],
   "source": [
    "if __name__ == \"__main__\":\n",
    "    display(L3P7Q1,L3P7Q2)"
   ]
  },
  {
   "cell_type": "markdown",
   "id": "c2bbe1e2-d1fb-4057-bb3f-3e4d5d3a1dd5",
   "metadata": {},
   "source": [
    "## Page 8"
   ]
  },
  {
   "cell_type": "code",
   "execution_count": 58,
   "id": "7fd98582-4af4-4c3f-ada1-eba1177c5bda",
   "metadata": {},
   "outputs": [],
   "source": [
    "L3P8Q1 = MultipleChoice('1. Which function automatically does dummy coding in Python?',['A. .replace() This is for recoding into a new variable.','B. pd.concat() This is to concatenate data.','C. pd.get_dummies()', 'D. drop_first=True This is an argument to ```pd.get_dummies() that drops the first comparison column.'],'C. pd.get_dummies()')\n",
    "L3P8Q2 = MC('2. True or False? The pd.get_dummies() function automatically adds the new columns into your data frame.',['A. True','B. False'],'B. False', cor=\"False: You will need to add them yourself with pd.concat().\", incor=\"\")\n"
   ]
  },
  {
   "cell_type": "code",
   "execution_count": 59,
   "id": "4a164209-3eef-44ee-b462-e12ed6b0b770",
   "metadata": {},
   "outputs": [
    {
     "data": {
      "application/vnd.jupyter.widget-view+json": {
       "model_id": "149645010cc0406cbf804ac1c98728a2",
       "version_major": 2,
       "version_minor": 0
      },
      "text/plain": [
       "VBox(children=(Output(outputs=({'name': 'stdout', 'text': '1. Which function automatically does dummy coding i…"
      ]
     },
     "metadata": {},
     "output_type": "display_data"
    },
    {
     "data": {
      "application/vnd.jupyter.widget-view+json": {
       "model_id": "7e6d224c1416445ba0572644cee5fc31",
       "version_major": 2,
       "version_minor": 0
      },
      "text/plain": [
       "VBox(children=(Output(outputs=({'name': 'stdout', 'text': '2. True or False? The pd.get_dummies() function aut…"
      ]
     },
     "metadata": {},
     "output_type": "display_data"
    }
   ],
   "source": [
    "if __name__ == \"__main__\":\n",
    "    display(L3P8Q1,L3P8Q2)"
   ]
  },
  {
   "cell_type": "markdown",
   "id": "9db7f2aa-2dc2-4d51-aff5-3a04e586a741",
   "metadata": {},
   "source": [
    "## Page 9"
   ]
  },
  {
   "cell_type": "code",
   "execution_count": 60,
   "id": "73512046-4b47-455f-9bf6-e02cba69b03b",
   "metadata": {},
   "outputs": [],
   "source": [
    "L3P9Q1 = MultipleChoice('1. How do you create an empty variable in R?',['A. It is impossible to do','B. Make a new column, then fill it with NAs','C. Make a new column'],'B. Make a new column, then fill it with NAs')\n"
   ]
  },
  {
   "cell_type": "code",
   "execution_count": 61,
   "id": "668ac949-47d6-4105-8b5c-2f1facca593a",
   "metadata": {},
   "outputs": [
    {
     "data": {
      "application/vnd.jupyter.widget-view+json": {
       "model_id": "7612638d67614d2caa953fc881bc1a6e",
       "version_major": 2,
       "version_minor": 0
      },
      "text/plain": [
       "VBox(children=(Output(outputs=({'name': 'stdout', 'text': '1. How do you create an empty variable in R?\\n', 'o…"
      ]
     },
     "metadata": {},
     "output_type": "display_data"
    }
   ],
   "source": [
    "if __name__ == \"__main__\":\n",
    "    display(L3P9Q1)"
   ]
  },
  {
   "cell_type": "code",
   "execution_count": 62,
   "id": "e00fa1c3-7ca4-4e39-b238-40c63b4896ad",
   "metadata": {},
   "outputs": [],
   "source": [
    "L3P9Q2 = MultipleChoice('2. What is this chunk of code designed to do in R?',['A. Recode into the same variable','B. Recode into a new variable called Eye.colorR','C. Recode into a new variable called superheroes', 'D. Change the numbers to eye colors'],'B. Recode into a new variable called Eye.colorR')"
   ]
  },
  {
   "cell_type": "markdown",
   "id": "30cc4666-479d-4df4-8a40-a035887c55c9",
   "metadata": {},
   "source": [
    "<img src=\"Media/L03-15.PNG\" alt=\"Drawing\" style=\"width: 500px;\"/>"
   ]
  },
  {
   "cell_type": "code",
   "execution_count": 63,
   "id": "42beb2ac-8c42-4d61-9cfb-933f48ebf125",
   "metadata": {},
   "outputs": [
    {
     "data": {
      "application/vnd.jupyter.widget-view+json": {
       "model_id": "6bc575094ff14654a6631b0dc110b8fb",
       "version_major": 2,
       "version_minor": 0
      },
      "text/plain": [
       "VBox(children=(Output(outputs=({'name': 'stdout', 'text': '2. What is this chunk of code designed to do in R?\\…"
      ]
     },
     "metadata": {},
     "output_type": "display_data"
    }
   ],
   "source": [
    "if __name__ == \"__main__\":\n",
    "    display(L3P9Q2)"
   ]
  },
  {
   "cell_type": "markdown",
   "id": "4e569c1b-5c6a-437c-b1dc-d04bb87cc9b0",
   "metadata": {},
   "source": [
    "## Page 10"
   ]
  },
  {
   "cell_type": "code",
   "execution_count": 64,
   "id": "2c350c5c-10b4-48c2-a1a3-a737f31e6454",
   "metadata": {},
   "outputs": [],
   "source": [
    "L3P10Q1 = MultipleChoice('1. True or False? R does not typically require recoding into the same variable.',['A. True','B. False'],'A. True')\n",
    "L3P10Q2 = MultipleChoice('2. If you see NA generated in a warning message, what has happened?',['A. The command did not run','B. Your column is now empty','C. You have successfully recoded into the existing variable', 'D. You have successfully recoded into a new variable'],'B. Your column is now empty')"
   ]
  },
  {
   "cell_type": "code",
   "execution_count": 65,
   "id": "4a0803b6-c8eb-4afb-a83b-ff7abc8fe8dd",
   "metadata": {},
   "outputs": [
    {
     "data": {
      "application/vnd.jupyter.widget-view+json": {
       "model_id": "a45c485c9e9b4ba594ec3127db64b8a2",
       "version_major": 2,
       "version_minor": 0
      },
      "text/plain": [
       "VBox(children=(Output(outputs=({'name': 'stdout', 'text': '1. True or False? R does not typically require reco…"
      ]
     },
     "metadata": {},
     "output_type": "display_data"
    },
    {
     "data": {
      "application/vnd.jupyter.widget-view+json": {
       "model_id": "79dc2940c1ae4f08a6f1857ab6e31122",
       "version_major": 2,
       "version_minor": 0
      },
      "text/plain": [
       "VBox(children=(Output(outputs=({'name': 'stdout', 'text': '2. If you see\\xa0NA generated\\xa0in a warning messa…"
      ]
     },
     "metadata": {},
     "output_type": "display_data"
    }
   ],
   "source": [
    "if __name__ == \"__main__\":\n",
    "    display(L3P10Q1,L3P10Q2)"
   ]
  },
  {
   "cell_type": "markdown",
   "id": "8fbb85be-431c-4134-a9e9-02b2479b257a",
   "metadata": {},
   "source": [
    "# Lesson 4"
   ]
  },
  {
   "cell_type": "markdown",
   "id": "badbf386-577a-4691-8602-5dfd00f74167",
   "metadata": {},
   "source": [
    "## Page 2"
   ]
  },
  {
   "cell_type": "code",
   "execution_count": 66,
   "id": "98fed978-3113-4cc0-8ace-dd74edac76ce",
   "metadata": {},
   "outputs": [],
   "source": [
    "L4P2Q1 = MultipleChoice('1. What type of data do you need to have in order to make a histogram?',['A. One categorical variable','B. One categorical variable and one quantitative variable','C. One quantitative variable', 'D. Just one variable, but it can be categorical or quantitative'],'C. One quantitative variable')\n",
    "L4P2Q2 = MultipleChoice('2. What is meant by \"binning the data\"?',['A. Binning is separating the categorical data by sub-category','B. Binning is separating the quantitative data into ranges','C. Binning is a more common word for \"truncating\"', 'D. Binning is done when a color scheme for the histogram is determined'],'B. Binning is separating the quantitative data into ranges')\n"
   ]
  },
  {
   "cell_type": "code",
   "execution_count": 67,
   "id": "5a3cc79b-c180-470e-b1e8-771c00827733",
   "metadata": {},
   "outputs": [
    {
     "data": {
      "application/vnd.jupyter.widget-view+json": {
       "model_id": "35be02d020c4460ab308e2faeaff5e9f",
       "version_major": 2,
       "version_minor": 0
      },
      "text/plain": [
       "VBox(children=(Output(outputs=({'name': 'stdout', 'text': '1. What type of data do you need to have in order t…"
      ]
     },
     "metadata": {},
     "output_type": "display_data"
    },
    {
     "data": {
      "application/vnd.jupyter.widget-view+json": {
       "model_id": "fb81bc0c27b540f89ac4bd2a3a15ceba",
       "version_major": 2,
       "version_minor": 0
      },
      "text/plain": [
       "VBox(children=(Output(outputs=({'name': 'stdout', 'text': '2. What is meant by \"binning the data\"?\\n', 'output…"
      ]
     },
     "metadata": {},
     "output_type": "display_data"
    }
   ],
   "source": [
    "if __name__ == \"__main__\":\n",
    "    display(L4P2Q1, L4P2Q2)"
   ]
  },
  {
   "cell_type": "markdown",
   "id": "7ba413dc-2407-4eb4-a957-5abf280b1133",
   "metadata": {},
   "source": [
    "## Page 3"
   ]
  },
  {
   "cell_type": "code",
   "execution_count": 68,
   "id": "6b76cec5-d121-4b04-94c2-918d3092037d",
   "metadata": {},
   "outputs": [],
   "source": [
    "L4P3Q1 = MultipleChoice('1. Which method for creating histograms in Python is the most like using ggplot in R?',['A. seaborn distplot()','B. seaborn pairplot()','C. matplotlib', 'D. pandas .hist()'],'C. matplotlib')\n",
    "L4P3Q2 = MultipleChoice('2. Which option for creating histograms in Python will automatically provide a best-fit line?',['A. sns.pairplot()','B. sns.distplot()','C. .hist()', 'D. plt.hist()'],'B. sns.distplot()')\n",
    "L4P3Q3 = MultipleChoice('3. Which option for creating histograms in Python will automatically provide multiple histograms?',['A. sns.pairplot()','B. sns.distplot()','C. .hist()', 'D. plt.hist()'],'A. sns.pairplot()')\n",
    "L4P3Q4 = MultipleChoice('4. What is the argument alpha= for when creating a histogram in matplotlib?',['A. Labels','B. Number of bins','C. Transparency', 'D. Color'],'C. Transparency')\n"
   ]
  },
  {
   "cell_type": "code",
   "execution_count": 69,
   "id": "4387e9a4-4fe5-4641-b95d-5dbc1b864970",
   "metadata": {},
   "outputs": [
    {
     "data": {
      "application/vnd.jupyter.widget-view+json": {
       "model_id": "5377fbd31a5b48b0815e484d1fc6b68b",
       "version_major": 2,
       "version_minor": 0
      },
      "text/plain": [
       "VBox(children=(Output(outputs=({'name': 'stdout', 'text': '1. Which method for creating histograms in Python i…"
      ]
     },
     "metadata": {},
     "output_type": "display_data"
    },
    {
     "data": {
      "application/vnd.jupyter.widget-view+json": {
       "model_id": "de382581d04b4f08b0b90ed410020221",
       "version_major": 2,
       "version_minor": 0
      },
      "text/plain": [
       "VBox(children=(Output(outputs=({'name': 'stdout', 'text': '2. Which option for creating histograms in Python w…"
      ]
     },
     "metadata": {},
     "output_type": "display_data"
    },
    {
     "data": {
      "application/vnd.jupyter.widget-view+json": {
       "model_id": "ceb5252163e348b192f0c096d61a8c0e",
       "version_major": 2,
       "version_minor": 0
      },
      "text/plain": [
       "VBox(children=(Output(outputs=({'name': 'stdout', 'text': '3. Which option for creating histograms in Python w…"
      ]
     },
     "metadata": {},
     "output_type": "display_data"
    },
    {
     "data": {
      "application/vnd.jupyter.widget-view+json": {
       "model_id": "7986d237fa364f88bc3a135f3d512665",
       "version_major": 2,
       "version_minor": 0
      },
      "text/plain": [
       "VBox(children=(Output(outputs=({'name': 'stdout', 'text': '4. What is the argument\\xa0alpha=\\xa0for when creat…"
      ]
     },
     "metadata": {},
     "output_type": "display_data"
    }
   ],
   "source": [
    "if __name__ == \"__main__\":\n",
    "    display(L4P3Q1, L4P3Q2, L4P3Q3, L4P3Q4)"
   ]
  },
  {
   "cell_type": "markdown",
   "id": "22b26b90-5618-4365-b57a-b001c2f1d6f5",
   "metadata": {},
   "source": [
    "## Page 4"
   ]
  },
  {
   "cell_type": "code",
   "execution_count": 70,
   "id": "6fbbf599-4344-41d6-a2e2-a22160b8dc2e",
   "metadata": {},
   "outputs": [],
   "source": [
    "L4P4Q1 = MultipleChoice('1. For a bar chart that has categories listed on the horizontal axis, what is listed on the vertical axis?',['A. The size','B. The counts','C. The shape', 'D. The color'],'B. The counts')\n",
    "L4P4Q2 = MultipleChoice('2. What is the difference between a bar chart and a grouped bar chart?',['A. Grouped bar charts use two or more quantitative variables, bar charts use one categorical variable','B. Grouped bar charts use one categorical and one quantitative variable, bar charts use one quantitative variable','C. Grouped bar charts use one categorical and one quantitative variable, bar charts use one categorical variable', 'D. Grouped bar charts use two or more categorical variables, bar charts use one categorical variable'],'D. Grouped bar charts use two or more categorical variables, bar charts use one categorical variable')\n"
   ]
  },
  {
   "cell_type": "code",
   "execution_count": 71,
   "id": "30a39a08-db9f-4f38-b6ac-76adbd4e9bc7",
   "metadata": {},
   "outputs": [
    {
     "data": {
      "application/vnd.jupyter.widget-view+json": {
       "model_id": "9558845d023a40cfbb66f18ef5a7a210",
       "version_major": 2,
       "version_minor": 0
      },
      "text/plain": [
       "VBox(children=(Output(outputs=({'name': 'stdout', 'text': '1. For a bar chart that has categories listed on th…"
      ]
     },
     "metadata": {},
     "output_type": "display_data"
    },
    {
     "data": {
      "application/vnd.jupyter.widget-view+json": {
       "model_id": "ce657a7c7dc14b389ad319c19cf146fa",
       "version_major": 2,
       "version_minor": 0
      },
      "text/plain": [
       "VBox(children=(Output(outputs=({'name': 'stdout', 'text': '2. What is the difference between a bar chart and a…"
      ]
     },
     "metadata": {},
     "output_type": "display_data"
    }
   ],
   "source": [
    "if __name__ == \"__main__\":\n",
    "    display(L4P4Q1, L4P4Q2)"
   ]
  },
  {
   "cell_type": "markdown",
   "id": "11d6e357-ea51-4e89-963a-874c8400d368",
   "metadata": {},
   "source": [
    "## Page 5"
   ]
  },
  {
   "cell_type": "code",
   "execution_count": 72,
   "id": "a5e902ff-ef9e-4696-8620-2b069cac933b",
   "metadata": {},
   "outputs": [],
   "source": [
    "L4P5Q1 = MultipleChoice('1. What function can be added onto an existing ggplot() to create a bar chart?',['A. xlab()','B. geom_bar()','C. ggplot()', 'D. geom_hist()'],'B. geom_bar()')\n",
    "L4P5Q2 = MultipleChoice('2. Out of which library does the function barchart() come?',['A. ggplot','B. dplyr','C. lattice', 'D. tidyr'],'C. lattice')\n",
    "L4P5Q3 = MultipleChoice('3. What argument adds a title to a lattice plot?',['A. main=','B. ylab=','C. xlab=', 'D. col='],'A. main=')\n"
   ]
  },
  {
   "cell_type": "code",
   "execution_count": 73,
   "id": "48fefb18-5f1f-47e1-bc01-f4728c436b22",
   "metadata": {},
   "outputs": [
    {
     "data": {
      "application/vnd.jupyter.widget-view+json": {
       "model_id": "d7ab5f718bac41ca93a5362031673b0f",
       "version_major": 2,
       "version_minor": 0
      },
      "text/plain": [
       "VBox(children=(Output(outputs=({'name': 'stdout', 'text': '1. What function can be added onto an existing\\xa0g…"
      ]
     },
     "metadata": {},
     "output_type": "display_data"
    },
    {
     "data": {
      "application/vnd.jupyter.widget-view+json": {
       "model_id": "4a323178dc744d478f06aa0f4c673e72",
       "version_major": 2,
       "version_minor": 0
      },
      "text/plain": [
       "VBox(children=(Output(outputs=({'name': 'stdout', 'text': '2. Out of which library does the function\\xa0barcha…"
      ]
     },
     "metadata": {},
     "output_type": "display_data"
    },
    {
     "data": {
      "application/vnd.jupyter.widget-view+json": {
       "model_id": "4ff981f593d2400ea147ad21773da6e4",
       "version_major": 2,
       "version_minor": 0
      },
      "text/plain": [
       "VBox(children=(Output(outputs=({'name': 'stdout', 'text': '3. What argument adds a title to a lattice plot?\\n'…"
      ]
     },
     "metadata": {},
     "output_type": "display_data"
    }
   ],
   "source": [
    "if __name__ == \"__main__\":\n",
    "    display(L4P5Q1, L4P5Q2, L4P5Q3)"
   ]
  },
  {
   "cell_type": "markdown",
   "id": "8175d62b-f235-477e-9bf2-ac3d561a514d",
   "metadata": {},
   "source": [
    "## Page 6"
   ]
  },
  {
   "cell_type": "code",
   "execution_count": 74,
   "id": "ee4b3c56-7552-43e6-8643-a1d1937513b2",
   "metadata": {},
   "outputs": [],
   "source": [
    "L4P6Q1 = MultipleChoice('1. What is the function for creating bar charts in pandas?',['A. .value_counts(\"bar\")','B. .plot()','C. .plot(\"bar\")', 'D. .value_counts()'],'C. .plot(\"bar\")')\n",
    "L4P6Q2 = MultipleChoice('2. Which of the following will add a label to the y-axis?',['A. set_ylabel()','B. set_xlabel()','C. set_title()', 'D. set_main()'],'A. set_ylabel()')\n"
   ]
  },
  {
   "cell_type": "code",
   "execution_count": 75,
   "id": "a6c9c4c9-15c4-4922-a44e-29c30c6a3f23",
   "metadata": {},
   "outputs": [
    {
     "data": {
      "application/vnd.jupyter.widget-view+json": {
       "model_id": "03f79a4da52a42b8ab82763cbcc2b8b3",
       "version_major": 2,
       "version_minor": 0
      },
      "text/plain": [
       "VBox(children=(Output(outputs=({'name': 'stdout', 'text': '1. What is the function for creating bar charts in\\…"
      ]
     },
     "metadata": {},
     "output_type": "display_data"
    },
    {
     "data": {
      "application/vnd.jupyter.widget-view+json": {
       "model_id": "069e4608158042a1a1607238935a9485",
       "version_major": 2,
       "version_minor": 0
      },
      "text/plain": [
       "VBox(children=(Output(outputs=({'name': 'stdout', 'text': '2. Which of the following will add a label to the y…"
      ]
     },
     "metadata": {},
     "output_type": "display_data"
    }
   ],
   "source": [
    "if __name__ == \"__main__\":\n",
    "    display(L4P6Q1, L4P6Q2)"
   ]
  },
  {
   "cell_type": "markdown",
   "id": "a95bee11-4e94-4118-8250-f627b138958e",
   "metadata": {},
   "source": [
    "## Page 7 "
   ]
  },
  {
   "cell_type": "code",
   "execution_count": 78,
   "id": "0f2a063e-dfa4-4037-9d48-711ee81c0d2c",
   "metadata": {},
   "outputs": [],
   "source": [
    "L4P7Q1 = MultipleChoice('1. Are there any disadvantages to stacked bar graphs?',['A. They are confusing',\"B. It can be hard to tell relative sizes of bars that aren't the bottom category\",'C. If you have too many categories you can run out of colors', \"D. Most software programs won't automatically make them\"],\"B. It can be hard to tell relative sizes of bars that aren't the bottom category\")\n",
    "L4P7Q2 = MultipleChoice('2. What are the data requirements for stacked bar charts?',['A. Two categorical variables','B. Two quantitative variables','C. Three or more categorical variables', 'D. One quantitative variable and two or more categorical variables'],'A. Two categorical variables')\n"
   ]
  },
  {
   "cell_type": "code",
   "execution_count": 79,
   "id": "5bb276a3-fd10-43d0-b604-b7b6024d244e",
   "metadata": {},
   "outputs": [
    {
     "data": {
      "application/vnd.jupyter.widget-view+json": {
       "model_id": "b56b91d755b74748a6c592b007513f2b",
       "version_major": 2,
       "version_minor": 0
      },
      "text/plain": [
       "VBox(children=(Output(outputs=({'name': 'stdout', 'text': '1. Are there any disadvantages to stacked bar graph…"
      ]
     },
     "metadata": {},
     "output_type": "display_data"
    },
    {
     "data": {
      "application/vnd.jupyter.widget-view+json": {
       "model_id": "e55b994440994a4a845ba87502e8922e",
       "version_major": 2,
       "version_minor": 0
      },
      "text/plain": [
       "VBox(children=(Output(outputs=({'name': 'stdout', 'text': '2. What are the data requirements for stacked bar c…"
      ]
     },
     "metadata": {},
     "output_type": "display_data"
    }
   ],
   "source": [
    "if __name__ == \"__main__\":\n",
    "    display(L4P7Q1, L4P7Q2)"
   ]
  },
  {
   "cell_type": "markdown",
   "id": "1b05a564-219e-40c3-bd58-506583804d8e",
   "metadata": {},
   "source": [
    "## Page 8"
   ]
  },
  {
   "cell_type": "code",
   "execution_count": 82,
   "id": "452d5f8e-08bf-4740-b5f9-37f94a703576",
   "metadata": {},
   "outputs": [],
   "source": [
    "L4P8Q1 = MultipleChoice('1. Which argument to geom_bar() in ggplot allows you to add a second stacked variable?',['A. fill=','B. x=','C. position=', 'D. xlab()'],'A. fill=')\n",
    "L4P8Q2 = MultipleChoice('2. What does the position= argument need to be set to in geom_bar() in order to show multiple variables side by side?',['A. mapping. This is an argument to set the aesthetics.','B. identity','C. fill. This is to make the stacked bars the same height.', 'D. dodge'],'D. dodge')\n"
   ]
  },
  {
   "cell_type": "code",
   "execution_count": 83,
   "id": "af0ea23e-81d5-4c94-b544-bfc974a64235",
   "metadata": {},
   "outputs": [
    {
     "data": {
      "application/vnd.jupyter.widget-view+json": {
       "model_id": "37ad8e5e8edb4355b9ed273fd1ba86b9",
       "version_major": 2,
       "version_minor": 0
      },
      "text/plain": [
       "VBox(children=(Output(outputs=({'name': 'stdout', 'text': '1. Which argument to\\xa0geom_bar()\\xa0in\\xa0ggplot\\…"
      ]
     },
     "metadata": {},
     "output_type": "display_data"
    },
    {
     "data": {
      "application/vnd.jupyter.widget-view+json": {
       "model_id": "f1d9218ab4f949dfb6ac810d9567d2ec",
       "version_major": 2,
       "version_minor": 0
      },
      "text/plain": [
       "VBox(children=(Output(outputs=({'name': 'stdout', 'text': '2. What does the\\xa0position=\\xa0argument need to b…"
      ]
     },
     "metadata": {},
     "output_type": "display_data"
    }
   ],
   "source": [
    "if __name__ == \"__main__\":\n",
    "    display(L4P8Q1, L4P8Q2)"
   ]
  },
  {
   "cell_type": "markdown",
   "id": "c0d91f7a-3af6-47e0-be49-7b9fe63047d3",
   "metadata": {},
   "source": [
    "## Page 9"
   ]
  },
  {
   "cell_type": "code",
   "execution_count": 85,
   "id": "50639c3f-946c-4f91-bf06-e952a78dd048",
   "metadata": {},
   "outputs": [],
   "source": [
    "L4P9Q1 = MultipleChoice('1. What does the pareto principle refer to?',['A. It is a statistical property relating the mean and median of a normal variable','B. It is a finance tool used to explain volatility','C. It is the Italian equivalent of \"buyer beware\"', 'D. 20% of the troublemakers are responsible for 80% of the trouble'],'D. 20% of the troublemakers are responsible for 80% of the trouble')\n",
    "L4P9Q2 = MultipleChoice('2. For a pareto chart, how is the order of bars set?',['A. Alphabetically','B. Size - largest to smallest','C. By color - dark tones to light tones', 'D. Random order'],'B. Size - largest to smallest')\n",
    "L4P9Q3 = MultipleChoice('3. What is the meaning of the line trend in a pareto chart?',['A. It connects the top of each bar on the pareto ",
    "Incorrect','B. It indicates the cumulative proportion of bars from the left','C. It displays the potential maximum value for each peak', 'D. It is a forecast of where things will be at the end of the year'],'B. It indicates the cumulative proportion of bars from the left')\n"
   ]
  },
  {
   "cell_type": "code",
   "execution_count": 86,
   "id": "f848d76b-acd8-4721-80e6-d9048ffffb02",
   "metadata": {},
   "outputs": [
    {
     "data": {
      "application/vnd.jupyter.widget-view+json": {
       "model_id": "29ec44d3dbd5489497c6506ba7a25cd3",
       "version_major": 2,
       "version_minor": 0
      },
      "text/plain": [
       "VBox(children=(Output(outputs=({'name': 'stdout', 'text': '1. What does the pareto principle refer to?\\n', 'ou…"
      ]
     },
     "metadata": {},
     "output_type": "display_data"
    },
    {
     "data": {
      "application/vnd.jupyter.widget-view+json": {
       "model_id": "ef2dd00c6b8243d7b7e5f541dd1ffa2d",
       "version_major": 2,
       "version_minor": 0
      },
      "text/plain": [
       "VBox(children=(Output(outputs=({'name': 'stdout', 'text': '2. For a pareto chart, how is the order of bars set…"
      ]
     },
     "metadata": {},
     "output_type": "display_data"
    },
    {
     "data": {
      "application/vnd.jupyter.widget-view+json": {
       "model_id": "73a4be4a9a88423db645d8c6ec75066d",
       "version_major": 2,
       "version_minor": 0
      },
      "text/plain": [
       "VBox(children=(Output(outputs=({'name': 'stdout', 'text': '3. What is the meaning of the line trend in a paret…"
      ]
     },
     "metadata": {},
     "output_type": "display_data"
    }
   ],
   "source": [
    "if __name__ == \"__main__\":\n",
    "    display(L4P9Q1, L4P9Q2, L4P9Q3)"
   ]
  },
  {
   "cell_type": "markdown",
   "id": "c82abc1d-46a8-4ebd-b7e0-770ed1d9b24a",
   "metadata": {},
   "source": [
    "## Page 10"
   ]
  },
  {
   "cell_type": "code",
   "execution_count": 88,
   "id": "19373aba-d8fb-4133-8795-d6d1e2138d75",
   "metadata": {},
   "outputs": [],
   "source": [
    "L4P10Q1 = MultipleChoice('1. A scatterplot is a way to visualize:',['A. Two categorical variables','B. One quantitative variable and one categorical variable','C. Two quantitative variables', 'D. Three or more categorical variables'],'C. Two quantitative variables')\n",
    "L4P10Q2 = MultipleChoice('2. True or False? A scatterplot matrix shows the relationship of all quantitative variables in a dataset.',['A. True','B. False'],'A. True')\n"
   ]
  },
  {
   "cell_type": "code",
   "execution_count": 89,
   "id": "ac47bae8-4de8-4e2e-941a-5e2d250b0ce1",
   "metadata": {},
   "outputs": [
    {
     "data": {
      "application/vnd.jupyter.widget-view+json": {
       "model_id": "fea37da0cef841e3928c16645d220b5c",
       "version_major": 2,
       "version_minor": 0
      },
      "text/plain": [
       "VBox(children=(Output(outputs=({'name': 'stdout', 'text': '1. A scatterplot is a way to visualize:\\n', 'output…"
      ]
     },
     "metadata": {},
     "output_type": "display_data"
    },
    {
     "data": {
      "application/vnd.jupyter.widget-view+json": {
       "model_id": "d2158debe63e494f9e45ab59d5fb420d",
       "version_major": 2,
       "version_minor": 0
      },
      "text/plain": [
       "VBox(children=(Output(outputs=({'name': 'stdout', 'text': '2. True or False? A scatterplot matrix shows the re…"
      ]
     },
     "metadata": {},
     "output_type": "display_data"
    }
   ],
   "source": [
    "if __name__ == \"__main__\":\n",
    "    display(L4P10Q1, L4P10Q2)"
   ]
  },
  {
   "cell_type": "markdown",
   "id": "f98922ae-0e63-4dbe-b670-8abb37ed17b8",
   "metadata": {},
   "source": [
    "## Page 11"
   ]
  },
  {
   "cell_type": "code",
   "execution_count": 90,
   "id": "cf196434-2579-4525-98a0-a29702e84324",
   "metadata": {},
   "outputs": [],
   "source": [
    "L4P11Q1 = MultipleChoice('1. True or False? A scatter plot can only take two quantitative variables.',['A. True','B. False'],'B. False. You can add a third with a size or color argument.')\n",
    "L4P11Q2 = MultipleChoice('2. Which argument is used to add a color scheme to a scatter plot in Python?',['A. x=','B. s=','C. cmap=', 'D. c='],'D')\n"
   ]
  },
  {
   "cell_type": "code",
   "execution_count": 91,
   "id": "82a61be5-5831-4acc-9f40-3c64ca105d93",
   "metadata": {},
   "outputs": [
    {
     "data": {
      "application/vnd.jupyter.widget-view+json": {
       "model_id": "4043817b575946e8bb97d6727b5763a9",
       "version_major": 2,
       "version_minor": 0
      },
      "text/plain": [
       "VBox(children=(Output(outputs=({'name': 'stdout', 'text': '1. True or False? A scatter plot can only take two …"
      ]
     },
     "metadata": {},
     "output_type": "display_data"
    },
    {
     "data": {
      "application/vnd.jupyter.widget-view+json": {
       "model_id": "17d3f04cf94f48fca38c1d347412c9b6",
       "version_major": 2,
       "version_minor": 0
      },
      "text/plain": [
       "VBox(children=(Output(outputs=({'name': 'stdout', 'text': '2. Which argument is used to add a color scheme to …"
      ]
     },
     "metadata": {},
     "output_type": "display_data"
    }
   ],
   "source": [
    "if __name__ == \"__main__\":\n",
    "    display(L4P11Q1, L4P11Q2)"
   ]
  },
  {
   "cell_type": "markdown",
   "id": "a6f79718-ad35-4ae4-a7a1-b89ae786c1c0",
   "metadata": {},
   "source": [
    "## Page 12"
   ]
  },
  {
   "cell_type": "code",
   "execution_count": 92,
   "id": "e6c95887-9424-4b4a-8b4a-e9cfbb095a79",
   "metadata": {},
   "outputs": [],
   "source": [
    "L4P12Q1 = MultipleChoice('1. When creating a line chart, where does the time stamp go?',['A. On the horizontal axis','B. On the vertical axis',\"C. Either axis, it doesn't really matter\", 'D. What is a time stamp?'],'A. On the horizontal axis')\n",
    "L4P12Q2 = MultipleChoice('2. For a basic line chart, what are the variable requirements?',['A. Two categorical variables','B. A categorical variable and a quantitative variable','C. A quantitative variable, and a time stamp variable (which is quantitative, too)', 'D. Three or more categorical variables'],'C. A quantitative variable, and a time stamp variable (which is quantitative, too)')\n"
   ]
  },
  {
   "cell_type": "code",
   "execution_count": 93,
   "id": "acd3f153-7adc-4c81-90e4-e042ed415a8f",
   "metadata": {},
   "outputs": [
    {
     "data": {
      "application/vnd.jupyter.widget-view+json": {
       "model_id": "1c8518a4920d476db4e806391fdd036b",
       "version_major": 2,
       "version_minor": 0
      },
      "text/plain": [
       "VBox(children=(Output(outputs=({'name': 'stdout', 'text': '1. When creating a line chart, where does the time …"
      ]
     },
     "metadata": {},
     "output_type": "display_data"
    },
    {
     "data": {
      "application/vnd.jupyter.widget-view+json": {
       "model_id": "15c4a4051167425bac9f00d67702a68b",
       "version_major": 2,
       "version_minor": 0
      },
      "text/plain": [
       "VBox(children=(Output(outputs=({'name': 'stdout', 'text': '2. For a basic line chart, what are the variable re…"
      ]
     },
     "metadata": {},
     "output_type": "display_data"
    }
   ],
   "source": [
    "if __name__ == \"__main__\":\n",
    "    display(L4P12Q1, L4P12Q2)"
   ]
  },
  {
   "cell_type": "markdown",
   "id": "93ecd003-8d43-4094-b279-b442c0083789",
   "metadata": {},
   "source": [
    "## Page 13"
   ]
  },
  {
   "cell_type": "code",
   "execution_count": 95,
   "id": "ca014c20-7679-41f0-8dd5-c31b7eeb9ea6",
   "metadata": {},
   "outputs": [],
   "source": [
    "L4P13Q1 = MultipleChoice('1. Which of the following is problematic when you have multiple variables on a line chart?',['A. Having disparate axes','B. Having only single points shown'],'A. Having disparate axes')\n"
   ]
  },
  {
   "cell_type": "code",
   "execution_count": 96,
   "id": "57863d8f-ec30-4b2a-9516-5d11e538e8a3",
   "metadata": {},
   "outputs": [
    {
     "data": {
      "application/vnd.jupyter.widget-view+json": {
       "model_id": "62fd33e7893a4519a284baaca2d13950",
       "version_major": 2,
       "version_minor": 0
      },
      "text/plain": [
       "VBox(children=(Output(outputs=({'name': 'stdout', 'text': '1. Which of the following is problematic when you h…"
      ]
     },
     "metadata": {},
     "output_type": "display_data"
    }
   ],
   "source": [
    "if __name__ == \"__main__\":\n",
    "    display(L4P13Q1)"
   ]
  },
  {
   "cell_type": "markdown",
   "id": "a9ee68af-2462-4a39-b2b8-34eff4863251",
   "metadata": {},
   "source": [
    "## Page 14"
   ]
  },
  {
   "cell_type": "code",
   "execution_count": 97,
   "id": "27829a90-fd09-439b-9d23-c54be1994cea",
   "metadata": {},
   "outputs": [],
   "source": [
    "L4P14Q1 = MultipleChoice('1. Which function is used to generate a line plot in ggplot()?',['A. plot(). This is the line graph function in Python.','B. geom_line()','C. geom_point(). This creates a scatter plot.', 'D. geom_bar(). This creates a bar chart.'],'B. geom_line()')\n",
    "L4P14Q2 = MultipleChoice('2. What date format would you need for the below date? March 25, 1995',['A. %B-%d-%Y','B. %B %d,%Y','C. %B %d,%y', 'D. %B,%d,%y'],'B. %B %d,%Y')\n",
    "L4P14Q3 = MultipleChoice('3. What is the function that turns something into a date variable?',['A. as.character(). This is for turning data into a string variable.','B. as.factor(). This is for turning data into a factor (categorical) variable.','C. as.numeric(). This is for turning data into a number.', 'D. as.date()'],'D. as.date()')\n"
   ]
  },
  {
   "cell_type": "code",
   "execution_count": 98,
   "id": "5dafda0d-50fb-40bd-9808-0080b5898446",
   "metadata": {},
   "outputs": [
    {
     "data": {
      "application/vnd.jupyter.widget-view+json": {
       "model_id": "ede617cf124f426b8ff61d18b7892152",
       "version_major": 2,
       "version_minor": 0
      },
      "text/plain": [
       "VBox(children=(Output(outputs=({'name': 'stdout', 'text': '1. Which function is used to generate a line plot i…"
      ]
     },
     "metadata": {},
     "output_type": "display_data"
    },
    {
     "data": {
      "application/vnd.jupyter.widget-view+json": {
       "model_id": "ab3ff43ebaea484e934ededa0b3d7145",
       "version_major": 2,
       "version_minor": 0
      },
      "text/plain": [
       "VBox(children=(Output(outputs=({'name': 'stdout', 'text': '2. What date format would you need for the below da…"
      ]
     },
     "metadata": {},
     "output_type": "display_data"
    },
    {
     "data": {
      "application/vnd.jupyter.widget-view+json": {
       "model_id": "457e2cff88d04d8d9082ee4ba69cd165",
       "version_major": 2,
       "version_minor": 0
      },
      "text/plain": [
       "VBox(children=(Output(outputs=({'name': 'stdout', 'text': '3. What is the function that turns something into a…"
      ]
     },
     "metadata": {},
     "output_type": "display_data"
    }
   ],
   "source": [
    "if __name__ == \"__main__\":\n",
    "    display(L4P14Q1, L4P14Q2, L4P14Q3)"
   ]
  },
  {
   "cell_type": "markdown",
   "id": "1df14940-bc1f-41e2-8c3f-6ad96a22284f",
   "metadata": {},
   "source": [
    "## Page 15"
   ]
  },
  {
   "cell_type": "code",
   "execution_count": 99,
   "id": "b93cf526-c069-4fed-b9cc-245d3da42107",
   "metadata": {},
   "outputs": [],
   "source": [
    "L4P15Q1 = MultipleChoice('1. Which of the following will make a line plot in matplotlib?',['A. .hist()',\"B. .plot('bar')\",'C. plot()', 'D. plot.scatter()'],'C. plot()')\n",
    "L4P15Q2 = MultipleChoice('2. Which of the following is NOT a command for labeling figures in matplotlib?',['A. set_xlabel()','B. xlabel()','C. ylabel()', 'D. title()'],'A. set_xlabel()')\n"
   ]
  },
  {
   "cell_type": "code",
   "execution_count": 100,
   "id": "0b117eff-2459-43ec-8e15-6bf54b03fa45",
   "metadata": {},
   "outputs": [
    {
     "data": {
      "application/vnd.jupyter.widget-view+json": {
       "model_id": "7eea4119b0014c9b99acd11c2aede96f",
       "version_major": 2,
       "version_minor": 0
      },
      "text/plain": [
       "VBox(children=(Output(outputs=({'name': 'stdout', 'text': '1. Which of the following will make a line plot in\\…"
      ]
     },
     "metadata": {},
     "output_type": "display_data"
    },
    {
     "data": {
      "application/vnd.jupyter.widget-view+json": {
       "model_id": "7e5cd8a186854b88bcc5001da062863a",
       "version_major": 2,
       "version_minor": 0
      },
      "text/plain": [
       "VBox(children=(Output(outputs=({'name': 'stdout', 'text': '2. Which of the following is NOT a command for labe…"
      ]
     },
     "metadata": {},
     "output_type": "display_data"
    }
   ],
   "source": [
    "if __name__ == \"__main__\":\n",
    "    display(L4P15Q1, L4P15Q2)"
   ]
  },
  {
   "cell_type": "markdown",
   "id": "61d6393b-3eb3-44e3-a6b0-6b3b630feb0c",
   "metadata": {},
   "source": [
    "## Page 16"
   ]
  },
  {
   "cell_type": "code",
   "execution_count": 102,
   "id": "50a11859-7bb9-4a61-8bbf-55d63393bafa",
   "metadata": {},
   "outputs": [],
   "source": [
    "L4P16Q1 = MultipleChoice('1. True or False? There is an additive quality to the data with an area chart.',['A. True','B. False'],'A. True')\n"
   ]
  },
  {
   "cell_type": "code",
   "execution_count": 103,
   "id": "ca518531-029a-49b4-907e-3f57dccbe316",
   "metadata": {},
   "outputs": [
    {
     "data": {
      "application/vnd.jupyter.widget-view+json": {
       "model_id": "fa14c4f2d2474e87902b1b9e59579bd8",
       "version_major": 2,
       "version_minor": 0
      },
      "text/plain": [
       "VBox(children=(Output(outputs=({'name': 'stdout', 'text': '1. True or False? There is an additive quality to t…"
      ]
     },
     "metadata": {},
     "output_type": "display_data"
    }
   ],
   "source": [
    "if __name__ == \"__main__\":\n",
    "    display(L4P16Q1)"
   ]
  },
  {
   "cell_type": "markdown",
   "id": "9ae88eef-89ac-4bb4-b9e5-a8b8af8f2acd",
   "metadata": {},
   "source": [
    "## Page 17"
   ]
  },
  {
   "cell_type": "code",
   "execution_count": 104,
   "id": "47050c48-3e1a-499f-87c2-78f14b1bde62",
   "metadata": {},
   "outputs": [],
   "source": [
    "L4P17Q1 = MultipleChoice('1. True or False? The scale of the data is really important for any trend line.',['A. True','B. False'],'A. True')\n"
   ]
  },
  {
   "cell_type": "code",
   "execution_count": 105,
   "id": "191baa00-4d4b-4db8-98cb-288816ec0531",
   "metadata": {},
   "outputs": [
    {
     "data": {
      "application/vnd.jupyter.widget-view+json": {
       "model_id": "f155b95e22cd4550a300960f0ff5466b",
       "version_major": 2,
       "version_minor": 0
      },
      "text/plain": [
       "VBox(children=(Output(outputs=({'name': 'stdout', 'text': '1. True or False? The scale of the data is really i…"
      ]
     },
     "metadata": {},
     "output_type": "display_data"
    }
   ],
   "source": [
    "if __name__ == \"__main__\":\n",
    "    display(L4P17Q1)"
   ]
  },
  {
   "cell_type": "code",
   "execution_count": null,
   "id": "8b9f8341-6581-461d-badf-fb135289ae9d",
   "metadata": {},
   "outputs": [],
   "source": []
  },
  {
   "cell_type": "code",
   "execution_count": null,
   "id": "90110ca2-3387-4ea3-8216-7c6f7efc00ae",
   "metadata": {},
   "outputs": [],
   "source": []
  },
  {
   "cell_type": "code",
   "execution_count": null,
   "id": "af7bba94-1a5a-4a47-8c56-efd5b417e55f",
   "metadata": {},
   "outputs": [],
   "source": []
  },
  {
   "cell_type": "code",
   "execution_count": null,
   "id": "77aa0090-e99a-4419-bce7-ac01e52faee1",
   "metadata": {},
   "outputs": [],
   "source": []
  },
  {
   "cell_type": "code",
   "execution_count": null,
   "id": "3cf58780-a319-49a1-b415-0d63c25e5a95",
   "metadata": {},
   "outputs": [],
   "source": []
  },
  {
   "cell_type": "code",
   "execution_count": null,
   "id": "e343b50d-66b3-4c88-8ed9-024def0ee539",
   "metadata": {},
   "outputs": [],
   "source": []
  },
  {
   "cell_type": "code",
   "execution_count": null,
   "id": "6653d648-919b-4f5e-a200-f196fa22842d",
   "metadata": {},
   "outputs": [],
   "source": []
  },
  {
   "cell_type": "markdown",
   "id": "7cdc7bf1-962e-4b95-a003-51aaa26150c5",
   "metadata": {},
   "source": [
    "# Lesson 7"
   ]
  },
  {
   "cell_type": "markdown",
   "id": "a553acb5-9eda-45de-ae40-8a5389b93a84",
   "metadata": {},
   "source": [
    "## Page 2"
   ]
  },
  {
   "cell_type": "code",
   "execution_count": 106,
   "id": "aece52aa-034a-4623-88c3-48741ebadb27",
   "metadata": {},
   "outputs": [],
   "source": [
    "L7P2Q1 = MultipleChoice('1. True or False? Infographics are all about making complex topics simple.',['A. True','B. False'],'A. True')\n",
    "L7P2Q2 = MultipleChoice('2. Which of the following is NOT a reason to use an infographic?',['A. Reduce complexity','B. To show a completely unbiased view of all the data','C. Raise awareness', 'D. Compare items'],'B. To show a completely unbiased view of all the data')\n",
    "L7P2Q3 = MultipleChoice('3. Is the following a property of an infographic or a data visualization? Summarization of the data.',['A. Infographic','B. Visualization'],'A. Infographic')\n",
    "L7P2Q4 = MultipleChoice('4. Is the following a property of an infographic or a data visualization? Computer-generated automatically.',['A. Infographic','B. Visualization'],'B. Visualization')\n",
    "L7P2Q5 = MultipleChoice('5. Is the following a property of an infographic or a data visualization? Focused on a particular topic or message.',['A. Infographic','B. Visualization'],'A. Infographic')\n"
   ]
  },
  {
   "cell_type": "code",
   "execution_count": 107,
   "id": "f01f8326-a2cd-4932-b31a-128870b05cf1",
   "metadata": {},
   "outputs": [
    {
     "data": {
      "application/vnd.jupyter.widget-view+json": {
       "model_id": "1627051a412a40219fd054403e3a6e6b",
       "version_major": 2,
       "version_minor": 0
      },
      "text/plain": [
       "VBox(children=(Output(outputs=({'name': 'stdout', 'text': '1. True or False? Infographics are all about making…"
      ]
     },
     "metadata": {},
     "output_type": "display_data"
    },
    {
     "data": {
      "application/vnd.jupyter.widget-view+json": {
       "model_id": "a13902afdbf64879a65993f74992ddd9",
       "version_major": 2,
       "version_minor": 0
      },
      "text/plain": [
       "VBox(children=(Output(outputs=({'name': 'stdout', 'text': '2. Which of the following is NOT a reason to use an…"
      ]
     },
     "metadata": {},
     "output_type": "display_data"
    },
    {
     "data": {
      "application/vnd.jupyter.widget-view+json": {
       "model_id": "42272aea9ec44202a90b46538711422e",
       "version_major": 2,
       "version_minor": 0
      },
      "text/plain": [
       "VBox(children=(Output(outputs=({'name': 'stdout', 'text': '3. Is the following a property of an infographic or…"
      ]
     },
     "metadata": {},
     "output_type": "display_data"
    },
    {
     "data": {
      "application/vnd.jupyter.widget-view+json": {
       "model_id": "4b7e523dd96e4bd9a9ea80ede345fc78",
       "version_major": 2,
       "version_minor": 0
      },
      "text/plain": [
       "VBox(children=(Output(outputs=({'name': 'stdout', 'text': '4. Is the following a property of an infographic or…"
      ]
     },
     "metadata": {},
     "output_type": "display_data"
    },
    {
     "data": {
      "application/vnd.jupyter.widget-view+json": {
       "model_id": "ae7ffea865654378afa58a6e9b5d6846",
       "version_major": 2,
       "version_minor": 0
      },
      "text/plain": [
       "VBox(children=(Output(outputs=({'name': 'stdout', 'text': '5. Is the following a property of an infographic or…"
      ]
     },
     "metadata": {},
     "output_type": "display_data"
    }
   ],
   "source": [
    "if __name__ == \"__main__\":\n",
    "    display(L7P2Q1, L7P2Q2, L7P2Q3, L7P2Q4, L7P2Q5)"
   ]
  },
  {
   "cell_type": "markdown",
   "id": "5f1323f1-e2ca-415b-a6c8-9a06a698960b",
   "metadata": {},
   "source": [
    "## Page 3"
   ]
  },
  {
   "cell_type": "code",
   "execution_count": 108,
   "id": "11ea3f42-93b3-45df-be5f-2738f3663a5f",
   "metadata": {},
   "outputs": [],
   "source": [
    "L7P3Q1 = MultipleChoice('1. You decide that you want to provide your infographic for educators. What step in the infographic process is this?',['A. Define your purpose','B. Know your audience','C. Establish your message', 'D. Translate your data and findings','E. Create your infographic'],'B. Know your audience')\n",
    "L7P3Q2 = MultipleChoice('2. You are ready to pick and choose data that best fits your message. What step in the infographic process is this?',['A. Define your purpose','B. Know your audience','C. Establish your message', 'D. Translate your data and findings','E. Create your infographic'],'D. Translate your data and findings')\n",
    "L7P3Q3 = MultipleChoice(\"3. True or false? Your infographic may not have the impact you want if you don't plan ahead.\",['A. True','B. False'],'A. True')\n"
   ]
  },
  {
   "cell_type": "code",
   "execution_count": 109,
   "id": "61c2d2af-bfc2-4e74-9bd3-6be900b660c5",
   "metadata": {},
   "outputs": [
    {
     "data": {
      "application/vnd.jupyter.widget-view+json": {
       "model_id": "f0f0cc4626e34368819a15ca1b97f7d5",
       "version_major": 2,
       "version_minor": 0
      },
      "text/plain": [
       "VBox(children=(Output(outputs=({'name': 'stdout', 'text': '1. You decide that you want to provide your infogra…"
      ]
     },
     "metadata": {},
     "output_type": "display_data"
    },
    {
     "data": {
      "application/vnd.jupyter.widget-view+json": {
       "model_id": "9b043bdf745343faa841a9fe91a6b806",
       "version_major": 2,
       "version_minor": 0
      },
      "text/plain": [
       "VBox(children=(Output(outputs=({'name': 'stdout', 'text': '2. You are ready to pick and choose data that best …"
      ]
     },
     "metadata": {},
     "output_type": "display_data"
    },
    {
     "data": {
      "application/vnd.jupyter.widget-view+json": {
       "model_id": "7d14871a3391475ea1ffd13d2d978bcc",
       "version_major": 2,
       "version_minor": 0
      },
      "text/plain": [
       "VBox(children=(Output(outputs=({'name': 'stdout', 'text': \"3. True or false? Your infographic may not have the…"
      ]
     },
     "metadata": {},
     "output_type": "display_data"
    }
   ],
   "source": [
    "if __name__ == \"__main__\":\n",
    "    display(L7P3Q1, L7P3Q2, L7P3Q3)"
   ]
  },
  {
   "cell_type": "markdown",
   "id": "89de8623-c641-47dd-9efa-ea867f7b03bc",
   "metadata": {},
   "source": [
    "## Page 4"
   ]
  },
  {
   "cell_type": "code",
   "execution_count": 110,
   "id": "6caa0eeb-f891-4414-a21b-be5b5f1cfc0c",
   "metadata": {},
   "outputs": [],
   "source": [
    "L7P4Q1 = MultipleChoice('1. If you are trying to depict change over time, what kind of infographic layout would you use?',['A. Hierarchy','B. Categorical','C. Comparison', 'D. Descriptive', 'E. Timeline'],'E. Timeline')\n",
    "L7P4Q2 = MultipleChoice('2. If you are trying to depict a process or an ordered list, what kind of infographic layout would you use?',['A. Hierarchy','B. Categorical','C. Comparison', 'D. Descriptive', 'E. Timeline'],'A. Hierarchy')\n",
    "L7P4Q3 = MultipleChoice('3. If you are trying to compare two things, what kind of infographic layout would you use?',['A. Hierarchy','B. Categorical','C. Comparison', 'D. Descriptive', 'E. Timeline'],'C. Comparison')\n",
    "L7P4Q4 = MultipleChoice('4. If you are looking at differences between groups, what kind of infographic layout would you use?',['A. Hierarchy','B. Categorical','C. Comparison', 'D. Descriptive', 'E. Timeline'],'B. Categorical')\n",
    "L7P4Q5 = MultipleChoice('5. Which of the following is considered a broad, catch-all infographic layout?',['A. Hierarchy','B. Categorical','C. Comparison', 'D. Descriptive', 'E. Timeline'],'D. Descriptive')\n"
   ]
  },
  {
   "cell_type": "code",
   "execution_count": 111,
   "id": "79d30af0-b595-4aa3-8bc0-4afce60f4f37",
   "metadata": {},
   "outputs": [
    {
     "data": {
      "application/vnd.jupyter.widget-view+json": {
       "model_id": "19310bb76d4f438bb786dce7d91e34b0",
       "version_major": 2,
       "version_minor": 0
      },
      "text/plain": [
       "VBox(children=(Output(outputs=({'name': 'stdout', 'text': '1. If you are trying to depict change over time, wh…"
      ]
     },
     "metadata": {},
     "output_type": "display_data"
    },
    {
     "data": {
      "application/vnd.jupyter.widget-view+json": {
       "model_id": "3be026a83a7c4602ae06836008e150bd",
       "version_major": 2,
       "version_minor": 0
      },
      "text/plain": [
       "VBox(children=(Output(outputs=({'name': 'stdout', 'text': '2. If you are trying to depict a process or an orde…"
      ]
     },
     "metadata": {},
     "output_type": "display_data"
    },
    {
     "data": {
      "application/vnd.jupyter.widget-view+json": {
       "model_id": "5592e07ab8c649e28bbab585161190c0",
       "version_major": 2,
       "version_minor": 0
      },
      "text/plain": [
       "VBox(children=(Output(outputs=({'name': 'stdout', 'text': '3. If you are trying to compare two things, what ki…"
      ]
     },
     "metadata": {},
     "output_type": "display_data"
    },
    {
     "data": {
      "application/vnd.jupyter.widget-view+json": {
       "model_id": "f2ef71e877794628b95814b4591ea381",
       "version_major": 2,
       "version_minor": 0
      },
      "text/plain": [
       "VBox(children=(Output(outputs=({'name': 'stdout', 'text': '4. If you are looking at differences between groups…"
      ]
     },
     "metadata": {},
     "output_type": "display_data"
    },
    {
     "data": {
      "application/vnd.jupyter.widget-view+json": {
       "model_id": "3d2f8fe45a7044b7865073cfd43786fe",
       "version_major": 2,
       "version_minor": 0
      },
      "text/plain": [
       "VBox(children=(Output(outputs=({'name': 'stdout', 'text': '5. Which of the following is considered a broad, ca…"
      ]
     },
     "metadata": {},
     "output_type": "display_data"
    }
   ],
   "source": [
    "if __name__ == \"__main__\":\n",
    "    display(L7P4Q1, L7P4Q2, L7P4Q3, L7P4Q4, L7P4Q5)"
   ]
  },
  {
   "cell_type": "markdown",
   "id": "846b1683-944b-4c5c-b7ba-502cb9f967e7",
   "metadata": {},
   "source": [
    "## Page 5"
   ]
  },
  {
   "cell_type": "code",
   "execution_count": 112,
   "id": "16de4ffa-e6ad-484b-b670-1eb5de26aef8",
   "metadata": {},
   "outputs": [],
   "source": [
    "L7P5Q1 = MultipleChoice(\"1. Which of the following is NOT a design element you'll focus on with your infographics?\",['A. Flow','B. Font','C. Content', 'D. Color'],'C. Content')\n"
   ]
  },
  {
   "cell_type": "code",
   "execution_count": 113,
   "id": "f2f9406d-6cd8-49d5-bac2-03396c231b13",
   "metadata": {},
   "outputs": [
    {
     "data": {
      "application/vnd.jupyter.widget-view+json": {
       "model_id": "901ed2d8c0884d0b852e6002cdbdb19d",
       "version_major": 2,
       "version_minor": 0
      },
      "text/plain": [
       "VBox(children=(Output(outputs=({'name': 'stdout', 'text': \"1. Which of the following is NOT a design element y…"
      ]
     },
     "metadata": {},
     "output_type": "display_data"
    }
   ],
   "source": [
    "if __name__ == \"__main__\":\n",
    "    display(L7P5Q1)"
   ]
  },
  {
   "cell_type": "markdown",
   "id": "aa467e7c-1f70-4138-86c6-e82822e288d3",
   "metadata": {},
   "source": [
    "## Page 6"
   ]
  },
  {
   "cell_type": "code",
   "execution_count": 114,
   "id": "6d44c7ee-cf7d-4c4b-9f47-d3d6a5c6992d",
   "metadata": {},
   "outputs": [],
   "source": [
    "L7P6Q1 = MultipleChoice('1. Which property of color is how light or dark a color is?',['A. Hue','B. Saturation'],'B. Saturation')\n",
    "L7P6Q2 = MultipleChoice('2. Which computer color system lists colors from 0-255?',['A. rgb','B. Hex code'],'A. rgb')\n"
   ]
  },
  {
   "cell_type": "code",
   "execution_count": 115,
   "id": "68585fbd-2e74-4678-8647-060b3b0a370b",
   "metadata": {},
   "outputs": [
    {
     "data": {
      "application/vnd.jupyter.widget-view+json": {
       "model_id": "474780dea2f34d2f9cfaeb0fcea3e382",
       "version_major": 2,
       "version_minor": 0
      },
      "text/plain": [
       "VBox(children=(Output(outputs=({'name': 'stdout', 'text': '1. Which property of color is how light or dark a c…"
      ]
     },
     "metadata": {},
     "output_type": "display_data"
    },
    {
     "data": {
      "application/vnd.jupyter.widget-view+json": {
       "model_id": "f8e8fc62f7264fb985e09fb5a9edf474",
       "version_major": 2,
       "version_minor": 0
      },
      "text/plain": [
       "VBox(children=(Output(outputs=({'name': 'stdout', 'text': '2. Which computer color system lists colors from 0-…"
      ]
     },
     "metadata": {},
     "output_type": "display_data"
    }
   ],
   "source": [
    "if __name__ == \"__main__\":\n",
    "    display(L7P6Q1, L7P6Q2)"
   ]
  },
  {
   "cell_type": "markdown",
   "id": "7bdeeb6b-d3b1-45a4-9790-d0fc0a757e07",
   "metadata": {},
   "source": [
    "## Page 7"
   ]
  },
  {
   "cell_type": "code",
   "execution_count": 116,
   "id": "ed634506-8dd7-4f7d-ab9d-efed4dc96203",
   "metadata": {},
   "outputs": [],
   "source": [
    "L7P7Q1 = MultipleChoice('1. What color palette uses different hues for the same saturation values?',['A. Monochromatic','B. Analogous','C. Complementary', 'D. Triad'],'B. Analogous')\n",
    "L7P7Q2 = MultipleChoice('2. What color palette uses colors opposite on the color wheel?',['A. Monochromatic','B. Analogous','C. Complementary', 'D. Triad'],'C. Complementary')\n",
    "L7P7Q3 = MultipleChoice('3. What color palette uses different saturations for the same hues?',['A. Monochromatic','B. Analogous','C. Complementary', 'D. Triad'],'A. Monochromatic')\n",
    "L7P7Q4 = MultipleChoice('4. What colors do those who are color blind have troubling distinguishing between?',['A. red-orange and blue-green','B. green-blue and red-purple','C. red-blue and green-purple', 'D. red-green and/or blue-purple'],'D. red-green and/or blue-purple')\n",
    "L7P7Q5 = MC('5. True or false? It is impossible to match colors exactly?',['A. True','B. False'],'B. False', cor= \"False: You can typically match colors by either rgb or hex codes, and there are even websites that allow you to submit an image like a log with which to match. ",
    "\", incor= \"\")\n"
   ]
  },
  {
   "cell_type": "code",
   "execution_count": 117,
   "id": "ab049ff4-5171-468e-a2c3-2ad9b7ff7bbd",
   "metadata": {},
   "outputs": [
    {
     "data": {
      "application/vnd.jupyter.widget-view+json": {
       "model_id": "5955f31712f442009b170fdf09d059a5",
       "version_major": 2,
       "version_minor": 0
      },
      "text/plain": [
       "VBox(children=(Output(outputs=({'name': 'stdout', 'text': '1. What color palette uses different hues for the s…"
      ]
     },
     "metadata": {},
     "output_type": "display_data"
    },
    {
     "data": {
      "application/vnd.jupyter.widget-view+json": {
       "model_id": "49523843622741c683bcf1137674f759",
       "version_major": 2,
       "version_minor": 0
      },
      "text/plain": [
       "VBox(children=(Output(outputs=({'name': 'stdout', 'text': '2. What color palette uses colors opposite on the c…"
      ]
     },
     "metadata": {},
     "output_type": "display_data"
    },
    {
     "data": {
      "application/vnd.jupyter.widget-view+json": {
       "model_id": "0af634d3c950496d959f367c5b1247de",
       "version_major": 2,
       "version_minor": 0
      },
      "text/plain": [
       "VBox(children=(Output(outputs=({'name': 'stdout', 'text': '3. What color palette uses different saturations fo…"
      ]
     },
     "metadata": {},
     "output_type": "display_data"
    },
    {
     "data": {
      "application/vnd.jupyter.widget-view+json": {
       "model_id": "c1ce9d68f04648fa94a507f8ed8ad877",
       "version_major": 2,
       "version_minor": 0
      },
      "text/plain": [
       "VBox(children=(Output(outputs=({'name': 'stdout', 'text': '4. What colors do those who are color blind have tr…"
      ]
     },
     "metadata": {},
     "output_type": "display_data"
    },
    {
     "data": {
      "application/vnd.jupyter.widget-view+json": {
       "model_id": "da666c6b407847e6be37a394c4946abf",
       "version_major": 2,
       "version_minor": 0
      },
      "text/plain": [
       "VBox(children=(Output(outputs=({'name': 'stdout', 'text': '5. True or false? It is impossible to match colors …"
      ]
     },
     "metadata": {},
     "output_type": "display_data"
    }
   ],
   "source": [
    "if __name__ == \"__main__\":\n",
    "    display(L7P7Q1, L7P7Q2, L7P7Q3, L7P7Q4, L7P7Q5)"
   ]
  },
  {
   "cell_type": "markdown",
   "id": "32e586a2-b79f-40a2-a1fb-ec3f0e87c6a4",
   "metadata": {},
   "source": [
    "## Page 8"
   ]
  },
  {
   "cell_type": "code",
   "execution_count": 118,
   "id": "e187a598-89d4-4c7b-ad4c-d426b781bde1",
   "metadata": {},
   "outputs": [],
   "source": [
    "L7P8Q1 = MultipleChoice('1. How many fonts should you NOT use?',['A. 1','B. 2','C. 3', 'D. 4 or more'],'D. 4 or more')\n",
    "L7P8Q2 = MultipleChoice('2. True or False? Flow naturally follows from right to left in English-speaking countries.',['A. True','B. False'],'B. False')\n",
    "L7P8Q3 = MultipleChoice('3. Which of the following is NOT a way to incite flow within your infographic?',['A. Arrows','B. Text size','C. Roads', 'D. Color'],'D. Color')\n",
    "L7P8Q4 = MultipleChoice('4. True or False? Your main take away should be located outside your focal point.',['A. True','B. False'],'B. False')\n"
   ]
  },
  {
   "cell_type": "code",
   "execution_count": 119,
   "id": "37205c08-9c41-4ff8-8367-a92d7d065dd7",
   "metadata": {},
   "outputs": [
    {
     "data": {
      "application/vnd.jupyter.widget-view+json": {
       "model_id": "0b1d474504f142bca64154dca8d265a9",
       "version_major": 2,
       "version_minor": 0
      },
      "text/plain": [
       "VBox(children=(Output(outputs=({'name': 'stdout', 'text': '1. How many fonts should you NOT use?\\n', 'output_t…"
      ]
     },
     "metadata": {},
     "output_type": "display_data"
    },
    {
     "data": {
      "application/vnd.jupyter.widget-view+json": {
       "model_id": "5d2818b30f9d4b4082bd4b4ea03a5947",
       "version_major": 2,
       "version_minor": 0
      },
      "text/plain": [
       "VBox(children=(Output(outputs=({'name': 'stdout', 'text': '2. True or False? Flow naturally follows from right…"
      ]
     },
     "metadata": {},
     "output_type": "display_data"
    },
    {
     "data": {
      "application/vnd.jupyter.widget-view+json": {
       "model_id": "d4ccf48d88854d61a93201be2a8d480c",
       "version_major": 2,
       "version_minor": 0
      },
      "text/plain": [
       "VBox(children=(Output(outputs=({'name': 'stdout', 'text': '3. Which of the following is NOT a way to incite fl…"
      ]
     },
     "metadata": {},
     "output_type": "display_data"
    },
    {
     "data": {
      "application/vnd.jupyter.widget-view+json": {
       "model_id": "fa16cd2d73444ccdadd451858b05a962",
       "version_major": 2,
       "version_minor": 0
      },
      "text/plain": [
       "VBox(children=(Output(outputs=({'name': 'stdout', 'text': '4. True or False? Your main take away should be loc…"
      ]
     },
     "metadata": {},
     "output_type": "display_data"
    }
   ],
   "source": [
    "if __name__ == \"__main__\":\n",
    "    display(L7P8Q1, L7P8Q2, L7P8Q3, L7P8Q4)"
   ]
  },
  {
   "cell_type": "markdown",
   "id": "4098ad38-8b5a-4946-bc6c-280dc6c7315f",
   "metadata": {},
   "source": [
    "## Page 9"
   ]
  },
  {
   "cell_type": "code",
   "execution_count": 121,
   "id": "5b232140-15ab-4b9f-b89b-9b48b7c447cb",
   "metadata": {},
   "outputs": [],
   "source": [
    "L7P9Q1 = MultipleChoice(\"1. Which of the following is NOT something you'll do to set up MS Power Point for infographic design?\",['A. Pick a slide background','B. Change the slide size','C. Make the slide blank', 'D. Add rulers, gridlines, and guides'],'A. Pick a slide background')\n"
   ]
  },
  {
   "cell_type": "code",
   "execution_count": 122,
   "id": "3937e0a7-267c-4389-9b44-5b909e9af0ce",
   "metadata": {},
   "outputs": [
    {
     "data": {
      "application/vnd.jupyter.widget-view+json": {
       "model_id": "abe8a55629484b51b16d63b56f3f7951",
       "version_major": 2,
       "version_minor": 0
      },
      "text/plain": [
       "VBox(children=(Output(outputs=({'name': 'stdout', 'text': \"1. Which of the following is NOT something you'll d…"
      ]
     },
     "metadata": {},
     "output_type": "display_data"
    }
   ],
   "source": [
    "if __name__ == \"__main__\":\n",
    "    display(L7P9Q1)"
   ]
  },
  {
   "cell_type": "markdown",
   "id": "9e06fad5-70de-4e22-b647-f2f13561a9f0",
   "metadata": {},
   "source": [
    "## Page 10"
   ]
  },
  {
   "cell_type": "code",
   "execution_count": 123,
   "id": "5ec06ea7-4d3c-48df-8f67-0466b399f39a",
   "metadata": {},
   "outputs": [],
   "source": [
    "L7P10Q1 = MultipleChoice('1. Which usage setting in Google will allow you to change an image and use it for a business?',['A. Not filtered by license','B. Labeled for reuse with modification','C. Labeled for reuse', 'D. Labeled for noncommercial reuse with modification'],'B. Labeled for reuse with modification')\n",
    "L7P10Q2 = MultipleChoice('2. True or False? Many icons can be added by using a typical search string and then adding \"icon\" to the end.',['A. True','B. False'],'A. True')\n"
   ]
  },
  {
   "cell_type": "code",
   "execution_count": 124,
   "id": "feec82e5-adc1-4ac5-b5c8-2a8cd00944d1",
   "metadata": {},
   "outputs": [
    {
     "data": {
      "application/vnd.jupyter.widget-view+json": {
       "model_id": "c098bb73bb8542fab392ff9e04e81f87",
       "version_major": 2,
       "version_minor": 0
      },
      "text/plain": [
       "VBox(children=(Output(outputs=({'name': 'stdout', 'text': '1. Which usage setting in Google will allow you to …"
      ]
     },
     "metadata": {},
     "output_type": "display_data"
    },
    {
     "data": {
      "application/vnd.jupyter.widget-view+json": {
       "model_id": "f3f3d8ebba5f41f7ab129362fd625221",
       "version_major": 2,
       "version_minor": 0
      },
      "text/plain": [
       "VBox(children=(Output(outputs=({'name': 'stdout', 'text': '2. True or False? Many icons can be added by using …"
      ]
     },
     "metadata": {},
     "output_type": "display_data"
    }
   ],
   "source": [
    "if __name__ == \"__main__\":\n",
    "    display(L7P10Q1, L7P10Q2)"
   ]
  },
  {
   "cell_type": "markdown",
   "id": "3ee14d66-da24-42de-b568-4104e8e5be42",
   "metadata": {},
   "source": [
    "## Page 11"
   ]
  },
  {
   "cell_type": "markdown",
   "id": "df76e84b-fbd6-44e9-a661-c4585ceb40ca",
   "metadata": {},
   "source": [
    "### Q1"
   ]
  },
  {
   "cell_type": "code",
   "execution_count": 141,
   "id": "7f78c8e1-5473-4cd4-8b6c-fcbc594d095f",
   "metadata": {},
   "outputs": [],
   "source": [
    "L7P11Q1 = MultipleChoice('1. Is this a good icon?',['A. Yes','B. No'],'B. No')"
   ]
  },
  {
   "cell_type": "markdown",
   "id": "76c9db19-5a77-455f-a2d4-30fcd4db9b56",
   "metadata": {},
   "source": [
    "<img src=\"../Media/L07-18.PNG\" alt=\"Drawing\" style=\"width: 500px;\"/>"
   ]
  },
  {
   "cell_type": "code",
   "execution_count": 142,
   "id": "aa8d7c21-363b-4341-b646-0307827eb709",
   "metadata": {},
   "outputs": [
    {
     "data": {
      "application/vnd.jupyter.widget-view+json": {
       "model_id": "0f35bd1ed30b45dc920f64f3ee36a5de",
       "version_major": 2,
       "version_minor": 0
      },
      "text/plain": [
       "VBox(children=(Output(outputs=({'name': 'stdout', 'text': '1. Is this a good icon?\\n', 'output_type': 'stream'…"
      ]
     },
     "metadata": {},
     "output_type": "display_data"
    }
   ],
   "source": [
    "if __name__ == \"__main__\":\n",
    "    display(L7P11Q1)"
   ]
  },
  {
   "cell_type": "markdown",
   "id": "517b3b89-9434-4c01-b929-35a5e6bfcdad",
   "metadata": {},
   "source": [
    "### Q2"
   ]
  },
  {
   "cell_type": "code",
   "execution_count": 131,
   "id": "cd6df355-20b8-45b5-8f7a-b0fc9690b15e",
   "metadata": {},
   "outputs": [],
   "source": [
    "L7P11Q2 = MultipleChoice('2. Why is this not a good icon?',['A. Too simple','B. Too Complex','C. Not Transparent'],'A. Too simple')"
   ]
  },
  {
   "cell_type": "markdown",
   "id": "774eb9d5-676a-4c3b-a4ee-dc5f41168036",
   "metadata": {},
   "source": [
    "\n",
    "<img src=\"../Media/L07-18.PNG\" alt=\"Drawing\" style=\"width: 500px;\"/>"
   ]
  },
  {
   "cell_type": "code",
   "execution_count": 132,
   "id": "32970eb3-26c3-4763-9dd9-40e53e46f93b",
   "metadata": {},
   "outputs": [
    {
     "data": {
      "application/vnd.jupyter.widget-view+json": {
       "model_id": "49d4911af29f48f59631ece34727df02",
       "version_major": 2,
       "version_minor": 0
      },
      "text/plain": [
       "VBox(children=(Output(outputs=({'name': 'stdout', 'text': '2. Why is this not a good icon?\\n', 'output_type': …"
      ]
     },
     "metadata": {},
     "output_type": "display_data"
    }
   ],
   "source": [
    "if __name__ == \"__main__\":\n",
    "    display(L7P11Q2)"
   ]
  },
  {
   "cell_type": "markdown",
   "id": "ad219ecd-16a1-47a7-9a83-682c2d41cb83",
   "metadata": {
    "tags": []
   },
   "source": [
    "### Q3"
   ]
  },
  {
   "cell_type": "code",
   "execution_count": 133,
   "id": "a8d91f1c-d71a-486e-8a03-6355dea046ca",
   "metadata": {
    "tags": []
   },
   "outputs": [],
   "source": [
    "L7P11Q3 = MultipleChoice('3. Is this a good icon?',['A. Yes','B. No'],'B. No')"
   ]
  },
  {
   "cell_type": "markdown",
   "id": "d842b21e-56dc-4b8b-8de0-47466fc0eecc",
   "metadata": {},
   "source": [
    "<img src=\"../Media/L07-19.PNG\" alt=\"Drawing\" style=\"width: 500px;\"/>"
   ]
  },
  {
   "cell_type": "code",
   "execution_count": 134,
   "id": "42b5ad48-880a-49a9-bc06-a1fe5d9d98d4",
   "metadata": {},
   "outputs": [
    {
     "data": {
      "application/vnd.jupyter.widget-view+json": {
       "model_id": "6b3a5d0c0f3b41319436de331c67f69e",
       "version_major": 2,
       "version_minor": 0
      },
      "text/plain": [
       "VBox(children=(Output(outputs=({'name': 'stdout', 'text': '3. Is this a good icon?\\n', 'output_type': 'stream'…"
      ]
     },
     "metadata": {},
     "output_type": "display_data"
    }
   ],
   "source": [
    "if __name__ == \"__main__\":\n",
    "    display(L7P11Q3)"
   ]
  },
  {
   "cell_type": "markdown",
   "id": "3f151cc9-37eb-4f2c-b809-23197d619b25",
   "metadata": {},
   "source": [
    "### Q4"
   ]
  },
  {
   "cell_type": "code",
   "execution_count": 135,
   "id": "1c408726-6608-42a2-9b55-550bcdea2ebf",
   "metadata": {
    "tags": []
   },
   "outputs": [],
   "source": [
    "L7P11Q4 = MultipleChoice('4. Why is this not a good icon?',['A. Too simple','B. Too Complex','C. Not Transparent'],'B. Too Complex')"
   ]
  },
  {
   "cell_type": "markdown",
   "id": "4753b912-6ea5-47e9-a54f-86b65222140d",
   "metadata": {},
   "source": [
    "<img src=\"../Media/L07-19.PNG\" alt=\"Drawing\" style=\"width: 500px;\"/>"
   ]
  },
  {
   "cell_type": "code",
   "execution_count": 136,
   "id": "9c82f9ab-f219-4036-aecb-6ec26e544184",
   "metadata": {},
   "outputs": [
    {
     "data": {
      "application/vnd.jupyter.widget-view+json": {
       "model_id": "b4c93090de1e400e9c5798975129ad18",
       "version_major": 2,
       "version_minor": 0
      },
      "text/plain": [
       "VBox(children=(Output(outputs=({'name': 'stdout', 'text': '4. Why is this not a good icon?\\n', 'output_type': …"
      ]
     },
     "metadata": {},
     "output_type": "display_data"
    }
   ],
   "source": [
    "if __name__ == \"__main__\":\n",
    "    display(L7P11Q4)"
   ]
  },
  {
   "cell_type": "markdown",
   "id": "f7b3b0ba-d36a-4f9a-baa0-e1eed18927ac",
   "metadata": {},
   "source": [
    "### Q5"
   ]
  },
  {
   "cell_type": "code",
   "execution_count": 137,
   "id": "391b9f60-a047-4738-8543-e06c1e6e8355",
   "metadata": {},
   "outputs": [],
   "source": [
    "L7P11Q5 = MultipleChoice('5. Is this a good icon?',['A. Yes','B. No'],'A. Yes')"
   ]
  },
  {
   "cell_type": "markdown",
   "id": "6de7f8c9-8614-4edb-8e73-29b66e03d859",
   "metadata": {},
   "source": [
    "\n",
    "<img src=\"../Media/L07-20.PNG\" alt=\"Drawing\" style=\"width: 500px;\"/>"
   ]
  },
  {
   "cell_type": "code",
   "execution_count": 138,
   "id": "d330b76e-4896-449f-9dfa-b910c555d819",
   "metadata": {},
   "outputs": [
    {
     "data": {
      "application/vnd.jupyter.widget-view+json": {
       "model_id": "86cb8b0fdc3443b28574c3f24a72acf2",
       "version_major": 2,
       "version_minor": 0
      },
      "text/plain": [
       "VBox(children=(Output(outputs=({'name': 'stdout', 'text': '5. Is this a good icon?\\n', 'output_type': 'stream'…"
      ]
     },
     "metadata": {},
     "output_type": "display_data"
    }
   ],
   "source": [
    "if __name__ == \"__main__\":\n",
    "    display(L7P11Q5)"
   ]
  },
  {
   "cell_type": "markdown",
   "id": "d550756e-a7d6-4b03-9494-ccb3451c91fc",
   "metadata": {},
   "source": [
    "## Page 12"
   ]
  },
  {
   "cell_type": "code",
   "execution_count": 139,
   "id": "633e0e04-f759-4289-9189-b06e8247e06a",
   "metadata": {},
   "outputs": [],
   "source": [
    "L7P12Q1 = MultipleChoice('1. Which ribbon in MS Power Point allows you to remove backgrounds and play with colors?',['A. Picture Format','B. Insert','C. Design', 'D. View'],'A. Picture Format')\n",
    "L7P12Q2 = MultipleChoice('2. Which features in MS Power Point work by clicking and dragging?',['A. Highlighting to group','B. Sizing text boxes','C. Snapping to grid', 'D. All of the above'],'D. All of the above')\n"
   ]
  },
  {
   "cell_type": "code",
   "execution_count": 140,
   "id": "57cacaf3-fc36-4895-9096-ebcc650ead85",
   "metadata": {},
   "outputs": [
    {
     "data": {
      "application/vnd.jupyter.widget-view+json": {
       "model_id": "f5f10a59ddeb41a8940f23ce5793e508",
       "version_major": 2,
       "version_minor": 0
      },
      "text/plain": [
       "VBox(children=(Output(outputs=({'name': 'stdout', 'text': '1. Which ribbon in MS Power Point allows you to rem…"
      ]
     },
     "metadata": {},
     "output_type": "display_data"
    },
    {
     "data": {
      "application/vnd.jupyter.widget-view+json": {
       "model_id": "d2646135492d4fe9b226989cbf08f64a",
       "version_major": 2,
       "version_minor": 0
      },
      "text/plain": [
       "VBox(children=(Output(outputs=({'name': 'stdout', 'text': '2. Which features in MS Power Point work by clickin…"
      ]
     },
     "metadata": {},
     "output_type": "display_data"
    }
   ],
   "source": [
    "if __name__ == \"__main__\":\n",
    "    display(L7P12Q1, L7P12Q2)"
   ]
  },
  {
   "cell_type": "code",
   "execution_count": null,
   "id": "d9d23cc0-7174-4b90-b99e-8db2fc7ce541",
   "metadata": {},
   "outputs": [],
   "source": []
  }
 ],
 "metadata": {
  "kernelspec": {
   "display_name": "Python 3 (ipykernel)",
   "language": "python",
   "name": "python3"
  },
  "language_info": {
   "codemirror_mode": {
    "name": "ipython",
    "version": 3
   },
   "file_extension": ".py",
   "mimetype": "text/x-python",
   "name": "python",
   "nbconvert_exporter": "python",
   "pygments_lexer": "ipython3",
   "version": "3.9.9"
  }
 },
 "nbformat": 4,
 "nbformat_minor": 5
}
