{
 "cells": [
  {
   "cell_type": "code",
   "execution_count": 1,
   "id": "8965a284-a260-48f0-834a-7b7e3cb081b1",
   "metadata": {},
   "outputs": [],
   "source": [
    "from DS_Students import *"
   ]
  },
  {
   "cell_type": "markdown",
   "id": "2b711f93-de89-450e-8240-69d618fba027",
   "metadata": {},
   "source": [
    "## DS104 \n",
    "\n",
    "## Lesson 5\n",
    "\n"
   ]
  },
  {
   "cell_type": "markdown",
   "id": "aa361537-90d9-408e-9ca8-cc7585f0b6ed",
   "metadata": {},
   "source": [
    "## Page 2"
   ]
  },
  {
   "cell_type": "code",
   "execution_count": 5,
   "id": "f795522e-aef5-46b6-a8c4-41b52c1d12ee",
   "metadata": {},
   "outputs": [],
   "source": [
    "L5P2Q1 = MultipleChoice('1. What is the traditional color scheme for a heat map?',['A: Red = Good, Green = Bad','B: Red = Bad, Green = Good'],'B: Red = Bad, Green = Good')\n",
    "L5P2Q2 = MultipleChoice('2. What variable types are required for a heat map?',['A: Two quantitative variable and one qualitative variable','B: Two quantitative variables and two qualitative variables','C: One quantitative variable and two qualitative variables', 'D: One quantitative variable and one qualitative variable'],'C: One quantitative variable and two qualitative variables')\n"
   ]
  },
  {
   "cell_type": "code",
   "execution_count": 6,
   "id": "eaa78e43-cdc0-43c7-b9be-57fd28062e23",
   "metadata": {},
   "outputs": [
    {
     "data": {
      "application/vnd.jupyter.widget-view+json": {
       "model_id": "907714c9c78a4508931a0d2267d0da1f",
       "version_major": 2,
       "version_minor": 0
      },
      "text/plain": [
       "VBox(children=(Output(outputs=({'name': 'stdout', 'text': '1. What is the traditional color scheme for a heat …"
      ]
     },
     "metadata": {},
     "output_type": "display_data"
    },
    {
     "data": {
      "application/vnd.jupyter.widget-view+json": {
       "model_id": "9074316d64d248df908b678302c16cc8",
       "version_major": 2,
       "version_minor": 0
      },
      "text/plain": [
       "VBox(children=(Output(outputs=({'name': 'stdout', 'text': '2. What variable types are required for a heat map?…"
      ]
     },
     "metadata": {},
     "output_type": "display_data"
    }
   ],
   "source": [
    "if __name__ == \"__main__\":\n",
    "    display(L5P2Q1, L5P2Q2)"
   ]
  },
  {
   "cell_type": "markdown",
   "id": "23d06d74-4ed7-4472-bf3f-deb3345eee8b",
   "metadata": {},
   "source": [
    "## Page 3"
   ]
  },
  {
   "cell_type": "code",
   "execution_count": 7,
   "id": "70faeb8d-e2f9-4e30-aa60-b4d629485e1f",
   "metadata": {},
   "outputs": [],
   "source": [
    "L5P3Q1 = MultipleChoice('1. Which of the following is NOT a potential pitfall when interpreting heat maps?',['A: Heat maps are only sensitive to the range of data, so the different data can look exactly the same','B: Including outliers will skew the graphic','C: Comparing two heat maps to each other', 'D: Red can mean good instead'],'D: Red can mean good instead')\n"
   ]
  },
  {
   "cell_type": "code",
   "execution_count": 8,
   "id": "fef93dfc-2a88-429a-80e5-76d3e10fd54d",
   "metadata": {},
   "outputs": [
    {
     "data": {
      "application/vnd.jupyter.widget-view+json": {
       "model_id": "cb1ee626ea8f469e90147a830586f8f4",
       "version_major": 2,
       "version_minor": 0
      },
      "text/plain": [
       "VBox(children=(Output(outputs=({'name': 'stdout', 'text': '1. Which of the following is NOT a potential pitfal…"
      ]
     },
     "metadata": {},
     "output_type": "display_data"
    }
   ],
   "source": [
    "if __name__ == \"__main__\":\n",
    "    display(L5P3Q1)"
   ]
  },
  {
   "cell_type": "markdown",
   "id": "4ea6ba47-91d2-445d-aa26-8806a895be96",
   "metadata": {},
   "source": [
    "## Page 4"
   ]
  },
  {
   "cell_type": "code",
   "execution_count": 9,
   "id": "4e927d75-7406-47fc-84b5-c09f2a6e45fa",
   "metadata": {},
   "outputs": [],
   "source": [
    "L5P4Q1 = MultipleChoice('1. What variable types are required for a heat map?',['A: Heat maps do not need data in their cells','B: Heat maps can be in other colors than red and green','C: Heat maps can have more than one quantitative variable', 'D: Heat maps can be displayed on a geographic map'],'C: Heat maps can have more than one quantitative variable')\n"
   ]
  },
  {
   "cell_type": "code",
   "execution_count": 11,
   "id": "b864b742-57be-4e82-acb1-eada21854c62",
   "metadata": {},
   "outputs": [
    {
     "data": {
      "application/vnd.jupyter.widget-view+json": {
       "model_id": "c5b67f1c104a400a8515ea846dfac330",
       "version_major": 2,
       "version_minor": 0
      },
      "text/plain": [
       "VBox(children=(Output(outputs=({'name': 'stdout', 'text': '1. What variable types are required for a heat map?…"
      ]
     },
     "metadata": {},
     "output_type": "display_data"
    }
   ],
   "source": [
    "if __name__ == \"__main__\":\n",
    "    display(L5P4Q1)"
   ]
  },
  {
   "cell_type": "markdown",
   "id": "234b7593-4e75-4fda-a5d5-b424a39bf6e1",
   "metadata": {},
   "source": [
    "## Page 5"
   ]
  },
  {
   "cell_type": "code",
   "execution_count": 12,
   "id": "2b6dec08-6acf-4a43-98fa-27f978264665",
   "metadata": {},
   "outputs": [],
   "source": [
    "L5P5Q1 = MultipleChoice('1. What format is required for doing heat maps in R?',['A: Matrix with only qualitative data','B: Matrix with only quantitative data','C: Data frame with only qualitative data', 'D: Data frame with only quantitative data'],'B: Matrix with only quantitative data')\n"
   ]
  },
  {
   "cell_type": "code",
   "execution_count": 14,
   "id": "d5539197-538d-4ac8-a363-a240831cedff",
   "metadata": {},
   "outputs": [
    {
     "data": {
      "application/vnd.jupyter.widget-view+json": {
       "model_id": "45620532550e440d9ab0312506ab650e",
       "version_major": 2,
       "version_minor": 0
      },
      "text/plain": [
       "VBox(children=(Output(outputs=({'name': 'stdout', 'text': '1. What format is required for doing heat maps in R…"
      ]
     },
     "metadata": {},
     "output_type": "display_data"
    }
   ],
   "source": [
    "if __name__ == \"__main__\":\n",
    "    display(L5P5Q1)"
   ]
  },
  {
   "cell_type": "markdown",
   "id": "7e05034b-aafc-48f2-b33b-5018cea020e6",
   "metadata": {},
   "source": [
    "## Page 6"
   ]
  },
  {
   "cell_type": "code",
   "execution_count": 16,
   "id": "a473da44-8f7d-409b-862c-37adc48ca0c8",
   "metadata": {},
   "outputs": [],
   "source": [
    "L5P6Q1 = MultipleChoice('1. Which of the following correctly represents the differences between heat maps and tree maps?',['A: Tree maps do not use a nested perspective and heat maps do','B: Tree maps use a nested perspective and cell size as a measurement, and heat maps don\\'t','C: Tree maps do not use cell size as a measurement and heat maps do', 'D: Tree maps use a nested perspective and cell size as a measurement, and heat maps only use nesting'],'B: Tree maps use a nested perspective and cell size as a measurement, and heat maps don\\'t')\n"
   ]
  },
  {
   "cell_type": "code",
   "execution_count": 19,
   "id": "b201bfd2-57d6-4245-b5de-957c1a3baf7b",
   "metadata": {},
   "outputs": [
    {
     "data": {
      "application/vnd.jupyter.widget-view+json": {
       "model_id": "2615ac8189904931b8c407e44c19653f",
       "version_major": 2,
       "version_minor": 0
      },
      "text/plain": [
       "VBox(children=(Output(outputs=({'name': 'stdout', 'text': '1. Which of the following correctly represents the …"
      ]
     },
     "metadata": {},
     "output_type": "display_data"
    }
   ],
   "source": [
    "if __name__ == \"__main__\":\n",
    "    display(L5P6Q1)"
   ]
  },
  {
   "cell_type": "markdown",
   "id": "04417479-7a93-47bd-afd8-14d4fc7cc256",
   "metadata": {},
   "source": [
    "## Page 7"
   ]
  },
  {
   "cell_type": "code",
   "execution_count": 24,
   "id": "5c671481-e303-4bf2-b29d-e309c41384af",
   "metadata": {},
   "outputs": [],
   "source": [
    "L5P7Q1 = MultipleChoice('1. Which argument in the function \\033[1mtreemap()\\033[0m specifies the variable that will be used for the size of the boxes?',['A: data=','B: type=','C: index=', 'D: vSize='],'D: vSize=')\n",
    "L5P7Q2 = MC('2. True or False? You do not need any additional packages installed to make tree maps in R.',['A: True','B: False'],'B: False', cor=\"You need both treemap and scales installed and laoded to make tree maps in R.\", incor=\"\")\n"
   ]
  },
  {
   "cell_type": "code",
   "execution_count": 25,
   "id": "a0c73403-b883-4460-85e0-6c46e5ce344f",
   "metadata": {},
   "outputs": [
    {
     "data": {
      "application/vnd.jupyter.widget-view+json": {
       "model_id": "af427e23a9d74b4584b27f6c8e93ff48",
       "version_major": 2,
       "version_minor": 0
      },
      "text/plain": [
       "VBox(children=(Output(outputs=({'name': 'stdout', 'text': '1. Which argument in the function \\x1b[1mtreemap()\\…"
      ]
     },
     "metadata": {},
     "output_type": "display_data"
    },
    {
     "data": {
      "application/vnd.jupyter.widget-view+json": {
       "model_id": "6e8b6f39c9df4cd7adb392586c5a73c3",
       "version_major": 2,
       "version_minor": 0
      },
      "text/plain": [
       "VBox(children=(Output(outputs=({'name': 'stdout', 'text': '2. True or False? You do not need any additional pa…"
      ]
     },
     "metadata": {},
     "output_type": "display_data"
    }
   ],
   "source": [
    "if __name__ == \"__main__\":\n",
    "    display(L5P7Q1, L5P7Q2)"
   ]
  },
  {
   "cell_type": "markdown",
   "id": "255117ea-f83b-4b54-b657-bdfb99d8587e",
   "metadata": {},
   "source": [
    "## Page 8"
   ]
  },
  {
   "cell_type": "code",
   "execution_count": 26,
   "id": "0e13e5fd-8d55-45b3-90e0-00a8e986d6ce",
   "metadata": {},
   "outputs": [],
   "source": [
    "L5P8Q1 = MultipleChoice('1. What data is required for a mosaic plot?',['A: One categorical variable','B: Two or more categorical variables','C: One quantitative variable', 'D: Two or more quantitative variables'],'B: Two or more categorical variables')\n"
   ]
  },
  {
   "cell_type": "code",
   "execution_count": 27,
   "id": "58ca805c-48f3-453f-a190-166558207447",
   "metadata": {},
   "outputs": [
    {
     "data": {
      "application/vnd.jupyter.widget-view+json": {
       "model_id": "72cf775e89d04faf9cf047329c91d4de",
       "version_major": 2,
       "version_minor": 0
      },
      "text/plain": [
       "VBox(children=(Output(outputs=({'name': 'stdout', 'text': '1. What data is required for a mosaic plot?\\n', 'ou…"
      ]
     },
     "metadata": {},
     "output_type": "display_data"
    }
   ],
   "source": [
    "if __name__ == \"__main__\":\n",
    "    display(L5P8Q1)"
   ]
  },
  {
   "cell_type": "markdown",
   "id": "34f0d9f1-ee17-490a-877e-828ad17822be",
   "metadata": {},
   "source": [
    "## Page 9"
   ]
  },
  {
   "cell_type": "markdown",
   "id": "5156cf7d-06ae-40e4-aba6-9aa7e69f00c9",
   "metadata": {},
   "source": [
    "### Summary\n",
    "- Heat maps use color and location to help the user quickly identify 'hot spots' and 'cold spots.\n",
    "- Heat maps are often created on actual geographical maps\n",
    "- Tree maps are used to organize huge piles of data for easy visual categorization.\n",
    "- Mosaic plots are great visual tools to plot two categorical variables on a single graph.\n"
   ]
  },
  {
   "cell_type": "code",
   "execution_count": 29,
   "id": "bacc9653-9586-4171-8f5b-8504666ec9de",
   "metadata": {},
   "outputs": [],
   "source": [
    "L5P9Q1 = MultipleChoice('1. What format does your data need to be in for the \\033[1mmosaic()\\033[0m function?',['A: Table','B: Matrix','C: Vector', 'D: Data frame'],'A: Table')\n"
   ]
  },
  {
   "cell_type": "code",
   "execution_count": 30,
   "id": "73998c3d-115f-4e75-a12a-1f353191c553",
   "metadata": {},
   "outputs": [
    {
     "data": {
      "application/vnd.jupyter.widget-view+json": {
       "model_id": "516b07c9a02e44ab9c59cbc615acf3ae",
       "version_major": 2,
       "version_minor": 0
      },
      "text/plain": [
       "VBox(children=(Output(outputs=({'name': 'stdout', 'text': '1. What format does your data need to be in for the…"
      ]
     },
     "metadata": {},
     "output_type": "display_data"
    }
   ],
   "source": [
    "if __name__ == \"__main__\":\n",
    "    display(L5P9Q1)"
   ]
  },
  {
   "cell_type": "markdown",
   "id": "9716a6f6-0c35-4bec-b80b-a57eb784c48a",
   "metadata": {},
   "source": [
    "## Page 11 \n",
    "## Lesson 5 Exam"
   ]
  },
  {
   "cell_type": "code",
   "execution_count": 47,
   "id": "dba624f4-7853-4149-b39e-1ad6a5de51af",
   "metadata": {},
   "outputs": [],
   "source": [
    "L5P11Q1 = MC('1. What type of x variable is appropriate for a line graph?',['A: Voltage','B: Time','C: Money', 'D: Height'],'B: Time', cor=\"A line graph must have either a time or a space (distance) component on the x-axis.\", incor=\"\")\n",
    "L5P11Q2 = MultipleChoice('2. What is the difference between a histogram and a bar chart?',['A: A histogram looks at continuous data while a bar chart does not','B: A bar chart should be binned and a histogram should not','C: A histogram looks at frequencies while a bar chart does not', 'D: A bar chart requires color while a histogram does not'],'A: A histogram looks at continuous data while a bar chart does not')\n",
    "L5P11Q3 = MultipleChoice('3. A company wants to determine and fix the few largest quality issues they have in manufacturing. Which of the following chart would BEST help them visualize the data?',['A: Histogram','B: Bar Chart','C: Trend Analysis', 'D: Pareto Chart'],'D: Pareto Chart')\n",
    "L5P11Q4 = MultipleChoice('4. To show a relationship between two continuous variables, what would the MOST appropriate visual?',['A: Pareto chart','B:Side-by-side box plot','C: Scatter plot', 'D: Mosaic plot'],'C: Scatter plot')\n",
    "L5P11Q5 = MultipleChoice('5. If you add a categorical variable to a line graph, what is the resultant visual?',['A: Side-by-side Histogram','B: Stacked Bar Chart','C: Area Chart', 'D: Tree Map'],'C: Area Chart')\n",
    "L5P11Q6 = MultipleChoice('6. What type of data do you need to create a heat map?',['A: Two variables, one categorical and one quantitative','B: As many variables as you want, as long as they are all quantitative','C: Three variables, and at least one of them needs to be quantitative', 'D: Two variables, both of them categorical'],'C: Three variables, and at least one of them needs to be quantitative')\n",
    "L5P11Q7 = MultipleChoice('7. What type of data do you need to create a tree map?',['A: At least one quantitative variable, and two or more categorical variables, where nesting occurs','B: Three or more categorical variables','C: Four or more variables, and there needs to be at least two quantitative and two categorical', 'D: Two variables, either both categorical or both quantitative, but not one of each'],'A: At least one quantitative variable, and two or more categorical variables, where nesting occurs')\n",
    "\n",
    "\n",
    "L5P11Q8 = MultipleChoice('8. What type of data do you need to create a mosaic plot?',['A: One categorical variable','B: One categorical and one quantitative variable','C: Three or more quantitative variables', 'D: Two or more categorical variables'],'D: Two or more categorical variables')\n"
   ]
  },
  {
   "cell_type": "code",
   "execution_count": 48,
   "id": "7640553f-2e8d-4d8c-9cbf-24d28a35af22",
   "metadata": {},
   "outputs": [
    {
     "data": {
      "application/vnd.jupyter.widget-view+json": {
       "model_id": "63cd98713134447fac8222e57d4ed5ee",
       "version_major": 2,
       "version_minor": 0
      },
      "text/plain": [
       "VBox(children=(Output(outputs=({'name': 'stdout', 'text': '1. What type of x variable is appropriate for a lin…"
      ]
     },
     "metadata": {},
     "output_type": "display_data"
    },
    {
     "data": {
      "application/vnd.jupyter.widget-view+json": {
       "model_id": "102f1251959a480b81c416bb40e5db55",
       "version_major": 2,
       "version_minor": 0
      },
      "text/plain": [
       "VBox(children=(Output(outputs=({'name': 'stdout', 'text': '2. What is the difference between a histogram and a…"
      ]
     },
     "metadata": {},
     "output_type": "display_data"
    },
    {
     "data": {
      "application/vnd.jupyter.widget-view+json": {
       "model_id": "396bf5280a964ff39f805b013fd8045f",
       "version_major": 2,
       "version_minor": 0
      },
      "text/plain": [
       "VBox(children=(Output(outputs=({'name': 'stdout', 'text': '3. A company wants to determine and fix the few lar…"
      ]
     },
     "metadata": {},
     "output_type": "display_data"
    },
    {
     "data": {
      "application/vnd.jupyter.widget-view+json": {
       "model_id": "79d321fadb47418597f972c1841ff281",
       "version_major": 2,
       "version_minor": 0
      },
      "text/plain": [
       "VBox(children=(Output(outputs=({'name': 'stdout', 'text': '4. To show a relationship between two continuous va…"
      ]
     },
     "metadata": {},
     "output_type": "display_data"
    },
    {
     "data": {
      "application/vnd.jupyter.widget-view+json": {
       "model_id": "0977bec0f7044661adc87877d2daf8fd",
       "version_major": 2,
       "version_minor": 0
      },
      "text/plain": [
       "VBox(children=(Output(outputs=({'name': 'stdout', 'text': '5. If you add a categorical variable to a line grap…"
      ]
     },
     "metadata": {},
     "output_type": "display_data"
    },
    {
     "data": {
      "application/vnd.jupyter.widget-view+json": {
       "model_id": "4e3a4eab6d76484ba5f88bd970ebdaf4",
       "version_major": 2,
       "version_minor": 0
      },
      "text/plain": [
       "VBox(children=(Output(outputs=({'name': 'stdout', 'text': '6. What type of data do you need to create a heat m…"
      ]
     },
     "metadata": {},
     "output_type": "display_data"
    },
    {
     "data": {
      "application/vnd.jupyter.widget-view+json": {
       "model_id": "7cd364e7509444de94ee363439166ebb",
       "version_major": 2,
       "version_minor": 0
      },
      "text/plain": [
       "VBox(children=(Output(outputs=({'name': 'stdout', 'text': '7. What type of data do you need to create a tree m…"
      ]
     },
     "metadata": {},
     "output_type": "display_data"
    },
    {
     "data": {
      "application/vnd.jupyter.widget-view+json": {
       "model_id": "d9065cd97dd34719a8dbb8db1b26f411",
       "version_major": 2,
       "version_minor": 0
      },
      "text/plain": [
       "VBox(children=(Output(outputs=({'name': 'stdout', 'text': '8. What type of data do you need to create a mosaic…"
      ]
     },
     "metadata": {},
     "output_type": "display_data"
    }
   ],
   "source": [
    "if __name__ == \"__main__\":\n",
    "    display(L5P11Q1, L5P11Q2, L5P11Q3, L5P11Q4, L5P11Q5, L5P11Q6, L5P11Q7, L5P11Q8)"
   ]
  },
  {
   "cell_type": "code",
   "execution_count": null,
   "id": "ec25988d-e47f-4ec6-88c9-0b17ea6f57eb",
   "metadata": {},
   "outputs": [],
   "source": []
  }
 ],
 "metadata": {
  "kernelspec": {
   "display_name": "Python 3 (ipykernel)",
   "language": "python",
   "name": "python3"
  },
  "language_info": {
   "codemirror_mode": {
    "name": "ipython",
    "version": 3
   },
   "file_extension": ".py",
   "mimetype": "text/x-python",
   "name": "python",
   "nbconvert_exporter": "python",
   "pygments_lexer": "ipython3",
   "version": "3.9.7"
  }
 },
 "nbformat": 4,
 "nbformat_minor": 5
}
