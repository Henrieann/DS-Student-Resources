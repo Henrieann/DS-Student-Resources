{
 "cells": [
  {
   "cell_type": "code",
   "execution_count": null,
   "id": "12d732be-367a-4147-8787-88675f632eb5",
   "metadata": {},
   "outputs": [],
   "source": []
  },
  {
   "cell_type": "markdown",
   "id": "edc628e6-a3b7-4c67-950c-c913691e2316",
   "metadata": {},
   "source": [
    "# Mito monorepo\n",
    "\n",
    "https://github.com/mito-ds/monorepo\n",
    "\n",
    "```bash\n",
    "python -m pip install mitoinstaller\n",
    "python -m mitoinstaller install\n",
    "```"
   ]
  },
  {
   "cell_type": "code",
   "execution_count": 1,
   "id": "2f30a709-7a6a-45c1-b9ee-47e4f4d69209",
   "metadata": {},
   "outputs": [
    {
     "data": {
      "application/vnd.jupyter.widget-view+json": {
       "model_id": "ea65676b44654b13a392c4a51cb6dcf8",
       "version_major": 2,
       "version_minor": 0
      },
      "text/plain": [
       "MitoWidget(analysis_data_json='{\"analysisName\": \"UUID-11967e45-4d69-4e28-98a0-ad557964fec6\", \"code\": {\"imports…"
      ]
     },
     "metadata": {},
     "output_type": "display_data"
    }
   ],
   "source": [
    "import mitosheet\n",
    "mitosheet.sheet()"
   ]
  },
  {
   "cell_type": "code",
   "execution_count": null,
   "id": "7ed31462-2eb8-4419-a964-f8f59e46b5a4",
   "metadata": {},
   "outputs": [],
   "source": [
    "from mitosheet import *; register_analysis('UUID-6dc2611c-e021-4fd1-9a05-fcbc98ebd8ee')\n",
    "\n",
    "# Imported /Users/jsr/Documents/GitHub/DS-Student-Resources/DS101-Basic-Statistics/Data/honey.csv\n",
    "import pandas as pd\n",
    "honey = pd.read_csv(r'/Users/jsr/Documents/GitHub/DS-Student-Resources/DS101-Basic-Statistics/Data/honey.csv')\n",
    "\n",
    "# Imported /Users/jsr/Documents/GitHub/DS-Student-Resources/DS101-Basic-Statistics/Data/Ages.csv\n",
    "import pandas as pd\n",
    "Ages = pd.read_csv(r'/Users/jsr/Documents/GitHub/DS-Student-Resources/DS101-Basic-Statistics/Data/Ages.csv', sep='g')\n",
    "\n",
    "# Imported /Users/jsr/Documents/GitHub/DS-Student-Resources/DS101-Basic-Statistics/Data/honey.csv\n",
    "import pandas as pd\n",
    "honey_1 = pd.read_csv(r'/Users/jsr/Documents/GitHub/DS-Student-Resources/DS101-Basic-Statistics/Data/honey.csv')\n"
   ]
  },
  {
   "cell_type": "markdown",
   "id": "eb007684-790b-450e-8f39-60d6f87f633b",
   "metadata": {},
   "source": [
    "## Turning the button off and on\n",
    "\n",
    "```bash\n",
    "To turn the button off, run the command python -m mitosheet turnoffdataframebutton\n",
    "To turn the button on, run the command python -m mitosheet turnondataframebutton\n",
    "```\n",
    "\n",
    "In both cases, restart your Jupyter Lab server for the changes to take effect. "
   ]
  },
  {
   "cell_type": "code",
   "execution_count": null,
   "id": "2c18a632-7be8-4437-a763-6961510e9671",
   "metadata": {},
   "outputs": [],
   "source": [
    "import pandas as pd\n",
    "df = pd.read_csv('../Data/Data.csv')\n",
    "df.head()"
   ]
  },
  {
   "cell_type": "code",
   "execution_count": 3,
   "id": "a874eabc-946d-4e20-b19a-be88aaa21fc3",
   "metadata": {},
   "outputs": [
    {
     "data": {
      "application/vnd.jupyter.widget-view+json": {
       "model_id": "84ad7058b8c949238e4a7a353b05e46c",
       "version_major": 2,
       "version_minor": 0
      },
      "text/plain": [
       "MitoWidget(analysis_data_json='{\"analysisName\": \"UUID-ca6dc348-7020-4246-bacd-448a3fee6c18\", \"code\": {\"imports…"
      ]
     },
     "metadata": {},
     "output_type": "display_data"
    }
   ],
   "source": [
    "import mitosheet\n",
    "mitosheet.sheet(df, view_df=True)"
   ]
  },
  {
   "cell_type": "code",
   "execution_count": 4,
   "id": "eedfeff5-0781-41e5-8dba-a3105f6575d6",
   "metadata": {},
   "outputs": [],
   "source": [
    "from mitosheet import *; register_analysis('UUID-ca6dc348-7020-4246-bacd-448a3fee6c18')\n",
    "\n",
    "# Renamed Col1 to Data1 in df\n",
    "df.rename(columns={'Col1': 'Data1'}, inplace=True)\n",
    "\n",
    "# Renamed Col2 to Data2 in df\n",
    "df.rename(columns={'Col2': 'Data2'}, inplace=True)\n",
    "\n",
    "# Added column new-column-dq5q to df\n",
    "df.insert(2, 'new-column-dq5q', 0)\n",
    "\n",
    "# Renamed new-column-dq5q to sum in df\n",
    "df.rename(columns={'new-column-dq5q': 'sum'}, inplace=True)\n",
    "\n",
    "# Set new-column-dq5q in df to =SUM(1,2,3)\n",
    "df['sum'] = SUM(1,2,3)\n"
   ]
  },
  {
   "cell_type": "code",
   "execution_count": 5,
   "id": "b7b83342-8bf3-4640-8749-a9961cc54696",
   "metadata": {},
   "outputs": [
    {
     "data": {
      "application/vnd.jupyter.widget-view+json": {
       "model_id": "a4cab38b37164cf996615df9470215d2",
       "version_major": 2,
       "version_minor": 0
      },
      "text/plain": [
       "MitoWidget(analysis_data_json='{\"analysisName\": \"UUID-b5a24a64-51ce-48f0-ba19-d6a52404a083\", \"code\": {\"imports…"
      ]
     },
     "metadata": {},
     "output_type": "display_data"
    }
   ],
   "source": [
    "import mitosheet\n",
    "mitosheet.sheet(df, view_df=True)"
   ]
  },
  {
   "cell_type": "code",
   "execution_count": null,
   "id": "ee4fa6a6-f808-41fa-90b9-0d32a9b0e4d4",
   "metadata": {},
   "outputs": [],
   "source": []
  },
  {
   "cell_type": "code",
   "execution_count": null,
   "id": "de517d1e-0f38-41a4-addc-b71d7a24812a",
   "metadata": {},
   "outputs": [],
   "source": [
    "import mitosheet\n",
    "mitosheet.sheet(df, view_df=True)"
   ]
  },
  {
   "cell_type": "code",
   "execution_count": null,
   "id": "ab6211b4-1cf8-4537-9ca4-55a7fec4b2d7",
   "metadata": {},
   "outputs": [],
   "source": [
    "from mitosheet import *; register_analysis('UUID-6cff32c7-da46-4993-b516-852f5bae9ab3')\n",
    "\n",
    "# Reordered Col1 in df\n",
    "df_columns = [col for col in df.columns if col != 'Col1']\n",
    "df_columns.insert(1, 'Col1')\n",
    "df = df[df_columns]\n",
    "\n",
    "# Reordered Col1 in df\n",
    "df_columns = [col for col in df.columns if col != 'Col1']\n",
    "df_columns.insert(0, 'Col1')\n",
    "df = df[df_columns]\n",
    "\n",
    "# Reordered Col3 in df\n",
    "df_columns = [col for col in df.columns if col != 'Col3']\n",
    "df_columns.insert(3, 'Col3')\n",
    "df = df[df_columns]\n",
    "\n",
    "# Reordered Col3 in df\n",
    "df_columns = [col for col in df.columns if col != 'Col3']\n",
    "df_columns.insert(2, 'Col3')\n",
    "df = df[df_columns]\n"
   ]
  },
  {
   "cell_type": "code",
   "execution_count": null,
   "id": "d71e610f-b1c3-44dd-8903-4d6069c763fb",
   "metadata": {},
   "outputs": [],
   "source": [
    "import mitosheet\n",
    "mitosheet.sheet(df, view_df=True)"
   ]
  },
  {
   "cell_type": "code",
   "execution_count": null,
   "id": "15e37c90-6b19-4420-a9e0-83d3ee5ab598",
   "metadata": {},
   "outputs": [],
   "source": [
    "from mitosheet import *; register_analysis('UUID-7b707436-17b9-449f-95d9-bb0e9aadc63b')\n",
    "\n",
    "# Pivoted df into df2\n",
    "df_pivot = pd.DataFrame(data={})\n"
   ]
  }
 ],
 "metadata": {
  "kernelspec": {
   "display_name": "Python 3 (ipykernel)",
   "language": "python",
   "name": "python3"
  },
  "language_info": {
   "codemirror_mode": {
    "name": "ipython",
    "version": 3
   },
   "file_extension": ".py",
   "mimetype": "text/x-python",
   "name": "python",
   "nbconvert_exporter": "python",
   "pygments_lexer": "ipython3",
   "version": "3.9.10"
  }
 },
 "nbformat": 4,
 "nbformat_minor": 5
}
