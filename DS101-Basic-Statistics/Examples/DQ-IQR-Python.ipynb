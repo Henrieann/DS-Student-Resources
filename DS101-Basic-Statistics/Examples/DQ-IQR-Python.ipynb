{
 "cells": [
  {
   "cell_type": "markdown",
   "id": "b69ce471-711c-4a85-847a-ee16178dba75",
   "metadata": {},
   "source": [
    "# Data Quality(DQ) Outlier Detection with Interquartile Range (IQR) in Python"
   ]
  },
  {
   "cell_type": "markdown",
   "id": "35188cab-c780-4eea-91e0-aa8fe0224f6e",
   "metadata": {},
   "source": [
    "Reference and for more information:\n",
    "Laurent Weichberger, Sr. Enterprise Customer Success Manager for Data Quality, Collibra: laurent (dot) weichberger (at) collibra (dot) com"
   ]
  },
  {
   "cell_type": "markdown",
   "id": "e27462d5-eda4-4430-8d8a-123a355e24b8",
   "metadata": {},
   "source": [
    "### First we need to import a library so that I don't have to code the median function by hand:"
   ]
  },
  {
   "cell_type": "code",
   "execution_count": 30,
   "id": "cd1c9c67-3d95-4d52-bcdb-ee782febb49c",
   "metadata": {},
   "outputs": [],
   "source": [
    "# Need this for median() function\n",
    "import statistics"
   ]
  },
  {
   "cell_type": "markdown",
   "id": "95f9481a-6d5a-4dab-b3c6-8fbb166dc05f",
   "metadata": {},
   "source": [
    "### Then we have two datasets available, one has an odd number of elements, and contains no outliers, and the other has an even number of elements and contains one outlier:"
   ]
  },
  {
   "cell_type": "code",
   "execution_count": 31,
   "id": "4ccec483-010f-4cbe-92d3-b9f72a7dac78",
   "metadata": {},
   "outputs": [],
   "source": [
    "# The quartiles are four equal parts: Q1 at0.25, Q2 at 0.5, and Q3 0.7\n",
    "# We need a Dataset first.\n",
    "# The _No_Outliers_ in the Dataset dataset is this:\n",
    "unordered_data1 = [5, 8, 15, 26, 10, 18, 3, 12, 6, 14, 11]\n",
    "\n",
    "# The _There_Are_Outliers_ in the Dataset dataset is this:\n",
    "# When you get the above to work, use this one next:\n",
    "\n",
    "unordered_data2 = [11, 31, 21, 19, 8, 54, 35, 26, 23, 13, 29, 17]"
   ]
  },
  {
   "cell_type": "markdown",
   "id": "6aea1481-4f98-44f2-943c-2df8fadced42",
   "metadata": {},
   "source": [
    "### After using one dataset, try the application again with the other dataset.\n",
    "Order this list from lowest to highest values:"
   ]
  },
  {
   "cell_type": "code",
   "execution_count": 32,
   "id": "ab23d6e7-58f4-4e50-b34c-1b5f8c7b0261",
   "metadata": {},
   "outputs": [],
   "source": [
    "ordered_data = sorted(unordered_data2)"
   ]
  },
  {
   "cell_type": "code",
   "execution_count": 33,
   "id": "31e7d98a-b354-4e04-8f29-17ecebc2ebaa",
   "metadata": {},
   "outputs": [
    {
     "data": {
      "text/plain": [
       "[8, 11, 13, 17, 19, 21, 23, 26, 29, 31, 35, 54]"
      ]
     },
     "execution_count": 33,
     "metadata": {},
     "output_type": "execute_result"
    }
   ],
   "source": [
    "ordered_data"
   ]
  },
  {
   "cell_type": "markdown",
   "id": "47c45a90-5dc2-44dc-9b64-ef2fb48f66a7",
   "metadata": {},
   "source": [
    "Next we need to identify the \"median\" of the entire dataset: Q2"
   ]
  },
  {
   "cell_type": "code",
   "execution_count": 34,
   "id": "1ba176d9-a5bb-4360-ad60-796180f64bbe",
   "metadata": {},
   "outputs": [],
   "source": [
    "Q2 = statistics.median(ordered_data)"
   ]
  },
  {
   "cell_type": "code",
   "execution_count": 35,
   "id": "befa7359-29bf-4b27-8fb2-b13d1edafa38",
   "metadata": {},
   "outputs": [
    {
     "data": {
      "text/plain": [
       "22.0"
      ]
     },
     "execution_count": 35,
     "metadata": {},
     "output_type": "execute_result"
    }
   ],
   "source": [
    "Q2"
   ]
  },
  {
   "cell_type": "markdown",
   "id": "ebf0965e-376b-47ff-84f2-6ae7334ef3e8",
   "metadata": {},
   "source": [
    "### Then we need the median of the lower half of the dataset (not including the Q2 value ).\n",
    "\n",
    "- In an odd number of elements in a list, the median is found, whereas in an even number of elements in a list, the median is computed. We will need to treat even and odd number of values differently for this to work.\n",
    "- Remember that List index starts at 0 (for half of the dataset, index should be 5 if the length is 12):"
   ]
  },
  {
   "cell_type": "code",
   "execution_count": 36,
   "id": "31a61b51-d52e-40e5-b14b-9ce883a5cd8e",
   "metadata": {},
   "outputs": [
    {
     "name": "stdout",
     "output_type": "stream",
     "text": [
      "Even number of elements found...\n",
      "\n",
      "even index first half ends at = 6\n"
     ]
    }
   ],
   "source": [
    "# ODD:\n",
    "if len(ordered_data) % 2 > 0:\n",
    "    print('Odd number of elements found...\\n')\n",
    "    index = ordered_data.index(Q2)\n",
    "    print('index of Q2 =', index)\n",
    "    #first half of dataset:\n",
    "    first = ordered_data[:index]\n",
    "    second = ordered_data[(index +1):]\n",
    "# EVEN:\n",
    "else:\n",
    "    print('Even number of elements found...\\n')\n",
    "    length_of_dataset = len(ordered_data)\n",
    "    index = int(length_of_dataset / 2)\n",
    "    print('even index first half ends at =', index)\n",
    "    first = ordered_data[:index]\n",
    "    second = ordered_data[(index):] "
   ]
  },
  {
   "cell_type": "markdown",
   "id": "34afcc53-4c9d-4211-a934-04a2ca836d3d",
   "metadata": {},
   "source": [
    "### We will need to find the value for Q1 (the first half of the dataset) and for Q3 the second half of the dataset:"
   ]
  },
  {
   "cell_type": "code",
   "execution_count": 37,
   "id": "134b02a0-d9f0-4f5e-9507-32f035965282",
   "metadata": {},
   "outputs": [
    {
     "name": "stdout",
     "output_type": "stream",
     "text": [
      "first half [8, 11, 13, 17, 19, 21]\n",
      "second half [23, 26, 29, 31, 35, 54]\n"
     ]
    }
   ],
   "source": [
    "# Show us what we are working with:\n",
    "print('first half', first) \n",
    "print('second half', second)\n",
    "\n",
    "Q1 = statistics.median(first)\n",
    "Q3 = statistics.median(second)"
   ]
  },
  {
   "cell_type": "markdown",
   "id": "04c52a05-15a0-4caa-9dab-87f5a1806796",
   "metadata": {},
   "source": [
    "### Once we know the values of Q1 and Q3 we can arrive at the Interquartile Range (IQR) which is the Q3 - Q1:"
   ]
  },
  {
   "cell_type": "code",
   "execution_count": 38,
   "id": "076707a7-b8df-493c-a1df-4a666d64195f",
   "metadata": {},
   "outputs": [
    {
     "name": "stdout",
     "output_type": "stream",
     "text": [
      "IQR value =  15.0\n"
     ]
    }
   ],
   "source": [
    "IQR = Q3 - Q1\n",
    "print('IQR value = ', IQR)"
   ]
  },
  {
   "cell_type": "markdown",
   "id": "2b0b205f-8930-4bbf-8693-1b287aee971e",
   "metadata": {},
   "source": [
    "### Next we search for an Outlier in the dataset using an IQR based formula. We create a range of values, within which a number is NOT an outlier, outside if which it will be called an Outlier. The formula is: [Q1 - (1.5 x IQR), Q3 + (1.5 x IQR)]:"
   ]
  },
  {
   "cell_type": "code",
   "execution_count": 39,
   "id": "bd3252bd-f8eb-44a0-8eb9-4f8189410745",
   "metadata": {},
   "outputs": [
    {
     "name": "stdout",
     "output_type": "stream",
     "text": [
      "Within this range of values are NOT outliers [low, high]: [-7.5, 52.5]\n"
     ]
    }
   ],
   "source": [
    "not_outliers = [(Q1 - 1.5 * IQR),(Q3 + 1.5 * IQR)]\n",
    "\n",
    "# Show the range:\n",
    "print('Within this range of values are NOT outliers [low, high]:', not_outliers)"
   ]
  },
  {
   "cell_type": "markdown",
   "id": "5fa92664-73b7-4670-a20b-97ac97b7e8ab",
   "metadata": {},
   "source": [
    "Check for outliers in the given dataset and report what we found."
   ]
  },
  {
   "cell_type": "code",
   "execution_count": 42,
   "id": "96414000-691a-47f6-b0da-83f6d5d3a77d",
   "metadata": {},
   "outputs": [
    {
     "name": "stdout",
     "output_type": "stream",
     "text": [
      "I just found a high Outlier!: 54\n"
     ]
    }
   ],
   "source": [
    "foundOutlier = False\n",
    "\n",
    "for value in ordered_data:\n",
    "    #low_check:\n",
    "    if value < not_outliers[0]:\n",
    "        print('I just found a low Outlier!:', value)\n",
    "        foundOutlier = True\n",
    "    #high_check:\n",
    "    elif value > not_outliers[1]:\n",
    "        print('I just found a high Outlier!:', value)\n",
    "        foundOutlier = True"
   ]
  },
  {
   "cell_type": "markdown",
   "id": "ef822d53-736b-4e76-8050-0a54b9d510c9",
   "metadata": {},
   "source": [
    "### Now we can just confirm back to the user what we discovered:"
   ]
  },
  {
   "cell_type": "code",
   "execution_count": 43,
   "id": "4b52056c-f604-4289-8489-020e3f5ff1dc",
   "metadata": {},
   "outputs": [
    {
     "name": "stdout",
     "output_type": "stream",
     "text": [
      "I did find at least one Outlier today, Woo hoo!!\n"
     ]
    }
   ],
   "source": [
    "if (foundOutlier):\n",
    "    print('I did find at least one Outlier today, Woo hoo!!')\n",
    "else:\n",
    "    print('I do not see any outliers in this Dataset...')\n",
    "\n",
    "# We are done"
   ]
  },
  {
   "cell_type": "code",
   "execution_count": null,
   "id": "ecb9a18a-1bb7-4ce1-833a-c2d598ace9f8",
   "metadata": {},
   "outputs": [],
   "source": []
  }
 ],
 "metadata": {
  "kernelspec": {
   "display_name": "Python 3 (ipykernel)",
   "language": "python",
   "name": "python3"
  },
  "language_info": {
   "codemirror_mode": {
    "name": "ipython",
    "version": 3
   },
   "file_extension": ".py",
   "mimetype": "text/x-python",
   "name": "python",
   "nbconvert_exporter": "python",
   "pygments_lexer": "ipython3",
   "version": "3.9.12"
  }
 },
 "nbformat": 4,
 "nbformat_minor": 5
}
