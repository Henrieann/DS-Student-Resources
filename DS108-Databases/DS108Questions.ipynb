{
 "cells": [
  {
   "cell_type": "markdown",
   "id": "701c6664-c3af-4538-bac7-f1a5cc1826cd",
   "metadata": {},
   "source": [
    "# DS108 Questions\n",
    "\n",
    "## Lesson 1\n",
    "\n",
    "## Page 2"
   ]
  },
  {
   "cell_type": "code",
   "execution_count": null,
   "id": "9fdc1222-3d73-42e1-b6bf-b95d73e3d8ff",
   "metadata": {},
   "outputs": [],
   "source": [
    "from DS_Students import *"
   ]
  },
  {
   "cell_type": "code",
   "execution_count": null,
   "id": "cf433206-b1c6-41d7-86db-486d7cb4756e",
   "metadata": {},
   "outputs": [],
   "source": [
    "L1P2Q1 = MultipleChoice('1. Question?',['A','B','C', 'D'],'D')\n",
    "L1P2Q2 = MultipleChoice('2. Question?',['A','B','C', 'D'],'D')\n",
    "L1P2Q3 = MultipleChoice('3. Question?',['A','B','C', 'D'],'D')\n",
    "L1P2Q4 = MultipleChoice('4. Question?',['A','B','C', 'D'],'D')\n",
    "L1P2Q5 = MultipleChoice('5. Question?',['A','B','C', 'D'],'D')"
   ]
  },
  {
   "cell_type": "code",
   "execution_count": null,
   "id": "6f20d99a-0d5d-482e-82a1-2adf01327726",
   "metadata": {},
   "outputs": [],
   "source": [
    "if __name__ == \"__main__\":\n",
    "    display(L1P2Q1, L1P2Q2, L1P2Q3, L1P2Q4, L1P2Q5)"
   ]
  },
  {
   "cell_type": "markdown",
   "id": "59237b93-23a1-4511-9c47-069ff58089ca",
   "metadata": {},
   "source": [
    "## Page 3"
   ]
  },
  {
   "cell_type": "code",
   "execution_count": null,
   "id": "9e09c0eb-06d1-440a-9c2a-4ced3fa16e4e",
   "metadata": {},
   "outputs": [],
   "source": [
    "L1P3Q1 = MultipleChoice('1. Question?',['A','B','C', 'D'],'D')\n",
    "L1P3Q2 = MultipleChoice('2. Question?',['A','B','C', 'D'],'D')\n",
    "L1P3Q3 = MultipleChoice('3. Question?',['A','B','C', 'D'],'D')\n",
    "L1P3Q4 = MultipleChoice('4. Question?',['A','B','C', 'D'],'D')\n",
    "L1P3Q5 = MultipleChoice('5. Question?',['A','B','C', 'D'],'D')"
   ]
  },
  {
   "cell_type": "code",
   "execution_count": null,
   "id": "395b4e32-213a-432c-8570-dba7e76bc602",
   "metadata": {},
   "outputs": [],
   "source": [
    "if __name__ == \"__main__\":\n",
    "    display(L1P3Q1, L1P3Q2, L1P3Q3, L1P3Q4, L1P3Q5)"
   ]
  },
  {
   "cell_type": "markdown",
   "id": "214526dd-72ee-40d8-a2e5-41e165dcd951",
   "metadata": {},
   "source": [
    "## Page 4"
   ]
  },
  {
   "cell_type": "code",
   "execution_count": null,
   "id": "c8eb6a46-ef59-46c0-8adb-773a004ded82",
   "metadata": {},
   "outputs": [],
   "source": [
    "L1P4Q1 = MultipleChoice('1. Question?',['A','B','C', 'D'],'D')\n",
    "L1P4Q2 = MultipleChoice('2. Question?',['A','B','C', 'D'],'D')\n",
    "L1P4Q3 = MultipleChoice('3. Question?',['A','B','C', 'D'],'D')\n",
    "L1P4Q4 = MultipleChoice('4. Question?',['A','B','C', 'D'],'D')\n",
    "L1P4Q5 = MultipleChoice('5. Question?',['A','B','C', 'D'],'D')"
   ]
  },
  {
   "cell_type": "code",
   "execution_count": null,
   "id": "3adf2b8c-6d74-449d-abd7-f2ecd2cef18e",
   "metadata": {},
   "outputs": [],
   "source": [
    "if __name__ == \"__main__\":\n",
    "    display(L1P4Q1, L1P4Q2, L1P4Q3, L1P4Q4, L1P4Q5)"
   ]
  },
  {
   "cell_type": "markdown",
   "id": "fbd02314-2ef4-43be-aa7f-82453a99c3aa",
   "metadata": {},
   "source": [
    "## Lesson 2"
   ]
  },
  {
   "cell_type": "code",
   "execution_count": null,
   "id": "d909d1fb-8f00-4e28-b8ed-31c3be525a4c",
   "metadata": {},
   "outputs": [],
   "source": []
  }
 ],
 "metadata": {
  "kernelspec": {
   "display_name": "Python 3 (ipykernel)",
   "language": "python",
   "name": "python3"
  },
  "language_info": {
   "codemirror_mode": {
    "name": "ipython",
    "version": 3
   },
   "file_extension": ".py",
   "mimetype": "text/x-python",
   "name": "python",
   "nbconvert_exporter": "python",
   "pygments_lexer": "ipython3",
   "version": "3.9.7"
  }
 },
 "nbformat": 4,
 "nbformat_minor": 5
}
