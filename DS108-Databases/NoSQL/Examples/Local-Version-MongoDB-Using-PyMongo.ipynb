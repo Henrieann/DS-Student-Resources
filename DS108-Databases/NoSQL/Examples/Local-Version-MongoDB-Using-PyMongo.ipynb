{
 "cells": [
  {
   "cell_type": "markdown",
   "id": "fe504127-54be-4ddc-b9af-cbb3dc109422",
   "metadata": {},
   "source": [
    "## Python MongoDB\n",
    "\n",
    "##### By Matthew Gerardino\n",
    "\n",
    "Before you begin, navigate to your command line type **pip install pymongo**\n",
    "\n",
    "\n",
    "Python can be used in database applications.\n",
    "\n",
    "One of the most popular NoSQL database is MongoDB.\n",
    "\n",
    "---\n",
    "\n",
    "## MongoDB\n",
    "MongoDB stores data in JSON-like documents, which makes the database very flexible and scalable.\n",
    "\n",
    "To be able to experiment with the code examples in this tutorial, you will need access to a MongoDB database.\n",
    "\n",
    "You can download a free MongoDB database at https://www.mongodb.com.\n",
    "\n",
    "Or get started right away with a MongoDB cloud service at https://www.mongodb.com/cloud/atlas.\n",
    "\n",
    "---\n",
    "\n",
    "## PyMongo\n",
    "Python needs a MongoDB driver to access the MongoDB database.\n",
    "\n",
    "In this tutorial we will use the MongoDB driver \"PyMongo\"."
   ]
  },
  {
   "cell_type": "code",
   "execution_count": 1,
   "id": "8e017031-35b7-4f7c-89fe-19a2c2e13551",
   "metadata": {},
   "outputs": [],
   "source": [
    "import pandas as pd\n",
    "import pymongo\n",
    "from pymongo import MongoClient"
   ]
  },
  {
   "cell_type": "markdown",
   "id": "7b563da8-de1d-4c69-afce-9fef98a1b89b",
   "metadata": {},
   "source": [
    "## Python MongoDB Create Database\n",
    "Creating a Database\n",
    "To create a database in MongoDB, start by creating a MongoClient object, then specify a connection URL with the correct ip address and the name of the database you want to create.\n",
    "\n",
    "MongoDB will create the database if it does not exist, and make a connection to it.\n",
    "\n",
    "#### Example\n",
    "Create a database called \"DS_Students\":"
   ]
  },
  {
   "cell_type": "markdown",
   "id": "de2ec641-6bee-4d42-869d-1075aafcb7d1",
   "metadata": {},
   "source": [
    "## Getting a Database\n",
    "A single instance of MongoDB can support multiple independent databases. When working with PyMongo you access databases using attribute style access on MongoClient instances:\n",
    "\n",
    "If your database name is such that using attribute style access won’t work (like test-database), you can use dictionary style access instead:"
   ]
  },
  {
   "cell_type": "code",
   "execution_count": 2,
   "id": "b00f07bd-c140-49c9-acf7-9feafca8b2e5",
   "metadata": {},
   "outputs": [],
   "source": [
    "client = MongoClient('localhost', 27017)"
   ]
  },
  {
   "cell_type": "markdown",
   "id": "98cf6fe7-9fd3-4d04-b6e1-1ab2a0e24351",
   "metadata": {},
   "source": [
    "## Getting a Collection\n",
    "\n",
    "\n",
    "A collection is a group of documents stored in MongoDB, and can be thought of as roughly the equivalent of a table in a relational database. We will access it using a dictionary"
   ]
  },
  {
   "cell_type": "code",
   "execution_count": 3,
   "id": "3b792234-56fa-45fa-a6bb-1a1d9f6d3b28",
   "metadata": {},
   "outputs": [],
   "source": [
    "db = client[\"DS_Students\"]"
   ]
  },
  {
   "cell_type": "markdown",
   "id": "7c31e04c-a619-46f6-b536-d2b9eb4a1244",
   "metadata": {},
   "source": [
    "An important note about collections (and databases) in MongoDB is that they are created lazily - none of the above commands have actually performed any operations on the MongoDB server. Collections and databases are created when the first document is inserted into them."
   ]
  },
  {
   "cell_type": "markdown",
   "id": "be918ea2-ef91-4be2-808c-a4af87195f05",
   "metadata": {},
   "source": [
    "## Reading-In our randomly generated sample data as a CSV"
   ]
  },
  {
   "cell_type": "code",
   "execution_count": 4,
   "id": "1aefa58a-333a-4d52-b132-8151ca995203",
   "metadata": {},
   "outputs": [],
   "source": [
    "df=pd.read_csv(\"../Data/DS-Students.csv\")"
   ]
  },
  {
   "cell_type": "markdown",
   "id": "20389692-e7a7-474a-b1c9-53525a2aea15",
   "metadata": {},
   "source": [
    "## Convert Data Frame to Records"
   ]
  },
  {
   "cell_type": "code",
   "execution_count": 5,
   "id": "a0b54d31-f173-4436-9bf9-722185bcaacf",
   "metadata": {},
   "outputs": [],
   "source": [
    "data=df.to_dict(orient=\"records\")"
   ]
  },
  {
   "cell_type": "markdown",
   "id": "f33eccc8-7030-4cc8-a8cc-52bd011cd8ca",
   "metadata": {},
   "source": [
    "## Insert Records Into Your Local MongoDB Compass"
   ]
  },
  {
   "cell_type": "code",
   "execution_count": 6,
   "id": "1c26e4f9-01c2-4fac-9394-9ab23f8f068d",
   "metadata": {},
   "outputs": [
    {
     "data": {
      "text/plain": [
       "<pymongo.results.InsertManyResult at 0x1a907e4e6c0>"
      ]
     },
     "execution_count": 6,
     "metadata": {},
     "output_type": "execute_result"
    }
   ],
   "source": [
    "db.Students.insert_many(data)"
   ]
  },
  {
   "cell_type": "markdown",
   "id": "415850f2-8531-4e46-9869-839feba86188",
   "metadata": {},
   "source": [
    "#### **Optional:** Delete your DS_Students Collection"
   ]
  },
  {
   "cell_type": "code",
   "execution_count": 7,
   "id": "f20e6f10-862c-40bc-a62f-22fccaba1883",
   "metadata": {},
   "outputs": [],
   "source": [
    "db.Students.drop()"
   ]
  },
  {
   "cell_type": "code",
   "execution_count": null,
   "id": "20f3e569-1e67-4598-94ec-2141ff2ace40",
   "metadata": {},
   "outputs": [],
   "source": []
  }
 ],
 "metadata": {
  "kernelspec": {
   "display_name": "Python 3 (ipykernel)",
   "language": "python",
   "name": "python3"
  },
  "language_info": {
   "codemirror_mode": {
    "name": "ipython",
    "version": 3
   },
   "file_extension": ".py",
   "mimetype": "text/x-python",
   "name": "python",
   "nbconvert_exporter": "python",
   "pygments_lexer": "ipython3",
   "version": "3.9.7"
  }
 },
 "nbformat": 4,
 "nbformat_minor": 5
}
