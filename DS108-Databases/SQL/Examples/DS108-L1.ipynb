{
 "cells": [
  {
   "cell_type": "markdown",
   "metadata": {},
   "source": [
    "# SQL Lesson 1 Examples - Getting started with SQL\n",
    "\n",
    "## Overview\n",
    "\n",
    "### SQL Data Types\n",
    "### Relationships\n",
    "- One-to-One\n",
    "- One-to-Many\n",
    "- Many-to-Many\n",
    "### Queries\n",
    "- SELECT\n",
    "- LIMIT\n",
    "- WHERE\n",
    "- OR\n",
    "- IN\n",
    "- AND\n",
    "- NOT\n",
    "- UPPER\n",
    "- LOWER\n",
    "- LIKE\n",
    "- ORDER BY"
   ]
  },
  {
   "cell_type": "code",
   "execution_count": 3,
   "metadata": {},
   "outputs": [],
   "source": [
    "#  Setup for the SQL mentor-student examples\n",
    "#pip install ipython-sql\n",
    "%load_ext sql\n",
    "%sql sqlite:///../Data/mentor-student/mentor-student.db"
   ]
  },
  {
   "cell_type": "markdown",
   "metadata": {},
   "source": [
    "# SQL Data Types\n",
    "\n",
    "\n",
    "<p style=\"text-align: center;\">\n",
    "  <img width=\"600\" alt=\"Software comparison chart\" src=\"./Media/SQLDataTypes.png\">\n",
    "</p>"
   ]
  },
  {
   "cell_type": "markdown",
   "metadata": {},
   "source": [
    "# Relationship Examples\n",
    "\n",
    "\n",
    "<p style=\"text-align: center;\">\n",
    "  <img width=\"600\" alt=\"Software comparison chart\" src=\"./Media/relationships.png\">\n",
    "</p>\n",
    "\n",
    "If you say the word “many” only once, then this is one-to-many relation. If you would use the word “many” two times, the relation would be many-to-many. And if you wouldn’t use it at all, then it would be one-to-one.\n",
    "\n",
    "## Examples - Mentor and student relationships:"
   ]
  },
  {
   "cell_type": "markdown",
   "metadata": {},
   "source": [
    "### One-to-One\n",
    "- When one row in a table is linked to only one row in another table.\n",
    "> In a student database, each student has only one student ID, and that ID is only assigned to one person. We have not used the word “many”, so this can’t be any type of relation including the word “many”."
   ]
  },
  {
   "cell_type": "code",
   "execution_count": 4,
   "metadata": {},
   "outputs": [
    {
     "name": "stdout",
     "output_type": "stream",
     "text": [
      " * sqlite:///../Data/mentor-student/mentor-student.db\n",
      "Done.\n"
     ]
    },
    {
     "data": {
      "text/html": [
       "<table>\n",
       "    <tr>\n",
       "        <th>studentName</th>\n",
       "        <th>fullId</th>\n",
       "    </tr>\n",
       "    <tr>\n",
       "        <td>Jon</td>\n",
       "        <td>85643215SWD</td>\n",
       "    </tr>\n",
       "    <tr>\n",
       "        <td>Jane</td>\n",
       "        <td>89654398DSO</td>\n",
       "    </tr>\n",
       "    <tr>\n",
       "        <td>Andrew</td>\n",
       "        <td>21405478SWD</td>\n",
       "    </tr>\n",
       "    <tr>\n",
       "        <td>Stephen</td>\n",
       "        <td>65321098SWD</td>\n",
       "    </tr>\n",
       "    <tr>\n",
       "        <td>Sarah</td>\n",
       "        <td>30124578DSO</td>\n",
       "    </tr>\n",
       "    <tr>\n",
       "        <td>Kim</td>\n",
       "        <td>10254901CSO</td>\n",
       "    </tr>\n",
       "</table>"
      ],
      "text/plain": [
       "[('Jon', '85643215SWD'),\n",
       " ('Jane', '89654398DSO'),\n",
       " ('Andrew', '21405478SWD'),\n",
       " ('Stephen', '65321098SWD'),\n",
       " ('Sarah', '30124578DSO'),\n",
       " ('Kim', '10254901CSO')]"
      ]
     },
     "execution_count": 4,
     "metadata": {},
     "output_type": "execute_result"
    }
   ],
   "source": [
    "%%sql\n",
    "\n",
    "SELECT studentName, fullId FROM students\n",
    "JOIN studentIdentification USING(studentId);"
   ]
  },
  {
   "cell_type": "markdown",
   "metadata": {},
   "source": [
    "### One-to-Many\n",
    "- When one row in a table is linked to many rows in another table.\n",
    "> One city can have `many` different students located in it. And the other way around – One student can have only one city. If you said the word “many” only once, then this is one-to-many relation."
   ]
  },
  {
   "cell_type": "code",
   "execution_count": 5,
   "metadata": {},
   "outputs": [
    {
     "name": "stdout",
     "output_type": "stream",
     "text": [
      " * sqlite:///../Data/mentor-student/mentor-student.db\n",
      "Done.\n"
     ]
    },
    {
     "data": {
      "text/html": [
       "<table>\n",
       "    <tr>\n",
       "        <th>cityName</th>\n",
       "        <th>studentName</th>\n",
       "    </tr>\n",
       "    <tr>\n",
       "        <td>Las Vegas</td>\n",
       "        <td>Jane</td>\n",
       "    </tr>\n",
       "    <tr>\n",
       "        <td>Las Vegas</td>\n",
       "        <td>Kim</td>\n",
       "    </tr>\n",
       "    <tr>\n",
       "        <td>Miami</td>\n",
       "        <td>Andrew</td>\n",
       "    </tr>\n",
       "    <tr>\n",
       "        <td>Phoenix</td>\n",
       "        <td>Jon</td>\n",
       "    </tr>\n",
       "    <tr>\n",
       "        <td>Phoenix</td>\n",
       "        <td>Stephen</td>\n",
       "    </tr>\n",
       "    <tr>\n",
       "        <td>Phoenix</td>\n",
       "        <td>Sarah</td>\n",
       "    </tr>\n",
       "</table>"
      ],
      "text/plain": [
       "[('Las Vegas', 'Jane'),\n",
       " ('Las Vegas', 'Kim'),\n",
       " ('Miami', 'Andrew'),\n",
       " ('Phoenix', 'Jon'),\n",
       " ('Phoenix', 'Stephen'),\n",
       " ('Phoenix', 'Sarah')]"
      ]
     },
     "execution_count": 5,
     "metadata": {},
     "output_type": "execute_result"
    }
   ],
   "source": [
    "%%sql\n",
    "\n",
    "SELECT cityName, studentName FROM city\n",
    "JOIN students USING(cityId)\n",
    "ORDER BY cityName;"
   ]
  },
  {
   "cell_type": "markdown",
   "metadata": {},
   "source": [
    "### Many-to-Many\n",
    "- When any rows in a table are linked to many rows in another table.\n",
    "> One mentor, could call `many` students. Also, one student, could receive calls from `many` mentors. Notice that we’ve mentioned the word “many” two times. This is the signal we need to resolve this using many-to-many relation."
   ]
  },
  {
   "cell_type": "code",
   "execution_count": 6,
   "metadata": {},
   "outputs": [
    {
     "name": "stdout",
     "output_type": "stream",
     "text": [
      " * sqlite:///../Data/mentor-student/mentor-student.db\n",
      "Done.\n"
     ]
    },
    {
     "data": {
      "text/html": [
       "<table>\n",
       "    <tr>\n",
       "        <th>mentorName</th>\n",
       "        <th>studentName</th>\n",
       "        <th>dateTime</th>\n",
       "    </tr>\n",
       "    <tr>\n",
       "        <td>Callan</td>\n",
       "        <td>Jon</td>\n",
       "        <td>2021-10-06 13:04:05</td>\n",
       "    </tr>\n",
       "    <tr>\n",
       "        <td>Callan</td>\n",
       "        <td>Jane</td>\n",
       "        <td>2021-10-01 11:26:27</td>\n",
       "    </tr>\n",
       "    <tr>\n",
       "        <td>Callan</td>\n",
       "        <td>Andrew</td>\n",
       "        <td>2021-10-02 09:14:06</td>\n",
       "    </tr>\n",
       "    <tr>\n",
       "        <td>Britt</td>\n",
       "        <td>Stephen</td>\n",
       "        <td>2021-10-03 15:52:59</td>\n",
       "    </tr>\n",
       "    <tr>\n",
       "        <td>Britt</td>\n",
       "        <td>Jane</td>\n",
       "        <td>2021-10-04 13:19:11</td>\n",
       "    </tr>\n",
       "    <tr>\n",
       "        <td>Joe</td>\n",
       "        <td>Jane</td>\n",
       "        <td>2021-10-05 02:33:45</td>\n",
       "    </tr>\n",
       "</table>"
      ],
      "text/plain": [
       "[('Callan', 'Jon', '2021-10-06 13:04:05'),\n",
       " ('Callan', 'Jane', '2021-10-01 11:26:27'),\n",
       " ('Callan', 'Andrew', '2021-10-02 09:14:06'),\n",
       " ('Britt', 'Stephen', '2021-10-03 15:52:59'),\n",
       " ('Britt', 'Jane', '2021-10-04 13:19:11'),\n",
       " ('Joe', 'Jane', '2021-10-05 02:33:45')]"
      ]
     },
     "execution_count": 6,
     "metadata": {},
     "output_type": "execute_result"
    }
   ],
   "source": [
    "%%sql\n",
    "\n",
    "SELECT mentorName, studentName, dateTime FROM callLog\n",
    "JOIN mentors USING(mentorId)\n",
    "JOIN students USING(studentId);"
   ]
  },
  {
   "cell_type": "markdown",
   "metadata": {},
   "source": [
    "# Query Examples\n",
    "- SELECT\n",
    "- LIMIT\n",
    "- WHERE\n",
    "- OR\n",
    "- IN\n",
    "- AND\n",
    "- NOT\n",
    "- UPPER\n",
    "- LOWER\n",
    "- LIKE\n",
    "- ORDER BY"
   ]
  },
  {
   "cell_type": "markdown",
   "metadata": {},
   "source": [
    "### SELECT\n",
    "> SELECT all students"
   ]
  },
  {
   "cell_type": "code",
   "execution_count": 7,
   "metadata": {},
   "outputs": [
    {
     "name": "stdout",
     "output_type": "stream",
     "text": [
      " * sqlite:///../Data/mentor-student/mentor-student.db\n",
      "Done.\n"
     ]
    },
    {
     "data": {
      "text/html": [
       "<table>\n",
       "    <tr>\n",
       "        <th>studentId</th>\n",
       "        <th>studentName</th>\n",
       "        <th>cityId</th>\n",
       "    </tr>\n",
       "    <tr>\n",
       "        <td>1</td>\n",
       "        <td>Jon</td>\n",
       "        <td>1</td>\n",
       "    </tr>\n",
       "    <tr>\n",
       "        <td>2</td>\n",
       "        <td>Jane</td>\n",
       "        <td>2</td>\n",
       "    </tr>\n",
       "    <tr>\n",
       "        <td>3</td>\n",
       "        <td>Andrew</td>\n",
       "        <td>3</td>\n",
       "    </tr>\n",
       "    <tr>\n",
       "        <td>4</td>\n",
       "        <td>Stephen</td>\n",
       "        <td>1</td>\n",
       "    </tr>\n",
       "    <tr>\n",
       "        <td>5</td>\n",
       "        <td>Sarah</td>\n",
       "        <td>1</td>\n",
       "    </tr>\n",
       "    <tr>\n",
       "        <td>6</td>\n",
       "        <td>Kim</td>\n",
       "        <td>2</td>\n",
       "    </tr>\n",
       "</table>"
      ],
      "text/plain": [
       "[(1, 'Jon', 1),\n",
       " (2, 'Jane', 2),\n",
       " (3, 'Andrew', 3),\n",
       " (4, 'Stephen', 1),\n",
       " (5, 'Sarah', 1),\n",
       " (6, 'Kim', 2)]"
      ]
     },
     "execution_count": 7,
     "metadata": {},
     "output_type": "execute_result"
    }
   ],
   "source": [
    "%%sql\n",
    "\n",
    "SELECT * FROM students;"
   ]
  },
  {
   "cell_type": "markdown",
   "metadata": {},
   "source": [
    "### LIMIT\n",
    "> SELECT students with a LIMIT of 2 results"
   ]
  },
  {
   "cell_type": "code",
   "execution_count": 8,
   "metadata": {},
   "outputs": [
    {
     "name": "stdout",
     "output_type": "stream",
     "text": [
      " * sqlite:///../Data/mentor-student/mentor-student.db\n",
      "Done.\n"
     ]
    },
    {
     "data": {
      "text/html": [
       "<table>\n",
       "    <tr>\n",
       "        <th>studentId</th>\n",
       "        <th>studentName</th>\n",
       "        <th>cityId</th>\n",
       "    </tr>\n",
       "    <tr>\n",
       "        <td>1</td>\n",
       "        <td>Jon</td>\n",
       "        <td>1</td>\n",
       "    </tr>\n",
       "    <tr>\n",
       "        <td>2</td>\n",
       "        <td>Jane</td>\n",
       "        <td>2</td>\n",
       "    </tr>\n",
       "</table>"
      ],
      "text/plain": [
       "[(1, 'Jon', 1), (2, 'Jane', 2)]"
      ]
     },
     "execution_count": 8,
     "metadata": {},
     "output_type": "execute_result"
    }
   ],
   "source": [
    "%%sql\n",
    "\n",
    "SELECT * FROM students\n",
    "LIMIT 2;"
   ]
  },
  {
   "cell_type": "markdown",
   "metadata": {},
   "source": [
    "### WHERE\n",
    "> SELECT students WHERE studentId is greater than 4"
   ]
  },
  {
   "cell_type": "code",
   "execution_count": 9,
   "metadata": {},
   "outputs": [
    {
     "name": "stdout",
     "output_type": "stream",
     "text": [
      " * sqlite:///../Data/mentor-student/mentor-student.db\n",
      "Done.\n"
     ]
    },
    {
     "data": {
      "text/html": [
       "<table>\n",
       "    <tr>\n",
       "        <th>studentId</th>\n",
       "        <th>studentName</th>\n",
       "        <th>cityId</th>\n",
       "    </tr>\n",
       "    <tr>\n",
       "        <td>5</td>\n",
       "        <td>Sarah</td>\n",
       "        <td>1</td>\n",
       "    </tr>\n",
       "    <tr>\n",
       "        <td>6</td>\n",
       "        <td>Kim</td>\n",
       "        <td>2</td>\n",
       "    </tr>\n",
       "</table>"
      ],
      "text/plain": [
       "[(5, 'Sarah', 1), (6, 'Kim', 2)]"
      ]
     },
     "execution_count": 9,
     "metadata": {},
     "output_type": "execute_result"
    }
   ],
   "source": [
    "%%sql\n",
    "\n",
    "SELECT * FROM students\n",
    "WHERE studentId > 4;"
   ]
  },
  {
   "cell_type": "markdown",
   "metadata": {},
   "source": [
    "### OR\n",
    "> SELECT students WHERE studentId is 2 OR 3"
   ]
  },
  {
   "cell_type": "code",
   "execution_count": 10,
   "metadata": {},
   "outputs": [
    {
     "name": "stdout",
     "output_type": "stream",
     "text": [
      " * sqlite:///../Data/mentor-student/mentor-student.db\n",
      "Done.\n"
     ]
    },
    {
     "data": {
      "text/html": [
       "<table>\n",
       "    <tr>\n",
       "        <th>studentId</th>\n",
       "        <th>studentName</th>\n",
       "        <th>cityId</th>\n",
       "    </tr>\n",
       "    <tr>\n",
       "        <td>2</td>\n",
       "        <td>Jane</td>\n",
       "        <td>2</td>\n",
       "    </tr>\n",
       "    <tr>\n",
       "        <td>3</td>\n",
       "        <td>Andrew</td>\n",
       "        <td>3</td>\n",
       "    </tr>\n",
       "</table>"
      ],
      "text/plain": [
       "[(2, 'Jane', 2), (3, 'Andrew', 3)]"
      ]
     },
     "execution_count": 10,
     "metadata": {},
     "output_type": "execute_result"
    }
   ],
   "source": [
    "%%sql\n",
    "\n",
    "SELECT * FROM students\n",
    "WHERE studentId = 2 OR studentId = 3;"
   ]
  },
  {
   "cell_type": "markdown",
   "metadata": {},
   "source": [
    "### IN\n",
    "> SELECT students WHERE studentId is 2 OR 3 OR 6 (In is shorthand for having multiple OR conditions)"
   ]
  },
  {
   "cell_type": "code",
   "execution_count": 11,
   "metadata": {},
   "outputs": [
    {
     "name": "stdout",
     "output_type": "stream",
     "text": [
      " * sqlite:///../Data/mentor-student/mentor-student.db\n",
      "Done.\n"
     ]
    },
    {
     "data": {
      "text/html": [
       "<table>\n",
       "    <tr>\n",
       "        <th>studentId</th>\n",
       "        <th>studentName</th>\n",
       "        <th>cityId</th>\n",
       "    </tr>\n",
       "    <tr>\n",
       "        <td>2</td>\n",
       "        <td>Jane</td>\n",
       "        <td>2</td>\n",
       "    </tr>\n",
       "    <tr>\n",
       "        <td>3</td>\n",
       "        <td>Andrew</td>\n",
       "        <td>3</td>\n",
       "    </tr>\n",
       "    <tr>\n",
       "        <td>6</td>\n",
       "        <td>Kim</td>\n",
       "        <td>2</td>\n",
       "    </tr>\n",
       "</table>"
      ],
      "text/plain": [
       "[(2, 'Jane', 2), (3, 'Andrew', 3), (6, 'Kim', 2)]"
      ]
     },
     "execution_count": 11,
     "metadata": {},
     "output_type": "execute_result"
    }
   ],
   "source": [
    "%%sql\n",
    "\n",
    "SELECT * FROM students\n",
    "WHERE studentId IN (2, 3, 6);"
   ]
  },
  {
   "cell_type": "markdown",
   "metadata": {},
   "source": [
    "### AND\n",
    "> SELECT students WHERE studentId is 2 AND studentName is Jane"
   ]
  },
  {
   "cell_type": "code",
   "execution_count": 12,
   "metadata": {},
   "outputs": [
    {
     "name": "stdout",
     "output_type": "stream",
     "text": [
      " * sqlite:///../Data/mentor-student/mentor-student.db\n",
      "Done.\n"
     ]
    },
    {
     "data": {
      "text/html": [
       "<table>\n",
       "    <tr>\n",
       "        <th>studentId</th>\n",
       "        <th>studentName</th>\n",
       "        <th>cityId</th>\n",
       "    </tr>\n",
       "    <tr>\n",
       "        <td>2</td>\n",
       "        <td>Jane</td>\n",
       "        <td>2</td>\n",
       "    </tr>\n",
       "</table>"
      ],
      "text/plain": [
       "[(2, 'Jane', 2)]"
      ]
     },
     "execution_count": 12,
     "metadata": {},
     "output_type": "execute_result"
    }
   ],
   "source": [
    "%%sql\n",
    "\n",
    "SELECT * FROM students\n",
    "WHERE studentId = 2 AND studentName = \"Jane\";"
   ]
  },
  {
   "cell_type": "markdown",
   "metadata": {},
   "source": [
    "### NOT\n",
    "> SELECT students WHERE studentName is NOT Jane"
   ]
  },
  {
   "cell_type": "code",
   "execution_count": 13,
   "metadata": {},
   "outputs": [
    {
     "name": "stdout",
     "output_type": "stream",
     "text": [
      " * sqlite:///../Data/mentor-student/mentor-student.db\n",
      "Done.\n"
     ]
    },
    {
     "data": {
      "text/html": [
       "<table>\n",
       "    <tr>\n",
       "        <th>studentId</th>\n",
       "        <th>studentName</th>\n",
       "        <th>cityId</th>\n",
       "    </tr>\n",
       "    <tr>\n",
       "        <td>1</td>\n",
       "        <td>Jon</td>\n",
       "        <td>1</td>\n",
       "    </tr>\n",
       "    <tr>\n",
       "        <td>3</td>\n",
       "        <td>Andrew</td>\n",
       "        <td>3</td>\n",
       "    </tr>\n",
       "    <tr>\n",
       "        <td>4</td>\n",
       "        <td>Stephen</td>\n",
       "        <td>1</td>\n",
       "    </tr>\n",
       "    <tr>\n",
       "        <td>5</td>\n",
       "        <td>Sarah</td>\n",
       "        <td>1</td>\n",
       "    </tr>\n",
       "    <tr>\n",
       "        <td>6</td>\n",
       "        <td>Kim</td>\n",
       "        <td>2</td>\n",
       "    </tr>\n",
       "</table>"
      ],
      "text/plain": [
       "[(1, 'Jon', 1),\n",
       " (3, 'Andrew', 3),\n",
       " (4, 'Stephen', 1),\n",
       " (5, 'Sarah', 1),\n",
       " (6, 'Kim', 2)]"
      ]
     },
     "execution_count": 13,
     "metadata": {},
     "output_type": "execute_result"
    }
   ],
   "source": [
    "%%sql\n",
    "\n",
    "SELECT * FROM students\n",
    "WHERE studentName != \"Jane\";"
   ]
  },
  {
   "cell_type": "markdown",
   "metadata": {},
   "source": [
    "### UPPER\n",
    "> Change all mentor names to uppercase"
   ]
  },
  {
   "cell_type": "code",
   "execution_count": 14,
   "metadata": {},
   "outputs": [
    {
     "name": "stdout",
     "output_type": "stream",
     "text": [
      " * sqlite:///../Data/mentor-student/mentor-student.db\n",
      "Done.\n"
     ]
    },
    {
     "data": {
      "text/html": [
       "<table>\n",
       "    <tr>\n",
       "        <th>UPPER(mentorName)</th>\n",
       "    </tr>\n",
       "    <tr>\n",
       "        <td>CALLAN</td>\n",
       "    </tr>\n",
       "    <tr>\n",
       "        <td>BRITT</td>\n",
       "    </tr>\n",
       "    <tr>\n",
       "        <td>JOE</td>\n",
       "    </tr>\n",
       "    <tr>\n",
       "        <td>CASS</td>\n",
       "    </tr>\n",
       "    <tr>\n",
       "        <td>DANIEL</td>\n",
       "    </tr>\n",
       "    <tr>\n",
       "        <td>SHAUN</td>\n",
       "    </tr>\n",
       "</table>"
      ],
      "text/plain": [
       "[('CALLAN',), ('BRITT',), ('JOE',), ('CASS',), ('DANIEL',), ('SHAUN',)]"
      ]
     },
     "execution_count": 14,
     "metadata": {},
     "output_type": "execute_result"
    }
   ],
   "source": [
    "%%sql\n",
    "\n",
    "SELECT UPPER(mentorName) FROM mentors;"
   ]
  },
  {
   "cell_type": "markdown",
   "metadata": {},
   "source": [
    "### LOWER\n",
    "> Change all mentor names to lowercase"
   ]
  },
  {
   "cell_type": "code",
   "execution_count": 15,
   "metadata": {},
   "outputs": [
    {
     "name": "stdout",
     "output_type": "stream",
     "text": [
      " * sqlite:///../Data/mentor-student/mentor-student.db\n",
      "Done.\n"
     ]
    },
    {
     "data": {
      "text/html": [
       "<table>\n",
       "    <tr>\n",
       "        <th>LOWER(mentorName)</th>\n",
       "    </tr>\n",
       "    <tr>\n",
       "        <td>callan</td>\n",
       "    </tr>\n",
       "    <tr>\n",
       "        <td>britt</td>\n",
       "    </tr>\n",
       "    <tr>\n",
       "        <td>joe</td>\n",
       "    </tr>\n",
       "    <tr>\n",
       "        <td>cass</td>\n",
       "    </tr>\n",
       "    <tr>\n",
       "        <td>daniel</td>\n",
       "    </tr>\n",
       "    <tr>\n",
       "        <td>shaun</td>\n",
       "    </tr>\n",
       "</table>"
      ],
      "text/plain": [
       "[('callan',), ('britt',), ('joe',), ('cass',), ('daniel',), ('shaun',)]"
      ]
     },
     "execution_count": 15,
     "metadata": {},
     "output_type": "execute_result"
    }
   ],
   "source": [
    "%%sql\n",
    "\n",
    "SELECT LOWER(mentorName) FROM mentors;"
   ]
  },
  {
   "cell_type": "markdown",
   "metadata": {},
   "source": [
    "### LIKE\n",
    "> SELECT students WHERE studentName is starts with J"
   ]
  },
  {
   "cell_type": "code",
   "execution_count": 16,
   "metadata": {},
   "outputs": [
    {
     "name": "stdout",
     "output_type": "stream",
     "text": [
      " * sqlite:///../Data/mentor-student/mentor-student.db\n",
      "Done.\n"
     ]
    },
    {
     "data": {
      "text/html": [
       "<table>\n",
       "    <tr>\n",
       "        <th>studentId</th>\n",
       "        <th>studentName</th>\n",
       "        <th>cityId</th>\n",
       "    </tr>\n",
       "    <tr>\n",
       "        <td>1</td>\n",
       "        <td>Jon</td>\n",
       "        <td>1</td>\n",
       "    </tr>\n",
       "    <tr>\n",
       "        <td>2</td>\n",
       "        <td>Jane</td>\n",
       "        <td>2</td>\n",
       "    </tr>\n",
       "</table>"
      ],
      "text/plain": [
       "[(1, 'Jon', 1), (2, 'Jane', 2)]"
      ]
     },
     "execution_count": 16,
     "metadata": {},
     "output_type": "execute_result"
    }
   ],
   "source": [
    "%%sql\n",
    "\n",
    "SELECT * FROM students\n",
    "WHERE studentName LIKE \"J%\";"
   ]
  },
  {
   "cell_type": "markdown",
   "metadata": {},
   "source": [
    "### ORDER BY\n",
    "> Select all mentors and ORDER BY mentorName"
   ]
  },
  {
   "cell_type": "code",
   "execution_count": 17,
   "metadata": {},
   "outputs": [
    {
     "name": "stdout",
     "output_type": "stream",
     "text": [
      " * sqlite:///../Data/mentor-student/mentor-student.db\n",
      "Done.\n"
     ]
    },
    {
     "data": {
      "text/html": [
       "<table>\n",
       "    <tr>\n",
       "        <th>mentorId</th>\n",
       "        <th>mentorName</th>\n",
       "    </tr>\n",
       "    <tr>\n",
       "        <td>2</td>\n",
       "        <td>Britt</td>\n",
       "    </tr>\n",
       "    <tr>\n",
       "        <td>1</td>\n",
       "        <td>Callan</td>\n",
       "    </tr>\n",
       "    <tr>\n",
       "        <td>4</td>\n",
       "        <td>Cass</td>\n",
       "    </tr>\n",
       "    <tr>\n",
       "        <td>5</td>\n",
       "        <td>Daniel</td>\n",
       "    </tr>\n",
       "    <tr>\n",
       "        <td>3</td>\n",
       "        <td>Joe</td>\n",
       "    </tr>\n",
       "    <tr>\n",
       "        <td>6</td>\n",
       "        <td>Shaun</td>\n",
       "    </tr>\n",
       "</table>"
      ],
      "text/plain": [
       "[(2, 'Britt'),\n",
       " (1, 'Callan'),\n",
       " (4, 'Cass'),\n",
       " (5, 'Daniel'),\n",
       " (3, 'Joe'),\n",
       " (6, 'Shaun')]"
      ]
     },
     "execution_count": 17,
     "metadata": {},
     "output_type": "execute_result"
    }
   ],
   "source": [
    "%%sql\n",
    "\n",
    "SELECT * FROM mentors\n",
    "ORDER BY mentorName;"
   ]
  },
  {
   "cell_type": "code",
   "execution_count": null,
   "metadata": {},
   "outputs": [],
   "source": []
  }
 ],
 "metadata": {
  "interpreter": {
   "hash": "b3146ae678120b891b54f59f67ae256754154d2a56b379396de4363c71081247"
  },
  "kernelspec": {
   "display_name": "Python 3 (ipykernel)",
   "language": "python",
   "name": "python3"
  },
  "language_info": {
   "codemirror_mode": {
    "name": "ipython",
    "version": 3
   },
   "file_extension": ".py",
   "mimetype": "text/x-python",
   "name": "python",
   "nbconvert_exporter": "python",
   "pygments_lexer": "ipython3",
   "version": "3.9.7"
  }
 },
 "nbformat": 4,
 "nbformat_minor": 4
}
