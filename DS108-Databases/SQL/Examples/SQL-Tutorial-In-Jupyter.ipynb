{
 "cells": [
  {
   "cell_type": "markdown",
   "id": "c5f2257c-eca3-487f-819c-09e89125124a",
   "metadata": {},
   "source": [
    "# MySQL in JupyterTutorial\n",
    "\n",
    "By Matthew Gerardino\n",
    "\n",
    "**Important:** pip install MySQL Connector"
   ]
  },
  {
   "cell_type": "code",
   "execution_count": 1,
   "id": "4adf2cca-383f-41cf-a7c4-0beeb9d204cd",
   "metadata": {},
   "outputs": [],
   "source": [
    "import mysql.connector\n",
    "import pandas as pd\n",
    "\n",
    "mydb = mysql.connector.connect(\n",
    "  host=\"127.0.0.1\",\n",
    "  user=\"root\",\n",
    "  password=\"\",\n",
    "  database=\"sakila\"\n",
    ")\n",
    "\n",
    "mycursor = mydb.cursor()"
   ]
  },
  {
   "cell_type": "markdown",
   "id": "66c55274-31c3-4857-ad9e-11375e948e2f",
   "metadata": {},
   "source": [
    "#### Check if you have a successfull conection by listing out the tables in your sakila db:"
   ]
  },
  {
   "cell_type": "code",
   "execution_count": 2,
   "id": "a8d9a42e-22d7-4ca0-a82f-1ec22123c10d",
   "metadata": {},
   "outputs": [
    {
     "name": "stdout",
     "output_type": "stream",
     "text": [
      "('actor',)\n",
      "('actor_info',)\n",
      "('address',)\n",
      "('category',)\n",
      "('city',)\n",
      "('country',)\n",
      "('customer',)\n",
      "('customer_list',)\n",
      "('film',)\n",
      "('film_actor',)\n",
      "('film_category',)\n",
      "('film_list',)\n",
      "('film_text',)\n",
      "('inventory',)\n",
      "('language',)\n",
      "('nicer_but_slower_film_list',)\n",
      "('payment',)\n",
      "('rental',)\n",
      "('sales_by_film_category',)\n",
      "('sales_by_store',)\n",
      "('staff',)\n",
      "('staff_list',)\n",
      "('store',)\n"
     ]
    }
   ],
   "source": [
    "mycursor.execute(\"SHOW TABLES\")\n",
    "\n",
    "for x in mycursor:\n",
    "  print(x)"
   ]
  },
  {
   "cell_type": "markdown",
   "id": "06e2a36e-b583-434d-b801-7d0d9783ee25",
   "metadata": {},
   "source": [
    "## Primary Key\n",
    "When creating a table, you should also create a column with a unique key for each record.\n",
    "\n",
    "This can be done by defining a PRIMARY KEY.\n",
    "\n",
    "We use the statement \"INT AUTO_INCREMENT PRIMARY KEY\" which will insert a unique number for each record. Starting at 1, and increased by one for each record.\n",
    "\n",
    "### Example\n",
    "Create primary key when creating the table:"
   ]
  },
  {
   "cell_type": "code",
   "execution_count": 3,
   "id": "5d245c56-e3c3-4129-be72-c0473fe372f7",
   "metadata": {},
   "outputs": [],
   "source": [
    "# mycursor = mydb.cursor()\n",
    "\n",
    "# mycursor.execute(\"CREATE TABLE DSO_Team (id INT AUTO_INCREMENT PRIMARY KEY, name VARCHAR(255), address VARCHAR(255))\")"
   ]
  },
  {
   "cell_type": "code",
   "execution_count": 4,
   "id": "b58f52f0-ae13-48c5-ab33-31048e283d37",
   "metadata": {},
   "outputs": [],
   "source": [
    "#testing this out\n",
    "\n",
    "mycursor = mydb.cursor()\n",
    "\n",
    "mycursor.execute(\"CREATE TABLE DSO_Team (name VARCHAR(255), address VARCHAR(255), DateUpdated datetime default current_timestamp)\")"
   ]
  },
  {
   "cell_type": "markdown",
   "id": "53802ea7-21f5-47c2-9af2-820146ccb2fc",
   "metadata": {},
   "source": [
    "### Example\n",
    "Create primary key on an existing table:"
   ]
  },
  {
   "cell_type": "code",
   "execution_count": 5,
   "id": "a17d0faf-e90e-472c-a3bf-b1a0269ab5f1",
   "metadata": {},
   "outputs": [],
   "source": [
    "mycursor.execute(\"ALTER TABLE DSO_Team ADD COLUMN id INT AUTO_INCREMENT NOT NULL PRIMARY KEY\")"
   ]
  },
  {
   "cell_type": "markdown",
   "id": "3e638020-59aa-4ba5-93da-d1fff359e25c",
   "metadata": {},
   "source": [
    "## Python MySQL Insert Into Table\n",
    "\n",
    "#### Insert Into Table\n",
    "To fill a table in MySQL, use the \"INSERT INTO\" statement."
   ]
  },
  {
   "cell_type": "code",
   "execution_count": 6,
   "id": "ce3e23cb-95f7-4007-9ca7-8ab88584aa33",
   "metadata": {},
   "outputs": [
    {
     "name": "stdout",
     "output_type": "stream",
     "text": [
      "1 record inserted.\n"
     ]
    }
   ],
   "source": [
    "sql = \"INSERT INTO DSO_Team (name, address) VALUES (%s, %s)\"\n",
    "val = (\"Ashley\", \"Highway 21\")\n",
    "mycursor.execute(sql, val)\n",
    "\n",
    "mydb.commit()\n",
    "\n",
    "print(mycursor.rowcount, \"record inserted.\")"
   ]
  },
  {
   "cell_type": "markdown",
   "id": "d8fd18fe-661d-41ff-883f-7d04860f2a86",
   "metadata": {},
   "source": [
    "# Insert Multiple Rows\n",
    "#### To insert multiple rows into a table, use the executemany() method.\n",
    "\n",
    "The second parameter of the executemany() method is a list of tuples, containing the data you want to insert:"
   ]
  },
  {
   "cell_type": "code",
   "execution_count": 7,
   "id": "ba8127ab-b464-48a1-b8a3-8b0de3fbbdef",
   "metadata": {},
   "outputs": [
    {
     "name": "stdout",
     "output_type": "stream",
     "text": [
      "13 entries were added.\n"
     ]
    }
   ],
   "source": [
    "sql = \"INSERT INTO DSO_Team (name, address) VALUES (%s, %s)\"\n",
    "val = [\n",
    "  ('Joseph', 'Highstreet 4'),\n",
    "  ('Daniel', 'Apple st 652'),\n",
    "  ('Margaret', 'Mountain 21'),\n",
    "  ('Nolan', 'Valley 345'),\n",
    "  ('Matthew', 'Ocean blvd 2'),\n",
    "  ('Julie', 'Green Grass 1'),\n",
    "  ('Julia', 'Sky st 331'),\n",
    "  ('Emily', 'One way 98'),\n",
    "  ('Mia', 'Yellow Garden 2'),\n",
    "  ('Latrice', 'Park Lane 38'),\n",
    "  ('Marisa', 'Central st 954'),\n",
    "  ('Melissa', 'Main Road 989'),\n",
    "  ('Jessenia', 'Sideway 1633')\n",
    "]\n",
    "\n",
    "mycursor.executemany(sql, val)\n",
    "\n",
    "mydb.commit()\n",
    "\n",
    "print(mycursor.rowcount, \"entries were added.\")"
   ]
  },
  {
   "cell_type": "markdown",
   "id": "c49078ab-9c9e-4c3d-b31e-e113117ce746",
   "metadata": {},
   "source": [
    "# Get Inserted ID\n",
    "#### You can get the id of the row you just inserted by asking the cursor object.\n",
    "### Get Inserted ID\n",
    "You can get the id of the row you just inserted by asking the cursor object."
   ]
  },
  {
   "cell_type": "code",
   "execution_count": 8,
   "id": "a60c41d2-82a1-4ffe-b034-d81b9cffc3fb",
   "metadata": {},
   "outputs": [
    {
     "name": "stdout",
     "output_type": "stream",
     "text": [
      "1 record inserted, ID: 15\n"
     ]
    }
   ],
   "source": [
    "sql = \"INSERT INTO DSO_Team (name, address) VALUES (%s, %s)\"\n",
    "val = (\"Brittney\", \"Blue Village\")\n",
    "mycursor.execute(sql, val)\n",
    "\n",
    "mydb.commit()\n",
    "\n",
    "print(\"1 record inserted, ID:\", mycursor.lastrowid)"
   ]
  },
  {
   "cell_type": "markdown",
   "id": "332413d9-fbbd-40d4-a68f-e7f493b11744",
   "metadata": {},
   "source": [
    "## Show DSO_Team As a Pandas Data Fame\n",
    "#### Using Select All"
   ]
  },
  {
   "cell_type": "code",
   "execution_count": 9,
   "id": "6a8c67a7-e822-4b7b-ad67-874e3a124031",
   "metadata": {},
   "outputs": [
    {
     "data": {
      "text/html": [
       "<div>\n",
       "<style scoped>\n",
       "    .dataframe tbody tr th:only-of-type {\n",
       "        vertical-align: middle;\n",
       "    }\n",
       "\n",
       "    .dataframe tbody tr th {\n",
       "        vertical-align: top;\n",
       "    }\n",
       "\n",
       "    .dataframe thead th {\n",
       "        text-align: right;\n",
       "    }\n",
       "</style>\n",
       "<table border=\"1\" class=\"dataframe\">\n",
       "  <thead>\n",
       "    <tr style=\"text-align: right;\">\n",
       "      <th></th>\n",
       "      <th>name</th>\n",
       "      <th>address</th>\n",
       "      <th>DateUpdated</th>\n",
       "      <th>id</th>\n",
       "    </tr>\n",
       "  </thead>\n",
       "  <tbody>\n",
       "    <tr>\n",
       "      <th>0</th>\n",
       "      <td>Ashley</td>\n",
       "      <td>Highway 21</td>\n",
       "      <td>2021-11-17 21:11:45</td>\n",
       "      <td>1</td>\n",
       "    </tr>\n",
       "    <tr>\n",
       "      <th>1</th>\n",
       "      <td>Joseph</td>\n",
       "      <td>Highstreet 4</td>\n",
       "      <td>2021-11-17 21:11:46</td>\n",
       "      <td>2</td>\n",
       "    </tr>\n",
       "    <tr>\n",
       "      <th>2</th>\n",
       "      <td>Daniel</td>\n",
       "      <td>Apple st 652</td>\n",
       "      <td>2021-11-17 21:11:46</td>\n",
       "      <td>3</td>\n",
       "    </tr>\n",
       "    <tr>\n",
       "      <th>3</th>\n",
       "      <td>Margaret</td>\n",
       "      <td>Mountain 21</td>\n",
       "      <td>2021-11-17 21:11:46</td>\n",
       "      <td>4</td>\n",
       "    </tr>\n",
       "    <tr>\n",
       "      <th>4</th>\n",
       "      <td>Nolan</td>\n",
       "      <td>Valley 345</td>\n",
       "      <td>2021-11-17 21:11:46</td>\n",
       "      <td>5</td>\n",
       "    </tr>\n",
       "    <tr>\n",
       "      <th>5</th>\n",
       "      <td>Matthew</td>\n",
       "      <td>Ocean blvd 2</td>\n",
       "      <td>2021-11-17 21:11:46</td>\n",
       "      <td>6</td>\n",
       "    </tr>\n",
       "    <tr>\n",
       "      <th>6</th>\n",
       "      <td>Julie</td>\n",
       "      <td>Green Grass 1</td>\n",
       "      <td>2021-11-17 21:11:46</td>\n",
       "      <td>7</td>\n",
       "    </tr>\n",
       "    <tr>\n",
       "      <th>7</th>\n",
       "      <td>Julia</td>\n",
       "      <td>Sky st 331</td>\n",
       "      <td>2021-11-17 21:11:46</td>\n",
       "      <td>8</td>\n",
       "    </tr>\n",
       "    <tr>\n",
       "      <th>8</th>\n",
       "      <td>Emily</td>\n",
       "      <td>One way 98</td>\n",
       "      <td>2021-11-17 21:11:46</td>\n",
       "      <td>9</td>\n",
       "    </tr>\n",
       "    <tr>\n",
       "      <th>9</th>\n",
       "      <td>Mia</td>\n",
       "      <td>Yellow Garden 2</td>\n",
       "      <td>2021-11-17 21:11:46</td>\n",
       "      <td>10</td>\n",
       "    </tr>\n",
       "    <tr>\n",
       "      <th>10</th>\n",
       "      <td>Latrice</td>\n",
       "      <td>Park Lane 38</td>\n",
       "      <td>2021-11-17 21:11:46</td>\n",
       "      <td>11</td>\n",
       "    </tr>\n",
       "    <tr>\n",
       "      <th>11</th>\n",
       "      <td>Marisa</td>\n",
       "      <td>Central st 954</td>\n",
       "      <td>2021-11-17 21:11:46</td>\n",
       "      <td>12</td>\n",
       "    </tr>\n",
       "    <tr>\n",
       "      <th>12</th>\n",
       "      <td>Melissa</td>\n",
       "      <td>Main Road 989</td>\n",
       "      <td>2021-11-17 21:11:46</td>\n",
       "      <td>13</td>\n",
       "    </tr>\n",
       "    <tr>\n",
       "      <th>13</th>\n",
       "      <td>Jessenia</td>\n",
       "      <td>Sideway 1633</td>\n",
       "      <td>2021-11-17 21:11:46</td>\n",
       "      <td>14</td>\n",
       "    </tr>\n",
       "    <tr>\n",
       "      <th>14</th>\n",
       "      <td>Brittney</td>\n",
       "      <td>Blue Village</td>\n",
       "      <td>2021-11-17 21:11:46</td>\n",
       "      <td>15</td>\n",
       "    </tr>\n",
       "  </tbody>\n",
       "</table>\n",
       "</div>"
      ],
      "text/plain": [
       "        name          address         DateUpdated  id\n",
       "0     Ashley       Highway 21 2021-11-17 21:11:45   1\n",
       "1     Joseph     Highstreet 4 2021-11-17 21:11:46   2\n",
       "2     Daniel     Apple st 652 2021-11-17 21:11:46   3\n",
       "3   Margaret      Mountain 21 2021-11-17 21:11:46   4\n",
       "4      Nolan       Valley 345 2021-11-17 21:11:46   5\n",
       "5    Matthew     Ocean blvd 2 2021-11-17 21:11:46   6\n",
       "6      Julie    Green Grass 1 2021-11-17 21:11:46   7\n",
       "7      Julia       Sky st 331 2021-11-17 21:11:46   8\n",
       "8      Emily       One way 98 2021-11-17 21:11:46   9\n",
       "9        Mia  Yellow Garden 2 2021-11-17 21:11:46  10\n",
       "10   Latrice     Park Lane 38 2021-11-17 21:11:46  11\n",
       "11    Marisa   Central st 954 2021-11-17 21:11:46  12\n",
       "12   Melissa    Main Road 989 2021-11-17 21:11:46  13\n",
       "13  Jessenia     Sideway 1633 2021-11-17 21:11:46  14\n",
       "14  Brittney     Blue Village 2021-11-17 21:11:46  15"
      ]
     },
     "execution_count": 9,
     "metadata": {},
     "output_type": "execute_result"
    }
   ],
   "source": [
    "team=pd.read_sql(\"Select * from DSO_Team\", con = mydb)\n",
    "team.head(15)"
   ]
  },
  {
   "cell_type": "markdown",
   "id": "193be178-f3ae-47ca-ab4a-288f121ab3f7",
   "metadata": {},
   "source": [
    "## Show DSO_Team As a Table\n",
    "#### Using Select All\n",
    "To select from a table in MySQL, use the \"SELECT\" statement:"
   ]
  },
  {
   "cell_type": "code",
   "execution_count": 10,
   "id": "75b2af77-ec40-4f6d-9876-a527986ae24f",
   "metadata": {},
   "outputs": [
    {
     "name": "stdout",
     "output_type": "stream",
     "text": [
      "('Ashley', 'Highway 21', datetime.datetime(2021, 11, 17, 21, 11, 45), 1)\n",
      "('Joseph', 'Highstreet 4', datetime.datetime(2021, 11, 17, 21, 11, 46), 2)\n",
      "('Daniel', 'Apple st 652', datetime.datetime(2021, 11, 17, 21, 11, 46), 3)\n",
      "('Margaret', 'Mountain 21', datetime.datetime(2021, 11, 17, 21, 11, 46), 4)\n",
      "('Nolan', 'Valley 345', datetime.datetime(2021, 11, 17, 21, 11, 46), 5)\n",
      "('Matthew', 'Ocean blvd 2', datetime.datetime(2021, 11, 17, 21, 11, 46), 6)\n",
      "('Julie', 'Green Grass 1', datetime.datetime(2021, 11, 17, 21, 11, 46), 7)\n",
      "('Julia', 'Sky st 331', datetime.datetime(2021, 11, 17, 21, 11, 46), 8)\n",
      "('Emily', 'One way 98', datetime.datetime(2021, 11, 17, 21, 11, 46), 9)\n",
      "('Mia', 'Yellow Garden 2', datetime.datetime(2021, 11, 17, 21, 11, 46), 10)\n",
      "('Latrice', 'Park Lane 38', datetime.datetime(2021, 11, 17, 21, 11, 46), 11)\n",
      "('Marisa', 'Central st 954', datetime.datetime(2021, 11, 17, 21, 11, 46), 12)\n",
      "('Melissa', 'Main Road 989', datetime.datetime(2021, 11, 17, 21, 11, 46), 13)\n",
      "('Jessenia', 'Sideway 1633', datetime.datetime(2021, 11, 17, 21, 11, 46), 14)\n",
      "('Brittney', 'Blue Village', datetime.datetime(2021, 11, 17, 21, 11, 46), 15)\n"
     ]
    }
   ],
   "source": [
    "mycursor.execute(\"SELECT * FROM DSO_Team\")\n",
    "\n",
    "myresult = mycursor.fetchall()\n",
    "\n",
    "for x in myresult:\n",
    "  print(x)"
   ]
  },
  {
   "cell_type": "markdown",
   "id": "cdc2c1e8-fbee-4392-81a2-1bc14aab4f43",
   "metadata": {},
   "source": [
    "# Selecting Columns\n",
    "To select only some of the columns in a table, use the \"SELECT\" statement followed by the column name(s):\n",
    "\n",
    "### Example\n",
    "Select only the name and address columns:"
   ]
  },
  {
   "cell_type": "code",
   "execution_count": 11,
   "id": "bc58863a-27fd-4ea7-9342-6811687e20af",
   "metadata": {},
   "outputs": [
    {
     "name": "stdout",
     "output_type": "stream",
     "text": [
      "('Ashley', 'Highway 21')\n",
      "('Joseph', 'Highstreet 4')\n",
      "('Daniel', 'Apple st 652')\n",
      "('Margaret', 'Mountain 21')\n",
      "('Nolan', 'Valley 345')\n",
      "('Matthew', 'Ocean blvd 2')\n",
      "('Julie', 'Green Grass 1')\n",
      "('Julia', 'Sky st 331')\n",
      "('Emily', 'One way 98')\n",
      "('Mia', 'Yellow Garden 2')\n",
      "('Latrice', 'Park Lane 38')\n",
      "('Marisa', 'Central st 954')\n",
      "('Melissa', 'Main Road 989')\n",
      "('Jessenia', 'Sideway 1633')\n",
      "('Brittney', 'Blue Village')\n"
     ]
    }
   ],
   "source": [
    "mycursor.execute(\"SELECT name, address FROM DSO_Team\")\n",
    "\n",
    "myresult = mycursor.fetchall()\n",
    "\n",
    "for x in myresult:\n",
    "  print(x)"
   ]
  },
  {
   "cell_type": "markdown",
   "id": "efea14d2-f8f4-421f-9427-f1def74b06e3",
   "metadata": {},
   "source": [
    "# Using the fetchone() Method\n",
    "If you are only interested in one row, you can use the fetchone() method.\n",
    "\n",
    "The fetchone() method will return the first row of the result:\n",
    "\n",
    "#### Example\n",
    "Fetch only one row:"
   ]
  },
  {
   "cell_type": "code",
   "execution_count": 12,
   "id": "955dd86b-3f7c-49a0-9605-d8817fa44508",
   "metadata": {},
   "outputs": [],
   "source": [
    "# mycursor.execute(\"SELECT * FROM DSO_Team\")\n",
    "\n",
    "# myresult = mycursor.fetchone()\n",
    "\n",
    "# print(myresult)"
   ]
  },
  {
   "cell_type": "markdown",
   "id": "6d8a500e-da67-4385-89e7-bc645ef6b7bf",
   "metadata": {},
   "source": [
    "# Python MySQL Where\n",
    "## Select With a Filter\n",
    "When selecting records from a table, you can filter the selection by using the \"WHERE\" statement:\n",
    "\n",
    "### Example\n",
    "Select record(s) where the address is \"Park Lane 38\": result:"
   ]
  },
  {
   "cell_type": "code",
   "execution_count": 13,
   "id": "6e1d30fa-0cd2-4e29-81d8-f988bd13627a",
   "metadata": {},
   "outputs": [
    {
     "name": "stdout",
     "output_type": "stream",
     "text": [
      "('Latrice', 'Park Lane 38', datetime.datetime(2021, 11, 17, 21, 11, 46), 11)\n"
     ]
    }
   ],
   "source": [
    "sql = \"SELECT * FROM DSO_Team WHERE address ='Park Lane 38'\"\n",
    "\n",
    "mycursor.execute(sql)\n",
    "\n",
    "myresult = mycursor.fetchall()\n",
    "\n",
    "for x in myresult:\n",
    "  print(x)"
   ]
  },
  {
   "cell_type": "markdown",
   "id": "26234532-0c31-4ce0-b75a-1da4ef1d37c3",
   "metadata": {},
   "source": [
    "# Wildcard Characters\n",
    "You can also select the records that starts, includes, or ends with a given letter or phrase.\n",
    "\n",
    "Use the %  to represent wildcard characters:\n",
    "    \n",
    "### Example\n",
    "Select records where the address contains the word \"way\":"
   ]
  },
  {
   "cell_type": "code",
   "execution_count": 14,
   "id": "900cba07-312e-47a2-938b-2fdbab801acd",
   "metadata": {},
   "outputs": [
    {
     "name": "stdout",
     "output_type": "stream",
     "text": [
      "('Ashley', 'Highway 21', datetime.datetime(2021, 11, 17, 21, 11, 45), 1)\n",
      "('Emily', 'One way 98', datetime.datetime(2021, 11, 17, 21, 11, 46), 9)\n",
      "('Jessenia', 'Sideway 1633', datetime.datetime(2021, 11, 17, 21, 11, 46), 14)\n"
     ]
    }
   ],
   "source": [
    "sql = \"SELECT * FROM DSO_Team WHERE address LIKE '%way%'\"\n",
    "\n",
    "mycursor.execute(sql)\n",
    "\n",
    "myresult = mycursor.fetchall()\n",
    "\n",
    "for x in myresult:\n",
    "  print(x)"
   ]
  },
  {
   "cell_type": "markdown",
   "id": "1cca7c54-94dd-4ad7-80f7-78c3a9c7fb74",
   "metadata": {},
   "source": [
    "## Prevent SQL Injection\n",
    "When query values are provided by the user, you should escape the values.\n",
    "\n",
    "This is to prevent SQL injections, which is a common web hacking technique to destroy or misuse your database.\n",
    "\n",
    "The mysql.connector module has methods to escape query values:\n",
    "\n",
    "#### Example\n",
    "Escape query values by using the placholder %s method:"
   ]
  },
  {
   "cell_type": "code",
   "execution_count": 15,
   "id": "848f7d56-00cd-4098-bc37-87a8b8d2f3cd",
   "metadata": {},
   "outputs": [
    {
     "name": "stdout",
     "output_type": "stream",
     "text": [
      "('Mia', 'Yellow Garden 2', datetime.datetime(2021, 11, 17, 21, 11, 46), 10)\n"
     ]
    }
   ],
   "source": [
    "mycursor = mydb.cursor()\n",
    "\n",
    "sql = \"SELECT * FROM DSO_Team WHERE address = %s\"\n",
    "adr = (\"Yellow Garden 2\", )\n",
    "\n",
    "mycursor.execute(sql, adr)\n",
    "\n",
    "myresult = mycursor.fetchall()\n",
    "\n",
    "for x in myresult:\n",
    "  print(x)"
   ]
  },
  {
   "cell_type": "markdown",
   "id": "9f5162de-4f66-4e2a-9f1e-ef630341b8f1",
   "metadata": {},
   "source": [
    "## Python MySQL Order By\n",
    "#### Sort the Result\n",
    "Use the ORDER BY statement to sort the result in ascending or descending order.\n",
    "\n",
    "The ORDER BY keyword sorts the result ascending by default. To sort the result in descending order, use the DESC keyword.\n",
    "\n",
    "#### Example\n",
    "Sort the result alphabetically by name: result:"
   ]
  },
  {
   "cell_type": "code",
   "execution_count": 16,
   "id": "901ec4a3-f6b6-4c99-9a4e-60df45a72529",
   "metadata": {},
   "outputs": [
    {
     "name": "stdout",
     "output_type": "stream",
     "text": [
      "('Ashley', 'Highway 21', datetime.datetime(2021, 11, 17, 21, 11, 45), 1)\n",
      "('Brittney', 'Blue Village', datetime.datetime(2021, 11, 17, 21, 11, 46), 15)\n",
      "('Daniel', 'Apple st 652', datetime.datetime(2021, 11, 17, 21, 11, 46), 3)\n",
      "('Emily', 'One way 98', datetime.datetime(2021, 11, 17, 21, 11, 46), 9)\n",
      "('Jessenia', 'Sideway 1633', datetime.datetime(2021, 11, 17, 21, 11, 46), 14)\n",
      "('Joseph', 'Highstreet 4', datetime.datetime(2021, 11, 17, 21, 11, 46), 2)\n",
      "('Julia', 'Sky st 331', datetime.datetime(2021, 11, 17, 21, 11, 46), 8)\n",
      "('Julie', 'Green Grass 1', datetime.datetime(2021, 11, 17, 21, 11, 46), 7)\n",
      "('Latrice', 'Park Lane 38', datetime.datetime(2021, 11, 17, 21, 11, 46), 11)\n",
      "('Margaret', 'Mountain 21', datetime.datetime(2021, 11, 17, 21, 11, 46), 4)\n",
      "('Marisa', 'Central st 954', datetime.datetime(2021, 11, 17, 21, 11, 46), 12)\n",
      "('Matthew', 'Ocean blvd 2', datetime.datetime(2021, 11, 17, 21, 11, 46), 6)\n",
      "('Melissa', 'Main Road 989', datetime.datetime(2021, 11, 17, 21, 11, 46), 13)\n",
      "('Mia', 'Yellow Garden 2', datetime.datetime(2021, 11, 17, 21, 11, 46), 10)\n",
      "('Nolan', 'Valley 345', datetime.datetime(2021, 11, 17, 21, 11, 46), 5)\n"
     ]
    }
   ],
   "source": [
    "mycursor = mydb.cursor()\n",
    "\n",
    "sql = \"SELECT * FROM DSO_Team ORDER BY name\"\n",
    "\n",
    "mycursor.execute(sql)\n",
    "\n",
    "myresult = mycursor.fetchall()\n",
    "\n",
    "for x in myresult:\n",
    "  print(x)"
   ]
  },
  {
   "cell_type": "markdown",
   "id": "8e768f8d-2161-4460-b7a5-709e1117590f",
   "metadata": {},
   "source": [
    "## ORDER BY DESC\n",
    "Use the DESC keyword to sort the result in a descending order.\n",
    "\n",
    "#### Example\n",
    "Sort the result reverse alphabetically by name:"
   ]
  },
  {
   "cell_type": "code",
   "execution_count": 17,
   "id": "5d9f8476-8158-4fa9-a5f8-5b4d30b9dfd0",
   "metadata": {},
   "outputs": [
    {
     "name": "stdout",
     "output_type": "stream",
     "text": [
      "('Nolan', 'Valley 345', datetime.datetime(2021, 11, 17, 21, 11, 46), 5)\n",
      "('Mia', 'Yellow Garden 2', datetime.datetime(2021, 11, 17, 21, 11, 46), 10)\n",
      "('Melissa', 'Main Road 989', datetime.datetime(2021, 11, 17, 21, 11, 46), 13)\n",
      "('Matthew', 'Ocean blvd 2', datetime.datetime(2021, 11, 17, 21, 11, 46), 6)\n",
      "('Marisa', 'Central st 954', datetime.datetime(2021, 11, 17, 21, 11, 46), 12)\n",
      "('Margaret', 'Mountain 21', datetime.datetime(2021, 11, 17, 21, 11, 46), 4)\n",
      "('Latrice', 'Park Lane 38', datetime.datetime(2021, 11, 17, 21, 11, 46), 11)\n",
      "('Julie', 'Green Grass 1', datetime.datetime(2021, 11, 17, 21, 11, 46), 7)\n",
      "('Julia', 'Sky st 331', datetime.datetime(2021, 11, 17, 21, 11, 46), 8)\n",
      "('Joseph', 'Highstreet 4', datetime.datetime(2021, 11, 17, 21, 11, 46), 2)\n",
      "('Jessenia', 'Sideway 1633', datetime.datetime(2021, 11, 17, 21, 11, 46), 14)\n",
      "('Emily', 'One way 98', datetime.datetime(2021, 11, 17, 21, 11, 46), 9)\n",
      "('Daniel', 'Apple st 652', datetime.datetime(2021, 11, 17, 21, 11, 46), 3)\n",
      "('Brittney', 'Blue Village', datetime.datetime(2021, 11, 17, 21, 11, 46), 15)\n",
      "('Ashley', 'Highway 21', datetime.datetime(2021, 11, 17, 21, 11, 45), 1)\n"
     ]
    }
   ],
   "source": [
    "mycursor = mydb.cursor()\n",
    "\n",
    "sql = \"SELECT * FROM DSO_Team ORDER BY name DESC\"\n",
    "\n",
    "mycursor.execute(sql)\n",
    "\n",
    "myresult = mycursor.fetchall()\n",
    "\n",
    "for x in myresult:\n",
    "  print(x)"
   ]
  },
  {
   "cell_type": "markdown",
   "id": "fc8041aa-378f-4ffd-93bd-7121c1d91a66",
   "metadata": {},
   "source": [
    "## Python MySQL Delete From By\n",
    "Delete Record\n",
    "You can delete records from an existing table by using the \"DELETE FROM\" statement:\n",
    "\n",
    "#### Example\n",
    "Delete any record where the address is \"Mountain 21\":"
   ]
  },
  {
   "cell_type": "code",
   "execution_count": 18,
   "id": "af9c00e6-a3ce-4dfb-9f78-3e0cfc26e72a",
   "metadata": {},
   "outputs": [
    {
     "name": "stdout",
     "output_type": "stream",
     "text": [
      "1 record(s) deleted\n"
     ]
    }
   ],
   "source": [
    "mycursor = mydb.cursor()\n",
    "\n",
    "sql = \"DELETE FROM DSO_Team WHERE address = 'Mountain 21'\"\n",
    "\n",
    "mycursor.execute(sql)\n",
    "\n",
    "mydb.commit()\n",
    "\n",
    "print(mycursor.rowcount, \"record(s) deleted\")"
   ]
  },
  {
   "cell_type": "markdown",
   "id": "2a5d4ea3-e3b6-40d0-ab94-969ca52c0089",
   "metadata": {},
   "source": [
    "**Important:** Notice the statement: mydb.commit(). It is required to make the changes, otherwise no changes are made to the table.\n",
    "\n",
    "**Notice the WHERE clause in the DELETE syntax:** The WHERE clause specifies which record(s) that should be deleted. If you omit the WHERE clause, all records will be deleted!\n",
    "\n",
    "## Prevent SQL Injection\n",
    "It is considered a good practice to escape the values of any query, also in delete statements.\n",
    "\n",
    "This is to prevent SQL injections, which is a common web hacking technique to destroy or misuse your database.\n",
    "\n",
    "The mysql.connector module uses the placeholder %s to escape values in the delete statement:\n",
    "\n",
    "#### Example\n",
    "Escape values by using the placeholder %s method:"
   ]
  },
  {
   "cell_type": "code",
   "execution_count": 19,
   "id": "19d168bd-d10a-482a-80f9-9e49d9f3acea",
   "metadata": {},
   "outputs": [
    {
     "name": "stdout",
     "output_type": "stream",
     "text": [
      "1 record(s) deleted\n"
     ]
    }
   ],
   "source": [
    "mycursor = mydb.cursor()\n",
    "\n",
    "sql = \"DELETE FROM DSO_Team WHERE address = %s\"\n",
    "adr = (\"Yellow Garden 2\", )\n",
    "\n",
    "mycursor.execute(sql, adr)\n",
    "\n",
    "mydb.commit()\n",
    "\n",
    "print(mycursor.rowcount, \"record(s) deleted\")"
   ]
  },
  {
   "cell_type": "markdown",
   "id": "35fafa54-d177-4484-8c29-f6863415b0a5",
   "metadata": {},
   "source": [
    "## Python MySQL Update Table\n",
    "Update Table\n",
    "You can update existing records in a table by using the \"UPDATE\" statement:\n",
    "    \n",
    "#### Example\n",
    "Overwrite the address column from \"Valley 345\" to \"Canyoun 123\":"
   ]
  },
  {
   "cell_type": "code",
   "execution_count": 20,
   "id": "f397e028-92e5-40a3-8342-e29f544ce68b",
   "metadata": {},
   "outputs": [
    {
     "name": "stdout",
     "output_type": "stream",
     "text": [
      "1 record(s) affected\n"
     ]
    }
   ],
   "source": [
    "mycursor = mydb.cursor()\n",
    "\n",
    "sql = \"UPDATE DSO_Team SET address = 'Canyon 123' WHERE address = 'Valley 345'\"\n",
    "\n",
    "mycursor.execute(sql)\n",
    "\n",
    "mydb.commit()\n",
    "\n",
    "print(mycursor.rowcount, \"record(s) affected\")"
   ]
  },
  {
   "cell_type": "markdown",
   "id": "42a3c5ed-1ce0-4eb5-8c32-f2830e41eb5e",
   "metadata": {},
   "source": [
    "## Python MySQL Limit\n",
    "Limit the Result\n",
    "You can limit the number of records returned from the query, by using the \"LIMIT\" statement:\n",
    "\n",
    "#### Example\n",
    "Select the 5 first records in the \"DSO_Team\" table:"
   ]
  },
  {
   "cell_type": "code",
   "execution_count": 21,
   "id": "3b7f2e3b-c820-4efe-aff2-71b14f5b2cd0",
   "metadata": {},
   "outputs": [
    {
     "name": "stdout",
     "output_type": "stream",
     "text": [
      "('Ashley', 'Highway 21', datetime.datetime(2021, 11, 17, 21, 11, 45), 1)\n",
      "('Joseph', 'Highstreet 4', datetime.datetime(2021, 11, 17, 21, 11, 46), 2)\n",
      "('Daniel', 'Apple st 652', datetime.datetime(2021, 11, 17, 21, 11, 46), 3)\n",
      "('Nolan', 'Canyon 123', datetime.datetime(2021, 11, 17, 21, 11, 46), 5)\n",
      "('Matthew', 'Ocean blvd 2', datetime.datetime(2021, 11, 17, 21, 11, 46), 6)\n"
     ]
    }
   ],
   "source": [
    "mycursor = mydb.cursor()\n",
    "\n",
    "mycursor.execute(\"SELECT * FROM DSO_Team LIMIT 5\")\n",
    "\n",
    "myresult = mycursor.fetchall()\n",
    "\n",
    "for x in myresult:\n",
    "    print(x)"
   ]
  },
  {
   "cell_type": "markdown",
   "id": "ead2f88b-02e7-4224-9026-e660d0a9b03e",
   "metadata": {},
   "source": [
    "## Start From Another Position\n",
    "If you want to return five records, starting from the third record, you can use the \"OFFSET\" keyword:\n",
    "\n",
    "#### Example\n",
    "Start from position 3, and return 5 records:"
   ]
  },
  {
   "cell_type": "code",
   "execution_count": 22,
   "id": "f1fe7349-a886-48ec-a8b1-c78785f11804",
   "metadata": {},
   "outputs": [
    {
     "name": "stdout",
     "output_type": "stream",
     "text": [
      "('Daniel', 'Apple st 652', datetime.datetime(2021, 11, 17, 21, 11, 46), 3)\n",
      "('Nolan', 'Canyon 123', datetime.datetime(2021, 11, 17, 21, 11, 46), 5)\n",
      "('Matthew', 'Ocean blvd 2', datetime.datetime(2021, 11, 17, 21, 11, 46), 6)\n",
      "('Julie', 'Green Grass 1', datetime.datetime(2021, 11, 17, 21, 11, 46), 7)\n",
      "('Julia', 'Sky st 331', datetime.datetime(2021, 11, 17, 21, 11, 46), 8)\n"
     ]
    }
   ],
   "source": [
    "mycursor = mydb.cursor()\n",
    "\n",
    "mycursor.execute(\"SELECT * FROM DSO_Team LIMIT 5 OFFSET 2\")\n",
    "\n",
    "myresult = mycursor.fetchall()\n",
    "\n",
    "for x in myresult:\n",
    "    print(x)"
   ]
  },
  {
   "cell_type": "markdown",
   "id": "cc7abe3d-fb38-4c44-833e-0de190cbf659",
   "metadata": {},
   "source": [
    "## Python MySQL Join\n",
    "#### Join Two or More Tables\n",
    "You can combine rows from two or more tables, based on a related column between them, by using a JOIN statement.\n",
    "\n",
    "Consider you have a \"users\" table and a \"products\" table:\n",
    "\n",
    "users\n",
    "\n",
    "These two tables can be combined by using users' fav field and products' id field.\n",
    "\n",
    "#### Example\n",
    "Join users and products to see the name of the users favorite product:"
   ]
  },
  {
   "cell_type": "code",
   "execution_count": 23,
   "id": "bae282f7-5bfd-40db-9a6e-962aaf1d73d6",
   "metadata": {},
   "outputs": [],
   "source": [
    "# mycursor = mydb.cursor()\n",
    "\n",
    "# sql = \"SELECT \\\n",
    "#   users.name AS user, \\\n",
    "#   products.name AS favorite \\\n",
    "#   FROM users \\\n",
    "#   INNER JOIN products ON users.fav = products.id\"\n",
    "\n",
    "# mycursor.execute(sql)\n",
    "\n",
    "# myresult = mycursor.fetchall()\n",
    "\n",
    "# for x in myresult:\n",
    "#   print(x)"
   ]
  },
  {
   "cell_type": "markdown",
   "id": "886379b3-e5ea-4fb5-8dca-1fbf762436e4",
   "metadata": {},
   "source": [
    "## Python MySQL Drop Table\n",
    "Delete a Table\n",
    "You can delete an existing table by using the \"DROP TABLE\" statement:\n",
    "\n",
    "#### Example\n",
    "Delete the table \"DSO_Team\":"
   ]
  },
  {
   "cell_type": "code",
   "execution_count": 24,
   "id": "f9e9649e-9ae5-4f2a-b4ce-1323ae797b97",
   "metadata": {},
   "outputs": [],
   "source": [
    "mycursor = mydb.cursor()\n",
    "\n",
    "sql = \"DROP TABLE DSO_Team\"\n",
    "\n",
    "mycursor.execute(sql)"
   ]
  },
  {
   "cell_type": "markdown",
   "id": "7fb35d87-6de6-43d4-8782-5ed3fae97263",
   "metadata": {},
   "source": [
    "## Drop Only if Exist\n",
    "If the the table you want to delete is already deleted, or for any other reason does not exist, you can use the IF EXISTS keyword to avoid getting an error.\n",
    "\n",
    "#### Example\n",
    "Delete the table \"DSO_Team\" if it exists:"
   ]
  },
  {
   "cell_type": "code",
   "execution_count": 25,
   "id": "42ccbe8f-0f5c-4837-8418-c20c7e9c0ccc",
   "metadata": {},
   "outputs": [],
   "source": [
    "mycursor = mydb.cursor()\n",
    "\n",
    "sql = \"DROP TABLE IF EXISTS DSO_Team\"\n",
    "\n",
    "mycursor.execute(sql)"
   ]
  },
  {
   "cell_type": "markdown",
   "id": "4e30df36-638c-4d41-aee4-b128b411ca85",
   "metadata": {},
   "source": [
    "## Show Tables to verify that DSO_Team was deleted"
   ]
  },
  {
   "cell_type": "code",
   "execution_count": 26,
   "id": "31d8eb59-a7d3-49cc-b559-e0130668318c",
   "metadata": {},
   "outputs": [
    {
     "data": {
      "text/html": [
       "<div>\n",
       "<style scoped>\n",
       "    .dataframe tbody tr th:only-of-type {\n",
       "        vertical-align: middle;\n",
       "    }\n",
       "\n",
       "    .dataframe tbody tr th {\n",
       "        vertical-align: top;\n",
       "    }\n",
       "\n",
       "    .dataframe thead th {\n",
       "        text-align: right;\n",
       "    }\n",
       "</style>\n",
       "<table border=\"1\" class=\"dataframe\">\n",
       "  <thead>\n",
       "    <tr style=\"text-align: right;\">\n",
       "      <th></th>\n",
       "      <th>Tables_in_sakila</th>\n",
       "    </tr>\n",
       "  </thead>\n",
       "  <tbody>\n",
       "    <tr>\n",
       "      <th>0</th>\n",
       "      <td>actor</td>\n",
       "    </tr>\n",
       "    <tr>\n",
       "      <th>1</th>\n",
       "      <td>actor_info</td>\n",
       "    </tr>\n",
       "    <tr>\n",
       "      <th>2</th>\n",
       "      <td>address</td>\n",
       "    </tr>\n",
       "    <tr>\n",
       "      <th>3</th>\n",
       "      <td>category</td>\n",
       "    </tr>\n",
       "    <tr>\n",
       "      <th>4</th>\n",
       "      <td>city</td>\n",
       "    </tr>\n",
       "    <tr>\n",
       "      <th>5</th>\n",
       "      <td>country</td>\n",
       "    </tr>\n",
       "    <tr>\n",
       "      <th>6</th>\n",
       "      <td>customer</td>\n",
       "    </tr>\n",
       "    <tr>\n",
       "      <th>7</th>\n",
       "      <td>customer_list</td>\n",
       "    </tr>\n",
       "    <tr>\n",
       "      <th>8</th>\n",
       "      <td>film</td>\n",
       "    </tr>\n",
       "    <tr>\n",
       "      <th>9</th>\n",
       "      <td>film_actor</td>\n",
       "    </tr>\n",
       "    <tr>\n",
       "      <th>10</th>\n",
       "      <td>film_category</td>\n",
       "    </tr>\n",
       "    <tr>\n",
       "      <th>11</th>\n",
       "      <td>film_list</td>\n",
       "    </tr>\n",
       "    <tr>\n",
       "      <th>12</th>\n",
       "      <td>film_text</td>\n",
       "    </tr>\n",
       "    <tr>\n",
       "      <th>13</th>\n",
       "      <td>inventory</td>\n",
       "    </tr>\n",
       "    <tr>\n",
       "      <th>14</th>\n",
       "      <td>language</td>\n",
       "    </tr>\n",
       "  </tbody>\n",
       "</table>\n",
       "</div>"
      ],
      "text/plain": [
       "   Tables_in_sakila\n",
       "0             actor\n",
       "1        actor_info\n",
       "2           address\n",
       "3          category\n",
       "4              city\n",
       "5           country\n",
       "6          customer\n",
       "7     customer_list\n",
       "8              film\n",
       "9        film_actor\n",
       "10    film_category\n",
       "11        film_list\n",
       "12        film_text\n",
       "13        inventory\n",
       "14         language"
      ]
     },
     "execution_count": 26,
     "metadata": {},
     "output_type": "execute_result"
    }
   ],
   "source": [
    "show=pd.read_sql(\"Show Tables\", con = mydb)\n",
    "show.head(15)"
   ]
  },
  {
   "cell_type": "code",
   "execution_count": null,
   "id": "e120d2ca-a51b-44e9-b749-c00456516cf7",
   "metadata": {},
   "outputs": [],
   "source": []
  }
 ],
 "metadata": {
  "kernelspec": {
   "display_name": "Python 3 (ipykernel)",
   "language": "python",
   "name": "python3"
  },
  "language_info": {
   "codemirror_mode": {
    "name": "ipython",
    "version": 3
   },
   "file_extension": ".py",
   "mimetype": "text/x-python",
   "name": "python",
   "nbconvert_exporter": "python",
   "pygments_lexer": "ipython3",
   "version": "3.9.7"
  }
 },
 "nbformat": 4,
 "nbformat_minor": 5
}
