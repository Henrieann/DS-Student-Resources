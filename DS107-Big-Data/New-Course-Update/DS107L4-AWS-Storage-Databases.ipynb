{
 "cells": [
  {
   "cell_type": "markdown",
   "id": "50e6ddbb-52d3-4a02-9b69-100a4181e3b0",
   "metadata": {},
   "source": [
    "# DS107 Big Data : AWS Storage and Databases"
   ]
  },
  {
   "cell_type": "markdown",
   "id": "d1bd4bfc-9b15-4b80-87b4-b8b60eb56371",
   "metadata": {},
   "source": [
    "### Table of Contents <a class=\"anchor\" id=\"DS107L4_toc\"></a>\n",
    "\n",
    "* [Table of Contents](#DS107L4_toc)\n",
    "    * [Page 1 - AWS Storage Services](#DS107L4_page_1)\n",
    "    * [Page 2 - Amazon Elastic Block Store (Amazon EBS)](#DS107L4_page_2)\n",
    "    * [Page 3 - Assignment : Lab 4 - Working with EBS](#DS107L4_page_3)\n",
    "    * [Page 4 - Amazon Simple Storage Service (Amazon S3)](#DS107L4_page_4)\n",
    "    * [Page 5 - ](#DS107L4_page_5)\n",
    "    * [Page 6 - ](#DS107L4_page_6)\n",
    "    * [Page 7 - ](#DS107L4_page_7)\n",
    "    * [Page 8 - ](#DS107L4_page_8)\n",
    "    * [Page 9 - ](#DS107L4_page_9)\n",
    "    \n",
    "    "
   ]
  },
  {
   "cell_type": "markdown",
   "id": "ef5a8c65-ed48-4354-a257-e01b0fd733d4",
   "metadata": {},
   "source": [
    "<hr style=\"height:10px;border-width:0;color:gray;background-color:gray\">\n",
    "\n",
    "# Page 1 - AWS Storage Services<a class=\"anchor\" id=\"DS107L4_page_1\"></a>\n",
    "\n",
    "[Back to Top](#DS107L4_toc)\n",
    "\n",
    "<hr style=\"height:10px;border-width:0;color:gray;background-color:gray\">"
   ]
  },
  {
   "cell_type": "markdown",
   "id": "5b6ad526-95fa-43c4-bc43-1fe807708ed3",
   "metadata": {},
   "source": [
    "## AWS Storage Services module overview\n",
    "\n",
    "This module covers AWS Storage Services.\n",
    "\n",
    "Cloud storage is typically more reliable, scalable and secure than traditional on-premise storage systems. Cloud storage is a critical component of cloud computing because it holds the information that applications use. Big data analytics, data warehouses, the Internet of Things (IoT), Databases, and backup and archive applications all rely on some form of data storage architecture. \n",
    "\n",
    "In this module we'll cover:\n",
    "\n",
    "### Topics\n",
    "- Amazon Elastic Block Store (Amazon EBS)\n",
    "- Amazon Simple Storage Service (Amazon S3)\n",
    "- Amazon Elastic File System (Amazon EFS)\n",
    "- Amazon Simple Storage Services Glacier\n",
    "\n",
    "### AWS Academy Demos\n",
    "- Amazon EBS console\n",
    "- Amazon S3 console\n",
    "- Amazon EFS console\n",
    "- Amazon S3 Glacier console\n",
    "\n",
    "### AWS Lab\n",
    "- Working with Amazon EBS\n",
    "\n",
    "### AWS Activities\n",
    "- Storage solution case study\n",
    "\n",
    "After completing this module, you should be able to:\n",
    "\n",
    "- Identify the different types of storage\n",
    "- Explain Amazon S3\n",
    "- Identify the functionality in Amazon S3\n",
    "- Explain Amazon EBS\n",
    "- Identify the functionality in Amazon EBS\n",
    "- Perform functions in Amazon EBS to build an Amazon EC2 storage solution\n",
    "- Explain Amazon EFS\n",
    "- Identify the functionality in Amazon EFS\n",
    "- Explain Amazon S3 Glacier\n",
    "- Identify the functionality in Amazon S3 Glacier\n",
    "- Differentiate between Amazon EBS, Amazon S3, Amazon EFS, and Amazon S3 Glacier\n",
    "\n",
    "\n"
   ]
  },
  {
   "cell_type": "markdown",
   "id": "7990ac7a-5a2f-4744-af14-1b7e385ea484",
   "metadata": {},
   "source": [
    "<hr style=\"height:10px;border-width:0;color:gray;background-color:gray\">\n",
    "\n",
    "# Page 2 - Amazon Elastic Block Store (Amazon EBS)- <a class=\"anchor\" id=\"DS107L4_page_2\"></a>\n",
    "\n",
    "[Back to Top](#DS107L4_toc)\n",
    "\n",
    "<hr style=\"height:10px;border-width:0;color:gray;background-color:gray\">\n"
   ]
  },
  {
   "cell_type": "markdown",
   "id": "631a750e-0cdb-4d47-8861-68c751bd42e2",
   "metadata": {},
   "source": [
    "<p style=\"text-align: center\">\n",
    "  <img  src=\"Media/Amazon-EBS.png\" width=\"100\" alt=\"Amazon EBS\">\n",
    "</p>\n",
    "\n",
    "Amazon EBS provides persistent block storage volumes for use with Amazon EC2 instances. Persistent storage is any data storage device that retains data after power to that devices is shut off. \n",
    "\n",
    "It is also called non-volatile storage.\n",
    "\n",
    "Each Amazon EBS volume is automatically replicated "
   ]
  },
  {
   "cell_type": "markdown",
   "id": "832358fd-55fa-420a-8aa2-46fbf2097986",
   "metadata": {},
   "source": [
    "<hr style=\"height:10px;border-width:0;color:gray;background-color:gray\">\n",
    "\n",
    "# Page 3 - Assignment : Lab 4 - Working with EBS<a class=\"anchor\" id=\"DS107L4_page_3\"></a>\n",
    "\n",
    "[Back to Top](#DS107L4_toc)\n",
    "\n",
    "<hr style=\"height:10px;border-width:0;color:gray;background-color:gray\">\n"
   ]
  },
  {
   "cell_type": "markdown",
   "id": "d9e07cfe-1953-4c3a-b38c-3ba09dc79f43",
   "metadata": {},
   "source": [
    "## Complete Assignment : Lab 4 - Working with EBS"
   ]
  },
  {
   "cell_type": "markdown",
   "id": "bb1aade2-59af-4cbc-b5ed-da31e39f266d",
   "metadata": {},
   "source": [
    "<hr style=\"height:10px;border-width:0;color:gray;background-color:gray\">\n",
    "\n",
    "# Page 4 - Amazon Simple Storage Service (Amazon S3)<a class=\"anchor\" id=\"DS107L4_page_4\"></a>\n",
    "\n",
    "[Back to Top](#DS107L4_toc)\n",
    "\n",
    "<hr style=\"height:10px;border-width:0;color:gray;background-color:gray\">\n"
   ]
  },
  {
   "cell_type": "markdown",
   "id": "6398cc70-84b0-466f-98aa-3fe7a7af9e1c",
   "metadata": {},
   "source": [
    "<p style=\"text-align: center\">\n",
    "  <img  src=\"Media/Amazon-S3.png\" width=\"100\" alt=\"Amazon EBS\">\n",
    "</p>\n",
    "\n",
    "Amazon S3 is object-level storage, which means that if you want to change a part of a file, you must make the change, and then re-upload the entire modified file.\n",
    "\n",
    "S3 stores data as objects in resources that are called buckets. \n",
    "\n",
    "Amazon S3 is a managed cloud storage solution that is designed to scale seamlessly and provide 11 9's of durability.\n",
    "\n",
    "<p style=\"text-align: center\">\n",
    "  <img  src=\"Media/Amazon-S3-Overview.png\" width=\"100\" alt=\"Amazon EBS\">\n",
    "</p>\n",
    "\n",
    "You can store virtually as many objects as you want in a bucket, and you can write, read, and delete objects in your bucket. Bucket names are universal, and must be unique across the world. Objects can be up to 5 terabytes in size. By default, data in Amazon S3 is stored redundantly across multiple facilities. The data that you store in Amazon S3 is not associated with any particular server, and you do not need to manage any infrastructure yourself. You can put as many objects into S3 as you want. Amazon S3 holds trillions of objects, and regularly peaks at millions of requests per second. Objects can be almost any data file, such as images, videos, or server logs. You can fine-grained control over who can access you data by using AWS Identity and Access Management policies, Amazon S3 bucket policies, and even per object access control lists. By default, none of your data is shared publicly. You can also encrypt your data in transit and and at rest by enabling server-side encryption. Amazon S3 includes event notifications that enable you to set up automatic notifications when certain events occur, such as when an object is uploaded to a bucket or deleted from a specific bucket. Those notifications can be sent to you, or they can be used to trigger other processes, such as AWS Lambda functions. \n",
    "\n",
    "Amazon S3 offers a range of object-level storage classes that are designed for different use cases:\n",
    "- Amazon S3 Standard\n",
    "    - is designed for high availability, high durability, and performance for frequently accessed data. Because it delivers low latency and high throughput, Amazon S3 Standard is appropriate for a variety of use cases, including:\n",
    "        - content distribution and,\n",
    "        - big data analytics.\n",
    "- Amazon S3 Intelligent-Tiering\n",
    "    - is used for data that is accessed less frequently, but requires rapid access when needed.\n",
    "- Amazon S3 Standard-Infrequent Access (Amazon S3 Standard-IA)\n",
    "    - is designed to provide the high durability, high throughput, and low latency of Amazon S3 standard, with a low per gigabyte storage prices and per gigabyte retrieval fee. This combination of low cost and high performance makes this choice good for long-term stroage and backups, and it's a datastore for disaster recovery files.\n",
    "- Amazon S3 One Zone-Infrequent Access (Amazon S3 One Zone-IA)\n",
    "    - is for data that is access less frequently, but requires rapid access when needed. Unlike other Aamzon S3 storage classes, which store data in a minimum of three availability zones, this selection stores data in a single availability zone. It costs less than Amazon S3 Standard-Infrequent Access. This works well for customers who want a lower cost option for infrequently accessed data, but do not require the availability and resilience of Aamzon S3 Standard or \n",
    "- Amazon S3 Glacier\n",
    "- Amazon S3 Glacier Deep Archive\n",
    "\n",
    "\n"
   ]
  },
  {
   "cell_type": "markdown",
   "id": "ead4ad3c-2fe6-457e-8924-1410e951bebd",
   "metadata": {},
   "source": [
    "<hr style=\"height:10px;border-width:0;color:gray;background-color:gray\">\n",
    "\n",
    "# Page 5 - <a class=\"anchor\" id=\"DS107L4_page_5\"></a>\n",
    "\n",
    "[Back to Top](#DS107L4_toc)\n",
    "\n",
    "<hr style=\"height:10px;border-width:0;color:gray;background-color:gray\">\n"
   ]
  },
  {
   "cell_type": "markdown",
   "id": "e7747d7f-b2bb-4ad4-9b1d-8193b70b4de1",
   "metadata": {},
   "source": []
  },
  {
   "cell_type": "markdown",
   "id": "dd9e3b8a-9224-447f-8cf7-5035cae86421",
   "metadata": {},
   "source": [
    "<hr style=\"height:10px;border-width:0;color:gray;background-color:gray\">\n",
    "\n",
    "# Page 6 - HBase<a class=\"anchor\" id=\"DS107L4_page_6\"></a>\n",
    "\n",
    "[Back to Top](#DS107L4_toc)\n",
    "\n",
    "<hr style=\"height:10px;border-width:0;color:gray;background-color:gray\">\n"
   ]
  },
  {
   "cell_type": "markdown",
   "id": "14f95840-09b6-4242-874b-b374fafa555c",
   "metadata": {},
   "source": []
  },
  {
   "cell_type": "markdown",
   "id": "42cb7d8a-aced-42e5-ac24-32acf8c95473",
   "metadata": {},
   "source": [
    "<hr style=\"height:10px;border-width:0;color:gray;background-color:gray\">\n",
    "\n",
    "# Page 7 - Using HBase<a class=\"anchor\" id=\"DS107L4_page_7\"></a>\n",
    "\n",
    "[Back to Top](#DS107L4_toc)\n",
    "\n",
    "<hr style=\"height:10px;border-width:0;color:gray;background-color:gray\">\n"
   ]
  },
  {
   "cell_type": "markdown",
   "id": "e08250dc-b565-4e38-8f86-5764c483d3ea",
   "metadata": {},
   "source": []
  },
  {
   "cell_type": "markdown",
   "id": "d7b3f800-0a14-4d13-8c32-390965c537ca",
   "metadata": {},
   "source": [
    "<hr style=\"height:10px;border-width:0;color:gray;background-color:gray\">\n",
    "\n",
    "# Page 8 - Lesson 4 Hands-On<a class=\"anchor\" id=\"DS107L4_page_8\"></a>\n",
    "\n",
    "[Back to Top](#DS107L4_toc)\n",
    "\n",
    "<hr style=\"height:10px;border-width:0;color:gray;background-color:gray\">\n"
   ]
  },
  {
   "cell_type": "markdown",
   "id": "ac9314b8-fe13-4443-8e5b-41cb19d7b4e2",
   "metadata": {},
   "source": []
  },
  {
   "cell_type": "markdown",
   "id": "4597e4b4-ce22-448d-843e-eab5ba74a9c4",
   "metadata": {},
   "source": [
    "\n",
    "This Hands-On will **not** be graded, but you are encouraged to complete it. The best way to become a great data scientist is to practice. Once you have submitted your project, you will be able to access the solution on the next page. Note that the solution will be slightly different from yours, but should look similar.\n",
    "\n",
    "<div class=\"panel panel-danger\">\n",
    "    <div class=\"panel-heading\">\n",
    "        <h3 class=\"panel-title\">Caution!</h3>\n",
    "    </div>\n",
    "    <div class=\"panel-body\">\n",
    "        <p>Do not submit your project until you have completed all requirements, as you will not be able to resubmit.</p>\n",
    "    </div>\n",
    "</div>\n",
    "\n",
    "---\n",
    "\n",
    "## Description\n",
    "\n",
    "Using the Book data files, write a Pig Query that will find all the books that have a 1-star rating. Include a file with your Pig Query and a screenshot of your results.\n",
    "\n",
    "---\n",
    "\n",
    "## Alternative Assignment if You Can't Run Hadoop and/or Ambari\n",
    "\n",
    "If your computer refuses to run Hadoop and/or Ambari, **[here](https://repo.exeterlms.com/documents/V2/DataScience/Big-Data/L4exam.zip)** is an alternative exam to test your understanding of the material. Please attach it instead.\n",
    "\n",
    "<div class=\"panel panel-danger\">\n",
    "    <div class=\"panel-heading\">\n",
    "        <h3 class=\"panel-title\">Caution!</h3>\n",
    "    </div>\n",
    "    <div class=\"panel-body\">\n",
    "        <p>Be sure to zip and submit your entire directory when finished!</p>\n",
    "    </div>\n",
    "</div>\n",
    "\n"
   ]
  },
  {
   "cell_type": "markdown",
   "id": "36943bcd-7e16-4af1-97d3-c09e81ae5e99",
   "metadata": {},
   "source": [
    "<hr style=\"height:10px;border-width:0;color:gray;background-color:gray\">\n",
    "\n",
    "# Page 9 - Lesson 4 Hands-On Solution<a class=\"anchor\" id=\"DS107L4_page_9\"></a>\n",
    "\n",
    "[Back to Top](#DS107L4_toc)\n",
    "\n",
    "<hr style=\"height:10px;border-width:0;color:gray;background-color:gray\">\n"
   ]
  }
 ],
 "metadata": {
  "kernelspec": {
   "display_name": "Python 3 (ipykernel)",
   "language": "python",
   "name": "python3"
  },
  "language_info": {
   "codemirror_mode": {
    "name": "ipython",
    "version": 3
   },
   "file_extension": ".py",
   "mimetype": "text/x-python",
   "name": "python",
   "nbconvert_exporter": "python",
   "pygments_lexer": "ipython3",
   "version": "3.9.12"
  }
 },
 "nbformat": 4,
 "nbformat_minor": 5
}
