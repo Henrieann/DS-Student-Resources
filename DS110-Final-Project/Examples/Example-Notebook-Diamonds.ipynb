{
 "cells": [
  {
   "cell_type": "markdown",
   "id": "d03426ad-1f6c-4c03-82b7-985d34e7ae55",
   "metadata": {},
   "source": [
    "# Diamonds-Final Project Mini Example\n",
    "\n",
    "This notebook provides some example code of a ML analysis in python.\n",
    "\n",
    "Please note, additional analysis and EDA may be required above and beyond what is presented here. "
   ]
  },
  {
   "cell_type": "markdown",
   "id": "a3119d7f-7732-4f6f-aedb-322141d53099",
   "metadata": {},
   "source": [
    "Overview:\n",
    "- Load Data\n",
    "- Initial EDA\n",
    "- Feature Generation\n",
    "- Train-test split\n",
    "- Run Analysis\n",
    "- Interpret results"
   ]
  },
  {
   "cell_type": "code",
   "execution_count": 1,
   "id": "ee836abc-2ab2-41d3-8b38-4cad10738a53",
   "metadata": {},
   "outputs": [],
   "source": [
    "# Silence Future Warnings\n",
    "import warnings\n",
    "warnings.simplefilter(action='ignore', category=FutureWarning)"
   ]
  },
  {
   "cell_type": "markdown",
   "id": "328da350-f156-4e53-bf51-bd0be8c25696",
   "metadata": {},
   "source": [
    "## Load Data"
   ]
  },
  {
   "cell_type": "code",
   "execution_count": 102,
   "id": "8de8eafa-f3a3-4afb-b295-6f805834ef2a",
   "metadata": {},
   "outputs": [],
   "source": [
    "# import packages\n",
    "import pandas as pd\n",
    "import seaborn as sns\n",
    "import skimpy"
   ]
  },
  {
   "cell_type": "code",
   "execution_count": 103,
   "id": "b99b8eae-40e1-4c16-8d16-4fd25df16e26",
   "metadata": {},
   "outputs": [
    {
     "data": {
      "text/plain": [
       "['anagrams',\n",
       " 'anscombe',\n",
       " 'attention',\n",
       " 'brain_networks',\n",
       " 'car_crashes',\n",
       " 'diamonds',\n",
       " 'dots',\n",
       " 'exercise',\n",
       " 'flights',\n",
       " 'fmri',\n",
       " 'gammas',\n",
       " 'geyser',\n",
       " 'iris',\n",
       " 'mpg',\n",
       " 'penguins',\n",
       " 'planets',\n",
       " 'taxis',\n",
       " 'tips',\n",
       " 'titanic']"
      ]
     },
     "execution_count": 103,
     "metadata": {},
     "output_type": "execute_result"
    }
   ],
   "source": [
    "# see built in datasets\n",
    "sns.get_dataset_names()"
   ]
  },
  {
   "cell_type": "code",
   "execution_count": 104,
   "id": "cbbf718f-55ca-4c8e-8e91-31572c7f1ce2",
   "metadata": {},
   "outputs": [],
   "source": [
    "# load data\n",
    "df = sns.load_dataset('diamonds')"
   ]
  },
  {
   "cell_type": "markdown",
   "id": "0b337bec-7ed6-43ce-bf31-f95f03bdfeb4",
   "metadata": {
    "tags": []
   },
   "source": [
    "### Read in from csv or excel file\n",
    "\n",
    "```python\n",
    "df = pd.read_csv('../path/to/file.csv')\n",
    "df = pd.read_excel('../path/to/file.xlsx')\n",
    "```"
   ]
  },
  {
   "cell_type": "code",
   "execution_count": 105,
   "id": "7e6986f2-db1c-4bf3-b004-e8053ecf2651",
   "metadata": {},
   "outputs": [
    {
     "data": {
      "text/html": [
       "<div>\n",
       "<style scoped>\n",
       "    .dataframe tbody tr th:only-of-type {\n",
       "        vertical-align: middle;\n",
       "    }\n",
       "\n",
       "    .dataframe tbody tr th {\n",
       "        vertical-align: top;\n",
       "    }\n",
       "\n",
       "    .dataframe thead th {\n",
       "        text-align: right;\n",
       "    }\n",
       "</style>\n",
       "<table border=\"1\" class=\"dataframe\">\n",
       "  <thead>\n",
       "    <tr style=\"text-align: right;\">\n",
       "      <th></th>\n",
       "      <th>carat</th>\n",
       "      <th>cut</th>\n",
       "      <th>color</th>\n",
       "      <th>clarity</th>\n",
       "      <th>depth</th>\n",
       "      <th>table</th>\n",
       "      <th>price</th>\n",
       "      <th>x</th>\n",
       "      <th>y</th>\n",
       "      <th>z</th>\n",
       "    </tr>\n",
       "  </thead>\n",
       "  <tbody>\n",
       "    <tr>\n",
       "      <th>0</th>\n",
       "      <td>0.23</td>\n",
       "      <td>Ideal</td>\n",
       "      <td>E</td>\n",
       "      <td>SI2</td>\n",
       "      <td>61.5</td>\n",
       "      <td>55.0</td>\n",
       "      <td>326</td>\n",
       "      <td>3.95</td>\n",
       "      <td>3.98</td>\n",
       "      <td>2.43</td>\n",
       "    </tr>\n",
       "    <tr>\n",
       "      <th>1</th>\n",
       "      <td>0.21</td>\n",
       "      <td>Premium</td>\n",
       "      <td>E</td>\n",
       "      <td>SI1</td>\n",
       "      <td>59.8</td>\n",
       "      <td>61.0</td>\n",
       "      <td>326</td>\n",
       "      <td>3.89</td>\n",
       "      <td>3.84</td>\n",
       "      <td>2.31</td>\n",
       "    </tr>\n",
       "    <tr>\n",
       "      <th>2</th>\n",
       "      <td>0.23</td>\n",
       "      <td>Good</td>\n",
       "      <td>E</td>\n",
       "      <td>VS1</td>\n",
       "      <td>56.9</td>\n",
       "      <td>65.0</td>\n",
       "      <td>327</td>\n",
       "      <td>4.05</td>\n",
       "      <td>4.07</td>\n",
       "      <td>2.31</td>\n",
       "    </tr>\n",
       "    <tr>\n",
       "      <th>3</th>\n",
       "      <td>0.29</td>\n",
       "      <td>Premium</td>\n",
       "      <td>I</td>\n",
       "      <td>VS2</td>\n",
       "      <td>62.4</td>\n",
       "      <td>58.0</td>\n",
       "      <td>334</td>\n",
       "      <td>4.20</td>\n",
       "      <td>4.23</td>\n",
       "      <td>2.63</td>\n",
       "    </tr>\n",
       "    <tr>\n",
       "      <th>4</th>\n",
       "      <td>0.31</td>\n",
       "      <td>Good</td>\n",
       "      <td>J</td>\n",
       "      <td>SI2</td>\n",
       "      <td>63.3</td>\n",
       "      <td>58.0</td>\n",
       "      <td>335</td>\n",
       "      <td>4.34</td>\n",
       "      <td>4.35</td>\n",
       "      <td>2.75</td>\n",
       "    </tr>\n",
       "  </tbody>\n",
       "</table>\n",
       "</div>"
      ],
      "text/plain": [
       "   carat      cut color clarity  depth  table  price     x     y     z\n",
       "0   0.23    Ideal     E     SI2   61.5   55.0    326  3.95  3.98  2.43\n",
       "1   0.21  Premium     E     SI1   59.8   61.0    326  3.89  3.84  2.31\n",
       "2   0.23     Good     E     VS1   56.9   65.0    327  4.05  4.07  2.31\n",
       "3   0.29  Premium     I     VS2   62.4   58.0    334  4.20  4.23  2.63\n",
       "4   0.31     Good     J     SI2   63.3   58.0    335  4.34  4.35  2.75"
      ]
     },
     "execution_count": 105,
     "metadata": {},
     "output_type": "execute_result"
    }
   ],
   "source": [
    "# view data\n",
    "df.head()"
   ]
  },
  {
   "cell_type": "markdown",
   "id": "3ed04e15-fbdb-4ba8-95a1-ba3aaa14bdeb",
   "metadata": {},
   "source": [
    "## Initial Data Analysis\n",
    "\n",
    "Key points:\n",
    "* Number of rows\n",
    "* Number of cols\n",
    "    * Number of continous variables\n",
    "    * Number of categorical variables\n",
    "* Percent of missing data\n",
    "\n",
    "Identify your outcome variable and predictor variables"
   ]
  },
  {
   "cell_type": "code",
   "execution_count": 106,
   "id": "d4e63654-e5c3-4e16-8801-910c17261eb2",
   "metadata": {},
   "outputs": [
    {
     "name": "stdout",
     "output_type": "stream",
     "text": [
      "<class 'pandas.core.frame.DataFrame'>\n",
      "RangeIndex: 53940 entries, 0 to 53939\n",
      "Data columns (total 10 columns):\n",
      " #   Column   Non-Null Count  Dtype   \n",
      "---  ------   --------------  -----   \n",
      " 0   carat    53940 non-null  float64 \n",
      " 1   cut      53940 non-null  category\n",
      " 2   color    53940 non-null  category\n",
      " 3   clarity  53940 non-null  category\n",
      " 4   depth    53940 non-null  float64 \n",
      " 5   table    53940 non-null  float64 \n",
      " 6   price    53940 non-null  int64   \n",
      " 7   x        53940 non-null  float64 \n",
      " 8   y        53940 non-null  float64 \n",
      " 9   z        53940 non-null  float64 \n",
      "dtypes: category(3), float64(6), int64(1)\n",
      "memory usage: 3.0 MB\n"
     ]
    }
   ],
   "source": [
    "df.info()"
   ]
  },
  {
   "cell_type": "code",
   "execution_count": 107,
   "id": "ce66bb13-0fc3-428c-9fe4-150a55efc9b4",
   "metadata": {},
   "outputs": [
    {
     "data": {
      "text/html": [
       "<div>\n",
       "<style scoped>\n",
       "    .dataframe tbody tr th:only-of-type {\n",
       "        vertical-align: middle;\n",
       "    }\n",
       "\n",
       "    .dataframe tbody tr th {\n",
       "        vertical-align: top;\n",
       "    }\n",
       "\n",
       "    .dataframe thead th {\n",
       "        text-align: right;\n",
       "    }\n",
       "</style>\n",
       "<table border=\"1\" class=\"dataframe\">\n",
       "  <thead>\n",
       "    <tr style=\"text-align: right;\">\n",
       "      <th></th>\n",
       "      <th>carat</th>\n",
       "      <th>depth</th>\n",
       "      <th>table</th>\n",
       "      <th>price</th>\n",
       "      <th>x</th>\n",
       "      <th>y</th>\n",
       "      <th>z</th>\n",
       "    </tr>\n",
       "  </thead>\n",
       "  <tbody>\n",
       "    <tr>\n",
       "      <th>count</th>\n",
       "      <td>53940.000000</td>\n",
       "      <td>53940.000000</td>\n",
       "      <td>53940.000000</td>\n",
       "      <td>53940.000000</td>\n",
       "      <td>53940.000000</td>\n",
       "      <td>53940.000000</td>\n",
       "      <td>53940.000000</td>\n",
       "    </tr>\n",
       "    <tr>\n",
       "      <th>mean</th>\n",
       "      <td>0.797940</td>\n",
       "      <td>61.749405</td>\n",
       "      <td>57.457184</td>\n",
       "      <td>3932.799722</td>\n",
       "      <td>5.731157</td>\n",
       "      <td>5.734526</td>\n",
       "      <td>3.538734</td>\n",
       "    </tr>\n",
       "    <tr>\n",
       "      <th>std</th>\n",
       "      <td>0.474011</td>\n",
       "      <td>1.432621</td>\n",
       "      <td>2.234491</td>\n",
       "      <td>3989.439738</td>\n",
       "      <td>1.121761</td>\n",
       "      <td>1.142135</td>\n",
       "      <td>0.705699</td>\n",
       "    </tr>\n",
       "    <tr>\n",
       "      <th>min</th>\n",
       "      <td>0.200000</td>\n",
       "      <td>43.000000</td>\n",
       "      <td>43.000000</td>\n",
       "      <td>326.000000</td>\n",
       "      <td>0.000000</td>\n",
       "      <td>0.000000</td>\n",
       "      <td>0.000000</td>\n",
       "    </tr>\n",
       "    <tr>\n",
       "      <th>25%</th>\n",
       "      <td>0.400000</td>\n",
       "      <td>61.000000</td>\n",
       "      <td>56.000000</td>\n",
       "      <td>950.000000</td>\n",
       "      <td>4.710000</td>\n",
       "      <td>4.720000</td>\n",
       "      <td>2.910000</td>\n",
       "    </tr>\n",
       "    <tr>\n",
       "      <th>50%</th>\n",
       "      <td>0.700000</td>\n",
       "      <td>61.800000</td>\n",
       "      <td>57.000000</td>\n",
       "      <td>2401.000000</td>\n",
       "      <td>5.700000</td>\n",
       "      <td>5.710000</td>\n",
       "      <td>3.530000</td>\n",
       "    </tr>\n",
       "    <tr>\n",
       "      <th>75%</th>\n",
       "      <td>1.040000</td>\n",
       "      <td>62.500000</td>\n",
       "      <td>59.000000</td>\n",
       "      <td>5324.250000</td>\n",
       "      <td>6.540000</td>\n",
       "      <td>6.540000</td>\n",
       "      <td>4.040000</td>\n",
       "    </tr>\n",
       "    <tr>\n",
       "      <th>max</th>\n",
       "      <td>5.010000</td>\n",
       "      <td>79.000000</td>\n",
       "      <td>95.000000</td>\n",
       "      <td>18823.000000</td>\n",
       "      <td>10.740000</td>\n",
       "      <td>58.900000</td>\n",
       "      <td>31.800000</td>\n",
       "    </tr>\n",
       "  </tbody>\n",
       "</table>\n",
       "</div>"
      ],
      "text/plain": [
       "              carat         depth         table         price             x  \\\n",
       "count  53940.000000  53940.000000  53940.000000  53940.000000  53940.000000   \n",
       "mean       0.797940     61.749405     57.457184   3932.799722      5.731157   \n",
       "std        0.474011      1.432621      2.234491   3989.439738      1.121761   \n",
       "min        0.200000     43.000000     43.000000    326.000000      0.000000   \n",
       "25%        0.400000     61.000000     56.000000    950.000000      4.710000   \n",
       "50%        0.700000     61.800000     57.000000   2401.000000      5.700000   \n",
       "75%        1.040000     62.500000     59.000000   5324.250000      6.540000   \n",
       "max        5.010000     79.000000     95.000000  18823.000000     10.740000   \n",
       "\n",
       "                  y             z  \n",
       "count  53940.000000  53940.000000  \n",
       "mean       5.734526      3.538734  \n",
       "std        1.142135      0.705699  \n",
       "min        0.000000      0.000000  \n",
       "25%        4.720000      2.910000  \n",
       "50%        5.710000      3.530000  \n",
       "75%        6.540000      4.040000  \n",
       "max       58.900000     31.800000  "
      ]
     },
     "execution_count": 107,
     "metadata": {},
     "output_type": "execute_result"
    }
   ],
   "source": [
    "df.describe()"
   ]
  },
  {
   "cell_type": "code",
   "execution_count": 108,
   "id": "630c9e0e-e80b-498f-8396-8a015f1a16aa",
   "metadata": {},
   "outputs": [
    {
     "data": {
      "text/html": [
       "<pre style=\"white-space:pre;overflow-x:auto;line-height:normal;font-family:Menlo,'DejaVu Sans Mono',consolas,'Courier New',monospace\">╭───────────────────────────────────── skimpy summary ──────────────────────────────────────╮\n",
       "│ <span style=\"font-style: italic\">         Data Summary         </span> <span style=\"font-style: italic\">      Data Types       </span> <span style=\"font-style: italic\">       Categories        </span>          │\n",
       "│ ┏━━━━━━━━━━━━━━━━━━━┳━━━━━━━━┓ ┏━━━━━━━━━━━━━┳━━━━━━━┓ ┏━━━━━━━━━━━━━━━━━━━━━━━┓          │\n",
       "│ ┃<span style=\"color: #008080; text-decoration-color: #008080; font-weight: bold\"> dataframe         </span>┃<span style=\"color: #008080; text-decoration-color: #008080; font-weight: bold\"> Values </span>┃ ┃<span style=\"color: #008080; text-decoration-color: #008080; font-weight: bold\"> Column Type </span>┃<span style=\"color: #008080; text-decoration-color: #008080; font-weight: bold\"> Count </span>┃ ┃<span style=\"color: #008080; text-decoration-color: #008080; font-weight: bold\"> Categorical Variables </span>┃          │\n",
       "│ ┡━━━━━━━━━━━━━━━━━━━╇━━━━━━━━┩ ┡━━━━━━━━━━━━━╇━━━━━━━┩ ┡━━━━━━━━━━━━━━━━━━━━━━━┩          │\n",
       "│ │ Number of rows    │ 53940  │ │ float64     │ 6     │ │ cut                   │          │\n",
       "│ │ Number of columns │ 10     │ │ category    │ 3     │ │ color                 │          │\n",
       "│ └───────────────────┴────────┘ │ int64       │ 1     │ │ clarity               │          │\n",
       "│                                └─────────────┴───────┘ └───────────────────────┘          │\n",
       "│ <span style=\"font-style: italic\">                                         number                                         </span>  │\n",
       "│ ┏━━━━━━━┳━━━━━━━━┳━━━━━━━━┳━━━━━━━━┳━━━━━━━━┳━━━━━━━┳━━━━━━━┳━━━━━━━━┳━━━━━━━━┳━━━━━━━━┓  │\n",
       "│ ┃<span style=\"font-weight: bold\">       </span>┃<span style=\"font-weight: bold\"> missin </span>┃<span style=\"font-weight: bold\"> comple </span>┃<span style=\"font-weight: bold\"> mean   </span>┃<span style=\"font-weight: bold\"> sd     </span>┃<span style=\"font-weight: bold\"> p0    </span>┃<span style=\"font-weight: bold\"> p25   </span>┃<span style=\"font-weight: bold\"> p75    </span>┃<span style=\"font-weight: bold\"> p100   </span>┃<span style=\"font-weight: bold\"> hist   </span>┃  │\n",
       "│ ┃       ┃<span style=\"font-weight: bold\"> g      </span>┃<span style=\"font-weight: bold\"> te     </span>┃        ┃        ┃       ┃       ┃        ┃        ┃        ┃  │\n",
       "│ ┃       ┃        ┃<span style=\"font-weight: bold\"> rate   </span>┃        ┃        ┃       ┃       ┃        ┃        ┃        ┃  │\n",
       "│ ┡━━━━━━━╇━━━━━━━━╇━━━━━━━━╇━━━━━━━━╇━━━━━━━━╇━━━━━━━╇━━━━━━━╇━━━━━━━━╇━━━━━━━━╇━━━━━━━━┩  │\n",
       "│ │ <span style=\"color: #af87ff; text-decoration-color: #af87ff\">carat</span> │ <span style=\"color: #008080; text-decoration-color: #008080\">0.0   </span> │ <span style=\"color: #008080; text-decoration-color: #008080\">1.0   </span> │ <span style=\"color: #008080; text-decoration-color: #008080\">0.8   </span> │ <span style=\"color: #008080; text-decoration-color: #008080\">0.47  </span> │ <span style=\"color: #008080; text-decoration-color: #008080\">0.2  </span> │ <span style=\"color: #008080; text-decoration-color: #008080\">0.4  </span> │ <span style=\"color: #008080; text-decoration-color: #008080\">1.0   </span> │ <span style=\"color: #008080; text-decoration-color: #008080\">5.0   </span> │ <span style=\"color: #008000; text-decoration-color: #008000\">█▃    </span> │  │\n",
       "│ │ <span style=\"color: #af87ff; text-decoration-color: #af87ff\">depth</span> │ <span style=\"color: #008080; text-decoration-color: #008080\">0.0   </span> │ <span style=\"color: #008080; text-decoration-color: #008080\">1.0   </span> │ <span style=\"color: #008080; text-decoration-color: #008080\">62.0  </span> │ <span style=\"color: #008080; text-decoration-color: #008080\">1.4   </span> │ <span style=\"color: #008080; text-decoration-color: #008080\">43.0 </span> │ <span style=\"color: #008080; text-decoration-color: #008080\">61.0 </span> │ <span style=\"color: #008080; text-decoration-color: #008080\">62.0  </span> │ <span style=\"color: #008080; text-decoration-color: #008080\">79.0  </span> │ <span style=\"color: #008000; text-decoration-color: #008000\">  ▂█  </span> │  │\n",
       "│ │ <span style=\"color: #af87ff; text-decoration-color: #af87ff\">table</span> │ <span style=\"color: #008080; text-decoration-color: #008080\">0.0   </span> │ <span style=\"color: #008080; text-decoration-color: #008080\">1.0   </span> │ <span style=\"color: #008080; text-decoration-color: #008080\">57.0  </span> │ <span style=\"color: #008080; text-decoration-color: #008080\">2.2   </span> │ <span style=\"color: #008080; text-decoration-color: #008080\">43.0 </span> │ <span style=\"color: #008080; text-decoration-color: #008080\">56.0 </span> │ <span style=\"color: #008080; text-decoration-color: #008080\">59.0  </span> │ <span style=\"color: #008080; text-decoration-color: #008080\">95.0  </span> │ <span style=\"color: #008000; text-decoration-color: #008000\"> █▁   </span> │  │\n",
       "│ │ <span style=\"color: #af87ff; text-decoration-color: #af87ff\">price</span> │ <span style=\"color: #008080; text-decoration-color: #008080\">0.0   </span> │ <span style=\"color: #008080; text-decoration-color: #008080\">1.0   </span> │ <span style=\"color: #008080; text-decoration-color: #008080\">3900.0</span> │ <span style=\"color: #008080; text-decoration-color: #008080\">4000.0</span> │ <span style=\"color: #008080; text-decoration-color: #008080\">330.0</span> │ <span style=\"color: #008080; text-decoration-color: #008080\">950.0</span> │ <span style=\"color: #008080; text-decoration-color: #008080\">5300.0</span> │ <span style=\"color: #008080; text-decoration-color: #008080\">19000.</span> │ <span style=\"color: #008000; text-decoration-color: #008000\">█▃▁▁  </span> │  │\n",
       "│ │       │        │        │        │        │       │       │        │ <span style=\"color: #008080; text-decoration-color: #008080\">0     </span> │        │  │\n",
       "│ │ <span style=\"color: #af87ff; text-decoration-color: #af87ff\">x    </span> │ <span style=\"color: #008080; text-decoration-color: #008080\">0.0   </span> │ <span style=\"color: #008080; text-decoration-color: #008080\">1.0   </span> │ <span style=\"color: #008080; text-decoration-color: #008080\">5.7   </span> │ <span style=\"color: #008080; text-decoration-color: #008080\">1.1   </span> │ <span style=\"color: #008080; text-decoration-color: #008080\">0.0  </span> │ <span style=\"color: #008080; text-decoration-color: #008080\">4.7  </span> │ <span style=\"color: #008080; text-decoration-color: #008080\">6.5   </span> │ <span style=\"color: #008080; text-decoration-color: #008080\">11.0  </span> │ <span style=\"color: #008000; text-decoration-color: #008000\">  ██▂ </span> │  │\n",
       "│ │ <span style=\"color: #af87ff; text-decoration-color: #af87ff\">y    </span> │ <span style=\"color: #008080; text-decoration-color: #008080\">0.0   </span> │ <span style=\"color: #008080; text-decoration-color: #008080\">1.0   </span> │ <span style=\"color: #008080; text-decoration-color: #008080\">5.7   </span> │ <span style=\"color: #008080; text-decoration-color: #008080\">1.1   </span> │ <span style=\"color: #008080; text-decoration-color: #008080\">0.0  </span> │ <span style=\"color: #008080; text-decoration-color: #008080\">4.7  </span> │ <span style=\"color: #008080; text-decoration-color: #008080\">6.5   </span> │ <span style=\"color: #008080; text-decoration-color: #008080\">59.0  </span> │ <span style=\"color: #008000; text-decoration-color: #008000\">█     </span> │  │\n",
       "│ │ <span style=\"color: #af87ff; text-decoration-color: #af87ff\">z    </span> │ <span style=\"color: #008080; text-decoration-color: #008080\">0.0   </span> │ <span style=\"color: #008080; text-decoration-color: #008080\">1.0   </span> │ <span style=\"color: #008080; text-decoration-color: #008080\">3.5   </span> │ <span style=\"color: #008080; text-decoration-color: #008080\">0.71  </span> │ <span style=\"color: #008080; text-decoration-color: #008080\">0.0  </span> │ <span style=\"color: #008080; text-decoration-color: #008080\">2.9  </span> │ <span style=\"color: #008080; text-decoration-color: #008080\">4.0   </span> │ <span style=\"color: #008080; text-decoration-color: #008080\">32.0  </span> │ <span style=\"color: #008000; text-decoration-color: #008000\">█     </span> │  │\n",
       "│ └───────┴────────┴────────┴────────┴────────┴───────┴───────┴────────┴────────┴────────┘  │\n",
       "│ <span style=\"font-style: italic\">                                        category                                        </span>  │\n",
       "│ ┏━━━━━━━━━━━━━━━┳━━━━━━━━━━━━━━━┳━━━━━━━━━━━━━━━━━━━━━━━━━┳━━━━━━━━━━━━━━━┳━━━━━━━━━━━━┓  │\n",
       "│ ┃<span style=\"font-weight: bold\">               </span>┃<span style=\"font-weight: bold\"> missing       </span>┃<span style=\"font-weight: bold\"> complete rate           </span>┃<span style=\"font-weight: bold\"> ordered       </span>┃<span style=\"font-weight: bold\"> unique     </span>┃  │\n",
       "│ ┡━━━━━━━━━━━━━━━╇━━━━━━━━━━━━━━━╇━━━━━━━━━━━━━━━━━━━━━━━━━╇━━━━━━━━━━━━━━━╇━━━━━━━━━━━━┩  │\n",
       "│ │ <span style=\"color: #af87ff; text-decoration-color: #af87ff\">cut          </span> │ <span style=\"color: #008080; text-decoration-color: #008080\">0.0          </span> │ <span style=\"color: #008080; text-decoration-color: #008080\">1.0                    </span> │ <span style=\"color: #00d7ff; text-decoration-color: #00d7ff\">False        </span> │ <span style=\"color: #008080; text-decoration-color: #008080\">5.0       </span> │  │\n",
       "│ │ <span style=\"color: #af87ff; text-decoration-color: #af87ff\">color        </span> │ <span style=\"color: #008080; text-decoration-color: #008080\">0.0          </span> │ <span style=\"color: #008080; text-decoration-color: #008080\">1.0                    </span> │ <span style=\"color: #00d7ff; text-decoration-color: #00d7ff\">False        </span> │ <span style=\"color: #008080; text-decoration-color: #008080\">7.0       </span> │  │\n",
       "│ │ <span style=\"color: #af87ff; text-decoration-color: #af87ff\">clarity      </span> │ <span style=\"color: #008080; text-decoration-color: #008080\">0.0          </span> │ <span style=\"color: #008080; text-decoration-color: #008080\">1.0                    </span> │ <span style=\"color: #00d7ff; text-decoration-color: #00d7ff\">False        </span> │ <span style=\"color: #008080; text-decoration-color: #008080\">8.0       </span> │  │\n",
       "│ └───────────────┴───────────────┴─────────────────────────┴───────────────┴────────────┘  │\n",
       "╰─────────────────────────────────────────── End ───────────────────────────────────────────╯\n",
       "</pre>\n"
      ],
      "text/plain": [
       "╭───────────────────────────────────── skimpy summary ──────────────────────────────────────╮\n",
       "│ \u001b[3m         Data Summary         \u001b[0m \u001b[3m      Data Types       \u001b[0m \u001b[3m       Categories        \u001b[0m          │\n",
       "│ ┏━━━━━━━━━━━━━━━━━━━┳━━━━━━━━┓ ┏━━━━━━━━━━━━━┳━━━━━━━┓ ┏━━━━━━━━━━━━━━━━━━━━━━━┓          │\n",
       "│ ┃\u001b[1;36m \u001b[0m\u001b[1;36mdataframe        \u001b[0m\u001b[1;36m \u001b[0m┃\u001b[1;36m \u001b[0m\u001b[1;36mValues\u001b[0m\u001b[1;36m \u001b[0m┃ ┃\u001b[1;36m \u001b[0m\u001b[1;36mColumn Type\u001b[0m\u001b[1;36m \u001b[0m┃\u001b[1;36m \u001b[0m\u001b[1;36mCount\u001b[0m\u001b[1;36m \u001b[0m┃ ┃\u001b[1;36m \u001b[0m\u001b[1;36mCategorical Variables\u001b[0m\u001b[1;36m \u001b[0m┃          │\n",
       "│ ┡━━━━━━━━━━━━━━━━━━━╇━━━━━━━━┩ ┡━━━━━━━━━━━━━╇━━━━━━━┩ ┡━━━━━━━━━━━━━━━━━━━━━━━┩          │\n",
       "│ │ Number of rows    │ 53940  │ │ float64     │ 6     │ │ cut                   │          │\n",
       "│ │ Number of columns │ 10     │ │ category    │ 3     │ │ color                 │          │\n",
       "│ └───────────────────┴────────┘ │ int64       │ 1     │ │ clarity               │          │\n",
       "│                                └─────────────┴───────┘ └───────────────────────┘          │\n",
       "│ \u001b[3m                                         number                                         \u001b[0m  │\n",
       "│ ┏━━━━━━━┳━━━━━━━━┳━━━━━━━━┳━━━━━━━━┳━━━━━━━━┳━━━━━━━┳━━━━━━━┳━━━━━━━━┳━━━━━━━━┳━━━━━━━━┓  │\n",
       "│ ┃\u001b[1m \u001b[0m\u001b[1m     \u001b[0m\u001b[1m \u001b[0m┃\u001b[1m \u001b[0m\u001b[1mmissin\u001b[0m\u001b[1m \u001b[0m┃\u001b[1m \u001b[0m\u001b[1mcomple\u001b[0m\u001b[1m \u001b[0m┃\u001b[1m \u001b[0m\u001b[1mmean  \u001b[0m\u001b[1m \u001b[0m┃\u001b[1m \u001b[0m\u001b[1msd    \u001b[0m\u001b[1m \u001b[0m┃\u001b[1m \u001b[0m\u001b[1mp0   \u001b[0m\u001b[1m \u001b[0m┃\u001b[1m \u001b[0m\u001b[1mp25  \u001b[0m\u001b[1m \u001b[0m┃\u001b[1m \u001b[0m\u001b[1mp75   \u001b[0m\u001b[1m \u001b[0m┃\u001b[1m \u001b[0m\u001b[1mp100  \u001b[0m\u001b[1m \u001b[0m┃\u001b[1m \u001b[0m\u001b[1mhist  \u001b[0m\u001b[1m \u001b[0m┃  │\n",
       "│ ┃       ┃\u001b[1m \u001b[0m\u001b[1mg     \u001b[0m\u001b[1m \u001b[0m┃\u001b[1m \u001b[0m\u001b[1mte    \u001b[0m\u001b[1m \u001b[0m┃        ┃        ┃       ┃       ┃        ┃        ┃        ┃  │\n",
       "│ ┃       ┃        ┃\u001b[1m \u001b[0m\u001b[1mrate  \u001b[0m\u001b[1m \u001b[0m┃        ┃        ┃       ┃       ┃        ┃        ┃        ┃  │\n",
       "│ ┡━━━━━━━╇━━━━━━━━╇━━━━━━━━╇━━━━━━━━╇━━━━━━━━╇━━━━━━━╇━━━━━━━╇━━━━━━━━╇━━━━━━━━╇━━━━━━━━┩  │\n",
       "│ │ \u001b[38;5;141mcarat\u001b[0m │ \u001b[36m0.0   \u001b[0m │ \u001b[36m1.0   \u001b[0m │ \u001b[36m0.8   \u001b[0m │ \u001b[36m0.47  \u001b[0m │ \u001b[36m0.2  \u001b[0m │ \u001b[36m0.4  \u001b[0m │ \u001b[36m1.0   \u001b[0m │ \u001b[36m5.0   \u001b[0m │ \u001b[32m█▃    \u001b[0m │  │\n",
       "│ │ \u001b[38;5;141mdepth\u001b[0m │ \u001b[36m0.0   \u001b[0m │ \u001b[36m1.0   \u001b[0m │ \u001b[36m62.0  \u001b[0m │ \u001b[36m1.4   \u001b[0m │ \u001b[36m43.0 \u001b[0m │ \u001b[36m61.0 \u001b[0m │ \u001b[36m62.0  \u001b[0m │ \u001b[36m79.0  \u001b[0m │ \u001b[32m  ▂█  \u001b[0m │  │\n",
       "│ │ \u001b[38;5;141mtable\u001b[0m │ \u001b[36m0.0   \u001b[0m │ \u001b[36m1.0   \u001b[0m │ \u001b[36m57.0  \u001b[0m │ \u001b[36m2.2   \u001b[0m │ \u001b[36m43.0 \u001b[0m │ \u001b[36m56.0 \u001b[0m │ \u001b[36m59.0  \u001b[0m │ \u001b[36m95.0  \u001b[0m │ \u001b[32m █▁   \u001b[0m │  │\n",
       "│ │ \u001b[38;5;141mprice\u001b[0m │ \u001b[36m0.0   \u001b[0m │ \u001b[36m1.0   \u001b[0m │ \u001b[36m3900.0\u001b[0m │ \u001b[36m4000.0\u001b[0m │ \u001b[36m330.0\u001b[0m │ \u001b[36m950.0\u001b[0m │ \u001b[36m5300.0\u001b[0m │ \u001b[36m19000.\u001b[0m │ \u001b[32m█▃▁▁  \u001b[0m │  │\n",
       "│ │       │        │        │        │        │       │       │        │ \u001b[36m0     \u001b[0m │        │  │\n",
       "│ │ \u001b[38;5;141mx    \u001b[0m │ \u001b[36m0.0   \u001b[0m │ \u001b[36m1.0   \u001b[0m │ \u001b[36m5.7   \u001b[0m │ \u001b[36m1.1   \u001b[0m │ \u001b[36m0.0  \u001b[0m │ \u001b[36m4.7  \u001b[0m │ \u001b[36m6.5   \u001b[0m │ \u001b[36m11.0  \u001b[0m │ \u001b[32m  ██▂ \u001b[0m │  │\n",
       "│ │ \u001b[38;5;141my    \u001b[0m │ \u001b[36m0.0   \u001b[0m │ \u001b[36m1.0   \u001b[0m │ \u001b[36m5.7   \u001b[0m │ \u001b[36m1.1   \u001b[0m │ \u001b[36m0.0  \u001b[0m │ \u001b[36m4.7  \u001b[0m │ \u001b[36m6.5   \u001b[0m │ \u001b[36m59.0  \u001b[0m │ \u001b[32m█     \u001b[0m │  │\n",
       "│ │ \u001b[38;5;141mz    \u001b[0m │ \u001b[36m0.0   \u001b[0m │ \u001b[36m1.0   \u001b[0m │ \u001b[36m3.5   \u001b[0m │ \u001b[36m0.71  \u001b[0m │ \u001b[36m0.0  \u001b[0m │ \u001b[36m2.9  \u001b[0m │ \u001b[36m4.0   \u001b[0m │ \u001b[36m32.0  \u001b[0m │ \u001b[32m█     \u001b[0m │  │\n",
       "│ └───────┴────────┴────────┴────────┴────────┴───────┴───────┴────────┴────────┴────────┘  │\n",
       "│ \u001b[3m                                        category                                        \u001b[0m  │\n",
       "│ ┏━━━━━━━━━━━━━━━┳━━━━━━━━━━━━━━━┳━━━━━━━━━━━━━━━━━━━━━━━━━┳━━━━━━━━━━━━━━━┳━━━━━━━━━━━━┓  │\n",
       "│ ┃\u001b[1m \u001b[0m\u001b[1m             \u001b[0m\u001b[1m \u001b[0m┃\u001b[1m \u001b[0m\u001b[1mmissing      \u001b[0m\u001b[1m \u001b[0m┃\u001b[1m \u001b[0m\u001b[1mcomplete rate          \u001b[0m\u001b[1m \u001b[0m┃\u001b[1m \u001b[0m\u001b[1mordered      \u001b[0m\u001b[1m \u001b[0m┃\u001b[1m \u001b[0m\u001b[1munique    \u001b[0m\u001b[1m \u001b[0m┃  │\n",
       "│ ┡━━━━━━━━━━━━━━━╇━━━━━━━━━━━━━━━╇━━━━━━━━━━━━━━━━━━━━━━━━━╇━━━━━━━━━━━━━━━╇━━━━━━━━━━━━┩  │\n",
       "│ │ \u001b[38;5;141mcut          \u001b[0m │ \u001b[36m0.0          \u001b[0m │ \u001b[36m1.0                    \u001b[0m │ \u001b[38;5;45mFalse        \u001b[0m │ \u001b[36m5.0       \u001b[0m │  │\n",
       "│ │ \u001b[38;5;141mcolor        \u001b[0m │ \u001b[36m0.0          \u001b[0m │ \u001b[36m1.0                    \u001b[0m │ \u001b[38;5;45mFalse        \u001b[0m │ \u001b[36m7.0       \u001b[0m │  │\n",
       "│ │ \u001b[38;5;141mclarity      \u001b[0m │ \u001b[36m0.0          \u001b[0m │ \u001b[36m1.0                    \u001b[0m │ \u001b[38;5;45mFalse        \u001b[0m │ \u001b[36m8.0       \u001b[0m │  │\n",
       "│ └───────────────┴───────────────┴─────────────────────────┴───────────────┴────────────┘  │\n",
       "╰─────────────────────────────────────────── End ───────────────────────────────────────────╯\n"
      ]
     },
     "metadata": {},
     "output_type": "display_data"
    }
   ],
   "source": [
    "from skimpy import skim\n",
    "skim(df)"
   ]
  },
  {
   "cell_type": "markdown",
   "id": "3a88ad5f-823d-4564-a7de-b2a046dcfea0",
   "metadata": {},
   "source": [
    "### Drop Missing Values\n",
    "\n",
    "To drop rows which have missing data, run the following:\n",
    "\n",
    "```python\n",
    "    df2 = df.dropna()\n",
    "```\n",
    "\n",
    "Note: This returns a **new** dataframe"
   ]
  },
  {
   "cell_type": "markdown",
   "id": "4c5f1ecb-b1ca-4ab5-84a8-a299eb73f776",
   "metadata": {},
   "source": [
    "## Define X and y for analysis\n",
    "\n",
    "* Recode categorical variables as numeric\n",
    "    * Cut\n",
    "    * Color\n",
    "    * Clarity\n",
    "    \n",
    "* Predicting on carat (y)\n"
   ]
  },
  {
   "cell_type": "code",
   "execution_count": 109,
   "id": "44ab1404-9f55-4b09-aec8-ae89db41a524",
   "metadata": {},
   "outputs": [
    {
     "data": {
      "text/plain": [
       "Index(['carat', 'cut', 'color', 'clarity', 'depth', 'table', 'price', 'x', 'y',\n",
       "       'z'],\n",
       "      dtype='object')"
      ]
     },
     "execution_count": 109,
     "metadata": {},
     "output_type": "execute_result"
    }
   ],
   "source": [
    "df.columns"
   ]
  },
  {
   "cell_type": "code",
   "execution_count": 110,
   "id": "a823a748-a7a4-4711-874d-b7ba8cc1973c",
   "metadata": {},
   "outputs": [
    {
     "data": {
      "text/plain": [
       "Ideal        21551\n",
       "Premium      13791\n",
       "Very Good    12082\n",
       "Good          4906\n",
       "Fair          1610\n",
       "Name: cut, dtype: int64"
      ]
     },
     "execution_count": 110,
     "metadata": {},
     "output_type": "execute_result"
    }
   ],
   "source": [
    "df.cut.value_counts()"
   ]
  },
  {
   "cell_type": "code",
   "execution_count": 111,
   "id": "125a549d-1197-479b-a5bf-3023020e31ba",
   "metadata": {},
   "outputs": [
    {
     "data": {
      "text/plain": [
       "<AxesSubplot:>"
      ]
     },
     "execution_count": 111,
     "metadata": {},
     "output_type": "execute_result"
    },
    {
     "data": {
      "image/png": "[encoded data removed]",
      "text/plain": [
       "<Figure size 432x288 with 1 Axes>"
      ]
     },
     "metadata": {
      "needs_background": "light"
     },
     "output_type": "display_data"
    }
   ],
   "source": [
    "df.cut.value_counts().plot(kind='bar')"
   ]
  },
  {
   "cell_type": "code",
   "execution_count": 112,
   "id": "bad5e00d-3aa7-4496-bb91-cf67e58d6a67",
   "metadata": {},
   "outputs": [],
   "source": [
    "def recode_cut(series):\n",
    "    if series == 'Fair':\n",
    "        return 0\n",
    "    elif series == 'Good':\n",
    "        return 1\n",
    "    elif series == 'Very Good':\n",
    "        return 2\n",
    "    elif series == 'Premium':\n",
    "        return 3\n",
    "    else:\n",
    "        return 4"
   ]
  },
  {
   "cell_type": "code",
   "execution_count": 113,
   "id": "b1af2a4b-16be-4c17-a099-4bf8ee221166",
   "metadata": {},
   "outputs": [],
   "source": [
    "df['cutR'] = df.cut.apply(recode_cut)"
   ]
  },
  {
   "cell_type": "code",
   "execution_count": 114,
   "id": "927d51c8-1426-4102-bc43-8649d9099cfb",
   "metadata": {},
   "outputs": [
    {
     "data": {
      "text/plain": [
       "G    11292\n",
       "E     9797\n",
       "F     9542\n",
       "H     8304\n",
       "D     6775\n",
       "I     5422\n",
       "J     2808\n",
       "Name: color, dtype: int64"
      ]
     },
     "execution_count": 114,
     "metadata": {},
     "output_type": "execute_result"
    }
   ],
   "source": [
    "df.color.value_counts()"
   ]
  },
  {
   "cell_type": "code",
   "execution_count": 115,
   "id": "16421c4a-b9af-4e1f-91e0-c800926c7da2",
   "metadata": {},
   "outputs": [
    {
     "data": {
      "text/plain": [
       "<AxesSubplot:>"
      ]
     },
     "execution_count": 115,
     "metadata": {},
     "output_type": "execute_result"
    },
    {
     "data": {
      "image/png": "[encoded data removed]",
      "text/plain": [
       "<Figure size 432x288 with 1 Axes>"
      ]
     },
     "metadata": {
      "needs_background": "light"
     },
     "output_type": "display_data"
    }
   ],
   "source": [
    "df.color.value_counts().plot(kind='bar')"
   ]
  },
  {
   "cell_type": "code",
   "execution_count": 116,
   "id": "2759b29f-078f-4e89-8f92-c6d579ddfae0",
   "metadata": {},
   "outputs": [],
   "source": [
    "def recode_color(series):\n",
    "    if series == 'G':\n",
    "        return 0\n",
    "    elif series == 'E':\n",
    "        return 1\n",
    "    elif series == 'F':\n",
    "        return 2\n",
    "    elif series == 'H':\n",
    "        return 3\n",
    "    elif series == 'D':\n",
    "        return 4\n",
    "    elif series == 'I':\n",
    "        return 5\n",
    "    else:\n",
    "        return 6"
   ]
  },
  {
   "cell_type": "code",
   "execution_count": 117,
   "id": "ac252776-0444-43d0-bc66-74883637f866",
   "metadata": {},
   "outputs": [],
   "source": [
    "df['colorR'] = df.color.apply(recode_color)"
   ]
  },
  {
   "cell_type": "code",
   "execution_count": 118,
   "id": "e106e70d-7930-4756-ac70-10a390e87567",
   "metadata": {},
   "outputs": [
    {
     "data": {
      "text/plain": [
       "SI1     13065\n",
       "VS2     12258\n",
       "SI2      9194\n",
       "VS1      8171\n",
       "VVS2     5066\n",
       "VVS1     3655\n",
       "IF       1790\n",
       "I1        741\n",
       "Name: clarity, dtype: int64"
      ]
     },
     "execution_count": 118,
     "metadata": {},
     "output_type": "execute_result"
    }
   ],
   "source": [
    "df.clarity.value_counts()"
   ]
  },
  {
   "cell_type": "code",
   "execution_count": 119,
   "id": "5bb44a76-4e75-49b0-bb37-8f5bed63f441",
   "metadata": {},
   "outputs": [
    {
     "data": {
      "text/plain": [
       "<AxesSubplot:>"
      ]
     },
     "execution_count": 119,
     "metadata": {},
     "output_type": "execute_result"
    },
    {
     "data": {
      "image/png": "[encoded data removed]",
      "text/plain": [
       "<Figure size 432x288 with 1 Axes>"
      ]
     },
     "metadata": {
      "needs_background": "light"
     },
     "output_type": "display_data"
    }
   ],
   "source": [
    "df.clarity.value_counts().plot(kind='bar')"
   ]
  },
  {
   "cell_type": "code",
   "execution_count": 120,
   "id": "b4a9af20-8828-43bc-b597-470abf884d52",
   "metadata": {},
   "outputs": [],
   "source": [
    "# Recode into dummy variables-Drops IF as first\n",
    "clarity_dummies = pd.get_dummies(df['clarity'], drop_first=True)"
   ]
  },
  {
   "cell_type": "code",
   "execution_count": 121,
   "id": "f409ba3e-f7d8-438d-be82-475842639e4f",
   "metadata": {},
   "outputs": [
    {
     "data": {
      "text/html": [
       "<div>\n",
       "<style scoped>\n",
       "    .dataframe tbody tr th:only-of-type {\n",
       "        vertical-align: middle;\n",
       "    }\n",
       "\n",
       "    .dataframe tbody tr th {\n",
       "        vertical-align: top;\n",
       "    }\n",
       "\n",
       "    .dataframe thead th {\n",
       "        text-align: right;\n",
       "    }\n",
       "</style>\n",
       "<table border=\"1\" class=\"dataframe\">\n",
       "  <thead>\n",
       "    <tr style=\"text-align: right;\">\n",
       "      <th></th>\n",
       "      <th>VVS1</th>\n",
       "      <th>VVS2</th>\n",
       "      <th>VS1</th>\n",
       "      <th>VS2</th>\n",
       "      <th>SI1</th>\n",
       "      <th>SI2</th>\n",
       "      <th>I1</th>\n",
       "    </tr>\n",
       "  </thead>\n",
       "  <tbody>\n",
       "    <tr>\n",
       "      <th>0</th>\n",
       "      <td>0</td>\n",
       "      <td>0</td>\n",
       "      <td>0</td>\n",
       "      <td>0</td>\n",
       "      <td>0</td>\n",
       "      <td>1</td>\n",
       "      <td>0</td>\n",
       "    </tr>\n",
       "    <tr>\n",
       "      <th>1</th>\n",
       "      <td>0</td>\n",
       "      <td>0</td>\n",
       "      <td>0</td>\n",
       "      <td>0</td>\n",
       "      <td>1</td>\n",
       "      <td>0</td>\n",
       "      <td>0</td>\n",
       "    </tr>\n",
       "    <tr>\n",
       "      <th>2</th>\n",
       "      <td>0</td>\n",
       "      <td>0</td>\n",
       "      <td>1</td>\n",
       "      <td>0</td>\n",
       "      <td>0</td>\n",
       "      <td>0</td>\n",
       "      <td>0</td>\n",
       "    </tr>\n",
       "    <tr>\n",
       "      <th>3</th>\n",
       "      <td>0</td>\n",
       "      <td>0</td>\n",
       "      <td>0</td>\n",
       "      <td>1</td>\n",
       "      <td>0</td>\n",
       "      <td>0</td>\n",
       "      <td>0</td>\n",
       "    </tr>\n",
       "    <tr>\n",
       "      <th>4</th>\n",
       "      <td>0</td>\n",
       "      <td>0</td>\n",
       "      <td>0</td>\n",
       "      <td>0</td>\n",
       "      <td>0</td>\n",
       "      <td>1</td>\n",
       "      <td>0</td>\n",
       "    </tr>\n",
       "  </tbody>\n",
       "</table>\n",
       "</div>"
      ],
      "text/plain": [
       "   VVS1  VVS2  VS1  VS2  SI1  SI2  I1\n",
       "0     0     0    0    0    0    1   0\n",
       "1     0     0    0    0    1    0   0\n",
       "2     0     0    1    0    0    0   0\n",
       "3     0     0    0    1    0    0   0\n",
       "4     0     0    0    0    0    1   0"
      ]
     },
     "execution_count": 121,
     "metadata": {},
     "output_type": "execute_result"
    }
   ],
   "source": [
    "clarity_dummies.head()"
   ]
  },
  {
   "cell_type": "code",
   "execution_count": 122,
   "id": "45f006bb-1f49-4977-946c-93e10bf2c516",
   "metadata": {},
   "outputs": [],
   "source": [
    "df = pd.concat([df, clarity_dummies],axis=1)"
   ]
  },
  {
   "cell_type": "code",
   "execution_count": 123,
   "id": "89c8fdd9-e0b2-4390-9795-4255b695983d",
   "metadata": {},
   "outputs": [
    {
     "data": {
      "text/html": [
       "<div>\n",
       "<style scoped>\n",
       "    .dataframe tbody tr th:only-of-type {\n",
       "        vertical-align: middle;\n",
       "    }\n",
       "\n",
       "    .dataframe tbody tr th {\n",
       "        vertical-align: top;\n",
       "    }\n",
       "\n",
       "    .dataframe thead th {\n",
       "        text-align: right;\n",
       "    }\n",
       "</style>\n",
       "<table border=\"1\" class=\"dataframe\">\n",
       "  <thead>\n",
       "    <tr style=\"text-align: right;\">\n",
       "      <th></th>\n",
       "      <th>carat</th>\n",
       "      <th>cut</th>\n",
       "      <th>color</th>\n",
       "      <th>clarity</th>\n",
       "      <th>depth</th>\n",
       "      <th>table</th>\n",
       "      <th>price</th>\n",
       "      <th>x</th>\n",
       "      <th>y</th>\n",
       "      <th>z</th>\n",
       "      <th>cutR</th>\n",
       "      <th>colorR</th>\n",
       "      <th>VVS1</th>\n",
       "      <th>VVS2</th>\n",
       "      <th>VS1</th>\n",
       "      <th>VS2</th>\n",
       "      <th>SI1</th>\n",
       "      <th>SI2</th>\n",
       "      <th>I1</th>\n",
       "    </tr>\n",
       "  </thead>\n",
       "  <tbody>\n",
       "    <tr>\n",
       "      <th>0</th>\n",
       "      <td>0.23</td>\n",
       "      <td>Ideal</td>\n",
       "      <td>E</td>\n",
       "      <td>SI2</td>\n",
       "      <td>61.5</td>\n",
       "      <td>55.0</td>\n",
       "      <td>326</td>\n",
       "      <td>3.95</td>\n",
       "      <td>3.98</td>\n",
       "      <td>2.43</td>\n",
       "      <td>4</td>\n",
       "      <td>1</td>\n",
       "      <td>0</td>\n",
       "      <td>0</td>\n",
       "      <td>0</td>\n",
       "      <td>0</td>\n",
       "      <td>0</td>\n",
       "      <td>1</td>\n",
       "      <td>0</td>\n",
       "    </tr>\n",
       "    <tr>\n",
       "      <th>1</th>\n",
       "      <td>0.21</td>\n",
       "      <td>Premium</td>\n",
       "      <td>E</td>\n",
       "      <td>SI1</td>\n",
       "      <td>59.8</td>\n",
       "      <td>61.0</td>\n",
       "      <td>326</td>\n",
       "      <td>3.89</td>\n",
       "      <td>3.84</td>\n",
       "      <td>2.31</td>\n",
       "      <td>3</td>\n",
       "      <td>1</td>\n",
       "      <td>0</td>\n",
       "      <td>0</td>\n",
       "      <td>0</td>\n",
       "      <td>0</td>\n",
       "      <td>1</td>\n",
       "      <td>0</td>\n",
       "      <td>0</td>\n",
       "    </tr>\n",
       "    <tr>\n",
       "      <th>2</th>\n",
       "      <td>0.23</td>\n",
       "      <td>Good</td>\n",
       "      <td>E</td>\n",
       "      <td>VS1</td>\n",
       "      <td>56.9</td>\n",
       "      <td>65.0</td>\n",
       "      <td>327</td>\n",
       "      <td>4.05</td>\n",
       "      <td>4.07</td>\n",
       "      <td>2.31</td>\n",
       "      <td>1</td>\n",
       "      <td>1</td>\n",
       "      <td>0</td>\n",
       "      <td>0</td>\n",
       "      <td>1</td>\n",
       "      <td>0</td>\n",
       "      <td>0</td>\n",
       "      <td>0</td>\n",
       "      <td>0</td>\n",
       "    </tr>\n",
       "    <tr>\n",
       "      <th>3</th>\n",
       "      <td>0.29</td>\n",
       "      <td>Premium</td>\n",
       "      <td>I</td>\n",
       "      <td>VS2</td>\n",
       "      <td>62.4</td>\n",
       "      <td>58.0</td>\n",
       "      <td>334</td>\n",
       "      <td>4.20</td>\n",
       "      <td>4.23</td>\n",
       "      <td>2.63</td>\n",
       "      <td>3</td>\n",
       "      <td>5</td>\n",
       "      <td>0</td>\n",
       "      <td>0</td>\n",
       "      <td>0</td>\n",
       "      <td>1</td>\n",
       "      <td>0</td>\n",
       "      <td>0</td>\n",
       "      <td>0</td>\n",
       "    </tr>\n",
       "    <tr>\n",
       "      <th>4</th>\n",
       "      <td>0.31</td>\n",
       "      <td>Good</td>\n",
       "      <td>J</td>\n",
       "      <td>SI2</td>\n",
       "      <td>63.3</td>\n",
       "      <td>58.0</td>\n",
       "      <td>335</td>\n",
       "      <td>4.34</td>\n",
       "      <td>4.35</td>\n",
       "      <td>2.75</td>\n",
       "      <td>1</td>\n",
       "      <td>6</td>\n",
       "      <td>0</td>\n",
       "      <td>0</td>\n",
       "      <td>0</td>\n",
       "      <td>0</td>\n",
       "      <td>0</td>\n",
       "      <td>1</td>\n",
       "      <td>0</td>\n",
       "    </tr>\n",
       "  </tbody>\n",
       "</table>\n",
       "</div>"
      ],
      "text/plain": [
       "   carat      cut color clarity  depth  table  price     x     y     z cutR  \\\n",
       "0   0.23    Ideal     E     SI2   61.5   55.0    326  3.95  3.98  2.43    4   \n",
       "1   0.21  Premium     E     SI1   59.8   61.0    326  3.89  3.84  2.31    3   \n",
       "2   0.23     Good     E     VS1   56.9   65.0    327  4.05  4.07  2.31    1   \n",
       "3   0.29  Premium     I     VS2   62.4   58.0    334  4.20  4.23  2.63    3   \n",
       "4   0.31     Good     J     SI2   63.3   58.0    335  4.34  4.35  2.75    1   \n",
       "\n",
       "  colorR  VVS1  VVS2  VS1  VS2  SI1  SI2  I1  \n",
       "0      1     0     0    0    0    0    1   0  \n",
       "1      1     0     0    0    0    1    0   0  \n",
       "2      1     0     0    1    0    0    0   0  \n",
       "3      5     0     0    0    1    0    0   0  \n",
       "4      6     0     0    0    0    0    1   0  "
      ]
     },
     "execution_count": 123,
     "metadata": {},
     "output_type": "execute_result"
    }
   ],
   "source": [
    "df.head()"
   ]
  },
  {
   "cell_type": "markdown",
   "id": "239243a4-0e3f-4061-9a0b-d988b868b962",
   "metadata": {},
   "source": [
    "### Select X and y, train-test split data"
   ]
  },
  {
   "cell_type": "code",
   "execution_count": 124,
   "id": "08343b77-cf35-4136-9902-b20fa5d4d345",
   "metadata": {},
   "outputs": [
    {
     "data": {
      "text/plain": [
       "Index(['carat', 'cut', 'color', 'clarity', 'depth', 'table', 'price', 'x', 'y',\n",
       "       'z', 'cutR', 'colorR', 'VVS1', 'VVS2', 'VS1', 'VS2', 'SI1', 'SI2',\n",
       "       'I1'],\n",
       "      dtype='object')"
      ]
     },
     "execution_count": 124,
     "metadata": {},
     "output_type": "execute_result"
    }
   ],
   "source": [
    "df.columns"
   ]
  },
  {
   "cell_type": "code",
   "execution_count": 125,
   "id": "90c751f3-861f-4ce0-89fd-4c7c7c71c114",
   "metadata": {},
   "outputs": [],
   "source": [
    "X = df[['depth', 'table', 'price', 'x', 'y', 'z', 'cutR', 'colorR', 'VVS1', 'VVS2', 'VS1', 'VS2', 'SI1', 'SI2', 'I1']]"
   ]
  },
  {
   "cell_type": "code",
   "execution_count": 126,
   "id": "9a96db59-ce07-453e-b8f2-582c47b20e85",
   "metadata": {},
   "outputs": [],
   "source": [
    "y = df['carat']"
   ]
  },
  {
   "cell_type": "code",
   "execution_count": 127,
   "id": "b117f5e2-ce9d-4e42-8f7e-4553fb854a55",
   "metadata": {},
   "outputs": [],
   "source": [
    "from sklearn.model_selection import train_test_split"
   ]
  },
  {
   "cell_type": "code",
   "execution_count": 128,
   "id": "c9fb315a-b901-4a01-b050-c214c6715b39",
   "metadata": {},
   "outputs": [],
   "source": [
    "X_train, X_test, y_train, y_test = train_test_split(X, y, test_size=0.2, random_state=42)"
   ]
  },
  {
   "cell_type": "code",
   "execution_count": 129,
   "id": "cd8dce8e-b775-4aa9-b677-749ab8db462e",
   "metadata": {},
   "outputs": [],
   "source": [
    "from sklearn.ensemble import RandomForestRegressor"
   ]
  },
  {
   "cell_type": "code",
   "execution_count": 130,
   "id": "d745d7c8-e5cc-4143-a830-da0ea27b9b3a",
   "metadata": {},
   "outputs": [],
   "source": [
    "rfr = RandomForestRegressor()"
   ]
  },
  {
   "cell_type": "code",
   "execution_count": 131,
   "id": "8456f47f-b38a-4b29-919f-61d6addadde8",
   "metadata": {},
   "outputs": [
    {
     "data": {
      "text/plain": [
       "RandomForestRegressor()"
      ]
     },
     "execution_count": 131,
     "metadata": {},
     "output_type": "execute_result"
    }
   ],
   "source": [
    "rfr.fit(X_train, y_train)"
   ]
  },
  {
   "cell_type": "markdown",
   "id": "765ec617-6343-4eba-99fc-d801f6499e7d",
   "metadata": {},
   "source": [
    "## Predict and Compute Model Metrics"
   ]
  },
  {
   "cell_type": "code",
   "execution_count": 132,
   "id": "ba2a6b4b-67cf-42ab-8709-fd44d7ae6f9a",
   "metadata": {},
   "outputs": [],
   "source": [
    "y_pred = rfr.predict(X_test)"
   ]
  },
  {
   "cell_type": "code",
   "execution_count": 133,
   "id": "00140823-2bbf-4d33-8b66-7483977cfffe",
   "metadata": {},
   "outputs": [
    {
     "data": {
      "text/plain": [
       "<AxesSubplot:xlabel='carat'>"
      ]
     },
     "execution_count": 133,
     "metadata": {},
     "output_type": "execute_result"
    },
    {
     "data": {
      "image/png": "[encoded data removed]",
      "text/plain": [
       "<Figure size 432x288 with 1 Axes>"
      ]
     },
     "metadata": {
      "needs_background": "light"
     },
     "output_type": "display_data"
    }
   ],
   "source": [
    "sns.scatterplot(y_test, y_pred)"
   ]
  },
  {
   "cell_type": "code",
   "execution_count": 134,
   "id": "c0df93f5-e609-4ff0-ae6a-249971f7b340",
   "metadata": {},
   "outputs": [],
   "source": [
    "from sklearn.metrics import r2_score"
   ]
  },
  {
   "cell_type": "code",
   "execution_count": 135,
   "id": "438e9cab-327d-4b26-ad1f-38107b9bc4a1",
   "metadata": {},
   "outputs": [
    {
     "data": {
      "text/plain": [
       "0.9991379924728578"
      ]
     },
     "execution_count": 135,
     "metadata": {},
     "output_type": "execute_result"
    }
   ],
   "source": [
    "r2_score(y_test, y_pred)"
   ]
  },
  {
   "cell_type": "code",
   "execution_count": 136,
   "id": "a91fd216-878b-4efa-9cf1-6081f15354a6",
   "metadata": {},
   "outputs": [],
   "source": [
    "feat_import = pd.DataFrame()\n",
    "feat_import['Values'] = rfr.feature_importances_\n",
    "feat_import.index = rfr.feature_names_in_"
   ]
  },
  {
   "cell_type": "code",
   "execution_count": 137,
   "id": "3534e76d-385b-44c8-9b01-accb3506f257",
   "metadata": {},
   "outputs": [
    {
     "data": {
      "text/plain": [
       "<AxesSubplot:>"
      ]
     },
     "execution_count": 137,
     "metadata": {},
     "output_type": "execute_result"
    },
    {
     "data": {
      "image/png": "[encoded data removed]",
      "text/plain": [
       "<Figure size 432x288 with 1 Axes>"
      ]
     },
     "metadata": {
      "needs_background": "light"
     },
     "output_type": "display_data"
    }
   ],
   "source": [
    "feat_import.plot(kind='bar')"
   ]
  },
  {
   "cell_type": "markdown",
   "id": "bcf10b18-89ed-4323-bae0-7f0dd0a68e14",
   "metadata": {},
   "source": [
    "### Explain Results and Analysis"
   ]
  },
  {
   "cell_type": "markdown",
   "id": "43f5158c-bb88-437a-a86e-476393079db5",
   "metadata": {},
   "source": [
    "This analysis used a random forest regressor to predict diamond carat ratings based on 'depth', 'table', 'price', 'x', 'y', 'z', 'cutR', 'colorR', and clarity recoded into dummy variables. \n",
    "\n",
    "The model fit well with the data as observed in the scatterplot comparing predicted to actual carat values. The r2 score for the test data was .99. Overall this project shows promise for predicting diamond carat values from its other features.\n",
    "\n",
    "The most important feature in prediction was `x` as shown in the feature importances plot. "
   ]
  },
  {
   "cell_type": "markdown",
   "id": "6fe18272-c8c5-4880-9bb0-cf9bcd9b2851",
   "metadata": {},
   "source": [
    "## Clasification Example\n",
    "\n",
    "Predict cut based on other features"
   ]
  },
  {
   "cell_type": "code",
   "execution_count": 76,
   "id": "b5b9eae5-45c9-4777-9fbc-aaddbada5766",
   "metadata": {},
   "outputs": [
    {
     "data": {
      "text/plain": [
       "Index(['carat', 'cut', 'color', 'clarity', 'depth', 'table', 'price', 'x', 'y',\n",
       "       'z', 'cutR', 'colorR', 'clarityR', 'VVS1', 'VVS2', 'VS1', 'VS2', 'SI1',\n",
       "       'SI2', 'I1'],\n",
       "      dtype='object')"
      ]
     },
     "execution_count": 76,
     "metadata": {},
     "output_type": "execute_result"
    }
   ],
   "source": [
    "df.columns"
   ]
  },
  {
   "cell_type": "code",
   "execution_count": 77,
   "id": "28d4f127-28ac-4099-a049-25e8d5fd6cad",
   "metadata": {},
   "outputs": [],
   "source": [
    "X2 = df[['carat', 'depth', 'table', 'price', 'x', 'y', 'z', 'colorR', 'VVS1', 'VVS2', 'VS1', 'VS2', 'SI1', 'SI2', 'I1']]"
   ]
  },
  {
   "cell_type": "code",
   "execution_count": 78,
   "id": "17acc4cc-2da3-4b67-a619-4d385a843850",
   "metadata": {},
   "outputs": [],
   "source": [
    "y2 = df['cut']"
   ]
  },
  {
   "cell_type": "code",
   "execution_count": 79,
   "id": "76e4c234-80ca-40cf-b762-20f5c38b6ea0",
   "metadata": {},
   "outputs": [],
   "source": [
    "X_train2, X_test2, y_train2, y_test2 = train_test_split(X2, y2, test_size=0.2, random_state=42)"
   ]
  },
  {
   "cell_type": "code",
   "execution_count": 80,
   "id": "b1b3daf7-d40d-4790-99af-6d098e7cc19c",
   "metadata": {},
   "outputs": [],
   "source": [
    "from sklearn.ensemble import RandomForestClassifier"
   ]
  },
  {
   "cell_type": "code",
   "execution_count": 81,
   "id": "d4dd72c3-8491-4690-bd02-03d94d61db17",
   "metadata": {},
   "outputs": [],
   "source": [
    "rfc = RandomForestClassifier()"
   ]
  },
  {
   "cell_type": "code",
   "execution_count": 82,
   "id": "4c21cbfe-d8f8-45ee-a1e9-ad0f3dfff2c2",
   "metadata": {},
   "outputs": [
    {
     "data": {
      "text/plain": [
       "RandomForestClassifier()"
      ]
     },
     "execution_count": 82,
     "metadata": {},
     "output_type": "execute_result"
    }
   ],
   "source": [
    "rfc.fit(X_train2, y_train2)"
   ]
  },
  {
   "cell_type": "code",
   "execution_count": 83,
   "id": "c14cb686-ec7d-45d1-81b8-576763c4dbc8",
   "metadata": {},
   "outputs": [],
   "source": [
    "y_preds2 = rfc.predict(X_test2)"
   ]
  },
  {
   "cell_type": "code",
   "execution_count": 84,
   "id": "6ab2455a-8932-4ec9-8396-13035ad10ace",
   "metadata": {},
   "outputs": [],
   "source": [
    "from sklearn.metrics import plot_confusion_matrix"
   ]
  },
  {
   "cell_type": "code",
   "execution_count": 85,
   "id": "e826a9f5-d497-4499-8c8b-ccbe9519f18c",
   "metadata": {},
   "outputs": [
    {
     "name": "stderr",
     "output_type": "stream",
     "text": [
      "/usr/local/lib/python3.9/site-packages/sklearn/utils/deprecation.py:87: FutureWarning: Function plot_confusion_matrix is deprecated; Function `plot_confusion_matrix` is deprecated in 1.0 and will be removed in 1.2. Use one of the class methods: ConfusionMatrixDisplay.from_predictions or ConfusionMatrixDisplay.from_estimator.\n",
      "  warnings.warn(msg, category=FutureWarning)\n"
     ]
    },
    {
     "data": {
      "text/plain": [
       "<sklearn.metrics._plot.confusion_matrix.ConfusionMatrixDisplay at 0x142c06cd0>"
      ]
     },
     "execution_count": 85,
     "metadata": {},
     "output_type": "execute_result"
    },
    {
     "data": {
      "image/png": "[encoded data removed]",
      "text/plain": [
       "<Figure size 432x288 with 2 Axes>"
      ]
     },
     "metadata": {
      "needs_background": "light"
     },
     "output_type": "display_data"
    }
   ],
   "source": [
    "plot_confusion_matrix(rfc, X_test2, y_test2, cmap='Blues')"
   ]
  },
  {
   "cell_type": "code",
   "execution_count": 86,
   "id": "44e8578d-95ac-4dfd-b622-03b22ba9626c",
   "metadata": {},
   "outputs": [],
   "source": [
    "from sklearn.metrics import classification_report"
   ]
  },
  {
   "cell_type": "code",
   "execution_count": 87,
   "id": "4ef19643-9cbd-439e-8e5b-18a41ff9e04b",
   "metadata": {},
   "outputs": [],
   "source": [
    "report = classification_report(y_test2, y_preds2)"
   ]
  },
  {
   "cell_type": "code",
   "execution_count": 88,
   "id": "0a2fb2e4-cc46-453c-b5d2-5704f7312ac2",
   "metadata": {},
   "outputs": [
    {
     "name": "stdout",
     "output_type": "stream",
     "text": [
      "              precision    recall  f1-score   support\n",
      "\n",
      "        Fair       0.92      0.87      0.90       335\n",
      "        Good       0.77      0.69      0.73      1004\n",
      "       Ideal       0.82      0.92      0.87      4292\n",
      "     Premium       0.75      0.82      0.78      2775\n",
      "   Very Good       0.67      0.48      0.56      2382\n",
      "\n",
      "    accuracy                           0.77     10788\n",
      "   macro avg       0.79      0.76      0.77     10788\n",
      "weighted avg       0.77      0.77      0.77     10788\n",
      "\n"
     ]
    }
   ],
   "source": [
    "print(report)"
   ]
  },
  {
   "cell_type": "markdown",
   "id": "0385876f-d543-4ac0-bca6-a54cd4188a9d",
   "metadata": {},
   "source": [
    "### Feature Importances"
   ]
  },
  {
   "cell_type": "code",
   "execution_count": 89,
   "id": "f76793f8-e117-4849-982b-7f2a0e45a9be",
   "metadata": {},
   "outputs": [
    {
     "data": {
      "text/plain": [
       "array([0.05611703, 0.21263798, 0.26165033, 0.10076486, 0.10776924,\n",
       "       0.10137457, 0.08067721, 0.03811378, 0.00402711, 0.00528861,\n",
       "       0.00730384, 0.00790103, 0.00829499, 0.00617402, 0.00190542])"
      ]
     },
     "execution_count": 89,
     "metadata": {},
     "output_type": "execute_result"
    }
   ],
   "source": [
    "rfc.feature_importances_"
   ]
  },
  {
   "cell_type": "code",
   "execution_count": 90,
   "id": "32d980eb-b11c-4377-8fdd-358b2ee7a9ea",
   "metadata": {},
   "outputs": [
    {
     "data": {
      "text/plain": [
       "array(['carat', 'depth', 'table', 'price', 'x', 'y', 'z', 'colorR',\n",
       "       'VVS1', 'VVS2', 'VS1', 'VS2', 'SI1', 'SI2', 'I1'], dtype=object)"
      ]
     },
     "execution_count": 90,
     "metadata": {},
     "output_type": "execute_result"
    }
   ],
   "source": [
    "rfc.feature_names_in_"
   ]
  },
  {
   "cell_type": "code",
   "execution_count": 95,
   "id": "d8d462a2-aac1-4324-865f-3fba0bed7271",
   "metadata": {},
   "outputs": [
    {
     "data": {
      "text/plain": [
       "[Text(0, 0, 'carat'),\n",
       " Text(1, 0, 'depth'),\n",
       " Text(2, 0, 'table'),\n",
       " Text(3, 0, 'price'),\n",
       " Text(4, 0, 'x'),\n",
       " Text(5, 0, 'y'),\n",
       " Text(6, 0, 'z'),\n",
       " Text(7, 0, 'colorR'),\n",
       " Text(8, 0, 'VVS1'),\n",
       " Text(9, 0, 'VVS2'),\n",
       " Text(10, 0, 'VS1'),\n",
       " Text(11, 0, 'VS2'),\n",
       " Text(12, 0, 'SI1'),\n",
       " Text(13, 0, 'SI2'),\n",
       " Text(14, 0, 'I1')]"
      ]
     },
     "execution_count": 95,
     "metadata": {},
     "output_type": "execute_result"
    },
    {
     "data": {
      "image/png": "[encoded data removed]",
      "text/plain": [
       "<Figure size 432x288 with 1 Axes>"
      ]
     },
     "metadata": {
      "needs_background": "light"
     },
     "output_type": "display_data"
    }
   ],
   "source": [
    "g =sns.barplot(x=rfc.feature_names_in_, y=rfc.feature_importances_)\n",
    "g.set_xticklabels(g.get_xticklabels(), rotation=45)"
   ]
  },
  {
   "cell_type": "markdown",
   "id": "5dc2613b-1bb3-42ab-b3a2-744cb51bad10",
   "metadata": {},
   "source": [
    "## Explain your analysis and results!"
   ]
  },
  {
   "cell_type": "markdown",
   "id": "1cdcd7ff-3b4e-4a1d-af43-71b993cb275d",
   "metadata": {},
   "source": [
    "This project predicted diamond cut from 'carat', 'depth', 'table', 'price', 'x', 'y', 'z', 'colorR', and clarity recoded into dummy variables. \n",
    "\n",
    "The accuracy for the test data was 79%. The feature importances show that table was the most important predictor, followed by depth. \n",
    "\n",
    "Overall results suggest that all features are useful in determining diamond cut."
   ]
  },
  {
   "cell_type": "code",
   "execution_count": null,
   "id": "8239d8a2-8eec-45eb-94fb-ffc556aefe37",
   "metadata": {},
   "outputs": [],
   "source": []
  }
 ],
 "metadata": {
  "kernelspec": {
   "display_name": "Python 3 (ipykernel)",
   "language": "python",
   "name": "python3"
  },
  "language_info": {
   "codemirror_mode": {
    "name": "ipython",
    "version": 3
   },
   "file_extension": ".py",
   "mimetype": "text/x-python",
   "name": "python",
   "nbconvert_exporter": "python",
   "pygments_lexer": "ipython3",
   "version": "3.9.9"
  }
 },
 "nbformat": 4,
 "nbformat_minor": 5
}
