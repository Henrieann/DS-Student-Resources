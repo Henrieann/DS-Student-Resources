{
 "cells": [
  {
   "cell_type": "markdown",
   "id": "00e98330-5dc4-42fc-a507-88755b41d955",
   "metadata": {},
   "source": [
    "## DS103 Metrics and Data Processing Lesson 5 Hands On"
   ]
  },
  {
   "cell_type": "code",
   "execution_count": 2,
   "id": "cb189010-076e-44a2-bcbd-35243d9a7f4d",
   "metadata": {},
   "outputs": [
    {
     "name": "stdout",
     "output_type": "stream",
     "text": [
      "\n",
      "The downloaded binary packages are in\n",
      "\t/var/folders/wk/6why77bn1kn0l0pkd4vd3zl00000gn/T//RtmpsAPKGI/downloaded_packages\n"
     ]
    }
   ],
   "source": [
    "install.packages(\"vembedr\")"
   ]
  },
  {
   "cell_type": "code",
   "execution_count": 3,
   "id": "c2fc744c-d850-46c9-afdf-7a3b8f2857f9",
   "metadata": {},
   "outputs": [],
   "source": [
    "library(vembedr)"
   ]
  },
  {
   "cell_type": "code",
   "execution_count": 4,
   "id": "63671b00-37cd-4388-a240-d1d1a2446cb5",
   "metadata": {},
   "outputs": [
    {
     "data": {
      "text/html": [
       "<!doctype html>\n",
       "<html>\n",
       "\t<head>\n",
       "\t\t<meta charset=\"utf-8\">\n",
       "\t\t<link href=\"data:text/css;charset-utf-8;base64,LnZlbWJlZHIgewogIG1hcmdpbi1ib3R0b206IDEwcHg7Cn0KCi52ZW1iZWRyLXJvdW5kZWQgewogIGRpc3BsYXk6IGlubGluZS1ibG9jazsKICBib3JkZXItcmFkaXVzOiAxNXB4OwogIG92ZXJmbG93OiBoaWRkZW47Cn0KCi52ZW1iZWRyLXJvdW5kZWQgaWZyYW1lIHsKICBkaXNwbGF5OiBibG9jazsKICBib3JkZXI6IG5vbmU7Cn0K\" rel=\"stylesheet\" />\n",
       "\t</head>\n",
       "\t<body>\n",
       "\t\t<div class=\"vembedr\">\n",
       "  <div>\n",
       "    <iframe class=\"vimeo-embed\" src=\"https://player.vimeo.com/video/636544198\" width=\"533\" height=\"300\" frameborder=\"0\" webkitallowfullscreen=\"\" mozallowfullscreen=\"\" allowfullscreen=\"\"></iframe>\n",
       "  </div>\n",
       "</div>\n",
       "\t</body>\n",
       "</html>\n"
      ],
      "text/plain": [
       "Shiny tags cannot be represented in plain text (need html)"
      ]
     },
     "metadata": {
      "text/html": {
       "isolated": true
      }
     },
     "output_type": "display_data"
    }
   ],
   "source": [
    "embed_vimeo(\"636544198\")"
   ]
  },
  {
   "cell_type": "markdown",
   "id": "574f5977-6977-4e89-9f1c-6f71f8ef23b3",
   "metadata": {},
   "source": [
    "https://vimeo.com/636544198"
   ]
  },
  {
   "cell_type": "code",
   "execution_count": 1,
   "id": "e87a32e5-bf8f-42a6-8f98-0ed1a5116058",
   "metadata": {},
   "outputs": [],
   "source": [
    "## load libraries\n",
    "library(\"corpcor\")\n",
    "library(\"GPArotation\")\n",
    "library(\"psych\")\n",
    "library(\"IDPmisc\")"
   ]
  },
  {
   "cell_type": "code",
   "execution_count": 2,
   "id": "d289a94a-a3e0-4131-bd47-dda17b9080d5",
   "metadata": {},
   "outputs": [],
   "source": [
    "## load data\n",
    "data = read.csv('../../../Data/studentSurvey.csv')"
   ]
  },
  {
   "cell_type": "code",
   "execution_count": 3,
   "id": "e8dce376-e1d5-4474-8e34-b6ffa320d335",
   "metadata": {},
   "outputs": [
    {
     "data": {
      "text/html": [
       "<table class=\"dataframe\">\n",
       "<caption>A data.frame: 6 × 87</caption>\n",
       "<thead>\n",
       "\t<tr><th></th><th scope=col>Timestamp</th><th scope=col>Gender</th><th scope=col>Faculty</th><th scope=col>Engineering.Program</th><th scope=col>Law.Program</th><th scope=col>Business.Program</th><th scope=col>Arts.Program</th><th scope=col>Other.Program</th><th scope=col>Bachelor..Academic.Year.in.EU</th><th scope=col>Masters.Academic.Year.in.EU</th><th scope=col>...</th><th scope=col>Q3</th><th scope=col>Q4</th><th scope=col>Q5</th><th scope=col>Q6..What.are.the.best.aspects.of.the.program..</th><th scope=col>Q7..In.your.opinion.the.best.aspect.of.the.program.is</th><th scope=col>Q8..In.your.opinion.the.next.best.aspect.of.the.program.is</th><th scope=col>What.aspects.of.the.program.could.be.improved.</th><th scope=col>Do.you.feel.that.the.quality.of.education.improved.at.EU.over.the.last.year.</th><th scope=col>Do.you.feel.that.the.image.of.the.University.improved.over.the.last.year.</th><th scope=col>Username</th></tr>\n",
       "\t<tr><th></th><th scope=col>&lt;chr&gt;</th><th scope=col>&lt;chr&gt;</th><th scope=col>&lt;chr&gt;</th><th scope=col>&lt;lgl&gt;</th><th scope=col>&lt;chr&gt;</th><th scope=col>&lt;chr&gt;</th><th scope=col>&lt;chr&gt;</th><th scope=col>&lt;lgl&gt;</th><th scope=col>&lt;chr&gt;</th><th scope=col>&lt;chr&gt;</th><th scope=col>...</th><th scope=col>&lt;int&gt;</th><th scope=col>&lt;int&gt;</th><th scope=col>&lt;int&gt;</th><th scope=col>&lt;int&gt;</th><th scope=col>&lt;chr&gt;</th><th scope=col>&lt;chr&gt;</th><th scope=col>&lt;chr&gt;</th><th scope=col>&lt;chr&gt;</th><th scope=col>&lt;chr&gt;</th><th scope=col>&lt;lgl&gt;</th></tr>\n",
       "</thead>\n",
       "<tbody>\n",
       "\t<tr><th scope=row>1</th><td>1/25/2016 14:37</td><td>Male  </td><td>Arts</td><td>NA</td><td></td><td></td><td>B.A. in English</td><td>NA</td><td>3rd Year</td><td></td><td>...</td><td>4</td><td>4</td><td>5</td><td>5</td><td>Teaching/Learning</td><td>Teaching/Learning           </td><td>Teaching/Learning           </td><td>Yes</td><td>Yes</td><td>NA</td></tr>\n",
       "\t<tr><th scope=row>2</th><td>1/25/2016 14:38</td><td>Female</td><td>Arts</td><td>NA</td><td></td><td></td><td>B.A. in English</td><td>NA</td><td>4th Year</td><td></td><td>...</td><td>4</td><td>4</td><td>5</td><td>5</td><td>Faculty          </td><td>Faculty                     </td><td>Teaching/Learning           </td><td>Yes</td><td>Yes</td><td>NA</td></tr>\n",
       "\t<tr><th scope=row>3</th><td>1/25/2016 14:40</td><td>Male  </td><td>Arts</td><td>NA</td><td></td><td></td><td>B.A. in English</td><td>NA</td><td>3rd Year</td><td></td><td>...</td><td>4</td><td>4</td><td>5</td><td>3</td><td>Teaching/Learning</td><td>Teaching/Learning           </td><td>Faculty                     </td><td>Yes</td><td>Yes</td><td>NA</td></tr>\n",
       "\t<tr><th scope=row>4</th><td>1/25/2016 14:43</td><td>Male  </td><td>Arts</td><td>NA</td><td></td><td></td><td>B.A. in English</td><td>NA</td><td>3rd Year</td><td></td><td>...</td><td>4</td><td>3</td><td>4</td><td>5</td><td>Teaching/Learning</td><td>Teaching/Learning           </td><td>Teaching/Learning           </td><td>Yes</td><td>Yes</td><td>NA</td></tr>\n",
       "\t<tr><th scope=row>5</th><td>1/25/2016 14:45</td><td>Female</td><td>Arts</td><td>NA</td><td></td><td></td><td>B.A. in English</td><td>NA</td><td>4th Year</td><td></td><td>...</td><td>4</td><td>4</td><td>3</td><td>2</td><td>Teaching/Learning</td><td>Faculty                     </td><td>Overall learning environment</td><td>Yes</td><td>Yes</td><td>NA</td></tr>\n",
       "\t<tr><th scope=row>6</th><td>1/25/2016 14:47</td><td>Female</td><td>Arts</td><td>NA</td><td></td><td></td><td>B.A. in English</td><td>NA</td><td>4th Year</td><td></td><td>...</td><td>3</td><td>4</td><td>5</td><td>5</td><td>Faculty          </td><td>Overall learning environment</td><td>Faculty                     </td><td>Yes</td><td>Yes</td><td>NA</td></tr>\n",
       "</tbody>\n",
       "</table>\n"
      ],
      "text/latex": [
       "A data.frame: 6 × 87\n",
       "\\begin{tabular}{r|lllllllllllllllllllll}\n",
       "  & Timestamp & Gender & Faculty & Engineering.Program & Law.Program & Business.Program & Arts.Program & Other.Program & Bachelor..Academic.Year.in.EU & Masters.Academic.Year.in.EU & ... & Q3 & Q4 & Q5 & Q6..What.are.the.best.aspects.of.the.program.. & Q7..In.your.opinion.the.best.aspect.of.the.program.is & Q8..In.your.opinion.the.next.best.aspect.of.the.program.is & What.aspects.of.the.program.could.be.improved. & Do.you.feel.that.the.quality.of.education.improved.at.EU.over.the.last.year. & Do.you.feel.that.the.image.of.the.University.improved.over.the.last.year. & Username\\\\\n",
       "  & <chr> & <chr> & <chr> & <lgl> & <chr> & <chr> & <chr> & <lgl> & <chr> & <chr> & ... & <int> & <int> & <int> & <int> & <chr> & <chr> & <chr> & <chr> & <chr> & <lgl>\\\\\n",
       "\\hline\n",
       "\t1 & 1/25/2016 14:37 & Male   & Arts & NA &  &  & B.A. in English & NA & 3rd Year &  & ... & 4 & 4 & 5 & 5 & Teaching/Learning & Teaching/Learning            & Teaching/Learning            & Yes & Yes & NA\\\\\n",
       "\t2 & 1/25/2016 14:38 & Female & Arts & NA &  &  & B.A. in English & NA & 4th Year &  & ... & 4 & 4 & 5 & 5 & Faculty           & Faculty                      & Teaching/Learning            & Yes & Yes & NA\\\\\n",
       "\t3 & 1/25/2016 14:40 & Male   & Arts & NA &  &  & B.A. in English & NA & 3rd Year &  & ... & 4 & 4 & 5 & 3 & Teaching/Learning & Teaching/Learning            & Faculty                      & Yes & Yes & NA\\\\\n",
       "\t4 & 1/25/2016 14:43 & Male   & Arts & NA &  &  & B.A. in English & NA & 3rd Year &  & ... & 4 & 3 & 4 & 5 & Teaching/Learning & Teaching/Learning            & Teaching/Learning            & Yes & Yes & NA\\\\\n",
       "\t5 & 1/25/2016 14:45 & Female & Arts & NA &  &  & B.A. in English & NA & 4th Year &  & ... & 4 & 4 & 3 & 2 & Teaching/Learning & Faculty                      & Overall learning environment & Yes & Yes & NA\\\\\n",
       "\t6 & 1/25/2016 14:47 & Female & Arts & NA &  &  & B.A. in English & NA & 4th Year &  & ... & 3 & 4 & 5 & 5 & Faculty           & Overall learning environment & Faculty                      & Yes & Yes & NA\\\\\n",
       "\\end{tabular}\n"
      ],
      "text/markdown": [
       "\n",
       "A data.frame: 6 × 87\n",
       "\n",
       "| <!--/--> | Timestamp &lt;chr&gt; | Gender &lt;chr&gt; | Faculty &lt;chr&gt; | Engineering.Program &lt;lgl&gt; | Law.Program &lt;chr&gt; | Business.Program &lt;chr&gt; | Arts.Program &lt;chr&gt; | Other.Program &lt;lgl&gt; | Bachelor..Academic.Year.in.EU &lt;chr&gt; | Masters.Academic.Year.in.EU &lt;chr&gt; | ... ... | Q3 &lt;int&gt; | Q4 &lt;int&gt; | Q5 &lt;int&gt; | Q6..What.are.the.best.aspects.of.the.program.. &lt;int&gt; | Q7..In.your.opinion.the.best.aspect.of.the.program.is &lt;chr&gt; | Q8..In.your.opinion.the.next.best.aspect.of.the.program.is &lt;chr&gt; | What.aspects.of.the.program.could.be.improved. &lt;chr&gt; | Do.you.feel.that.the.quality.of.education.improved.at.EU.over.the.last.year. &lt;chr&gt; | Do.you.feel.that.the.image.of.the.University.improved.over.the.last.year. &lt;chr&gt; | Username &lt;lgl&gt; |\n",
       "|---|---|---|---|---|---|---|---|---|---|---|---|---|---|---|---|---|---|---|---|---|---|\n",
       "| 1 | 1/25/2016 14:37 | Male   | Arts | NA | <!----> | <!----> | B.A. in English | NA | 3rd Year | <!----> | ... | 4 | 4 | 5 | 5 | Teaching/Learning | Teaching/Learning            | Teaching/Learning            | Yes | Yes | NA |\n",
       "| 2 | 1/25/2016 14:38 | Female | Arts | NA | <!----> | <!----> | B.A. in English | NA | 4th Year | <!----> | ... | 4 | 4 | 5 | 5 | Faculty           | Faculty                      | Teaching/Learning            | Yes | Yes | NA |\n",
       "| 3 | 1/25/2016 14:40 | Male   | Arts | NA | <!----> | <!----> | B.A. in English | NA | 3rd Year | <!----> | ... | 4 | 4 | 5 | 3 | Teaching/Learning | Teaching/Learning            | Faculty                      | Yes | Yes | NA |\n",
       "| 4 | 1/25/2016 14:43 | Male   | Arts | NA | <!----> | <!----> | B.A. in English | NA | 3rd Year | <!----> | ... | 4 | 3 | 4 | 5 | Teaching/Learning | Teaching/Learning            | Teaching/Learning            | Yes | Yes | NA |\n",
       "| 5 | 1/25/2016 14:45 | Female | Arts | NA | <!----> | <!----> | B.A. in English | NA | 4th Year | <!----> | ... | 4 | 4 | 3 | 2 | Teaching/Learning | Faculty                      | Overall learning environment | Yes | Yes | NA |\n",
       "| 6 | 1/25/2016 14:47 | Female | Arts | NA | <!----> | <!----> | B.A. in English | NA | 4th Year | <!----> | ... | 3 | 4 | 5 | 5 | Faculty           | Overall learning environment | Faculty                      | Yes | Yes | NA |\n",
       "\n"
      ],
      "text/plain": [
       "  Timestamp       Gender Faculty Engineering.Program Law.Program\n",
       "1 1/25/2016 14:37 Male   Arts    NA                             \n",
       "2 1/25/2016 14:38 Female Arts    NA                             \n",
       "3 1/25/2016 14:40 Male   Arts    NA                             \n",
       "4 1/25/2016 14:43 Male   Arts    NA                             \n",
       "5 1/25/2016 14:45 Female Arts    NA                             \n",
       "6 1/25/2016 14:47 Female Arts    NA                             \n",
       "  Business.Program Arts.Program    Other.Program Bachelor..Academic.Year.in.EU\n",
       "1                  B.A. in English NA            3rd Year                     \n",
       "2                  B.A. in English NA            4th Year                     \n",
       "3                  B.A. in English NA            3rd Year                     \n",
       "4                  B.A. in English NA            3rd Year                     \n",
       "5                  B.A. in English NA            4th Year                     \n",
       "6                  B.A. in English NA            4th Year                     \n",
       "  Masters.Academic.Year.in.EU ... Q3 Q4 Q5\n",
       "1                             ... 4  4  5 \n",
       "2                             ... 4  4  5 \n",
       "3                             ... 4  4  5 \n",
       "4                             ... 4  3  4 \n",
       "5                             ... 4  4  3 \n",
       "6                             ... 3  4  5 \n",
       "  Q6..What.are.the.best.aspects.of.the.program..\n",
       "1 5                                             \n",
       "2 5                                             \n",
       "3 3                                             \n",
       "4 5                                             \n",
       "5 2                                             \n",
       "6 5                                             \n",
       "  Q7..In.your.opinion.the.best.aspect.of.the.program.is\n",
       "1 Teaching/Learning                                    \n",
       "2 Faculty                                              \n",
       "3 Teaching/Learning                                    \n",
       "4 Teaching/Learning                                    \n",
       "5 Teaching/Learning                                    \n",
       "6 Faculty                                              \n",
       "  Q8..In.your.opinion.the.next.best.aspect.of.the.program.is\n",
       "1 Teaching/Learning                                         \n",
       "2 Faculty                                                   \n",
       "3 Teaching/Learning                                         \n",
       "4 Teaching/Learning                                         \n",
       "5 Faculty                                                   \n",
       "6 Overall learning environment                              \n",
       "  What.aspects.of.the.program.could.be.improved.\n",
       "1 Teaching/Learning                             \n",
       "2 Teaching/Learning                             \n",
       "3 Faculty                                       \n",
       "4 Teaching/Learning                             \n",
       "5 Overall learning environment                  \n",
       "6 Faculty                                       \n",
       "  Do.you.feel.that.the.quality.of.education.improved.at.EU.over.the.last.year.\n",
       "1 Yes                                                                         \n",
       "2 Yes                                                                         \n",
       "3 Yes                                                                         \n",
       "4 Yes                                                                         \n",
       "5 Yes                                                                         \n",
       "6 Yes                                                                         \n",
       "  Do.you.feel.that.the.image.of.the.University.improved.over.the.last.year.\n",
       "1 Yes                                                                      \n",
       "2 Yes                                                                      \n",
       "3 Yes                                                                      \n",
       "4 Yes                                                                      \n",
       "5 Yes                                                                      \n",
       "6 Yes                                                                      \n",
       "  Username\n",
       "1 NA      \n",
       "2 NA      \n",
       "3 NA      \n",
       "4 NA      \n",
       "5 NA      \n",
       "6 NA      "
      ]
     },
     "metadata": {},
     "output_type": "display_data"
    }
   ],
   "source": [
    "## inspect data\n",
    "head(data)"
   ]
  },
  {
   "cell_type": "code",
   "execution_count": 4,
   "id": "bfcf0e5e-a66d-4964-8ad7-02a56fece938",
   "metadata": {},
   "outputs": [],
   "source": [
    "## subset data\n",
    "dataArea = data[, 31:42]"
   ]
  },
  {
   "cell_type": "code",
   "execution_count": 13,
   "id": "81a02742-d015-411f-b0fe-7ce269e4c574",
   "metadata": {},
   "outputs": [],
   "source": [
    "## remove na\n",
    "dataArea2 = NaRV.omit(dataArea)"
   ]
  },
  {
   "cell_type": "code",
   "execution_count": 14,
   "id": "132234ce-aaa1-43ac-96b7-ecf186b966b2",
   "metadata": {},
   "outputs": [],
   "source": [
    "dataMatrix = cor(dataArea2)"
   ]
  },
  {
   "cell_type": "code",
   "execution_count": 15,
   "id": "44f0872f-c295-48a1-8175-488be4a45601",
   "metadata": {},
   "outputs": [
    {
     "data": {
      "text/html": [
       "<table class=\"dataframe\">\n",
       "<caption>A matrix: 12 × 12 of type dbl</caption>\n",
       "<thead>\n",
       "\t<tr><th></th><th scope=col>Area1</th><th scope=col>Area2</th><th scope=col>Area3</th><th scope=col>Area4</th><th scope=col>Area5</th><th scope=col>Area6</th><th scope=col>Area7</th><th scope=col>Area8</th><th scope=col>Area9</th><th scope=col>Area10</th><th scope=col>Area11</th><th scope=col>Area12</th></tr>\n",
       "</thead>\n",
       "<tbody>\n",
       "\t<tr><th scope=row>Area1</th><td>1.00</td><td>0.55</td><td>0.56</td><td>0.43</td><td>0.42</td><td>0.49</td><td>0.48</td><td>0.50</td><td>0.47</td><td>0.49</td><td>0.43</td><td>0.46</td></tr>\n",
       "\t<tr><th scope=row>Area2</th><td>0.55</td><td>1.00</td><td>0.53</td><td>0.50</td><td>0.50</td><td>0.53</td><td>0.57</td><td>0.45</td><td>0.41</td><td>0.54</td><td>0.53</td><td>0.54</td></tr>\n",
       "\t<tr><th scope=row>Area3</th><td>0.56</td><td>0.53</td><td>1.00</td><td>0.47</td><td>0.48</td><td>0.59</td><td>0.54</td><td>0.49</td><td>0.45</td><td>0.51</td><td>0.50</td><td>0.56</td></tr>\n",
       "\t<tr><th scope=row>Area4</th><td>0.43</td><td>0.50</td><td>0.47</td><td>1.00</td><td>0.54</td><td>0.50</td><td>0.47</td><td>0.43</td><td>0.35</td><td>0.45</td><td>0.46</td><td>0.53</td></tr>\n",
       "\t<tr><th scope=row>Area5</th><td>0.42</td><td>0.50</td><td>0.48</td><td>0.54</td><td>1.00</td><td>0.48</td><td>0.47</td><td>0.35</td><td>0.39</td><td>0.47</td><td>0.52</td><td>0.57</td></tr>\n",
       "\t<tr><th scope=row>Area6</th><td>0.49</td><td>0.53</td><td>0.59</td><td>0.50</td><td>0.48</td><td>1.00</td><td>0.63</td><td>0.55</td><td>0.47</td><td>0.56</td><td>0.56</td><td>0.57</td></tr>\n",
       "\t<tr><th scope=row>Area7</th><td>0.48</td><td>0.57</td><td>0.54</td><td>0.47</td><td>0.47</td><td>0.63</td><td>1.00</td><td>0.47</td><td>0.43</td><td>0.54</td><td>0.58</td><td>0.58</td></tr>\n",
       "\t<tr><th scope=row>Area8</th><td>0.50</td><td>0.45</td><td>0.49</td><td>0.43</td><td>0.35</td><td>0.55</td><td>0.47</td><td>1.00</td><td>0.41</td><td>0.43</td><td>0.41</td><td>0.51</td></tr>\n",
       "\t<tr><th scope=row>Area9</th><td>0.47</td><td>0.41</td><td>0.45</td><td>0.35</td><td>0.39</td><td>0.47</td><td>0.43</td><td>0.41</td><td>1.00</td><td>0.46</td><td>0.47</td><td>0.42</td></tr>\n",
       "\t<tr><th scope=row>Area10</th><td>0.49</td><td>0.54</td><td>0.51</td><td>0.45</td><td>0.47</td><td>0.56</td><td>0.54</td><td>0.43</td><td>0.46</td><td>1.00</td><td>0.53</td><td>0.55</td></tr>\n",
       "\t<tr><th scope=row>Area11</th><td>0.43</td><td>0.53</td><td>0.50</td><td>0.46</td><td>0.52</td><td>0.56</td><td>0.58</td><td>0.41</td><td>0.47</td><td>0.53</td><td>1.00</td><td>0.63</td></tr>\n",
       "\t<tr><th scope=row>Area12</th><td>0.46</td><td>0.54</td><td>0.56</td><td>0.53</td><td>0.57</td><td>0.57</td><td>0.58</td><td>0.51</td><td>0.42</td><td>0.55</td><td>0.63</td><td>1.00</td></tr>\n",
       "</tbody>\n",
       "</table>\n"
      ],
      "text/latex": [
       "A matrix: 12 × 12 of type dbl\n",
       "\\begin{tabular}{r|llllllllllll}\n",
       "  & Area1 & Area2 & Area3 & Area4 & Area5 & Area6 & Area7 & Area8 & Area9 & Area10 & Area11 & Area12\\\\\n",
       "\\hline\n",
       "\tArea1 & 1.00 & 0.55 & 0.56 & 0.43 & 0.42 & 0.49 & 0.48 & 0.50 & 0.47 & 0.49 & 0.43 & 0.46\\\\\n",
       "\tArea2 & 0.55 & 1.00 & 0.53 & 0.50 & 0.50 & 0.53 & 0.57 & 0.45 & 0.41 & 0.54 & 0.53 & 0.54\\\\\n",
       "\tArea3 & 0.56 & 0.53 & 1.00 & 0.47 & 0.48 & 0.59 & 0.54 & 0.49 & 0.45 & 0.51 & 0.50 & 0.56\\\\\n",
       "\tArea4 & 0.43 & 0.50 & 0.47 & 1.00 & 0.54 & 0.50 & 0.47 & 0.43 & 0.35 & 0.45 & 0.46 & 0.53\\\\\n",
       "\tArea5 & 0.42 & 0.50 & 0.48 & 0.54 & 1.00 & 0.48 & 0.47 & 0.35 & 0.39 & 0.47 & 0.52 & 0.57\\\\\n",
       "\tArea6 & 0.49 & 0.53 & 0.59 & 0.50 & 0.48 & 1.00 & 0.63 & 0.55 & 0.47 & 0.56 & 0.56 & 0.57\\\\\n",
       "\tArea7 & 0.48 & 0.57 & 0.54 & 0.47 & 0.47 & 0.63 & 1.00 & 0.47 & 0.43 & 0.54 & 0.58 & 0.58\\\\\n",
       "\tArea8 & 0.50 & 0.45 & 0.49 & 0.43 & 0.35 & 0.55 & 0.47 & 1.00 & 0.41 & 0.43 & 0.41 & 0.51\\\\\n",
       "\tArea9 & 0.47 & 0.41 & 0.45 & 0.35 & 0.39 & 0.47 & 0.43 & 0.41 & 1.00 & 0.46 & 0.47 & 0.42\\\\\n",
       "\tArea10 & 0.49 & 0.54 & 0.51 & 0.45 & 0.47 & 0.56 & 0.54 & 0.43 & 0.46 & 1.00 & 0.53 & 0.55\\\\\n",
       "\tArea11 & 0.43 & 0.53 & 0.50 & 0.46 & 0.52 & 0.56 & 0.58 & 0.41 & 0.47 & 0.53 & 1.00 & 0.63\\\\\n",
       "\tArea12 & 0.46 & 0.54 & 0.56 & 0.53 & 0.57 & 0.57 & 0.58 & 0.51 & 0.42 & 0.55 & 0.63 & 1.00\\\\\n",
       "\\end{tabular}\n"
      ],
      "text/markdown": [
       "\n",
       "A matrix: 12 × 12 of type dbl\n",
       "\n",
       "| <!--/--> | Area1 | Area2 | Area3 | Area4 | Area5 | Area6 | Area7 | Area8 | Area9 | Area10 | Area11 | Area12 |\n",
       "|---|---|---|---|---|---|---|---|---|---|---|---|---|\n",
       "| Area1 | 1.00 | 0.55 | 0.56 | 0.43 | 0.42 | 0.49 | 0.48 | 0.50 | 0.47 | 0.49 | 0.43 | 0.46 |\n",
       "| Area2 | 0.55 | 1.00 | 0.53 | 0.50 | 0.50 | 0.53 | 0.57 | 0.45 | 0.41 | 0.54 | 0.53 | 0.54 |\n",
       "| Area3 | 0.56 | 0.53 | 1.00 | 0.47 | 0.48 | 0.59 | 0.54 | 0.49 | 0.45 | 0.51 | 0.50 | 0.56 |\n",
       "| Area4 | 0.43 | 0.50 | 0.47 | 1.00 | 0.54 | 0.50 | 0.47 | 0.43 | 0.35 | 0.45 | 0.46 | 0.53 |\n",
       "| Area5 | 0.42 | 0.50 | 0.48 | 0.54 | 1.00 | 0.48 | 0.47 | 0.35 | 0.39 | 0.47 | 0.52 | 0.57 |\n",
       "| Area6 | 0.49 | 0.53 | 0.59 | 0.50 | 0.48 | 1.00 | 0.63 | 0.55 | 0.47 | 0.56 | 0.56 | 0.57 |\n",
       "| Area7 | 0.48 | 0.57 | 0.54 | 0.47 | 0.47 | 0.63 | 1.00 | 0.47 | 0.43 | 0.54 | 0.58 | 0.58 |\n",
       "| Area8 | 0.50 | 0.45 | 0.49 | 0.43 | 0.35 | 0.55 | 0.47 | 1.00 | 0.41 | 0.43 | 0.41 | 0.51 |\n",
       "| Area9 | 0.47 | 0.41 | 0.45 | 0.35 | 0.39 | 0.47 | 0.43 | 0.41 | 1.00 | 0.46 | 0.47 | 0.42 |\n",
       "| Area10 | 0.49 | 0.54 | 0.51 | 0.45 | 0.47 | 0.56 | 0.54 | 0.43 | 0.46 | 1.00 | 0.53 | 0.55 |\n",
       "| Area11 | 0.43 | 0.53 | 0.50 | 0.46 | 0.52 | 0.56 | 0.58 | 0.41 | 0.47 | 0.53 | 1.00 | 0.63 |\n",
       "| Area12 | 0.46 | 0.54 | 0.56 | 0.53 | 0.57 | 0.57 | 0.58 | 0.51 | 0.42 | 0.55 | 0.63 | 1.00 |\n",
       "\n"
      ],
      "text/plain": [
       "       Area1 Area2 Area3 Area4 Area5 Area6 Area7 Area8 Area9 Area10 Area11\n",
       "Area1  1.00  0.55  0.56  0.43  0.42  0.49  0.48  0.50  0.47  0.49   0.43  \n",
       "Area2  0.55  1.00  0.53  0.50  0.50  0.53  0.57  0.45  0.41  0.54   0.53  \n",
       "Area3  0.56  0.53  1.00  0.47  0.48  0.59  0.54  0.49  0.45  0.51   0.50  \n",
       "Area4  0.43  0.50  0.47  1.00  0.54  0.50  0.47  0.43  0.35  0.45   0.46  \n",
       "Area5  0.42  0.50  0.48  0.54  1.00  0.48  0.47  0.35  0.39  0.47   0.52  \n",
       "Area6  0.49  0.53  0.59  0.50  0.48  1.00  0.63  0.55  0.47  0.56   0.56  \n",
       "Area7  0.48  0.57  0.54  0.47  0.47  0.63  1.00  0.47  0.43  0.54   0.58  \n",
       "Area8  0.50  0.45  0.49  0.43  0.35  0.55  0.47  1.00  0.41  0.43   0.41  \n",
       "Area9  0.47  0.41  0.45  0.35  0.39  0.47  0.43  0.41  1.00  0.46   0.47  \n",
       "Area10 0.49  0.54  0.51  0.45  0.47  0.56  0.54  0.43  0.46  1.00   0.53  \n",
       "Area11 0.43  0.53  0.50  0.46  0.52  0.56  0.58  0.41  0.47  0.53   1.00  \n",
       "Area12 0.46  0.54  0.56  0.53  0.57  0.57  0.58  0.51  0.42  0.55   0.63  \n",
       "       Area12\n",
       "Area1  0.46  \n",
       "Area2  0.54  \n",
       "Area3  0.56  \n",
       "Area4  0.53  \n",
       "Area5  0.57  \n",
       "Area6  0.57  \n",
       "Area7  0.58  \n",
       "Area8  0.51  \n",
       "Area9  0.42  \n",
       "Area10 0.55  \n",
       "Area11 0.63  \n",
       "Area12 1.00  "
      ]
     },
     "metadata": {},
     "output_type": "display_data"
    }
   ],
   "source": [
    "View(round(dataMatrix, 2))"
   ]
  },
  {
   "cell_type": "code",
   "execution_count": 16,
   "id": "a648b579-61c3-4b40-bd40-f1b5a3bfdd10",
   "metadata": {},
   "outputs": [
    {
     "name": "stderr",
     "output_type": "stream",
     "text": [
      "R was not square, finding R from data\n",
      "\n"
     ]
    },
    {
     "data": {
      "text/html": [
       "<dl>\n",
       "\t<dt>$chisq</dt>\n",
       "\t\t<dd>2807.7070724851</dd>\n",
       "\t<dt>$p.value</dt>\n",
       "\t\t<dd>0</dd>\n",
       "\t<dt>$df</dt>\n",
       "\t\t<dd>66</dd>\n",
       "</dl>\n"
      ],
      "text/latex": [
       "\\begin{description}\n",
       "\\item[\\$chisq] 2807.7070724851\n",
       "\\item[\\$p.value] 0\n",
       "\\item[\\$df] 66\n",
       "\\end{description}\n"
      ],
      "text/markdown": [
       "$chisq\n",
       ":   2807.7070724851\n",
       "$p.value\n",
       ":   0\n",
       "$df\n",
       ":   66\n",
       "\n",
       "\n"
      ],
      "text/plain": [
       "$chisq\n",
       "[1] 2807.707\n",
       "\n",
       "$p.value\n",
       "[1] 0\n",
       "\n",
       "$df\n",
       "[1] 66\n"
      ]
     },
     "metadata": {},
     "output_type": "display_data"
    }
   ],
   "source": [
    "cortest.bartlett(dataArea2)"
   ]
  },
  {
   "cell_type": "code",
   "execution_count": 17,
   "id": "81a2ba11-64a9-4726-be0e-56ec3782060f",
   "metadata": {},
   "outputs": [
    {
     "data": {
      "text/html": [
       "0.00218064461136125"
      ],
      "text/latex": [
       "0.00218064461136125"
      ],
      "text/markdown": [
       "0.00218064461136125"
      ],
      "text/plain": [
       "[1] 0.002180645"
      ]
     },
     "metadata": {},
     "output_type": "display_data"
    }
   ],
   "source": [
    "det(dataMatrix)"
   ]
  },
  {
   "cell_type": "code",
   "execution_count": 18,
   "id": "aa2db7f8-ee93-431e-bc1c-cd422433d609",
   "metadata": {},
   "outputs": [],
   "source": [
    "model = principal(dataArea2, nfactors = 12, rotate = 'none')"
   ]
  },
  {
   "cell_type": "code",
   "execution_count": 19,
   "id": "0c8dfc4a-b61f-4933-971c-bfe10152c947",
   "metadata": {},
   "outputs": [
    {
     "data": {
      "text/plain": [
       "Principal Components Analysis\n",
       "Call: principal(r = dataArea2, nfactors = 12, rotate = \"none\")\n",
       "Standardized loadings (pattern matrix) based upon correlation matrix\n",
       "        PC1   PC2   PC3   PC4   PC5   PC6   PC7   PC8   PC9  PC10  PC11  PC12\n",
       "Area1  0.71  0.35  0.19  0.34 -0.22 -0.14  0.07  0.02 -0.04  0.37 -0.01 -0.11\n",
       "Area2  0.76 -0.05  0.09  0.11 -0.39 -0.02  0.25  0.19  0.08 -0.37 -0.08 -0.06\n",
       "Area3  0.76  0.14  0.12  0.05 -0.08 -0.22 -0.45 -0.16 -0.19 -0.20  0.00  0.14\n",
       "Area4  0.69 -0.32  0.34  0.18  0.22  0.32 -0.04  0.21 -0.26  0.03  0.00  0.04\n",
       "Area5  0.70 -0.43  0.01  0.28  0.15 -0.15 -0.07 -0.12  0.41  0.05 -0.02  0.08\n",
       "Area6  0.79  0.08 -0.01 -0.29  0.05  0.15 -0.25  0.06  0.16  0.04 -0.28 -0.29\n",
       "Area7  0.77 -0.03 -0.09 -0.32 -0.19  0.03 -0.11  0.29  0.13  0.15  0.30  0.16\n",
       "Area8  0.68  0.37  0.36 -0.25  0.30 -0.02  0.25 -0.10  0.13 -0.06 -0.03  0.17\n",
       "Area9  0.64  0.36 -0.46  0.29  0.32  0.08  0.00  0.16  0.01 -0.13  0.10 -0.02\n",
       "Area10 0.74  0.00 -0.20  0.01 -0.22  0.41  0.08 -0.42 -0.02  0.04  0.03  0.08\n",
       "Area11 0.75 -0.20 -0.33 -0.15  0.03 -0.22  0.17  0.06 -0.23  0.13 -0.29  0.16\n",
       "Area12 0.79 -0.21 -0.01 -0.16  0.13 -0.20  0.14 -0.17 -0.15 -0.04  0.28 -0.30\n",
       "       h2       u2 com\n",
       "Area1   1 -6.7e-16 3.3\n",
       "Area2   1 -4.4e-16 2.6\n",
       "Area3   1  1.7e-15 2.6\n",
       "Area4   1 -6.7e-16 3.6\n",
       "Area5   1  5.6e-16 3.2\n",
       "Area6   1 -2.2e-16 2.4\n",
       "Area7   1  3.3e-16 2.6\n",
       "Area8   1  8.9e-16 3.8\n",
       "Area9   1  5.6e-16 4.0\n",
       "Area10  1  6.7e-16 2.7\n",
       "Area11  1  3.3e-16 2.8\n",
       "Area12  1  0.0e+00 2.4\n",
       "\n",
       "                       PC1  PC2  PC3  PC4  PC5  PC6  PC7  PC8  PC9 PC10 PC11\n",
       "SS loadings           6.48 0.79 0.67 0.62 0.58 0.48 0.47 0.46 0.41 0.38 0.35\n",
       "Proportion Var        0.54 0.07 0.06 0.05 0.05 0.04 0.04 0.04 0.03 0.03 0.03\n",
       "Cumulative Var        0.54 0.61 0.66 0.71 0.76 0.80 0.84 0.88 0.91 0.94 0.97\n",
       "Proportion Explained  0.54 0.07 0.06 0.05 0.05 0.04 0.04 0.04 0.03 0.03 0.03\n",
       "Cumulative Proportion 0.54 0.61 0.66 0.71 0.76 0.80 0.84 0.88 0.91 0.94 0.97\n",
       "                      PC12\n",
       "SS loadings           0.31\n",
       "Proportion Var        0.03\n",
       "Cumulative Var        1.00\n",
       "Proportion Explained  0.03\n",
       "Cumulative Proportion 1.00\n",
       "\n",
       "Mean item complexity =  3\n",
       "Test of the hypothesis that 12 components are sufficient.\n",
       "\n",
       "The root mean square of the residuals (RMSR) is  0 \n",
       " with the empirical chi square  0  with prob <  NA \n",
       "\n",
       "Fit based upon off diagonal values = 1"
      ]
     },
     "metadata": {},
     "output_type": "display_data"
    }
   ],
   "source": [
    "model"
   ]
  },
  {
   "cell_type": "code",
   "execution_count": 20,
   "id": "dd66efca-5b80-41ae-9330-fd711a162ddc",
   "metadata": {},
   "outputs": [
    {
     "data": {
      "image/png": "[encoded data removed]",
      "text/plain": [
       "plot without title"
      ]
     },
     "metadata": {
      "image/png": {
       "height": 420,
       "width": 420
      }
     },
     "output_type": "display_data"
    }
   ],
   "source": [
    "plot(model$values, type ='b')"
   ]
  },
  {
   "cell_type": "code",
   "execution_count": null,
   "id": "a7caf96c-ef3d-49b1-9da4-72e0b17d4cda",
   "metadata": {},
   "outputs": [],
   "source": []
  }
 ],
 "metadata": {
  "kernelspec": {
   "display_name": "R",
   "language": "R",
   "name": "ir"
  },
  "language_info": {
   "codemirror_mode": "r",
   "file_extension": ".r",
   "mimetype": "text/x-r-source",
   "name": "R",
   "pygments_lexer": "r",
   "version": "4.1.2"
  }
 },
 "nbformat": 4,
 "nbformat_minor": 5
}
