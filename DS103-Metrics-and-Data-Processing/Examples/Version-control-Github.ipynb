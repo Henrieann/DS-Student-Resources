{
 "cells": [
  {
   "cell_type": "markdown",
   "id": "e1d84a9c-822c-442b-aca9-c2277e665660",
   "metadata": {},
   "source": [
    "# [GitHub](https://github.com/) - A Version Control System"
   ]
  },
  {
   "cell_type": "markdown",
   "id": "bb9c44e1-84dd-40af-af19-36e40182d8f9",
   "metadata": {},
   "source": [
    "This notebook will review how Github can be used to manage projects, find past revisions and navigate the interface."
   ]
  },
  {
   "cell_type": "markdown",
   "id": "fa864a46-4a08-480c-909c-efd89fe54d0c",
   "metadata": {},
   "source": [
    "We will be reviewing materinal in the [DS-Student-Resources Repo](https://github.com/woz-u/DS-Student-Resources)"
   ]
  },
  {
   "cell_type": "code",
   "execution_count": 1,
   "id": "c6aeb274-430c-4159-8bc7-e51791ad6ca6",
   "metadata": {},
   "outputs": [
    {
     "data": {
      "text/html": [
       "\n",
       "        <iframe\n",
       "            width=\"720\"\n",
       "            height=\"480\"\n",
       "            src=\"https://player.vimeo.com/video/636525550\"\n",
       "            frameborder=\"0\"\n",
       "            allowfullscreen\n",
       "            \n",
       "        ></iframe>\n",
       "        "
      ],
      "text/plain": [
       "<IPython.lib.display.VimeoVideo at 0x10eda8760>"
      ]
     },
     "execution_count": 1,
     "metadata": {},
     "output_type": "execute_result"
    }
   ],
   "source": [
    "from IPython.display import VimeoVideo\n",
    "# Tutorial Video Name: Spec Limit\n",
    "VimeoVideo('636525550', width=720, height=480)"
   ]
  },
  {
   "cell_type": "code",
   "execution_count": 2,
   "id": "ac91f36d-83d3-453b-9236-cdb59f4c4d5c",
   "metadata": {},
   "outputs": [],
   "source": [
    "# https://vimeo.com/636525550"
   ]
  },
  {
   "cell_type": "code",
   "execution_count": null,
   "id": "f164c278-4dcc-4226-8310-c6892ecb3b57",
   "metadata": {},
   "outputs": [],
   "source": []
  }
 ],
 "metadata": {
  "kernelspec": {
   "display_name": "Python 3 (ipykernel)",
   "language": "python",
   "name": "python3"
  },
  "language_info": {
   "codemirror_mode": {
    "name": "ipython",
    "version": 3
   },
   "file_extension": ".py",
   "mimetype": "text/x-python",
   "name": "python",
   "nbconvert_exporter": "python",
   "pygments_lexer": "ipython3",
   "version": "3.9.9"
  }
 },
 "nbformat": 4,
 "nbformat_minor": 5
}
