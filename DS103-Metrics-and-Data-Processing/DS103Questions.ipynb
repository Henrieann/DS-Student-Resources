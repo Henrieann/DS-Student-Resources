{
 "cells": [
  {
   "cell_type": "markdown",
   "id": "701c6664-c3af-4538-bac7-f1a5cc1826cd",
   "metadata": {},
   "source": [
    "# DS103 Questions\n",
    "\n",
    "### Part 1 Metrics and Data Processing\n",
    "\n",
    "### Lesson 1: Metrics In The Business World\n",
    "\n",
    "## Page 2"
   ]
  },
  {
   "cell_type": "code",
   "execution_count": null,
   "id": "9fdc1222-3d73-42e1-b6bf-b95d73e3d8ff",
   "metadata": {},
   "outputs": [],
   "source": [
    "from DS_Students import *"
   ]
  },
  {
   "cell_type": "code",
   "execution_count": null,
   "id": "cf433206-b1c6-41d7-86db-486d7cb4756e",
   "metadata": {},
   "outputs": [],
   "source": [
    "L1P2Q1 = MC('1. The exercise of transforming a corporate mission statement to metrics is straightforward and universal.',['True','False'],'False',cor=\"\", incor=\"\")\n",
    "L1P2Q2 = MC('2. It is common for the corporate metrics to be developed first, and then the mission, vision, and values pretty much write themselves.',['True','False'],'False',cor=\"\", incor=\"\")\n",
    "\n",
    "if __name__ == \"__main__\":\n",
    "    display(L1P2Q1, L1P2Q2)"
   ]
  },
  {
   "cell_type": "markdown",
   "id": "59237b93-23a1-4511-9c47-069ff58089ca",
   "metadata": {},
   "source": [
    "## Page 3"
   ]
  },
  {
   "cell_type": "code",
   "execution_count": null,
   "id": "9e09c0eb-06d1-440a-9c2a-4ced3fa16e4e",
   "metadata": {},
   "outputs": [],
   "source": [
    "L1P3Q1 = MultipleChoice('1. Which of the following is NOT a quality that makes a good KPI?',['Based on validated data','Complexity','Provides thresholds and targets', \"Reflective of the company's goals and values\"],'Complexity')\n",
    "L1P3Q2 = MultipleChoice('2. It is up to data scientists to ensure that KPIs are:',['Based on valid data','Relevant','Measurable with thresholds and targets', 'Empowering', 'All of the above'],'All of the above')\n",
    "L1P3Q3 = MultipleChoice('3. Almost any industry will have a KPI based around sales.',['True','False'],'True')\n",
    "\n",
    "if __name__ == \"__main__\":\n",
    "    display(L1P3Q1, L1P3Q2, L1P3Q3)"
   ]
  },
  {
   "cell_type": "markdown",
   "id": "214526dd-72ee-40d8-a2e5-41e165dcd951",
   "metadata": {},
   "source": [
    "## Page 4"
   ]
  },
  {
   "cell_type": "code",
   "execution_count": null,
   "id": "a2bbef1f-471c-438a-ab6f-b034921bdcf1",
   "metadata": {},
   "outputs": [],
   "source": [
    "L1P4Q1 = MultipleChoice('1. It is easy to compare metrics from one company to another.',['True','False'],'False')\n",
    "L1P4Q2 = MultipleChoice('2.Customer feedback is a good basis for industry standards.',['True','False'],'True')\n",
    "\n",
    "if __name__ == \"__main__\":\n",
    "    display(L1P4Q1, L1P4Q2)"
   ]
  },
  {
   "cell_type": "markdown",
   "id": "f472a7a8-4f65-4b0d-b5ac-254923dafba0",
   "metadata": {},
   "source": [
    "## Page 5"
   ]
  },
  {
   "cell_type": "code",
   "execution_count": null,
   "id": "97e630df-d5ab-4923-bd06-bdf386a95826",
   "metadata": {},
   "outputs": [],
   "source": [
    "L1P5Q1 = MultipleChoice('1. Which of the following is NOT something that influences metrics you develop:',['Customer input','Problems to solve', 'Business objectives', 'Competitor input'],'Competitor input')\n",
    "\n",
    "if __name__ == \"__main__\":\n",
    "    display(L1P5Q1)"
   ]
  },
  {
   "cell_type": "markdown",
   "id": "df8e1814-d22a-4401-be1f-f87abdb9b8d0",
   "metadata": {},
   "source": [
    "## Page 6"
   ]
  },
  {
   "cell_type": "code",
   "execution_count": null,
   "id": "7d9c4c5a-fa96-4919-9922-d59f68d91b26",
   "metadata": {},
   "outputs": [],
   "source": [
    "L1P6Q1 = MultipleChoice('1.Is the below metric \"SMART?\" \\n \\n \"Improve sales by gaining three additional customers who are willing to buy at least $100,000 of merchandise in the next three months.\"\\n',['Yes','No'],'Yes')\n",
    "L1P6Q2 = MultipleChoice('2.Is the below metric \"SMART?\" \\n \\n \"Increase customer loyalty.\" \\n',['Yes','No'],'No')\n",
    "L1P6Q3 = MultipleChoice('3.Is the below metric \"SMART?\" \\n \\n \"Increase customer loyalty in the next six months, as measured by the number of customers who purchase additional merchandise from the company, by providing coupons with every order.\"\\n', ['Yes', 'No'], 'Yes')\n",
    "\n",
    "if __name__ == \"__main__\":\n",
    "    display(L1P6Q1, L1P6Q2, L1P6Q3)"
   ]
  },
  {
   "cell_type": "markdown",
   "id": "d5eeb4cb-fef8-4560-bb1f-d81943bb600c",
   "metadata": {},
   "source": [
    "## Page 7"
   ]
  },
  {
   "cell_type": "code",
   "execution_count": null,
   "id": "ff06cd5a-fd5c-45a3-80d4-2eaea19f6e30",
   "metadata": {},
   "outputs": [],
   "source": [
    "L1P7Q1 = MultipleChoice('1. The performance life cycle is round because you should always be undergoing improvement.',['True','False'],'True')\n",
    "L1P7Q2 = MultipleChoice('2.It is not important to align goals from executive level all the way down to the individual.',['True','False'],'False')\n",
    "\n",
    "if __name__ == \"__main__\":\n",
    "    display(L1P7Q1, L1P7Q2)"
   ]
  },
  {
   "cell_type": "markdown",
   "id": "e5a66d34-2178-4239-b95c-a9d27747208e",
   "metadata": {},
   "source": [
    "## Page 8"
   ]
  },
  {
   "cell_type": "code",
   "execution_count": null,
   "id": "ccde2293-c195-4baa-9e9a-0ba4323958b3",
   "metadata": {},
   "outputs": [],
   "source": [
    "L1P8Q1 = MultipleChoice('1. Financial metrics are generally well-used and understood.',['True','False'],'True')\n",
    "\n",
    "if __name__ == \"__main__\":\n",
    "    display(L1P8Q1)"
   ]
  },
  {
   "cell_type": "markdown",
   "id": "064fc6c2-5f76-44be-9e94-eef9b9ccb1d3",
   "metadata": {
    "tags": []
   },
   "source": [
    "## Page 9"
   ]
  },
  {
   "cell_type": "code",
   "execution_count": null,
   "id": "d73f1da1-fc4b-4381-af30-b5d179d322b0",
   "metadata": {},
   "outputs": [],
   "source": [
    "L1P9Q1 = MultipleChoice('1. Which of the following is NOT something to avoid in a workplace?',['Reliance on metrics to drive business decisions','Inflexibility', 'Insufficient vertial alignment', 'Insufficient horizontal alignment'],'Reliance on metrics to drive business decisions')\n",
    "\n",
    "if __name__ == \"__main__\":\n",
    "    display(L1P9Q1)"
   ]
  },
  {
   "cell_type": "markdown",
   "id": "9594a8b0-4521-49bd-8aef-fa5a0bbcc10c",
   "metadata": {},
   "source": [
    "## Lesson 1 Exam (13 Q)"
   ]
  },
  {
   "cell_type": "markdown",
   "id": "5b99af4b-0bee-4961-b054-d126f0560905",
   "metadata": {},
   "source": [
    "### Lesson 2: Statistical Process Control\n",
    "\n",
    "## Page 2"
   ]
  },
  {
   "cell_type": "code",
   "execution_count": null,
   "id": "8b96586d-3c2e-406d-a6b9-7f6c5aecd24f",
   "metadata": {},
   "outputs": [],
   "source": [
    "L2P2Q1 = MC('1. A data scientist usually has a lot of responsibility for quality assurance for the company',['True','False'],'True',cor=\"\", incor=\"\")\n",
    "L2P2Q2 = MC('2. Which of the following is a good way to track occurrences of events over a given time period?',['Fishbone diagram','Flow chart', 'Control chart', 'Check sheet'],'Check sheet',cor=\"\", incor=\"\")\n",
    "\n",
    "if __name__ == \"__main__\":\n",
    "    display(L2P2Q1, L2P2Q2)"
   ]
  },
  {
   "cell_type": "markdown",
   "id": "24aef5b2-ff1e-4b07-8dc3-c31982076450",
   "metadata": {},
   "source": [
    "## Page 3\n"
   ]
  },
  {
   "cell_type": "code",
   "execution_count": null,
   "id": "d5e5ad7e-6d80-4c57-9f34-07be0a9e6415",
   "metadata": {},
   "outputs": [],
   "source": [
    "L2P3Q1 = MC('1. Which of the following is a good way to determine what might be causing problems in a process?',['Fishbone diagram','Flow chart', 'Control chart', 'Check sheet'],'Fishbone diagram',cor=\"\", incor=\"\")\n",
    "L2P3Q2 = MC(\"2. Which of the following M's is not a category for a fishbone diagram?\",['Materials','Machines', 'Maintenance', 'Methods'],'Maintenance',cor=\"\", incor=\"\")\n",
    "\n",
    "if __name__ == \"__main__\":\n",
    "    display(L2P3Q1, L2P3Q2)"
   ]
  },
  {
   "cell_type": "markdown",
   "id": "71f4531b-3c27-4124-84e7-df5a831c9d22",
   "metadata": {},
   "source": [
    "## Page 4"
   ]
  },
  {
   "cell_type": "code",
   "execution_count": null,
   "id": "012649ea-eb3f-40a4-81b5-2e483984ab94",
   "metadata": {},
   "outputs": [],
   "source": [
    "L2P4Q1 = MultipleChoice('1. Which of the following is a good way map the sequence of a process?',['Fishbone diagram','Flow chart', 'Control chart', 'Check sheet'], 'Flow chart')\n",
    "\n",
    "if __name__ == \"__main__\":\n",
    "    display(L2P4Q1)"
   ]
  },
  {
   "cell_type": "markdown",
   "id": "7b442659-9292-46ad-9a3e-b6f5450a6055",
   "metadata": {},
   "source": [
    "## Page 5"
   ]
  },
  {
   "cell_type": "code",
   "execution_count": null,
   "id": "14858001-0689-4774-befa-465ed1cc5f90",
   "metadata": {},
   "outputs": [],
   "source": [
    "L2P5Q1 = MultipleChoice('1. The method of making an adjustment to the process after each individual iteration is known as',['Continual Process Adjustment','Continual Quality Adjustment', 'Continual Process Manipulation', 'Repeated Manufacturing Adjustment'],'Continual Process Adjustment')\n",
    "L2P5Q2 = MultipleChoice('2. The method of letting a process run to gain a better understanding of natural variation was first proposed by',['The method of Continual Process Adjustment','W. Edwards Deming', 'Socrates', 'Walter Shewhart'],'Walter Shewhart')\n",
    "L2P5Q3 = MultipleChoice('3.What is the typical result of a process where Continual Process Adjustment is used?',['The natural variation becomes evident','Engineers receive recognition for being involved in their process', 'Overall variation increases because of tampering' ,'There are no changes in the process'],'Overall variation increases because of tampering')\n",
    "\n",
    "if __name__ == \"__main__\":\n",
    "    display(L2P5Q1, L2P5Q2, L2P5Q3)"
   ]
  },
  {
   "cell_type": "markdown",
   "id": "899187c4-1fcb-4700-93fc-5d23adaa57fe",
   "metadata": {},
   "source": [
    "## Page 6"
   ]
  },
  {
   "cell_type": "code",
   "execution_count": null,
   "id": "66c72798-5c2c-41fc-86dc-e134ddff17ad",
   "metadata": {},
   "outputs": [],
   "source": [
    "L2P6Q1 = MultipleChoice('1. Most processes have variation which is a combination of which two types?',['Common cause and special cause','Fized cause and variable cause', 'Primary cause and secondary cause','Special cause and ordinary cause'],'Common cause and special cause')\n",
    "L2P6Q2 = MultipleChoice('2. A SPC chart is the normal distribution turned on its side.',['True','False'],'True')\n",
    "L2P6Q3 = MultipleChoice('3. What do you call three standard deviations above the mean on a SPC chart?',['Upper control limit','Lower control limit', 'Process mean'],'Upper control limit')\n",
    "\n",
    "if __name__ == \"__main__\":\n",
    "    display(L2P6Q1, L2P6Q2, L2P6Q3)"
   ]
  },
  {
   "cell_type": "markdown",
   "id": "b72cb9c1-30fb-4d49-848b-5436d8857dd2",
   "metadata": {},
   "source": [
    "## Page 7"
   ]
  },
  {
   "cell_type": "code",
   "execution_count": null,
   "id": "ed7d49dd-77b4-4caf-a44c-5dba4d8aa5bb",
   "metadata": {},
   "outputs": [],
   "source": [
    "L2P7Q1 = MultipleChoice('1. Which of the following is not a common rule for an SPC chart?',['One point at least 3 standard deviations away from the mean','4 out of 5 points at least 1 standard deviation away from the mean', '5 consecutive points between 1 and 2 standard deviations away from the mean','2 out of 3 points at least 2 standard deviations away from the mean', '15 consecutive points less than 1 standard deviation away from the mean'],'5 consecutive points between 1 and 2 standard deviations away from the mean')\n",
    "L2P7Q2 = MultipleChoice('2. For a control chart, which data are the most recent?',['Data on the left side of the chart','Data on the rightt side of the chart'],'Data on the right side of the chart')\n",
    "L2P7Q3 = MultipleChoice('3. SPC rules are based on:',['Charts that look funny','Probabilities', 'Charts that show uncommon patterns'],'Probabilities')\n",
    "\n",
    "if __name__ == \"__main__\":\n",
    "    display(L2P7Q1, L2P7Q2, L2P7Q3)"
   ]
  },
  {
   "cell_type": "markdown",
   "id": "0586e841-049b-465a-9160-8a235c617cf0",
   "metadata": {},
   "source": [
    "## Page 8"
   ]
  },
  {
   "cell_type": "code",
   "execution_count": null,
   "id": "fa0889e0-fb8a-4cfe-841a-f214e982531f",
   "metadata": {},
   "outputs": [],
   "source": [
    "L2P8Q1 = MultipleChoice('1. Which of the following is NOT a common error that can be made with SPC charts?',['Calculating limits with bad data','Creating new limits continuously', 'Missing violations', 'Over-reacting to SPC charts'],'Missing violations')\n",
    "\n",
    "if __name__ == \"__main__\":\n",
    "    display(L2P8Q1)"
   ]
  },
  {
   "cell_type": "markdown",
   "id": "9e3f90ec-4d0e-44f8-b4e6-ce69a2da8501",
   "metadata": {},
   "source": [
    "## Lesson 2 Exam (6 Q)"
   ]
  },
  {
   "cell_type": "markdown",
   "id": "6fe8979b-d46e-4ed6-a196-96a218a86507",
   "metadata": {},
   "source": [
    "### Lesson 3: Process Capability\n",
    "## Page 2"
   ]
  },
  {
   "cell_type": "code",
   "execution_count": null,
   "id": "6cc5b1a9-206c-4881-a721-f9b65ab5f5c0",
   "metadata": {},
   "outputs": [],
   "source": [
    "L3P2Q1 = MultipleChoice('1. Cp is a measure of:',['Process control','Process potential', 'Process measure','Process stability'],'Process potential')\n",
    "\n",
    "if __name__ == \"__main__\":\n",
    "    display(L3P2Q1)"
   ]
  },
  {
   "cell_type": "markdown",
   "id": "62eacdb4-f1e4-47a3-9b76-d2483e16afa5",
   "metadata": {},
   "source": [
    "## Page 3"
   ]
  },
  {
   "cell_type": "code",
   "execution_count": null,
   "id": "ef072663-1b53-4de4-afe2-44a83df6a4c5",
   "metadata": {},
   "outputs": [],
   "source": [
    "L3P3Q1 = MultipleChoice(\"1. In layman's terms, the Cp is a ratio of:\",['The spec width to the control width','The process mean to the process standard deviation', 'The control width to the spec width', 'The process standard deviation to the population standard deviation'],'The spec width to the control width')\n",
    "L3P3Q2 = MultipleChoice('2. Calculate the Cp for a scenario where the USL is 250, the UCL is 244, the LSL is 214, and the LCL is 228',['1.8', '2.4', '2.25', '1.95'] , '2.25')\n",
    "L3P3Q3 = MultipleChoice(\"3. Since Cp doesn't make any reference to where the spec width or control width are centered, it is sometimes referred to as\",['Process customization','Useless', 'Meaningless', 'Process potential'],'Process potential')\n",
    "L3P3Q4 = MultipleChoice('4.What is the range for a Cp that is marginally capable?',['0.7 to 1.0','1.0 to 1.5', '1.0 to 1.33', '1.33 or greater'],'1.0 to 1.33')\n",
    "L3P3Q5 = MultipleChoice('5. For a Cp = 1.2, and a control window that goes from 56 to 76, where is the spec window?',['54 to 78', '76 to 100' ,'44 to 58', 'A & B both work' ],'A & B both work')\n",
    "L3P3Q6 = MultipleChoice('6. For a Cp = 1.5, and a spec window that goes from 112 to 157, and a LCL of 82, where is the UCL?',['110', '112', '134.5', 'Cannot be determined'],'112')\n",
    "\n",
    "if __name__ == \"__main__\":\n",
    "    display(L3P3Q1, L3P3Q2, L3P3Q3, L3P3Q4, L3P3Q5, L3P3Q6)"
   ]
  },
  {
   "cell_type": "markdown",
   "id": "0b9f05a7-2313-4d1a-8718-069885126737",
   "metadata": {},
   "source": [
    "## Page 4"
   ]
  },
  {
   "cell_type": "code",
   "execution_count": null,
   "id": "ed07f714-5aef-40f5-a736-16f1510062a3",
   "metadata": {},
   "outputs": [],
   "source": [
    "L3P4Q1 = MultipleChoice('1. Cpk is the minimum of what two measures?',['Cp and Cpk','Cpk and Cpl', 'Cpu and Cpl', 'Cpu and Cp'],'Cpu and Cpl')\n",
    "\n",
    "if __name__ == \"__main__\":\n",
    "    display(L3P4Q1)"
   ]
  },
  {
   "cell_type": "markdown",
   "id": "9a371885-2dad-4340-b16a-b12c7b3ba79f",
   "metadata": {},
   "source": [
    "## Page 5"
   ]
  },
  {
   "cell_type": "code",
   "execution_count": null,
   "id": "a151df8f-4fc2-401f-b3c4-5a2eccca2259",
   "metadata": {},
   "outputs": [],
   "source": [
    "L3P5Q1 = MultipleChoice('1. Can Cp and Cpk be negative?',['Neither will be negative ever','They are both always negative', 'Cp might be negative, but Cpk never will be', 'Cpk might be negative, but Cp never will be'],'Cpk might be negative, but Cp never will be')\n",
    "\n",
    "if __name__ == \"__main__\":\n",
    "    display(L3P5Q1)"
   ]
  },
  {
   "cell_type": "markdown",
   "id": "c08fcc59-ccba-4c62-84fa-0fd0a1070721",
   "metadata": {},
   "source": [
    "## Page 6"
   ]
  },
  {
   "cell_type": "code",
   "execution_count": null,
   "id": "0b7fb201-bfcd-49fa-a66c-4b7710d7fee2",
   "metadata": {},
   "outputs": [],
   "source": [
    "L3P6Q1 = MultipleChoice('1. What should you do when your process is out-of-spec?',[\"Don't worry about it, the process will probably drift back into control\", 'Turn some dials to get the process centered up', 'Re-engineer the process', 'Do nothing'],'Re-engineer the process')\n",
    "L3P6Q2 = MultipleChoice('2. What should you do when your process is out-of-control?',['The process is broken, fix it', 'You need to re-engineer the process', 'Do nothing', 'Leave it alone, it will drift back into control eventually'] , 'The process is broken, fix it')\n",
    "L3P6Q3 = MultipleChoice('3. What should you do if your process is both out-of-control and out-of-spec',['Turn some dials and get the process back in control', 'Re-engineer the process', 'Shut the process down, it is a mess', 'Find some balance between fixing the process while coming up with a new process that has less variation'],'Find some balance between fixing the process while coming up with a new process that has less variation')\n",
    "\n",
    "if __name__ == \"__main__\":\n",
    "    display(L3P6Q1, L3P6Q2, L3P6Q3)"
   ]
  },
  {
   "cell_type": "markdown",
   "id": "49a703a9-9c74-4dbf-8089-6b0baa9493ee",
   "metadata": {},
   "source": [
    "## Lesson 3 Exam (12 Q)"
   ]
  },
  {
   "cell_type": "markdown",
   "id": "7dd51d78-e329-4cfd-bb82-fbaf51b4f70b",
   "metadata": {},
   "source": [
    "### Lesson 4: Survey Design\n",
    "## Page 2"
   ]
  },
  {
   "cell_type": "code",
   "execution_count": null,
   "id": "992cc513-710b-41c3-9abe-14b0e2364b7c",
   "metadata": {},
   "outputs": [],
   "source": [
    "L4P2Q1 = MultipleChoice('1. Which of the following is NOT a survey design step?',['Determine the purpose', 'Brainstorm the evaluation questions', 'Jump right into to writing survey items', 'Set the format of the survey'],'Jump right into to writing survey items')\n",
    "L4P2Q2 = MultipleChoice('2. Who will typically set your overall survey purpose?',['Supervisors', 'Clients', 'You', 'Both A & B'] , 'Both A & B')\n",
    "L4P2Q3 = MultipleChoice('3. Evaluation questions can have subparts.',['True', 'False'],'True')\n",
    "\n",
    "if __name__ == \"__main__\":\n",
    "    display(L4P2Q1, L4P2Q2, L4P2Q3)"
   ]
  },
  {
   "cell_type": "markdown",
   "id": "47d61bf8-1b9c-47ab-b661-aa08a934d35c",
   "metadata": {},
   "source": [
    "## Page 3"
   ]
  },
  {
   "cell_type": "code",
   "execution_count": null,
   "id": "a8a3b746-a218-4ba7-aee0-67f4a50d1677",
   "metadata": {},
   "outputs": [],
   "source": [
    "L4P3Q1 = MultipleChoice('1. Which question type will yield ONLY categorical data?',[\"Multiple choice\", 'Write-in', 'Open-essay'],'Multiple choice')\n",
    "L4P3Q2 = MultipleChoice('2. Which of the following will NOT yield categorical data?',[\"Multiple choice\", 'Scale', 'Open-essay', 'Matrix'], 'Open-essay')\n",
    "L4P3Q3 = MultipleChoice('3. Which of the following will provide continuous data?', ['Multiple choice', 'Open-essay', 'Matrix' ,'Write-in'], 'Write-in')\n",
    "L4P3Q4 = MultipleChoice('4. What is the disadvantage of matrix and scale questions?', ['They can be difficult to read on mobile devices', 'They yield qualitative data that are difficult to analyze', 'They repeat themselves a lot', 'They have exclusive options'], 'They can be difficult to read on mobile devices')\n",
    "L4P3Q5 = MultipleChoice('5. What is the disadvantage of open-essay and write-in questions?', ['They can be difficult to read on mobile devices', 'They yield qualitative data that are difficult to wrangle and analyze', 'They repeat themselves a lot', 'They have exclusive options'], 'They yield qualitative data that are difficult to wrangle and analyze')\n",
    "L4P3Q6 = MultipleChoice('6. You can limit the data input on a write-in question to get higher data quality.' ,['True', 'False'], 'True')\n",
    "\n",
    "if __name__ == \"__main__\":\n",
    "    display(L4P3Q1, L4P3Q2, L4P3Q3, L4P3Q4, L4P3Q5, L4P3Q6)"
   ]
  },
  {
   "cell_type": "markdown",
   "id": "4059a55d-9753-4805-8aff-2562502d3ef7",
   "metadata": {},
   "source": [
    "## Page 4"
   ]
  },
  {
   "cell_type": "code",
   "execution_count": null,
   "id": "d3e68926-8b29-4067-9c2e-6cf60dedb048",
   "metadata": {},
   "outputs": [],
   "source": [
    "L4P4Q1 = MultipleChoice('1. Which of the following is NOT a good source of survey questions?',['Question banks', 'Popular magazines', 'Peer-reviewed articles', 'Google Scholar'],'Popular magazines')\n",
    "L4P4Q2 = MultipleChoice('2. Psychology covers a wide range of topics and fields and thus their databases can be useful for many things.' ,['True', 'False'], 'True')\n",
    "L4P4Q3 = MC(\"3. You'll be able to access all articles for free with Google Scholar.\", ['True', 'False'], 'False', cor= 'Many articles are available, but not all, due to copyright laws. Make do with what is available if you cannot find or borrow library database access.', incor=\"\")\n",
    "\n",
    "if __name__ == \"__main__\":\n",
    "    display(L4P4Q1, L4P4Q2, L4P4Q3)"
   ]
  },
  {
   "cell_type": "markdown",
   "id": "f957467b-61b2-469a-83f5-9d7d31290784",
   "metadata": {},
   "source": [
    "## Page 5"
   ]
  },
  {
   "cell_type": "code",
   "execution_count": null,
   "id": "98619bc0-b7b2-4a72-b545-7bd4f490a6de",
   "metadata": {},
   "outputs": [],
   "source": [
    "L4P5Q1 = MultipleChoice('1. What is wrong with this survey question? \\n \\n \\033[1mHeight:\\033[0m \\n',['Not phrased as a question', 'Did not specify units', \"Gives the answer you're looking for in the question\", 'Both A & B'],'Both A & B')\n",
    "L4P5Q2 = MC('2. What is wrong with this survey question? \\n \\n \\033[1mWhat is your average calorie intake per day?\\033[0m \\n',['Not phrased as a question', 'Did not specify units', 'It makes the respondent do math', 'Does not specify a time frame', 'Both C & D'] , 'Both C & D', cor=\"The respondent has to figure out how many calories each item of food is they eat per day and then add it all up for each day and then find an average. It also does not specify from whence they should take their average intake per day. A better question would be to ask them what they ate yesterday.\\n \", incor=\"\")\n",
    "L4P5Q3 = MC('3. What is wrong with this survey question? \\n \\n \\033[1mDo you enjoy data engineering?\\033[0m \\n',['Not phrased as a question', 'Did not specify units', \"Gives the answer you're looking for in the question\", \"Does not define the term and thus isn't specific enough\" ],\"Does not define the term and thus isn't specific enough\", cor=\"Defining data engineering in the question or in a hover-over box would make this question better.\", incor=\"\")\n",
    "\n",
    "if __name__ == \"__main__\":\n",
    "    display(L4P5Q1, L4P5Q2, L4P5Q3)"
   ]
  },
  {
   "cell_type": "markdown",
   "id": "0ca9f126-1382-484e-9ac8-8b042f9a959d",
   "metadata": {},
   "source": [
    "## Page 6"
   ]
  },
  {
   "cell_type": "code",
   "execution_count": null,
   "id": "17e2c9a3-b412-4fe6-ad2f-6acdaad071f5",
   "metadata": {},
   "outputs": [],
   "source": [
    "L4P6Q1 = MC('1. What is wrong with this survey question? \\n \\n\\033[1mWhat is your height? \\n \\n152-182 \\n \\n182-213\\033[0m \\n',['Does not provide an exhaustive list of answers', 'Units are not specified', 'Answers are not exclusive', 'All of the above'],'All of the above', cor=\"This question does not specify that height is being measured in centimeters. It also starts out at approximately 5 feet tall, and only goes until approximately 7 feet tall, so if you have anyone extremely short or tall, they will not be covered in the standard response options. Lastly, the number 182 overlaps on both questions, so people who are exactly 182 centimeters could respond in both categories. \\n\", incor=\"\")\n",
    "L4P6Q2 = MC('2. What is wrong with this survey question? \\n \\n\\033[1mIs this scale balanced?\\n \\nCompletely unacceptable\\n \\nUnacceptable\\n \\nSlightly unacceptable\\n \\nSlightly acceptable\\n \\nAcceptable\\n \\nCompletely acceptable\\033[0m \\n',['Yes', 'No'] , 'Yes', cor='Each \"bad descriptor\" has a matching \"good descriptor.\"\\n ', incor=\"\")\n",
    "L4P6Q3 = MC('3. True or False?\\n \\n\\033[1mIf you include a neutral option, people will pick it.\\033[0m \\n',['True', 'False'],'True', cor=\"Because of this, consider carefully what you will do with a neutral opinion and whether it is better to force respondents to pick a side.\", incor=\"\")\n",
    "L4P6Q4 = MC('4. What is wrong with this survey question? \\n \\n\\033[1mHow many times have you been abused? _____________\\033[0m \\n',['It is not phrased as a question', 'It does not provide ranges as response options', 'It is not balanced', 'It allows for a neutral option'],'It does not provide ranges as response options', cor=\"Since abuse is a sensitive subject, to make respondents feel more comfortable, it would be better to make this a multiple choice question with ranges. \\n\", incor=\"\")\n",
    "                                                                                                           \n",
    "if __name__ == \"__main__\":\n",
    "    display(L4P6Q1, L4P6Q2, L4P6Q3, L4P6Q4)"
   ]
  },
  {
   "cell_type": "markdown",
   "id": "a43fa4a0-858f-4c58-b872-bf4035bc7b93",
   "metadata": {},
   "source": [
    "## Page 7"
   ]
  },
  {
   "cell_type": "code",
   "execution_count": null,
   "id": "c88c7377-fd94-4a67-9f6b-10506b9466fc",
   "metadata": {},
   "outputs": [],
   "source": [
    "L4P7Q1 = MC('1. What is wrong with this survey question? \\n \\n\\033[1mDo you believe people should read and study more? \\033[0m \\n',['Leading question', 'Double-barreled', 'Value-laden', 'Double negative'],'Double-barreled', cor=\"This question asks about both reading and studying more, but you could have a different opinion about reading than you do studying.\\n\", incor=\"\")\n",
    "L4P7Q2 = MC('2. What is wrong with this survey question? \\n \\n\\033[1mTo what extent do you agree with the following statement?\\n  \\n\"Data scientists have no scruples.\"\\n \\033[0m \\n',['Leading question', 'Double-barreled', 'Value-laden', 'Double negative'] , 'Value-laden', cor='The phrase \"no scruples\" does not really clarify what you mean, but is something that can be interpreted very negatively and participants may react to.\\n ', incor=\"\")\n",
    "L4P7Q3 = MC('3. What is wrong with this survey question? \\n \\n\\033[1mDo you agree that those in jail should get the death penalty? \\033[0m \\n',['Leading question', 'Double-barreled', 'Value-laden', 'Double negative'],'Leading question', cor='Since this question uses the word agree, but not disagree, and does not ask their opinion in a neutral way, this makes you more likley to say \"yes,\" even if you have a differing opinion.', incor=\"\")\n",
    "L4P7Q4 = MC('4. What is wrong with this survey question? \\n \\n\\033[1mTo what extent do you agree or disagree with the following statement?\\n  \\n\"It is not true that big data analysis is not needed.\" \\033[0m \\n',['Leading question', 'Double-barreled', 'Value-laden', 'Double negative'],'Double negative', cor='With two \"nots\" in this sentence, it becomes confusing.\\n', incor=\"\")\n",
    "                                                                                                           \n",
    "if __name__ == \"__main__\":\n",
    "    display(L4P7Q1, L4P7Q2, L4P7Q3, L4P7Q4)"
   ]
  },
  {
   "cell_type": "markdown",
   "id": "e6a75495-fff7-4ea1-8657-36bde4cd7462",
   "metadata": {},
   "source": [
    "## Page 8"
   ]
  },
  {
   "cell_type": "code",
   "execution_count": null,
   "id": "6e705989-43b1-47ea-8cd3-85e6dc54f163",
   "metadata": {},
   "outputs": [],
   "source": [
    "L4P8Q1 = MultipleChoice('1.What is the maximum amount of time that a survey should take?',['5 minutes', '10 minutes', '15 minutes', '20 minutes'],'15 minutes')\n",
    "L4P8Q2 = MultipleChoice('2. What is the highest reading level that a survey should use?',['6th grade', '5th grade', '7th grade', '8th grade'] , '6th grade')\n",
    "L4P8Q3 = MultipleChoice('3. Which of the following should NOT be included in an informed consent page?',['Purpose', 'Contact information', 'Information about risks and benefits', 'Mandatory completion of the survey'],'Mandatory completion of the survey')\n",
    "L4P8Q4 = MultipleChoice('4. True or False?\\n \\n\\033[1mUtilizing a logical flow to your survey will increase participant recall.\\033[0m \\n',['True', 'False'],'True')\n",
    "L4P8Q5 = MultipleChoice('5. Which of the following statements about survey or skip logic is NOT correct?', ['Participants will know they are skipping questions.', 'They are best blocked out before using a survey program.', 'It allows participants to have an individualized experience.', 'It can make the survey shorter for many participants, depending on their answers'] ,'Participants will know they are skipping questions.')\n",
    "\n",
    "if __name__ == \"__main__\":\n",
    "    display(L4P8Q1, L4P8Q2, L4P8Q3, L4P8Q4, L4P8Q5)"
   ]
  },
  {
   "cell_type": "markdown",
   "id": "0b19bdc4-1710-4d24-a92f-d5599c362b10",
   "metadata": {},
   "source": [
    "## Page 9"
   ]
  },
  {
   "cell_type": "code",
   "execution_count": null,
   "id": "d425b4b7-0b5a-4dc6-9100-7408af5ad434",
   "metadata": {},
   "outputs": [],
   "source": [
    "L4P9Q1 = MultipleChoice('1. What type of survey testing does the below represent? \\n \\n\\033[1mYou observe a participant taking the survey and make note of the range of facial expressions she has.\\033[0m \\n',['Expert review', 'Cognitive interview','Behavior coding', 'Response latency'],'Behavior coding')\n",
    "L4P9Q2 = MultipleChoice('2. What type of survey testing does the below represent? \\n \\n\\033[1mYou time how long it takes the respondent to answer each survey item.\\033[0m \\n',['Cognitive interview', 'Response latency', 'Vignette Analysis', 'Respondent Debriefing'] , 'Response latency')\n",
    "L4P9Q3 = MultipleChoice('3. What type of survey testing does the below represent? \\n \\n\\033[1mYou have the respondent talk out loud as he takes the survey to discuss his thought process.\\033[0m \\n',['Cognitive interview', 'Response latency', 'Behavior coding', 'Respondent debriefing'] , 'Cognitive interview')\n",
    "\n",
    "if __name__ == \"__main__\":\n",
    "    display(L4P9Q1, L4P9Q2, L4P9Q3)"
   ]
  },
  {
   "cell_type": "markdown",
   "id": "c2de1c80-0ead-4fbb-9103-2efb9b4e16c8",
   "metadata": {},
   "source": [
    "## Page 10"
   ]
  },
  {
   "cell_type": "code",
   "execution_count": null,
   "id": "d5f540fb-c2cb-42a7-b410-bf693a630002",
   "metadata": {},
   "outputs": [],
   "source": [
    "L4P10Q1 = MultipleChoice('1. Which rate is the number of people who have clicked on your survey link?',['Response rate', 'Completion rate'],'Response rate')\n",
    "L4P10Q2 = MultipleChoice('2. Which of the following is NOT a tip to getting responses?',['Distribute your survey on Monday morning', 'Send a reminder', 'Send from a trusted leader', 'Distribute your survey on the weekend'] , 'Distribute your survey on the weekend')\n",
    "L4P10Q3 = MultipleChoice('3. Which of the following is a pro to using an incentive?',['Participants care about the reward more than honesty',  'Increase in response rate', 'Participants feel obligated to participate', 'Incentives are illegal in some cases'] , 'Increase in response rate')\n",
    "\n",
    "if __name__ == \"__main__\":\n",
    "    display(L4P10Q1, L4P10Q2, L4P10Q3)"
   ]
  },
  {
   "cell_type": "markdown",
   "id": "d469b9e2-9938-4d53-9069-733384e8ccaf",
   "metadata": {},
   "source": [
    "## Page 11"
   ]
  },
  {
   "cell_type": "code",
   "execution_count": null,
   "id": "df2587fc-4252-4cbc-837b-ae9766aa4e5e",
   "metadata": {},
   "outputs": [],
   "source": [
    "L4P11Q1 = MultipleChoice('1. Which of the following is NOT a way to add questions to Survey Monkey?',['Copy and paste your survey', 'Type in questions manually', 'Add from a question bank', 'Upload a PDF with questions'],'Upload a PDF with questions')\n",
    "L4P11Q2 = MultipleChoice('2. Why is it important to have separate pages in your survey?',['It increases response rate', 'It helps organize your survey', 'It is crucial for skip logic', 'All of the above'] , 'All of the above')\n",
    "L4P11Q3 = MultipleChoice('3. True or False?\\n \\n\\033[1mDistributing your survey by web link is ideal.\\033[0m \\n',['True', 'False'],'True')\n",
    "\n",
    "if __name__ == \"__main__\":\n",
    "    display(L4P11Q1, L4P11Q2, L4P11Q3)"
   ]
  },
  {
   "cell_type": "markdown",
   "id": "c054862a-7e2c-470d-a8bb-670727e701eb",
   "metadata": {
    "tags": []
   },
   "source": [
    "### Lesson 5: Reliability and Validity\n",
    "## Page 2"
   ]
  },
  {
   "cell_type": "code",
   "execution_count": null,
   "id": "6b2f4266-99bf-46cd-8f18-d6ad99441ce6",
   "metadata": {},
   "outputs": [],
   "source": [
    "L5P2Q1 = MC('1. The statement below is an example of what kind of testing?\\n\\nYou are looking at the behavior of schoolchildren on the playground, and mark different behaviors down on a tally-sheet on a clipboard. However, the children notice you, and play a little less rambunctiously.\\n',['A. Destructive','B. Disruptive'],'B. Disruptive', cor='Since the children change the way they behaved, your measuring them disrupted the process and made measurement inaccurate.', incor='')\n",
    "L5P2Q2 = MC('2. The statement below is an example of what kind of testing?\\n\\nThe most accurate way to measure someone\\'s body fat is to kill them and weigh the fat in each organ.\\n',['A. Destructive','B. Disruptive'],'A. Destructive', cor='Even though this is technically true, no one would conduct the most accurate test because it is completely destructive! You could never measure that person again (let alone contemplating the loss of life!) Destructive tests are almost always not feasible, and with good reason.', incor='')\n",
    "\n",
    "if __name__ == \"__main__\":\n",
    "    display(L5P2Q1, L5P2Q2)"
   ]
  },
  {
   "cell_type": "markdown",
   "id": "a5b5e1a3-9365-4ce8-bca5-7ae2852d94cc",
   "metadata": {},
   "source": [
    "## Page 3"
   ]
  },
  {
   "cell_type": "code",
   "execution_count": null,
   "id": "f9a3a5f3-82bf-4a0f-9b0a-95b699434b0f",
   "metadata": {},
   "outputs": [],
   "source": [
    "L5P3Q1 = MC('1. What is the systematic error in a measurement called?',['A. Accuracy','B. Precision', 'C. Bias', 'D. Calibration'],'C. Bias', cor='', incor='')\n",
    "L5P3Q2 = MC('2. What is the \\'correctness\\' in a measurement called?',['A. Accuracy','B. Precision', 'C. Bias', 'D. Calibration'],'A. Accuracy', cor='', incor='')\n",
    "L5P3Q3 = MC('3. What is the \\'repeatedness\\' in a measurement called?',['A. Accuracy','B. Precision', 'C. Bias', 'D. Calibration'],'B. Precision', cor='', incor='')\n",
    "L5P3Q4 = MC('4. What would be a reasonable measurement of accuracy?',['A. Using a \\'gold standard\\' as a known value.','B. The standard deviation of the measurements', 'C. The distance between the target and the mean of the measurements','D. There isn\\'t one'],'C. The distance between the target and the mean of the measurements', cor='', incor='')\n",
    "L5P3Q5 = MC('5. What would be a reasonable measurement of bias?',['A. Using a \\'gold standard\\' as a known value.','B. The standard deviation of the measurements', 'C. The distance between the target and the mean of the measurements','D. There isn\\'t one'], 'A. Using a \\'gold standard\\' as a known value.', cor='', incor='')\n",
    "L5P3Q6 = MC('6. What would be a reasonable measurement of precision?',['A. Using a \\'gold standard\\' as a known value.','B. The standard deviation of the measurements', 'C. The distance between the target and the mean of the measurements','D. There isn\\'t one'],'B. The standard deviation of the measurements', cor='', incor='')\n",
    "\n",
    "if __name__ == \"__main__\":\n",
    "    display(L5P3Q1, L5P3Q2, L5P3Q3, L5P3Q4, L5P3Q5, L5P3Q6)"
   ]
  },
  {
   "cell_type": "markdown",
   "id": "499aed9e-0022-49d4-ab43-0b6e8394f5ca",
   "metadata": {},
   "source": [
    "## Page 4"
   ]
  },
  {
   "cell_type": "code",
   "execution_count": null,
   "id": "b4aaa5a9-819f-4ec6-8ba4-fd1d1d082441",
   "metadata": {},
   "outputs": [],
   "source": [
    "L5P4Q1 = MC('1. Which of the following is indicative of variation because of different operators measuring the same item?',['A. Part-to-part variation','B. Repeatability', 'C. Reproducibility'],'C. Reproducibility', cor='', incor='')\n",
    "L5P4Q2 = MC('2. Which of the following is indicative of variation because of the gauge itself?',['A. Part-to-part variation','B. Repeatability', 'C. Reproducibility'],'B. Repeatability', cor='', incor='')\n",
    "L5P4Q3 = MC('3. Which of the following is indicative of variation because of the normal range of all measurements?',['A. Part-to-part variation','B. Repeatability', 'C. Reproducibility'],'A. Part-to-part variation', cor='', incor='')\n",
    "\n",
    "if __name__ == \"__main__\":\n",
    "    display(L5P4Q1, L5P4Q2, L5P4Q3)"
   ]
  },
  {
   "cell_type": "markdown",
   "id": "4b050e07-9026-4055-8062-30df3fa34589",
   "metadata": {},
   "source": [
    "## Page 5"
   ]
  },
  {
   "cell_type": "code",
   "execution_count": null,
   "id": "81c32409-3e06-4660-901b-7e8447486340",
   "metadata": {},
   "outputs": [],
   "source": [
    "L5P5Q1 = MC('1. What is the survey term for accuracy?',['A. Precision','B. Reliability', 'C. Validity'],'C. Validity', cor='', incor='')\n",
    "L5P5Q2 = MC('2. What is the survey term for precision?',['A. Reliability','B. Validity', 'C. Accuracy'],'A. Reliability', cor='', incor='')\n",
    "L5P5Q3 = MC('3. Which type of reliability is described below?\\n\\n   You have one person take the survey, and then have that person take the survey again a week later.',['A. Inter-rater reliability','B. Inter-item reliability'],'A. Inter-rater reliability', cor='', incor='')\n",
    "L5P5Q4 = MC('4. Which of the following is NOT a way to validate your survey?',['A. Compare groups with and without the trait you\\'re measuring','B. Compare your survey to other similar surveys', 'C. Factor Analysis', 'D. Chronbach\\'s alpha'],'D. Chronbach\\'s alpha', cor='', incor='')\n",
    "\n",
    "if __name__ == \"__main__\":\n",
    "    display(L5P5Q1, L5P5Q2, L5P5Q3, L5P5Q4)"
   ]
  },
  {
   "cell_type": "markdown",
   "id": "4b530e74-e823-4514-b307-e9b73f600b20",
   "metadata": {},
   "source": [
    "## Page 6"
   ]
  },
  {
   "cell_type": "code",
   "execution_count": null,
   "id": "b5f78d1c-b65b-47d9-8219-85d739353688",
   "metadata": {},
   "outputs": [],
   "source": [
    "L5P6Q1 = MC('1. Which of the following is NOT a difference between exploratory and confirmatory factor analysis?',['A. Exploratory doesn\\'t know what the data will yiels; confirmatory does','B. Exploratory just validates data; confirmatory tests data for the first time', 'C. Exploratory is easier than confirmatory', 'D. Exploratory is more popular that confirmatory'],'B. Exploratory just validates data; confirmatory tests data for the first time', cor='', incor='')\n",
    "L5P6Q2 = MC('2. Which of the following is NOT an assumption for EFA?',['A. Sample size','B. Absence of multicollinearity', 'C. Related survey items', 'D. Normality'],'D. Normality', cor='', incor='')\n",
    "L5P6Q3 = MC('3. What is the minimum sample size you should ever consider using for factor analysis?',['A. 100','B. 150', 'C. 50', 'D. 200'],'B. 150', cor='', incor='')\n",
    "L5P6Q4 = MC('4. You have multicollinearity in a factor analysis if:',['A. Any survey item correlates with another greater than .9','B. Your determinant p value is less than .00001', 'C. You fail a Bartlett\\'s test', 'D. Both A & B'],'D. Both A & B', cor='', incor='')\n",
    "L5P6Q5 = MC('5. Which type of factor rotation gets turned 90 degrees?',['A. Orthogonal','B. Oblique'],'A. Orthogonal', cor='', incor='')\n",
    "\n",
    "if __name__ == \"__main__\":\n",
    "    display(L5P6Q1, L5P6Q2, L5P6Q3, L5P6Q4, L5P6Q5)"
   ]
  },
  {
   "cell_type": "markdown",
   "id": "ee723b13-8463-4eb7-a8b0-a00c0bd4765a",
   "metadata": {},
   "source": [
    "## Page 7"
   ]
  },
  {
   "cell_type": "code",
   "execution_count": null,
   "id": "c9d33baa-3678-4321-bfc9-c8fc0b170e6f",
   "metadata": {},
   "outputs": [],
   "source": [
    "L5P7Q1 = MC('1. True or False?\\n\\n   You can specify in the factor analysis function what variables you want to use, so you don\\'t need to subset your data ahead of time.',['A. True','B. False'],'B. False', cor='', incor='')\n",
    "L5P7Q2 = MC('2. What will this code do?\\n\\n   View(round(Datamatrix, 4))\\n',['A. Print your correlation matrix with two numbers after the decimal point','B. Print your correlation matrix with four numbers after the decimal point', 'C. Show your correlation matrix in the data pane with four numbers after the decimal point', 'D. Show only the first four variables in the correlation matrix'],'C. Show your correlation matrix in the data pane with four numbers after the decimal point', cor='', incor='')\n",
    "L5P7Q3 = MC('3. Should you proceed with factor analysis if you get a determinant of \\033[31m3.179686e-10\\033[0m?',['A. Yes','B. No'],'B. No', cor='Since this is written in scientific notation, this number is really .00000000031, which is smaller than .00001', incor='')\n",
    "L5P7Q4 = MC('4. Should you proceed with factor analysis if you get a signficant Bartlett\\'s test?',['A. Yes','B. No'],'B. No', cor='', incor='')\n",
    "\n",
    "if __name__ == \"__main__\":\n",
    "    display(L5P7Q1, L5P7Q2, L5P7Q3, L5P7Q4)"
   ]
  },
  {
   "cell_type": "markdown",
   "id": "3236ad38-dd7d-474d-ad81-f95f26d97941",
   "metadata": {},
   "source": [
    "## Page 8"
   ]
  },
  {
   "cell_type": "code",
   "execution_count": null,
   "id": "fd2c2300-244a-4234-8af4-2dbb4905019a",
   "metadata": {},
   "outputs": [],
   "source": [
    "L5P8Q1 = MC('1. What is the first thing you will want to do once you have met your assumptions and start the factor analysis process?',['A. Determine the approximate number of factors using eigenvalue and the scree plot','B. Rotate your factors', 'C. Determine where each item goes', 'D. Determine model fit'],'A. Determine the approximate number of factors using eigenvalue and the scree plot', cor='', incor='')\n",
    "L5P8Q2 = MC('2. What does examining the percentage of large residuals tell you?',['A. Number of factors','B. How each item loads on the factor', 'C. Model fit'],'C. Model fit', cor='', incor='')\n",
    "L5P8Q3 = MC('3. You examine residuals and find that 65% are large. Is your model fit good?',['A. Yes','B. No'],'B. No', cor='You should have 50% or fewer residuals that are considered large to have a good model fit.', incor='')\n",
    "L5P8Q4 = MC('4. What is considered a \"good\" factor loading value?',['A. Above .2','B. Above .3-.4 ish', 'C. Above .5', 'D. Above .9'],'B. Above .3-.4 ish', cor='', incor='')\n",
    "L5P8Q5 = MC('5. True or false?\\n\\n   It\\'s a good idea to try multiple different rotations and even different number of factors',['A. True','B. False'],'A. True', cor='Factor analysis is very subjective, so try many different options to see what yields the best fit and makes the most sense theoretically with your survey items.', incor='')\n",
    "\n",
    "if __name__ == \"__main__\":\n",
    "    display(L5P8Q1, L5P8Q2, L5P8Q3, L5P8Q4, L5P8Q5)"
   ]
  },
  {
   "cell_type": "markdown",
   "id": "c19a2d55-f373-46c0-b877-a52b57ee0cdc",
   "metadata": {},
   "source": [
    "## Page 9"
   ]
  },
  {
   "cell_type": "code",
   "execution_count": null,
   "id": "e43ed99d-0beb-4fb9-81be-c48123a98ba3",
   "metadata": {},
   "outputs": [],
   "source": [
    "L5P9Q1 = MC('1. True or false?\\n\\n   You will need a separate dataset for for every subscale you found in factor analysis.',['A. True','B. False'],'A. True', cor='', incor='')\n",
    "L5P9Q2 = MC('2. True or false?\\n\\n   If you ask questions in both a negative and a positive direction, you do not need to reverse code any items.',['A. True','B. False'],'B. False', cor='You will need to reverse code the items going in a \"negative\" direction so that all your items face the same way.', incor='')\n",
    "L5P9Q3 = MC('3. True or false?\\n\\n   There are a lot of assumptions for reliability analysis.',['A. True','B. False'],'B. False', cor='There are no assumptions you need to meet to test for reliability!', incor='')\n",
    "\n",
    "if __name__ == \"__main__\":\n",
    "    display(L5P9Q1, L5P9Q2, L5P9Q3)"
   ]
  },
  {
   "cell_type": "markdown",
   "id": "7b9bb53a-8cc6-4ef2-aa6b-90ee82a69865",
   "metadata": {},
   "source": [
    "## Page 10"
   ]
  },
  {
   "cell_type": "code",
   "execution_count": null,
   "id": "caa2b8a6-6cf4-4739-8f22-c498b1df792a",
   "metadata": {},
   "outputs": [],
   "source": [
    "L5P10Q1 = MC('1. True or false?\\n\\n   Having the \\033[31;1mggplot2\\033[0m package installed can mess with your reliability analysis.',['A. True','B. False'],'A. True', cor='Since they both contain an \\033[31;1malpha()\\033[0m function, they can run into problems, so make sure to only load the \\033[31;1mpsych\\033[0m package before reliability analysis or to uncheck the \\033[31;1mggplot2\\033[0m package if you already have it loaded.', incor='')\n",
    "L5P10Q2 = MC('2. Where should you look for information on inter-rater reliability?',['A. Overall Chronbach\\'s alpha score','B. In the first table', 'C. In the second table', 'D. At both the overall Chronbach\\'s alpha score and in the first table'],'D. At both the overall Chronbach\\'s alpha score and in the first table', cor='', incor='')\n",
    "L5P10Q3 = MC('3. Where should you look for information on inter-item reliability?',['A. In the first table','B. In the second table under raw.r', 'C. In the second table under r.drop', 'D. In the third table', 'E. At both the second table under r.drop and in the third table'],'E. At both the second table under r.drop and in the third table', cor='', incor='')\n",
    "L5P10Q4 = MC('4. If the first \\033[31;1mraw_alpha\\033[0m score is .6, would you consider the scale reliable?',['A. Yes','B. No'],'B. No', cor='Typically around .8 is considered reliable.', incor='')\n",
    "L5P10Q5 = MC('5. What should you do if you find a \\033[31;1mdrop.r\\033[0m value of .2?',['A. Drop an item and re-check your reliability and factor analysis','B. Nothing', 'C. Drop the item and proceed on your merry way', 'D. Re-issue the scale to participants'],'A. Drop an item and re-check your reliability and factor analysis', cor='', incor='')\n",
    "\n",
    "if __name__ == \"__main__\":\n",
    "    display(L5P10Q1, L5P10Q2, L5P10Q3, L5P10Q4, L5P10Q5)"
   ]
  },
  {
   "cell_type": "markdown",
   "id": "bf0333b6-8e09-4c75-8f9d-6ccf09df57bc",
   "metadata": {},
   "source": [
    "### Lesson 6: Workplace Health and Fire Safety"
   ]
  },
  {
   "cell_type": "code",
   "execution_count": null,
   "id": "fdae5745-5039-4138-b0ac-983aea442ee0",
   "metadata": {},
   "outputs": [],
   "source": [
    "L6P1Q1 = MultipleChoice('1. WhichWorkplace safety is a high priority for every organization.',['True','False'],'True')\n",
    "L6P1Q2 = MultipleChoice('2. Why is your awareness of a fire safety plan is important?',['Know what procedures to follow in case of an emergency','Equips and prepares you for such emergencies', \"Shows the workplaces's commitment to your safety\", 'All of the above'] , 'All of the above')\n",
    "L6P1Q3 = MultipleChoice('3. How do you prevent a computer fire?',['Safe computer storage area','Check power cords', 'Know workplace fire emergency plan', 'All of the above'],'All of the above')\n",
    "L6P1Q4 = MultipleChoice('4. A workplace fire hazard where dust build-up on common areas such as such computers, microwaves and cords?',['Power Circuits','Flammable Liquids', 'Dust Build-up', 'Combustible Materials'],'Dust Build-up')\n",
    "L6P1Q5 = MultipleChoice('5. What is the PASS method?',['Paper, apple, skip, and swim','Pass, aim, squeeze, and sweep', 'Pin, add, sink, and summe', 'Peel, air, sun, and soap'],'Pass, aim, squeeze, and sweep')\n",
    "L6P1Q6 = MultipleChoice('6. How many classes of fire extinguishers are there?',['1', '6', '5', '20'],'5')\n",
    "L6P1Q7 = MultipleChoice('7. Which of the following fire extinguishers are used to put out electrical fires such as for computers and appliances?',['Class C', 'Class K', \"Class A\", 'Class B'],'Class C')\n",
    "L6P1Q8 = MultipleChoice('8. Who on your campus should you talk to if you have more questions about fire and safety?', ['Campus Director', 'Director of Education', 'Instructor', 'Admissions Representative', 'All of the above'], 'All of the above')\n",
    "\n",
    "if __name__ == \"__main__\":\n",
    "    display(L6P1Q1, L6P1Q2, L6P1Q3, L6P1Q4, L6P1Q5, L6P1Q6, L6P1Q7, L6P1Q8)"
   ]
  },
  {
   "cell_type": "markdown",
   "id": "4429f948-9944-499e-b5b1-62a596dfcb69",
   "metadata": {},
   "source": [
    "### Part 2: Agile Project Management\n",
    "\n",
    "### Lesson 1: Introduction to Agile Project Management\n",
    "\n",
    "## Page 4"
   ]
  },
  {
   "cell_type": "code",
   "execution_count": null,
   "id": "b856b95b-0f2e-4077-8033-289c871e58c5",
   "metadata": {},
   "outputs": [],
   "source": [
    "L7P4Q1 = MultipleChoice('1. In which stage of the Software Development Lifecycle (SDLC) do the stakeholders identify system requirements?',['Analysis','Design', 'Implementation', 'Testing'],'Analysis')\n",
    "L7P4Q2 = MultipleChoice('2. In which stage of the Software Development Lifecycle (SDLC) do the system architects evaluate architectural strategies?',['Analysis','Design', 'Implementation', 'Testing'], 'Design')\n",
    "L7P4Q3 = MultipleChoice('3. Development methodologies are recommendations for optimizing how to navigate the essential stages.',['True' ,'False'],'True')\n",
    "\n",
    "if __name__ == \"__main__\":\n",
    "    display(L7P4Q1, L7P4Q2, L7P4Q3)"
   ]
  },
  {
   "cell_type": "markdown",
   "id": "b4c9c954-bfbd-472b-ba89-981ad4ec1cb7",
   "metadata": {},
   "source": [
    "### Lesson 2: Goals of Project Management and Agile\n",
    "## Page 4"
   ]
  },
  {
   "cell_type": "code",
   "execution_count": null,
   "id": "1d73d329",
   "metadata": {},
   "outputs": [],
   "source": [
    "L8P4Q1 = MC('1. Agile is a Just-In-Time management style emphasizing a reduction in waste.',['True', 'False'],'False', incor=\"Lean is a Just-In-Time management style emphasizing a reduction in waste.\\n\", cor=\"\")\n",
    "L8P4Q2 = MultipleChoice('2. Project Management is the application of knowledge, skills, tools, and techniques to produce activities to meet the project requirements.',['True', 'False'], 'True')\n",
    "L8P4Q3 = MC('3. A Program Manager who oversees multiple large projects is known as a Project Manager.',['True' ,'False'],'True',cor=\"\", incor=\"A Program Manager is a title reserved for a Project Manager (PM) who oversees multiple large projects or divisions.\\n\")\n",
    "L8P4Q4 = MultipleChoice('4. A Project Manager is responsible for which of the following?', ['Scheduling project resources', 'Managing the scope of the project', 'Project communication', 'All of the above'], 'All of the above')\n",
    "L8P4Q5 = MultipleChoice('5. A Critical Path is the sequence of tasks which limit the project timeline from being reduced.', ['True', 'False'], 'True')\n",
    "if __name__ == \"__main__\":\n",
    "    display(L8P4Q1, L8P4Q2, L8P4Q3, L8P4Q4, L8P4Q5)"
   ]
  },
  {
   "cell_type": "markdown",
   "id": "b5dd9cb7-5c1f-40a6-b8dc-76b6afed5aa0",
   "metadata": {},
   "source": [
    "## Page 5"
   ]
  },
  {
   "cell_type": "code",
   "execution_count": null,
   "id": "bbfaf144",
   "metadata": {},
   "outputs": [],
   "source": [
    "L8P5Q1 = MultipleChoice('1. A Manifesto is a declaration and description of beliefs and/or purpose.', ['True', 'False'], 'True')\n",
    "L8P5Q2 = MC('2. The 80/20 Rule states that 80% of the effort produces 20% of the value.', ['True', 'False'], 'False', cor=\"\", incor=\"The 80/20 rule states that 80% of the value in our software comes from 20% of the effort.\\n\")\n",
    "L8P5Q3 = MultipleChoice('3. Which definition best describes Application Delivery Lag?', ['The delivery of a non-trivial product.', 'Setting a three year cap on the project timeline.', 'The delay between the identification of a product need and the delivery of a software solution.', 'The overestimation/underestimation of efforts when teams attempt to plan upfront.'], 'The delay between the identification of a product need and the delivery of a software solution.')\n",
    "\n",
    "if __name__ == \"__main__\":\n",
    "    display(L8P5Q1,L8P5Q2, L8P5Q3)"
   ]
  },
  {
   "cell_type": "markdown",
   "id": "17deb68a-34ac-4d66-9cfa-b3fa1d972509",
   "metadata": {},
   "source": [
    "## Page 6"
   ]
  },
  {
   "cell_type": "code",
   "execution_count": null,
   "id": "5b85f250",
   "metadata": {},
   "outputs": [],
   "source": [
    "L8P6Q1 = MultipleChoice('1. In the Agile Manifesto, \"Responding to change\" is favored over which of the following?', ['Processes and Tools', 'Comprehensive Documentation', 'Contract Negotiation', 'Following a Plan'], 'Following a Plan')\n",
    "L8P6Q2 = MC('2. The Agile Manifesto document describes the process of enforcing the twelve principles.', ['True', 'False'], 'False', incor='Take note that the document does not describe how you should go about achieving these principles.\\n', cor= \"\")\n",
    "L8P6Q3 = MC('3. One of the twelve principles of Agile Software Development is: \"Simplicity is the primary measure of progress.\"', ['True','False'], 'False', cor=\"\", incor='Working software is the primary measure of progress.')\n",
    "\n",
    "if __name__ == \"__main__\":\n",
    "    display(L8P6Q1, L8P6Q2, L8P6Q3)"
   ]
  },
  {
   "cell_type": "markdown",
   "id": "1f926d15-f596-4f9a-b4d1-be775200a7c9",
   "metadata": {},
   "source": [
    "## Page 7"
   ]
  },
  {
   "cell_type": "code",
   "execution_count": null,
   "id": "ddb934f0",
   "metadata": {},
   "outputs": [],
   "source": [
    "L8P7Q1 = MultipleChoice('1. A Methodology is a process or approach to solving certain kinds of problems.', ['True', 'False'], 'True')\n",
    "L8P7Q2 = MultipleChoice('2. Which order is correct for the stages in the Waterfall methodology?', ['Requirements, Design, Implementation, Maintenance, Verification', 'Requirements, Verification, Design, Implementation, Maintenance', 'Requirements, Design, Verification, Implementation, Maintenance','Requirements, Design, Implementation, Verification, Maintenance'], 'Requirements, Design, Implementation, Verification, Maintenance')\n",
    "L8P7Q3 = MultipleChoice('3. Technical documentation must be thorough and complete when using the Waterfall method.', ['True','False'], 'True')\n",
    "L8P7Q4 = MultipleChoice('4. Redesigning system features are cheap to make when using the Waterfall method.', ['True', 'False'], 'False')\n",
    "\n",
    "if __name__ == \"__main__\":\n",
    "    display(L8P7Q1, L8P7Q2, L8P7Q3, L8P7Q4)"
   ]
  },
  {
   "cell_type": "markdown",
   "id": "b7c88145-f91a-44ef-8ef0-933744fe1c42",
   "metadata": {},
   "source": [
    "# Lesson 3: Scrum\n",
    "\n",
    "## Page 2"
   ]
  },
  {
   "cell_type": "code",
   "execution_count": null,
   "id": "4664f630",
   "metadata": {},
   "outputs": [],
   "source": [
    "L9P2Q1 = MultipleChoice('1. Which of the following is NOT one of the Three Pillars of Scrum?', ['Transparency', 'Inspection', 'Adaptation', 'Consistency'], 'Consistency')\n",
    "L9P2Q2 = MultipleChoice('2. The intent behind Scrum was to avoid poor communication and reduce wasted time and resources.', ['True', 'False'], 'True')\n",
    "\n",
    "if __name__ == \"__main__\":\n",
    "    display(L9P2Q1,L9P2Q2)"
   ]
  },
  {
   "cell_type": "markdown",
   "id": "f4fedd88-e995-44d0-923e-ca97eefad6a2",
   "metadata": {},
   "source": [
    "## Page 3"
   ]
  },
  {
   "cell_type": "code",
   "execution_count": null,
   "id": "fcd83ef7-a05c-4926-ba7d-57599d416c88",
   "metadata": {},
   "outputs": [],
   "source": [
    "L9P3Q1 = MultipleChoice('1. The Scrum Master is more focused on guarding the team from external distraction instead of leading the team.', ['True', 'False'], 'True')\n",
    "L9P3Q2 = MultipleChoice('2. The primary goal of the Product Owner is to ensure the backlog is always current and prioritized.', ['True', 'False'], 'True')\n",
    "L9P3Q3 = MultipleChoice('3. Which of the following is NOT a common responsibility for the Product Owner?', ['Create User Stories', 'FaDesign the architecture of the softwarelse', 'Communicate progress and schedule releases', 'Demonstrate the product'], 'Design the architecture of the software')\n",
    "L9P3Q4 = MultipleChoice('4. What is the recommended maximum size of a Scrum team?', ['5', '9', '11','15'], '11')\n",
    "\n",
    "if __name__ == \"__main__\":\n",
    "    display(L9P3Q1, L9P3Q2, L9P3Q3, L9P3Q4)"
   ]
  },
  {
   "cell_type": "markdown",
   "id": "18c9dbf3-3fcb-467e-9efd-95fa6c3ed4c4",
   "metadata": {},
   "source": [
    "## Page 4"
   ]
  },
  {
   "cell_type": "code",
   "execution_count": null,
   "id": "44edc405-9aa3-4909-8e42-bac09752e029",
   "metadata": {},
   "outputs": [],
   "source": [
    "L9P4Q1 = MC('1. User Stories are tasks from the perspective of the Scrum Master.' ,['True', 'False'], 'False', incor= \"User Stories are tasks from the perspective of the User.\\n\" , cor=\"\")\n",
    "L9P4Q2 = MultipleChoice('2. A Backlog refers to the queue of pending User Stories.' ,['True', 'False'], 'True')\n",
    "L9P4Q3 = MultipleChoice(\"3. What's the difference between a Product Backlog and a Sprint Backlog?\" ,['The Product Backlog contains User Stories. The Sprint Backlog contains User Stories and feature requests.', 'The Product Backlog contains both User Stories and features. The Sprint Backlog contains User Stories.'], 'The Product Backlog contains both User Stories and features. The Sprint Backlog contains User Stories.')\n",
    "L9P4Q4 = MultipleChoice('4. Swim Lanes are task statuses (e.g., To-Do, Doing, Done).' ,['True', 'False'], 'True')\n",
    "L9P4Q5 = MC('5. The Definition of Done is a task which has been coded, tested and shipped into production.' ,['True', 'False'], 'False', incor=\"The Definition of Done is agreed upon by the team through discussion.\", cor=\"\")\n",
    "\n",
    "\n",
    "if __name__ == \"__main__\":\n",
    "    display(L9P4Q1, L9P4Q2, L9P4Q3, L9P4Q4, L9P4Q5)"
   ]
  },
  {
   "cell_type": "markdown",
   "id": "95b31627-ff50-4680-bcd0-eb8e7991b2cb",
   "metadata": {},
   "source": [
    "## Page 5"
   ]
  },
  {
   "cell_type": "code",
   "execution_count": null,
   "id": "ef4b2fbd-df97-478a-b5eb-2baf5e0be849",
   "metadata": {},
   "outputs": [],
   "source": [
    "L9P5Q1 = MC('1. A Daily Standup is a team meeting in which the team determines and commits to the User Stories to be completed within the sprint.' ,['True', 'False'], 'False', incor= \"Daily Standup is intended to be as brief as possible, typically under 15 minutes.\\n\" , cor=\"\")\n",
    "L9P5Q2 = MC('2. In a Scrum Workflow, the duration of a timebox may be changed mid-sprint to accommodate new requirements.' ,['True', 'False'], 'False', incor=\"Although the duration of the timebox, referred to as the Sprint, is negotiable, the duration should not be changed mid-sprint.\\n\", cor=\"\")\n",
    "L9P5Q3 = MultipleChoice(\"3. Which of the following is NOT a question asked during Daily Standup?\" ,['What did you do yesterday?.', 'What do you plan to do today?', 'What are you planning to do tomorrow?', 'What impediments are in your way?'], 'What are you planning to do tomorrow?')\n",
    "L9P5Q4 = MultipleChoice('4. Scrum teams should consider adding a Backlog Grooming meeting before sprint planning if desired.' ,['True', 'False'], 'True')\n",
    "\n",
    "if __name__ == \"__main__\":\n",
    "    display(L9P5Q1, L9P5Q2, L9P5Q3, L9P5Q4)"
   ]
  },
  {
   "cell_type": "markdown",
   "id": "6d7dd4fe-75a8-4e47-9dc5-dad329cda423",
   "metadata": {},
   "source": [
    "## Page 7"
   ]
  },
  {
   "cell_type": "code",
   "execution_count": null,
   "id": "b509b66f-a270-4385-bfb6-aa9b7346c1d8",
   "metadata": {},
   "outputs": [],
   "source": [
    "L9P7Q1 = MC('1. When choosing a system to track your Scrum team, it is advised to start with a scrum management system with advanced functionality to meet the needs of the team.' ,['True', 'False'], 'False', incor= \"It is a common pitfall that teams find themselves adopting the most sophisticated system available, when a whiteboard or sticky notes may suffice while saving time and money.\\n\" , cor=\"\")\n",
    "L9P7Q2 = MC(\"2. The essential aspects of tracking can be reduced to knowing the status of the current spring and knowing what's in the product backlog.\" ,['True', 'False'], 'True', incor=\"\", cor=\"\")\n",
    "L9P7Q3 = MultipleChoice(\"3. TFS offers many features found in JIRA with the added benefit of being tightly integrated with the Microsoft platform.\", ['True', 'False'], 'True')\n",
    "\n",
    "if __name__ == \"__main__\":\n",
    "    display(L9P7Q1, L9P7Q2, L9P7Q3)"
   ]
  },
  {
   "cell_type": "markdown",
   "id": "c53055f6-f0d5-46a2-9d6e-f7725433669c",
   "metadata": {},
   "source": [
    "## Page 8"
   ]
  },
  {
   "cell_type": "code",
   "execution_count": null,
   "id": "dd8631ff-e1a3-40a2-b479-46ba3e2405f0",
   "metadata": {},
   "outputs": [],
   "source": [
    "L9P8Q1 = MC('1. Man-hours are a fair representation of the true work a task will require.' ,['True', 'False'], 'False', incor= \"The fact of the matter is, the hours are inevitably a misrepresentation of the true work.\\n\" , cor=\"\")\n",
    "L9P8Q2 = MC('2. The most common pitfall to implementing scrum is giving up too early.' ,['True', 'False'], 'True', incor=\"\", cor=\"\")\n",
    "L9P8Q3 = MC(\"3. Be Scrum First, Be Agile Second\" ,['True', 'False'], 'False', incor= \"Be Agile First, Be Scrum Second\", cor=\"\")\n",
    "\n",
    "if __name__ == \"__main__\":\n",
    "    display(L9P8Q1, L9P8Q2, L9P8Q3)"
   ]
  },
  {
   "cell_type": "markdown",
   "id": "f46911ae-d317-4925-8bc7-af4368753eb8",
   "metadata": {},
   "source": [
    "# Lesson 4: Kanban\n",
    "## Page 2"
   ]
  },
  {
   "cell_type": "code",
   "execution_count": null,
   "id": "2f69e836-542e-482c-9292-8b4e95daea06",
   "metadata": {},
   "outputs": [],
   "source": [
    "L10P2Q1 = MultipleChoice('1. Kanban is a project management method with an emphasis on continual delivery and reducing waste.', ['True', 'False'], 'True')\n",
    "L10P2Q2 = MultipleChoice('2. Which pillar of Kanban should be used to show team progress and bottlenecks?', ['Visualize what you do today', 'Limit the work-in-progress', 'Enhance flow', 'Continuous improvement'], 'Visualize what you do today')\n",
    "L10P2Q3 = MultipleChoice('3. Which pillar of Kanban helps the team to avoid overcommitting?', ['Visualize what you do today', 'Limit the work-in-progress', 'Enhance flow', 'Continuous improvement'], 'Limit the work-in-progress')\n",
    "L10P2Q4 = MultipleChoice('4. Which pillar of Kanban describes the pace of work?', ['Visualize what you do today', 'Limit the work-in-progress', 'Enhance flow', 'Continuous improvement'], 'Enhance flow')\n",
    "L10P2Q5 = MultipleChoice('5. Which pillar of Kanban describes how we should improve efficiencies through the constant re-evaluation of our processes?', ['Visualize what you do today', 'Limit the work-in-progress','Enhance flow', 'Continuous improvement'], 'Continuous improvement')\n",
    "L10P2Q6 = MultipleChoice('6. While Scrum has timeboxed sprints, Kanban has Continuous Delivery.', ['True', 'False'], 'True')\n",
    "\n",
    "if __name__ == \"__main__\":\n",
    "    display(L10P2Q1,L10P2Q2, L10P2Q3, L10P2Q4, L10P2Q5, L10P2Q6)"
   ]
  },
  {
   "cell_type": "markdown",
   "id": "d04bf690-dfc4-462f-8881-158159211e0c",
   "metadata": {},
   "source": [
    "## Page 3"
   ]
  },
  {
   "cell_type": "code",
   "execution_count": null,
   "id": "72806b07-9ab1-46d0-946f-c1255d209f15",
   "metadata": {},
   "outputs": [],
   "source": [
    "L10P3Q1 = MultipleChoice(\"1. A Kanban Board is a visual representation of the Kanban project's current status.\", ['True', 'False'], 'True')\n",
    "L10P3Q2 = MultipleChoice('2. What is used to describe task details and documentation on a Kanban board?', ['Swimlane', 'Slice', 'Card', 'Note'], 'Card')\n",
    "L10P3Q3 = MultipleChoice('3. Which is NOT a typical Kanban Board swimlane?', ['To Do', 'Doing', 'Done', 'Backlog'], 'Backlog')\n",
    "\n",
    "if __name__ == \"__main__\":\n",
    "    display(L10P3Q1,L10P3Q2, L10P3Q3)"
   ]
  },
  {
   "cell_type": "markdown",
   "id": "0fabcbc0-737b-44d7-a00a-719a2d39461f",
   "metadata": {},
   "source": [
    "## Page 4"
   ]
  },
  {
   "cell_type": "code",
   "execution_count": null,
   "id": "ac19e3fa-517e-4abe-9041-ef744961875d",
   "metadata": {},
   "outputs": [],
   "source": [
    "L10P4Q1 = MultipleChoice('1. Restricting the Work-In-Progress immediately identifies bottlenecks and skill gaps.', ['True', 'False'], 'True')\n",
    "L10P4Q2 = MC('2. The ultimate benefit of Kanban is passed on to the developer through a higher-quality product or service.', ['True', 'False'], 'False', incor=\"The ultimate benefit of Kanban is passed on to the customer through a higher-quality product or service at a cost-effective price due to the decrease in waste.\", cor=\"\")\n",
    "\n",
    "if __name__ == \"__main__\":\n",
    "    display(L10P4Q1,L10P4Q2)"
   ]
  },
  {
   "cell_type": "markdown",
   "id": "6d3aa5ce-da69-4bc6-8b2f-504209192c6b",
   "metadata": {},
   "source": [
    "## Page 6"
   ]
  },
  {
   "cell_type": "code",
   "execution_count": null,
   "id": "df7c2901-6761-46b6-b979-d7ae4978a28c",
   "metadata": {},
   "outputs": [],
   "source": [
    "L10P6Q1 = MultipleChoice('1. In a Kanban workflow, there is no concept of a sprint.', ['True', 'False'], 'True')\n",
    "L10P6Q2 = MC('2. Kanban teams rely on limiting Work-In-Progress to throttle the flow of cards.', ['True', 'False'], 'True', incor=\"\", cor=\"\")\n",
    "L10P6Q3 = MC('3. The team can pull a card from the top of the sprint backlog at any time.', ['True', 'False'], 'False', incor=\"Sprint backlogs don't exist on a Kanban team, since there is no concept of a sprint.\", cor=\"\")\n",
    "if __name__ == \"__main__\":\n",
    "    display(L10P6Q1,L10P6Q2,L10P6Q3)"
   ]
  },
  {
   "cell_type": "markdown",
   "id": "6d365bc4-aee4-4c00-b807-db58d0d70ba3",
   "metadata": {},
   "source": [
    "# Lesson 5: Project Planning\n",
    "## Page 4"
   ]
  },
  {
   "cell_type": "code",
   "execution_count": null,
   "id": "637f0c38-0289-42a7-9fa8-d00048b77a25",
   "metadata": {},
   "outputs": [],
   "source": [
    "L11P4Q1 = MultipleChoice('1. The critical path is tasks that form the minimum time that is required to complete the project.',['True', 'False'],'True')\n",
    "L11P4Q2 = MC('2. A Gantt chart is a good tool for tracking individual tasks assigned to team members.',['True', 'False'],'False', incor= \"Gantt charts are best for big picture tasks such as parts of your project and not individual tasks that are part of a Scrum sprint or Kanban board.\", cor=\"\")\n",
    "\n",
    "if __name__ == \"__main__\":\n",
    "    display(L11P4Q1, L11P4Q2)"
   ]
  },
  {
   "cell_type": "markdown",
   "id": "9be08911-c11f-4949-b1df-38de497159a3",
   "metadata": {},
   "source": [
    "## Lesson 5 Exam (25 Q)"
   ]
  },
  {
   "cell_type": "markdown",
   "id": "dc421ee8-d611-4ccf-a33b-61bcccbc31b8",
   "metadata": {},
   "source": [
    "# Lesson 6 repeats, see \"Workplace Health and Fire Safety\" above"
   ]
  }
 ],
 "metadata": {
  "kernelspec": {
   "display_name": "Python 3 (ipykernel)",
   "language": "python",
   "name": "python3"
  },
  "language_info": {
   "codemirror_mode": {
    "name": "ipython",
    "version": 3
   },
   "file_extension": ".py",
   "mimetype": "text/x-python",
   "name": "python",
   "nbconvert_exporter": "python",
   "pygments_lexer": "ipython3",
   "version": "3.9.7"
  }
 },
 "nbformat": 4,
 "nbformat_minor": 5
}
