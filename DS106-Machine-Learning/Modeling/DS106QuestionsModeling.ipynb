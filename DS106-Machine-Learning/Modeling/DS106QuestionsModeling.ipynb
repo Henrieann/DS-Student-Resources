{
 "cells": [
  {
   "cell_type": "markdown",
   "metadata": {},
   "source": [
    "### DSO106 Modeling"
   ]
  },
  {
   "cell_type": "code",
   "execution_count": 1,
   "metadata": {},
   "outputs": [],
   "source": [
    "from DS_Students import *"
   ]
  },
  {
   "cell_type": "markdown",
   "metadata": {},
   "source": [
    "### lesson 1 Modeling with Linear Regression"
   ]
  },
  {
   "cell_type": "markdown",
   "metadata": {},
   "source": [
    "### L1P2 Quiz\n"
   ]
  },
  {
   "cell_type": "code",
   "execution_count": 2,
   "metadata": {},
   "outputs": [],
   "source": [
    "L1P2Q1 = MultipleChoice('1. If the equation of a line is y = 3x – 2, where does it cross the y-axis?',['A. -2','B. 2','C. 3', 'D. 3/2'],'A. -2')\n",
    "L1P2Q2 = MultipleChoice('2. If the equation of a line is y = 3x – 2, what happens to the value of y as x increases?',['A. For every increase in x by 1, y increase by 2','B. For every increase in x by 1, y decreases by 3','C. For every increase in x by 2, y increases by 3', 'D. For every increase in x by 1, y increases by 3'],'D. For every increase in x by 1, y increases by 3')\n",
    "L1P2Q3 = MultipleChoice('3. For the linear regression equation y = -3.4x + 1.2, what is the slope?',['A. 1.2','B. -1.2','C. -3.4', 'D. 3.4'],'C. -3.4')\n",
    "L1P2Q4 = MultipleChoice('4. For the linear regression equation y = –3.4x + 1.2, what is the y-intercept?',['A. 1.2','B. -1.2','C. -3.4', 'D. 3.4'],'A. 1.2')\n",
    "L1P2Q5 = MultipleChoice('4. If a line crosses the y-axis at −3 and has a slope of 52, how would you write the equation of this line?',['A. y=-52x + 3','B. y=52x - 3','C. y=3x -52', 'D. y= -3x +52'],'B. y=52x - 3')\n"
   ]
  },
  {
   "cell_type": "code",
   "execution_count": 3,
   "metadata": {},
   "outputs": [
    {
     "data": {
      "application/vnd.jupyter.widget-view+json": {
       "model_id": "f995b5124354499b8e737bb5360e357e",
       "version_major": 2,
       "version_minor": 0
      },
      "text/plain": [
       "VBox(children=(Output(), RadioButtons(layout=Layout(width='max-content'), options=(('A. -2', 0), ('B. 2', 1), …"
      ]
     },
     "metadata": {},
     "output_type": "display_data"
    },
    {
     "data": {
      "application/vnd.jupyter.widget-view+json": {
       "model_id": "07f9fbf5b4d34c62b7378392d91a6163",
       "version_major": 2,
       "version_minor": 0
      },
      "text/plain": [
       "VBox(children=(Output(), RadioButtons(layout=Layout(width='max-content'), options=(('A. For every increase in …"
      ]
     },
     "metadata": {},
     "output_type": "display_data"
    },
    {
     "data": {
      "application/vnd.jupyter.widget-view+json": {
       "model_id": "7e3683d811364b0ca9be7c3d13bc9dac",
       "version_major": 2,
       "version_minor": 0
      },
      "text/plain": [
       "VBox(children=(Output(), RadioButtons(layout=Layout(width='max-content'), options=(('A. 1.2', 0), ('B. -1.2', …"
      ]
     },
     "metadata": {},
     "output_type": "display_data"
    },
    {
     "data": {
      "application/vnd.jupyter.widget-view+json": {
       "model_id": "f747a6a8be984250a890b044a10b531a",
       "version_major": 2,
       "version_minor": 0
      },
      "text/plain": [
       "VBox(children=(Output(), RadioButtons(layout=Layout(width='max-content'), options=(('A. 1.2', 0), ('B. -1.2', …"
      ]
     },
     "metadata": {},
     "output_type": "display_data"
    },
    {
     "data": {
      "application/vnd.jupyter.widget-view+json": {
       "model_id": "aa06c6df8f98442c9ce334b3e4487b0a",
       "version_major": 2,
       "version_minor": 0
      },
      "text/plain": [
       "VBox(children=(Output(), RadioButtons(layout=Layout(width='max-content'), options=(('A. y=-52x + 3', 0), ('B. …"
      ]
     },
     "metadata": {},
     "output_type": "display_data"
    }
   ],
   "source": [
    "if __name__ == \"__main__\":\n",
    "    display(L1P2Q1, L1P2Q2, L1P2Q3, L1P2Q4, L1P2Q5)"
   ]
  },
  {
   "cell_type": "markdown",
   "metadata": {},
   "source": [
    "### L1P3 Quiz"
   ]
  },
  {
   "cell_type": "code",
   "execution_count": 4,
   "metadata": {},
   "outputs": [],
   "source": [
    "L1P3Q1 = MultipleChoice('1. Using the equation y = 7.660x −18.274 where y is the crocodile body length and x is the crocodile skull length. The fossil of the mature specimen of sarcosuchus had a head length of 160 cm. Using the linear regression equation, how long would the body would be?',['A. 796 cm','B. 854 cm','C. 1207 cm', 'D. 1398 cm'],'C. 1207 cm')"
   ]
  },
  {
   "cell_type": "code",
   "execution_count": 5,
   "metadata": {},
   "outputs": [
    {
     "data": {
      "application/vnd.jupyter.widget-view+json": {
       "model_id": "d3f42b9e76ff40159d6cb6c127c08587",
       "version_major": 2,
       "version_minor": 0
      },
      "text/plain": [
       "VBox(children=(Output(), RadioButtons(layout=Layout(width='max-content'), options=(('A. 796 cm', 0), ('B. 854 …"
      ]
     },
     "metadata": {},
     "output_type": "display_data"
    }
   ],
   "source": [
    "if __name__ == \"__main__\":\n",
    "    display(L1P3Q1)"
   ]
  },
  {
   "cell_type": "markdown",
   "metadata": {},
   "source": [
    "### L1P4 Quiz"
   ]
  },
  {
   "cell_type": "code",
   "execution_count": 6,
   "metadata": {},
   "outputs": [],
   "source": [
    "L1P4Q1 = MultipleChoice('1.True or False? The residual is the difference between your prediction and reality.',['A. True','B. False'],'A. True')\n",
    "L1P4Q2 = MC('2. In an ideal world, would you want a small or large residual?',['A. Small','B. Large'], 'A. Small',cor=\"A small residual indicates that your model is relatively accurate and thus not prone to much error.\", incor=\"\")"
   ]
  },
  {
   "cell_type": "code",
   "execution_count": 7,
   "metadata": {},
   "outputs": [
    {
     "data": {
      "application/vnd.jupyter.widget-view+json": {
       "model_id": "2a1f3822a7b04388a189f0b18f124500",
       "version_major": 2,
       "version_minor": 0
      },
      "text/plain": [
       "VBox(children=(Output(), RadioButtons(layout=Layout(width='max-content'), options=(('A. True', 0), ('B. False'…"
      ]
     },
     "metadata": {},
     "output_type": "display_data"
    },
    {
     "data": {
      "application/vnd.jupyter.widget-view+json": {
       "model_id": "f5feaa584b5c4e8d92eaa6484d55b9ce",
       "version_major": 2,
       "version_minor": 0
      },
      "text/plain": [
       "VBox(children=(Output(), RadioButtons(layout=Layout(width='max-content'), options=(('A. Small', 0), ('B. Large…"
      ]
     },
     "metadata": {},
     "output_type": "display_data"
    }
   ],
   "source": [
    "if __name__ == \"__main__\":\n",
    "    display(L1P4Q1, L1P4Q2)"
   ]
  },
  {
   "cell_type": "markdown",
   "metadata": {},
   "source": [
    "### L1P5 Quiz"
   ]
  },
  {
   "cell_type": "code",
   "execution_count": 8,
   "metadata": {},
   "outputs": [],
   "source": [
    "L1P5Q1 = MC('1. Which of the following assumptions DOES NOT deal with residuals (error)?',['A. Testing for a linear relationship','B. Homoscedasticity','C. Homogeneity of variance', 'D. Lack of outliers'],'D. Lack of outliers', cor=\"You'll look at your actual data, not the residuals, to look for outliers.\", incor=\"\")\n",
    "L1P5Q2 = MC('2. Does the plot above meet the assumption of homogeneity of variance?',['A. Yes','B. No'],'B. No', cor=\"Since the points are not flat, but rather form a cone shape, you have not met the assumption of homogeneity of variance.\", incor=\"\")\n",
    "L1P5Q3 = MultipleChoice('3. Which of the following assumptions CANNOT be tested?',['A. Multicollinearity','B. Linearity','C. Xs are measured without error', 'D. Outliers'],'C. Xs are measured without error')\n",
    "L1P5Q4 = MultipleChoice('4. Which type of outlier is extreme in both x and y space?',['A. Leverage','B. Distance','C. Influential'],'C. Influential')\n",
    "L1P5Q5 = MultipleChoice('5. If you find an outlier, before removing it, what should you do?',['A. Check the data for errors','B. Run another statistic','C. Run the model with and without the outlier', 'D. You should try all of the above first'],'D. You should try all of the above first')\n"
   ]
  },
  {
   "cell_type": "code",
   "execution_count": 9,
   "metadata": {},
   "outputs": [
    {
     "data": {
      "application/vnd.jupyter.widget-view+json": {
       "model_id": "b3a3f2e337a7434690b131b54b93003f",
       "version_major": 2,
       "version_minor": 0
      },
      "text/plain": [
       "VBox(children=(Output(), RadioButtons(layout=Layout(width='max-content'), options=(('A. Testing for a linear r…"
      ]
     },
     "metadata": {},
     "output_type": "display_data"
    }
   ],
   "source": [
    "if __name__ == \"__main__\":\n",
    "    display(L1P5Q1)"
   ]
  },
  {
   "cell_type": "markdown",
   "metadata": {},
   "source": [
    "<img src=\"Media/modeling2.png\" alt=\"Drawing\" style=\"width: 400px;\"/>\n",
    "\n"
   ]
  },
  {
   "cell_type": "code",
   "execution_count": 10,
   "metadata": {},
   "outputs": [
    {
     "data": {
      "application/vnd.jupyter.widget-view+json": {
       "model_id": "243dfee7b151468fb64e2f28a39fbbfe",
       "version_major": 2,
       "version_minor": 0
      },
      "text/plain": [
       "VBox(children=(Output(), RadioButtons(layout=Layout(width='max-content'), options=(('A. Yes', 0), ('B. No', 1)…"
      ]
     },
     "metadata": {},
     "output_type": "display_data"
    }
   ],
   "source": [
    "if __name__ == \"__main__\":\n",
    "    display(L1P5Q2)"
   ]
  },
  {
   "cell_type": "code",
   "execution_count": 11,
   "metadata": {},
   "outputs": [
    {
     "data": {
      "application/vnd.jupyter.widget-view+json": {
       "model_id": "a45b151403f641438f451fa8ce022f85",
       "version_major": 2,
       "version_minor": 0
      },
      "text/plain": [
       "VBox(children=(Output(), RadioButtons(layout=Layout(width='max-content'), options=(('A. Multicollinearity', 0)…"
      ]
     },
     "metadata": {},
     "output_type": "display_data"
    },
    {
     "data": {
      "application/vnd.jupyter.widget-view+json": {
       "model_id": "75f1f251bbed48ffbc4213f0993e4a72",
       "version_major": 2,
       "version_minor": 0
      },
      "text/plain": [
       "VBox(children=(Output(), RadioButtons(layout=Layout(width='max-content'), options=(('A. Leverage', 0), ('B. Di…"
      ]
     },
     "metadata": {},
     "output_type": "display_data"
    },
    {
     "data": {
      "application/vnd.jupyter.widget-view+json": {
       "model_id": "5b0e7451ac0949e984578c7b8fe5e414",
       "version_major": 2,
       "version_minor": 0
      },
      "text/plain": [
       "VBox(children=(Output(), RadioButtons(layout=Layout(width='max-content'), options=(('A. Check the data for err…"
      ]
     },
     "metadata": {},
     "output_type": "display_data"
    }
   ],
   "source": [
    "if __name__ == \"__main__\":\n",
    "    display(L1P5Q3, L1P5Q4, L1P5Q5)"
   ]
  },
  {
   "cell_type": "markdown",
   "metadata": {},
   "source": [
    "### L1P6 Quiz"
   ]
  },
  {
   "cell_type": "code",
   "execution_count": 12,
   "metadata": {},
   "outputs": [],
   "source": [
    "L1P6Q1 = MC('1. Which functions are used for homoscedasticity?',['A. bptest()','B. ncvtest()','C. BoxCoxTrans()', 'D. All of the above'],'D. All of the above', cor=\"bptest() and ncvtest() are used to test for homoscedasticity, and BoxCoxTrans() is used to correct for homoscedasticity\", incor=\"\")\n",
    "L1P6Q2 = MultipleChoice('2. True or False? Interpret the output of the gvlma() function with care.',['A. True','B. False'],'A. True')\n",
    "L1P6Q3 = MultipleChoice('3. Which of the following will test for influential outliers?',['A. CookD()','B. hat()','C. outlierTest()', 'D. influence.measures()'],'D. influence.measures()')"
   ]
  },
  {
   "cell_type": "code",
   "execution_count": 13,
   "metadata": {},
   "outputs": [
    {
     "data": {
      "application/vnd.jupyter.widget-view+json": {
       "model_id": "11ca450e61ae48c58fead4c885809608",
       "version_major": 2,
       "version_minor": 0
      },
      "text/plain": [
       "VBox(children=(Output(), RadioButtons(layout=Layout(width='max-content'), options=(('A. bptest()', 0), ('B. nc…"
      ]
     },
     "metadata": {},
     "output_type": "display_data"
    },
    {
     "data": {
      "application/vnd.jupyter.widget-view+json": {
       "model_id": "ef67e24533b6411a9d29e3a7be366306",
       "version_major": 2,
       "version_minor": 0
      },
      "text/plain": [
       "VBox(children=(Output(), RadioButtons(layout=Layout(width='max-content'), options=(('A. True', 0), ('B. False'…"
      ]
     },
     "metadata": {},
     "output_type": "display_data"
    },
    {
     "data": {
      "application/vnd.jupyter.widget-view+json": {
       "model_id": "a7124374ea9e4bfca21994d94e6ae732",
       "version_major": 2,
       "version_minor": 0
      },
      "text/plain": [
       "VBox(children=(Output(), RadioButtons(layout=Layout(width='max-content'), options=(('A. CookD()', 0), ('B. hat…"
      ]
     },
     "metadata": {},
     "output_type": "display_data"
    }
   ],
   "source": [
    "if __name__ == \"__main__\":\n",
    "    display(L1P6Q1, L1P6Q2, L1P6Q3)"
   ]
  },
  {
   "cell_type": "markdown",
   "metadata": {},
   "source": [
    "### L1P7 Quiz"
   ]
  },
  {
   "cell_type": "code",
   "execution_count": 14,
   "metadata": {},
   "outputs": [],
   "source": [
    "L1P7Q1 = MC('1. Which hypothesis is this for regression? The slope is not equal to zero.',['A. Null hypothesis', 'B. Alternative hypothesis'],'B. Alternative hypothesis', cor=\"This means that you have some sort of linear relationship between the variables!\", incor=\"\")\n",
    "L1P7Q2 = MC('2. What is the first thing you should examine in your regression output?',['A. Coefficients table','B. t-value','C. Multiple R-squared', 'D. F-statistic'],'D. F-statistic', cor=\"This will show overall whether the model is significant or not. A p value < .05 related to the F statistic means that the independent variable is significantly influencing the dependent variable.\", incor=\"\")\n",
    "L1P7Q3 = MultipleChoice('3. What is the difference between Multiple R Squared and Adjusted R Squared?',['A. Multiple R Squared corrects for the number of variables in the model; use Multiple R Squared','B. Multiple R Squared corrects for the number of variables in the model; use Adjusted R Squared','C. Adjusted R Squared corrects for the number of variables in the model; use Adjusted R Squared', 'D. Adjusted R Squared corrects for the number of variables in the model; use Multiple R Squared'],'C. Adjusted R Squared corrects for the number of variables in the model; use Adjusted R Squared')\n",
    "L1P7Q4 = MultipleChoice('4. When looking at the raw regression output, how would you interpret the coefficients?',['A. The variable is significant if the p value associated with the t test is < .05','B. Ignore the (Intercept) row','C. For every 1 unit influence in the specified x variable, there will be change in the y as specified under the Estimate column', 'D. All of the above'],'D. All of the above')"
   ]
  },
  {
   "cell_type": "code",
   "execution_count": 15,
   "metadata": {},
   "outputs": [
    {
     "data": {
      "application/vnd.jupyter.widget-view+json": {
       "model_id": "7ead59821ab647e582a0d3f5d81be1a1",
       "version_major": 2,
       "version_minor": 0
      },
      "text/plain": [
       "VBox(children=(Output(), RadioButtons(layout=Layout(width='max-content'), options=(('A. Null hypothesis', 0), …"
      ]
     },
     "metadata": {},
     "output_type": "display_data"
    },
    {
     "data": {
      "application/vnd.jupyter.widget-view+json": {
       "model_id": "397795adda35450ab8dcdef6ece786bb",
       "version_major": 2,
       "version_minor": 0
      },
      "text/plain": [
       "VBox(children=(Output(), RadioButtons(layout=Layout(width='max-content'), options=(('A. Coefficients table', 0…"
      ]
     },
     "metadata": {},
     "output_type": "display_data"
    },
    {
     "data": {
      "application/vnd.jupyter.widget-view+json": {
       "model_id": "d23e75be6d4848a7a184cee03447c4ba",
       "version_major": 2,
       "version_minor": 0
      },
      "text/plain": [
       "VBox(children=(Output(), RadioButtons(layout=Layout(width='max-content'), options=(('A. Multiple R Squared cor…"
      ]
     },
     "metadata": {},
     "output_type": "display_data"
    },
    {
     "data": {
      "application/vnd.jupyter.widget-view+json": {
       "model_id": "a29ba5cb24ed4164a57447decdb11058",
       "version_major": 2,
       "version_minor": 0
      },
      "text/plain": [
       "VBox(children=(Output(), RadioButtons(layout=Layout(width='max-content'), options=(('A. The variable is signif…"
      ]
     },
     "metadata": {},
     "output_type": "display_data"
    }
   ],
   "source": [
    "if __name__ == \"__main__\":\n",
    "    display(L1P7Q1, L1P7Q2, L1P7Q3, L1P7Q4)"
   ]
  },
  {
   "cell_type": "markdown",
   "metadata": {},
   "source": [
    "### L1P8 Quiz"
   ]
  },
  {
   "cell_type": "code",
   "execution_count": 16,
   "metadata": {},
   "outputs": [],
   "source": [
    "L1P8Q1 = MultipleChoice('1. Which of the following is NOT a way to check for outliers in Python?',['A. sms.linear_harvey_collier()', 'B. sms.graphics.influence_plot()', 'C. model.get_influence()'],'A. sms.linear_harvey_collier()')\n",
    "L1P8Q2 = MultipleChoice('2. You have a problem with DFFITS and DFBETAS if their value is:',['A. Between .2-.5','B. Over .5','C. Greater than 1', 'D. Over 2.5-3'], 'C. Greater than 1')\n"
   ]
  },
  {
   "cell_type": "code",
   "execution_count": 17,
   "metadata": {},
   "outputs": [
    {
     "data": {
      "application/vnd.jupyter.widget-view+json": {
       "model_id": "8844d2c7dcae4c6aabddfcda3312bde3",
       "version_major": 2,
       "version_minor": 0
      },
      "text/plain": [
       "VBox(children=(Output(), RadioButtons(layout=Layout(width='max-content'), options=(('A. sms.linear_harvey_coll…"
      ]
     },
     "metadata": {},
     "output_type": "display_data"
    },
    {
     "data": {
      "application/vnd.jupyter.widget-view+json": {
       "model_id": "b9e988dace6340b99963ac4c6e4104c0",
       "version_major": 2,
       "version_minor": 0
      },
      "text/plain": [
       "VBox(children=(Output(), RadioButtons(layout=Layout(width='max-content'), options=(('A. Between .2-.5', 0), ('…"
      ]
     },
     "metadata": {},
     "output_type": "display_data"
    }
   ],
   "source": [
    "if __name__ == \"__main__\":\n",
    "    display(L1P8Q1, L1P8Q2)"
   ]
  },
  {
   "cell_type": "markdown",
   "metadata": {},
   "source": [
    "### L1P9 Quiz"
   ]
  },
  {
   "cell_type": "code",
   "execution_count": 18,
   "metadata": {},
   "outputs": [],
   "source": [
    "L1P9Q1 = MultipleChoice('1. Which of the following should be close to zero to pass the assumptions listed in the output?',['A. Omnibus', 'B. Prob(Omnibus)', 'C. Skew', 'D. Kurtosis', 'E. Jarque-Bera', 'F. Prob(JB)', 'G. All of the above'],'G. All of the above')\n",
    "L1P9Q2 = MC('2. You have high multicollinearity if the condition number is less than 30.',['A. True','B. False'], 'B. False', cor=\"Less than 30 is good-it means your multicollinearity is low.\", incor=\"\")\n"
   ]
  },
  {
   "cell_type": "code",
   "execution_count": 19,
   "metadata": {},
   "outputs": [
    {
     "data": {
      "application/vnd.jupyter.widget-view+json": {
       "model_id": "0867d15b5b2347489d355484cb0b2f79",
       "version_major": 2,
       "version_minor": 0
      },
      "text/plain": [
       "VBox(children=(Output(), RadioButtons(layout=Layout(width='max-content'), options=(('A. Omnibus', 0), ('B. Pro…"
      ]
     },
     "metadata": {},
     "output_type": "display_data"
    },
    {
     "data": {
      "application/vnd.jupyter.widget-view+json": {
       "model_id": "baee2ef816a6456d9492096a8d1886d2",
       "version_major": 2,
       "version_minor": 0
      },
      "text/plain": [
       "VBox(children=(Output(), RadioButtons(layout=Layout(width='max-content'), options=(('A. True', 0), ('B. False'…"
      ]
     },
     "metadata": {},
     "output_type": "display_data"
    }
   ],
   "source": [
    "if __name__ == \"__main__\":\n",
    "    display(L1P9Q1, L1P9Q2)"
   ]
  },
  {
   "cell_type": "markdown",
   "metadata": {},
   "source": [
    "### Lesson 2 Modeling with Logistic Regression"
   ]
  },
  {
   "cell_type": "markdown",
   "metadata": {},
   "source": [
    "### L2P2 Quiz"
   ]
  },
  {
   "cell_type": "code",
   "execution_count": 20,
   "metadata": {},
   "outputs": [],
   "source": [
    "L2P2Q1 = MultipleChoice('1. What is the difference between linear regression and logistic regression?',['A. Linear regression has a categorical DV; logistic regression has a continuous one', 'B. Linear regression has a continuous DV; logistic regression has a categorical one', 'C. Linear regression has a categorical IV; logistic regression has a continuous one', 'D. Linear regression has a continuous IV; logistic regression has a categorical one'],'B. Linear regression has a continuous DV; logistic regression has a categorical one')\n",
    "L2P2Q2 = MC('2. You are looking at some rehabilitation data and have a dependent variable with three levels: returned to work full time, returned to work part time, and did not return to work. What type of logistic regression would this be?',['A. Binary logistic regression','B. Multiple logistic regression'], 'B. Multiple logistic regression', cor=\"Multiple logistic regression has a DV with three or more levels.\", incor=\"\")\n"
   ]
  },
  {
   "cell_type": "code",
   "execution_count": 21,
   "metadata": {},
   "outputs": [
    {
     "data": {
      "application/vnd.jupyter.widget-view+json": {
       "model_id": "8aa24ed6bad34672b2c7428809b294e9",
       "version_major": 2,
       "version_minor": 0
      },
      "text/plain": [
       "VBox(children=(Output(), RadioButtons(layout=Layout(width='max-content'), options=(('A. Linear regression has …"
      ]
     },
     "metadata": {},
     "output_type": "display_data"
    },
    {
     "data": {
      "application/vnd.jupyter.widget-view+json": {
       "model_id": "da05778d5b4c4d94a27e7961c6cc52ca",
       "version_major": 2,
       "version_minor": 0
      },
      "text/plain": [
       "VBox(children=(Output(), RadioButtons(layout=Layout(width='max-content'), options=(('A. Binary logistic regres…"
      ]
     },
     "metadata": {},
     "output_type": "display_data"
    }
   ],
   "source": [
    "if __name__ == \"__main__\":\n",
    "    display(L2P2Q1, L2P2Q2)"
   ]
  },
  {
   "cell_type": "markdown",
   "metadata": {},
   "source": [
    "### L2P3 Quiz"
   ]
  },
  {
   "cell_type": "code",
   "execution_count": 22,
   "metadata": {},
   "outputs": [],
   "source": [
    "L2P3Q1 = MultipleChoice('1. The logit needs to be linearly related to the independent variable.',['A. True', 'B. False'],'A. True')\n",
    "L2P3Q2 = MC('2. Would a correlation of .8 indicate multicollinearity?',['A. Yes','B. No'],'A. Yes', cor=\"Any correlation between your IVs of .6 - .7 would be considered multicollinearity.\", incor=\"\")\n",
    "L2P3Q3 = MultipleChoice('3. Which of the following is NOT tested the same way as you would in linear regression?',['A. Multicollinearity','B. Absence of outliers','C. Independence of errors'],'C. Independence of errors')\n"
   ]
  },
  {
   "cell_type": "code",
   "execution_count": 23,
   "metadata": {},
   "outputs": [
    {
     "data": {
      "application/vnd.jupyter.widget-view+json": {
       "model_id": "010164b966c844e38add2b83a104badc",
       "version_major": 2,
       "version_minor": 0
      },
      "text/plain": [
       "VBox(children=(Output(), RadioButtons(layout=Layout(width='max-content'), options=(('A. True', 0), ('B. False'…"
      ]
     },
     "metadata": {},
     "output_type": "display_data"
    },
    {
     "data": {
      "application/vnd.jupyter.widget-view+json": {
       "model_id": "1860c35feb1a4f5d946b549512a9d3b1",
       "version_major": 2,
       "version_minor": 0
      },
      "text/plain": [
       "VBox(children=(Output(), RadioButtons(layout=Layout(width='max-content'), options=(('A. Yes', 0), ('B. No', 1)…"
      ]
     },
     "metadata": {},
     "output_type": "display_data"
    },
    {
     "data": {
      "application/vnd.jupyter.widget-view+json": {
       "model_id": "69ea6e51827d42a0a839911c63d7c0bb",
       "version_major": 2,
       "version_minor": 0
      },
      "text/plain": [
       "VBox(children=(Output(), RadioButtons(layout=Layout(width='max-content'), options=(('A. Multicollinearity', 0)…"
      ]
     },
     "metadata": {},
     "output_type": "display_data"
    }
   ],
   "source": [
    "if __name__ == \"__main__\":\n",
    "    display(L2P3Q1, L2P3Q2, L2P3Q3)"
   ]
  },
  {
   "cell_type": "markdown",
   "metadata": {},
   "source": [
    "### L2P4 Quiz"
   ]
  },
  {
   "cell_type": "code",
   "execution_count": 24,
   "metadata": {},
   "outputs": [],
   "source": [
    "L2P4Q1 = MultipleChoice('1. How would you interpret the confusion matrix below, for an outcome variable about surviving a heart attack, where 0 is \"did not survive\" and 1 is \"survived\"?\\n Reference \\n Prediction 0 1 \\n0  27  300 \\n1  79 1500',['A. 27 were accurately predicted to not survive', 'B. 300 were predicted to not survive, but did', 'C. 79 were predicted to survive, but did not', 'D. 1500 were accurately predicted to survive', 'E. All of the above is true'],'E. All of the above is true')\n",
    "L2P4Q2 = MultipleChoice('2. True or False? You need to create the logit using dplyr.',['A. True','B. False'],'A. True')\n",
    "L2P4Q3 = MultipleChoice('3. Which of the following is NOT a way to test for independent errors?',['A. Graphing','B. influence.measures()','C. dwtest()'],'B. influence.measures()')\n"
   ]
  },
  {
   "cell_type": "code",
   "execution_count": 25,
   "metadata": {},
   "outputs": [
    {
     "data": {
      "application/vnd.jupyter.widget-view+json": {
       "model_id": "804bf1808f6d4bd29dda38e504a5e043",
       "version_major": 2,
       "version_minor": 0
      },
      "text/plain": [
       "VBox(children=(Output(), RadioButtons(layout=Layout(width='max-content'), options=(('A. 27 were accurately pre…"
      ]
     },
     "metadata": {},
     "output_type": "display_data"
    },
    {
     "data": {
      "application/vnd.jupyter.widget-view+json": {
       "model_id": "751dbe9b0f1a4f96bc530da6ff958aa7",
       "version_major": 2,
       "version_minor": 0
      },
      "text/plain": [
       "VBox(children=(Output(), RadioButtons(layout=Layout(width='max-content'), options=(('A. True', 0), ('B. False'…"
      ]
     },
     "metadata": {},
     "output_type": "display_data"
    },
    {
     "data": {
      "application/vnd.jupyter.widget-view+json": {
       "model_id": "8113f2533bf34f268443aca1433e00c0",
       "version_major": 2,
       "version_minor": 0
      },
      "text/plain": [
       "VBox(children=(Output(), RadioButtons(layout=Layout(width='max-content'), options=(('A. Graphing', 0), ('B. in…"
      ]
     },
     "metadata": {},
     "output_type": "display_data"
    }
   ],
   "source": [
    "if __name__ == \"__main__\":\n",
    "    display(L2P4Q1, L2P4Q2, L2P4Q3)"
   ]
  },
  {
   "cell_type": "markdown",
   "metadata": {},
   "source": [
    "### L2P5 Quiz"
   ]
  },
  {
   "cell_type": "code",
   "execution_count": 26,
   "metadata": {},
   "outputs": [],
   "source": [
    "L2P5Q1 = MultipleChoice('1. True or False? The z value in the output, also known as the Wald Statistic, is similar in function to the t test for linear regression.',['A. True', 'B. False'],'A. True')\n",
    "L2P5Q2 = MultipleChoice('2. Which package will you use to graph a logistic regression model in R?',['A. lmtest','B. caret', 'C. popbio', 'D. ggplot2'],'C. popbio')"
   ]
  },
  {
   "cell_type": "code",
   "execution_count": 27,
   "metadata": {},
   "outputs": [
    {
     "data": {
      "application/vnd.jupyter.widget-view+json": {
       "model_id": "e162b91d8ad34fd486a2bc631dc7af20",
       "version_major": 2,
       "version_minor": 0
      },
      "text/plain": [
       "VBox(children=(Output(), RadioButtons(layout=Layout(width='max-content'), options=(('A. True', 0), ('B. False'…"
      ]
     },
     "metadata": {},
     "output_type": "display_data"
    },
    {
     "data": {
      "application/vnd.jupyter.widget-view+json": {
       "model_id": "685f5a4db39d4d78b3ec9eb23569d4d0",
       "version_major": 2,
       "version_minor": 0
      },
      "text/plain": [
       "VBox(children=(Output(), RadioButtons(layout=Layout(width='max-content'), options=(('A. lmtest', 0), ('B. care…"
      ]
     },
     "metadata": {},
     "output_type": "display_data"
    }
   ],
   "source": [
    "if __name__ == \"__main__\":\n",
    "    display(L2P5Q1, L2P5Q2)"
   ]
  },
  {
   "cell_type": "markdown",
   "metadata": {},
   "source": [
    "### L2P6 Quiz\n"
   ]
  },
  {
   "cell_type": "code",
   "execution_count": 28,
   "metadata": {},
   "outputs": [],
   "source": [
    "L2P6Q1 = MC('1. True or False? You can test all the assumptions you need for logistic regression in Python.',['A. True', 'B. False'],'B. False', cor=\"You can only test for outliers and multicollinearity. Thus, it is not recommended to run logistic regression in Python if you need a test of incredibly high rigor.\", incor=\"\")\n",
    "L2P6Q2 = MultipleChoice('2. True or False? Your variables need to be in their own datasets to compute logistic regression in Python.',['A. True','B. False'],'A. True')\n",
    "L2P6Q3 = MultipleChoice('3. Which of the following creates the logistic regression model in Python?',['A. .apply()','B. .summary2()','C. .fit()', 'D. sm.Logit()'],'D. sm.Logit()')\n"
   ]
  },
  {
   "cell_type": "code",
   "execution_count": 29,
   "metadata": {},
   "outputs": [
    {
     "data": {
      "application/vnd.jupyter.widget-view+json": {
       "model_id": "1403f6657f4946fba7d13a1278ce6d15",
       "version_major": 2,
       "version_minor": 0
      },
      "text/plain": [
       "VBox(children=(Output(), RadioButtons(layout=Layout(width='max-content'), options=(('A. True', 0), ('B. False'…"
      ]
     },
     "metadata": {},
     "output_type": "display_data"
    },
    {
     "data": {
      "application/vnd.jupyter.widget-view+json": {
       "model_id": "452e998208c74e38be93e16aa08c3509",
       "version_major": 2,
       "version_minor": 0
      },
      "text/plain": [
       "VBox(children=(Output(), RadioButtons(layout=Layout(width='max-content'), options=(('A. True', 0), ('B. False'…"
      ]
     },
     "metadata": {},
     "output_type": "display_data"
    },
    {
     "data": {
      "application/vnd.jupyter.widget-view+json": {
       "model_id": "199477a3aac54b8485b63dfe63456d88",
       "version_major": 2,
       "version_minor": 0
      },
      "text/plain": [
       "VBox(children=(Output(), RadioButtons(layout=Layout(width='max-content'), options=(('A. .apply()', 0), ('B. .s…"
      ]
     },
     "metadata": {},
     "output_type": "display_data"
    }
   ],
   "source": [
    "if __name__ == \"__main__\":\n",
    "    display(L2P6Q1, L2P6Q2, L2P6Q3)"
   ]
  },
  {
   "cell_type": "markdown",
   "metadata": {},
   "source": [
    "### Lesson 3 Non-Linear Modeling"
   ]
  },
  {
   "cell_type": "markdown",
   "metadata": {},
   "source": [
    "### L3P2 Quiz"
   ]
  },
  {
   "cell_type": "code",
   "execution_count": 30,
   "metadata": {},
   "outputs": [],
   "source": [
    "L3P2Q1 = MultipleChoice('1. Is the below image an example of a quadratic relationship?',['A. Yes','B. No'], 'A. Yes')"
   ]
  },
  {
   "cell_type": "markdown",
   "metadata": {},
   "source": [
    "<img src=\"Media/nonlinear3.jpg\" alt=\"Drawing\" style=\"width: 400px;\"/>"
   ]
  },
  {
   "cell_type": "code",
   "execution_count": 31,
   "metadata": {},
   "outputs": [
    {
     "data": {
      "application/vnd.jupyter.widget-view+json": {
       "model_id": "9502bfcad75d43a2bd7d01cfc1b67cc0",
       "version_major": 2,
       "version_minor": 0
      },
      "text/plain": [
       "VBox(children=(Output(), RadioButtons(layout=Layout(width='max-content'), options=(('A. Yes', 0), ('B. No', 1)…"
      ]
     },
     "metadata": {},
     "output_type": "display_data"
    }
   ],
   "source": [
    "if __name__ == \"__main__\":\n",
    "    display(L3P2Q1)"
   ]
  },
  {
   "cell_type": "markdown",
   "metadata": {},
   "source": [
    "### L3P3 Quiz"
   ]
  },
  {
   "cell_type": "code",
   "execution_count": 32,
   "metadata": {},
   "outputs": [],
   "source": [
    "L3P3Q1 = MultipleChoice('1. True or False? You will need to specify the quadratic formula in stat_smooth() when plotting a quadratic relationship.',['A. True','B. False'],'A. True')\n",
    "L3P3Q2 = MultipleChoice('2. True or False? You will need to square your x-term and include it in your model in order to test a quadratic relationhip.',['A. True','B. False'],'A. True')\n"
   ]
  },
  {
   "cell_type": "code",
   "execution_count": 33,
   "metadata": {},
   "outputs": [
    {
     "data": {
      "application/vnd.jupyter.widget-view+json": {
       "model_id": "9d7953e52caa4fa69455022dd9241859",
       "version_major": 2,
       "version_minor": 0
      },
      "text/plain": [
       "VBox(children=(Output(), RadioButtons(layout=Layout(width='max-content'), options=(('A. True', 0), ('B. False'…"
      ]
     },
     "metadata": {},
     "output_type": "display_data"
    },
    {
     "data": {
      "application/vnd.jupyter.widget-view+json": {
       "model_id": "0f87d9379e984b2f98ceece7f95fcf8e",
       "version_major": 2,
       "version_minor": 0
      },
      "text/plain": [
       "VBox(children=(Output(), RadioButtons(layout=Layout(width='max-content'), options=(('A. True', 0), ('B. False'…"
      ]
     },
     "metadata": {},
     "output_type": "display_data"
    }
   ],
   "source": [
    "if __name__ == \"__main__\":\n",
    "    display(L3P3Q1, L3P3Q2)"
   ]
  },
  {
   "cell_type": "markdown",
   "metadata": {},
   "source": [
    "### L3P4 Quiz"
   ]
  },
  {
   "cell_type": "code",
   "execution_count": 34,
   "metadata": {},
   "outputs": [],
   "source": [
    "L3P4Q1 = MultipleChoice('1. What is the difference between a quadratic and an exponential relationship?',['A. A quadratic relationship goes both up and down, while an exponential one only goes in one direction (up or down)','B. An exponential relationship goes both up and down, while a quadratic one only goes in one direction (up or down)'],'A. A quadratic relationship goes both up and down, while an exponential one only goes in one direction (up or down)')\n",
    "L3P4Q2 = MC('2. What type of relationship does the above graph generally show?',['A. Linear','B. Quadratic', 'C. Exponential'],'C. Exponential', cor=\"It is generally increasing at a pace that is larger in the x than the y.\", incor=\"\")\n"
   ]
  },
  {
   "cell_type": "code",
   "execution_count": 35,
   "metadata": {},
   "outputs": [
    {
     "data": {
      "application/vnd.jupyter.widget-view+json": {
       "model_id": "0b5a65fa4d4541efa390f7b3438984d1",
       "version_major": 2,
       "version_minor": 0
      },
      "text/plain": [
       "VBox(children=(Output(), RadioButtons(layout=Layout(width='max-content'), options=(('A. A quadratic relationsh…"
      ]
     },
     "metadata": {},
     "output_type": "display_data"
    }
   ],
   "source": [
    "if __name__ == \"__main__\":\n",
    "    display(L3P4Q1)"
   ]
  },
  {
   "cell_type": "markdown",
   "metadata": {},
   "source": [
    "<img src=\"Media/nonlinear5.jpg\" alt=\"Drawing\" style=\"width: 400px;\"/>"
   ]
  },
  {
   "cell_type": "code",
   "execution_count": 36,
   "metadata": {},
   "outputs": [
    {
     "data": {
      "application/vnd.jupyter.widget-view+json": {
       "model_id": "2d1c162bace24cafb493612a49b271dc",
       "version_major": 2,
       "version_minor": 0
      },
      "text/plain": [
       "VBox(children=(Output(), RadioButtons(layout=Layout(width='max-content'), options=(('A. Linear', 0), ('B. Quad…"
      ]
     },
     "metadata": {},
     "output_type": "display_data"
    }
   ],
   "source": [
    "if __name__ == \"__main__\":\n",
    "    display(L3P4Q2)"
   ]
  },
  {
   "cell_type": "markdown",
   "metadata": {},
   "source": [
    "### L3P5 Quiz"
   ]
  },
  {
   "cell_type": "code",
   "execution_count": 37,
   "metadata": {},
   "outputs": [],
   "source": [
    "L3P5Q1 = MC('1. True or False? You need several additional libraries to do exponential modeling in R.',['A. True','B. False'],'B. False', cor=\"You don't need any additional libraries to perform exponential modeling in R\", incor=\"\")\n",
    "L3P5Q2 = MultipleChoice('2. What variable should you take the log of to make your model exponential?',['A. x','B. x squared', 'C. y'], 'C. y')\n"
   ]
  },
  {
   "cell_type": "code",
   "execution_count": 38,
   "metadata": {},
   "outputs": [
    {
     "data": {
      "application/vnd.jupyter.widget-view+json": {
       "model_id": "751c00e640744a87bea0487990d26dd6",
       "version_major": 2,
       "version_minor": 0
      },
      "text/plain": [
       "VBox(children=(Output(), RadioButtons(layout=Layout(width='max-content'), options=(('A. True', 0), ('B. False'…"
      ]
     },
     "metadata": {},
     "output_type": "display_data"
    },
    {
     "data": {
      "application/vnd.jupyter.widget-view+json": {
       "model_id": "9f26a0e952a44ccabc2bec63d24ceb5a",
       "version_major": 2,
       "version_minor": 0
      },
      "text/plain": [
       "VBox(children=(Output(), RadioButtons(layout=Layout(width='max-content'), options=(('A. x', 0), ('B. x squared…"
      ]
     },
     "metadata": {},
     "output_type": "display_data"
    }
   ],
   "source": [
    "if __name__ == \"__main__\":\n",
    "    display(L3P5Q1, L3P5Q2)"
   ]
  },
  {
   "cell_type": "markdown",
   "metadata": {},
   "source": [
    "## Lesson 4\n",
    "\n",
    "## Page 2"
   ]
  },
  {
   "cell_type": "code",
   "execution_count": 39,
   "metadata": {},
   "outputs": [],
   "source": [
    "L4P2Q1 = MultipleChoice('1. What variables does a multiple regression need?',['A: Multiple independent variables, one dependent variable', 'B: One independent variable, one dependent variable','C: Multiple independent variables, multiple dependent variables', 'D: One independent variable, multiple dependent variables'],'A: Multiple independent variables, one dependent variable')\n"
   ]
  },
  {
   "cell_type": "code",
   "execution_count": 40,
   "metadata": {},
   "outputs": [
    {
     "data": {
      "application/vnd.jupyter.widget-view+json": {
       "model_id": "0a011a90c743442b8fcec2ae736c1c1b",
       "version_major": 2,
       "version_minor": 0
      },
      "text/plain": [
       "VBox(children=(Output(), RadioButtons(layout=Layout(width='max-content'), options=(('A: Multiple independent v…"
      ]
     },
     "metadata": {},
     "output_type": "display_data"
    }
   ],
   "source": [
    "if __name__ == \"__main__\":\n",
    "    display(L4P2Q1)"
   ]
  },
  {
   "cell_type": "markdown",
   "metadata": {},
   "source": [
    "## Page 3"
   ]
  },
  {
   "cell_type": "code",
   "execution_count": 41,
   "metadata": {},
   "outputs": [],
   "source": [
    "L4P3Q1 = MultipleChoice('1. Which of the following is NOT a reason why trying all IV combinations is a bad idea?',['A: Too many model possibilities', 'B: R2 will never decrease', 'C: Overfitting', 'D: It\\'s easy to do'],'D: It\\'s easy to do')\n",
    "L4P3Q2 = MultipleChoice('2. You start with only one predictor in your model, and then add each additional independent variable in one at a time. What type of stepwise regression is this?',['A: Exponential','B: Forward','C: Backward', 'D: Hybrid'],'B: Forward')\n",
    "L4P3Q3 = MultipleChoice('3. True or False? Overfitting is desired.',['A: True','B: False'],'B: False')\n",
    "L4P3Q4 = MultipleChoice('4. If given a choice, should you go with the simpler or more complex model?',['A: Simple model','B: More complex model'],'A: Simple model')\n"
   ]
  },
  {
   "cell_type": "code",
   "execution_count": 42,
   "metadata": {},
   "outputs": [
    {
     "data": {
      "application/vnd.jupyter.widget-view+json": {
       "model_id": "fb97203ecdc44a28a907bd13baa233b1",
       "version_major": 2,
       "version_minor": 0
      },
      "text/plain": [
       "VBox(children=(Output(), RadioButtons(layout=Layout(width='max-content'), options=(('A: Too many model possibi…"
      ]
     },
     "metadata": {},
     "output_type": "display_data"
    },
    {
     "data": {
      "application/vnd.jupyter.widget-view+json": {
       "model_id": "0f20abf5866d44bd8356381b36d0f863",
       "version_major": 2,
       "version_minor": 0
      },
      "text/plain": [
       "VBox(children=(Output(), RadioButtons(layout=Layout(width='max-content'), options=(('A: Exponential', 0), ('B:…"
      ]
     },
     "metadata": {},
     "output_type": "display_data"
    },
    {
     "data": {
      "application/vnd.jupyter.widget-view+json": {
       "model_id": "944e908a08384cdd8e93f6e1328a2669",
       "version_major": 2,
       "version_minor": 0
      },
      "text/plain": [
       "VBox(children=(Output(), RadioButtons(layout=Layout(width='max-content'), options=(('A: True', 0), ('B: False'…"
      ]
     },
     "metadata": {},
     "output_type": "display_data"
    },
    {
     "data": {
      "application/vnd.jupyter.widget-view+json": {
       "model_id": "fe9e29cf79634253a5c7fa715c7e6040",
       "version_major": 2,
       "version_minor": 0
      },
      "text/plain": [
       "VBox(children=(Output(), RadioButtons(layout=Layout(width='max-content'), options=(('A: Simple model', 0), ('B…"
      ]
     },
     "metadata": {},
     "output_type": "display_data"
    }
   ],
   "source": [
    "if __name__ == \"__main__\":\n",
    "    display(L4P3Q1, L4P3Q2, L4P3Q3, L4P3Q4)"
   ]
  },
  {
   "cell_type": "markdown",
   "metadata": {},
   "source": [
    "## Page 4"
   ]
  },
  {
   "cell_type": "code",
   "execution_count": 43,
   "metadata": {},
   "outputs": [],
   "source": [
    "L4P4Q1 = MultipleChoice('1. Which function is for doing stepwise regression in R?',['A: lm()', 'B: summary()', 'C: step()', 'D: direction='],'C: step()')\n",
    "L4P4Q2 = MultipleChoice('2. True or False? You must create a linear model with all your predictors included before attempting a stepwise regression.',['A: True','B: False'],'A: True')\n",
    "L4P4Q3 = MC('3. The original model has an AIC of 80. A second model without one variable has an AIC of 72. Which model is better?',['A: The original model','B: The second model'],'B: The second model',cor=\"The smallest AIC is desirable.\", incor= \"The smallest AIC is desirable.\")\n",
    "L4P4Q4 = MultipleChoice('4. How do you know when you have found the best model with backward elimination?',['A: When removing more variables makes the AIC larger','B: When R provides you with coefficients','C: When you have the smallest AIC possible', 'D: All of the above'],'D: All of the above')\n",
    "L4P4Q5 = MultipleChoice('5. True or False? You need to examine the summary for the model once R has finished the backwards elimination process.',['A: True','B: False'],'A: True')\n"
   ]
  },
  {
   "cell_type": "code",
   "execution_count": 44,
   "metadata": {},
   "outputs": [
    {
     "data": {
      "application/vnd.jupyter.widget-view+json": {
       "model_id": "662aebc891a145139e9aea06f4d215ff",
       "version_major": 2,
       "version_minor": 0
      },
      "text/plain": [
       "VBox(children=(Output(), RadioButtons(layout=Layout(width='max-content'), options=(('A: lm()', 0), ('B: summar…"
      ]
     },
     "metadata": {},
     "output_type": "display_data"
    },
    {
     "data": {
      "application/vnd.jupyter.widget-view+json": {
       "model_id": "b000a6ccacef45c3b8e8c32de0a08ae1",
       "version_major": 2,
       "version_minor": 0
      },
      "text/plain": [
       "VBox(children=(Output(), RadioButtons(layout=Layout(width='max-content'), options=(('A: True', 0), ('B: False'…"
      ]
     },
     "metadata": {},
     "output_type": "display_data"
    },
    {
     "data": {
      "application/vnd.jupyter.widget-view+json": {
       "model_id": "25b96207d30d441291ab73793636c827",
       "version_major": 2,
       "version_minor": 0
      },
      "text/plain": [
       "VBox(children=(Output(), RadioButtons(layout=Layout(width='max-content'), options=(('A: The original model', 0…"
      ]
     },
     "metadata": {},
     "output_type": "display_data"
    },
    {
     "data": {
      "application/vnd.jupyter.widget-view+json": {
       "model_id": "6aed6e3d43124ce1bab9e0d6633dc8d8",
       "version_major": 2,
       "version_minor": 0
      },
      "text/plain": [
       "VBox(children=(Output(), RadioButtons(layout=Layout(width='max-content'), options=(('A: When removing more var…"
      ]
     },
     "metadata": {},
     "output_type": "display_data"
    },
    {
     "data": {
      "application/vnd.jupyter.widget-view+json": {
       "model_id": "fb3eb6324ccb4ec0bc6cac3330a72c1f",
       "version_major": 2,
       "version_minor": 0
      },
      "text/plain": [
       "VBox(children=(Output(), RadioButtons(layout=Layout(width='max-content'), options=(('A: True', 0), ('B: False'…"
      ]
     },
     "metadata": {},
     "output_type": "display_data"
    }
   ],
   "source": [
    "if __name__ == \"__main__\":\n",
    "    display(L4P4Q1, L4P4Q2, L4P4Q3, L4P4Q4, L4P4Q5)"
   ]
  },
  {
   "cell_type": "markdown",
   "metadata": {},
   "source": [
    "## Page 5"
   ]
  },
  {
   "cell_type": "code",
   "execution_count": 45,
   "metadata": {},
   "outputs": [],
   "source": [
    "L4P5Q1 = MultipleChoice('1. What does a 1 in a linear model indicate?',['A: Include no predictors', 'B: Include all predictors', 'C: Include one predictor', 'D: Start a stepwise regression'],'A: Include no predictors')\n",
    "L4P5Q2 = MC('2. True or False? You need to specify \\033[1mscope=\\033[0m when doing a forward selection stepwise regression.',['A: True','B: False'],'A: True', cor=\"This indicates how many variables it should work towards including.\", incor=\"\")\n"
   ]
  },
  {
   "cell_type": "code",
   "execution_count": 46,
   "metadata": {},
   "outputs": [
    {
     "data": {
      "application/vnd.jupyter.widget-view+json": {
       "model_id": "bd342895ee154415904118136b5c24eb",
       "version_major": 2,
       "version_minor": 0
      },
      "text/plain": [
       "VBox(children=(Output(), RadioButtons(layout=Layout(width='max-content'), options=(('A: Include no predictors'…"
      ]
     },
     "metadata": {},
     "output_type": "display_data"
    },
    {
     "data": {
      "application/vnd.jupyter.widget-view+json": {
       "model_id": "59d651da6ae14733aeab8de577a5b71b",
       "version_major": 2,
       "version_minor": 0
      },
      "text/plain": [
       "VBox(children=(Output(), RadioButtons(layout=Layout(width='max-content'), options=(('A: True', 0), ('B: False'…"
      ]
     },
     "metadata": {},
     "output_type": "display_data"
    }
   ],
   "source": [
    "if __name__ == \"__main__\":\n",
    "    display(L4P5Q1, L4P5Q2)"
   ]
  },
  {
   "cell_type": "markdown",
   "metadata": {},
   "source": [
    "## Page 6"
   ]
  },
  {
   "cell_type": "code",
   "execution_count": 47,
   "metadata": {},
   "outputs": [],
   "source": [
    "L4P6Q1 = MultipleChoice('1. What argument for \\033[1mdirection=\\033[0m needs to be specified to complete hybrid stepwise regression?',['A: direction=backward', 'B: direction=\"forward\"', 'C: direction=\"both\"', 'D: direction=hybrid'],'C: direction=\"both\"')\n",
    "L4P6Q2 = MultipleChoice('2. When looking at predictors in each iteration, what does the plus sign indicate?',['A: The variable being added to the model', 'B: The variable being removed from the model'],'A: The variable being added to the model')\n"
   ]
  },
  {
   "cell_type": "code",
   "execution_count": 48,
   "metadata": {},
   "outputs": [
    {
     "data": {
      "application/vnd.jupyter.widget-view+json": {
       "model_id": "2034e21fa7a74a9eb9442dd6e6505d58",
       "version_major": 2,
       "version_minor": 0
      },
      "text/plain": [
       "VBox(children=(Output(), RadioButtons(layout=Layout(width='max-content'), options=(('A: direction=backward', 0…"
      ]
     },
     "metadata": {},
     "output_type": "display_data"
    },
    {
     "data": {
      "application/vnd.jupyter.widget-view+json": {
       "model_id": "c7f39f23850f4b10a5fe029e478fbf2f",
       "version_major": 2,
       "version_minor": 0
      },
      "text/plain": [
       "VBox(children=(Output(), RadioButtons(layout=Layout(width='max-content'), options=(('A: The variable being add…"
      ]
     },
     "metadata": {},
     "output_type": "display_data"
    }
   ],
   "source": [
    "if __name__ == \"__main__\":\n",
    "    display(L4P6Q1, L4P6Q2)"
   ]
  },
  {
   "cell_type": "markdown",
   "metadata": {},
   "source": [
    "## Lesson 5\n",
    "\n",
    "## Page 2"
   ]
  },
  {
   "cell_type": "code",
   "execution_count": 49,
   "metadata": {},
   "outputs": [],
   "source": [
    "L5P2Q1 = MultipleChoice('1. What is the property of a random variable that makes it random?',['A: It is the first number that comes to your mind when asked','B: Every possible value has an equally likely probability of being chosen','C: If you ask enough people, you won\\'t get any repeats', 'D: It would likely be found on a license plate'],'B: Every possible value has an equally likely probability of being chosen')\n",
    "L5P2Q2 = MultipleChoice('2. Are humans capable of generating random numbers without a computer?',['A: Yes','B: No'],'B: No')\n"
   ]
  },
  {
   "cell_type": "code",
   "execution_count": 50,
   "metadata": {},
   "outputs": [
    {
     "data": {
      "application/vnd.jupyter.widget-view+json": {
       "model_id": "ae8ee7e63db441e6b1bc3cf9536aca0b",
       "version_major": 2,
       "version_minor": 0
      },
      "text/plain": [
       "VBox(children=(Output(), RadioButtons(layout=Layout(width='max-content'), options=(('A: It is the first number…"
      ]
     },
     "metadata": {},
     "output_type": "display_data"
    },
    {
     "data": {
      "application/vnd.jupyter.widget-view+json": {
       "model_id": "553dca69d4054f79872c21195c663cb1",
       "version_major": 2,
       "version_minor": 0
      },
      "text/plain": [
       "VBox(children=(Output(), RadioButtons(layout=Layout(width='max-content'), options=(('A: Yes', 0), ('B: No', 1)…"
      ]
     },
     "metadata": {},
     "output_type": "display_data"
    }
   ],
   "source": [
    "if __name__ == \"__main__\":\n",
    "    display(L5P2Q1, L5P2Q2)"
   ]
  },
  {
   "cell_type": "markdown",
   "metadata": {},
   "source": [
    "## Page 3"
   ]
  },
  {
   "cell_type": "code",
   "execution_count": 51,
   "metadata": {},
   "outputs": [],
   "source": [
    "L5P3Q1 = MultipleChoice('1. Using the code snippet \\033[1m=RAND()*7+22\\033[0m, what sort of output would you expect using a spreadsheet program? ',['A: A uniform random number between 7 and 22','B: A uniform random number between 0 and 7','C: A uniform random number between 22 and 29', 'D: A uniform random number greater than 29'],'C: A uniform random number between 22 and 29')\n",
    "L5P3Q2 = MultipleChoice('2. Using the code snippet \\033[1mvalue = random.uniform(18, 23)\\033[0m, what sort of output would you expect using Python?',['A: A uniform random number between 18 and 23','B: A uniform random number between 18 and 41','C: An error', 'D: A uniform random number between 0 an 18'],'A: A uniform random number between 18 and 23')\n",
    "L5P3Q3 = MultipleChoice('3. Which of the following code snippets would you use to create a uniform random variable between -6 and 18 using a spreadsheet program?',['A: =RAND() * 18 + 6','B: =RAND() * 18 - 6','C: =RAND(-6, 18)', 'D: =RAND() * 24 - 6'],'D: =RAND() * 24 - 6')\n"
   ]
  },
  {
   "cell_type": "code",
   "execution_count": 52,
   "metadata": {},
   "outputs": [
    {
     "data": {
      "application/vnd.jupyter.widget-view+json": {
       "model_id": "9405b9333749441fb5d3b7f1a6affae0",
       "version_major": 2,
       "version_minor": 0
      },
      "text/plain": [
       "VBox(children=(Output(), RadioButtons(layout=Layout(width='max-content'), options=(('A: A uniform random numbe…"
      ]
     },
     "metadata": {},
     "output_type": "display_data"
    },
    {
     "data": {
      "application/vnd.jupyter.widget-view+json": {
       "model_id": "f2a059f703d94566b684564557e1dd47",
       "version_major": 2,
       "version_minor": 0
      },
      "text/plain": [
       "VBox(children=(Output(), RadioButtons(layout=Layout(width='max-content'), options=(('A: A uniform random numbe…"
      ]
     },
     "metadata": {},
     "output_type": "display_data"
    },
    {
     "data": {
      "application/vnd.jupyter.widget-view+json": {
       "model_id": "3dcfdbf7fad448c8a9e19d987713adf9",
       "version_major": 2,
       "version_minor": 0
      },
      "text/plain": [
       "VBox(children=(Output(), RadioButtons(layout=Layout(width='max-content'), options=(('A: =RAND() * 18 + 6', 0),…"
      ]
     },
     "metadata": {},
     "output_type": "display_data"
    }
   ],
   "source": [
    "if __name__ == \"__main__\":\n",
    "    display(L5P3Q1, L5P3Q2, L5P3Q3)"
   ]
  },
  {
   "cell_type": "markdown",
   "metadata": {},
   "source": [
    "## Page 4"
   ]
  },
  {
   "cell_type": "code",
   "execution_count": 53,
   "metadata": {},
   "outputs": [],
   "source": [
    "L5P4Q1 = MultipleChoice('1.Using the code snippet \\033[1m=(RAND(NORMAL), 30, 10)\\033[0m what sort of output would you expect using a spreadsheet program?',['A: A normal random number with mean 10 and stdev 30', 'B: A normal random number with mean 30 and stdev 10', 'C: An error', 'D: A uniform random number between 10 and 30'],'C: An error')\n",
    "L5P4Q2 = MultipleChoice('2.Using the code snippet \\033[1m=NORMINV(RAND(), 100, 20)\\033[0m, what sort of output would you expect using a spreadsheet program?',['A: A uniform random number between 20 and 100','B: A uniform random number with mean 100 and stdev 20','C: A normal random number with mean 100 and stdev 20', 'D: A normal random number between 40 and 160'],'C: A normal random number with mean 100 and stdev 20')\n",
    "L5P4Q3 = MultipleChoice('3. Using the code snippet \\033[1mrnorm(5, 50, 10)\\033[0m, what sort of output would you expect using R?',['A: A normal random number with mean 50 and stdev 10','B: A normal random number between 5 and 50, incremented by 10','C: A list of normal random numbers by 5\\'s, between 10 and 50', 'D: A list of 5 normal random numbers with mean 50 and stdev 10'],'D: A list of 5 normal random numbers with mean 50 and stdev 10')\n",
    "L5P4Q4 = MultipleChoice('4. Using the code snippet \\033[1mnrv = (np.random.normal(size = 20)) * 50 + 100\\033[0m, what sort of output would you expect using Python?.',['A: A list of 20 normal random numbers with stdev = 100','B: A list of normal random numbers between 20 and 50','C: A list of 20 normal random numbers with mean = 100 and stdev = 50', 'D: A list of 20 normal random numbers between 50 and 150'],'C: A list of 20 normal random numbers with mean = 100 and stdev = 50')\n"
   ]
  },
  {
   "cell_type": "code",
   "execution_count": 54,
   "metadata": {},
   "outputs": [
    {
     "data": {
      "application/vnd.jupyter.widget-view+json": {
       "model_id": "98117c06fb214b4fa9d7354408e0bc1b",
       "version_major": 2,
       "version_minor": 0
      },
      "text/plain": [
       "VBox(children=(Output(), RadioButtons(layout=Layout(width='max-content'), options=(('A: A normal random number…"
      ]
     },
     "metadata": {},
     "output_type": "display_data"
    },
    {
     "data": {
      "application/vnd.jupyter.widget-view+json": {
       "model_id": "4a80b6c6eecd4cfb898b4f472ba5b6fb",
       "version_major": 2,
       "version_minor": 0
      },
      "text/plain": [
       "VBox(children=(Output(), RadioButtons(layout=Layout(width='max-content'), options=(('A: A uniform random numbe…"
      ]
     },
     "metadata": {},
     "output_type": "display_data"
    },
    {
     "data": {
      "application/vnd.jupyter.widget-view+json": {
       "model_id": "1edb0a95008a4f06a7a058fd3439d8ce",
       "version_major": 2,
       "version_minor": 0
      },
      "text/plain": [
       "VBox(children=(Output(), RadioButtons(layout=Layout(width='max-content'), options=(('A: A normal random number…"
      ]
     },
     "metadata": {},
     "output_type": "display_data"
    },
    {
     "data": {
      "application/vnd.jupyter.widget-view+json": {
       "model_id": "78795f78736f4efa8c02e3b3b6435b32",
       "version_major": 2,
       "version_minor": 0
      },
      "text/plain": [
       "VBox(children=(Output(), RadioButtons(layout=Layout(width='max-content'), options=(('A: A list of 20 normal ra…"
      ]
     },
     "metadata": {},
     "output_type": "display_data"
    }
   ],
   "source": [
    "if __name__ == \"__main__\":\n",
    "    display (L5P4Q1, L5P4Q2, L5P4Q3, L5P4Q4)"
   ]
  },
  {
   "cell_type": "markdown",
   "metadata": {},
   "source": [
    "## Page 5"
   ]
  },
  {
   "cell_type": "code",
   "execution_count": 55,
   "metadata": {},
   "outputs": [],
   "source": [
    "L5P5Q1 = MultipleChoice('1. True or False? You can use more than one \\033[1m=if()\\033[0m= function in a formula.',['A: True','B: False'],'A: True')\n"
   ]
  },
  {
   "cell_type": "code",
   "execution_count": 56,
   "metadata": {},
   "outputs": [
    {
     "data": {
      "application/vnd.jupyter.widget-view+json": {
       "model_id": "6b2a07816b2442028010dedcc5f36746",
       "version_major": 2,
       "version_minor": 0
      },
      "text/plain": [
       "VBox(children=(Output(), RadioButtons(layout=Layout(width='max-content'), options=(('A: True', 0), ('B: False'…"
      ]
     },
     "metadata": {},
     "output_type": "display_data"
    }
   ],
   "source": [
    "if __name__ == \"__main__\":\n",
    "    display(L5P5Q1)"
   ]
  },
  {
   "cell_type": "markdown",
   "metadata": {},
   "source": [
    "## Page 6"
   ]
  },
  {
   "cell_type": "code",
   "execution_count": 57,
   "metadata": {},
   "outputs": [],
   "source": [
    "L5P6Q1 = MultipleChoice('1. What is the benefit of simulating data?',['A: It is free','B: It allows you to try things without the risk','C: It may not be as accurate', 'D: Both A & B'],'D: Both A & B')\n"
   ]
  },
  {
   "cell_type": "code",
   "execution_count": 58,
   "metadata": {},
   "outputs": [
    {
     "data": {
      "application/vnd.jupyter.widget-view+json": {
       "model_id": "a200c8b31b4f44d981e23853b1c10552",
       "version_major": 2,
       "version_minor": 0
      },
      "text/plain": [
       "VBox(children=(Output(), RadioButtons(layout=Layout(width='max-content'), options=(('A: It is free', 0), ('B: …"
      ]
     },
     "metadata": {},
     "output_type": "display_data"
    }
   ],
   "source": [
    "if __name__ == \"__main__\":\n",
    "    display(L5P6Q1)"
   ]
  },
  {
   "cell_type": "code",
   "execution_count": null,
   "metadata": {},
   "outputs": [],
   "source": []
  }
 ],
 "metadata": {
  "kernelspec": {
   "display_name": "Python 3 (ipykernel)",
   "language": "python",
   "name": "python3"
  },
  "language_info": {
   "codemirror_mode": {
    "name": "ipython",
    "version": 3
   },
   "file_extension": ".py",
   "mimetype": "text/x-python",
   "name": "python",
   "nbconvert_exporter": "python",
   "pygments_lexer": "ipython3",
   "version": "3.9.7"
  }
 },
 "nbformat": 4,
 "nbformat_minor": 4
}
