{
 "cells": [
  {
   "cell_type": "markdown",
   "id": "701c6664-c3af-4538-bac7-f1a5cc1826cd",
   "metadata": {},
   "source": [
    "# DS106 Questions\n",
    "\n",
    "## Lesson 1\n",
    "\n",
    "## Page 2"
   ]
  },
  {
   "cell_type": "code",
   "execution_count": 1,
   "id": "9fdc1222-3d73-42e1-b6bf-b95d73e3d8ff",
   "metadata": {},
   "outputs": [],
   "source": [
    "from DS_Students import *"
   ]
  },
  {
   "cell_type": "code",
   "execution_count": 2,
   "id": "cf433206-b1c6-41d7-86db-486d7cb4756e",
   "metadata": {},
   "outputs": [],
   "source": [
    "L1P2Q1 = MultipleChoice('1. When data is labeled, what kind of machine learning is this?',['Supervised','Unsupervised','Reinforcement', 'Instance-based'],'Supervised')\n",
    "L1P2Q2 = MultipleChoice('2. When a computer observes, performs an action, receives a consequence, and learns from it, what type of machine learning is this?',['Supervised','Unsupervised','Reinforcement', 'Instance-based'],'Reinforcement')\n",
    "L1P2Q3 = MultipleChoice('3. If the computer learns all at once, what type of machine learning is this?',['Model-based','Incremental learning','Online learning', 'Batch learning'],'Batch learning')\n",
    "L1P2Q4 = MultipleChoice('4. If the computer creates a model that represents the data, which then becomes its knowledge source, what type of machine learning is this?',['Model-based','Instance-based','Online learning', 'Batch learning'],'Model-based')\n",
    "\n"
   ]
  },
  {
   "cell_type": "code",
   "execution_count": 3,
   "id": "6f20d99a-0d5d-482e-82a1-2adf01327726",
   "metadata": {},
   "outputs": [
    {
     "data": {
      "application/vnd.jupyter.widget-view+json": {
       "model_id": "87d2b516f5414ef98efb50754db477ed",
       "version_major": 2,
       "version_minor": 0
      },
      "text/plain": [
       "VBox(children=(Output(), RadioButtons(layout=Layout(width='max-content'), options=(('Supervised', 0), ('Unsupe…"
      ]
     },
     "metadata": {},
     "output_type": "display_data"
    },
    {
     "data": {
      "application/vnd.jupyter.widget-view+json": {
       "model_id": "891b4b3567b64618b7eff85fa2dcf583",
       "version_major": 2,
       "version_minor": 0
      },
      "text/plain": [
       "VBox(children=(Output(), RadioButtons(layout=Layout(width='max-content'), options=(('Supervised', 0), ('Unsupe…"
      ]
     },
     "metadata": {},
     "output_type": "display_data"
    },
    {
     "data": {
      "application/vnd.jupyter.widget-view+json": {
       "model_id": "7567ddfe9eac414782316bb90f8f7979",
       "version_major": 2,
       "version_minor": 0
      },
      "text/plain": [
       "VBox(children=(Output(), RadioButtons(layout=Layout(width='max-content'), options=(('Model-based', 0), ('Incre…"
      ]
     },
     "metadata": {},
     "output_type": "display_data"
    },
    {
     "data": {
      "application/vnd.jupyter.widget-view+json": {
       "model_id": "ffe822d4062544898d3f2e466aea1111",
       "version_major": 2,
       "version_minor": 0
      },
      "text/plain": [
       "VBox(children=(Output(), RadioButtons(layout=Layout(width='max-content'), options=(('Model-based', 0), ('Insta…"
      ]
     },
     "metadata": {},
     "output_type": "display_data"
    }
   ],
   "source": [
    "if __name__ == \"__main__\":\n",
    "    display(L1P2Q1, L1P2Q2, L1P2Q3, L1P2Q4,)"
   ]
  },
  {
   "cell_type": "markdown",
   "id": "59237b93-23a1-4511-9c47-069ff58089ca",
   "metadata": {},
   "source": [
    "## Page 3"
   ]
  },
  {
   "cell_type": "code",
   "execution_count": 4,
   "id": "9e09c0eb-06d1-440a-9c2a-4ced3fa16e4e",
   "metadata": {},
   "outputs": [],
   "source": [
    "L1P3Q1 = MultipleChoice('1. Which Python package is for performing machine learning?',['pandas','matplotlib','sklearn', 'numpy'],'sklearn')\n",
    "L1P3Q2 = MultipleChoice('2. You can feed a full pandas dataset into a machine learning algorithm.',['True','False'],'False')\n",
    "L1P3Q3 = MultipleChoice('3. If you wanted to use an 80/20 split for your testing/training data, what value would you place in the test_size= argument of train_test_split()?',['.8','80','20', '.2'],'.2')\n",
    "L1P3Q4 = MultipleChoice('4. True or False? You can include string data in a machine learning model.',['True','False'],'False')"
   ]
  },
  {
   "cell_type": "code",
   "execution_count": 5,
   "id": "395b4e32-213a-432c-8570-dba7e76bc602",
   "metadata": {},
   "outputs": [
    {
     "data": {
      "application/vnd.jupyter.widget-view+json": {
       "model_id": "006900b6ec4c4b2d9e366e34ccc66394",
       "version_major": 2,
       "version_minor": 0
      },
      "text/plain": [
       "VBox(children=(Output(), RadioButtons(layout=Layout(width='max-content'), options=(('pandas', 0), ('matplotlib…"
      ]
     },
     "metadata": {},
     "output_type": "display_data"
    },
    {
     "data": {
      "application/vnd.jupyter.widget-view+json": {
       "model_id": "e6c1f1854f9e417ca770216ad6360b18",
       "version_major": 2,
       "version_minor": 0
      },
      "text/plain": [
       "VBox(children=(Output(), RadioButtons(layout=Layout(width='max-content'), options=(('True', 0), ('False', 1)),…"
      ]
     },
     "metadata": {},
     "output_type": "display_data"
    },
    {
     "data": {
      "application/vnd.jupyter.widget-view+json": {
       "model_id": "7d9ac0f2c03f4d3ab98711eba6f7614a",
       "version_major": 2,
       "version_minor": 0
      },
      "text/plain": [
       "VBox(children=(Output(), RadioButtons(layout=Layout(width='max-content'), options=(('.8', 0), ('80', 1), ('20'…"
      ]
     },
     "metadata": {},
     "output_type": "display_data"
    },
    {
     "data": {
      "application/vnd.jupyter.widget-view+json": {
       "model_id": "086e0c616fb94012b32bf730279233c7",
       "version_major": 2,
       "version_minor": 0
      },
      "text/plain": [
       "VBox(children=(Output(), RadioButtons(layout=Layout(width='max-content'), options=(('True', 0), ('False', 1)),…"
      ]
     },
     "metadata": {},
     "output_type": "display_data"
    }
   ],
   "source": [
    "if __name__ == \"__main__\":\n",
    "    display(L1P3Q1, L1P3Q2, L1P3Q3, L1P3Q4)"
   ]
  },
  {
   "cell_type": "markdown",
   "id": "214526dd-72ee-40d8-a2e5-41e165dcd951",
   "metadata": {},
   "source": [
    "## Page 4"
   ]
  },
  {
   "cell_type": "code",
   "execution_count": 6,
   "id": "c8eb6a46-ef59-46c0-8adb-773a004ded82",
   "metadata": {},
   "outputs": [],
   "source": [
    "L1P4Q1 = MultipleChoice('1. What does an accuracy score of .92 mean?',['The model accurately predicts 1% of the time','The model accurately predicts 92% of the time','The model accurately predicts 8% of the time', 'The model will accurately predict 92 times'],'The model accurately predicts 92% of the time')\n",
    "L1P4Q2 = MultipleChoice('2. Given a comparison between a MAE of 12 or an MAE of 30, which indicates better model fit?',['12','30','MAE', 'MSE'],'12')\n",
    "L1P4Q3 = MultipleChoice('3. Which measure of error is the most popular?',['MAE','MSE','RMSE', 'Accuracy prediction'],'RMSE')\n",
    "L1P4Q4 = MultipleChoice('4. Which measure of error is best for real-world scenarios where you have large errors?',['MAE','MSE','RMSE', 'Accuracy prediction'],'MSE')\n"
   ]
  },
  {
   "cell_type": "code",
   "execution_count": 7,
   "id": "3adf2b8c-6d74-449d-abd7-f2ecd2cef18e",
   "metadata": {},
   "outputs": [
    {
     "data": {
      "application/vnd.jupyter.widget-view+json": {
       "model_id": "9b38c8607e1c415f97b6f927da34f960",
       "version_major": 2,
       "version_minor": 0
      },
      "text/plain": [
       "VBox(children=(Output(), RadioButtons(layout=Layout(width='max-content'), options=(('The model accurately pred…"
      ]
     },
     "metadata": {},
     "output_type": "display_data"
    },
    {
     "data": {
      "application/vnd.jupyter.widget-view+json": {
       "model_id": "c1c4188a368043cab094d15d5f5d922b",
       "version_major": 2,
       "version_minor": 0
      },
      "text/plain": [
       "VBox(children=(Output(), RadioButtons(layout=Layout(width='max-content'), options=(('12', 0), ('30', 1), ('MAE…"
      ]
     },
     "metadata": {},
     "output_type": "display_data"
    },
    {
     "data": {
      "application/vnd.jupyter.widget-view+json": {
       "model_id": "bf89bed14db24df9974bf81c4ca154a2",
       "version_major": 2,
       "version_minor": 0
      },
      "text/plain": [
       "VBox(children=(Output(), RadioButtons(layout=Layout(width='max-content'), options=(('MAE', 0), ('MSE', 1), ('R…"
      ]
     },
     "metadata": {},
     "output_type": "display_data"
    },
    {
     "data": {
      "application/vnd.jupyter.widget-view+json": {
       "model_id": "3d75811b9add43d78fd61826f7ee5181",
       "version_major": 2,
       "version_minor": 0
      },
      "text/plain": [
       "VBox(children=(Output(), RadioButtons(layout=Layout(width='max-content'), options=(('MAE', 0), ('MSE', 1), ('R…"
      ]
     },
     "metadata": {},
     "output_type": "display_data"
    }
   ],
   "source": [
    "if __name__ == \"__main__\":\n",
    "    display(L1P4Q1, L1P4Q2, L1P4Q3, L1P4Q4)"
   ]
  },
  {
   "cell_type": "markdown",
   "id": "fbd02314-2ef4-43be-aa7f-82453a99c3aa",
   "metadata": {},
   "source": [
    "## Page 5"
   ]
  },
  {
   "cell_type": "code",
   "execution_count": 8,
   "id": "d909d1fb-8f00-4e28-b8ed-31c3be525a4c",
   "metadata": {},
   "outputs": [],
   "source": [
    "L1P5Q1 = MultipleChoice('1. True or False? The Microsoft researchers concluded that its more economical to perfect the learning algorithm than it was to gather more data.',['True','False'],'False')\n",
    "L1P5Q2 = MultipleChoice('2. What is it called when the model is too simple?',['Overfitting','Underfitting','Irrelevant features', 'Bad data'],'Underfitting')\n",
    "L1P5Q3 = MultipleChoice('3. What is it called when you include data thats not necessary for prediction?',['Overfitting','Underfitting','Irrelevant features', 'Bad data'],'Irrelevant features')\n"
   ]
  },
  {
   "cell_type": "code",
   "execution_count": 9,
   "id": "f4a337b9-96c0-4d01-b65a-d8ef9f3cb7ef",
   "metadata": {},
   "outputs": [
    {
     "data": {
      "application/vnd.jupyter.widget-view+json": {
       "model_id": "1414a6968daf4bf2a2ede3f4aec75066",
       "version_major": 2,
       "version_minor": 0
      },
      "text/plain": [
       "VBox(children=(Output(), RadioButtons(layout=Layout(width='max-content'), options=(('True', 0), ('False', 1)),…"
      ]
     },
     "metadata": {},
     "output_type": "display_data"
    },
    {
     "data": {
      "application/vnd.jupyter.widget-view+json": {
       "model_id": "4348c910ffdb422a9485963e964bce97",
       "version_major": 2,
       "version_minor": 0
      },
      "text/plain": [
       "VBox(children=(Output(), RadioButtons(layout=Layout(width='max-content'), options=(('Overfitting', 0), ('Under…"
      ]
     },
     "metadata": {},
     "output_type": "display_data"
    },
    {
     "data": {
      "application/vnd.jupyter.widget-view+json": {
       "model_id": "a4a74540ebd74b859b060743f6581ea3",
       "version_major": 2,
       "version_minor": 0
      },
      "text/plain": [
       "VBox(children=(Output(), RadioButtons(layout=Layout(width='max-content'), options=(('Overfitting', 0), ('Under…"
      ]
     },
     "metadata": {},
     "output_type": "display_data"
    }
   ],
   "source": [
    "if __name__ == \"__main__\":\n",
    "    display(L1P5Q1, L1P5Q2, L1P5Q3)"
   ]
  },
  {
   "cell_type": "markdown",
   "id": "b678ed98-677d-4112-8f4e-f0c91cf549e1",
   "metadata": {},
   "source": [
    "## Page 6"
   ]
  },
  {
   "cell_type": "code",
   "execution_count": 10,
   "id": "b6fad58e-9379-4ed2-9367-a2e28d136422",
   "metadata": {},
   "outputs": [],
   "source": [
    "L1P6Q1 = MultipleChoice('1. Which cross validation technique creates as many folds as observations in a dataset?',['k-folds','Leave one out'],'Leave one out')\n",
    "L1P6Q2 = MultipleChoice('2. Which of the following is NOT a step in k-fold cross validation?',['Data randomization','Split the data into groups','Test and fit a model for each group', 'Eating nachos'],'Data randomization')\n"
   ]
  },
  {
   "cell_type": "code",
   "execution_count": 11,
   "id": "0d94f17b-c760-4be5-9218-79446165a41f",
   "metadata": {},
   "outputs": [
    {
     "data": {
      "application/vnd.jupyter.widget-view+json": {
       "model_id": "4d71499a7dea48b3a2277903ebce4160",
       "version_major": 2,
       "version_minor": 0
      },
      "text/plain": [
       "VBox(children=(Output(), RadioButtons(layout=Layout(width='max-content'), options=(('k-folds', 0), ('Leave one…"
      ]
     },
     "metadata": {},
     "output_type": "display_data"
    },
    {
     "data": {
      "application/vnd.jupyter.widget-view+json": {
       "model_id": "8f92885b8c0b48cf8356570e358d0af0",
       "version_major": 2,
       "version_minor": 0
      },
      "text/plain": [
       "VBox(children=(Output(), RadioButtons(layout=Layout(width='max-content'), options=(('Data randomization', 0), …"
      ]
     },
     "metadata": {},
     "output_type": "display_data"
    }
   ],
   "source": [
    "if __name__ == \"__main__\":\n",
    "    display(L1P6Q1, L1P6Q2)"
   ]
  },
  {
   "cell_type": "markdown",
   "id": "eadd1858-8196-4001-9ed2-a099b6ce3f8d",
   "metadata": {},
   "source": [
    "## Page 7"
   ]
  },
  {
   "cell_type": "code",
   "execution_count": 12,
   "id": "fee041d4-6c3c-41f9-b693-c7e09c2fe965",
   "metadata": {},
   "outputs": [],
   "source": [
    "L1P7Q1 = MultipleChoice('1. What does the following line of code do, kFold(10,True)?',['Shuffle ten iterations of the train/test data','Create ten iterations of the train/test data','Perform kFold randomly ten times', 'Perform kFold non-randomly ten times'],'Shuffle ten iterations of the train/test data')\n",
    "L1P7Q2 = MultipleChoice('2. Which function prints accuracy scores for each iteration??',['kFold()','.split()','cross_val_score()', 'train_test_split()'],'cross_val_score()')"
   ]
  },
  {
   "cell_type": "code",
   "execution_count": 13,
   "id": "3d022d30-4f19-4b95-9279-5bb9e3c4d1e0",
   "metadata": {},
   "outputs": [
    {
     "data": {
      "application/vnd.jupyter.widget-view+json": {
       "model_id": "98d434d2130c473baac4d7af3a56f855",
       "version_major": 2,
       "version_minor": 0
      },
      "text/plain": [
       "VBox(children=(Output(), RadioButtons(layout=Layout(width='max-content'), options=(('Shuffle ten iterations of…"
      ]
     },
     "metadata": {},
     "output_type": "display_data"
    },
    {
     "data": {
      "application/vnd.jupyter.widget-view+json": {
       "model_id": "4c1714f5136348f3929213cc70dab7a6",
       "version_major": 2,
       "version_minor": 0
      },
      "text/plain": [
       "VBox(children=(Output(), RadioButtons(layout=Layout(width='max-content'), options=(('kFold()', 0), ('.split()'…"
      ]
     },
     "metadata": {},
     "output_type": "display_data"
    }
   ],
   "source": [
    "if __name__ == \"__main__\":\n",
    "    display(L1P7Q1, L1P7Q2)"
   ]
  },
  {
   "cell_type": "markdown",
   "id": "6ad8ced5-5474-45b1-bbf1-de0cf7efa912",
   "metadata": {},
   "source": [
    "## Lesson 2"
   ]
  },
  {
   "cell_type": "markdown",
   "id": "0802e76d-b7c5-43b8-bd7a-2974a0af164b",
   "metadata": {},
   "source": [
    "## Page 2"
   ]
  },
  {
   "cell_type": "code",
   "execution_count": 14,
   "id": "3625cc79-a2db-4bcc-a85b-2e8e24230a73",
   "metadata": {},
   "outputs": [],
   "source": [
    "L2P2Q1 = MultipleChoice('1.Which of the following is NOT a step in k-means clustering that the computer does? ',['Choose the number of clusters','Assign data to clusters','Calculate the center of the cluster', 'Reassign data points'],'Choose the number of clusters')\n",
    "L2P2Q2 = MultipleChoice('2. What is the center of each cluster called?',['Cluster','Cluster mean','labels_', 'Centroid'], 'Centroid')\n"
   ]
  },
  {
   "cell_type": "code",
   "execution_count": 15,
   "id": "0eeb95e4-36a5-410c-ac8a-626fcc474b48",
   "metadata": {},
   "outputs": [
    {
     "data": {
      "application/vnd.jupyter.widget-view+json": {
       "model_id": "51a1da65d9fc4243851f9373baaf65aa",
       "version_major": 2,
       "version_minor": 0
      },
      "text/plain": [
       "VBox(children=(Output(), RadioButtons(layout=Layout(width='max-content'), options=(('Choose the number of clus…"
      ]
     },
     "metadata": {},
     "output_type": "display_data"
    },
    {
     "data": {
      "application/vnd.jupyter.widget-view+json": {
       "model_id": "011521b897dc4e02b84b605431d71e85",
       "version_major": 2,
       "version_minor": 0
      },
      "text/plain": [
       "VBox(children=(Output(), RadioButtons(layout=Layout(width='max-content'), options=(('Cluster', 0), ('Cluster m…"
      ]
     },
     "metadata": {},
     "output_type": "display_data"
    }
   ],
   "source": [
    "if __name__ == \"__main__\":\n",
    "    display(L2P2Q1, L2P2Q2)"
   ]
  },
  {
   "cell_type": "markdown",
   "id": "7341bd94-90a7-41f9-8944-0899dd200cc3",
   "metadata": {},
   "source": [
    "## Page 3"
   ]
  },
  {
   "cell_type": "code",
   "execution_count": 16,
   "id": "3e283e8a-89be-44ca-99ff-690a663d8e9c",
   "metadata": {},
   "outputs": [],
   "source": [
    "L2P3Q1 = MultipleChoice('1. True or False? You can utilize string data in k-means clustering?',['True','False'],'False')\n",
    "L2P3Q2 = MultipleChoice('2. Which piece of code specifies the number of clusters for which you are looking?',['KMeans()This performs the acutal KMeans() analysis.','n_clusters=','labels_This tells you which data point is in which cluster.', 'cluster_centers This provides the center of each cluster.'], 'n_clusters=')\n"
   ]
  },
  {
   "cell_type": "code",
   "execution_count": 17,
   "id": "e0696be6-27fa-433d-8c1f-e64ced00f405",
   "metadata": {},
   "outputs": [
    {
     "data": {
      "application/vnd.jupyter.widget-view+json": {
       "model_id": "63098f720e924739a612fa57fca64b33",
       "version_major": 2,
       "version_minor": 0
      },
      "text/plain": [
       "VBox(children=(Output(), RadioButtons(layout=Layout(width='max-content'), options=(('True', 0), ('False', 1)),…"
      ]
     },
     "metadata": {},
     "output_type": "display_data"
    },
    {
     "data": {
      "application/vnd.jupyter.widget-view+json": {
       "model_id": "703d20ef2d184499bd185c0bbb150090",
       "version_major": 2,
       "version_minor": 0
      },
      "text/plain": [
       "VBox(children=(Output(), RadioButtons(layout=Layout(width='max-content'), options=(('KMeans()This performs the…"
      ]
     },
     "metadata": {},
     "output_type": "display_data"
    }
   ],
   "source": [
    "if __name__ == \"__main__\":\n",
    "    display(L2P3Q1, L2P3Q2)"
   ]
  },
  {
   "cell_type": "markdown",
   "id": "9c498764-aa4f-4f36-bb93-f7dd05760de8",
   "metadata": {},
   "source": [
    "## Page 4"
   ]
  },
  {
   "cell_type": "code",
   "execution_count": 18,
   "id": "21a82900-2816-498e-958a-0bf42b055d9f",
   "metadata": {},
   "outputs": [],
   "source": [
    "L2P4Q1 = MultipleChoice('1. True or False? KNN looks at all the points around a data point to determine what group it should be in?',['True','False',],'True')\n",
    "\n"
   ]
  },
  {
   "cell_type": "code",
   "execution_count": 19,
   "id": "7449cc33-2a48-45b8-9459-6afc676940e4",
   "metadata": {},
   "outputs": [
    {
     "data": {
      "application/vnd.jupyter.widget-view+json": {
       "model_id": "8846b646a89a47979b1adb05aebe97e1",
       "version_major": 2,
       "version_minor": 0
      },
      "text/plain": [
       "VBox(children=(Output(), RadioButtons(layout=Layout(width='max-content'), options=(('True', 0), ('False', 1)),…"
      ]
     },
     "metadata": {},
     "output_type": "display_data"
    }
   ],
   "source": [
    "if __name__ == \"__main__\":\n",
    "    display(L2P4Q1)"
   ]
  },
  {
   "cell_type": "markdown",
   "id": "972a203f-4b91-4736-a33c-ddebb0893ebf",
   "metadata": {},
   "source": [
    "## Page 5"
   ]
  },
  {
   "cell_type": "code",
   "execution_count": 20,
   "id": "68398aaf-3f97-493b-a69d-3d310f39450e",
   "metadata": {},
   "outputs": [],
   "source": [
    "L2P5Q1 = MultipleChoice('2. True or False? All your data must be on the same scale when you perform KNN.',['True','False',],'True')"
   ]
  },
  {
   "cell_type": "code",
   "execution_count": 21,
   "id": "2491e0ac-d400-4496-8e98-2d019fe1bbba",
   "metadata": {},
   "outputs": [
    {
     "data": {
      "application/vnd.jupyter.widget-view+json": {
       "model_id": "626f3f2c0421445aac0226f483bd283d",
       "version_major": 2,
       "version_minor": 0
      },
      "text/plain": [
       "VBox(children=(Output(), RadioButtons(layout=Layout(width='max-content'), options=(('True', 0), ('False', 1)),…"
      ]
     },
     "metadata": {},
     "output_type": "display_data"
    }
   ],
   "source": [
    "if __name__ == \"__main__\":\n",
    "    display(L2P5Q1)"
   ]
  },
  {
   "cell_type": "markdown",
   "id": "ce189040-a384-4ace-aff0-4069cb1c6a9c",
   "metadata": {},
   "source": [
    "## Page 6"
   ]
  },
  {
   "cell_type": "code",
   "execution_count": 22,
   "id": "85c5ebaf-d7c9-479d-9b2f-c0d332f8b1ff",
   "metadata": {},
   "outputs": [],
   "source": [
    "L2P6Q1 = MultipleChoice('1. Where will the overall accuracy of the algorithm be located in the classification report?',['precision - micro avg','precision - weighted avg','recall', 'support'],'precision - weighted avg')\n",
    "L2P6Q2 = MultipleChoice('2. What is the benefit of the elbow method?',['You can examine which ks have the best error rate quickly','You can explore each k in depth','It automatically fits the best model for you', 'It reduces the error rate automatically'],'You can examine which ks have the best error rate quickly')\n"
   ]
  },
  {
   "cell_type": "code",
   "execution_count": 23,
   "id": "2460834d-2097-42f9-8497-2eb458416193",
   "metadata": {},
   "outputs": [
    {
     "data": {
      "application/vnd.jupyter.widget-view+json": {
       "model_id": "602efc7002df433baac5c06207534a3d",
       "version_major": 2,
       "version_minor": 0
      },
      "text/plain": [
       "VBox(children=(Output(), RadioButtons(layout=Layout(width='max-content'), options=(('precision - micro avg', 0…"
      ]
     },
     "metadata": {},
     "output_type": "display_data"
    },
    {
     "data": {
      "application/vnd.jupyter.widget-view+json": {
       "model_id": "f396b0d346ed4b06b951bc917e028ad4",
       "version_major": 2,
       "version_minor": 0
      },
      "text/plain": [
       "VBox(children=(Output(), RadioButtons(layout=Layout(width='max-content'), options=(('You can examine which ks …"
      ]
     },
     "metadata": {},
     "output_type": "display_data"
    }
   ],
   "source": [
    "if __name__ == \"__main__\":\n",
    "    display(L2P6Q1,L2P6Q2)"
   ]
  },
  {
   "cell_type": "markdown",
   "id": "b164e7ea-d69b-4d7f-8c35-e9711fe0a3e5",
   "metadata": {},
   "source": [
    "## Lesson 3"
   ]
  },
  {
   "cell_type": "markdown",
   "id": "656f3175-5f37-4b2e-a8fe-b0a0df4be568",
   "metadata": {},
   "source": [
    "## Page 2"
   ]
  },
  {
   "cell_type": "code",
   "execution_count": 24,
   "id": "735c4771-a95e-4acf-bb6b-6fa7f414d35f",
   "metadata": {},
   "outputs": [],
   "source": [
    "L3P2Q1 = MultipleChoice('1. Where do you start on a decision tree?',['Root node','Node','Edge', 'Leave'],'Root node')\n",
    "L3P2Q2 = MultipleChoice('2. When would you utilize a decision tree or random forest model?',['When you are predicting continuous variables','When you are predicting categorical variables',],'When you are predicting categorical variables')\n",
    "\n"
   ]
  },
  {
   "cell_type": "code",
   "execution_count": 25,
   "id": "e406796e-a82a-48a8-b7d7-bf0a8bfe0f52",
   "metadata": {},
   "outputs": [
    {
     "data": {
      "application/vnd.jupyter.widget-view+json": {
       "model_id": "f1e08b683b2144458a2554ccd17334ea",
       "version_major": 2,
       "version_minor": 0
      },
      "text/plain": [
       "VBox(children=(Output(), RadioButtons(layout=Layout(width='max-content'), options=(('Root node', 0), ('Node', …"
      ]
     },
     "metadata": {},
     "output_type": "display_data"
    },
    {
     "data": {
      "application/vnd.jupyter.widget-view+json": {
       "model_id": "9c5758026eea4000b5d575867cdad19d",
       "version_major": 2,
       "version_minor": 0
      },
      "text/plain": [
       "VBox(children=(Output(), RadioButtons(layout=Layout(width='max-content'), options=(('When you are predicting c…"
      ]
     },
     "metadata": {},
     "output_type": "display_data"
    }
   ],
   "source": [
    "if __name__ == \"__main__\":\n",
    "    display(L3P2Q1, L3P2Q2)"
   ]
  },
  {
   "cell_type": "markdown",
   "id": "c275d4e6-8dbb-4afd-8b28-2dcadb5cf840",
   "metadata": {},
   "source": [
    "## Page 4"
   ]
  },
  {
   "cell_type": "code",
   "execution_count": 26,
   "id": "21ceab5f-fc79-44aa-b5b4-27c2ef6da220",
   "metadata": {},
   "outputs": [],
   "source": [
    "L3P4Q1 = MultipleChoice('1. Which function will create a decision tree in Python?',['train_test_split()This will split your data into testing and training data.','DecisionTreeClassifier()','model_selectionThis is the package that contains the train_test_split() function.','classification_report()This is the function that provides precision ratings.'],'DecisionTreeClassifier()')\n"
   ]
  },
  {
   "cell_type": "code",
   "execution_count": 27,
   "id": "993d2561-ee03-4f5a-82d5-40419d1520f9",
   "metadata": {},
   "outputs": [
    {
     "data": {
      "application/vnd.jupyter.widget-view+json": {
       "model_id": "087dd9b04c7c4fc1a2005d3cf88c6935",
       "version_major": 2,
       "version_minor": 0
      },
      "text/plain": [
       "VBox(children=(Output(), RadioButtons(layout=Layout(width='max-content'), options=(('train_test_split()This wi…"
      ]
     },
     "metadata": {},
     "output_type": "display_data"
    }
   ],
   "source": [
    "if __name__ == \"__main__\":\n",
    "    display(L3P4Q1)"
   ]
  },
  {
   "cell_type": "markdown",
   "id": "0b36a354-a0ce-49f8-9ea8-d9bc52d9c260",
   "metadata": {},
   "source": [
    "## Page 5"
   ]
  },
  {
   "cell_type": "code",
   "execution_count": 28,
   "id": "5f24d7e9-8613-40c0-88a8-ae419a47f922",
   "metadata": {},
   "outputs": [],
   "source": [
    "L3P5Q1 = MultipleChoice('1. True or False? You need to complete a decision tree model before completing a random forest model.',['True','False'],'False')\n",
    "L3P5Q2 = MultipleChoice('2. From which package can you find the RandomForestClassifier()?',['sklearn.model_selection','sklearn.ensemble','sklearn.metrics','sklearn.tree'],'sklearn.ensemble')"
   ]
  },
  {
   "cell_type": "code",
   "execution_count": 29,
   "id": "7f3a0306-415d-483f-865e-79d48e8ee923",
   "metadata": {},
   "outputs": [
    {
     "data": {
      "application/vnd.jupyter.widget-view+json": {
       "model_id": "0faab2d71c7e472faa010c704db8b1f2",
       "version_major": 2,
       "version_minor": 0
      },
      "text/plain": [
       "VBox(children=(Output(), RadioButtons(layout=Layout(width='max-content'), options=(('True', 0), ('False', 1)),…"
      ]
     },
     "metadata": {},
     "output_type": "display_data"
    },
    {
     "data": {
      "application/vnd.jupyter.widget-view+json": {
       "model_id": "923dd2ac8328456b9ab9ef4a2b763e9e",
       "version_major": 2,
       "version_minor": 0
      },
      "text/plain": [
       "VBox(children=(Output(), RadioButtons(layout=Layout(width='max-content'), options=(('sklearn.model_selection',…"
      ]
     },
     "metadata": {},
     "output_type": "display_data"
    }
   ],
   "source": [
    "if __name__ == \"__main__\":\n",
    "    display(L3P5Q1, L3P5Q2)"
   ]
  },
  {
   "cell_type": "markdown",
   "id": "4807d1f1-3b4b-44f1-9225-2beef3066928",
   "metadata": {},
   "source": [
    "## Page 6"
   ]
  },
  {
   "cell_type": "code",
   "execution_count": 30,
   "id": "c43c5243-fa11-41d0-ad8b-b883f47ab7ef",
   "metadata": {},
   "outputs": [],
   "source": [
    "L3P6Q1 = MultipleChoice('1. The _______ is the decision points, or branches, on the tree.?',['Maximum depth','Maximum number of features','Number of estimators', 'Minimum number of samples for a leaf'],'Maximum number of features')\n",
    "L3P6Q2 = MultipleChoice('2. The _________ indicates how many data points are being sorted at each feature.',['Maximum depth','Maximum number of features','Minimum number of samples for a leaf', 'Number of estimators'],'Minimum number of samples for a leaf')\n",
    "L3P6Q3 = MultipleChoice('3. The _______ is how many trees that make up a forest.',['Maximum depth','Maximum number of features','Minimum number of samples for a leaf', 'Number of estimators'],'Number of estimators')\n",
    "L3P6Q4 = MultipleChoice('4. The _______ is how far down the \"roots\" of your tree go.',['Maximum depth','Number of estimators','Maximum number of features', 'Minimum number of samples for a leaf'],'Maximum depth')\n",
    "L3P6Q5 = MultipleChoice('5. Parameters that are adjustable are called _______?',['Hydroparameter','Hyperparameter','Hectoparameter', 'Hypoparameter'],'Hyperparameter')"
   ]
  },
  {
   "cell_type": "code",
   "execution_count": 31,
   "id": "409bae88-626f-40cc-9dd4-4578cbd17855",
   "metadata": {},
   "outputs": [
    {
     "data": {
      "application/vnd.jupyter.widget-view+json": {
       "model_id": "d32e37d313d34a0381f0cb8c140a4109",
       "version_major": 2,
       "version_minor": 0
      },
      "text/plain": [
       "VBox(children=(Output(), RadioButtons(layout=Layout(width='max-content'), options=(('Maximum depth', 0), ('Max…"
      ]
     },
     "metadata": {},
     "output_type": "display_data"
    },
    {
     "data": {
      "application/vnd.jupyter.widget-view+json": {
       "model_id": "6f883088d09d40e6a74e24f4755ab379",
       "version_major": 2,
       "version_minor": 0
      },
      "text/plain": [
       "VBox(children=(Output(), RadioButtons(layout=Layout(width='max-content'), options=(('Maximum depth', 0), ('Max…"
      ]
     },
     "metadata": {},
     "output_type": "display_data"
    },
    {
     "data": {
      "application/vnd.jupyter.widget-view+json": {
       "model_id": "937f33d3d2524a8aa544bf7012afbc1c",
       "version_major": 2,
       "version_minor": 0
      },
      "text/plain": [
       "VBox(children=(Output(), RadioButtons(layout=Layout(width='max-content'), options=(('Maximum depth', 0), ('Max…"
      ]
     },
     "metadata": {},
     "output_type": "display_data"
    },
    {
     "data": {
      "application/vnd.jupyter.widget-view+json": {
       "model_id": "0a50479a9be04ac0862f22ddd8dc99c3",
       "version_major": 2,
       "version_minor": 0
      },
      "text/plain": [
       "VBox(children=(Output(), RadioButtons(layout=Layout(width='max-content'), options=(('Maximum depth', 0), ('Num…"
      ]
     },
     "metadata": {},
     "output_type": "display_data"
    },
    {
     "data": {
      "application/vnd.jupyter.widget-view+json": {
       "model_id": "2c2f395fdc7a409bb878c32cc3d0987e",
       "version_major": 2,
       "version_minor": 0
      },
      "text/plain": [
       "VBox(children=(Output(), RadioButtons(layout=Layout(width='max-content'), options=(('Hydroparameter', 0), ('Hy…"
      ]
     },
     "metadata": {},
     "output_type": "display_data"
    }
   ],
   "source": [
    "if __name__ == \"__main__\":\n",
    "    display(L3P6Q1, L3P6Q2, L3P6Q3, L3P6Q4, L3P6Q5)"
   ]
  },
  {
   "cell_type": "markdown",
   "id": "a0753980-2b5e-453f-8d3b-7a59a8972bf8",
   "metadata": {},
   "source": [
    "## Page 7"
   ]
  },
  {
   "cell_type": "code",
   "execution_count": 32,
   "id": "66fef3d3-09bc-40c4-998a-333ab54183d8",
   "metadata": {},
   "outputs": [],
   "source": [
    "L3P7Q1 = MultipleChoice('1. Where do you plug in the random_grid dictionary?',['after n_iter','after param_distributions','after estimator', 'after random_state'],'after param_distributions')\n",
    "L3P7Q2 = MultipleChoice('2. What is the very first thing you want to do when hyperparameter tuning?',['Create a for loop.','Create lists with all the hyperparameter values you want to trial.','Create an array.', 'Find the number of estimators.'],'Find the number of estimators.')\n"
   ]
  },
  {
   "cell_type": "code",
   "execution_count": 33,
   "id": "94ed7aa1-8dd3-4881-84ac-dd7c005f1574",
   "metadata": {},
   "outputs": [
    {
     "data": {
      "application/vnd.jupyter.widget-view+json": {
       "model_id": "bdedbd09b0d443e8aa13c59993abc188",
       "version_major": 2,
       "version_minor": 0
      },
      "text/plain": [
       "VBox(children=(Output(), RadioButtons(layout=Layout(width='max-content'), options=(('after n_iter', 0), ('afte…"
      ]
     },
     "metadata": {},
     "output_type": "display_data"
    },
    {
     "data": {
      "application/vnd.jupyter.widget-view+json": {
       "model_id": "4d216658f6784811bfd0cb9bf755c546",
       "version_major": 2,
       "version_minor": 0
      },
      "text/plain": [
       "VBox(children=(Output(), RadioButtons(layout=Layout(width='max-content'), options=(('Create a for loop.', 0), …"
      ]
     },
     "metadata": {},
     "output_type": "display_data"
    }
   ],
   "source": [
    "if __name__ == \"__main__\":\n",
    "    display(L3P7Q1, L3P7Q2)"
   ]
  },
  {
   "cell_type": "markdown",
   "id": "781c0da3-d0b5-469a-8e37-5577f93d7714",
   "metadata": {},
   "source": [
    "## Page 8"
   ]
  },
  {
   "cell_type": "code",
   "execution_count": 34,
   "id": "4fb3a41b-42a9-4e81-af76-64ca06ac81c8",
   "metadata": {},
   "outputs": [],
   "source": [
    "L3P8Q1 = MultipleChoice('1. True or False? The feature in machine learning can be referred to as a variable.',['True','False'],'True')\n",
    "L3P8Q2 = MultipleChoice('2. True or False? Feature Importance is formatted as a pandas series, using the function pd.Series().',['True','False'],'True')\n",
    "L3P8Q3 = MultipleChoice('3. True or False? Ascending=True means that this goes from largest to smallest.',['True','False'],'False')\n"
   ]
  },
  {
   "cell_type": "code",
   "execution_count": 35,
   "id": "04ba7099-273a-48d2-80c4-d541665b2b6b",
   "metadata": {},
   "outputs": [
    {
     "data": {
      "application/vnd.jupyter.widget-view+json": {
       "model_id": "838482ba280a4aef924584edbf0a9c67",
       "version_major": 2,
       "version_minor": 0
      },
      "text/plain": [
       "VBox(children=(Output(), RadioButtons(layout=Layout(width='max-content'), options=(('True', 0), ('False', 1)),…"
      ]
     },
     "metadata": {},
     "output_type": "display_data"
    },
    {
     "data": {
      "application/vnd.jupyter.widget-view+json": {
       "model_id": "5aa5b6355c6a48cfa38a3ed0d8008403",
       "version_major": 2,
       "version_minor": 0
      },
      "text/plain": [
       "VBox(children=(Output(), RadioButtons(layout=Layout(width='max-content'), options=(('True', 0), ('False', 1)),…"
      ]
     },
     "metadata": {},
     "output_type": "display_data"
    },
    {
     "data": {
      "application/vnd.jupyter.widget-view+json": {
       "model_id": "838482ba280a4aef924584edbf0a9c67",
       "version_major": 2,
       "version_minor": 0
      },
      "text/plain": [
       "VBox(children=(Output(), RadioButtons(layout=Layout(width='max-content'), options=(('True', 0), ('False', 1)),…"
      ]
     },
     "metadata": {},
     "output_type": "display_data"
    }
   ],
   "source": [
    "if __name__ == \"__main__\":\n",
    "    display(L3P8Q1, L3P8Q2, L3P8Q1)"
   ]
  },
  {
   "cell_type": "markdown",
   "id": "1d5a49da-0819-43ad-87ec-ca708c93fd32",
   "metadata": {},
   "source": [
    "## Page 9"
   ]
  },
  {
   "cell_type": "code",
   "execution_count": 36,
   "id": "a50b69e3-947a-4ea6-85c7-11068d3c5684",
   "metadata": {},
   "outputs": [],
   "source": [
    "L3P9Q1 = MultipleChoice('1. For what is an API used?',['Analyzing data','Creating data','Retrieving data'],'Retrieving data')\n",
    "L3P9Q2 = MultipleChoice('2. True or False? You may need an API key to access large amounts of data.',['True','False'],'True')\n"
   ]
  },
  {
   "cell_type": "code",
   "execution_count": 37,
   "id": "2e3946bf-0b83-4400-942b-0790f26b4411",
   "metadata": {},
   "outputs": [
    {
     "data": {
      "application/vnd.jupyter.widget-view+json": {
       "model_id": "74010e1524944e88bd1843787c545ec7",
       "version_major": 2,
       "version_minor": 0
      },
      "text/plain": [
       "VBox(children=(Output(), RadioButtons(layout=Layout(width='max-content'), options=(('Analyzing data', 0), ('Cr…"
      ]
     },
     "metadata": {},
     "output_type": "display_data"
    },
    {
     "data": {
      "application/vnd.jupyter.widget-view+json": {
       "model_id": "ef5b73f8d6954ea88dda35bb65a50c9a",
       "version_major": 2,
       "version_minor": 0
      },
      "text/plain": [
       "VBox(children=(Output(), RadioButtons(layout=Layout(width='max-content'), options=(('True', 0), ('False', 1)),…"
      ]
     },
     "metadata": {},
     "output_type": "display_data"
    }
   ],
   "source": [
    "if __name__ == \"__main__\":\n",
    "    display(L3P9Q1, L3P9Q2)"
   ]
  },
  {
   "cell_type": "markdown",
   "id": "73266861-85a5-42d3-99c4-7ccccf701c4f",
   "metadata": {},
   "source": [
    "## Lesson 4"
   ]
  },
  {
   "cell_type": "markdown",
   "id": "fdaa0679-920d-4607-885e-fee0579cef3e",
   "metadata": {},
   "source": [
    "## Page 2"
   ]
  },
  {
   "cell_type": "code",
   "execution_count": 39,
   "id": "1473e7e4-86e6-45e0-ad17-98b1a2674428",
   "metadata": {},
   "outputs": [],
   "source": [
    "L4P2Q1 = MultipleChoice('1. Bayesian statistics is a ___________?',['tree branch on a birch tree.','a branch of stats that uses probability to test your beliefs against data.','a branch of stats that uses pentagons to measure the area.'],'a branch of stats that uses probability to test your beliefs against data.')\n",
    "L4P2Q2 = MultipleChoice('2. You can continually update your hypotheses based on updated data using Bayesian statistics?',['Yes','No'],'Yes')"
   ]
  },
  {
   "cell_type": "code",
   "execution_count": 40,
   "id": "75cafd92-b8b8-46f8-999d-3db026a53e99",
   "metadata": {},
   "outputs": [
    {
     "data": {
      "application/vnd.jupyter.widget-view+json": {
       "model_id": "8286fc90b7c94d14ad32287e3585740f",
       "version_major": 2,
       "version_minor": 0
      },
      "text/plain": [
       "VBox(children=(Output(outputs=({'name': 'stdout', 'text': '1. Bayesian statistics is a ___________?\\n', 'outpu…"
      ]
     },
     "metadata": {},
     "output_type": "display_data"
    },
    {
     "data": {
      "application/vnd.jupyter.widget-view+json": {
       "model_id": "3afe3bf24ce64707ad04ff40873e7cf2",
       "version_major": 2,
       "version_minor": 0
      },
      "text/plain": [
       "VBox(children=(Output(outputs=({'name': 'stdout', 'text': '2. You can continually update your hypotheses based…"
      ]
     },
     "metadata": {},
     "output_type": "display_data"
    }
   ],
   "source": [
    "if __name__ == \"__main__\":\n",
    "    display(L4P2Q1, L4P2Q2)"
   ]
  },
  {
   "cell_type": "markdown",
   "id": "7628dcae-d06a-4b24-8f2b-323cfc28f93f",
   "metadata": {},
   "source": [
    "## Page 3"
   ]
  },
  {
   "cell_type": "code",
   "execution_count": 42,
   "id": "20966d3a-d130-42c0-a35e-53e42c1170d3",
   "metadata": {},
   "outputs": [],
   "source": [
    "L4P3Q1 = MultipleChoice('2. True or False? Is P is just shorthand for pipe symbol.',['True','False'],'False')\n",
    "L4P3Q2 = MultipleChoice('2. You cannot calculate the likelihood of color blindness given the likelihood of gender using Bayes Theorem.',['True','False'],'False')\n",
    "L4P3Q3 = MultipleChoice('2. You can continually update your hypotheses based on updated data using Bayesian statistics?',['Yes','No'],'Yes')\n"
   ]
  },
  {
   "cell_type": "code",
   "execution_count": 43,
   "id": "3fdb1eb1-835d-4bdd-858c-d4f578d5604d",
   "metadata": {},
   "outputs": [
    {
     "data": {
      "application/vnd.jupyter.widget-view+json": {
       "model_id": "99fd0f96addb4e73bd309e300087649f",
       "version_major": 2,
       "version_minor": 0
      },
      "text/plain": [
       "VBox(children=(Output(outputs=({'name': 'stdout', 'text': '2. True or False? Is P is just shorthand for pipe s…"
      ]
     },
     "metadata": {},
     "output_type": "display_data"
    },
    {
     "data": {
      "application/vnd.jupyter.widget-view+json": {
       "model_id": "1d173b0ef0054db19f57c0c2555cfd59",
       "version_major": 2,
       "version_minor": 0
      },
      "text/plain": [
       "VBox(children=(Output(outputs=({'name': 'stdout', 'text': '2. You cannot calculate the likelihood of color bli…"
      ]
     },
     "metadata": {},
     "output_type": "display_data"
    },
    {
     "data": {
      "application/vnd.jupyter.widget-view+json": {
       "model_id": "c601bca7530243969b87973c3efa26ae",
       "version_major": 2,
       "version_minor": 0
      },
      "text/plain": [
       "VBox(children=(Output(outputs=({'name': 'stdout', 'text': '2. You can continually update your hypotheses based…"
      ]
     },
     "metadata": {},
     "output_type": "display_data"
    }
   ],
   "source": [
    "if __name__ == \"__main__\":\n",
    "    display(L4P3Q1, L4P3Q2,L4P3Q3)"
   ]
  },
  {
   "cell_type": "markdown",
   "id": "3158ea8d-d49d-42d8-b282-a6144036b6ec",
   "metadata": {},
   "source": [
    "## Page 4"
   ]
  },
  {
   "cell_type": "code",
   "execution_count": 44,
   "id": "0c634014-17aa-4b6c-89b6-3b7f07770b86",
   "metadata": {},
   "outputs": [],
   "source": [
    "L4P4Q1 = MultipleChoice('2. True or False? The bottom portion of Bayes theorem helps normalize the data.',['True','False'],'True')\n",
    "L4P4Q2 = MultipleChoice('2. True or False? Prior probability is about your belief after you see the data.',['True','False'],'False')\n"
   ]
  },
  {
   "cell_type": "code",
   "execution_count": 45,
   "id": "40386fa5-9043-4696-9d1b-761c3ede6524",
   "metadata": {},
   "outputs": [
    {
     "data": {
      "application/vnd.jupyter.widget-view+json": {
       "model_id": "7d500c2ffc1041bfaff76a520f5b5315",
       "version_major": 2,
       "version_minor": 0
      },
      "text/plain": [
       "VBox(children=(Output(outputs=({'name': 'stdout', 'text': '2. True or False? The bottom portion of Bayes theor…"
      ]
     },
     "metadata": {},
     "output_type": "display_data"
    },
    {
     "data": {
      "application/vnd.jupyter.widget-view+json": {
       "model_id": "64f1bcb6b3024c718d325b589d69e51e",
       "version_major": 2,
       "version_minor": 0
      },
      "text/plain": [
       "VBox(children=(Output(outputs=({'name': 'stdout', 'text': '2. True or False? Prior probability is about your b…"
      ]
     },
     "metadata": {},
     "output_type": "display_data"
    }
   ],
   "source": [
    "if __name__ == \"__main__\":\n",
    "    display(L4P4Q1, L4P4Q2)"
   ]
  },
  {
   "cell_type": "markdown",
   "id": "b6caca8e-7a9a-4f82-96a8-1c0145156942",
   "metadata": {},
   "source": [
    "## Page 5"
   ]
  },
  {
   "cell_type": "code",
   "execution_count": 73,
   "id": "f677370b-acee-45ae-91d5-80a86b022434",
   "metadata": {},
   "outputs": [],
   "source": [
    "L4P5Q1 = MultipleChoice('2. Binomial distribution is when you only have _____ outcomes?',['3','8','2','1'],'2')\n",
    "L4P5Q2 = MultipleChoice('2. True or False? rbeta()samples from the probability density function for a binomial distribution.',['True','False'],'True')\n",
    "L4P5Q3 = MultipleChoice('2. True or False? A/B Testing is when you are comparing 2-4 methods.',['True','False'],'False') "
   ]
  },
  {
   "cell_type": "code",
   "execution_count": 74,
   "id": "c69a1367-f5d4-405e-bc31-49feaf89003a",
   "metadata": {},
   "outputs": [
    {
     "data": {
      "application/vnd.jupyter.widget-view+json": {
       "model_id": "3a641911512746ed88993972ba8006b6",
       "version_major": 2,
       "version_minor": 0
      },
      "text/plain": [
       "VBox(children=(Output(outputs=({'name': 'stdout', 'text': '2. Binomial distribution is when you only have ____…"
      ]
     },
     "metadata": {},
     "output_type": "display_data"
    },
    {
     "data": {
      "application/vnd.jupyter.widget-view+json": {
       "model_id": "d689d22d669746a785d61d8ccd294e4f",
       "version_major": 2,
       "version_minor": 0
      },
      "text/plain": [
       "VBox(children=(Output(outputs=({'name': 'stdout', 'text': '2. True or False? rbeta()samples from the probabili…"
      ]
     },
     "metadata": {},
     "output_type": "display_data"
    },
    {
     "data": {
      "application/vnd.jupyter.widget-view+json": {
       "model_id": "d7589e3a61fb4a6a841f8aabd844b0c1",
       "version_major": 2,
       "version_minor": 0
      },
      "text/plain": [
       "VBox(children=(Output(outputs=({'name': 'stdout', 'text': '2. True or False? A/B Testing is when you are compa…"
      ]
     },
     "metadata": {},
     "output_type": "display_data"
    }
   ],
   "source": [
    "if __name__ == \"__main__\":\n",
    "    display(L4P5Q1, L4P5Q2,L4P5Q3)"
   ]
  },
  {
   "cell_type": "markdown",
   "id": "92504333-93fd-49c4-bc23-f195082bb89d",
   "metadata": {},
   "source": [
    "## Page 6"
   ]
  },
  {
   "cell_type": "code",
   "execution_count": 48,
   "id": "ac2261fe-6f00-4589-9c59-47c68bca089a",
   "metadata": {},
   "outputs": [],
   "source": [
    "L4P6Q1 = MultipleChoice('2. You will use Bayesian Networks when you have _______ probability.',['rational','conditional','absolute','singular'],'conditional')\n"
   ]
  },
  {
   "cell_type": "code",
   "execution_count": 49,
   "id": "5c343981-f549-4a6e-b472-7f89ab026c81",
   "metadata": {},
   "outputs": [
    {
     "data": {
      "application/vnd.jupyter.widget-view+json": {
       "model_id": "a313ec48d88d422abb4d660649595d1d",
       "version_major": 2,
       "version_minor": 0
      },
      "text/plain": [
       "VBox(children=(Output(outputs=({'name': 'stdout', 'text': '2. You will use Bayesian Networks when you have ___…"
      ]
     },
     "metadata": {},
     "output_type": "display_data"
    }
   ],
   "source": [
    "if __name__ == \"__main__\":\n",
    "    display(L4P6Q1)"
   ]
  },
  {
   "cell_type": "markdown",
   "id": "fb956278-e1c2-43ac-b830-21be2e976b9c",
   "metadata": {},
   "source": [
    "## Lesson 5\n",
    "## Page 2"
   ]
  },
  {
   "cell_type": "code",
   "execution_count": 50,
   "id": "e0a068c6-ea3e-40b7-88c5-69b41f2fde7e",
   "metadata": {},
   "outputs": [],
   "source": [
    "L5P2Q1 = MultipleChoice('2. Which Python package is the one that enables you to do all things NLP?',['BeautifulSoup','requests','NLTK','seaborn'],'NLTK')\n"
   ]
  },
  {
   "cell_type": "code",
   "execution_count": 51,
   "id": "879fbad2-c009-4f52-9d25-4b5245a8c2c9",
   "metadata": {},
   "outputs": [
    {
     "data": {
      "application/vnd.jupyter.widget-view+json": {
       "model_id": "b2aafe82b1c849439508a9dc1685cb7c",
       "version_major": 2,
       "version_minor": 0
      },
      "text/plain": [
       "VBox(children=(Output(outputs=({'name': 'stdout', 'text': '2. Which Python package is the one that enables you…"
      ]
     },
     "metadata": {},
     "output_type": "display_data"
    }
   ],
   "source": [
    "if __name__ == \"__main__\":\n",
    "    display(L5P2Q1)"
   ]
  },
  {
   "cell_type": "markdown",
   "id": "e17c5560-207b-453e-b4e2-7c9f440414c9",
   "metadata": {},
   "source": [
    "## Page 3"
   ]
  },
  {
   "cell_type": "code",
   "execution_count": 56,
   "id": "31d365a8-04c6-4843-b1cc-727a220058b0",
   "metadata": {},
   "outputs": [],
   "source": [
    "L5P3Q1 = MultipleChoice('2. True or False? requests.get() allows you to bring data from a webpage.',['True','False'],'True')\n"
   ]
  },
  {
   "cell_type": "code",
   "execution_count": 57,
   "id": "bb50fa6b-fc3a-4db2-b806-cae337c4c133",
   "metadata": {},
   "outputs": [
    {
     "data": {
      "application/vnd.jupyter.widget-view+json": {
       "model_id": "112c0c07e7c64545ab5c9783b8611ca9",
       "version_major": 2,
       "version_minor": 0
      },
      "text/plain": [
       "VBox(children=(Output(outputs=({'name': 'stdout', 'text': '2. True or False? requests.get() allows you to brin…"
      ]
     },
     "metadata": {},
     "output_type": "display_data"
    }
   ],
   "source": [
    "if __name__ == \"__main__\":\n",
    "    display(L5P3Q1)"
   ]
  },
  {
   "cell_type": "markdown",
   "id": "51bfccde-aa38-4a69-98cc-196c11e8a898",
   "metadata": {},
   "source": [
    "## Page 4"
   ]
  },
  {
   "cell_type": "code",
   "execution_count": 65,
   "id": "2fd7e200-7fa0-412e-9ed8-7bb3f0bc0ac4",
   "metadata": {},
   "outputs": [],
   "source": [
    "L5P4Q1 = MultipleChoice('2. True or False? BeautifulSoup takes your webpage data and parses it into HTML tags.',['True','False'],'True')\n"
   ]
  },
  {
   "cell_type": "code",
   "execution_count": 66,
   "id": "ce116f36-8fbe-4653-b2ef-ca5bd70e90d7",
   "metadata": {},
   "outputs": [
    {
     "data": {
      "application/vnd.jupyter.widget-view+json": {
       "model_id": "d6601698167e4eeda9acfbd3c45d7f0c",
       "version_major": 2,
       "version_minor": 0
      },
      "text/plain": [
       "VBox(children=(Output(outputs=({'name': 'stdout', 'text': '2. True or False? BeautifulSoup takes your webpage …"
      ]
     },
     "metadata": {},
     "output_type": "display_data"
    }
   ],
   "source": [
    "if __name__ == \"__main__\":\n",
    "    display(L5P4Q1)"
   ]
  },
  {
   "cell_type": "markdown",
   "id": "a3d359ed-05e6-4b9b-a832-58e4d3b8efec",
   "metadata": {},
   "source": [
    "## Page 5"
   ]
  },
  {
   "cell_type": "code",
   "execution_count": 63,
   "id": "1e9c1419-c92b-4194-8a92-50535c03152e",
   "metadata": {},
   "outputs": [],
   "source": [
    "L5P5Q1 = MultipleChoice('2. To break down your text into words, what goes in the single quotes argument of the function RegexpTokenizer('')?',['The RegEx symbol for space','A space','A comma','The name of your text'],'The RegEx symbol for space')\n"
   ]
  },
  {
   "cell_type": "code",
   "execution_count": 64,
   "id": "9888246a-513d-4f6f-942e-b4266da5aade",
   "metadata": {},
   "outputs": [
    {
     "data": {
      "application/vnd.jupyter.widget-view+json": {
       "model_id": "b8d59a93056e40a9ad6e2db73d57fb00",
       "version_major": 2,
       "version_minor": 0
      },
      "text/plain": [
       "VBox(children=(Output(outputs=({'name': 'stdout', 'text': '2. To break down your text into words, what goes in…"
      ]
     },
     "metadata": {},
     "output_type": "display_data"
    }
   ],
   "source": [
    "if __name__ == \"__main__\":\n",
    "    display(L5P5Q1)"
   ]
  },
  {
   "cell_type": "markdown",
   "id": "1529cd34-27dc-4f3b-9458-501b50c7884c",
   "metadata": {},
   "source": [
    "## Page 6"
   ]
  },
  {
   "cell_type": "code",
   "execution_count": 67,
   "id": "3366378a-148d-4eb3-be8a-c2097f9ae679",
   "metadata": {},
   "outputs": [],
   "source": [
    "L5P6Q1 = MultipleChoice('2. What function removes capitalization?',['upper()','lower()','caps()','append()'],'lower()')\n"
   ]
  },
  {
   "cell_type": "code",
   "execution_count": 68,
   "id": "c43eeb61-aa29-4b7e-bafb-d1409426d836",
   "metadata": {},
   "outputs": [
    {
     "data": {
      "application/vnd.jupyter.widget-view+json": {
       "model_id": "048c8b75287840e1a22e616dfa8055a1",
       "version_major": 2,
       "version_minor": 0
      },
      "text/plain": [
       "VBox(children=(Output(outputs=({'name': 'stdout', 'text': '2. What function removes capitalization?\\n', 'outpu…"
      ]
     },
     "metadata": {},
     "output_type": "display_data"
    }
   ],
   "source": [
    "if __name__ == \"__main__\":\n",
    "    display(L5P6Q1)"
   ]
  },
  {
   "cell_type": "markdown",
   "id": "ab885ff2-fc50-42f4-b89b-264214105cab",
   "metadata": {},
   "source": [
    "## Page 7"
   ]
  },
  {
   "cell_type": "code",
   "execution_count": 69,
   "id": "f0104a06-d648-491e-8152-361a8acee16f",
   "metadata": {},
   "outputs": [],
   "source": [
    "L5P7Q1 = MultipleChoice('2. What are stopwords?',['\"Meaningless\" words','Words about the verb \"stop\"','Periods in a sentence','Important words'],'\"Meaningless\" words')\n"
   ]
  },
  {
   "cell_type": "code",
   "execution_count": 70,
   "id": "96b0eddc-0501-4371-8dc2-3736d27cadbb",
   "metadata": {},
   "outputs": [
    {
     "data": {
      "application/vnd.jupyter.widget-view+json": {
       "model_id": "4767c299f1434298ac31ef8b6f41debb",
       "version_major": 2,
       "version_minor": 0
      },
      "text/plain": [
       "VBox(children=(Output(outputs=({'name': 'stdout', 'text': '2. What are stopwords?\\n', 'output_type': 'stream'}…"
      ]
     },
     "metadata": {},
     "output_type": "display_data"
    }
   ],
   "source": [
    "if __name__ == \"__main__\":\n",
    "    display(L5P7Q1)"
   ]
  },
  {
   "cell_type": "markdown",
   "id": "713004b7-7c12-4cbb-8957-be5cecfbd389",
   "metadata": {},
   "source": [
    "## Page 8"
   ]
  },
  {
   "cell_type": "code",
   "execution_count": 71,
   "id": "cdcc3d00-e253-4680-8c71-c89c5b994f86",
   "metadata": {},
   "outputs": [],
   "source": [
    "L5P8Q1 = MultipleChoice('2. True or False? FreqDist() counts the number of times a word appears.',['True','False'],'True')\n"
   ]
  },
  {
   "cell_type": "code",
   "execution_count": 72,
   "id": "73d99d75-e034-4b05-87b9-2c630e8fcc6f",
   "metadata": {},
   "outputs": [
    {
     "data": {
      "application/vnd.jupyter.widget-view+json": {
       "model_id": "a4d29506a1db4531bed49e3f61d980a6",
       "version_major": 2,
       "version_minor": 0
      },
      "text/plain": [
       "VBox(children=(Output(outputs=({'name': 'stdout', 'text': '2. True or False? FreqDist() counts the number of t…"
      ]
     },
     "metadata": {},
     "output_type": "display_data"
    }
   ],
   "source": [
    "if __name__ == \"__main__\":\n",
    "    display(L5P8Q1)"
   ]
  },
  {
   "cell_type": "code",
   "execution_count": null,
   "id": "7bfa0811-4793-4073-8eb2-29c696e6e1de",
   "metadata": {},
   "outputs": [],
   "source": []
  }
 ],
 "metadata": {
  "kernelspec": {
   "display_name": "Python 3 (ipykernel)",
   "language": "python",
   "name": "python3"
  },
  "language_info": {
   "codemirror_mode": {
    "name": "ipython",
    "version": 3
   },
   "file_extension": ".py",
   "mimetype": "text/x-python",
   "name": "python",
   "nbconvert_exporter": "python",
   "pygments_lexer": "ipython3",
   "version": "3.9.7"
  }
 },
 "nbformat": 4,
 "nbformat_minor": 5
}
