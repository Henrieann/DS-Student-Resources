{
 "cells": [
  {
   "cell_type": "markdown",
   "id": "a3254cbd-6c68-4587-b862-9e93cf8bcf6b",
   "metadata": {},
   "source": [
    "### Natural Language Toolkit"
   ]
  },
  {
   "cell_type": "code",
   "execution_count": 36,
   "id": "ad59a09f-db8f-44dd-ab4b-f32e918dddfd",
   "metadata": {},
   "outputs": [
    {
     "name": "stderr",
     "output_type": "stream",
     "text": [
      "[nltk_data] Downloading package punkt to\n",
      "[nltk_data]     C:\\Users\\Windows\\AppData\\Roaming\\nltk_data...\n",
      "[nltk_data]   Package punkt is already up-to-date!\n",
      "[nltk_data] Downloading package maxent_ne_chunker to\n",
      "[nltk_data]     C:\\Users\\Windows\\AppData\\Roaming\\nltk_data...\n",
      "[nltk_data]   Package maxent_ne_chunker is already up-to-date!\n",
      "[nltk_data] Downloading package averaged_perceptron_tagger to\n",
      "[nltk_data]     C:\\Users\\Windows\\AppData\\Roaming\\nltk_data...\n",
      "[nltk_data]   Package averaged_perceptron_tagger is already up-to-\n",
      "[nltk_data]       date!\n",
      "[nltk_data] Downloading package words to\n",
      "[nltk_data]     C:\\Users\\Windows\\AppData\\Roaming\\nltk_data...\n",
      "[nltk_data]   Package words is already up-to-date!\n",
      "[nltk_data] Downloading package treebank to\n",
      "[nltk_data]     C:\\Users\\Windows\\AppData\\Roaming\\nltk_data...\n",
      "[nltk_data]   Unzipping corpora\\treebank.zip.\n"
     ]
    },
    {
     "data": {
      "text/plain": [
       "True"
      ]
     },
     "execution_count": 36,
     "metadata": {},
     "output_type": "execute_result"
    }
   ],
   "source": [
    "import nltk\n",
    "nltk.download('punkt')\n",
    "nltk.download('maxent_ne_chunker')\n",
    "nltk.download('averaged_perceptron_tagger')\n",
    "nltk.download('words')\n",
    "nltk.download('treebank')\n"
   ]
  },
  {
   "cell_type": "markdown",
   "id": "e2f73a34-c917-4d93-bed6-80893c774bc8",
   "metadata": {},
   "source": [
    "NLTK is a popular platform for building Python programs to work with human language data. Take a look at the different functions you can use in this toolkit."
   ]
  },
  {
   "cell_type": "markdown",
   "id": "18440178-6ae3-41d5-8d19-c3c17fee6d37",
   "metadata": {},
   "source": [
    "What are Tokens? Why do we Tokenize in NLP?\n",
    "Tokenization breaks the raw text into words, sentences called tokens."
   ]
  },
  {
   "cell_type": "code",
   "execution_count": 37,
   "id": "a164208f-62c0-4c65-af3e-dcdcae7fadec",
   "metadata": {},
   "outputs": [],
   "source": [
    "sentance = \"\"\"It was December, and the weather was still hot, so it melted the ice skating rink.\"\"\""
   ]
  },
  {
   "cell_type": "code",
   "execution_count": 38,
   "id": "ea850029-4865-4950-a96f-c1f32812540a",
   "metadata": {},
   "outputs": [
    {
     "data": {
      "text/plain": [
       "['It',\n",
       " 'was',\n",
       " 'December',\n",
       " 'and',\n",
       " 'the',\n",
       " 'weather',\n",
       " 'was',\n",
       " 'still',\n",
       " 'hot',\n",
       " '.',\n",
       " 'The',\n",
       " 'ice',\n",
       " 'skating',\n",
       " 'rink',\n",
       " 'was',\n",
       " 'a',\n",
       " 'pool',\n",
       " 'of',\n",
       " 'water',\n",
       " '.']"
      ]
     },
     "execution_count": 38,
     "metadata": {},
     "output_type": "execute_result"
    }
   ],
   "source": [
    "tokens = nltk.word_tokenize(sentence)\n",
    "tokens"
   ]
  },
  {
   "cell_type": "code",
   "execution_count": 39,
   "id": "a01b34e5-4a9e-437c-ad78-18f373bcea0e",
   "metadata": {},
   "outputs": [
    {
     "data": {
      "text/plain": [
       "[('It', 'PRP'),\n",
       " ('was', 'VBD'),\n",
       " ('December', 'NNP'),\n",
       " ('and', 'CC'),\n",
       " ('the', 'DT'),\n",
       " ('weather', 'NN')]"
      ]
     },
     "execution_count": 39,
     "metadata": {},
     "output_type": "execute_result"
    }
   ],
   "source": [
    "tagged = nltk.pos_tag(tokens)\n",
    "tagged[0:6]"
   ]
  },
  {
   "cell_type": "markdown",
   "id": "c5cfb6db-1d92-4acf-827d-d22c292fff37",
   "metadata": {},
   "source": [
    "An entity can be any word or series of words that consistently refers to the same thing. Entities is also popular technique used in information extraction to identify and segment the named entities and classify or categorize them under various predefined classes."
   ]
  },
  {
   "cell_type": "code",
   "execution_count": null,
   "id": "b1d70fe9-1aa1-423b-acb9-ef2abfdce72c",
   "metadata": {},
   "outputs": [],
   "source": [
    "entities = nltk.chunk.ne_chunk(tagged)\n",
    "entities"
   ]
  },
  {
   "cell_type": "markdown",
   "id": "429afbd3-793d-4e59-866f-92c463e7f046",
   "metadata": {},
   "source": [
    "### What is a Parse Tree?\n",
    "\n",
    "Classes and interfaces for producing tree structures that represent the internal organization of a text. This task is known as “parsing” the text, and the resulting tree structures are called the text's “parses”. It helps us to understand the syntactical structure of a sentence."
   ]
  },
  {
   "cell_type": "code",
   "execution_count": null,
   "id": "54ea9e1d-a77b-416e-ae91-8164ae8b1298",
   "metadata": {},
   "outputs": [],
   "source": [
    "from nltk.corpus import treebank\n",
    "t = treebank.parsed_sents('wsj_0001.mrg')[0]\n",
    "t.draw()"
   ]
  },
  {
   "cell_type": "markdown",
   "id": "51a1c9d1-94a1-45f9-9215-e15646d08138",
   "metadata": {},
   "source": [
    "### Resources "
   ]
  },
  {
   "cell_type": "code",
   "execution_count": null,
   "id": "3749a091-2b17-428d-9ff9-0566e2a19780",
   "metadata": {},
   "outputs": [],
   "source": [
    "[Reference](https://www.nltk.org/)"
   ]
  },
  {
   "cell_type": "code",
   "execution_count": null,
   "id": "994d12e5-4f71-4bdd-a14c-3b47973f9515",
   "metadata": {},
   "outputs": [],
   "source": []
  }
 ],
 "metadata": {
  "kernelspec": {
   "display_name": "Python 3 (ipykernel)",
   "language": "python",
   "name": "python3"
  },
  "language_info": {
   "codemirror_mode": {
    "name": "ipython",
    "version": 3
   },
   "file_extension": ".py",
   "mimetype": "text/x-python",
   "name": "python",
   "nbconvert_exporter": "python",
   "pygments_lexer": "ipython3",
   "version": "3.9.7"
  }
 },
 "nbformat": 4,
 "nbformat_minor": 5
}
