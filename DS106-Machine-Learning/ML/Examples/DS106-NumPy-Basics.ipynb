{
 "cells": [
  {
   "cell_type": "markdown",
   "id": "35994add-3101-4661-8581-ea821710287c",
   "metadata": {},
   "source": [
    "<img src=\"https://numpy.org/doc/stable/_static/numpylogo.svg\" align=\"left\" alt=\"Python image\" width = \"300\">"
   ]
  },
  {
   "cell_type": "markdown",
   "id": "a784ea6b-512a-4bc4-b694-7cb0a4c1d3b4",
   "metadata": {},
   "source": [
    "# NumPy Basics"
   ]
  },
  {
   "cell_type": "markdown",
   "id": "18e62f62-cc93-4106-9f2b-9bdc2206706e",
   "metadata": {},
   "source": [
    "- [What is NumPy?](https://numpy.org/doc/stable/user/whatisnumpy.html)\n",
    "- [NumPy Quickstart](https://numpy.org/doc/stable/user/quickstart.html)"
   ]
  },
  {
   "cell_type": "markdown",
   "id": "b6cadb5d-d359-48f3-9402-d8cc6a77a261",
   "metadata": {},
   "source": [
    "NumPy is the fundamental package for scientific computing in Python. It is a Python library that provides a multidimensional array object, various derived objects (such as masked arrays and matrices), and an assortment of routines for fast operations on arrays, including mathematical, logical, shape manipulation, sorting, selecting, I/O, discrete Fourier transforms, basic linear algebra, basic statistical operations, random simulation and much more.\n",
    "\n",
    "At the core of the NumPy package, is the ndarray object. This encapsulates n-dimensional arrays of homogeneous data types, with many operations being performed in compiled code for performance. There are several important differences between NumPy arrays and the standard Python sequences:\n",
    "\n",
    "NumPy arrays have a fixed size at creation, unlike Python lists (which can grow dynamically). Changing the size of an ndarray will create a new array and delete the original.\n",
    "\n",
    "The elements in a NumPy array are all required to be of the same data type, and thus will be the same size in memory. The exception: one can have arrays of (Python, including NumPy) objects, thereby allowing for arrays of different sized elements.\n",
    "\n",
    "NumPy arrays facilitate advanced mathematical and other types of operations on large numbers of data. Typically, such operations are executed more efficiently and with less code than is possible using Python’s built-in sequences.\n",
    "\n",
    "A growing plethora of scientific and mathematical Python-based packages are using NumPy arrays; though these typically support Python-sequence input, they convert such input to NumPy arrays prior to processing, and they often output NumPy arrays. In other words, in order to efficiently use much (perhaps even most) of today’s scientific/mathematical Python-based software, just knowing how to use Python’s built-in sequence types is insufficient - one also needs to know how to use NumPy arrays.\n",
    "\n",
    "The points about sequence size and speed are particularly important in scientific computing. As a simple example, consider the case of multiplying each element in a 1-D sequence with the corresponding element in another sequence of the same length. If the data are stored in two Python lists, a and b, we could iterate over each element:"
   ]
  },
  {
   "cell_type": "code",
   "execution_count": 193,
   "id": "681c02b4-8a50-41dd-9ed2-f08fbcbc9628",
   "metadata": {},
   "outputs": [
    {
     "name": "stdout",
     "output_type": "stream",
     "text": [
      "Random number list is : [15, 13, 23, 6, 23, 48, 34]\n",
      "Random number list is : [13, 35, 11, 2, 34, 4, 21]\n"
     ]
    }
   ],
   "source": [
    "# you can create a simple list in python\n",
    "import random\n",
    "\n",
    "a = [random.randrange(1, 50, 1) for i in range(7)]\n",
    "print (\"Random number list is : \" +  str(a))\n",
    "\n",
    "b = [random.randrange(1, 50, 1) for i in range(7)]\n",
    "print (\"Random number list is : \" +  str(b))"
   ]
  },
  {
   "cell_type": "code",
   "execution_count": 194,
   "id": "05b21884-3215-45ff-b05b-0cd02123310f",
   "metadata": {},
   "outputs": [],
   "source": [
    "# you can also create a list by importing numpy module\n",
    "import numpy as np\n",
    "\n",
    "# save two lists of 100 integers from 1  to 10\n",
    "a = (list(np.random.randint(low = 1,high=10,size=100)))\n",
    "b = (list(np.random.randint(low = 1,high=10,size=100)))"
   ]
  },
  {
   "cell_type": "code",
   "execution_count": 199,
   "id": "b55701bd-a9df-4bbd-8322-408c2b231f79",
   "metadata": {},
   "outputs": [
    {
     "name": "stdout",
     "output_type": "stream",
     "text": [
      "[7, 3, 7, 4, 1, 9, 9, 2, 9, 4, 5, 1, 2, 4, 1, 2, 2, 7, 5, 1, 8, 2, 7, 3, 8, 3, 4, 8, 8, 6, 5, 3, 4, 3, 2, 4, 7, 9, 5, 9, 5, 1, 3, 5, 7, 5, 6, 6, 4, 6, 4, 2, 7, 3, 1, 7, 2, 7, 4, 3, 2, 2, 8, 3, 3, 7, 5, 6, 6, 9, 6, 8, 3, 4, 4, 2, 8, 8, 4, 5, 8, 4, 2, 7, 7, 6, 6, 1, 3, 1, 1, 9, 1, 7, 6, 9, 3, 4, 2, 7]\n",
      "----\n",
      "[6, 3, 3, 3, 3, 5, 4, 3, 9, 4, 4, 1, 8, 3, 1, 8, 8, 3, 1, 2, 2, 6, 5, 3, 4, 3, 7, 4, 9, 6, 5, 1, 5, 5, 4, 3, 8, 1, 7, 4, 8, 3, 5, 1, 7, 1, 2, 7, 9, 9, 8, 1, 6, 4, 8, 9, 4, 2, 8, 9, 4, 8, 3, 8, 5, 8, 3, 2, 6, 8, 6, 6, 5, 5, 8, 2, 3, 9, 5, 9, 6, 1, 7, 5, 8, 9, 2, 3, 8, 4, 3, 9, 5, 3, 2, 4, 4, 7, 3, 6]\n"
     ]
    }
   ],
   "source": [
    "print (a)\n",
    "print (\"----\")\n",
    "print (b)"
   ]
  },
  {
   "cell_type": "code",
   "execution_count": 200,
   "id": "77fdeb8f-8a95-4ad4-9a2a-52985266fe0a",
   "metadata": {},
   "outputs": [
    {
     "data": {
      "text/plain": [
       "list"
      ]
     },
     "execution_count": 200,
     "metadata": {},
     "output_type": "execute_result"
    }
   ],
   "source": [
    "type(a)"
   ]
  },
  {
   "cell_type": "code",
   "execution_count": 201,
   "id": "632bebed-07d1-4304-9b18-04b4f54eb220",
   "metadata": {},
   "outputs": [
    {
     "data": {
      "text/plain": [
       "list"
      ]
     },
     "execution_count": 201,
     "metadata": {},
     "output_type": "execute_result"
    }
   ],
   "source": [
    "type (b)"
   ]
  },
  {
   "cell_type": "markdown",
   "id": "588d2526-20b8-4ff7-aed6-1dff99dd1c47",
   "metadata": {},
   "source": [
    "The data structure of a list is different than that of a vector although they look to be the same."
   ]
  },
  {
   "cell_type": "code",
   "execution_count": 203,
   "id": "ce72196a-9bb2-42a5-8df3-c2a9b8d2bbb5",
   "metadata": {},
   "outputs": [
    {
     "name": "stdout",
     "output_type": "stream",
     "text": [
      "Vector created from a list: [7 3 7 4 1 9 9 2 9 4 5 1 2 4 1 2 2 7 5 1 8 2 7 3 8 3 4 8 8 6 5 3 4 3 2 4 7\n",
      " 9 5 9 5 1 3 5 7 5 6 6 4 6 4 2 7 3 1 7 2 7 4 3 2 2 8 3 3 7 5 6 6 9 6 8 3 4\n",
      " 4 2 8 8 4 5 8 4 2 7 7 6 6 1 3 1 1 9 1 7 6 9 3 4 2 7] --- [6 3 3 3 3 5 4 3 9 4 4 1 8 3 1 8 8 3 1 2 2 6 5 3 4 3 7 4 9 6 5 1 5 5 4 3 8\n",
      " 1 7 4 8 3 5 1 7 1 2 7 9 9 8 1 6 4 8 9 4 2 8 9 4 8 3 8 5 8 3 2 6 8 6 6 5 5\n",
      " 8 2 3 9 5 9 6 1 7 5 8 9 2 3 8 4 3 9 5 3 2 4 4 7 3 6]\n"
     ]
    }
   ],
   "source": [
    "# now lets convert a list to a vector!\n",
    "# already imported numpy as np \n",
    "\n",
    "vctr_a = np.array(a) \n",
    "vctr_b = np.array(b)\n",
    "\n",
    "print(\"Vectors created from a lists:\", vctr_a,\"---\", vctr_b) \n"
   ]
  },
  {
   "cell_type": "markdown",
   "id": "58c7fc0f-11f1-4e2d-9d34-941a31742ac0",
   "metadata": {},
   "source": [
    "## At the core of the NumPy package, is the ndarray object."
   ]
  },
  {
   "cell_type": "code",
   "execution_count": 21,
   "id": "7c2f9377-8df2-48d5-ae53-6d17cb8d09b3",
   "metadata": {},
   "outputs": [
    {
     "name": "stdout",
     "output_type": "stream",
     "text": [
      "[0.41970099 0.73452929 0.61229997 0.56060761]\n"
     ]
    }
   ],
   "source": [
    "# here is a way to create an ndarray\n",
    "# generates list of 4 float values\n",
    "print(np.random.random_sample(size = 4))"
   ]
  },
  {
   "cell_type": "code",
   "execution_count": 50,
   "id": "ef6a7098-61a8-4925-9a22-e6490bb03b73",
   "metadata": {},
   "outputs": [
    {
     "data": {
      "text/plain": [
       "numpy.ndarray"
      ]
     },
     "execution_count": 50,
     "metadata": {},
     "output_type": "execute_result"
    }
   ],
   "source": [
    "# generates 2d list of 4*4\n",
    "e = (np.random.random_sample(size = (4,4)))\n",
    "type(e)"
   ]
  },
  {
   "cell_type": "code",
   "execution_count": 49,
   "id": "5fd27eeb-e065-4591-810d-4f3c047b982a",
   "metadata": {},
   "outputs": [
    {
     "data": {
      "text/plain": [
       "numpy.ndarray"
      ]
     },
     "execution_count": 49,
     "metadata": {},
     "output_type": "execute_result"
    }
   ],
   "source": [
    "# generates 2d list of 4*4\n",
    "f = (np.random.random_sample(size = (4,4)))\n",
    "type(f)"
   ]
  },
  {
   "cell_type": "code",
   "execution_count": 17,
   "id": "463f2ee8-414c-43e9-8808-3d2811886ec4",
   "metadata": {},
   "outputs": [],
   "source": [
    "# multiply two integer ndarrays\n",
    "c = []\n",
    "for i in range(len(a)):\n",
    "    c.append(a[i]*b[i])"
   ]
  },
  {
   "cell_type": "markdown",
   "id": "5ac09f17-78e0-4874-8ee7-259a45083794",
   "metadata": {},
   "source": [
    "This produces the correct answer, but if a and b each contain millions of numbers, we will pay the price for the inefficiencies of looping in Python. We could accomplish the same task much more quickly in C by writing (for clarity we neglect variable declarations and initializations, memory allocation, etc.)\n",
    "\n",
    "```c\n",
    "for (i = 0; i < rows; i++): {\n",
    "  c[i] = a[i]*b[i];\n",
    "}\n",
    "```\n",
    "This saves all the overhead involved in interpreting the Python code and manipulating Python objects, but at the expense of the benefits gained from coding in Python. Furthermore, the coding work required increases with the dimensionality of our data. In the case of a 2-D array, for example, the C code (abridged as before) expands to\n",
    "\n",
    "```c\n",
    "for (i = 0; i < rows; i++): {\n",
    "  for (j = 0; j < columns; j++): {\n",
    "    c[i][j] = a[i][j]*b[i][j];\n",
    "  }\n",
    "}\n",
    "```\n",
    "\n",
    "NumPy gives us the best of both worlds: element-by-element operations are the “default mode” when an ndarray is involved, but the element-by-element operation is speedily executed by pre-compiled C code. In NumPy"
   ]
  },
  {
   "cell_type": "code",
   "execution_count": 31,
   "id": "c1fb0821-0703-42db-a401-b779a10305a1",
   "metadata": {},
   "outputs": [
    {
     "name": "stdout",
     "output_type": "stream",
     "text": [
      "[[0.71865002 0.1217977  0.43251094 0.12521445]\n",
      " [0.02245344 0.45979811 0.53650348 0.13454848]\n",
      " [0.1224389  0.03564147 0.31175429 0.13521226]\n",
      " [0.13691859 0.01028804 0.19809876 0.35967559]]\n"
     ]
    }
   ],
   "source": [
    "g = e * f\n",
    "print(g)"
   ]
  },
  {
   "cell_type": "markdown",
   "id": "d4df9fd2-069d-47f2-b4da-7b2a5111b474",
   "metadata": {},
   "source": [
    "does what the earlier examples do, at near-C speeds, but with the code simplicity we expect from something based on Python. Indeed, the NumPy idiom is even simpler! This last example illustrates two of NumPy’s features which are the basis of much of its power: vectorization and broadcasting."
   ]
  },
  {
   "cell_type": "markdown",
   "id": "47833463-0bea-4b23-b945-a87004403b76",
   "metadata": {},
   "source": [
    "## The Basics\n",
    "NumPy’s main object is the homogeneous multidimensional array. It is a table of elements (usually numbers), all of the same type, indexed by a tuple of non-negative integers. In NumPy dimensions are called axes.\n",
    "\n",
    "For example, the coordinates of a point in 3D space [1, 2, 1] has one axis. That axis has 3 elements in it, so we say it has a length of 3. In the example pictured below, the array has 2 axes. The first axis has a length of 2, the second axis has a length of 3.\n",
    "\n",
    "```numpy\n",
    "[[1., 0., 0.],\n",
    " [0., 1., 2.]]\n",
    "```\n",
    "\n",
    "NumPy’s array class is called ndarray. It is also known by the alias array. Note that numpy.array is not the same as the Standard Python Library class array.array, which only handles one-dimensional arrays and offers less functionality. The more important attributes of an ndarray object are:\n",
    "\n",
    "**ndarray.ndim**\n",
    "the number of axes (dimensions) of the array.\n",
    "\n",
    "**ndarray.shape**\n",
    "the dimensions of the array. This is a tuple of integers indicating the size of the array in each dimension. For a matrix with n rows and m columns, shape will be (n,m). The length of the shape tuple is therefore the number of axes, ndim.\n",
    "\n",
    "**ndarray.size**\n",
    "the total number of elements of the array. This is equal to the product of the elements of shape.\n",
    "\n",
    "**ndarray.dtype**\n",
    "an object describing the type of the elements in the array. One can create or specify dtype’s using standard Python types. Additionally NumPy provides types of its own. numpy.int32, numpy.int16, and numpy.float64 are some examples.\n",
    "\n",
    "**ndarray.itemsize**\n",
    "the size in bytes of each element of the array. For example, an array of elements of type float64 has itemsize 8 (=64/8), while one of type complex32 has itemsize 4 (=32/8). It is equivalent to ndarray.dtype.itemsize.\n",
    "\n",
    "**ndarray.data**\n",
    "the buffer containing the actual elements of the array. Normally, we won’t need to use this attribute because we will access the elements in an array using indexing facilities."
   ]
  },
  {
   "cell_type": "code",
   "execution_count": 33,
   "id": "9032d171-ae37-4923-8dcf-6c69ef5ceb96",
   "metadata": {},
   "outputs": [
    {
     "data": {
      "text/plain": [
       "array([[ 0,  1,  2,  3,  4],\n",
       "       [ 5,  6,  7,  8,  9],\n",
       "       [10, 11, 12, 13, 14]])"
      ]
     },
     "execution_count": 33,
     "metadata": {},
     "output_type": "execute_result"
    }
   ],
   "source": [
    "a = np.arange(15).reshape(3, 5)\n",
    "a"
   ]
  },
  {
   "cell_type": "code",
   "execution_count": 34,
   "id": "a5555ccd-b2e8-4073-bdf8-93b37202dbbe",
   "metadata": {},
   "outputs": [
    {
     "data": {
      "text/plain": [
       "(3, 5)"
      ]
     },
     "execution_count": 34,
     "metadata": {},
     "output_type": "execute_result"
    }
   ],
   "source": [
    "a.shape"
   ]
  },
  {
   "cell_type": "code",
   "execution_count": 35,
   "id": "c1e281e4-5900-4a53-ba72-9d602c61c860",
   "metadata": {},
   "outputs": [
    {
     "data": {
      "text/plain": [
       "2"
      ]
     },
     "execution_count": 35,
     "metadata": {},
     "output_type": "execute_result"
    }
   ],
   "source": [
    "a.ndim"
   ]
  },
  {
   "cell_type": "code",
   "execution_count": 36,
   "id": "b4d3bf83-4340-4c1e-9e49-4fdb0c55c398",
   "metadata": {},
   "outputs": [
    {
     "data": {
      "text/plain": [
       "'int64'"
      ]
     },
     "execution_count": 36,
     "metadata": {},
     "output_type": "execute_result"
    }
   ],
   "source": [
    "a.dtype.name"
   ]
  },
  {
   "cell_type": "code",
   "execution_count": 37,
   "id": "51080fd5-1ae6-4a59-bce3-71cd17c64e5b",
   "metadata": {},
   "outputs": [
    {
     "data": {
      "text/plain": [
       "8"
      ]
     },
     "execution_count": 37,
     "metadata": {},
     "output_type": "execute_result"
    }
   ],
   "source": [
    "a.itemsize"
   ]
  },
  {
   "cell_type": "code",
   "execution_count": 38,
   "id": "e5096558-89bd-4d9b-945d-e5d8bd08422f",
   "metadata": {},
   "outputs": [
    {
     "data": {
      "text/plain": [
       "15"
      ]
     },
     "execution_count": 38,
     "metadata": {},
     "output_type": "execute_result"
    }
   ],
   "source": [
    "a.size"
   ]
  },
  {
   "cell_type": "code",
   "execution_count": 39,
   "id": "490fbf01-5d97-440a-9c7f-4d02c01ab95c",
   "metadata": {},
   "outputs": [
    {
     "data": {
      "text/plain": [
       "numpy.ndarray"
      ]
     },
     "execution_count": 39,
     "metadata": {},
     "output_type": "execute_result"
    }
   ],
   "source": [
    "type(a)"
   ]
  },
  {
   "cell_type": "code",
   "execution_count": 41,
   "id": "e7b2a8e1-57e4-444c-9b21-4f35bd5b69fd",
   "metadata": {},
   "outputs": [
    {
     "data": {
      "text/plain": [
       "array([6, 7, 8])"
      ]
     },
     "execution_count": 41,
     "metadata": {},
     "output_type": "execute_result"
    }
   ],
   "source": [
    "b = np.array([6, 7, 8])\n",
    "b"
   ]
  },
  {
   "cell_type": "code",
   "execution_count": 42,
   "id": "35d5635e-da7b-4e45-8841-4ff0c0d8327d",
   "metadata": {},
   "outputs": [
    {
     "data": {
      "text/plain": [
       "numpy.ndarray"
      ]
     },
     "execution_count": 42,
     "metadata": {},
     "output_type": "execute_result"
    }
   ],
   "source": [
    "type(b)"
   ]
  },
  {
   "cell_type": "markdown",
   "id": "cc014120-b02a-4a04-9af3-4d2b568f6b5e",
   "metadata": {},
   "source": [
    "## Array Creation\n",
    "There are several ways to create arrays.\n",
    "\n",
    "For example, you can create an array from a regular Python list or tuple using the array function. The type of the resulting array is deduced from the type of the elements in the sequences."
   ]
  },
  {
   "cell_type": "code",
   "execution_count": 45,
   "id": "836f6c76-9e7d-4541-85d1-b9f979e3729c",
   "metadata": {},
   "outputs": [
    {
     "data": {
      "text/plain": [
       "array([2, 3, 4])"
      ]
     },
     "execution_count": 45,
     "metadata": {},
     "output_type": "execute_result"
    }
   ],
   "source": [
    "a = np.array([2, 3, 4])\n",
    "a"
   ]
  },
  {
   "cell_type": "code",
   "execution_count": 46,
   "id": "003d693d-be2a-4b62-9120-3f22f203f039",
   "metadata": {},
   "outputs": [
    {
     "data": {
      "text/plain": [
       "dtype('int64')"
      ]
     },
     "execution_count": 46,
     "metadata": {},
     "output_type": "execute_result"
    }
   ],
   "source": [
    "a.dtype"
   ]
  },
  {
   "cell_type": "code",
   "execution_count": 47,
   "id": "a46e58b9-52d7-4348-be7d-e4a2b30a4d5c",
   "metadata": {},
   "outputs": [
    {
     "data": {
      "text/plain": [
       "dtype('float64')"
      ]
     },
     "execution_count": 47,
     "metadata": {},
     "output_type": "execute_result"
    }
   ],
   "source": [
    "b = np.array([1.2, 3.5, 5.1])\n",
    "b.dtype"
   ]
  },
  {
   "cell_type": "code",
   "execution_count": 51,
   "id": "484aa551-5956-4580-9a61-ca638394be53",
   "metadata": {},
   "outputs": [
    {
     "ename": "TypeError",
     "evalue": "array() takes from 1 to 2 positional arguments but 4 were given",
     "output_type": "error",
     "traceback": [
      "\u001b[0;31m---------------------------------------------------------------------------\u001b[0m",
      "\u001b[0;31mTypeError\u001b[0m                                 Traceback (most recent call last)",
      "\u001b[0;32m/var/folders/wk/6why77bn1kn0l0pkd4vd3zl00000gn/T/ipykernel_92578/3629818437.py\u001b[0m in \u001b[0;36m<module>\u001b[0;34m\u001b[0m\n\u001b[0;32m----> 1\u001b[0;31m \u001b[0ma\u001b[0m \u001b[0;34m=\u001b[0m \u001b[0mnp\u001b[0m\u001b[0;34m.\u001b[0m\u001b[0marray\u001b[0m\u001b[0;34m(\u001b[0m\u001b[0;36m1\u001b[0m\u001b[0;34m,\u001b[0m \u001b[0;36m2\u001b[0m\u001b[0;34m,\u001b[0m \u001b[0;36m3\u001b[0m\u001b[0;34m,\u001b[0m \u001b[0;36m4\u001b[0m\u001b[0;34m)\u001b[0m    \u001b[0;31m# WRONG\u001b[0m\u001b[0;34m\u001b[0m\u001b[0;34m\u001b[0m\u001b[0m\n\u001b[0m",
      "\u001b[0;31mTypeError\u001b[0m: array() takes from 1 to 2 positional arguments but 4 were given"
     ]
    }
   ],
   "source": [
    "a = np.array(1, 2, 3, 4)    # WRONG"
   ]
  },
  {
   "cell_type": "code",
   "execution_count": 60,
   "id": "b59a6e7e-4dc9-47d7-a0f0-e667886399af",
   "metadata": {},
   "outputs": [
    {
     "data": {
      "text/plain": [
       "array([1, 2, 3, 4])"
      ]
     },
     "execution_count": 60,
     "metadata": {},
     "output_type": "execute_result"
    }
   ],
   "source": [
    "a = np.array([1, 2, 3, 4])  # RIGHT\n",
    "a"
   ]
  },
  {
   "cell_type": "markdown",
   "id": "920b987d-c84a-4beb-82dc-5a041fa8174e",
   "metadata": {},
   "source": [
    "array transforms sequences of sequences into two-dimensional arrays, sequences of sequences of sequences into three-dimensional arrays, and so on."
   ]
  },
  {
   "cell_type": "code",
   "execution_count": 58,
   "id": "f587988f-1cbd-479b-a315-7b97084c0dcc",
   "metadata": {},
   "outputs": [
    {
     "data": {
      "text/plain": [
       "array([[1.5, 2. , 3. ],\n",
       "       [4. , 5. , 6. ]])"
      ]
     },
     "execution_count": 58,
     "metadata": {},
     "output_type": "execute_result"
    }
   ],
   "source": [
    "b = np.array([(1.5, 2, 3), (4, 5, 6)])\n",
    "b"
   ]
  },
  {
   "cell_type": "code",
   "execution_count": 59,
   "id": "5ac89fbf-dbf5-474e-9872-a76c8ab9a203",
   "metadata": {},
   "outputs": [
    {
     "data": {
      "text/plain": [
       "array([[1.5, 2. , 3. ],\n",
       "       [4. , 5. , 6. ],\n",
       "       [7. , 8. , 9. ]])"
      ]
     },
     "execution_count": 59,
     "metadata": {},
     "output_type": "execute_result"
    }
   ],
   "source": [
    "x  = np.array([(1.5, 2, 3), (4, 5, 6), (7, 8, 9)])\n",
    "x"
   ]
  },
  {
   "cell_type": "code",
   "execution_count": 61,
   "id": "e0662219-85d4-44ca-b9c1-adc84d67acf1",
   "metadata": {},
   "outputs": [
    {
     "data": {
      "text/plain": [
       "array([[ 1.5,  2. ,  3. ],\n",
       "       [ 4. ,  5. ,  6. ],\n",
       "       [ 7. ,  8. ,  9. ],\n",
       "       [10. , 11. , 12. ]])"
      ]
     },
     "execution_count": 61,
     "metadata": {},
     "output_type": "execute_result"
    }
   ],
   "source": [
    "y  = np.array([(1.5, 2, 3), (4, 5, 6), (7, 8, 9), (10, 11, 12)])\n",
    "y"
   ]
  },
  {
   "cell_type": "code",
   "execution_count": 62,
   "id": "e7ce0e3f-76e8-4ef3-877b-c3d732174d0a",
   "metadata": {},
   "outputs": [
    {
     "data": {
      "text/plain": [
       "array([[ 1.5,  2. ,  3. ],\n",
       "       [ 4. ,  5. ,  6. ],\n",
       "       [ 7. ,  8. ,  9. ],\n",
       "       [10. , 11. , 12. ],\n",
       "       [13. , 14. , 15. ]])"
      ]
     },
     "execution_count": 62,
     "metadata": {},
     "output_type": "execute_result"
    }
   ],
   "source": [
    "z  = np.array([(1.5, 2, 3), (4, 5, 6), (7, 8, 9), (10, 11, 12), (13, 14, 15)])\n",
    "z"
   ]
  },
  {
   "cell_type": "markdown",
   "id": "0cb83bae-6b95-4246-afe7-37518a78aa83",
   "metadata": {},
   "source": [
    "The type of the array can also be explicitly specified at creation time:"
   ]
  },
  {
   "cell_type": "code",
   "execution_count": 63,
   "id": "2f477786-9bf7-4fb9-90f2-8555243c63a8",
   "metadata": {},
   "outputs": [
    {
     "data": {
      "text/plain": [
       "array([[1.+0.j, 2.+0.j],\n",
       "       [3.+0.j, 4.+0.j]])"
      ]
     },
     "execution_count": 63,
     "metadata": {},
     "output_type": "execute_result"
    }
   ],
   "source": [
    "c = np.array([[1, 2], [3, 4]], dtype=complex)\n",
    "c"
   ]
  },
  {
   "cell_type": "markdown",
   "id": "b37b90c2-254b-4d2b-98d0-dbfb53737954",
   "metadata": {},
   "source": [
    "Often, the elements of an array are originally unknown, but its size is known. Hence, NumPy offers several functions to create arrays with initial placeholder content. These minimize the necessity of growing arrays, an expensive operation.\n",
    "\n",
    "The function zeros creates an array full of zeros, the function ones creates an array full of ones, and the function empty creates an array whose initial content is random and depends on the state of the memory. By default, the dtype of the created array is float64, but it can be specified via the key word argument dtype."
   ]
  },
  {
   "cell_type": "code",
   "execution_count": 64,
   "id": "73498d41-54bd-44c6-9b4f-57a6c8d82919",
   "metadata": {},
   "outputs": [
    {
     "data": {
      "text/plain": [
       "array([[0., 0., 0., 0.],\n",
       "       [0., 0., 0., 0.],\n",
       "       [0., 0., 0., 0.]])"
      ]
     },
     "execution_count": 64,
     "metadata": {},
     "output_type": "execute_result"
    }
   ],
   "source": [
    "np.zeros((3, 4))"
   ]
  },
  {
   "cell_type": "code",
   "execution_count": 65,
   "id": "33ef0599-a896-474d-8d2b-7815a637c13a",
   "metadata": {},
   "outputs": [
    {
     "data": {
      "text/plain": [
       "array([[[1, 1, 1, 1],\n",
       "        [1, 1, 1, 1],\n",
       "        [1, 1, 1, 1]],\n",
       "\n",
       "       [[1, 1, 1, 1],\n",
       "        [1, 1, 1, 1],\n",
       "        [1, 1, 1, 1]]], dtype=int16)"
      ]
     },
     "execution_count": 65,
     "metadata": {},
     "output_type": "execute_result"
    }
   ],
   "source": [
    "np.ones((2, 3, 4), dtype=np.int16)"
   ]
  },
  {
   "cell_type": "code",
   "execution_count": 66,
   "id": "661f09c0-4f33-4291-9ffa-5b3045f36e08",
   "metadata": {},
   "outputs": [
    {
     "data": {
      "text/plain": [
       "array([[1.5, 2. , 3. ],\n",
       "       [4. , 5. , 6. ]])"
      ]
     },
     "execution_count": 66,
     "metadata": {},
     "output_type": "execute_result"
    }
   ],
   "source": [
    "np.empty((2, 3))"
   ]
  },
  {
   "cell_type": "markdown",
   "id": "3dd44250-3cb2-4341-af21-1c22fb052621",
   "metadata": {},
   "source": [
    "To create sequences of numbers, NumPy provides the arange function which is analogous to the Python built-in range, but returns an array."
   ]
  },
  {
   "cell_type": "code",
   "execution_count": 67,
   "id": "7b215f41-cbbe-4fee-ae0e-72bfccf1e182",
   "metadata": {},
   "outputs": [
    {
     "data": {
      "text/plain": [
       "array([10, 15, 20, 25])"
      ]
     },
     "execution_count": 67,
     "metadata": {},
     "output_type": "execute_result"
    }
   ],
   "source": [
    "np.arange(10, 30, 5)"
   ]
  },
  {
   "cell_type": "code",
   "execution_count": 68,
   "id": "a8158432-d01f-4f09-8da8-fbc61f78ea3f",
   "metadata": {},
   "outputs": [
    {
     "data": {
      "text/plain": [
       "array([0. , 0.3, 0.6, 0.9, 1.2, 1.5, 1.8])"
      ]
     },
     "execution_count": 68,
     "metadata": {},
     "output_type": "execute_result"
    }
   ],
   "source": [
    "np.arange(0, 2, 0.3)  # it accepts float arguments"
   ]
  },
  {
   "cell_type": "markdown",
   "id": "54308815-6788-4287-aa0c-e0528f2eb4fe",
   "metadata": {},
   "source": [
    "When arange is used with floating point arguments, it is generally not possible to predict the number of elements obtained, due to the finite floating point precision. For this reason, it is usually better to use the function linspace that receives as an argument the number of elements that we want, instead of the step:"
   ]
  },
  {
   "cell_type": "code",
   "execution_count": 99,
   "id": "41352aad-96a7-4c29-9293-421302cc7184",
   "metadata": {},
   "outputs": [
    {
     "data": {
      "text/plain": [
       "array([0.  , 0.25, 0.5 , 0.75, 1.  , 1.25, 1.5 , 1.75, 2.  ])"
      ]
     },
     "execution_count": 99,
     "metadata": {},
     "output_type": "execute_result"
    }
   ],
   "source": [
    "from numpy import pi\n",
    "np.linspace(0, 2, 9)                   # 9 numbers from 0 to 2"
   ]
  },
  {
   "cell_type": "code",
   "execution_count": 100,
   "id": "9fba1a83-2fa2-4fbc-8351-73c5c21fae44",
   "metadata": {},
   "outputs": [
    {
     "data": {
      "text/plain": [
       "array([0.        , 0.06346652, 0.12693304, 0.19039955, 0.25386607,\n",
       "       0.31733259, 0.38079911, 0.44426563, 0.50773215, 0.57119866,\n",
       "       0.63466518, 0.6981317 , 0.76159822, 0.82506474, 0.88853126,\n",
       "       0.95199777, 1.01546429, 1.07893081, 1.14239733, 1.20586385,\n",
       "       1.26933037, 1.33279688, 1.3962634 , 1.45972992, 1.52319644,\n",
       "       1.58666296, 1.65012947, 1.71359599, 1.77706251, 1.84052903,\n",
       "       1.90399555, 1.96746207, 2.03092858, 2.0943951 , 2.15786162,\n",
       "       2.22132814, 2.28479466, 2.34826118, 2.41172769, 2.47519421,\n",
       "       2.53866073, 2.60212725, 2.66559377, 2.72906028, 2.7925268 ,\n",
       "       2.85599332, 2.91945984, 2.98292636, 3.04639288, 3.10985939,\n",
       "       3.17332591, 3.23679243, 3.30025895, 3.36372547, 3.42719199,\n",
       "       3.4906585 , 3.55412502, 3.61759154, 3.68105806, 3.74452458,\n",
       "       3.8079911 , 3.87145761, 3.93492413, 3.99839065, 4.06185717,\n",
       "       4.12532369, 4.1887902 , 4.25225672, 4.31572324, 4.37918976,\n",
       "       4.44265628, 4.5061228 , 4.56958931, 4.63305583, 4.69652235,\n",
       "       4.75998887, 4.82345539, 4.88692191, 4.95038842, 5.01385494,\n",
       "       5.07732146, 5.14078798, 5.2042545 , 5.26772102, 5.33118753,\n",
       "       5.39465405, 5.45812057, 5.52158709, 5.58505361, 5.64852012,\n",
       "       5.71198664, 5.77545316, 5.83891968, 5.9023862 , 5.96585272,\n",
       "       6.02931923, 6.09278575, 6.15625227, 6.21971879, 6.28318531])"
      ]
     },
     "execution_count": 100,
     "metadata": {},
     "output_type": "execute_result"
    }
   ],
   "source": [
    "x = np.linspace(0, 2 * pi, 100)        # useful to evaluate function at lots of points\n",
    "x"
   ]
  },
  {
   "cell_type": "code",
   "execution_count": 73,
   "id": "54fea95c-69fc-4ad4-a6b0-ba1f24d15849",
   "metadata": {},
   "outputs": [
    {
     "data": {
      "text/plain": [
       "array([ 0.00000000e+00,  6.34239197e-02,  1.26592454e-01,  1.89251244e-01,\n",
       "        2.51147987e-01,  3.12033446e-01,  3.71662456e-01,  4.29794912e-01,\n",
       "        4.86196736e-01,  5.40640817e-01,  5.92907929e-01,  6.42787610e-01,\n",
       "        6.90079011e-01,  7.34591709e-01,  7.76146464e-01,  8.14575952e-01,\n",
       "        8.49725430e-01,  8.81453363e-01,  9.09631995e-01,  9.34147860e-01,\n",
       "        9.54902241e-01,  9.71811568e-01,  9.84807753e-01,  9.93838464e-01,\n",
       "        9.98867339e-01,  9.99874128e-01,  9.96854776e-01,  9.89821442e-01,\n",
       "        9.78802446e-01,  9.63842159e-01,  9.45000819e-01,  9.22354294e-01,\n",
       "        8.95993774e-01,  8.66025404e-01,  8.32569855e-01,  7.95761841e-01,\n",
       "        7.55749574e-01,  7.12694171e-01,  6.66769001e-01,  6.18158986e-01,\n",
       "        5.67059864e-01,  5.13677392e-01,  4.58226522e-01,  4.00930535e-01,\n",
       "        3.42020143e-01,  2.81732557e-01,  2.20310533e-01,  1.58001396e-01,\n",
       "        9.50560433e-02,  3.17279335e-02, -3.17279335e-02, -9.50560433e-02,\n",
       "       -1.58001396e-01, -2.20310533e-01, -2.81732557e-01, -3.42020143e-01,\n",
       "       -4.00930535e-01, -4.58226522e-01, -5.13677392e-01, -5.67059864e-01,\n",
       "       -6.18158986e-01, -6.66769001e-01, -7.12694171e-01, -7.55749574e-01,\n",
       "       -7.95761841e-01, -8.32569855e-01, -8.66025404e-01, -8.95993774e-01,\n",
       "       -9.22354294e-01, -9.45000819e-01, -9.63842159e-01, -9.78802446e-01,\n",
       "       -9.89821442e-01, -9.96854776e-01, -9.99874128e-01, -9.98867339e-01,\n",
       "       -9.93838464e-01, -9.84807753e-01, -9.71811568e-01, -9.54902241e-01,\n",
       "       -9.34147860e-01, -9.09631995e-01, -8.81453363e-01, -8.49725430e-01,\n",
       "       -8.14575952e-01, -7.76146464e-01, -7.34591709e-01, -6.90079011e-01,\n",
       "       -6.42787610e-01, -5.92907929e-01, -5.40640817e-01, -4.86196736e-01,\n",
       "       -4.29794912e-01, -3.71662456e-01, -3.12033446e-01, -2.51147987e-01,\n",
       "       -1.89251244e-01, -1.26592454e-01, -6.34239197e-02, -2.44929360e-16])"
      ]
     },
     "execution_count": 73,
     "metadata": {},
     "output_type": "execute_result"
    }
   ],
   "source": [
    "f = np.sin(x)\n",
    "f"
   ]
  },
  {
   "cell_type": "markdown",
   "id": "67943863-2ef8-4ab4-ae06-15649f37f7fe",
   "metadata": {},
   "source": [
    "## Printing Arrays\n",
    "When you print an array, NumPy displays it in a similar way to nested lists, but with the following layout:\n",
    "\n",
    "the last axis is printed from left to right,\n",
    "\n",
    "the second-to-last is printed from top to bottom,\n",
    "\n",
    "the rest are also printed from top to bottom, with each slice separated from the next by an empty line.\n",
    "\n",
    "One-dimensional arrays are then printed as rows, bidimensionals as matrices and tridimensionals as lists of matrices."
   ]
  },
  {
   "cell_type": "code",
   "execution_count": 74,
   "id": "5d2a9ff8-c777-4b40-853f-4c8f291da02d",
   "metadata": {},
   "outputs": [
    {
     "name": "stdout",
     "output_type": "stream",
     "text": [
      "[0 1 2 3 4 5]\n"
     ]
    }
   ],
   "source": [
    "a = np.arange(6)                    # 1d array\n",
    "print(a)"
   ]
  },
  {
   "cell_type": "code",
   "execution_count": 75,
   "id": "f097c260-f7da-4c0c-a778-44f23e139685",
   "metadata": {},
   "outputs": [
    {
     "name": "stdout",
     "output_type": "stream",
     "text": [
      "[[ 0  1  2]\n",
      " [ 3  4  5]\n",
      " [ 6  7  8]\n",
      " [ 9 10 11]]\n"
     ]
    }
   ],
   "source": [
    "b = np.arange(12).reshape(4, 3)     # 2d array\n",
    "print(b)"
   ]
  },
  {
   "cell_type": "code",
   "execution_count": 76,
   "id": "471bbabf-4be6-44e3-94aa-fcc97bcdeba3",
   "metadata": {},
   "outputs": [
    {
     "name": "stdout",
     "output_type": "stream",
     "text": [
      "[[[ 0  1  2  3]\n",
      "  [ 4  5  6  7]\n",
      "  [ 8  9 10 11]]\n",
      "\n",
      " [[12 13 14 15]\n",
      "  [16 17 18 19]\n",
      "  [20 21 22 23]]]\n"
     ]
    }
   ],
   "source": [
    "c = np.arange(24).reshape(2, 3, 4)  # 3d array\n",
    "print(c)"
   ]
  },
  {
   "cell_type": "markdown",
   "id": "12e542c8-ec22-41cc-90ee-7f806188bffb",
   "metadata": {},
   "source": [
    "If an array is too large to be printed, NumPy automatically skips the central part of the array and only prints the corners:"
   ]
  },
  {
   "cell_type": "code",
   "execution_count": 77,
   "id": "2ff10574-f07e-4ca9-ab70-9da16044598d",
   "metadata": {},
   "outputs": [
    {
     "name": "stdout",
     "output_type": "stream",
     "text": [
      "[   0    1    2 ... 9997 9998 9999]\n"
     ]
    }
   ],
   "source": [
    "print(np.arange(10000))"
   ]
  },
  {
   "cell_type": "code",
   "execution_count": 78,
   "id": "811d1419-b45d-4bd9-8a1c-57fb3b97aded",
   "metadata": {},
   "outputs": [
    {
     "name": "stdout",
     "output_type": "stream",
     "text": [
      "[[   0    1    2 ...   97   98   99]\n",
      " [ 100  101  102 ...  197  198  199]\n",
      " [ 200  201  202 ...  297  298  299]\n",
      " ...\n",
      " [9700 9701 9702 ... 9797 9798 9799]\n",
      " [9800 9801 9802 ... 9897 9898 9899]\n",
      " [9900 9901 9902 ... 9997 9998 9999]]\n"
     ]
    }
   ],
   "source": [
    "print(np.arange(10000).reshape(100, 100))"
   ]
  },
  {
   "cell_type": "markdown",
   "id": "84b8e9e6-65e1-481c-a1e9-d68108031ced",
   "metadata": {},
   "source": [
    "To disable this behaviour and force NumPy to print the entire array, you can change the printing options using set_printoptions."
   ]
  },
  {
   "cell_type": "code",
   "execution_count": 79,
   "id": "9addeeb1-dd4f-4d03-8051-baaae936849c",
   "metadata": {},
   "outputs": [],
   "source": [
    "import sys\n",
    "np.set_printoptions(threshold=sys.maxsize)  # sys module should be imported"
   ]
  },
  {
   "cell_type": "code",
   "execution_count": 81,
   "id": "a45474d3-25eb-45af-9062-32554699c34e",
   "metadata": {},
   "outputs": [
    {
     "name": "stdout",
     "output_type": "stream",
     "text": [
      "[  0   1   2   3   4   5   6   7   8   9  10  11  12  13  14  15  16  17\n",
      "  18  19  20  21  22  23  24  25  26  27  28  29  30  31  32  33  34  35\n",
      "  36  37  38  39  40  41  42  43  44  45  46  47  48  49  50  51  52  53\n",
      "  54  55  56  57  58  59  60  61  62  63  64  65  66  67  68  69  70  71\n",
      "  72  73  74  75  76  77  78  79  80  81  82  83  84  85  86  87  88  89\n",
      "  90  91  92  93  94  95  96  97  98  99 100 101 102 103 104 105 106 107\n",
      " 108 109 110 111 112 113 114 115 116 117 118 119 120 121 122 123 124 125\n",
      " 126 127 128 129 130 131 132 133 134 135 136 137 138 139 140 141 142 143\n",
      " 144 145 146 147 148 149 150 151 152 153 154 155 156 157 158 159 160 161\n",
      " 162 163 164 165 166 167 168 169 170 171 172 173 174 175 176 177 178 179\n",
      " 180 181 182 183 184 185 186 187 188 189 190 191 192 193 194 195 196 197\n",
      " 198 199 200 201 202 203 204 205 206 207 208 209 210 211 212 213 214 215\n",
      " 216 217 218 219 220 221 222 223 224 225 226 227 228 229 230 231 232 233\n",
      " 234 235 236 237 238 239 240 241 242 243 244 245 246 247 248 249 250 251\n",
      " 252 253 254 255 256 257 258 259 260 261 262 263 264 265 266 267 268 269\n",
      " 270 271 272 273 274 275 276 277 278 279 280 281 282 283 284 285 286 287\n",
      " 288 289 290 291 292 293 294 295 296 297 298 299 300 301 302 303 304 305\n",
      " 306 307 308 309 310 311 312 313 314 315 316 317 318 319 320 321 322 323\n",
      " 324 325 326 327 328 329 330 331 332 333 334 335 336 337 338 339 340 341\n",
      " 342 343 344 345 346 347 348 349 350 351 352 353 354 355 356 357 358 359\n",
      " 360 361 362 363 364 365 366 367 368 369 370 371 372 373 374 375 376 377\n",
      " 378 379 380 381 382 383 384 385 386 387 388 389 390 391 392 393 394 395\n",
      " 396 397 398 399 400 401 402 403 404 405 406 407 408 409 410 411 412 413\n",
      " 414 415 416 417 418 419 420 421 422 423 424 425 426 427 428 429 430 431\n",
      " 432 433 434 435 436 437 438 439 440 441 442 443 444 445 446 447 448 449\n",
      " 450 451 452 453 454 455 456 457 458 459 460 461 462 463 464 465 466 467\n",
      " 468 469 470 471 472 473 474 475 476 477 478 479 480 481 482 483 484 485\n",
      " 486 487 488 489 490 491 492 493 494 495 496 497 498 499 500 501 502 503\n",
      " 504 505 506 507 508 509 510 511 512 513 514 515 516 517 518 519 520 521\n",
      " 522 523 524 525 526 527 528 529 530 531 532 533 534 535 536 537 538 539\n",
      " 540 541 542 543 544 545 546 547 548 549 550 551 552 553 554 555 556 557\n",
      " 558 559 560 561 562 563 564 565 566 567 568 569 570 571 572 573 574 575\n",
      " 576 577 578 579 580 581 582 583 584 585 586 587 588 589 590 591 592 593\n",
      " 594 595 596 597 598 599 600 601 602 603 604 605 606 607 608 609 610 611\n",
      " 612 613 614 615 616 617 618 619 620 621 622 623 624 625 626 627 628 629\n",
      " 630 631 632 633 634 635 636 637 638 639 640 641 642 643 644 645 646 647\n",
      " 648 649 650 651 652 653 654 655 656 657 658 659 660 661 662 663 664 665\n",
      " 666 667 668 669 670 671 672 673 674 675 676 677 678 679 680 681 682 683\n",
      " 684 685 686 687 688 689 690 691 692 693 694 695 696 697 698 699 700 701\n",
      " 702 703 704 705 706 707 708 709 710 711 712 713 714 715 716 717 718 719\n",
      " 720 721 722 723 724 725 726 727 728 729 730 731 732 733 734 735 736 737\n",
      " 738 739 740 741 742 743 744 745 746 747 748 749 750 751 752 753 754 755\n",
      " 756 757 758 759 760 761 762 763 764 765 766 767 768 769 770 771 772 773\n",
      " 774 775 776 777 778 779 780 781 782 783 784 785 786 787 788 789 790 791\n",
      " 792 793 794 795 796 797 798 799 800 801 802 803 804 805 806 807 808 809\n",
      " 810 811 812 813 814 815 816 817 818 819 820 821 822 823 824 825 826 827\n",
      " 828 829 830 831 832 833 834 835 836 837 838 839 840 841 842 843 844 845\n",
      " 846 847 848 849 850 851 852 853 854 855 856 857 858 859 860 861 862 863\n",
      " 864 865 866 867 868 869 870 871 872 873 874 875 876 877 878 879 880 881\n",
      " 882 883 884 885 886 887 888 889 890 891 892 893 894 895 896 897 898 899\n",
      " 900 901 902 903 904 905 906 907 908 909 910 911 912 913 914 915 916 917\n",
      " 918 919 920 921 922 923 924 925 926 927 928 929 930 931 932 933 934 935\n",
      " 936 937 938 939 940 941 942 943 944 945 946 947 948 949 950 951 952 953\n",
      " 954 955 956 957 958 959 960 961 962 963 964 965 966 967 968 969 970 971\n",
      " 972 973 974 975 976 977 978 979 980 981 982 983 984 985 986 987 988 989\n",
      " 990 991 992 993 994 995 996 997 998 999]\n"
     ]
    }
   ],
   "source": [
    "print(np.arange(1000))"
   ]
  },
  {
   "cell_type": "markdown",
   "id": "8cb77d39-810e-4a23-96f6-663973716abe",
   "metadata": {},
   "source": [
    "## Basic Operations\n",
    "Arithmetic operators on arrays apply elementwise. A new array is created and filled with the result."
   ]
  },
  {
   "cell_type": "code",
   "execution_count": 82,
   "id": "bc0c97d7-d2c3-4d22-a9a7-f1c186622555",
   "metadata": {},
   "outputs": [
    {
     "data": {
      "text/plain": [
       "array([20, 30, 40, 50])"
      ]
     },
     "execution_count": 82,
     "metadata": {},
     "output_type": "execute_result"
    }
   ],
   "source": [
    "a = np.array([20, 30, 40, 50])\n",
    "a"
   ]
  },
  {
   "cell_type": "code",
   "execution_count": 83,
   "id": "16779cf1-cba4-4550-8faa-b05755c339e7",
   "metadata": {},
   "outputs": [
    {
     "data": {
      "text/plain": [
       "array([0, 1, 2, 3])"
      ]
     },
     "execution_count": 83,
     "metadata": {},
     "output_type": "execute_result"
    }
   ],
   "source": [
    "b = np.arange(4)\n",
    "b"
   ]
  },
  {
   "cell_type": "code",
   "execution_count": 84,
   "id": "45fae9bf-7e83-486b-bec3-76d1d5c5ddd6",
   "metadata": {},
   "outputs": [
    {
     "data": {
      "text/plain": [
       "array([20, 29, 38, 47])"
      ]
     },
     "execution_count": 84,
     "metadata": {},
     "output_type": "execute_result"
    }
   ],
   "source": [
    "# subtract a from b\n",
    "c = a - b\n",
    "c"
   ]
  },
  {
   "cell_type": "code",
   "execution_count": 88,
   "id": "5e3dca39-18e1-4286-8051-201d27df335c",
   "metadata": {},
   "outputs": [
    {
     "data": {
      "text/plain": [
       "array([0, 1, 4, 9])"
      ]
     },
     "execution_count": 88,
     "metadata": {},
     "output_type": "execute_result"
    }
   ],
   "source": [
    "#raise b to the power of 2\n",
    "b**2"
   ]
  },
  {
   "cell_type": "code",
   "execution_count": 86,
   "id": "093bab03-a656-4601-9260-93cedf49b5ff",
   "metadata": {},
   "outputs": [
    {
     "data": {
      "text/plain": [
       "array([ 9.12945251, -9.88031624,  7.4511316 , -2.62374854])"
      ]
     },
     "execution_count": 86,
     "metadata": {},
     "output_type": "execute_result"
    }
   ],
   "source": [
    "10 * np.sin(a)"
   ]
  },
  {
   "cell_type": "code",
   "execution_count": 87,
   "id": "dfdf7ed9-7be7-4141-b8dd-290de65fa26f",
   "metadata": {},
   "outputs": [
    {
     "data": {
      "text/plain": [
       "array([ True,  True, False, False])"
      ]
     },
     "execution_count": 87,
     "metadata": {},
     "output_type": "execute_result"
    }
   ],
   "source": [
    "a < 35"
   ]
  },
  {
   "cell_type": "markdown",
   "id": "8e17f9a9-53d7-4a59-a486-6bf2a7cab9c5",
   "metadata": {},
   "source": [
    "Unlike in many matrix languages, the product operator * operates elementwise in NumPy arrays. The matrix product can be performed using the @ operator (in python >=3.5) or the dot function or method:"
   ]
  },
  {
   "cell_type": "code",
   "execution_count": 89,
   "id": "b68c6b4e-b1e9-40a5-b0d2-58023c817d7f",
   "metadata": {},
   "outputs": [],
   "source": [
    "A = np.array([[1, 1],\n",
    "              [0, 1]])"
   ]
  },
  {
   "cell_type": "code",
   "execution_count": 90,
   "id": "419d4811-728c-4c3e-a863-b46f9a7a6120",
   "metadata": {},
   "outputs": [],
   "source": [
    "B = np.array([[2, 0],\n",
    "              [3, 4]])"
   ]
  },
  {
   "cell_type": "code",
   "execution_count": 91,
   "id": "af501f16-e3af-4b96-9e9f-41b9029b5eb5",
   "metadata": {},
   "outputs": [
    {
     "data": {
      "text/plain": [
       "array([[2, 0],\n",
       "       [0, 4]])"
      ]
     },
     "execution_count": 91,
     "metadata": {},
     "output_type": "execute_result"
    }
   ],
   "source": [
    "A * B     # elementwise product"
   ]
  },
  {
   "cell_type": "code",
   "execution_count": 92,
   "id": "aa111cf3-e557-442a-9f71-c1da0a7b42e2",
   "metadata": {},
   "outputs": [
    {
     "data": {
      "text/plain": [
       "array([[5, 4],\n",
       "       [3, 4]])"
      ]
     },
     "execution_count": 92,
     "metadata": {},
     "output_type": "execute_result"
    }
   ],
   "source": [
    "A @ B     # matrix product"
   ]
  },
  {
   "cell_type": "code",
   "execution_count": 93,
   "id": "85209524-6d6c-4c25-b3a3-c4278cb9400b",
   "metadata": {},
   "outputs": [
    {
     "data": {
      "text/plain": [
       "array([[5, 4],\n",
       "       [3, 4]])"
      ]
     },
     "execution_count": 93,
     "metadata": {},
     "output_type": "execute_result"
    }
   ],
   "source": [
    "A.dot(B)  # another matrix product"
   ]
  },
  {
   "cell_type": "markdown",
   "id": "6b4d26c0-13ac-4f8c-935f-602987391411",
   "metadata": {},
   "source": [
    "Some operations, such as += and *=, act in place to modify an existing array rather than create a new one."
   ]
  },
  {
   "cell_type": "code",
   "execution_count": 94,
   "id": "4f285e66-9556-4282-a78a-f3600ccd7785",
   "metadata": {},
   "outputs": [],
   "source": [
    "rg = np.random.default_rng(1)  # create instance of default random number generator"
   ]
  },
  {
   "cell_type": "code",
   "execution_count": 95,
   "id": "4cd88e01-e3b8-4b7f-9225-bc6e5dc3766a",
   "metadata": {},
   "outputs": [],
   "source": [
    "a = np.ones((2, 3), dtype=int)"
   ]
  },
  {
   "cell_type": "code",
   "execution_count": 96,
   "id": "37b9da96-99c9-48e6-9cd6-db6569237d6f",
   "metadata": {},
   "outputs": [],
   "source": [
    "b = rg.random((2, 3))"
   ]
  },
  {
   "cell_type": "code",
   "execution_count": 97,
   "id": "2e11c2de-d257-4a64-8267-a1a8d217caf0",
   "metadata": {},
   "outputs": [
    {
     "data": {
      "text/plain": [
       "array([[3, 3, 3],\n",
       "       [3, 3, 3]])"
      ]
     },
     "execution_count": 97,
     "metadata": {},
     "output_type": "execute_result"
    }
   ],
   "source": [
    "a *= 3\n",
    "a"
   ]
  },
  {
   "cell_type": "code",
   "execution_count": 98,
   "id": "03c402dc-b058-4d9b-9cd5-e6f3bb4fd399",
   "metadata": {},
   "outputs": [
    {
     "data": {
      "text/plain": [
       "array([[3.51182162, 3.9504637 , 3.14415961],\n",
       "       [3.94864945, 3.31183145, 3.42332645]])"
      ]
     },
     "execution_count": 98,
     "metadata": {},
     "output_type": "execute_result"
    }
   ],
   "source": [
    "b += a\n",
    "b"
   ]
  },
  {
   "cell_type": "markdown",
   "id": "fbfbc108-18bc-4fcf-ab6e-43ce20aed7bb",
   "metadata": {},
   "source": [
    "When operating with arrays of different types, the type of the resulting array corresponds to the more general or precise one (a behavior known as upcasting)."
   ]
  },
  {
   "cell_type": "code",
   "execution_count": 101,
   "id": "4be37102-0579-451d-aaea-615328c22e8f",
   "metadata": {},
   "outputs": [],
   "source": [
    "a = np.ones(3, dtype=np.int32)"
   ]
  },
  {
   "cell_type": "code",
   "execution_count": 102,
   "id": "a635c4a6-7fe6-4005-a47e-cb661e46adf7",
   "metadata": {},
   "outputs": [],
   "source": [
    "b = np.linspace(0, pi, 3)"
   ]
  },
  {
   "cell_type": "code",
   "execution_count": 103,
   "id": "ceb7671f-1aac-4246-a6e3-3bc4abe10873",
   "metadata": {},
   "outputs": [
    {
     "data": {
      "text/plain": [
       "'float64'"
      ]
     },
     "execution_count": 103,
     "metadata": {},
     "output_type": "execute_result"
    }
   ],
   "source": [
    "b.dtype.name"
   ]
  },
  {
   "cell_type": "code",
   "execution_count": 104,
   "id": "016abc0d-7c9f-45d8-9213-7bb67e0730e0",
   "metadata": {},
   "outputs": [
    {
     "data": {
      "text/plain": [
       "array([1.        , 2.57079633, 4.14159265])"
      ]
     },
     "execution_count": 104,
     "metadata": {},
     "output_type": "execute_result"
    }
   ],
   "source": [
    "c = a + b\n",
    "c"
   ]
  },
  {
   "cell_type": "code",
   "execution_count": 105,
   "id": "7496c544-b85f-4376-b72d-572398176195",
   "metadata": {},
   "outputs": [
    {
     "data": {
      "text/plain": [
       "'float64'"
      ]
     },
     "execution_count": 105,
     "metadata": {},
     "output_type": "execute_result"
    }
   ],
   "source": [
    "c.dtype.name"
   ]
  },
  {
   "cell_type": "code",
   "execution_count": 107,
   "id": "43fe3762-9696-43f7-9b5a-29ac17b88b7e",
   "metadata": {},
   "outputs": [
    {
     "data": {
      "text/plain": [
       "array([ 0.54030231+0.84147098j, -0.84147098+0.54030231j,\n",
       "       -0.54030231-0.84147098j])"
      ]
     },
     "execution_count": 107,
     "metadata": {},
     "output_type": "execute_result"
    }
   ],
   "source": [
    "d = np.exp(c * 1j)\n",
    "d"
   ]
  },
  {
   "cell_type": "code",
   "execution_count": 108,
   "id": "2bbd70ec-285e-44cd-962e-ed494b9d18e6",
   "metadata": {},
   "outputs": [
    {
     "data": {
      "text/plain": [
       "'complex128'"
      ]
     },
     "execution_count": 108,
     "metadata": {},
     "output_type": "execute_result"
    }
   ],
   "source": [
    "d.dtype.name"
   ]
  },
  {
   "cell_type": "markdown",
   "id": "4dcccf9e-8158-499f-beab-a284273d8bd7",
   "metadata": {},
   "source": [
    "Many unary operations, such as computing the sum of all the elements in the array, are implemented as methods of the ndarray class."
   ]
  },
  {
   "cell_type": "code",
   "execution_count": 109,
   "id": "ccdd10b2-4bad-46d9-87ce-f8bb55196099",
   "metadata": {},
   "outputs": [
    {
     "data": {
      "text/plain": [
       "array([[0.82770259, 0.40919914, 0.54959369],\n",
       "       [0.02755911, 0.75351311, 0.53814331]])"
      ]
     },
     "execution_count": 109,
     "metadata": {},
     "output_type": "execute_result"
    }
   ],
   "source": [
    "a = rg.random((2, 3))\n",
    "a"
   ]
  },
  {
   "cell_type": "code",
   "execution_count": 110,
   "id": "c576a988-9a59-4300-acc8-7e7fdeafe372",
   "metadata": {},
   "outputs": [
    {
     "name": "stdout",
     "output_type": "stream",
     "text": [
      "3.1057109529998157\n",
      "0.027559113243068367\n",
      "0.8277025938204418\n"
     ]
    }
   ],
   "source": [
    "print(a.sum())\n",
    "print(a.min())\n",
    "print(a.max())"
   ]
  },
  {
   "cell_type": "markdown",
   "id": "bbc9dba6-94cd-4d36-94c7-22e334130ae3",
   "metadata": {},
   "source": [
    "By default, these operations apply to the array as though it were a list of numbers, regardless of its shape. However, by specifying the axis parameter you can apply an operation along the specified axis of an array:"
   ]
  },
  {
   "cell_type": "code",
   "execution_count": 111,
   "id": "14abaf33-a140-49b9-ae8c-ad7faab34dca",
   "metadata": {},
   "outputs": [
    {
     "data": {
      "text/plain": [
       "array([[ 0,  1,  2,  3],\n",
       "       [ 4,  5,  6,  7],\n",
       "       [ 8,  9, 10, 11]])"
      ]
     },
     "execution_count": 111,
     "metadata": {},
     "output_type": "execute_result"
    }
   ],
   "source": [
    "b = np.arange(12).reshape(3, 4)\n",
    "b"
   ]
  },
  {
   "cell_type": "code",
   "execution_count": 113,
   "id": "ccf536a1-1aa5-43b6-8452-c13ef4a299ec",
   "metadata": {},
   "outputs": [
    {
     "name": "stdout",
     "output_type": "stream",
     "text": [
      "[12 15 18 21]\n"
     ]
    }
   ],
   "source": [
    "print(b.sum(axis=0))     # sum of each column"
   ]
  },
  {
   "cell_type": "code",
   "execution_count": 114,
   "id": "414ccf54-fb56-4d10-b132-7592b1ae073e",
   "metadata": {},
   "outputs": [
    {
     "name": "stdout",
     "output_type": "stream",
     "text": [
      "[0 4 8]\n"
     ]
    }
   ],
   "source": [
    "print(b.min(axis=1))     # min of each row"
   ]
  },
  {
   "cell_type": "code",
   "execution_count": 115,
   "id": "ccdee8f5-2d56-4bc4-89ef-442034fd361c",
   "metadata": {},
   "outputs": [
    {
     "name": "stdout",
     "output_type": "stream",
     "text": [
      "[[ 0  1  3  6]\n",
      " [ 4  9 15 22]\n",
      " [ 8 17 27 38]]\n"
     ]
    }
   ],
   "source": [
    "print(b.cumsum(axis=1))  # cumulative sum along each row"
   ]
  },
  {
   "cell_type": "markdown",
   "id": "997bf3e7-c6d2-4aee-85fa-1fae30205b6e",
   "metadata": {},
   "source": [
    "## Universal Functions\n",
    "NumPy provides familiar mathematical functions such as sin, cos, and exp. In NumPy, these are called “universal functions” (ufunc). Within NumPy, these functions operate elementwise on an array, producing an array as output."
   ]
  },
  {
   "cell_type": "code",
   "execution_count": 116,
   "id": "a387c02c-dc70-4178-a8b6-1dca683e71b4",
   "metadata": {},
   "outputs": [
    {
     "data": {
      "text/plain": [
       "array([0, 1, 2])"
      ]
     },
     "execution_count": 116,
     "metadata": {},
     "output_type": "execute_result"
    }
   ],
   "source": [
    "B = np.arange(3)\n",
    "B"
   ]
  },
  {
   "cell_type": "code",
   "execution_count": 117,
   "id": "b5c31d42-7410-44b2-b435-43848f489223",
   "metadata": {},
   "outputs": [
    {
     "data": {
      "text/plain": [
       "array([1.        , 2.71828183, 7.3890561 ])"
      ]
     },
     "execution_count": 117,
     "metadata": {},
     "output_type": "execute_result"
    }
   ],
   "source": [
    "np.exp(B)"
   ]
  },
  {
   "cell_type": "code",
   "execution_count": 118,
   "id": "79f59a03-fe3b-4b4a-bff3-34e2acbd07a5",
   "metadata": {},
   "outputs": [
    {
     "data": {
      "text/plain": [
       "array([0.        , 1.        , 1.41421356])"
      ]
     },
     "execution_count": 118,
     "metadata": {},
     "output_type": "execute_result"
    }
   ],
   "source": [
    "np.sqrt(B)"
   ]
  },
  {
   "cell_type": "code",
   "execution_count": 119,
   "id": "49a293f3-0869-40f2-b62a-de7c4a49eddc",
   "metadata": {},
   "outputs": [
    {
     "data": {
      "text/plain": [
       "array([2., 0., 6.])"
      ]
     },
     "execution_count": 119,
     "metadata": {},
     "output_type": "execute_result"
    }
   ],
   "source": [
    "C = np.array([2., -1., 4.])\n",
    "np.add(B, C)"
   ]
  },
  {
   "cell_type": "markdown",
   "id": "90b97748-fec5-46eb-9679-c5b7bf22da20",
   "metadata": {},
   "source": [
    "## Indexing, Slicing and Iterating\n",
    "One-dimensional arrays can be indexed, sliced and iterated over, much like lists and other Python sequences."
   ]
  },
  {
   "cell_type": "code",
   "execution_count": 121,
   "id": "a100df72-2fcb-4ed4-bfae-dd4ade220b61",
   "metadata": {},
   "outputs": [
    {
     "data": {
      "text/plain": [
       "array([  0,   1,   8,  27,  64, 125, 216, 343, 512, 729])"
      ]
     },
     "execution_count": 121,
     "metadata": {},
     "output_type": "execute_result"
    }
   ],
   "source": [
    "a = np.arange(10)**3\n",
    "a"
   ]
  },
  {
   "cell_type": "code",
   "execution_count": 122,
   "id": "03a702a1-9180-4e48-ba9d-6d303519d642",
   "metadata": {},
   "outputs": [
    {
     "data": {
      "text/plain": [
       "8"
      ]
     },
     "execution_count": 122,
     "metadata": {},
     "output_type": "execute_result"
    }
   ],
   "source": [
    "a[2]"
   ]
  },
  {
   "cell_type": "code",
   "execution_count": 123,
   "id": "5793f5c4-5f66-45f3-b247-1400117c1032",
   "metadata": {},
   "outputs": [
    {
     "data": {
      "text/plain": [
       "array([ 8, 27, 64])"
      ]
     },
     "execution_count": 123,
     "metadata": {},
     "output_type": "execute_result"
    }
   ],
   "source": [
    "a[2:5]"
   ]
  },
  {
   "cell_type": "code",
   "execution_count": 124,
   "id": "5f8dc488-5d21-4592-9dd2-c68863709c17",
   "metadata": {},
   "outputs": [
    {
     "data": {
      "text/plain": [
       "array([1000,    1, 1000,   27, 1000,  125,  216,  343,  512,  729])"
      ]
     },
     "execution_count": 124,
     "metadata": {},
     "output_type": "execute_result"
    }
   ],
   "source": [
    "# equivalent to a[0:6:2] = 1000;\n",
    "# from start to position 6, exclusive, set every 2nd element to 1000\n",
    "a[:6:2] = 1000\n",
    "a"
   ]
  },
  {
   "cell_type": "code",
   "execution_count": 126,
   "id": "10ff8b9e-17bb-4084-938a-1c4baa5112c5",
   "metadata": {},
   "outputs": [
    {
     "data": {
      "text/plain": [
       "array([ 729,  512,  343,  216,  125, 1000,   27, 1000,    1, 1000])"
      ]
     },
     "execution_count": 126,
     "metadata": {},
     "output_type": "execute_result"
    }
   ],
   "source": [
    "a[::-1]  # reversed a"
   ]
  },
  {
   "cell_type": "code",
   "execution_count": 127,
   "id": "5815f896-9307-4181-89a6-3ad5688c4e40",
   "metadata": {},
   "outputs": [
    {
     "name": "stdout",
     "output_type": "stream",
     "text": [
      "9.999999999999998\n",
      "1.0\n",
      "9.999999999999998\n",
      "3.0\n",
      "9.999999999999998\n",
      "4.999999999999999\n",
      "5.999999999999999\n",
      "6.999999999999999\n",
      "7.999999999999999\n",
      "8.999999999999998\n"
     ]
    }
   ],
   "source": [
    "for i in a:\n",
    "     print(i**(1 / 3.))"
   ]
  },
  {
   "cell_type": "markdown",
   "id": "e6818489-8272-4bea-96b8-7f7c2e0278f2",
   "metadata": {},
   "source": [
    "Multidimensional arrays can have one index per axis. These indices are given in a tuple separated by commas:"
   ]
  },
  {
   "cell_type": "code",
   "execution_count": 128,
   "id": "7502786a-3693-48c3-8768-c09af2b263d2",
   "metadata": {},
   "outputs": [],
   "source": [
    "def f(x, y):\n",
    "     return 10 * x + y"
   ]
  },
  {
   "cell_type": "code",
   "execution_count": 129,
   "id": "f060eb07-8c9b-4295-a3bb-c898423bac4a",
   "metadata": {},
   "outputs": [
    {
     "data": {
      "text/plain": [
       "array([[ 0,  1,  2,  3],\n",
       "       [10, 11, 12, 13],\n",
       "       [20, 21, 22, 23],\n",
       "       [30, 31, 32, 33],\n",
       "       [40, 41, 42, 43]])"
      ]
     },
     "execution_count": 129,
     "metadata": {},
     "output_type": "execute_result"
    }
   ],
   "source": [
    "b = np.fromfunction(f, (5, 4), dtype=int)\n",
    "b"
   ]
  },
  {
   "cell_type": "code",
   "execution_count": 130,
   "id": "c551b202-00a7-47c7-aac9-802ff3c6d5a5",
   "metadata": {},
   "outputs": [
    {
     "data": {
      "text/plain": [
       "23"
      ]
     },
     "execution_count": 130,
     "metadata": {},
     "output_type": "execute_result"
    }
   ],
   "source": [
    "b[2, 3]"
   ]
  },
  {
   "cell_type": "code",
   "execution_count": 131,
   "id": "7ebec212-3bf8-4870-8b06-2dd0cd657800",
   "metadata": {},
   "outputs": [
    {
     "data": {
      "text/plain": [
       "array([ 1, 11, 21, 31, 41])"
      ]
     },
     "execution_count": 131,
     "metadata": {},
     "output_type": "execute_result"
    }
   ],
   "source": [
    "b[0:5, 1]  # each row in the second column of b"
   ]
  },
  {
   "cell_type": "code",
   "execution_count": 132,
   "id": "2024fe39-e33b-4833-baed-9792c53dbf52",
   "metadata": {},
   "outputs": [
    {
     "data": {
      "text/plain": [
       "array([ 1, 11, 21, 31, 41])"
      ]
     },
     "execution_count": 132,
     "metadata": {},
     "output_type": "execute_result"
    }
   ],
   "source": [
    "b[:, 1]    # equivalent to the previous example"
   ]
  },
  {
   "cell_type": "code",
   "execution_count": 133,
   "id": "d8caedc7-bb41-4853-a772-bfdd5bd6067e",
   "metadata": {},
   "outputs": [
    {
     "data": {
      "text/plain": [
       "array([[10, 11, 12, 13],\n",
       "       [20, 21, 22, 23]])"
      ]
     },
     "execution_count": 133,
     "metadata": {},
     "output_type": "execute_result"
    }
   ],
   "source": [
    "b[1:3, :]  # each column in the second and third row of b"
   ]
  },
  {
   "cell_type": "markdown",
   "id": "078a55e1-e183-4023-aea4-a4583c02cbe1",
   "metadata": {},
   "source": [
    "When fewer indices are provided than the number of axes, the missing indices are considered complete slices:"
   ]
  },
  {
   "cell_type": "code",
   "execution_count": 134,
   "id": "afac6fc5-4451-4c80-86ff-72ae14309904",
   "metadata": {},
   "outputs": [
    {
     "data": {
      "text/plain": [
       "array([40, 41, 42, 43])"
      ]
     },
     "execution_count": 134,
     "metadata": {},
     "output_type": "execute_result"
    }
   ],
   "source": [
    "b[-1]   # the last row. Equivalent to b[-1, :]"
   ]
  },
  {
   "cell_type": "markdown",
   "id": "d1c47f4b-3940-47ad-a37a-6fdaa3ca744d",
   "metadata": {},
   "source": [
    "The expression within brackets in b[i] is treated as an i followed by as many instances of : as needed to represent the remaining axes. NumPy also allows you to write this using dots as b[i, ...].\n",
    "\n",
    "The dots (...) represent as many colons as needed to produce a complete indexing tuple. For example, if x is an array with 5 axes, then\n",
    "\n",
    "```numpy\n",
    "x[1, 2, ...] is equivalent to x[1, 2, :, :, :],\n",
    "\n",
    "x[..., 3] to x[:, :, :, :, 3] and\n",
    "\n",
    "x[4, ..., 5, :] to x[4, :, :, 5, :].\n",
    "```"
   ]
  },
  {
   "cell_type": "code",
   "execution_count": 135,
   "id": "0826c418-3ff9-43fe-adaf-36f35e9d61fe",
   "metadata": {},
   "outputs": [],
   "source": [
    "c = np.array([[[  0,  1,  2],  # a 3D array (two stacked 2D arrays)\n",
    "                [ 10, 12, 13]],\n",
    "                [[100, 101, 102],\n",
    "                [110, 112, 113]]])"
   ]
  },
  {
   "cell_type": "code",
   "execution_count": 136,
   "id": "25f1f3bd-4681-40cb-8fb8-dbe931b342f2",
   "metadata": {},
   "outputs": [
    {
     "data": {
      "text/plain": [
       "(2, 2, 3)"
      ]
     },
     "execution_count": 136,
     "metadata": {},
     "output_type": "execute_result"
    }
   ],
   "source": [
    "c.shape"
   ]
  },
  {
   "cell_type": "code",
   "execution_count": 137,
   "id": "681f160c-d4d0-47cf-b40f-1b6d38a6304b",
   "metadata": {},
   "outputs": [
    {
     "data": {
      "text/plain": [
       "array([[100, 101, 102],\n",
       "       [110, 112, 113]])"
      ]
     },
     "execution_count": 137,
     "metadata": {},
     "output_type": "execute_result"
    }
   ],
   "source": [
    "c[1, ...]  # same as c[1, :, :] or c[1]"
   ]
  },
  {
   "cell_type": "code",
   "execution_count": 138,
   "id": "96939d6a-10a0-4ed0-be48-41a7ebb36dbb",
   "metadata": {},
   "outputs": [
    {
     "data": {
      "text/plain": [
       "array([[  2,  13],\n",
       "       [102, 113]])"
      ]
     },
     "execution_count": 138,
     "metadata": {},
     "output_type": "execute_result"
    }
   ],
   "source": [
    "c[..., 2]  # same as c[:, :, 2]"
   ]
  },
  {
   "cell_type": "markdown",
   "id": "601a3e6b-26ba-41b1-a606-40bd58496d40",
   "metadata": {},
   "source": [
    "Iterating over multidimensional arrays is done with respect to the first axis:"
   ]
  },
  {
   "cell_type": "code",
   "execution_count": 139,
   "id": "82d102ce-b911-4484-8d6e-d6ab44daa472",
   "metadata": {},
   "outputs": [
    {
     "name": "stdout",
     "output_type": "stream",
     "text": [
      "[0 1 2 3]\n",
      "[10 11 12 13]\n",
      "[20 21 22 23]\n",
      "[30 31 32 33]\n",
      "[40 41 42 43]\n"
     ]
    }
   ],
   "source": [
    "for row in b:\n",
    "     print(row)"
   ]
  },
  {
   "cell_type": "markdown",
   "id": "0b3e5a47-3d2c-4d08-89df-ff37d5d77ce5",
   "metadata": {},
   "source": [
    "However, if one wants to perform an operation on each element in the array, one can use the flat attribute which is an iterator over all the elements of the array:"
   ]
  },
  {
   "cell_type": "code",
   "execution_count": 140,
   "id": "e1a094b1-76c3-49c9-b169-62d33ae0df9d",
   "metadata": {},
   "outputs": [
    {
     "name": "stdout",
     "output_type": "stream",
     "text": [
      "0\n",
      "1\n",
      "2\n",
      "3\n",
      "10\n",
      "11\n",
      "12\n",
      "13\n",
      "20\n",
      "21\n",
      "22\n",
      "23\n",
      "30\n",
      "31\n",
      "32\n",
      "33\n",
      "40\n",
      "41\n",
      "42\n",
      "43\n"
     ]
    }
   ],
   "source": [
    "for element in b.flat:\n",
    "     print(element)"
   ]
  },
  {
   "cell_type": "markdown",
   "id": "54d1bb87-a779-4e6e-a07d-7cc4f1e9bd15",
   "metadata": {},
   "source": [
    "## Shape Manipulation\n",
    "Changing the shape of an array\n",
    "An array has a shape given by the number of elements along each axis:"
   ]
  },
  {
   "cell_type": "code",
   "execution_count": 142,
   "id": "2b4162eb-f837-436c-b9bf-3e55218d8cb0",
   "metadata": {},
   "outputs": [
    {
     "data": {
      "text/plain": [
       "array([[3., 7., 3., 4.],\n",
       "       [1., 4., 2., 2.],\n",
       "       [7., 2., 4., 9.]])"
      ]
     },
     "execution_count": 142,
     "metadata": {},
     "output_type": "execute_result"
    }
   ],
   "source": [
    "a = np.floor(10 * rg.random((3, 4)))\n",
    "a"
   ]
  },
  {
   "cell_type": "code",
   "execution_count": 143,
   "id": "14a91a4f-e3a6-4fe2-b691-d20175d98022",
   "metadata": {},
   "outputs": [
    {
     "data": {
      "text/plain": [
       "(3, 4)"
      ]
     },
     "execution_count": 143,
     "metadata": {},
     "output_type": "execute_result"
    }
   ],
   "source": [
    "a.shape"
   ]
  },
  {
   "cell_type": "markdown",
   "id": "f4e9db22-238c-4b31-b01b-193d54c51227",
   "metadata": {},
   "source": [
    "The shape of an array can be changed with various commands. Note that the following three commands all return a modified array, but do not change the original array:"
   ]
  },
  {
   "cell_type": "code",
   "execution_count": 144,
   "id": "b83c569a-5228-4796-bdfe-930ef6222899",
   "metadata": {},
   "outputs": [
    {
     "data": {
      "text/plain": [
       "array([3., 7., 3., 4., 1., 4., 2., 2., 7., 2., 4., 9.])"
      ]
     },
     "execution_count": 144,
     "metadata": {},
     "output_type": "execute_result"
    }
   ],
   "source": [
    "a.ravel()  # returns the array, flattened"
   ]
  },
  {
   "cell_type": "code",
   "execution_count": 145,
   "id": "edaad0e2-f174-4f0c-ad40-f8e44546e69c",
   "metadata": {},
   "outputs": [
    {
     "data": {
      "text/plain": [
       "array([[3., 7.],\n",
       "       [3., 4.],\n",
       "       [1., 4.],\n",
       "       [2., 2.],\n",
       "       [7., 2.],\n",
       "       [4., 9.]])"
      ]
     },
     "execution_count": 145,
     "metadata": {},
     "output_type": "execute_result"
    }
   ],
   "source": [
    "a.reshape(6, 2)  # returns the array with a modified shape"
   ]
  },
  {
   "cell_type": "code",
   "execution_count": 146,
   "id": "f7f510c6-acc1-498c-99ac-252973f1b829",
   "metadata": {},
   "outputs": [
    {
     "data": {
      "text/plain": [
       "array([[3., 1., 7.],\n",
       "       [7., 4., 2.],\n",
       "       [3., 2., 4.],\n",
       "       [4., 2., 9.]])"
      ]
     },
     "execution_count": 146,
     "metadata": {},
     "output_type": "execute_result"
    }
   ],
   "source": [
    "a.T  # returns the array, transposed"
   ]
  },
  {
   "cell_type": "code",
   "execution_count": 147,
   "id": "ca747d39-e309-4bae-9e93-f3b58c20dccf",
   "metadata": {},
   "outputs": [
    {
     "data": {
      "text/plain": [
       "(4, 3)"
      ]
     },
     "execution_count": 147,
     "metadata": {},
     "output_type": "execute_result"
    }
   ],
   "source": [
    "a.T.shape"
   ]
  },
  {
   "cell_type": "code",
   "execution_count": 148,
   "id": "aa87bef9-75ad-40a5-9351-6f78f7c27739",
   "metadata": {},
   "outputs": [
    {
     "data": {
      "text/plain": [
       "(3, 4)"
      ]
     },
     "execution_count": 148,
     "metadata": {},
     "output_type": "execute_result"
    }
   ],
   "source": [
    "a.shape"
   ]
  },
  {
   "cell_type": "markdown",
   "id": "b194fc7f-1eda-4e6a-adec-9258adad8ae2",
   "metadata": {},
   "source": [
    "The order of the elements in the array resulting from ravel is normally “C-style”, that is, the rightmost index “changes the fastest”, so the element after a[0, 0] is a[0, 1]. If the array is reshaped to some other shape, again the array is treated as “C-style”. NumPy normally creates arrays stored in this order, so ravel will usually not need to copy its argument, but if the array was made by taking slices of another array or created with unusual options, it may need to be copied. The functions ravel and reshape can also be instructed, using an optional argument, to use FORTRAN-style arrays, in which the leftmost index changes the fastest.\n",
    "\n",
    "The reshape function returns its argument with a modified shape, whereas the ndarray.resize method modifies the array itself:"
   ]
  },
  {
   "cell_type": "code",
   "execution_count": 149,
   "id": "0ea873de-891d-47b6-b71c-04419fd2d0ec",
   "metadata": {},
   "outputs": [
    {
     "data": {
      "text/plain": [
       "array([[3., 7., 3., 4.],\n",
       "       [1., 4., 2., 2.],\n",
       "       [7., 2., 4., 9.]])"
      ]
     },
     "execution_count": 149,
     "metadata": {},
     "output_type": "execute_result"
    }
   ],
   "source": [
    "a"
   ]
  },
  {
   "cell_type": "code",
   "execution_count": 150,
   "id": "19e471ff-aa8f-4e05-be82-2148716ca921",
   "metadata": {},
   "outputs": [
    {
     "data": {
      "text/plain": [
       "array([[3., 7., 3., 4., 1., 4.],\n",
       "       [2., 2., 7., 2., 4., 9.]])"
      ]
     },
     "execution_count": 150,
     "metadata": {},
     "output_type": "execute_result"
    }
   ],
   "source": [
    "a.resize((2, 6))\n",
    "a"
   ]
  },
  {
   "cell_type": "markdown",
   "id": "74aadd07-d257-48ea-a0e5-a47274c8c725",
   "metadata": {},
   "source": [
    "If a dimension is given as -1 in a reshaping operation, the other dimensions are automatically calculated:"
   ]
  },
  {
   "cell_type": "code",
   "execution_count": 151,
   "id": "232fbf5d-5ef3-456e-bc5f-f67981b082c3",
   "metadata": {},
   "outputs": [
    {
     "data": {
      "text/plain": [
       "array([[3., 7., 3., 4.],\n",
       "       [1., 4., 2., 2.],\n",
       "       [7., 2., 4., 9.]])"
      ]
     },
     "execution_count": 151,
     "metadata": {},
     "output_type": "execute_result"
    }
   ],
   "source": [
    "a.reshape(3, -1)"
   ]
  },
  {
   "cell_type": "markdown",
   "id": "95ca066d-78e7-4b09-8463-e9ec1af92932",
   "metadata": {},
   "source": [
    "## Stacking together different arrays\n",
    "Several arrays can be stacked together along different axes:"
   ]
  },
  {
   "cell_type": "code",
   "execution_count": 153,
   "id": "f7d91b71-a3fe-4c93-8cae-0f110894dd5e",
   "metadata": {},
   "outputs": [
    {
     "data": {
      "text/plain": [
       "array([[9., 7.],\n",
       "       [5., 2.]])"
      ]
     },
     "execution_count": 153,
     "metadata": {},
     "output_type": "execute_result"
    }
   ],
   "source": [
    "a = np.floor(10 * rg.random((2, 2)))\n",
    "a"
   ]
  },
  {
   "cell_type": "code",
   "execution_count": 154,
   "id": "6c3401ff-c104-4d63-9599-407dab97d942",
   "metadata": {},
   "outputs": [
    {
     "data": {
      "text/plain": [
       "array([[1., 9.],\n",
       "       [5., 1.]])"
      ]
     },
     "execution_count": 154,
     "metadata": {},
     "output_type": "execute_result"
    }
   ],
   "source": [
    "b = np.floor(10 * rg.random((2, 2)))\n",
    "b"
   ]
  },
  {
   "cell_type": "code",
   "execution_count": 155,
   "id": "ed50ff80-5f5e-40fb-8b89-a60b21decc61",
   "metadata": {},
   "outputs": [
    {
     "data": {
      "text/plain": [
       "array([[9., 7.],\n",
       "       [5., 2.],\n",
       "       [1., 9.],\n",
       "       [5., 1.]])"
      ]
     },
     "execution_count": 155,
     "metadata": {},
     "output_type": "execute_result"
    }
   ],
   "source": [
    "np.vstack((a, b))"
   ]
  },
  {
   "cell_type": "code",
   "execution_count": 156,
   "id": "056a8d9c-8c35-4fd6-aa11-53bdcf26ea9c",
   "metadata": {},
   "outputs": [
    {
     "data": {
      "text/plain": [
       "array([[9., 7., 1., 9.],\n",
       "       [5., 2., 5., 1.]])"
      ]
     },
     "execution_count": 156,
     "metadata": {},
     "output_type": "execute_result"
    }
   ],
   "source": [
    "np.hstack((a, b))"
   ]
  },
  {
   "cell_type": "markdown",
   "id": "5e8105ff-1214-47b3-8c28-849a72bee9f1",
   "metadata": {},
   "source": [
    "The function column_stack stacks 1D arrays as columns into a 2D array. It is equivalent to hstack only for 2D arrays:"
   ]
  },
  {
   "cell_type": "code",
   "execution_count": 157,
   "id": "c4dbbdf3-5dc1-48d8-93d5-0264ff533fb4",
   "metadata": {},
   "outputs": [
    {
     "data": {
      "text/plain": [
       "array([[9., 7., 1., 9.],\n",
       "       [5., 2., 5., 1.]])"
      ]
     },
     "execution_count": 157,
     "metadata": {},
     "output_type": "execute_result"
    }
   ],
   "source": [
    "from numpy import newaxis\n",
    "np.column_stack((a, b))  # with 2D arrays"
   ]
  },
  {
   "cell_type": "code",
   "execution_count": 158,
   "id": "ea8cfd9d-5c71-4872-87f7-00a15ceeb5e4",
   "metadata": {},
   "outputs": [
    {
     "data": {
      "text/plain": [
       "array([[4., 3.],\n",
       "       [2., 8.]])"
      ]
     },
     "execution_count": 158,
     "metadata": {},
     "output_type": "execute_result"
    }
   ],
   "source": [
    "a = np.array([4., 2.])\n",
    "b = np.array([3., 8.])\n",
    "np.column_stack((a, b))  # returns a 2D array"
   ]
  },
  {
   "cell_type": "code",
   "execution_count": 159,
   "id": "412f0a6f-e952-4656-a303-328b7fce0d79",
   "metadata": {},
   "outputs": [
    {
     "data": {
      "text/plain": [
       "array([4., 2., 3., 8.])"
      ]
     },
     "execution_count": 159,
     "metadata": {},
     "output_type": "execute_result"
    }
   ],
   "source": [
    "np.hstack((a, b))        # the result is different"
   ]
  },
  {
   "cell_type": "code",
   "execution_count": 160,
   "id": "cad5e440-5137-4e75-98fb-29f6b1f719aa",
   "metadata": {},
   "outputs": [
    {
     "data": {
      "text/plain": [
       "array([[4.],\n",
       "       [2.]])"
      ]
     },
     "execution_count": 160,
     "metadata": {},
     "output_type": "execute_result"
    }
   ],
   "source": [
    "a[:, newaxis]  # view `a` as a 2D column vector"
   ]
  },
  {
   "cell_type": "code",
   "execution_count": 161,
   "id": "464de95e-814f-4f70-8ce7-cb8f8e112aa7",
   "metadata": {},
   "outputs": [
    {
     "data": {
      "text/plain": [
       "array([[4., 3.],\n",
       "       [2., 8.]])"
      ]
     },
     "execution_count": 161,
     "metadata": {},
     "output_type": "execute_result"
    }
   ],
   "source": [
    "np.column_stack((a[:, newaxis], b[:, newaxis]))"
   ]
  },
  {
   "cell_type": "code",
   "execution_count": 162,
   "id": "37658ffd-5b04-455f-8a59-ce707e45b8bb",
   "metadata": {},
   "outputs": [
    {
     "data": {
      "text/plain": [
       "array([[4., 3.],\n",
       "       [2., 8.]])"
      ]
     },
     "execution_count": 162,
     "metadata": {},
     "output_type": "execute_result"
    }
   ],
   "source": [
    "np.hstack((a[:, newaxis], b[:, newaxis]))  # the result is the same"
   ]
  },
  {
   "cell_type": "markdown",
   "id": "30853b9e-3706-4462-afe3-4e5505f96559",
   "metadata": {},
   "source": [
    "On the other hand, the function row_stack is equivalent to vstack for any input arrays. In fact, row_stack is an alias for vstack:"
   ]
  },
  {
   "cell_type": "code",
   "execution_count": 163,
   "id": "c36d683a-e96e-446a-842e-0782ee518891",
   "metadata": {},
   "outputs": [
    {
     "data": {
      "text/plain": [
       "False"
      ]
     },
     "execution_count": 163,
     "metadata": {},
     "output_type": "execute_result"
    }
   ],
   "source": [
    "np.column_stack is np.hstack"
   ]
  },
  {
   "cell_type": "code",
   "execution_count": 164,
   "id": "4cdc9369-1991-4a73-b656-8a85332884d5",
   "metadata": {},
   "outputs": [
    {
     "data": {
      "text/plain": [
       "True"
      ]
     },
     "execution_count": 164,
     "metadata": {},
     "output_type": "execute_result"
    }
   ],
   "source": [
    "np.row_stack is np.vstack"
   ]
  },
  {
   "cell_type": "markdown",
   "id": "1b15e212-8e16-4843-8a73-a0425788c01a",
   "metadata": {},
   "source": [
    "In general, for arrays with more than two dimensions, hstack stacks along their second axes, vstack stacks along their first axes, and concatenate allows for an optional arguments giving the number of the axis along which the concatenation should happen.\n",
    "\n",
    "Note\n",
    "\n",
    "In complex cases, r_ and c_ are useful for creating arrays by stacking numbers along one axis. They allow the use of range literals :.\n",
    "\n"
   ]
  },
  {
   "cell_type": "code",
   "execution_count": 165,
   "id": "9c3bd5de-da60-45c0-a87a-24f609800c40",
   "metadata": {},
   "outputs": [
    {
     "data": {
      "text/plain": [
       "array([1, 2, 3, 0, 4])"
      ]
     },
     "execution_count": 165,
     "metadata": {},
     "output_type": "execute_result"
    }
   ],
   "source": [
    "np.r_[1:4, 0, 4]"
   ]
  },
  {
   "cell_type": "markdown",
   "id": "7acb8d1e-8e75-4f2d-b897-ab919e2ee40b",
   "metadata": {},
   "source": [
    "When used with arrays as arguments, r_ and c_ are similar to vstack and hstack in their default behavior, but allow for an optional argument giving the number of the axis along which to concatenate."
   ]
  },
  {
   "cell_type": "markdown",
   "id": "3f4e741c-80e7-49f0-b4e5-ee04f03625b9",
   "metadata": {},
   "source": [
    "## Splitting one array into several smaller ones\n",
    "Using hsplit, you can split an array along its horizontal axis, either by specifying the number of equally shaped arrays to return, or by specifying the columns after which the division should occur:"
   ]
  },
  {
   "cell_type": "code",
   "execution_count": 166,
   "id": "cd95ca12-ebfd-415f-8464-d60a87bb18b5",
   "metadata": {},
   "outputs": [
    {
     "data": {
      "text/plain": [
       "array([[6., 7., 6., 9., 0., 5., 4., 0., 6., 8., 5., 2.],\n",
       "       [8., 5., 5., 7., 1., 8., 6., 7., 1., 8., 1., 0.]])"
      ]
     },
     "execution_count": 166,
     "metadata": {},
     "output_type": "execute_result"
    }
   ],
   "source": [
    "a = np.floor(10 * rg.random((2, 12)))\n",
    "a"
   ]
  },
  {
   "cell_type": "code",
   "execution_count": 167,
   "id": "0cd3058b-c592-45f5-9eca-6a3fa2fd0126",
   "metadata": {},
   "outputs": [
    {
     "data": {
      "text/plain": [
       "[array([[6., 7., 6., 9.],\n",
       "        [8., 5., 5., 7.]]),\n",
       " array([[0., 5., 4., 0.],\n",
       "        [1., 8., 6., 7.]]),\n",
       " array([[6., 8., 5., 2.],\n",
       "        [1., 8., 1., 0.]])]"
      ]
     },
     "execution_count": 167,
     "metadata": {},
     "output_type": "execute_result"
    }
   ],
   "source": [
    "# Split `a` into 3\n",
    "np.hsplit(a, 3)"
   ]
  },
  {
   "cell_type": "code",
   "execution_count": 168,
   "id": "b2e33880-e187-4906-9210-91c2ca4f1d24",
   "metadata": {},
   "outputs": [
    {
     "data": {
      "text/plain": [
       "[array([[6., 7., 6.],\n",
       "        [8., 5., 5.]]),\n",
       " array([[9.],\n",
       "        [7.]]),\n",
       " array([[0., 5., 4., 0., 6., 8., 5., 2.],\n",
       "        [1., 8., 6., 7., 1., 8., 1., 0.]])]"
      ]
     },
     "execution_count": 168,
     "metadata": {},
     "output_type": "execute_result"
    }
   ],
   "source": [
    "# Split `a` after the third and the fourth column\n",
    "np.hsplit(a, (3, 4))"
   ]
  },
  {
   "cell_type": "markdown",
   "id": "d6b38c83-7957-4d41-93cb-85cea99085eb",
   "metadata": {},
   "source": [
    "vsplit splits along the vertical axis, and array_split allows one to specify along which axis to split.\n",
    "\n",
    "## Copies and Views\n",
    "When operating and manipulating arrays, their data is sometimes copied into a new array and sometimes not. This is often a source of confusion for beginners. There are three cases:\n",
    "\n",
    "### No Copy at All\n",
    "Simple assignments make no copy of objects or their data."
   ]
  },
  {
   "cell_type": "code",
   "execution_count": 169,
   "id": "f4450433-83ca-4e67-874e-cff1ca4dbe2b",
   "metadata": {},
   "outputs": [],
   "source": [
    " a = np.array([[ 0,  1,  2,  3],\n",
    "              [ 4,  5,  6,  7],\n",
    "              [ 8,  9, 10, 11]])"
   ]
  },
  {
   "cell_type": "code",
   "execution_count": 170,
   "id": "3ba65a41-44c9-43a8-b85a-7300c4a380b8",
   "metadata": {},
   "outputs": [],
   "source": [
    "b = a            # no new object is created"
   ]
  },
  {
   "cell_type": "code",
   "execution_count": 171,
   "id": "59498312-bdc9-4d1d-97af-68c270925fb4",
   "metadata": {},
   "outputs": [
    {
     "data": {
      "text/plain": [
       "True"
      ]
     },
     "execution_count": 171,
     "metadata": {},
     "output_type": "execute_result"
    }
   ],
   "source": [
    "b is a           # a and b are two names for the same ndarray object"
   ]
  },
  {
   "cell_type": "markdown",
   "id": "61e7322e-655c-400b-965c-d6961fab1af4",
   "metadata": {},
   "source": [
    "Python passes mutable objects as references, so function calls make no copy."
   ]
  },
  {
   "cell_type": "code",
   "execution_count": 172,
   "id": "453ef566-3c17-4bbd-8787-d3e0c494811c",
   "metadata": {},
   "outputs": [],
   "source": [
    "def f(x):\n",
    "    print(id(x))"
   ]
  },
  {
   "cell_type": "code",
   "execution_count": 173,
   "id": "158889da-7a4a-4557-908d-d7249d384197",
   "metadata": {},
   "outputs": [
    {
     "data": {
      "text/plain": [
       "4395763392"
      ]
     },
     "execution_count": 173,
     "metadata": {},
     "output_type": "execute_result"
    }
   ],
   "source": [
    "id(a)  # id is a unique identifier of an object"
   ]
  },
  {
   "cell_type": "code",
   "execution_count": 174,
   "id": "5e40127a-455b-4a4a-b01f-31913269f5b9",
   "metadata": {},
   "outputs": [
    {
     "name": "stdout",
     "output_type": "stream",
     "text": [
      "4395763392\n"
     ]
    }
   ],
   "source": [
    "f(a) # may vary"
   ]
  },
  {
   "cell_type": "markdown",
   "id": "289ba738-52bf-4b46-a3e4-e8d07bd11a73",
   "metadata": {},
   "source": [
    "### View or Shallow Copy\n",
    "Different array objects can share the same data. The view method creates a new array object that looks at the same data."
   ]
  },
  {
   "cell_type": "code",
   "execution_count": 175,
   "id": "b5211f80-3e49-4003-af18-787690c7aa12",
   "metadata": {},
   "outputs": [
    {
     "data": {
      "text/plain": [
       "False"
      ]
     },
     "execution_count": 175,
     "metadata": {},
     "output_type": "execute_result"
    }
   ],
   "source": [
    "c = a.view()\n",
    "c is a"
   ]
  },
  {
   "cell_type": "code",
   "execution_count": 176,
   "id": "f8a6c3df-67a1-4b09-8de7-980f1edea297",
   "metadata": {},
   "outputs": [
    {
     "data": {
      "text/plain": [
       "True"
      ]
     },
     "execution_count": 176,
     "metadata": {},
     "output_type": "execute_result"
    }
   ],
   "source": [
    "c.base is a            # c is a view of the data owned by a"
   ]
  },
  {
   "cell_type": "code",
   "execution_count": 177,
   "id": "400d5a57-c81e-4f8d-90d6-2f4eca847f71",
   "metadata": {},
   "outputs": [
    {
     "data": {
      "text/plain": [
       "False"
      ]
     },
     "execution_count": 177,
     "metadata": {},
     "output_type": "execute_result"
    }
   ],
   "source": [
    "c.flags.owndata"
   ]
  },
  {
   "cell_type": "code",
   "execution_count": 178,
   "id": "de4dc1c1-23ff-437c-a68f-6729ecacbcb4",
   "metadata": {},
   "outputs": [
    {
     "data": {
      "text/plain": [
       "(3, 4)"
      ]
     },
     "execution_count": 178,
     "metadata": {},
     "output_type": "execute_result"
    }
   ],
   "source": [
    "c = c.reshape((2, 6))  # a's shape doesn't change\n",
    "a.shape"
   ]
  },
  {
   "cell_type": "code",
   "execution_count": 181,
   "id": "c387a6b7-356d-47f1-8199-186744df467d",
   "metadata": {},
   "outputs": [
    {
     "data": {
      "text/plain": [
       "array([[   0,    1,    2,    3],\n",
       "       [1234,    5,    6,    7],\n",
       "       [   8,    9,   10,   11]])"
      ]
     },
     "execution_count": 181,
     "metadata": {},
     "output_type": "execute_result"
    }
   ],
   "source": [
    "c[0, 4] = 1234         # a's data changes\n",
    "a"
   ]
  },
  {
   "cell_type": "markdown",
   "id": "37205a36-0cf9-44fc-8fdb-79910f335056",
   "metadata": {},
   "source": [
    "Slicing an array returns a view of it:"
   ]
  },
  {
   "cell_type": "code",
   "execution_count": 184,
   "id": "102c5fa6-bd6d-4d98-a1f5-e23c5f52f393",
   "metadata": {},
   "outputs": [
    {
     "data": {
      "text/plain": [
       "array([[   0,   10,   10,    3],\n",
       "       [1234,   10,   10,    7],\n",
       "       [   8,   10,   10,   11]])"
      ]
     },
     "execution_count": 184,
     "metadata": {},
     "output_type": "execute_result"
    }
   ],
   "source": [
    "s = a[:, 1:3]\n",
    "s[:] = 10  # s[:] is a view of s. Note the difference between s = 10 and s[:] = 10\n",
    "a"
   ]
  },
  {
   "cell_type": "markdown",
   "id": "525aa3d3-e0f8-40d8-b6b8-5530b687cb3e",
   "metadata": {},
   "source": [
    "### Deep Copy\n",
    "The copy method makes a complete copy of the array and its data."
   ]
  },
  {
   "cell_type": "code",
   "execution_count": 186,
   "id": "04e03ca0-ab75-4dbb-b8df-e92d3f0b7134",
   "metadata": {},
   "outputs": [
    {
     "data": {
      "text/plain": [
       "False"
      ]
     },
     "execution_count": 186,
     "metadata": {},
     "output_type": "execute_result"
    }
   ],
   "source": [
    "d = a.copy()  # a new array object with new data is created\n",
    "d is a"
   ]
  },
  {
   "cell_type": "code",
   "execution_count": 187,
   "id": "973baeab-508a-450c-a29f-1848f5a56887",
   "metadata": {},
   "outputs": [
    {
     "data": {
      "text/plain": [
       "False"
      ]
     },
     "execution_count": 187,
     "metadata": {},
     "output_type": "execute_result"
    }
   ],
   "source": [
    "d.base is a  # d doesn't share anything with a"
   ]
  },
  {
   "cell_type": "code",
   "execution_count": 188,
   "id": "22031140-064c-4c72-9064-a1582ca8b0e2",
   "metadata": {},
   "outputs": [
    {
     "data": {
      "text/plain": [
       "array([[   0,   10,   10,    3],\n",
       "       [1234,   10,   10,    7],\n",
       "       [   8,   10,   10,   11]])"
      ]
     },
     "execution_count": 188,
     "metadata": {},
     "output_type": "execute_result"
    }
   ],
   "source": [
    "d[0, 0] = 9999\n",
    "a"
   ]
  },
  {
   "cell_type": "markdown",
   "id": "72ef95a4-3cde-45f9-8319-9a6796043111",
   "metadata": {},
   "source": [
    "Sometimes copy should be called after slicing if the original array is not required anymore. For example, suppose a is a huge intermediate result and the final result b only contains a small fraction of a, a deep copy should be made when constructing b with slicing:"
   ]
  },
  {
   "cell_type": "code",
   "execution_count": 189,
   "id": "14f51c0a-9bd1-4406-b610-7b5623a4acfd",
   "metadata": {},
   "outputs": [],
   "source": [
    "a = np.arange(int(1e8))\n",
    "b = a[:100].copy()"
   ]
  },
  {
   "cell_type": "code",
   "execution_count": 190,
   "id": "e8cc2964-084f-49e7-9247-755b59bd48b4",
   "metadata": {},
   "outputs": [],
   "source": [
    "del a  # the memory of ``a`` can be released."
   ]
  },
  {
   "cell_type": "markdown",
   "id": "19ad2892-e34d-456f-a551-529a3bed9f96",
   "metadata": {},
   "source": [
    "## Functions and Methods Overview\n",
    "Here is a list of some useful NumPy functions and methods names ordered in categories. See Routines for the full list.\n",
    "\n",
    "### Array Creation\n",
    "[arange](https://numpy.org/doc/stable/reference/generated/numpy.arange.html#numpy.arange), [array](https://numpy.org/doc/stable/reference/generated/numpy.array.html#numpy.array), [copy](https://numpy.org/doc/stable/reference/generated/numpy.copy.html#numpy.copy), [empty](https://numpy.org/doc/stable/reference/generated/numpy.empty.html#numpy.empty), [empty_like](https://numpy.org/doc/stable/reference/generated/numpy.empty_like.html#numpy.empty_like), [eye](https://numpy.org/doc/stable/reference/generated/numpy.eye.html#numpy.eye), [fromfile](https://numpy.org/doc/stable/reference/generated/numpy.fromfile.html#numpy.fromfile), [fromfunction](https://numpy.org/doc/stable/reference/generated/numpy.fromfunction.html#numpy.fromfunction), [identity](https://numpy.org/doc/stable/reference/generated/numpy.identity.html#numpy.identity), [linspace](https://numpy.org/doc/stable/reference/generated/numpy.linspace.html#numpy.linspace), [logspace](https://numpy.org/doc/stable/reference/generated/numpy.logspace.html#numpy.logspace), [mgrid](https://numpy.org/doc/stable/reference/generated/numpy.mgrid.html#numpy.mgrid), [ogrid](https://numpy.org/doc/stable/reference/generated/numpy.ogrid.html#numpy.ogrid), [ones](https://numpy.org/doc/stable/reference/generated/numpy.ones.html#numpy.ones), [ones_like](https://numpy.org/doc/stable/reference/generated/numpy.ones_like.html#numpy.ones_like), [r_](https://numpy.org/doc/stable/reference/generated/numpy.r_.html#numpy.r_), [zeros](https://numpy.org/doc/stable/reference/generated/numpy.zeros.html#numpy.zeros), [zeros_like](https://numpy.org/doc/stable/reference/generated/numpy.zeros_like.html#numpy.zeros_like)\n",
    "\n",
    "### Conversions\n",
    "[ndarray.astype](https://numpy.org/doc/stable/reference/generated/numpy.ndarray.astype.html#numpy.ndarray.astype), [atleast_1d](https://numpy.org/doc/stable/reference/generated/numpy.atleast_1d.html#numpy.atleast_1d), [atleast_2d](https://numpy.org/doc/stable/reference/generated/numpy.atleast_2d.html#numpy.atleast_2d), [atleast_3d](https://numpy.org/doc/stable/reference/generated/numpy.atleast_3d.html#numpy.atleast_3d), [mat](https://numpy.org/doc/stable/reference/generated/numpy.mat.html#numpy.mat)\n",
    "\n",
    "### Manipulations\n",
    "[array_split](https://numpy.org/doc/stable/reference/generated/numpy.array_split.html#numpy.array_split), [column_stack](https://numpy.org/doc/stable/reference/generated/numpy.column_stack.html#numpy.column_stack), [concatenate](https://numpy.org/doc/stable/reference/generated/numpy.concatenate.html#numpy.concatenate), [diagonal](https://numpy.org/doc/stable/reference/generated/numpy.diagonal.html#numpy.diagonal), [dsplit](https://numpy.org/doc/stable/reference/generated/numpy.dsplit.html#numpy.dsplit), [dstack](https://numpy.org/doc/stable/reference/generated/numpy.dstack.html#numpy.dstack), [hsplit](https://numpy.org/doc/stable/reference/generated/numpy.hsplit.html#numpy.hsplit), [hstack](https://numpy.org/doc/stable/reference/generated/numpy.hstack.html#numpy.hstack), [ndarray.item](https://numpy.org/doc/stable/reference/generated/numpy.ndarray.item.html#numpy.ndarray.item), [newaxis](https://numpy.org/doc/stable/reference/constants.html#numpy.newaxis), [ravel](https://numpy.org/doc/stable/reference/generated/numpy.ravel.html#numpy.ravel), [repeat](https://numpy.org/doc/stable/reference/generated/numpy.repeat.html#numpy.repeat), [reshape](https://numpy.org/doc/stable/reference/generated/numpy.reshape.html#numpy.reshape), [resize](https://numpy.org/doc/stable/reference/generated/numpy.resize.html#numpy.resize), [squeeze](https://numpy.org/doc/stable/reference/generated/numpy.squeeze.html#numpy.squeeze), [swapaxes](https://numpy.org/doc/stable/reference/generated/numpy.swapaxes.html#numpy.swapaxes), [take](https://numpy.org/doc/stable/reference/generated/numpy.take.html#numpy.take), [transpose](https://numpy.org/doc/stable/reference/generated/numpy.transpose.html#numpy.transpose), [vsplit](https://numpy.org/doc/stable/reference/generated/numpy.vsplit.html#numpy.vsplit), [vstack](https://numpy.org/doc/stable/reference/generated/numpy.vstack.html#numpy.vstack)\n",
    "\n",
    "### Questions\n",
    "[all](https://numpy.org/doc/stable/reference/generated/numpy.all.html#numpy.all), [any](https://numpy.org/doc/stable/reference/generated/numpy.any.html#numpy.any), [nonzero](https://numpy.org/doc/stable/reference/generated/numpy.nonzero.html#numpy.nonzero), [where](https://numpy.org/doc/stable/reference/generated/numpy.where.html#numpy.where)\n",
    "\n",
    "### Ordering\n",
    "[argmax](https://numpy.org/doc/stable/reference/generated/numpy.argmax.html#numpy.argmax), [argmin](https://numpy.org/doc/stable/reference/generated/numpy.argmin.html#numpy.argmin), [argsort](https://numpy.org/doc/stable/reference/generated/numpy.argsort.html#numpy.argsort), [max](https://docs.python.org/dev/library/functions.html#max), [min](https://docs.python.org/dev/library/functions.html#min), [ptp](https://numpy.org/doc/stable/reference/generated/numpy.ptp.html#numpy.ptp), [searchsorted](https://numpy.org/doc/stable/reference/generated/numpy.searchsorted.html#numpy.searchsorted), [sort](https://numpy.org/doc/stable/reference/generated/numpy.sort.html#numpy.sort)\n",
    "\n",
    "### Operations\n",
    "[choose](https://numpy.org/doc/stable/reference/generated/numpy.choose.html#numpy.choose), [compress](https://numpy.org/doc/stable/reference/generated/numpy.compress.html#numpy.compress), [cumprod](https://numpy.org/doc/stable/reference/generated/numpy.cumprod.html#numpy.cumprod), [cumsum](https://numpy.org/doc/stable/reference/generated/numpy.cumsum.html#numpy.cumsum), [inner](https://numpy.org/doc/stable/reference/generated/numpy.inner.html#numpy.inner), [ndarray.fill](https://numpy.org/doc/stable/reference/generated/numpy.ndarray.fill.html#numpy.ndarray.fill), [imag](https://numpy.org/doc/stable/reference/generated/numpy.imag.html#numpy.imag), [prod](https://numpy.org/doc/stable/reference/generated/numpy.prod.html#numpy.prod), [put](https://numpy.org/doc/stable/reference/generated/numpy.put.html#numpy.put), [putmask](https://numpy.org/doc/stable/reference/generated/numpy.putmask.html#numpy.putmask), [real](https://numpy.org/doc/stable/reference/generated/numpy.real.html#numpy.real), [sum](https://numpy.org/doc/stable/reference/generated/numpy.sum.html#numpy.sum)\n",
    "\n",
    "### Basic Statistics\n",
    "[cov](https://numpy.org/doc/stable/reference/generated/numpy.cov.html#numpy.cov), [mean](https://numpy.org/doc/stable/reference/generated/numpy.mean.html#numpy.mean), [std](https://numpy.org/doc/stable/reference/generated/numpy.std.html#numpy.std), [var](https://numpy.org/doc/stable/reference/generated/numpy.var.html#numpy.var)\n",
    "\n",
    "### Basic Linear Algebra\n",
    "[cross](https://numpy.org/doc/stable/reference/generated/numpy.cross.html#numpy.cross), [dot](https://numpy.org/doc/stable/reference/generated/numpy.dot.html#numpy.dot), [outer](https://numpy.org/doc/stable/reference/generated/numpy.outer.html#numpy.outer), [linalg.svd](https://numpy.org/doc/stable/reference/generated/numpy.linalg.svd.html#numpy.linalg.svd), [vdot](https://numpy.org/doc/stable/reference/generated/numpy.vdot.html#numpy.vdot)"
   ]
  },
  {
   "cell_type": "code",
   "execution_count": null,
   "id": "25afd9c3-4d66-4e8c-9459-b44d20ca580c",
   "metadata": {},
   "outputs": [],
   "source": []
  }
 ],
 "metadata": {
  "kernelspec": {
   "display_name": "Python 3 (ipykernel)",
   "language": "python",
   "name": "python3"
  },
  "language_info": {
   "codemirror_mode": {
    "name": "ipython",
    "version": 3
   },
   "file_extension": ".py",
   "mimetype": "text/x-python",
   "name": "python",
   "nbconvert_exporter": "python",
   "pygments_lexer": "ipython3",
   "version": "3.9.9"
  }
 },
 "nbformat": 4,
 "nbformat_minor": 5
}
