{
 "cells": [
  {
   "cell_type": "code",
   "execution_count": 39,
   "id": "2a3a46d4-bdb4-407b-bc81-c2e0046977d0",
   "metadata": {},
   "outputs": [],
   "source": [
    "import pandas as pd\n",
    "from sklearn.neighbors import KNeighborsClassifier\n",
    "from seaborn import load_dataset\n",
    "from sklearn.metrics import accuracy_score"
   ]
  },
  {
   "cell_type": "markdown",
   "id": "b82b5219-3e3d-4b87-ab08-0cf65a64400b",
   "metadata": {},
   "source": [
    "<img src=\"penguins.jpg\" width=150 height=100 />"
   ]
  },
  {
   "cell_type": "markdown",
   "id": "627e47e9-9eea-46a7-a7a7-cf77509845a0",
   "metadata": {},
   "source": [
    "### The dataset focuses on predicting the species of a penguin based on its physical characteristics. There are three types of Penguins that the dataset has data on: the Adelie, Chinstrap, and Gentoo penguins, as shown below:"
   ]
  },
  {
   "cell_type": "code",
   "execution_count": 40,
   "id": "2916227b-b7f8-4245-8e0f-5e827086f13f",
   "metadata": {},
   "outputs": [
    {
     "name": "stdout",
     "output_type": "stream",
     "text": [
      "  species     island  bill_length_mm  bill_depth_mm  flipper_length_mm  \\\n",
      "0  Adelie  Torgersen            39.1           18.7              181.0   \n",
      "1  Adelie  Torgersen            39.5           17.4              186.0   \n",
      "2  Adelie  Torgersen            40.3           18.0              195.0   \n",
      "3  Adelie  Torgersen             NaN            NaN                NaN   \n",
      "4  Adelie  Torgersen            36.7           19.3              193.0   \n",
      "\n",
      "   body_mass_g     sex  \n",
      "0       3750.0    Male  \n",
      "1       3800.0  Female  \n",
      "2       3250.0  Female  \n",
      "3          NaN     NaN  \n",
      "4       3450.0  Female  \n"
     ]
    }
   ],
   "source": [
    "df = load_dataset('penguins')\n",
    "print(df.head())"
   ]
  },
  {
   "cell_type": "markdown",
   "id": "afa58213-cedc-4523-8349-111583dfc21c",
   "metadata": {},
   "source": [
    "### Features and Targets\n"
   ]
  },
  {
   "cell_type": "code",
   "execution_count": 41,
   "id": "18ccecc7-6266-4546-b554-77de7b5b62ae",
   "metadata": {},
   "outputs": [],
   "source": [
    "df = df.dropna()\n",
    "\n",
    "X = df[['bill_length_mm']]\n",
    "y = df['species']"
   ]
  },
  {
   "cell_type": "markdown",
   "id": "7aae2f7b-a349-4870-bfb1-640646b238f9",
   "metadata": {},
   "source": [
    "### Training and Testing Data"
   ]
  },
  {
   "cell_type": "code",
   "execution_count": 42,
   "id": "2973bb78-f28f-45ba-b4f4-4e41f32df544",
   "metadata": {},
   "outputs": [],
   "source": [
    "from sklearn.model_selection import train_test_split\n",
    "\n",
    "X_train, X_test, y_train, y_test = train_test_split(X, y, random_state = 70)"
   ]
  },
  {
   "cell_type": "markdown",
   "id": "0a3c9420-2a75-4a39-bfcb-350e3e10e435",
   "metadata": {},
   "source": [
    "-The number of neighbours to consider  -The power parameter for the Minkowski metric\n",
    "-How to weight distances               -The type of distance to use\n",
    "-Algorithm to compute the neighbours   -Keyword arguments for the metric function\n",
    "-The leaf size to speed up searches    -  How many parallel jobs to run\n",
    "              \n"
   ]
  },
  {
   "cell_type": "code",
   "execution_count": 43,
   "id": "52c62aed-ac9c-4f0a-b23c-37e538a5df17",
   "metadata": {},
   "outputs": [
    {
     "data": {
      "text/plain": [
       "KNeighborsClassifier()"
      ]
     },
     "execution_count": 43,
     "metadata": {},
     "output_type": "execute_result"
    }
   ],
   "source": [
    "KNeighborsClassifier(n_neighbors=5,weights='uniform',algorithm='auto',leaf_size=30,p=2,metric='minkowski',metric_params=None,n_jobs=None)"
   ]
  },
  {
   "cell_type": "markdown",
   "id": "73f85f2d-7dba-4426-b85b-23861607d816",
   "metadata": {},
   "source": [
    "### Creating a classifier object in sklearn"
   ]
  },
  {
   "cell_type": "code",
   "execution_count": 44,
   "id": "f04ec451-e7ca-488a-9a80-05f4406e539b",
   "metadata": {},
   "outputs": [],
   "source": [
    "penguin2 = KNeighborsClassifier(p=1)"
   ]
  },
  {
   "cell_type": "markdown",
   "id": "2d43afca-b01b-490d-81d3-ccac908f20b6",
   "metadata": {},
   "source": [
    "### Fitting our model"
   ]
  },
  {
   "cell_type": "code",
   "execution_count": 45,
   "id": "10f138a2-caa4-462e-99be-49caf654837c",
   "metadata": {},
   "outputs": [
    {
     "data": {
      "text/plain": [
       "KNeighborsClassifier(p=1)"
      ]
     },
     "execution_count": 45,
     "metadata": {},
     "output_type": "execute_result"
    }
   ],
   "source": [
    "penguin2.fit(X_train, y_train)"
   ]
  },
  {
   "cell_type": "markdown",
   "id": "58d5d1a7-2ba7-41ee-829f-22d10b1dc140",
   "metadata": {},
   "source": [
    "### Predicitions"
   ]
  },
  {
   "cell_type": "code",
   "execution_count": 46,
   "id": "d9917090-d218-459c-98ac-60cd5e9270b5",
   "metadata": {},
   "outputs": [
    {
     "name": "stdout",
     "output_type": "stream",
     "text": [
      "['Chinstrap' 'Gentoo' 'Chinstrap' 'Adelie' 'Gentoo' 'Gentoo' 'Gentoo'\n",
      " 'Adelie' 'Gentoo' 'Adelie' 'Gentoo' 'Adelie' 'Gentoo' 'Gentoo' 'Adelie'\n",
      " 'Gentoo' 'Gentoo' 'Gentoo' 'Gentoo' 'Gentoo' 'Chinstrap' 'Gentoo'\n",
      " 'Gentoo' 'Chinstrap' 'Adelie' 'Chinstrap' 'Gentoo' 'Adelie' 'Gentoo'\n",
      " 'Adelie' 'Adelie' 'Adelie' 'Chinstrap' 'Adelie' 'Adelie' 'Gentoo'\n",
      " 'Chinstrap' 'Gentoo' 'Adelie' 'Chinstrap' 'Gentoo' 'Chinstrap' 'Adelie'\n",
      " 'Gentoo' 'Gentoo' 'Gentoo' 'Adelie' 'Chinstrap' 'Adelie' 'Gentoo'\n",
      " 'Gentoo' 'Gentoo' 'Adelie' 'Gentoo' 'Adelie' 'Chinstrap' 'Gentoo'\n",
      " 'Gentoo' 'Gentoo' 'Adelie' 'Gentoo' 'Gentoo' 'Adelie' 'Adelie' 'Gentoo'\n",
      " 'Adelie' 'Adelie' 'Adelie' 'Adelie' 'Adelie' 'Gentoo' 'Gentoo' 'Adelie'\n",
      " 'Chinstrap' 'Gentoo' 'Chinstrap' 'Gentoo' 'Adelie' 'Gentoo' 'Adelie'\n",
      " 'Adelie' 'Adelie' 'Adelie' 'Gentoo']\n"
     ]
    }
   ],
   "source": [
    "predictions = penguin2.predict(X_test)\n",
    "print(predictions)"
   ]
  },
  {
   "cell_type": "markdown",
   "id": "973fc853-5291-420b-a6d9-c00da260cf2c",
   "metadata": {},
   "source": [
    "### Your own predictions"
   ]
  },
  {
   "cell_type": "code",
   "execution_count": 47,
   "id": "1f1f2a02-4f1a-424b-8c95-a8511d0e4973",
   "metadata": {},
   "outputs": [
    {
     "name": "stdout",
     "output_type": "stream",
     "text": [
      "['Gentoo']\n"
     ]
    },
    {
     "name": "stderr",
     "output_type": "stream",
     "text": [
      "C:\\Users\\Windows\\AppData\\Roaming\\Python\\Python39\\site-packages\\sklearn\\base.py:445: UserWarning: X does not have valid feature names, but KNeighborsClassifier was fitted with feature names\n",
      "  warnings.warn(\n"
     ]
    }
   ],
   "source": [
    "predictions = penguin2.predict([[44.2]])\n",
    "print(predictions)"
   ]
  },
  {
   "cell_type": "markdown",
   "id": "65acff8e-c4b0-4876-81f4-46a8b7552e85",
   "metadata": {},
   "source": [
    "### Accuracy"
   ]
  },
  {
   "cell_type": "code",
   "execution_count": null,
   "id": "4de6fea7-81c8-4ba1-b320-a5f8f4386d17",
   "metadata": {},
   "outputs": [],
   "source": []
  },
  {
   "cell_type": "code",
   "execution_count": null,
   "id": "c2388d5d-8ad8-4d5d-a15e-7355a8550100",
   "metadata": {},
   "outputs": [],
   "source": []
  }
 ],
 "metadata": {
  "kernelspec": {
   "display_name": "Python 3",
   "language": "python",
   "name": "python3"
  },
  "language_info": {
   "codemirror_mode": {
    "name": "ipython",
    "version": 3
   },
   "file_extension": ".py",
   "mimetype": "text/x-python",
   "name": "python",
   "nbconvert_exporter": "python",
   "pygments_lexer": "ipython3",
   "version": "3.9.7"
  }
 },
 "nbformat": 4,
 "nbformat_minor": 5
}
