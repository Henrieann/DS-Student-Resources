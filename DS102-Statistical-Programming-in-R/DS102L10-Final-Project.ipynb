{
 "cells": [
  {
   "cell_type": "markdown",
   "id": "50e6ddbb-52d3-4a02-9b69-100a4181e3b0",
   "metadata": {},
   "source": [
    "# DS102 Statistical Programming in R : Lesson Ten - Final Project"
   ]
  },
  {
   "cell_type": "markdown",
   "id": "d1bd4bfc-9b15-4b80-87b4-b8b60eb56371",
   "metadata": {},
   "source": [
    "### Table of Contents <a class=\"anchor\" id=\"DSO102L10_toc\"></a>\n",
    "\n",
    "* [Table of Contents](#DSO102L10_toc)\n",
    "    * [Page 1 - ](#DSO102L10_page_1)    "
   ]
  },
  {
   "cell_type": "markdown",
   "id": "ef5a8c65-ed48-4354-a257-e01b0fd733d4",
   "metadata": {},
   "source": [
    "<hr style=\"height:10px;border-width:0;color:gray;background-color:gray\">\n",
    "\n",
    "# Page 1 - Final Project<a class=\"anchor\" id=\"DSO102L10_page_1\"></a>\n",
    "\n",
    "[Back to Top](#DSO102L10_toc)\n",
    "\n",
    "<hr style=\"height:10px;border-width:0;color:gray;background-color:gray\">"
   ]
  },
  {
   "cell_type": "code",
   "execution_count": 1,
   "id": "c6d821bc-ac36-41bb-9d25-866d8ce6dde2",
   "metadata": {},
   "outputs": [
    {
     "data": {
      "text/html": [
       "\n",
       "        <iframe\n",
       "            width=\"720\"\n",
       "            height=\"480\"\n",
       "            src=\"https://player.vimeo.com/video/413822263\"\n",
       "            frameborder=\"0\"\n",
       "            allowfullscreen\n",
       "        ></iframe>\n",
       "        "
      ],
      "text/plain": [
       "<IPython.lib.display.VimeoVideo at 0x7f9a080e1460>"
      ]
     },
     "execution_count": 1,
     "metadata": {},
     "output_type": "execute_result"
    }
   ],
   "source": [
    "from IPython.display import VimeoVideo\n",
    "# Tutorial Video Name: Showing Files and Changing Directories\n",
    "VimeoVideo('413822263', width=720, height=480)"
   ]
  },
  {
   "cell_type": "markdown",
   "id": "5b6ad526-95fa-43c4-bc43-1fe807708ed3",
   "metadata": {},
   "source": [
    "```c-lms\n",
    "activity-type: project\n",
    "activity-name: Lesson 10 Final Project\n",
    "points: 45\n",
    "due-at: 100%\n",
    "close-at: end-of-module\n",
    "```\n",
    "\n",
    "In this Final Project, you will demonstrate the skills and knowledge you have developed in this course to explore one last data set using R. You should document your exploration in an R script file, and by creating a PowerPoint (or equivalent) presentation that includes the following elements:\n",
    "\n",
    "-  R code that you use at each step.\n",
    "-  Plots that you create with your R code.\n",
    "-  Your description of the information you find in the data and the plots; describe how you interpret the plots and the information provided by R.\n",
    "\n",
    "In the process of completing this project, you will want to save your plots to files so you can add them to your PowerPoint presentation. You can do this in R-Studio as follows: After you have created the plot, click the `Export` button at the top of the Plots pane. Then click on the `Save as Image...` menu. This brings up a dialog box in which you can choose the image format, the directory (folder) in which the image will be saved, and the name of the image file.\n",
    "\n",
    "<div class=\"panel panel-success\">\n",
    "    <div class=\"panel-heading\">\n",
    "        <h3 class=\"panel-title\">Additional Info!</h3>\n",
    "    </div>\n",
    "    <div class=\"panel-body\">\n",
    "        <p>If you would like a review of the tasks that will be in this final hands-on, please watch <a href=\"https://vimeo.com/413822263\"> this recorded workshop!</a></p>\n",
    "    </div>\n",
    "</div>\n",
    "\n",
    "---\n",
    "## Requirements\n",
    "\n",
    "For this Final Project, you will use the Cigarette data set in the Ecdat package. To do this, you first must install the Ecdat package with the command\n",
    "\n",
    "`install.packages(\"Ecdat\")`\n",
    "\n",
    "To make this package accessible to your R session, type the command\n",
    "\n",
    "`library(Ecdat)`\n",
    "\n",
    "You should now be able to see the Cigarette data frame:\n",
    "\n",
    "`head(Cigarette)`\n",
    "\n",
    "```text\n",
    "state year   cpi      pop   packpc    income  tax    avgprs     taxs\n",
    "\n",
    "1    AL 1985 1.076  3973000 116.4863  46014968 32.5 102.18167 33.34834\n",
    "\n",
    "2    AR 1985 1.076  2327000 128.5346  26210736 37.0 101.47500 37.00000\n",
    "\n",
    "3    AZ 1985 1.076  3184000 104.5226  43956936 31.0 108.57875 36.17042\n",
    "\n",
    "4    CA 1985 1.076 26444000 100.3630 447102816 26.0 107.83734 32.10400\n",
    "\n",
    "5    CO 1985 1.076  3209000 112.9635  49466672 31.0  94.26666 31.00000\n",
    "\n",
    "6    CT 1985 1.076  3201000 109.2784  60063368 42.0 128.02499 51.48333\n",
    "```\n",
    "\n",
    "Each row provides data about a given state in a given year. This data set has the following variables:\n",
    "\n",
    "-  **state**: the two letter abbreviation for the state.\n",
    "-  **year**: the year.\n",
    "-  **cpi**: consumer price index for the year.\n",
    "-  **pop**: state population\n",
    "-  **packpc**: average number of packs of cigarettes per capita per year\n",
    "-  **income**: total state personal income.\n",
    "-  **tax**: average state, federal, and average local excise taxes for fiscal year.\n",
    "-  **avgprs**: average price per pack during fiscal year, including sales taxes, in cents.\n",
    "-  **taxs**: average excise taxes per pack for fiscal year, including sales taxes, in cents.\n",
    "\n",
    "Complete the project by completing the following. Remember to document your process and your results in your PowerPoint presentation.\n",
    "\n",
    "-  Create a boxplot of the average number of packs per capita by state. Which states have the highest number of packs? Which have the lowest?\n",
    "\n",
    "-  Find the median over all the states of the number of packs per capita for each year. Plot this median value for the years from 1985 to 1995. What can you say about cigarette usage in these years?\n",
    "\n",
    "-  Create a scatter plot of price per pack vs number of packs per capita for all states and years.\n",
    "\n",
    "-  Are the price and the per capita packs positively correlated, negatively correlated, or uncorrelated? Explain why your answer would be expected.\n",
    "\n",
    "-  Change your scatter plot to show the points for each year in a different color. Does the relationship between the two variable change over time?\n",
    "\n",
    "-  Do a linear regression for these two variables. How much variability does the line explain?\n",
    "\n",
    "-  The plot above does not adjust for inflation. You can adjust the price of a pack of cigarettes for inflation by dividing the avgprs variable by the cpi variable. Create an adjusted price for each row, then re-do your scatter plot and linear regression using this adjusted price.\n",
    "\n",
    "-  Create a data frame with just the rows from 1985. Create a second data frame with just the rows from 1995. Then, from each of these data frames, get a vector of the number of packs per capita. Use a paired t-test to see if the number of packs per capita in 1995 was significantly different than the number of packs per capita in 1985.\n",
    "\n",
    "-  In the process of doing this project, have any questions come to mind that this data set could answer? If so, pick one and do the analysis to find the answer to your question.\n",
    "\n",
    "<div class=\"panel panel-danger\">\n",
    "    <div class=\"panel-heading\">\n",
    "        <h3 class=\"panel-title\">Caution!</h3>\n",
    "    </div>\n",
    "    <div class=\"panel-body\">\n",
    "        <p>Be sure to zip and submit your entire document when finished!</p>\n",
    "    </div>\n",
    "</div>\n",
    "\n",
    "<div class=\"panel panel-info\">\n",
    "    <div class=\"panel-heading\">\n",
    "        <h3 class=\"panel-title\">Tip!</h3>\n",
    "    </div>\n",
    "    <div class=\"panel-body\">\n",
    "        <p>To zip your file on <b>Windows</b>, right click on the file and select \"Send to\", then select \"Compressed (zipped) folder\". For <b>Mac</b> users, right click on the file and select \"Compress\", then select your file from the options.</p>\n",
    "    </div>\n",
    "</div>\n"
   ]
  }
 ],
 "metadata": {
  "kernelspec": {
   "display_name": "Python 3 (ipykernel)",
   "language": "python",
   "name": "python3"
  },
  "language_info": {
   "codemirror_mode": {
    "name": "ipython",
    "version": 3
   },
   "file_extension": ".py",
   "mimetype": "text/x-python",
   "name": "python",
   "nbconvert_exporter": "python",
   "pygments_lexer": "ipython3",
   "version": "3.8.12"
  }
 },
 "nbformat": 4,
 "nbformat_minor": 5
}
