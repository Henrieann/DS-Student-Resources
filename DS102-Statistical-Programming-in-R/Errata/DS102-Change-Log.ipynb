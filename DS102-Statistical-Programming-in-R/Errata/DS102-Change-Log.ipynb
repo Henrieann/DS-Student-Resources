{
 "cells": [
  {
   "cell_type": "markdown",
   "id": "dc8bc06c-333f-4dc9-9e0f-9749dbbf078c",
   "metadata": {},
   "source": [
    "# Change Log\n",
    "\n",
    "1.  ~~DS102L2P3, Add Chocolatey Caution, [DS102L2P3](../DS102L2.ipynb#Chocolatey), [UAT Link](https://wozu.uat.exeterlms.com/lesson/50152/topic/828552), [Jira Ticket Number](https://woz-u-projects.atlassian.net/browse/CUR-1892)~~\n",
    "2.  ~~DS102L2P4, Add Homebrew Caution, [DS102L2P4](../DS102L2.ipynb#Homebrew), [UAT Link](https://wozu.uat.exeterlms.com/lesson/50152/topic/828553), [Jira Ticket Number](https://woz-u-projects.atlassian.net/browse/CUR-1893)~~\n",
    "3.  ~~DS102L9P3, Changing African to Africa, [DS102L9P3](../DS102L9.ipynb#AfricanClean), [UAT Link](https://wozu.uat.exeterlms.com/lesson/50152/topic/828553), [Jira Ticket Number](https://woz-u-projects.atlassian.net/browse/CUR-1939)~~\n",
    "4. DS102L3P3, Run button explanation, [DS102L3P3](../DS102L3.ipynb#Run_button), [Jira ticket link](https://woz-u-projects.atlassian.net/browse/CUR-1941)\n",
    "5. DS102L9P3, Remove '+' sign from Example. Second code example listed under \"Using grid.arrange()\" currently had code example that listed ```life_exp <- ggplot(gm_AfricaClean) + geom_line(aes(x = year, y = lifeExp, color = country)) + \n",
    "GDP <- ggplot(gm_AfricaClean) + geom_line(aes(x = year, y = gdpPercap, color = country)) + ylab(\"Life Expectancy\")\n",
    "grid.arrange(life_exp, GDP, ncol = 1)```, when it will not run like this. The ```+``` needs to be removed at the end of the first statement,  [DS102L9P3](../DS102L9.ipynb#Run_button), [Jira ticket link](https://woz-u-projects.atlassian.net/browse/CUR-1980)\n",
    "\n",
    "#TODO\n",
    "1. fix the L5 Hands on with more concise verbiage\n",
    "2. create a L5 hands on helper (one with a vector, one with dataframe)"
   ]
  },
  {
   "cell_type": "markdown",
   "id": "1094168c-7e08-489a-b51a-69a47e2b29dc",
   "metadata": {},
   "source": [
    "# anchor for errata link"
   ]
  },
  {
   "cell_type": "markdown",
   "id": "3a213eb2-5123-41e2-bacd-1a591150b473",
   "metadata": {},
   "source": [
    "### [Errata](Errata/DS102-Change-Log.ipynb)\n",
    "<a class=\"anchor\" id=\"____\"></a>"
   ]
  }
 ],
 "metadata": {
  "kernelspec": {
   "display_name": "Python 3 (ipykernel)",
   "language": "python",
   "name": "python3"
  },
  "language_info": {
   "codemirror_mode": {
    "name": "ipython",
    "version": 3
   },
   "file_extension": ".py",
   "mimetype": "text/x-python",
   "name": "python",
   "nbconvert_exporter": "python",
   "pygments_lexer": "ipython3",
   "version": "3.9.10"
  }
 },
 "nbformat": 4,
 "nbformat_minor": 5
}
