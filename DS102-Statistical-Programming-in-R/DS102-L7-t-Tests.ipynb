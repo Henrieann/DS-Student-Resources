{
 "cells": [
  {
   "cell_type": "markdown",
   "id": "50e6ddbb-52d3-4a02-9b69-100a4181e3b0",
   "metadata": {},
   "source": [
    "# DS102 Statistical Programming in R : Lesson Seven - t-Tests"
   ]
  },
  {
   "cell_type": "markdown",
   "id": "d1bd4bfc-9b15-4b80-87b4-b8b60eb56371",
   "metadata": {},
   "source": [
    "### Table of Contents <a class=\"anchor\" id=\"DS102L7_toc\"></a>\n",
    "\n",
    "* [Table of Contents](#DS102L7_toc)\n",
    "    * [Page 1 - Introduction](#DS102L7_page_1)\n",
    "    * [Page 2 - Single Sample t-Tests](#DS102L7_page_2)\n",
    "    * [Page 3 - Independent t-Tests](#DS102L7_page_3)\n",
    "    * [Page 4 - Dependent t-Tests](#DS102L7_page_4)\n",
    "    * [Page 5 - Key Terms and R Commands](#DS102L7_page_5)\n",
    "    * [Page 6 - Hands On](#DS102L7_page_6)    "
   ]
  },
  {
   "cell_type": "markdown",
   "id": "ef5a8c65-ed48-4354-a257-e01b0fd733d4",
   "metadata": {},
   "source": [
    "<hr style=\"height:10px;border-width:0;color:gray;background-color:gray\">\n",
    "\n",
    "# Page 1 - Introduction<a class=\"anchor\" id=\"DS102L7_page_1\"></a>\n",
    "\n",
    "[Back to Top](#DS102L7_toc)\n",
    "\n",
    "<hr style=\"height:10px;border-width:0;color:gray;background-color:gray\">"
   ]
  },
  {
   "cell_type": "code",
   "execution_count": 1,
   "id": "0989e3a2-de55-4067-89c6-d8bb507bf753",
   "metadata": {},
   "outputs": [
    {
     "data": {
      "text/html": [
       "\n",
       "        <iframe\n",
       "            width=\"720\"\n",
       "            height=\"480\"\n",
       "            src=\"https://player.vimeo.com/video/331822046\"\n",
       "            frameborder=\"0\"\n",
       "            allowfullscreen\n",
       "        ></iframe>\n",
       "        "
      ],
      "text/plain": [
       "<IPython.lib.display.VimeoVideo at 0x7ffc28101460>"
      ]
     },
     "execution_count": 1,
     "metadata": {},
     "output_type": "execute_result"
    }
   ],
   "source": [
    "from IPython.display import VimeoVideo\n",
    "# Tutorial Video Name: T-Tests\n",
    "VimeoVideo('331822046', width=720, height=480)"
   ]
  },
  {
   "cell_type": "markdown",
   "id": "5b6ad526-95fa-43c4-bc43-1fe807708ed3",
   "metadata": {},
   "source": [
    "The transcript for the above overview video **[is located here](https://repo.exeterlms.com/documents/V2/DataScience/Video-Transcripts/DSO102L07overview.zip)**.\n",
    "\n",
    "In this lesson, you will use a built-in function ```t.test()``` that automates all three types of *t*-tests. Pay close attention to the details, because all that sets these three tests apart in R are the different arguments that they use.  \n",
    "\n",
    "By the end of this lesson, you should be able to perform: \n",
    "\n",
    "* Single sample *t*-tests\n",
    "* Independent *t*-tests\n",
    "* Dependent *t*-tests\n",
    "* Checking for *t* test assumption of normality using a histogram and/or QQ plot\n",
    "\n",
    "Your hands on for this lesson will put both your data manipulation and your *t* test skills to the test as you determine how temperatures have changed in New Hampshire over the years."
   ]
  },
  {
   "cell_type": "markdown",
   "id": "7990ac7a-5a2f-4744-af14-1b7e385ea484",
   "metadata": {},
   "source": [
    "<hr style=\"height:10px;border-width:0;color:gray;background-color:gray\">\n",
    "\n",
    "# Page 2 - Single Sample t-Tests<a class=\"anchor\" id=\"DS102L7_page_2\"></a>\n",
    "\n",
    "[Back to Top](#DS102L7_toc)\n",
    "\n",
    "<hr style=\"height:10px;border-width:0;color:gray;background-color:gray\">\n"
   ]
  },
  {
   "cell_type": "code",
   "execution_count": 2,
   "id": "045e7e1f-8d5c-46b7-a545-c7554e5c8aeb",
   "metadata": {},
   "outputs": [
    {
     "data": {
      "text/html": [
       "\n",
       "        <iframe\n",
       "            width=\"720\"\n",
       "            height=\"480\"\n",
       "            src=\"https://player.vimeo.com/video/328682696\"\n",
       "            frameborder=\"0\"\n",
       "            allowfullscreen\n",
       "        ></iframe>\n",
       "        "
      ],
      "text/plain": [
       "<IPython.lib.display.VimeoVideo at 0x7ffc487909d0>"
      ]
     },
     "execution_count": 2,
     "metadata": {},
     "output_type": "execute_result"
    }
   ],
   "source": [
    "from IPython.display import VimeoVideo\n",
    "# Tutorial Video Name: T-Tests\n",
    "VimeoVideo('328682696', width=720, height=480)"
   ]
  },
  {
   "cell_type": "markdown",
   "id": "612429df-e4ef-4d85-8460-5bc8914079c3",
   "metadata": {},
   "source": [
    "The transcript for the above topic tutorial video **[is located here](https://repo.exeterlms.com/documents/V2/DataScience/Video-Transcripts/DSO102-L07-pg2tutorial.zip)**.\n",
    "\n",
    "# Hypothesis Tests on the Mean\n",
    "\n",
    "One of the difficulties of learning statistics and analysis is that there is a bewildering array of hypothesis tests; each one applies to slightly different circumstances. They are all useful and important, but it can be a real trial trying to figure out which test applies to your particular data set.\n",
    "\n",
    "In this section, you will use R to implement hypothesis tests for the following circumstances:\n",
    "\n",
    "1.  Single Sample *t*-test: Testing the mean of a single population\n",
    ">Based on a sample, is the mean of a population equal to a value or not equal to a value?\n",
    "\n",
    "2.  Independent *t*-test: Testing the mean of two populations \n",
    ">Based on two samples, are the means of two populations equal to each other?\n",
    "\n",
    "3.  Dependent *t*-test: Testing the mean of two populations using paired data\n",
    ">Based on two samples, where each observation in one sample is related to a specific observation in the other sample, are the means of the two populations equal to each other?\n",
    "\n",
    "---\n",
    "\n",
    "## T-test for One Sample\n",
    "\n",
    "You will start with scenario one: testing the mean of a single population. \n",
    "\n",
    "You can use the ```t.test()``` function to perform a hypothesis test on the mean. Recall that to perform a hypothesis test, you create a null hypothesis and then determine if your data give you evidence to reject the null hypotheses.\n",
    "\n",
    "For this example, you will use the **[frostedflakes data set](https://repo.exeterlms.com/documents/V2/DataScience/Stat-Prog-R/frostedflakes.zip)**. Import this data, and then you should now be able to access the ```frostedflakes``` dataset:\n",
    "\n",
    "```{r}\n",
    "head(frostedflakes)\n",
    "```\n",
    "\n",
    "```text\n",
    "Lab IA400\n",
    "\n",
    "1 36.3 35.1\n",
    "\n",
    "2 33.2 35.9\n",
    "\n",
    "3 39.0 40.1\n",
    "\n",
    "4 37.3 35.5\n",
    "\n",
    "5 40.7 37.9\n",
    "\n",
    "6 38.4 39.5\n",
    "```\n",
    "\n",
    "This is a frame with two variables: ```Lab```, which contains the percentage of sugar measured in a 25 gram sample of Frosted Flakes using a laboratory high performance liquid chromatography technique, and ```IA400```, which contains the percentage of sugar in the same sample measured by a machine (the Infra-Analyzer 400).\n",
    "\n",
    "According to the nutritional information supplied with Frosted Flakes, the sugar percentage by weight is 37%. You will create a hypothesis test to see if the data set provides evidence to the contrary. To set up the hypothesis test, define the null and alternate hypotheses as follows:\n",
    "\n",
    "![H sub zero, mu equals thirty seven. H sub one, mu does not equal thirty seven.](Media/L08-OnePopH.png)\n",
    "\n",
    "You will now see if your data provide evidence that you should reject the null hypothesis by using a *t*-test. In R, you will use the following commands: \n",
    "\n",
    "```{r}\n",
    "t_obj <- t.test(frostedflakes$Lab, mu = 37)\n",
    "print(t_obj)\n",
    "```\n",
    "\n",
    "You will save the object returned by ```t.test()``` in the variable ```t_obj```, then print this object.  The arguments for ```t.test()``` are the name of the dataset, ```frostedflakes```, followed by the variable you are testing in the dataset ```Lab```, followed by the argument ```mu=```.  Remember that mu is the population mean, so it is the number you want to test against.  In this case, you want to see if the sample sugar percentage is 37% or not, so that will be your ```mu=``` value here. This code yields the following output:\n",
    "\n",
    "```text\n",
    "One Sample t-test\n",
    "\n",
    "data: frostedflakes$Lab\n",
    "\n",
    "t = 2.4155, df = 99, p-value = 0.01755\n",
    "\n",
    "alternative hypothesis: true mean is not equal to 37\n",
    "\n",
    "95 percent confidence interval:\n",
    "\n",
    "37.10642 38.08558\n",
    "\n",
    "sample estimates:\n",
    "\n",
    "mean of x\n",
    "\n",
    "37.596\n",
    "```\n",
    "\n",
    "The object includes a lot of information. For your current purposes of doing a hypothesis test, you will focus on the following two lines:\n",
    "\n",
    "```text\n",
    "t = 2.4155, df = 99, p-value = 0.01755\n",
    "\n",
    "alternative hypothesis: true mean is not equal to 37\n",
    "```\n",
    "\n",
    "The second line confirms that you have set up the test correctly: the alternate hypothesis is that mu, the true mean, is not equal to 37. The first line gives you a lot of information. The first part tells you that the *t*-score computed using the hypothesized mean of 37 is 2.4155.\n",
    "\n",
    "The last part gives you the *p*-value for this test: 0.01755. The *p*-value is an indication of whether the data provide evidence that you should reject the null hypothesis. The smaller the *p*-value, the stronger the evidence that you should reject the null hypothesis.\n",
    "\n",
    "Generally, data scientists compare the *p*-value to a threshold of 0.05 to determine whether to reject the null hypothesis; in this case, the *p*-value is 0.01755, which is smaller than 0.05, so you should reject the null hypothesis. You have decided that the percentage of sugar in frosted flakes is not equal to 37%.\n",
    "\n",
    "The fact that the mean of the measured values is 37.596 gives you some evidence that the percentage of sugar is somewhat higher than 37%.\n",
    "\n",
    "You can also see a graphical interpretation of this test. In the plot below, there is a histogram of the data with the 95% confidence interval computed by ```t.test()``` in red; you also show the value of mu for the null hypothesis in green. You've seen the first three lines of the code below before; it's standard for histograms.  But the last three lines are new.  The function ```geom_vline()``` plots vertical lines on the graph, and they are plotted at values of the ```xintercept=``` argument.  You can pull these directly from the ```t.test()``` function by providing the object name followed by the name of the information in the ```t.test()``` output.  ```conf.int[1]``` is the lower confidence level, ```conf.int[2]``` is the upper confidence level, and ```null.value``` is the mean. \n",
    "\n",
    "```{r}\n",
    "d <- ggplot(frostedflakes, aes(x = Lab))\n",
    "d + geom_histogram(binwidth = 1) +\n",
    "geom_vline(xintercept = t_obj$conf.int[1], color = \"red\") +\n",
    "geom_vline(xintercept = t_obj$conf.int[2], color = \"red\") +\n",
    "geom_vline(xintercept = t_obj$null.value, color = \"green\")\n",
    "```\n",
    "\n",
    "This code will yield this image:\n",
    "\n",
    "![A histogram of data with the 95% confidence interval computed by t dot test open parentheses close parentheses in red. The value of mu for the null hypothesis is in green.](Media/L08-HistPlusCIT-Test.png)\n",
    "\n",
    "Note that the value of mu for the null hypotheses (which is 37) is not in the 95% confidence interval. Roughly speaking, this indicates that the probability that 37 is the true value of the mean is lower than 5%. This tells you that you have strong evidence to reject the null hypothesis, which states that the true value of the mean is 37.\n",
    "\n",
    "When using the *t*-test, it is always a good idea to check to see if your data have an approximate normal distribution. You can check to see if the ```Lab``` variable in the ```frostedflakes``` data set is normal by creating the normal probability plot for it:\n",
    "\n",
    "```{r}\n",
    "ggplot(frostedflakes, aes(sample = Lab)) + geom_qq()\n",
    "```\n",
    "\n",
    "![A normal probability plot. The x axis is labeled theoretical and runs from approximately negative two point seven five to approximately two point seven five in increments of one starting at negative two. The y axis is labeled sample and runs from approximately twenty eight to forty eight. Data is plotted in more or less a straight line running from the bottom left to the upper right.](Media/L08-NormalProbPlotFlakes.png)\n",
    "\n",
    "The data fall pretty much on a straight line, so you can conclude that they come from a normal distribution and the hypothesis test is built on solid assumptions.  This can also be seen in the histogram above; it looks approximately bell shaped.\n",
    "\n",
    "---\n",
    "\n",
    "## Review\n",
    "Below is a quiz to review the recently covered material. Quizzes are _not_ graded."
   ]
  },
  {
   "cell_type": "code",
   "execution_count": 1,
   "id": "f4d13299-efb8-4085-b809-862b4ef72ca3",
   "metadata": {},
   "outputs": [],
   "source": [
    "try:\n",
    "    from DS_Students import MultipleChoice\n",
    "    from ipynb.fs.full.DS102Questions import *\n",
    "except:\n",
    "    !pip install DS_Students\n",
    "    from DS_Students import MultipleChoice\n",
    "    from ipynb.fs.full.DS102Questions import *"
   ]
  },
  {
   "cell_type": "code",
   "execution_count": 2,
   "id": "3ed5084b-6872-4816-af14-ddbfaaf38e78",
   "metadata": {},
   "outputs": [
    {
     "data": {
      "application/vnd.jupyter.widget-view+json": {
       "model_id": "d18988248cb64fe88a385e80b3be15c2",
       "version_major": 2,
       "version_minor": 0
      },
      "text/plain": [
       "VBox(children=(Output(outputs=({'name': 'stdout', 'text': '1. Google gives the level of Lake Huron as 577 feet…"
      ]
     },
     "metadata": {},
     "output_type": "display_data"
    },
    {
     "data": {
      "application/vnd.jupyter.widget-view+json": {
       "model_id": "7177b5a4bc6b4d99bbce73fd9b97653c",
       "version_major": 2,
       "version_minor": 0
      },
      "text/plain": [
       "VBox(children=(Output(outputs=({'name': 'stdout', 'text': '2. What is the p-value for this t-test?\\n', 'output…"
      ]
     },
     "metadata": {},
     "output_type": "display_data"
    },
    {
     "data": {
      "application/vnd.jupyter.widget-view+json": {
       "model_id": "742f58cc5eed4433b59a891b3c37f9ef",
       "version_major": 2,
       "version_minor": 0
      },
      "text/plain": [
       "VBox(children=(Output(outputs=({'name': 'stdout', 'text': '3. Based on the p-value you chose, does this data p…"
      ]
     },
     "metadata": {},
     "output_type": "display_data"
    },
    {
     "data": {
      "application/vnd.jupyter.widget-view+json": {
       "model_id": "0f82e0e517774b289ec3cabe9cda0394",
       "version_major": 2,
       "version_minor": 0
      },
      "text/plain": [
       "VBox(children=(Output(outputs=({'name': 'stdout', 'text': '4. What function would you use to add vertical line…"
      ]
     },
     "metadata": {},
     "output_type": "display_data"
    }
   ],
   "source": [
    "try:\n",
    "    display(L7P2Q1, L7P2Q2, L7P2Q3, L7P2Q4)\n",
    "except:\n",
    "    pass"
   ]
  },
  {
   "cell_type": "markdown",
   "id": "832358fd-55fa-420a-8aa2-46fbf2097986",
   "metadata": {},
   "source": [
    "<hr style=\"height:10px;border-width:0;color:gray;background-color:gray\">\n",
    "\n",
    "# Page 3 - Independent t-Tests<a class=\"anchor\" id=\"DS102L7_page_3\"></a>\n",
    "\n",
    "[Back to Top](#DS102L7_toc)\n",
    "\n",
    "<hr style=\"height:10px;border-width:0;color:gray;background-color:gray\">\n"
   ]
  },
  {
   "cell_type": "code",
   "execution_count": 3,
   "id": "18770e9f-3dc1-477e-bcdf-ee1d2ccde4f6",
   "metadata": {},
   "outputs": [
    {
     "data": {
      "text/html": [
       "\n",
       "        <iframe\n",
       "            width=\"720\"\n",
       "            height=\"480\"\n",
       "            src=\"https://player.vimeo.com/video/328682607\"\n",
       "            frameborder=\"0\"\n",
       "            allowfullscreen\n",
       "        ></iframe>\n",
       "        "
      ],
      "text/plain": [
       "<IPython.lib.display.VimeoVideo at 0x7ffc280bb8e0>"
      ]
     },
     "execution_count": 3,
     "metadata": {},
     "output_type": "execute_result"
    }
   ],
   "source": [
    "from IPython.display import VimeoVideo\n",
    "# Tutorial Video Name: T-Tests\n",
    "VimeoVideo('328682607', width=720, height=480)"
   ]
  },
  {
   "cell_type": "markdown",
   "id": "f564e3e7-3a7f-4936-b3a3-2e0a9ab78512",
   "metadata": {},
   "source": [
    "The transcript for the above topic tutorial video **[is located here](https://repo.exeterlms.com/documents/V2/DataScience/Video-Transcripts/DSO102-L07-pg3tutorial.zip)**.\n",
    "\n",
    "# *t*-Test for Two Independent Samples\n",
    "\n",
    "You will use the frosted flakes data again. Suppose you now want to determine if the measurements made by the IA-400 give us the same average values as the lab measurements. To do this, you will think of the measurements in the data set as coming from two populations: one population is the lab measurements, and the other is the IA-400 measurements. \n",
    "\n",
    "Define the null and alternative hypotheses as follows:\n",
    "\n",
    "![H sub zero, mu sub one equals mu sub two. H sub one, mu sub one does not equal mu sub two.](Media/L08-TwoPopH.png)\n",
    "\n",
    "The null hypothesis is that the two sample means are equal, and the alternative hypothesis is that the two sample means differ.  This is a two-sided *t*-test.\n",
    "\n",
    "You will use ```t.test()``` to create a test on the two sample means; in this case, each sample is an argument to ```t_test()```. As before, you save the object returned by ```t.test()``` into a variable ( this one is named ```t_ind```), then print that object. There  are two other arguments included in ```t.test()``` as well.  The first is ```alternative=```.  Your options are ```\"two.sided\"``` for a two-tailed hypothesis test, or ```\"greater\"``` and ```\"less\"``` for a one-tailed test, each for the particular direction you are hypothesizing for the one-tailed test.  The last argument is ```var.equal=``` and the options for this are only ```TRUE``` or ```FALSE```.  This is very similar to the different independent *t* test options you receive in MS Excel; one type is for when you have homogeneity, or equal, variance, and the other is for when you have heterogeneous (unequal) variance.  If you don't know, or don't want to bother to find out, just make sure to use the ```FALSE``` option.  If you were to leave off the ```var.equal=``` argument altogether, the ```FALSE``` option would be the default.\n",
    "\n",
    "```{r}\n",
    "t_ind <- t.test(frostedflakes$Lab, frostedflakes$IA400, alternative=\"two.sided\", var.equal=FALSE)\n",
    "print(t_ind)\n",
    "```\n",
    "\n",
    "The code above yields the following output.  You get a reminder that you have chosen unequal variance, because this is a *Welch Two Sample t-Test*:\n",
    "\n",
    "```text\n",
    "Welch Two Sample t-test\n",
    "\n",
    "data: frostedflakes$Lab and frostedflakes$IA400\n",
    "\n",
    "t = -1.6699, df = 195.08, p-value = 0.09654\n",
    "\n",
    "alternative hypothesis: true difference in means is not equal to 0\n",
    "\n",
    "95 percent confidence interval:\n",
    "\n",
    "-1.3565905 0.1125905\n",
    "\n",
    "sample estimates:\n",
    "\n",
    "mean of x mean of y\n",
    "\n",
    "37.596 38.218\n",
    "```\n",
    "\n",
    "The output here reminds you what data you ran (handy if you are running lots of tests in quick succession!) and then provides information about the *t* test itself, including the *t* and *p* values associated with the test and the degrees of freedom. Remember that if the *p* value is less than .05, you can reject the null hypothesis, and there is a significant difference between the groups.  Since your *p* value is .09, that is greater than .05, and there is no statistically significant difference between the sugar content measured in the lab and with the machine. \n",
    "\n",
    "The next line helps you determine that you have set up the test correctly. Your alternate hypothesis is that the two population means are not equal; if they are not equal, the difference of one subtracted from the other will not be zero.\n",
    "\n",
    "---\n",
    "\n",
    "## Graphing Data for an Independent *t* Test\n",
    "\n",
    "You can see graphically what is going on in this test by creating a box plot for the ```Lab``` values and comparing it to a box plot for the ```IA400``` values. To create this plot with ```ggplot()```, you need the data values to be in one column of the data frame, and a label of whether it was a measurement taken in the lab or by machine in the other column of the data frame. The simplest way to create such a data frame is with the ```melt()``` function from the ```reshape2``` package. \n",
    "\n",
    "First install and then load the ```reshape2``` package:\n",
    "\n",
    "```{r}\n",
    "library(reshape2)\n",
    "ff <- melt(frostedflakes, id=\"X\")\n",
    "```\n",
    "\n",
    "The result from this command is: \n",
    "\n",
    "![The result, shown in a data frame, from using the melt function from the re shape two package. There are two columns, variable and value, and seventeen rows. The variable for each row is always lab, and the value for each row varies. The values range from a low to thirty three point two to a high of forty three point five.](Media/correlation12.png)\n",
    "\n",
    "See how the columns are no longer labeled ```Lab``` and ```IA400```? Now which column it came from is denoted in the ```variable``` column, and the actual number that used to be contained within those columns is under a new column labeled ```value```. \n",
    "\n",
    "With your data happily reformatted, you can then proceed onto the box plot: \n",
    "\n",
    "```{r}\n",
    "ggplot(ff) + geom_boxplot(aes(x = variable, y = value)) +\n",
    "xlab(\"Test Method\") + ylab(\"Percentage of Sugar\")\n",
    "```\n",
    "\n",
    "![A box plot for two groups, lab and I A four hundred. The y axis is labeled percentage of sugar and ranges from thirty to just above forty five. There are two box plots, one for the lab group and one for the I A four hundred group. The IA400 group has a somewhat different median value than the Lab group, and the IA400 group has a larger variation as evidenced by the longer whiskers and the larger box. However, there is not a large difference in the median values.](Media/L08-BoxPlotsFlakes.png)\n",
    "\n",
    "As you can see from this plot, the ```IA400``` group has a somewhat different median value than the ```Lab``` group, and the ```IA400``` group has a larger variation as evidenced by the longer whiskers and the larger box. However, there is not a large difference in the median values. So it makes sense that the *t*-test would not indicate that there is strong evidence that the two means are different.\n",
    "\n",
    "---\n",
    "\n",
    "## Review\n",
    "Below is a quiz to review the recently covered material. Quizzes are _not_ graded."
   ]
  },
  {
   "cell_type": "code",
   "execution_count": 3,
   "id": "1bf2b6ad-ea77-4773-92ca-ea2cdf5e93d6",
   "metadata": {},
   "outputs": [
    {
     "data": {
      "application/vnd.jupyter.widget-view+json": {
       "model_id": "f2e161973cf949ae8b7d3291b5401797",
       "version_major": 2,
       "version_minor": 0
      },
      "text/plain": [
       "VBox(children=(Output(outputs=({'name': 'stdout', 'text': '1. Which of the following is \\x1b[1mNOT\\x1b[0m an a…"
      ]
     },
     "metadata": {},
     "output_type": "display_data"
    },
    {
     "data": {
      "application/vnd.jupyter.widget-view+json": {
       "model_id": "2e56d18e86cb4ae7917640980e0ddf5b",
       "version_major": 2,
       "version_minor": 0
      },
      "text/plain": [
       "VBox(children=(Output(outputs=({'name': 'stdout', 'text': '2. The \\x1b[31;1mDAAG\\x1b[0m package has data on th…"
      ]
     },
     "metadata": {},
     "output_type": "display_data"
    },
    {
     "data": {
      "application/vnd.jupyter.widget-view+json": {
       "model_id": "5ff4dd893bf44f0cb88f72aa632d6cfe",
       "version_major": 2,
       "version_minor": 0
      },
      "text/plain": [
       "VBox(children=(Output(outputs=({'name': 'stdout', 'text': '3. What is the p-value for this t-test?\\n', 'output…"
      ]
     },
     "metadata": {},
     "output_type": "display_data"
    },
    {
     "data": {
      "application/vnd.jupyter.widget-view+json": {
       "model_id": "7ab6d78aaa334d08af549b6d269e879a",
       "version_major": 2,
       "version_minor": 0
      },
      "text/plain": [
       "VBox(children=(Output(outputs=({'name': 'stdout', 'text': '4. Based on the p-value above, does this data provi…"
      ]
     },
     "metadata": {},
     "output_type": "display_data"
    }
   ],
   "source": [
    "try:\n",
    "    display(L7P3Q1, L7P3Q2, L7P3Q3, L7P3Q4)\n",
    "except:\n",
    "    pass"
   ]
  },
  {
   "cell_type": "markdown",
   "id": "bb1aade2-59af-4cbc-b5ed-da31e39f266d",
   "metadata": {},
   "source": [
    "<hr style=\"height:10px;border-width:0;color:gray;background-color:gray\">\n",
    "\n",
    "# Page 4 - Dependent t-Tests<a class=\"anchor\" id=\"DS102L7_page_4\"></a>\n",
    "\n",
    "[Back to Top](#DS102L7_toc)\n",
    "\n",
    "<hr style=\"height:10px;border-width:0;color:gray;background-color:gray\">\n"
   ]
  },
  {
   "cell_type": "code",
   "execution_count": 4,
   "id": "92b2417e-9b0b-49f8-99e3-d2e30f68b787",
   "metadata": {},
   "outputs": [
    {
     "data": {
      "text/html": [
       "\n",
       "        <iframe\n",
       "            width=\"720\"\n",
       "            height=\"480\"\n",
       "            src=\"https://player.vimeo.com/video/328682569\"\n",
       "            frameborder=\"0\"\n",
       "            allowfullscreen\n",
       "        ></iframe>\n",
       "        "
      ],
      "text/plain": [
       "<IPython.lib.display.VimeoVideo at 0x7ffc281016a0>"
      ]
     },
     "execution_count": 4,
     "metadata": {},
     "output_type": "execute_result"
    }
   ],
   "source": [
    "from IPython.display import VimeoVideo\n",
    "# Tutorial Video Name: T-Tests\n",
    "VimeoVideo('328682569', width=720, height=480)"
   ]
  },
  {
   "cell_type": "markdown",
   "id": "eba2ed6e-98dd-43f7-8761-6ecc9a13af08",
   "metadata": {},
   "source": [
    "The transcript for the above topic tutorial video **[is located here](https://repo.exeterlms.com/documents/V2/DataScience/Video-Transcripts/DSO102-L07-pg4tutorial.zip)**.\n",
    "\n",
    "# Paired *t*-Test for Two Samples\n",
    "\n",
    "Sometimes, you have two samples in which each value in one sample has a connection with a value in the other sample. In this section you will use the following example of two connected populations: \n",
    "\n",
    ">An instructor is required to find out how much students learn in her course. At the beginning of the course, she randomly selects a group of students in her course, and gives each student in this group a pre-test over the class material and records their scores. At the end of the course, she gives each student in the group the same test as a post-test.\n",
    "\n",
    "She wants to see if the difference in scores is statistically significant; in other words, she wants to see if, on average, each student's scores improved. In this case, you have two populations: her class at the beginning of the course and her class at the end of the course. The populations are made up of the same people, but hopefully their level of expertise is different at the end of the course than at the beginning.\n",
    "\n",
    "When there is a one-to-one relationship between elements of two populations, a dependent, or paired, *t*-test is appropriate to determine whether the means of the two populations are different. In this case, you will call the students at the beginning of the course Population 1, and the students at the end of the course Population 2. Your hypothesis test looks the same as in the previous section:\n",
    "\n",
    "![H sub zero, mu sub two minus mu sub one equals eight. H sub one, mu sub two minus mu sub one does not equal eight.](Media/L08-TwoPopHPaired.png)\n",
    "\n",
    "The difference, however, is that the two samples are paired.\n",
    "\n",
    "The scores for the tests are in **[this file](https://repo.exeterlms.com/documents/V2/DataScience/Stat-Prog-R/scores.zip)**. \n",
    "\n",
    "Read it into a data frame using code or the wizard and then store this data frame in the variable scores as follows:\n",
    "\n",
    "```{r}\n",
    "scores <- read.csv(\"scores.csv\")\n",
    "head(scores)\n",
    "```\n",
    "\n",
    "<div class=\"panel panel-danger\">\n",
    "    <div class=\"panel-heading\">\n",
    "        <h3 class=\"panel-title\">Caution!</h3>\n",
    "    </div>\n",
    "    <div class=\"panel-body\">\n",
    "        <p>You will get an error when you import the data if the file is not in your current working directory. As you learned previously, you can change your working directory by using the menu: Session -> Set Working Directory -> Choose Directory.</p>\n",
    "    </div>\n",
    "</div>\n",
    "\n",
    "Here's the head of the data:\n",
    "\n",
    "```\n",
    "Student.Number pretest postest\n",
    "\n",
    "1 1 13 24\n",
    "\n",
    "2 2 10 17\n",
    "\n",
    "3 3 11 22\n",
    "\n",
    "4 4 14 21\n",
    "\n",
    "5 5 16 25\n",
    "\n",
    "6 6 10 23\n",
    "```\n",
    "\n",
    "This shows you that the data frame has three variables: ```Student.Number```, ```pretest```, and ```postest```. ```pretest``` and ```postest``` contain the beginning and ending test scores.\n",
    "\n",
    "Use ```t.test()``` to perform the test on the two samples.  The very crucial part of this code, which sets it apart from its Single Sample and Independent fellows, is the ```paired=``` argument. It must be set to ```TRUE``` or an independent *t* test will be run instead. Here is the code:\n",
    "\n",
    "```{r}\n",
    "t_dep <- t.test(scores$postest, scores$pretest, paired = TRUE)\n",
    "t_dep\n",
    "```\n",
    "\n",
    "And the output that is provided by R: \n",
    "\n",
    "```\n",
    "Paired t-test\n",
    "\n",
    "data: scores$postest and scores$pretest\n",
    "\n",
    "t = 18.569, df = 33, p-value < 2.2e-16\n",
    "\n",
    "alternative hypothesis: true difference in means is not equal to 0\n",
    "\n",
    "95 percent confidence interval:\n",
    "\n",
    "7.411558 9.235501\n",
    "\n",
    "sample estimates:\n",
    "\n",
    "mean of the differences\n",
    "\n",
    "8.323529\n",
    "```\n",
    "\n",
    "The meat and potatoes of this output is really these two lines:\n",
    "\n",
    "```\n",
    "t = 18.569, df = 33, p-value < 2.2e-16\n",
    "\n",
    "alternative hypothesis: true difference in means is not equal to 0\n",
    "```\n",
    "\n",
    "The second line verifies that the alternative hypothesis is that the difference in the population means is not equal to zero, or equivalently that the two population means are not equal to each other. The first line gives you the *p*-value; you reject the null hypothesis if the *p*-value is sufficiently small. The *p*-value for this test is so small it is given in scientific notation; written as a decimal, it is 0.00000000000000022. This is a very small number, and in particular, it is much smaller than 0.05, so you can say that the data give you strong evidence that you can reject the null hypothesis and that the two population means are not equal.\n",
    "\n",
    "---\n",
    "\n",
    "## Graphing Data for an Dependent *t* Test\n",
    "\n",
    "You will graph the dependent *t* test data the same way you did the independent *t* test. First you'll need to reshape the data using ```melt()```.  You'll use an extra argument to ```melt()``` because there are more than two variables present in your dataset.  When you did this for the ```frostedflakes``` dataset, there were only two columns, so R had no confusion about which two to move around.  But here, with the added variable of ```Student.Number```, you need to let R know that you want to fill the variable column with ```pretest``` and ```postest```.  This is done using the ```measure.vars=``` argument.\n",
    "\n",
    "```{r}\n",
    "library(reshape2)\n",
    "ss <- melt(scores, measure.vars = c(\"pretest\", \"postest\"))\n",
    "```\n",
    "\n",
    "And here is how the data ends up being formatted: \n",
    "\n",
    "![A data frame showing three columns, student number, variable, and value. There are seventeen rows. They student number for each row is the same as the row number, one through seventeen. The variable for each row is pretest. The value for each row varies, from a low of seven to a high of sixteen.](Media/correlation13.png)\n",
    "\n",
    "See how ```Student.Number``` is untouched, but that you know have those same pre-determined columns of ```variable``` and ```value```? Now you're ready to plot your data. You can make box plots of the pretest and postest data values as follows:\n",
    "\n",
    "```{r}\n",
    "ggplot(ss) + geom_boxplot(aes(x = variable, y = value)) +\n",
    "xlab(\"Test\") + ylab(\"Score\")\n",
    "```\n",
    "\n",
    "And here is the result! You can see that rejecting the null hypothesis was clearly the right decision. The median of the postest scores is much higher than the median of the pretest scores. \n",
    "\n",
    "![A box plot for two tests, pretest and postest. The y axis is labeled score and runs from just under five to twenty five. The median of the pretest scores is approximately eleven. The median of the post test scores is much higher, approximately twenty two.](Media/L08-BoxPlotsScores.png)\n",
    "\n",
    "---\n",
    "\n",
    "### Graphing the Difference Scores\n",
    "\n",
    "Another way to graph these data is to compute the difference between the ```postest``` score and the ```pretest``` score for each student, and create a histogram for this difference. You can do this as follows:\n",
    "\n",
    "```{r}\n",
    "dd <- scores$postest - scores$pretest\n",
    "df <- data.frame(dd)\n",
    "ggplot(df, aes(x = dd)) + geom_histogram(binwidth = 1) +\n",
    "xlab(\"Difference between postest and pretest\")\n",
    "```\n",
    "\n",
    "The first part of the code subtracts the ```pretest``` scores from the ```postest``` scores, and then it is turned into a data frame with the command ```data.frame```. Then it's business as usual for a histogram, with this result: \n",
    "\n",
    "![A histogram. The x axis is labeled difference between postest and pretest and runs from zero to approximately eighteen. The y axis is labeled count and runs from zero to six. Vertical bars of various heights are plotted.](Media/L08-HistScores.png)\n",
    "\n",
    "From this histogram of differences, you can see that the post-test score for most students was between 5 and 13 points higher than the pretest score.\n",
    "\n",
    "---\n",
    "\n",
    "## Summary\n",
    "\n",
    "*t*-tests are quite handy for when your sample size is relatively small and you are looking to determine a difference between means.  The type of *t*-test depends on the means you want to compare.  If you are comparing a sample to a population mean, then choose a single sample *t*-test.  If you are comparing two unrelated samples, then choose an independent *t*-test.  And if you are comparing two related samples, then you'll want to chose a dependent *t*-test. \n",
    "\n",
    "R makes *t*-testing so very easy with the function ```t.test()```, which can handle all three types. It also provides you with means and confidence intervals for your *t*-tests, which is a big help.   \n",
    "\n",
    "---\n",
    "\n",
    "## Review\n",
    "Below is a quiz to review the recently covered material. Quizzes are _not_ graded."
   ]
  },
  {
   "cell_type": "code",
   "execution_count": 5,
   "id": "d731d216-13a0-454e-8140-4c81e930c01f",
   "metadata": {},
   "outputs": [
    {
     "data": {
      "application/vnd.jupyter.widget-view+json": {
       "model_id": "23c5739bace842dbb700bf838c58755a",
       "version_major": 2,
       "version_minor": 0
      },
      "text/plain": [
       "VBox(children=(Output(outputs=({'name': 'stdout', 'text': '1. Which of the following turns \\x1b[31;1mt.test\\x1…"
      ]
     },
     "metadata": {},
     "output_type": "display_data"
    },
    {
     "data": {
      "application/vnd.jupyter.widget-view+json": {
       "model_id": "e131ef6bdbc140bf8c96f7d1746cdda0",
       "version_major": 2,
       "version_minor": 0
      },
      "text/plain": [
       "VBox(children=(Output(outputs=({'name': 'stdout', 'text': '2. True or False?\\n\\nThe \\x1b[31;1mmelt()\\x1b[0m fu…"
      ]
     },
     "metadata": {},
     "output_type": "display_data"
    }
   ],
   "source": [
    "try:\n",
    "    display(L7P4Q1, L7P4Q2)\n",
    "except:\n",
    "    pass"
   ]
  },
  {
   "cell_type": "markdown",
   "id": "ead4ad3c-2fe6-457e-8924-1410e951bebd",
   "metadata": {},
   "source": [
    "<hr style=\"height:10px;border-width:0;color:gray;background-color:gray\">\n",
    "\n",
    "# Page 5 - Key Terms and R commands <a class=\"anchor\" id=\"DS102L7_page_5\"></a>\n",
    "\n",
    "[Back to Top](#DS102L7_toc)\n",
    "\n",
    "<hr style=\"height:10px;border-width:0;color:gray;background-color:gray\">\n"
   ]
  },
  {
   "cell_type": "markdown",
   "id": "bbbc06a2-e702-47a1-942f-cbcbe31221a7",
   "metadata": {},
   "source": [
    "# Key Terms\n",
    "\n",
    "Below is a list and short description of the important keywords learned in this lesson. Please read through and go back and review any concepts you do not fully understand. Great Work!\n",
    "\n",
    "<table class=\"table table-striped\">\n",
    "    <tr>\n",
    "        <th>Keyword</th>\n",
    "        <th>Description</th>\n",
    "    </tr>\n",
    "    <tr>\n",
    "        <td style=\"font-weight: bold;\" nowrap>Welch's Two Sample t-Test</td>\n",
    "        <td>A type of t-test done when variance is unequal.</td>\n",
    "    </tr>\n",
    "</table>\n",
    "\n",
    "---\n",
    "\n",
    "# Key R Commands\n",
    "\n",
    "<table class=\"table table-striped\">\n",
    "    <tr>\n",
    "        <th>Keyword</th>\n",
    "        <th>Description</th>\n",
    "    </tr>\n",
    "    <tr>\n",
    "        <td style=\"font-weight: bold;\" nowrap>t.test()</td>\n",
    "        <td>Computes a t-test.</td>\n",
    "    </tr>\n",
    "    <tr>\n",
    "        <td style=\"font-weight: bold;\" nowrap>mu=</td>\n",
    "        <td>Argument to t.test() that specifies the population mean for a single sample t-test.</td>\n",
    "    </tr>\n",
    "    <tr>\n",
    "        <td style=\"font-weight: bold;\" nowrap>geom_vline()</td>\n",
    "        <td>Argument to ggplot() that creates a vertical line on a plot.</td>\n",
    "    </tr>\n",
    "    <tr>\n",
    "        <td style=\"font-weight: bold;\" nowrap>xintercept()</td>\n",
    "        <td>Argument to geom_vline() that specifies where on the x axis the vertical line should be placed.</td>\n",
    "    </tr>\n",
    "    <tr>\n",
    "        <td style=\"font-weight: bold;\" nowrap>alternative=</td>\n",
    "        <td>Argument to t.test() that specifies whether the hypothesis is one or two sided. Options are: \"two.sided\", \"greater\", or \"less\". </td>\n",
    "    </tr>\n",
    "    <tr>\n",
    "        <td style=\"font-weight: bold;\" nowrap>var.equal=</td>\n",
    "        <td>Argument to t.test() that specifies whether the test should assume equal variance or not.  FALSE does not assume equal variance, while TRUE does.</td>\n",
    "    </tr>\n",
    "    <tr>\n",
    "        <td style=\"font-weight: bold;\" nowrap>library(reshape2)</td>\n",
    "        <td>Loads the package reshape2, which has many functions for wrangling data into the right format. </td>\n",
    "    </tr>\n",
    "    <tr>\n",
    "        <td style=\"font-weight: bold;\" nowrap>melt()</td>\n",
    "        <td>Takes data that comes in two labeled columns and changes it so that one column has the label, and the other has the actual value . </td>\n",
    "    </tr>\n",
    "    <tr>\n",
    "        <td style=\"font-weight: bold;\" nowrap>paired=TRUE</td>\n",
    "        <td>Argument to t.test() that specifies this is a dependent t-test. </td>\n",
    "    </tr>\n",
    "</table>\n"
   ]
  },
  {
   "cell_type": "code",
   "execution_count": null,
   "id": "b903d883-75bd-4490-8dcd-9e0276f03064",
   "metadata": {},
   "outputs": [],
   "source": []
  },
  {
   "cell_type": "markdown",
   "id": "649aa00d-0eee-4b01-a6ac-b81305b9870a",
   "metadata": {},
   "source": [
    "<hr style=\"height:10px;border-width:0;color:gray;background-color:gray\">\n",
    "\n",
    "# Page 6 - Lesson 7 Hands On <a class=\"anchor\" id=\"DS102L7_page_6\"></a>\n",
    "\n",
    "[Back to Top](#DS102L7_toc)\n",
    "\n",
    "<hr style=\"height:10px;border-width:0;color:gray;background-color:gray\">"
   ]
  },
  {
   "cell_type": "code",
   "execution_count": 6,
   "id": "4894b710-bee9-4b96-afe4-e16d3a6748cb",
   "metadata": {},
   "outputs": [
    {
     "data": {
      "text/html": [
       "\n",
       "        <iframe\n",
       "            width=\"720\"\n",
       "            height=\"480\"\n",
       "            src=\"https://player.vimeo.com/video/411258489\"\n",
       "            frameborder=\"0\"\n",
       "            allowfullscreen\n",
       "        ></iframe>\n",
       "        "
      ],
      "text/plain": [
       "<IPython.lib.display.VimeoVideo at 0x7ffc48790f10>"
      ]
     },
     "execution_count": 6,
     "metadata": {},
     "output_type": "execute_result"
    }
   ],
   "source": [
    "from IPython.display import VimeoVideo\n",
    "# Tutorial Video Name: T-Tests\n",
    "VimeoVideo('411258489', width=720, height=480)"
   ]
  },
  {
   "cell_type": "markdown",
   "id": "f5a1b15f-8e92-4ded-8865-d8d0224dc654",
   "metadata": {},
   "source": [
    "For this hands on, you will be calculating the answer to several questions. This Hands-On **will** be graded, so be sure you complete all requirements. Please provide your R script file as well as a document that discusses the bullet points below.\n",
    "\n",
    "<div class=\"panel panel-danger\">\n",
    "    <div class=\"panel-heading\">\n",
    "        <h3 class=\"panel-title\">Caution!</h3>\n",
    "    </div>\n",
    "    <div class=\"panel-body\">\n",
    "        <p>Do not submit your project until you have completed all requirements, as you will not be able to resubmit.</p>\n",
    "    </div>\n",
    "</div>\n",
    "\n",
    "---\n",
    "## Requirements\n",
    "\n",
    "The ```nhtemp``` built-in data set gives the mean annual temperature in New Haven, CT, for the years 1912 to 1971.\n",
    "\n",
    "Suppose you want to test whether the average over the first 25 years (1912 to 1936) of the data is statistically significantly different than the average over the last 25 years (1947 to 1971) of the data set. You create two vectors from the data set: ```first25``` and ```last25```, using the following code:\n",
    "\n",
    "```{r}\n",
    "first25 <- nhtemp[1:25]\n",
    "last25 <- nhtemp[36:60]\n",
    "```\n",
    "\n",
    "Compute a test to see if these two vectors have the same mean. \n",
    "\n",
    "What type of *t*-test should you use? \n",
    "\n",
    "* Single sample\n",
    "* Independent \n",
    "* Dependent \n",
    "\n",
    "<div class=\"cc-content-answer\">\n",
    "   <p><strong>Hover your mouse pointer here to check your answer</strong>.</p>\n",
    "   <div class=\"well cc-content-answer-hidden\">\n",
    "       The correct answer is Dependent t-test!\n",
    "   </div>\n",
    "</div>\n",
    "\n",
    "Within a text document, discuss the following: \n",
    "\n",
    "* The problem to be solved\n",
    "* The hypotheses \n",
    "* The results of the hypothesis test and the conclusion\n",
    ">What is the *p*-value for this test? Based on this *p*-value, do you reject the null hypothesis?\n",
    "\n",
    "<div class=\"panel panel-danger\">\n",
    "    <div class=\"panel-heading\">\n",
    "        <h3 class=\"panel-title\">Caution!</h3>\n",
    "    </div>\n",
    "    <div class=\"panel-body\">\n",
    "        <p>Be sure to zip and submit all your files when finished!</p>\n",
    "    </div>\n",
    "</div>\n",
    "\n",
    "<div class=\"panel panel-info\">\n",
    "    <div class=\"panel-heading\">\n",
    "        <h3 class=\"panel-title\">Tip!</h3>\n",
    "    </div>\n",
    "    <div class=\"panel-body\">\n",
    "        <p>To zip your file on <b>Windows</b>, right click on the file and select \"Send to\", then select \"Compressed (zipped) folder\". For <b>Mac</b> users, right click on the file and select \"Compress\", then select your file from the options.</p>\n",
    "    </div>\n",
    "</div>"
   ]
  },
  {
   "cell_type": "code",
   "execution_count": null,
   "id": "3551c96a-c021-4029-9f9f-1e6d8d94b9b5",
   "metadata": {},
   "outputs": [],
   "source": []
  }
 ],
 "metadata": {
  "kernelspec": {
   "display_name": "Python 3 (ipykernel)",
   "language": "python",
   "name": "python3"
  },
  "language_info": {
   "codemirror_mode": {
    "name": "ipython",
    "version": 3
   },
   "file_extension": ".py",
   "mimetype": "text/x-python",
   "name": "python",
   "nbconvert_exporter": "python",
   "pygments_lexer": "ipython3",
   "version": "3.9.9"
  }
 },
 "nbformat": 4,
 "nbformat_minor": 5
}
