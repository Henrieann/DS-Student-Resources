{
 "cells": [
  {
   "cell_type": "markdown",
   "id": "628cd7d1-ab8c-454d-b4c1-275b6ee99576",
   "metadata": {},
   "source": [
    "## A look at VARIABLES in R\n",
    "\n",
    "### Nolan Hardeman\n",
    "\n",
    "A variable can be really any order of letters and numbers. It becomes a 'variable' whenever you assign it value. \n",
    "\n",
    "Take this example:\n",
    "\n",
    "You have a blank script, an empty sheet, or cell. What variables do you have? __None__\n",
    "\n",
    "Now in your script/cell enter these variables: x = 3, y = 4, z = -2, firstName = \"your first name\" (_IMPORTANT: Do not forget to include quotations around your string data._), lastName = \"your last name\""
   ]
  },
  {
   "cell_type": "code",
   "execution_count": 1,
   "id": "fde32e4f-efe5-470d-8a40-8c3a93479baa",
   "metadata": {},
   "outputs": [],
   "source": [
    "x = 9\n",
    "y = 4\n",
    "z = -3\n",
    "firstName = \"Bob\"\n",
    "lastName = \"Hope\""
   ]
  },
  {
   "cell_type": "markdown",
   "id": "8a758edd-7596-4d78-ab24-d84312abe3c7",
   "metadata": {},
   "source": [
    "#### _It is worth stopping and taking a second to think about this: Until we ran the above cell the letters x, y, z and the letters comprising firstName and lastName did not hold any value. They were of no consequence to the script. That is until we made them VARIABLES._\n",
    "\n",
    "As algebra and logic hold, variables are like any regular number and we can preform most manipulative operations (addition, subtraction, multiplication, etc.) on them, providing the data types match. __i.e.: you cannot add numeric data to string data.__ There is no solution, nor logic where a path to understanding x + firstName makes any sense. Try to solve 3 + Bob\n",
    "\n",
    "#### Keeping this in mind, let's perform several of these operations"
   ]
  },
  {
   "cell_type": "code",
   "execution_count": 2,
   "id": "fbc70c42-0241-41db-a646-f3ab7063acdf",
   "metadata": {},
   "outputs": [],
   "source": [
    "## What is the fullName?"
   ]
  },
  {
   "cell_type": "markdown",
   "id": "a3b024aa-d233-4751-8055-90b8009bebc6",
   "metadata": {},
   "source": [
    "We can combine firstName and lastName with the paste function, like such:"
   ]
  },
  {
   "cell_type": "code",
   "execution_count": 3,
   "id": "dfcfe472-54d1-4c79-bb42-ceaf1923198f",
   "metadata": {},
   "outputs": [
    {
     "data": {
      "text/html": [
       "'Bob Hope'"
      ],
      "text/latex": [
       "'Bob Hope'"
      ],
      "text/markdown": [
       "'Bob Hope'"
      ],
      "text/plain": [
       "[1] \"Bob Hope\""
      ]
     },
     "metadata": {},
     "output_type": "display_data"
    }
   ],
   "source": [
    "paste(firstName, lastName)"
   ]
  },
  {
   "cell_type": "code",
   "execution_count": 4,
   "id": "ebc9b721-1da3-4124-afc5-5723c4b90429",
   "metadata": {},
   "outputs": [],
   "source": [
    "## Find the sum, difference of xz and y, and product of x * y * z. Find the quotient of xy/z."
   ]
  },
  {
   "cell_type": "code",
   "execution_count": 5,
   "id": "6a1b9b41-6a5d-40f7-8ec9-0a295843c5d8",
   "metadata": {},
   "outputs": [
    {
     "data": {
      "text/html": [
       "10"
      ],
      "text/latex": [
       "10"
      ],
      "text/markdown": [
       "10"
      ],
      "text/plain": [
       "[1] 10"
      ]
     },
     "metadata": {},
     "output_type": "display_data"
    }
   ],
   "source": [
    "# sum\n",
    "x + y + z"
   ]
  },
  {
   "cell_type": "code",
   "execution_count": 6,
   "id": "7a57830b-a0d7-4493-a689-b902b3fe2f5e",
   "metadata": {},
   "outputs": [
    {
     "data": {
      "text/html": [
       "-31"
      ],
      "text/latex": [
       "-31"
      ],
      "text/markdown": [
       "-31"
      ],
      "text/plain": [
       "[1] -31"
      ]
     },
     "metadata": {},
     "output_type": "display_data"
    }
   ],
   "source": [
    "# difference of xz and y\n",
    "(x * z) - y"
   ]
  },
  {
   "cell_type": "code",
   "execution_count": 7,
   "id": "41394ede-3395-4c02-883e-a98543f77dc4",
   "metadata": {},
   "outputs": [
    {
     "data": {
      "text/html": [
       "-108"
      ],
      "text/latex": [
       "-108"
      ],
      "text/markdown": [
       "-108"
      ],
      "text/plain": [
       "[1] -108"
      ]
     },
     "metadata": {},
     "output_type": "display_data"
    }
   ],
   "source": [
    "# product of x, y, and z\n",
    "x * y * z"
   ]
  },
  {
   "cell_type": "code",
   "execution_count": 8,
   "id": "fc0ce0e6-07c4-4481-8af7-ba3ae154ca60",
   "metadata": {},
   "outputs": [
    {
     "data": {
      "text/html": [
       "-12"
      ],
      "text/latex": [
       "-12"
      ],
      "text/markdown": [
       "-12"
      ],
      "text/plain": [
       "[1] -12"
      ]
     },
     "metadata": {},
     "output_type": "display_data"
    }
   ],
   "source": [
    "# quotient of xy and z\n",
    "(x * y) / z"
   ]
  },
  {
   "cell_type": "markdown",
   "id": "01d1a7a1-ad95-4e95-b16c-1968c1ac4d01",
   "metadata": {},
   "source": [
    "### Taking a quick glace at arithmetic in R"
   ]
  },
  {
   "cell_type": "code",
   "execution_count": 9,
   "id": "1758430d-82a4-4ce8-a246-7aa225cba031",
   "metadata": {},
   "outputs": [
    {
     "name": "stdout",
     "output_type": "stream",
     "text": [
      "[1] \"Addition of two numbers 29 and 13 is :  42\"\n",
      "[1] \"Subtracting Number 29 from 13 is :  16\"\n",
      "[1] \"Multiplication of two numbers 29 and 13 is :  377\"\n",
      "[1] \"Division of two numbers 29 and 13 is :  2.23076923076923\"\n",
      "[1] \"Integer Division of two numbers 29 and 13 is :  2\"\n",
      "[1] \"Exponent of two numbers 29 and 13 is :  10260628712958601216\"\n",
      "[1] \"Modulus of two numbers 29 and 13 is :  3\"\n"
     ]
    }
   ],
   "source": [
    "# Example for R Arithmetic Operators\n",
    "a <- 29\n",
    "b <- 13\n",
    "add <- a + b\n",
    "sub = a - b\n",
    "multi = a * b\n",
    "division = a / b\n",
    "Integer_Division = a %/% b\n",
    "exponent = a ^ b\n",
    "modulus = a %% b\n",
    "\n",
    "print(paste(\"Addition of two numbers 29 and 13 is : \", add))\n",
    "print(paste(\"Subtracting Number 29 from 13 is : \", sub))\n",
    "print(paste(\"Multiplication of two numbers 29 and 13 is : \", multi))\n",
    "print(paste(\"Division of two numbers 29 and 13 is : \", division))\n",
    "print(paste(\"Integer Division of two numbers 29 and 13 is : \", Integer_Division))\n",
    "print(paste(\"Exponent of two numbers 29 and 13 is : \", exponent))\n",
    "print(paste(\"Modulus of two numbers 29 and 13 is : \", modulus))"
   ]
  },
  {
   "cell_type": "code",
   "execution_count": 10,
   "id": "dd0e9eea-0df0-4499-8214-3a8c7b744cbf",
   "metadata": {},
   "outputs": [
    {
     "data": {
      "text/html": [
       "66"
      ],
      "text/latex": [
       "66"
      ],
      "text/markdown": [
       "66"
      ],
      "text/plain": [
       "[1] 66"
      ]
     },
     "metadata": {},
     "output_type": "display_data"
    },
    {
     "data": {
      "text/html": [
       "53"
      ],
      "text/latex": [
       "53"
      ],
      "text/markdown": [
       "53"
      ],
      "text/plain": [
       "[1] 53"
      ]
     },
     "metadata": {},
     "output_type": "display_data"
    }
   ],
   "source": [
    "# R sum function\n",
    "\n",
    "sum(1:11)\n",
    "\n",
    "sum(c(2,5,6,7,1,6,9,17))"
   ]
  },
  {
   "cell_type": "code",
   "execution_count": 11,
   "id": "3d28ae52-f459-4892-b631-6bda606666d7",
   "metadata": {},
   "outputs": [
    {
     "data": {
      "text/html": [
       "1.305"
      ],
      "text/latex": [
       "1.305"
      ],
      "text/markdown": [
       "1.305"
      ],
      "text/plain": [
       "[1] 1.305"
      ]
     },
     "metadata": {},
     "output_type": "display_data"
    }
   ],
   "source": [
    "# sum() function in R for input vector which has NA.\n",
    "\n",
    "x = c(1.234,2.342,-4.562,5.671,12.345,-14.567,17.874,-19.032,NA)\n",
    "\n",
    "sum(x,na.rm=TRUE)"
   ]
  },
  {
   "cell_type": "markdown",
   "id": "9c9b0717-cacf-47f2-a42d-f74f4634fa9c",
   "metadata": {},
   "source": [
    "[Reference](https://www.datasciencemadesimple.com/sum-function-in-r/#:~:text=%20Sum%20Function%20in%20R%20%E2%80%93%20sum%20%28%29,in%20R%20using%20sum%20%28%29%20function%20More%20)"
   ]
  },
  {
   "cell_type": "markdown",
   "id": "1f00ef75-31b4-4800-9674-f70087709750",
   "metadata": {},
   "source": [
    "### Time to take a look at functions!"
   ]
  },
  {
   "cell_type": "markdown",
   "id": "1ae29382-40bb-4043-bc76-d38f9fa6d0bc",
   "metadata": {},
   "source": [
    "What is a function? \n",
    "\n",
    "__A mathematical function is a rule that gives value of a dependent variable that corresponds to specified values of one or more independent variables. A function can be represented in several ways, such as by a table, a formula, or a graph.__ [Reference](https://www.sciencedirect.com/topics/mathematics/mathematical-function)\n",
    "\n",
    "Recall, the volume of a sphere can be represented mathematically by the formula: $$V = 4/3 * pi * r^{3}$$\n",
    "Where r is the radius of the sphere.\n",
    "\n",
    "We say that Volume is a function of the Radius.\n",
    "\n",
    "Suppose we have several spheres with their respective radii marked on the outside and our employer wants to know the volume of every sphere, the average volume, the average radius, the largest volume, and the mode of the volumes.\n",
    "\n",
    "_Sphere 1 has a radius of 12 cm._\n",
    "\n",
    "_Sphere 2 has a radius of 17 cm._\n",
    "\n",
    "_Sphere 3 has a radius of 14.5 cm._\n",
    "\n",
    "_Sphere 4 has a radius of 12 cm._\n",
    "\n",
    "_Sphere 5 has a radius of 9 cm._\n",
    "\n",
    "_Sphere 6 has a radius of 10 cm._\n",
    "\n",
    "_Sphere 7 has a radius of 19.25 cm._\n",
    "\n",
    "_Sphere 8 has a radius of 13 cm._\n",
    "\n",
    "_Sphere 9 has a radius of 16 cm._\n",
    "\n",
    "_Sphere 10 has a radius of 15.25 cm._"
   ]
  },
  {
   "cell_type": "code",
   "execution_count": 12,
   "id": "f8f69ba0-8c67-47c6-87b4-93425cea40b8",
   "metadata": {},
   "outputs": [
    {
     "name": "stdout",
     "output_type": "stream",
     "text": [
      "[1] 7238.229\n"
     ]
    }
   ],
   "source": [
    "# Sphere 1 Volume\n",
    "Volume1 = 4/3 * pi * (12)^(3) \n",
    "print(Volume1)"
   ]
  },
  {
   "cell_type": "code",
   "execution_count": 13,
   "id": "eae092b7-2733-4b0c-a90a-6946a5d7a991",
   "metadata": {},
   "outputs": [
    {
     "name": "stdout",
     "output_type": "stream",
     "text": [
      "[1] 20579.53\n"
     ]
    }
   ],
   "source": [
    "# Sphere 2 Volume\n",
    "Volume2 = 4/3 * pi * (17)^(3) \n",
    "print(Volume2)"
   ]
  },
  {
   "cell_type": "code",
   "execution_count": 14,
   "id": "0ce9c10f-0f6f-48ae-af9d-5241f141d3b2",
   "metadata": {},
   "outputs": [
    {
     "name": "stdout",
     "output_type": "stream",
     "text": [
      "[1] 12770.05\n"
     ]
    }
   ],
   "source": [
    "# Sphere 3 Volume\n",
    "Volume3 = 4/3 * pi * (14.5)^(3) \n",
    "print(Volume3)"
   ]
  },
  {
   "cell_type": "code",
   "execution_count": 15,
   "id": "6e0b0d86-5c73-41aa-b6df-0a0d8e0166de",
   "metadata": {},
   "outputs": [
    {
     "name": "stdout",
     "output_type": "stream",
     "text": [
      "[1] 7238.229\n"
     ]
    }
   ],
   "source": [
    "# Sphere 4 Volume\n",
    "Volume4 = 4/3 * pi * (12)^(3) \n",
    "print(Volume4)"
   ]
  },
  {
   "cell_type": "code",
   "execution_count": 16,
   "id": "65b577cb-2a88-42c8-b4b6-7035992377c4",
   "metadata": {},
   "outputs": [
    {
     "name": "stdout",
     "output_type": "stream",
     "text": [
      "[1] 3053.628\n"
     ]
    }
   ],
   "source": [
    "# Sphere 5 Volume\n",
    "Volume5 = 4/3 * pi * (9)^(3) \n",
    "print(Volume5)"
   ]
  },
  {
   "cell_type": "code",
   "execution_count": 17,
   "id": "5df817a0-d114-4067-ad54-dc970a21c308",
   "metadata": {},
   "outputs": [
    {
     "name": "stdout",
     "output_type": "stream",
     "text": [
      "[1] 4188.79\n"
     ]
    }
   ],
   "source": [
    "# Sphere 6 Volume\n",
    "Volume6 = 4/3 * pi * (10)^(3) \n",
    "print(Volume6)"
   ]
  },
  {
   "cell_type": "code",
   "execution_count": 18,
   "id": "8898a7c8-7a4e-427a-99e0-024dbe6e5485",
   "metadata": {},
   "outputs": [
    {
     "name": "stdout",
     "output_type": "stream",
     "text": [
      "[1] 29880.01\n"
     ]
    }
   ],
   "source": [
    "# Sphere 7 Volume\n",
    "Volume7 = 4/3 * pi * (19.25)^(3) \n",
    "print(Volume7)"
   ]
  },
  {
   "cell_type": "code",
   "execution_count": 19,
   "id": "705cc229-d8c3-4635-8b17-e66cdaff5faf",
   "metadata": {},
   "outputs": [
    {
     "name": "stdout",
     "output_type": "stream",
     "text": [
      "[1] 9202.772\n"
     ]
    }
   ],
   "source": [
    "# Sphere 8 Volume\n",
    "Volume8 = 4/3 * pi * (13)^(3) \n",
    "print(Volume8)"
   ]
  },
  {
   "cell_type": "code",
   "execution_count": 20,
   "id": "ed0d0768-a990-4e56-a92b-98d2f2403e84",
   "metadata": {},
   "outputs": [
    {
     "name": "stdout",
     "output_type": "stream",
     "text": [
      "[1] 17157.28\n"
     ]
    }
   ],
   "source": [
    "# Sphere 9 Volume\n",
    "Volume9 = 4/3 * pi * (16)^(3) \n",
    "print(Volume9)"
   ]
  },
  {
   "cell_type": "code",
   "execution_count": 21,
   "id": "1d27f4f9-1af9-43d6-8f21-81dc7bbad0ae",
   "metadata": {},
   "outputs": [
    {
     "name": "stdout",
     "output_type": "stream",
     "text": [
      "[1] 14855.87\n"
     ]
    }
   ],
   "source": [
    "# Sphere 10 Volume\n",
    "Volume10 = 4/3 * pi * (15.25)^(3) \n",
    "print(Volume10)"
   ]
  },
  {
   "cell_type": "markdown",
   "id": "c1e12f08-e158-44d8-a270-80427b6d6b21",
   "metadata": {},
   "source": [
    "### __Whew! That sure was tedious, even with the magic of copy and paste. There must be an easier, more efficient way of inserting our radii into this function we have predefined.__\n",
    "\n",
    "R has a spell for that: for loops are the answer!"
   ]
  },
  {
   "cell_type": "markdown",
   "id": "c9e841d9-c8ef-473a-a9f5-ab6048d5f7c6",
   "metadata": {},
   "source": [
    "#### quick reminder of our function\n",
    "$$V = 4/3 * pi * r^{3}$$\n",
    "#### time to make it an actual function within R using our tools, ironically called: functions"
   ]
  },
  {
   "cell_type": "code",
   "execution_count": 22,
   "id": "3c0c1efa-e119-4e72-8335-da5f03f71ebb",
   "metadata": {},
   "outputs": [],
   "source": [
    "## call it vol short for volume\n",
    "vol = function(r){4/3 * pi * (r)^(3)}"
   ]
  },
  {
   "cell_type": "markdown",
   "id": "f8bebe95-3192-4787-94a4-d21acc4a4ce8",
   "metadata": {},
   "source": [
    "##### This line of code takes the letters 'vol' and makes them into a function with the __function()__ function, containing 1 argument of r, representing __radius__. Inside the squiggly brackets is our actual mathematical calculation to find a specific volume, given its radius\n",
    "\n",
    "Next, make a vector containing all the different radii"
   ]
  },
  {
   "cell_type": "code",
   "execution_count": 23,
   "id": "6e01677d-9089-40b8-a0b8-5de008b4a7e7",
   "metadata": {},
   "outputs": [],
   "source": [
    "radii = c(12, 17, 14.5, 12, 9, 10, 19.25, 13, 16, 15.25)"
   ]
  },
  {
   "cell_type": "markdown",
   "id": "b2137dbb-1dda-4e28-8101-f63b1361d7aa",
   "metadata": {},
   "source": [
    "Finally you set end execute our for loop.\n",
    "\n",
    "A __for loop__ is a way of running the same function multiple times with a list of inputs that the __for loop__ _iterates, or loops_ through until completing the task or meeting a predetermined threshold"
   ]
  },
  {
   "cell_type": "code",
   "execution_count": 24,
   "id": "c992aa6e-4314-45ce-8b90-07bde934ca25",
   "metadata": {},
   "outputs": [
    {
     "name": "stdout",
     "output_type": "stream",
     "text": [
      "[1] 7238.229\n",
      "[1] 20579.53\n",
      "[1] 12770.05\n",
      "[1] 7238.229\n",
      "[1] 3053.628\n",
      "[1] 4188.79\n",
      "[1] 29880.01\n",
      "[1] 9202.772\n",
      "[1] 17157.28\n",
      "[1] 14855.87\n"
     ]
    }
   ],
   "source": [
    "## we can just loop our radii entries through the vol function we created and get the respective volumes\n",
    "for (r in radii){\n",
    "  print(vol(r))\n",
    "}"
   ]
  },
  {
   "cell_type": "markdown",
   "id": "b60b8070-9069-4a62-a43d-71ca0149bcf3",
   "metadata": {},
   "source": [
    "The above method is nice when it is just you, and you have a small list of values you are working with. If you were working in a team or perhaps quickly showing off your work to superiors, you provide context by including the original radius and some string data explaining the result."
   ]
  },
  {
   "cell_type": "code",
   "execution_count": 33,
   "id": "8af7eff5-c12d-41b0-8a35-6fe745f6b89f",
   "metadata": {},
   "outputs": [
    {
     "name": "stdout",
     "output_type": "stream",
     "text": [
      "A sphere with a radius of  12  centimeters has a volume of  7238.229  centimeters\n",
      "A sphere with a radius of  17  centimeters has a volume of  20579.53  centimeters\n",
      "A sphere with a radius of  14.5  centimeters has a volume of  12770.05  centimeters\n",
      "A sphere with a radius of  12  centimeters has a volume of  7238.229  centimeters\n",
      "A sphere with a radius of  9  centimeters has a volume of  3053.628  centimeters\n",
      "A sphere with a radius of  10  centimeters has a volume of  4188.79  centimeters\n",
      "A sphere with a radius of  19.25  centimeters has a volume of  29880.01  centimeters\n",
      "A sphere with a radius of  13  centimeters has a volume of  9202.772  centimeters\n",
      "A sphere with a radius of  16  centimeters has a volume of  17157.28  centimeters\n",
      "A sphere with a radius of  15.25  centimeters has a volume of  14855.87  centimeters\n"
     ]
    }
   ],
   "source": [
    "for (r in radii){\n",
    "  d = vol(r)\n",
    "  cat(\"A sphere with a radius of \", r, \" centimeters has a volume of \", d, \" centimeters\\n\")\n",
    "}\n",
    "## the \\n is to place each new output on a new line"
   ]
  },
  {
   "cell_type": "markdown",
   "id": "4feb578d-d048-4ca7-a6bd-e4f8970562ab",
   "metadata": {},
   "source": [
    "### But, what if...\n",
    "\n",
    "Suppose, you only cared the volumes of specific radii. Maybe your employer only wishes to know the volume if the radius is less than 15 cm, or perhaps, you are just asked to give the radii for volumes under 10,000 cm."
   ]
  },
  {
   "cell_type": "code",
   "execution_count": 34,
   "id": "eac4ab4e-f7c2-4446-b8ce-d0a7255e54cc",
   "metadata": {},
   "outputs": [
    {
     "name": "stdout",
     "output_type": "stream",
     "text": [
      "A radius of  12  gives a sphere volume of  7238.229  \n",
      "A radius of  14.5  gives a sphere volume of  12770.05  \n",
      "A radius of  12  gives a sphere volume of  7238.229  \n",
      "A radius of  9  gives a sphere volume of  3053.628  \n",
      "A radius of  10  gives a sphere volume of  4188.79  \n",
      "A radius of  13  gives a sphere volume of  9202.772  \n"
     ]
    }
   ],
   "source": [
    "## the volumes of the radii less than 15\n",
    "for (r in radii){\n",
    "  d =vol(r)\n",
    "if (r < 15){cat(\"A radius of \", r, \" gives a sphere volume of \", d, \" \\n\")}}"
   ]
  },
  {
   "cell_type": "code",
   "execution_count": 35,
   "id": "f9bec9e1-9522-4d23-a098-9fc6159d2862",
   "metadata": {},
   "outputs": [
    {
     "name": "stdout",
     "output_type": "stream",
     "text": [
      "[1] 12\n",
      "[1] 12\n",
      "[1] 9\n",
      "[1] 10\n",
      "[1] 13\n"
     ]
    }
   ],
   "source": [
    "## the raddii of the volumes under 10,000\n",
    "for (r in radii){\n",
    "  d =vol(r)\n",
    "if (d < 10000){print(r)}}"
   ]
  },
  {
   "cell_type": "code",
   "execution_count": 1,
   "id": "ad669928-508e-49dd-adbc-423b276630ae",
   "metadata": {},
   "outputs": [
    {
     "name": "stdout",
     "output_type": "stream",
     "text": [
      "[1] \"Are you not entertained?\"\n"
     ]
    }
   ],
   "source": [
    "print(\"Are you not entertained?\")"
   ]
  },
  {
   "cell_type": "code",
   "execution_count": null,
   "id": "cdc02f20-3518-49a4-a4c5-d8ac830074c6",
   "metadata": {},
   "outputs": [],
   "source": []
  }
 ],
 "metadata": {
  "kernelspec": {
   "display_name": "R",
   "language": "R",
   "name": "ir"
  },
  "language_info": {
   "codemirror_mode": "r",
   "file_extension": ".r",
   "mimetype": "text/x-r-source",
   "name": "R",
   "pygments_lexer": "r",
   "version": "4.1.2"
  }
 },
 "nbformat": 4,
 "nbformat_minor": 5
}
