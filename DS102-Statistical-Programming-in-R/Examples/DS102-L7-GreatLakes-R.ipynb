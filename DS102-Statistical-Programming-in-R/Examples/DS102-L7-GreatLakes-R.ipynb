{
 "cells": [
  {
   "cell_type": "markdown",
   "id": "ab7b1c8b-73ae-4f1b-8358-95b63bebd9e2",
   "metadata": {
    "tags": []
   },
   "source": [
    "## Great Lakes"
   ]
  },
  {
   "cell_type": "markdown",
   "id": "2c57977c-b936-4cd6-936d-012ae059eac6",
   "metadata": {},
   "source": [
    "The DAAG package has data on the levels of several Great Lakes; this data is in the greatLakes dataset. Suppose you want to know whether Lake Erie or Lake Huron has the higher level. You can set up a hypothesis test to do this as follows. First, load the DAAG package with library(DAAG). Then create two vectors with these commands: erie <- greatLakes[,1] and huron <- greatLakes[,2]. Use these vectors to create a hypothesis test to determine whether the two lake levels are equal. \n",
    "\n",
    "### What is the null hypothesis for this test?\n",
    "\n",
    "```R\n",
    "H0 = mean(erie) = mean(huron)\n",
    "```\n",
    "\n",
    "### What is the alternate hypothesis for this test?\n",
    "\n",
    "```R\n",
    "H1 = mean(erie) != mean(huron) \n",
    "```\n",
    "\n",
    "## Description\n",
    "Various data sets and functions used or referred to in the book Maindonald, J.H. and Braun, W.J.\n",
    "(3rd edn 2010) \"Data Analysis and Graphics Using R\", plus other selected datasets and functions.\n",
    "\n",
    "## Details\n",
    "For a list of , use \n",
    "```R\n",
    "library(help=\"DAAG\")\n",
    "```"
   ]
  },
  {
   "cell_type": "markdown",
   "id": "6c672798-c4ac-45d6-a9f3-7b3a4c408818",
   "metadata": {},
   "source": [
    "## where does the great lakes data come from? \n",
    "\n",
    "https://cran.r-project.org/web/packages/DAAG/index.html"
   ]
  },
  {
   "cell_type": "code",
   "execution_count": 40,
   "id": "e94af658-c1de-4952-8ea6-5d2b5672dde3",
   "metadata": {},
   "outputs": [
    {
     "name": "stdout",
     "output_type": "stream",
     "text": [
      "\n",
      "The downloaded binary packages are in\n",
      "\t/var/folders/wk/6why77bn1kn0l0pkd4vd3zl00000gn/T//RtmpZnA2ss/downloaded_packages\n"
     ]
    }
   ],
   "source": [
    "# install the package DAAG\n",
    "install.packages(\"DAAG\")"
   ]
  },
  {
   "cell_type": "code",
   "execution_count": 41,
   "id": "f9212b52-6ad2-464b-ab09-71e7ff03376f",
   "metadata": {},
   "outputs": [],
   "source": [
    "# use the package DAAG\n",
    "library(DAAG)"
   ]
  },
  {
   "cell_type": "code",
   "execution_count": 42,
   "id": "7450fd4d-ee51-4f23-af1a-fd561d8ac917",
   "metadata": {},
   "outputs": [
    {
     "data": {
      "text/html": [
       "<table class=\"dataframe\">\n",
       "<caption>A matrix: 6 × 4 of type dbl</caption>\n",
       "<thead>\n",
       "\t<tr><th scope=col>Erie</th><th scope=col>michHuron</th><th scope=col>Ontario</th><th scope=col>StClair</th></tr>\n",
       "</thead>\n",
       "<tbody>\n",
       "\t<tr><td>174.0150</td><td>176.8867</td><td>74.87250</td><td>174.9567</td></tr>\n",
       "\t<tr><td>174.1808</td><td>176.7450</td><td>74.95583</td><td>175.0767</td></tr>\n",
       "\t<tr><td>173.9083</td><td>176.6250</td><td>74.56750</td><td>174.8150</td></tr>\n",
       "\t<tr><td>174.0258</td><td>176.4883</td><td>74.66583</td><td>174.8692</td></tr>\n",
       "\t<tr><td>173.9275</td><td>176.4450</td><td>74.65667</td><td>174.8108</td></tr>\n",
       "\t<tr><td>173.7575</td><td>176.2642</td><td>74.44333</td><td>174.6525</td></tr>\n",
       "</tbody>\n",
       "</table>\n"
      ],
      "text/latex": [
       "A matrix: 6 × 4 of type dbl\n",
       "\\begin{tabular}{llll}\n",
       " Erie & michHuron & Ontario & StClair\\\\\n",
       "\\hline\n",
       "\t 174.0150 & 176.8867 & 74.87250 & 174.9567\\\\\n",
       "\t 174.1808 & 176.7450 & 74.95583 & 175.0767\\\\\n",
       "\t 173.9083 & 176.6250 & 74.56750 & 174.8150\\\\\n",
       "\t 174.0258 & 176.4883 & 74.66583 & 174.8692\\\\\n",
       "\t 173.9275 & 176.4450 & 74.65667 & 174.8108\\\\\n",
       "\t 173.7575 & 176.2642 & 74.44333 & 174.6525\\\\\n",
       "\\end{tabular}\n"
      ],
      "text/markdown": [
       "\n",
       "A matrix: 6 × 4 of type dbl\n",
       "\n",
       "| Erie | michHuron | Ontario | StClair |\n",
       "|---|---|---|---|\n",
       "| 174.0150 | 176.8867 | 74.87250 | 174.9567 |\n",
       "| 174.1808 | 176.7450 | 74.95583 | 175.0767 |\n",
       "| 173.9083 | 176.6250 | 74.56750 | 174.8150 |\n",
       "| 174.0258 | 176.4883 | 74.66583 | 174.8692 |\n",
       "| 173.9275 | 176.4450 | 74.65667 | 174.8108 |\n",
       "| 173.7575 | 176.2642 | 74.44333 | 174.6525 |\n",
       "\n"
      ],
      "text/plain": [
       "     Erie     michHuron Ontario  StClair \n",
       "[1,] 174.0150 176.8867  74.87250 174.9567\n",
       "[2,] 174.1808 176.7450  74.95583 175.0767\n",
       "[3,] 173.9083 176.6250  74.56750 174.8150\n",
       "[4,] 174.0258 176.4883  74.66583 174.8692\n",
       "[5,] 173.9275 176.4450  74.65667 174.8108\n",
       "[6,] 173.7575 176.2642  74.44333 174.6525"
      ]
     },
     "metadata": {},
     "output_type": "display_data"
    }
   ],
   "source": [
    "# ensure you can see the dataset greatLakes\n",
    "head(greatLakes)"
   ]
  },
  {
   "cell_type": "code",
   "execution_count": 43,
   "id": "29cf8ab5-67ff-4aaf-92b9-8cba9064cbbc",
   "metadata": {},
   "outputs": [
    {
     "data": {
      "text/html": [
       "<style>\n",
       ".list-inline {list-style: none; margin:0; padding: 0}\n",
       ".list-inline>li {display: inline-block}\n",
       ".list-inline>li:not(:last-child)::after {content: \"\\00b7\"; padding: 0 .5ex}\n",
       "</style>\n",
       "<ol class=list-inline><li>'Erie'</li><li>'michHuron'</li><li>'Ontario'</li><li>'StClair'</li></ol>\n"
      ],
      "text/latex": [
       "\\begin{enumerate*}\n",
       "\\item 'Erie'\n",
       "\\item 'michHuron'\n",
       "\\item 'Ontario'\n",
       "\\item 'StClair'\n",
       "\\end{enumerate*}\n"
      ],
      "text/markdown": [
       "1. 'Erie'\n",
       "2. 'michHuron'\n",
       "3. 'Ontario'\n",
       "4. 'StClair'\n",
       "\n",
       "\n"
      ],
      "text/plain": [
       "[1] \"Erie\"      \"michHuron\" \"Ontario\"   \"StClair\"  "
      ]
     },
     "metadata": {},
     "output_type": "display_data"
    }
   ],
   "source": [
    "# list column names\n",
    "colnames(greatLakes)"
   ]
  },
  {
   "cell_type": "code",
   "execution_count": 44,
   "id": "8bb45f7b-06a9-49e4-9fd3-678bd0fc3b92",
   "metadata": {},
   "outputs": [],
   "source": [
    "# extract Erie column and put it into a dataframe called erie\n",
    "erie <-greatLakes[,1]"
   ]
  },
  {
   "cell_type": "code",
   "execution_count": 45,
   "id": "a47c88e3-a4d7-4992-a514-0843736f4335",
   "metadata": {},
   "outputs": [
    {
     "name": "stdout",
     "output_type": "stream",
     "text": [
      "Time Series:\n",
      "Start = 1918 \n",
      "End = 2009 \n",
      "Frequency = 1 \n",
      " [1] 174.0150 174.1808 173.9083 174.0258 173.9275 173.7575 173.8433 173.5933\n",
      " [9] 173.6408 173.8183 173.9517 174.3117 174.2700 173.7050 173.7358 173.6767\n",
      "[17] 173.3317 173.4108 173.4883 173.8200 173.8408 173.8458 173.7950 173.7000\n",
      "[25] 173.8767 174.2317 174.0917 174.1883 174.1358 174.2350 174.2208 173.9733\n",
      "[33] 174.1350 174.3242 174.5200 174.3308 174.2883 174.3483 174.1200 174.0367\n",
      "[41] 173.8083 173.8500 174.0942 174.1008 173.9075 173.7267 173.6075 173.7125\n",
      "[49] 173.8992 174.0592 174.2042 174.3900 174.2583 174.3117 174.5000 174.7408\n",
      "[57] 174.6892 174.6158 174.5733 174.2975 174.3725 174.3917 174.5217 174.3983\n",
      "[65] 174.4250 174.5208 174.5225 174.7283 174.8983 174.6675 174.2617 174.2258\n",
      "[73] 174.2942 174.3267 174.3567 174.5042 174.3667 174.2842 174.3750 174.7175\n",
      "[81] 174.5508 174.1025 173.9900 173.9142 174.0583 173.9658 174.1158 174.1700\n",
      "[89] 174.1467 174.1392 174.1592 174.2483\n"
     ]
    }
   ],
   "source": [
    "# print the dataframe to ensure you have acurate information\n",
    "print(erie)"
   ]
  },
  {
   "cell_type": "code",
   "execution_count": 46,
   "id": "46592a5a-05f7-412a-815b-2d63a4ab6aca",
   "metadata": {},
   "outputs": [],
   "source": [
    "# extract michHuron column and put it into a dataframe called huron\n",
    "huron <-greatLakes[,2]"
   ]
  },
  {
   "cell_type": "code",
   "execution_count": 47,
   "id": "ff98da1f-e9e6-48bc-b314-019d94821663",
   "metadata": {},
   "outputs": [
    {
     "name": "stdout",
     "output_type": "stream",
     "text": [
      "Time Series:\n",
      "Start = 1918 \n",
      "End = 2009 \n",
      "Frequency = 1 \n",
      " [1] 176.8867 176.7450 176.6250 176.4883 176.4450 176.2642 176.1867 175.9192\n",
      " [9] 175.8850 176.1483 176.4433 176.8958 176.6508 176.1183 175.9408 175.8675\n",
      "[17] 175.7667 175.8908 175.9392 175.9225 176.1408 176.2692 176.1417 176.1217\n",
      "[25] 176.3342 176.6267 176.5967 176.5700 176.6017 176.5667 176.5308 176.2108\n",
      "[33] 176.2608 176.7358 177.0850 176.9333 176.8292 176.7225 176.4400 176.2633\n",
      "[41] 176.0675 176.0058 176.4775 176.3767 176.2225 175.9225 175.6825 175.9158\n",
      "[49] 176.1608 176.3008 176.4467 176.6958 176.6783 176.8050 176.8883 177.1233\n",
      "[57] 177.0933 176.9733 176.8992 176.5050 176.5908 176.7942 176.8033 176.6983\n",
      "[65] 176.5983 176.8333 176.8950 177.1267 177.2925 176.9700 176.5642 176.4008\n",
      "[73] 176.3500 176.4692 176.4792 176.6958 176.6783 176.5275 176.6542 176.9842\n",
      "[81] 176.7167 176.2358 175.9783 175.9508 176.1183 175.8917 176.1108 176.0900\n",
      "[89] 176.0158 175.9433 176.0050 176.2583\n"
     ]
    }
   ],
   "source": [
    "print(huron)"
   ]
  },
  {
   "cell_type": "code",
   "execution_count": 48,
   "id": "ece80b61-e864-4ac3-9076-cb9a8243edd5",
   "metadata": {},
   "outputs": [],
   "source": [
    "# conduct a two.sided t-test to determine if H0 or H1 is True\n",
    "t_ind <- t.test(erie, huron, alternative='two.sided', var.equal=FALSE)"
   ]
  },
  {
   "cell_type": "code",
   "execution_count": 49,
   "id": "32c99f1f-9f88-489c-993c-daf0e38f0ff5",
   "metadata": {},
   "outputs": [
    {
     "data": {
      "text/plain": [
       "\n",
       "\tWelch Two Sample t-test\n",
       "\n",
       "data:  erie and huron\n",
       "t = -44.455, df = 178, p-value < 2.2e-16\n",
       "alternative hypothesis: true difference in means is not equal to 0\n",
       "95 percent confidence interval:\n",
       " -2.398172 -2.194310\n",
       "sample estimates:\n",
       "mean of x mean of y \n",
       " 174.1382  176.4345 \n"
      ]
     },
     "metadata": {},
     "output_type": "display_data"
    }
   ],
   "source": [
    "t_ind"
   ]
  },
  {
   "cell_type": "code",
   "execution_count": 50,
   "id": "b0db9ab5-6ffa-4df6-9ae8-6cd121c2b111",
   "metadata": {},
   "outputs": [
    {
     "data": {
      "text/html": [
       "174.138233695652"
      ],
      "text/latex": [
       "174.138233695652"
      ],
      "text/markdown": [
       "174.138233695652"
      ],
      "text/plain": [
       "[1] 174.1382"
      ]
     },
     "metadata": {},
     "output_type": "display_data"
    }
   ],
   "source": [
    "# check the mean of erie just to double check that it's the x in the two sample t-test\n",
    "mean(erie)"
   ]
  },
  {
   "cell_type": "code",
   "execution_count": 51,
   "id": "b9df1411-6696-46d9-8a58-2514f653d593",
   "metadata": {},
   "outputs": [
    {
     "data": {
      "text/html": [
       "176.434474637681"
      ],
      "text/latex": [
       "176.434474637681"
      ],
      "text/markdown": [
       "176.434474637681"
      ],
      "text/plain": [
       "[1] 176.4345"
      ]
     },
     "metadata": {},
     "output_type": "display_data"
    }
   ],
   "source": [
    "# check the mean of huron just to double check that it's the y in the two sample t-test\n",
    "mean(huron)"
   ]
  },
  {
   "cell_type": "markdown",
   "id": "23003d6b-e400-4e51-8268-1a758b298544",
   "metadata": {},
   "source": [
    "The two means are not equal so the alternate hypothesis H1 that the two means are not equal is correct."
   ]
  },
  {
   "cell_type": "code",
   "execution_count": null,
   "id": "bf031687-d6ef-4f53-a21e-fd1029e3b87f",
   "metadata": {},
   "outputs": [],
   "source": []
  },
  {
   "cell_type": "code",
   "execution_count": 58,
   "id": "6cacc6a2-32ac-408f-ae89-a9a547dd08a3",
   "metadata": {},
   "outputs": [
    {
     "data": {
      "text/plain": [
       "Documentation for package ‘DAAG’\n",
       "\n",
       "\n",
       "\t\tInformation on package ‘DAAG’\n",
       "\n",
       "Description:\n",
       "\n",
       "Package:            DAAG\n",
       "Version:            1.24\n",
       "Title:              Data Analysis and Graphics Data and Functions\n",
       "Author:             John H. Maindonald and W. John Braun\n",
       "Maintainer:         W. John Braun <john.braun@ubc.ca>\n",
       "Description:        Various data sets used in examples and exercises in\n",
       "                    the book Maindonald, J.H. and Braun, W.J. (2003,\n",
       "                    2007, 2010) \"Data Analysis and Graphics Using R\".\n",
       "LazyLoad:           true\n",
       "LazyData:           true\n",
       "Depends:            R (>= 2.10.0), lattice\n",
       "Imports:            latticeExtra, methods\n",
       "Suggests:           leaps, oz, lme4, quantreg, knitr, boot, rpart,\n",
       "                    randomForest, MASS, survival\n",
       "ZipData:            yes\n",
       "License:            GPL-3\n",
       "VignetteBuilder:    knitr\n",
       "Repository:         CRAN\n",
       "NeedsCompilation:   no\n",
       "Packaged:           2020-03-09 17:23:53 UTC; braun\n",
       "Date/Publication:   2020-03-10 09:20:06 UTC\n",
       "Built:              R 4.1.0; ; 2021-05-26 14:11:46 UTC; unix\n",
       "\n",
       "Index:\n",
       "\n",
       "ACF1                    Aberrant Crypt Foci in Rat Colons\n",
       "CVbinary                Cross-Validation for Regression with a Binary\n",
       "                        Response\n",
       "CVlm                    Cross-Validation for Linear Regression\n",
       "Cars93.summary          A Summary of the Cars93 Data set\n",
       "DAAG-package            The R DAAG Package\n",
       "DAAGxdb                 List, each of whose elements hold rows of a\n",
       "                        file, in character format\n",
       "Lottario                Ontario Lottery Data\n",
       "Manitoba.lakes          The Nine Largest Lakes in Manitoba\n",
       "SP500W90                Closing Numbers for S and P 500 Index - First\n",
       "                        100 Days of 1990\n",
       "SP500close              Closing Numbers for S and P 500 Index\n",
       "ais                     Australian athletes data set\n",
       "align2D                 Function to align points from ordination with\n",
       "                        known locations\n",
       "allbacks                Measurements on a Selection of Books\n",
       "anesthetic              Anesthetic Effectiveness\n",
       "ant111b                 Averages by block of corn yields, for treatment\n",
       "                        111 only\n",
       "antigua                 Averages by block of yields for the Antigua\n",
       "                        Corn data\n",
       "appletaste              Tasting experiment that compared four apple\n",
       "                        varieties\n",
       "audists                 Road distances between 10 Australian cities\n",
       "aulatlong               Latitudes and longitudes for ten Australian\n",
       "                        cities\n",
       "austpop                 Population figures for Australian States and\n",
       "                        Territories\n",
       "bestsetNoise            Best Subset Selection Applied to Noise\n",
       "biomass                 Biomass Data\n",
       "bomregions              Australian and Related Historical Annual\n",
       "                        Climate Data, by region\n",
       "bomsoi                  Southern Oscillation Index Data\n",
       "bomsoi2001              Southern Oscillation Index Data\n",
       "bostonc                 Boston Housing Data - Corrected\n",
       "bounce                  Separate plotting positions for labels, to\n",
       "                        avoid overlap\n",
       "capstring               Converts initial character of a string to upper\n",
       "                        case\n",
       "carprice                US Car Price Data\n",
       "cerealsugar             Percentage of Sugar in Breakfast Cereal\n",
       "cfseal                  Cape Fur Seal Data\n",
       "cities                  Populations of Major Canadian Cities (1992-96)\n",
       "codling                 Dose-mortality data, for fumigation of codling\n",
       "                        moth with methyl bromide\n",
       "compareTreecalcs        Error rate comparisons for tree-based\n",
       "                        classification\n",
       "component.residual      Component + Residual Plot\n",
       "confusion               Given actual and predicted group assignments,\n",
       "                        give the confusion matrix\n",
       "cottonworkers           Occupation and wage profiles of British cotton\n",
       "                        workers\n",
       "cps1                    Labour Training Evaluation Data\n",
       "cricketer               Lifespans of UK 1st class cricketers born\n",
       "                        1840-1960\n",
       "cuckoohosts             Comparison of cuckoo eggs with host eggs\n",
       "cuckoos                 Cuckoo Eggs Data\n",
       "datafile                Write an ASCII data file to the working\n",
       "                        directory.\n",
       "dengue                  Dengue prevalence, by administrative region\n",
       "dewpoint                Dewpoint Data\n",
       "droughts                Periods Between Rain Events\n",
       "edcCO2                  EPICA Dome C Ice Core 800KYr Carbon Dioxide\n",
       "                        Data\n",
       "edcT                    EPICA Dome C Ice Core 800KYr Temperature\n",
       "                        Estimates\n",
       "elastic1                Elastic Band Data Replicated\n",
       "elastic2                Elastic Band Data Replicated Again\n",
       "elasticband             Elastic Band Data\n",
       "errorsINseveral         Simulation of classical errors in x model, with\n",
       "                        multiple explanatory variables.\n",
       "errorsINx               Simulate data for straight line regression,\n",
       "                        with \"errors in x\".\n",
       "excessRisk              Create and analyze multiway frequency or\n",
       "                        weighted frequency table\n",
       "fossilfuel              Fossil Fuel Data\n",
       "fossum                  Female Possum Measurements\n",
       "frogs                   Frogs Data\n",
       "frostedflakes           Frosted Flakes data\n",
       "fruitohms               Electrical Resistance of Kiwi Fruit\n",
       "gaba                    Effect of pentazocine on post-operative pain\n",
       "                        (average VAS scores)\n",
       "geophones               Seismic Timing Data\n",
       "greatLakes              Yearly averages of Great Lake heights: 1918 -\n",
       "                        2009\n",
       "grog                    Alcohol consumption in Australia and New\n",
       "                        Zealand\n",
       "hardcopy                Graphical Output for Hardcopy\n",
       "head.injury             Minor Head Injury (Simulated) Data\n",
       "headInjury              Minor Head Injury (Simulated) Data\n",
       "hills                   Scottish Hill Races Data\n",
       "hills2000               Scottish Hill Races Data - 2000\n",
       "hotspots                Hawaian island chain hotspot Potassium-Argon\n",
       "                        ages\n",
       "hotspots2006            Hawaian island chain hotspot Argon-Argon ages\n",
       "houseprices             Aranda House Prices\n",
       "humanpower1             Oxygen uptake versus mechanical power, for\n",
       "                        humans\n",
       "hurricNamed             Named US Atlantic Hurricanes\n",
       "intersalt               Blood pressure versus Salt; inter-population\n",
       "                        data\n",
       "ironslag                Iron Content Measurements\n",
       "jobs                    Canadian Labour Force Summary Data (1995-96)\n",
       "kiwishade               Kiwi Shading Data\n",
       "leafshape               Full Leaf Shape Data Set\n",
       "leafshape17             Subset of Leaf Shape Data Set\n",
       "leaftemp                Leaf and Air Temperature Data\n",
       "leaftemp.all            Full Leaf and Air Temperature Data Set\n",
       "litters                 Mouse Litters\n",
       "lmdiags                 Return data required for diagnostic plots\n",
       "logisticsim             Simple Logistic Regression Data Simulator\n",
       "lung                    Cape Fur Seal Lung Measurements\n",
       "measles                 Deaths in London from measles\n",
       "medExpenses             Family Medical Expenses\n",
       "mifem                   Mortality Outcomes for Females Suffering\n",
       "                        Myocardial Infarction\n",
       "mignonette              Darwin's Wild Mignonette Data\n",
       "milk                    Milk Sweetness Study\n",
       "modelcars               Model Car Data\n",
       "monica                  WHO Monica Data\n",
       "moths                   Moths Data\n",
       "multilap                Data Filtering Function\n",
       "nassCDS                 Airbag and other influences on accident\n",
       "                        fatalities\n",
       "nasshead                Documentation of names of columns in\n",
       "                        nass9702cor\n",
       "nihills                 Record times for Northern Ireland mountain\n",
       "                        running events\n",
       "nsw74demo               Labour Training Evaluation Data\n",
       "nsw74psid1              Labour Training Evaluation Data\n",
       "nsw74psid3              Labour Training Evaluation Data\n",
       "nsw74psidA              A Subset of the nsw74psid1 Data Set\n",
       "nswdemo                 Labour Training Evaluation Data\n",
       "nswpsid1                Labour Training Evaluation Data\n",
       "obounce                 Bounce - obsolete\n",
       "oddbooks                Measurements on 12 books\n",
       "onesamp                 Paired Sample t-test\n",
       "onet.permutation        One Sample Permutation t-test\n",
       "onetPermutation         One Sample Permutation t-test\n",
       "oneway.plot             Display of One Way Analysis Results\n",
       "onewayPlot              Display of One Way Analysis Results\n",
       "orings                  Challenger O-rings Data\n",
       "overlapDensity          Overlapping Density Plots\n",
       "ozone                   Ozone Data\n",
       "pair65                  Heated Elastic Bands\n",
       "panel.corr              Scatterplot Panel\n",
       "panelCorr               Scatterplot Panel\n",
       "panelplot               Panel Plot\n",
       "pause                   Pause before continuing execution\n",
       "plotSampDist            Plot(s) of simulated sampling distributions\n",
       "plotSimDiags            Diagnostic plots for simulated data\n",
       "plotSimScat             Simulate scatterplots, from 'lm' object with a\n",
       "                        single explanatory variable.\n",
       "poissonsim              Simple Poisson Regression Data Simulator\n",
       "possum                  Possum Measurements\n",
       "possumsites             Possum Sites\n",
       "powerplot               Plot of Power Functions\n",
       "poxetc                  Deaths from various causes, in London from 1629\n",
       "                        till 1881, with gaps\n",
       "press                   Predictive Error Sum of Squares\n",
       "primates                Primate Body and Brain Weights\n",
       "progression             Progression of Record times for track races,\n",
       "                        1912 - 2008\n",
       "psid1                   Labour Training Evaluation Data\n",
       "psid2                   Labour Training Evaluation Data\n",
       "psid3                   Labour Training Evaluation Data\n",
       "qreference              Normal QQ Reference Plot\n",
       "races2000               Scottish Hill Races Data - 2000\n",
       "rainforest              Rainforest Data\n",
       "rareplants              Rare and Endangered Plant Species\n",
       "rice                    Genetically Modified and Wild Type Rice Data\n",
       "rockArt                 Pacific Rock Art features\n",
       "roller                  Lawn Roller Data\n",
       "sampdist                Plot sampling distribution of mean or other\n",
       "                        sample statistic.\n",
       "science                 School Science Survey Data\n",
       "seedrates               Barley Seeding Rate Data\n",
       "show.colors             Show R's Colors\n",
       "simulateLinear          Simulation of Linear Models for ANOVA vs.\n",
       "                        Regression Comparison\n",
       "simulateSampDist        Simulated sampling distribution of mean or\n",
       "                        other statistic\n",
       "socsupport              Social Support Data\n",
       "softbacks               Measurements on a Selection of Paperback Books\n",
       "sorption                sorption data set\n",
       "spam7                   Spam E-mail Data\n",
       "stVincent               Averages by block of yields for the St. Vincent\n",
       "                        Corn data\n",
       "sugar                   Sugar Data\n",
       "tinting                 Car Window Tinting Experiment Data\n",
       "tomato                  Root weights of tomato plants exposed to 4\n",
       "                        different treatments\n",
       "toycars                 Toy Cars Data\n",
       "two65                   Unpaired Heated Elastic Bands\n",
       "twot.permutation        Two Sample Permutation Test - Obsolete\n",
       "twotPermutation         Two Sample Permutation Test\n",
       "vif                     Variance Inflation Factors\n",
       "vince111b               Averages by block of corn yields, for treatment\n",
       "                        111 only\n",
       "vlt                     Video Lottery Terminal Data\n",
       "wages1833               Wages of Lancashire Cotton Factory Workers in\n",
       "                        1833\n",
       "whoops                  Deaths from whooping cough, in London\n",
       "worldRecords            Record times for track and road races, at\n",
       "                        August 9th 2006\n",
       "zzDAAGxdb               List, each of whose elements hold rows of a\n",
       "                        file, in character format\n",
       "\n",
       "Further information is available in the following vignettes in\n",
       "directory\n",
       "‘/Library/Frameworks/R.framework/Versions/4.1/Resources/library/DAAG/doc’:\n",
       "\n",
       "simulate-regdiags: Sampling Properties of Regression Diagnostics\n",
       "        (source, pdf)\n",
       "simulate-varselect: Sampling Properties of Variable Selection (source,\n",
       "        pdf)"
      ]
     },
     "metadata": {},
     "output_type": "display_data"
    }
   ],
   "source": [
    "# learn more about DAAG!\n",
    "library(help=\"DAAG\")"
   ]
  },
  {
   "cell_type": "code",
   "execution_count": 53,
   "id": "43518e4a-88b1-4296-a734-41c3e49617ef",
   "metadata": {},
   "outputs": [],
   "source": [
    "# learn about clipr\n",
    "#install.packages('clipr')"
   ]
  },
  {
   "cell_type": "code",
   "execution_count": 54,
   "id": "c1773c6d-02f8-4b34-8f3e-92629bbcda9f",
   "metadata": {},
   "outputs": [],
   "source": [
    "#library(clipr)"
   ]
  },
  {
   "cell_type": "code",
   "execution_count": 55,
   "id": "21c2c2e0-46da-4823-9ac4-3ee12b9f8b8d",
   "metadata": {},
   "outputs": [],
   "source": [
    "#rc <- read_clip(allow_non_interactive = TRUE)"
   ]
  },
  {
   "cell_type": "code",
   "execution_count": 56,
   "id": "df7990e3-87ac-49c3-9bdb-59f90e2cabc8",
   "metadata": {},
   "outputs": [],
   "source": [
    "#print(rc)"
   ]
  },
  {
   "cell_type": "code",
   "execution_count": 57,
   "id": "d55f348b-9570-4fe3-939c-b2e5f6589078",
   "metadata": {},
   "outputs": [],
   "source": [
    "# learn more about clipr\n",
    "#library(help=\"clipr\")"
   ]
  },
  {
   "cell_type": "code",
   "execution_count": null,
   "id": "9ad6647b-13cd-45e9-8f8a-500d4f373d3d",
   "metadata": {},
   "outputs": [],
   "source": []
  }
 ],
 "metadata": {
  "kernelspec": {
   "display_name": "R",
   "language": "R",
   "name": "ir"
  },
  "language_info": {
   "codemirror_mode": "r",
   "file_extension": ".r",
   "mimetype": "text/x-r-source",
   "name": "R",
   "pygments_lexer": "r",
   "version": "4.1.2"
  }
 },
 "nbformat": 4,
 "nbformat_minor": 5
}
