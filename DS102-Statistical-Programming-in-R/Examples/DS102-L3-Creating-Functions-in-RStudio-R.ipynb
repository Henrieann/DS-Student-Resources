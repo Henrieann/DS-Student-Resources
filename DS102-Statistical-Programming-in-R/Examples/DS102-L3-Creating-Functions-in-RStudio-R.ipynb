{
 "cells": [
  {
   "cell_type": "markdown",
   "id": "dd3a6f00-760b-4243-afaa-51db16a6853d",
   "metadata": {},
   "source": [
    "# Creating Functions in R"
   ]
  },
  {
   "cell_type": "code",
   "execution_count": 1,
   "id": "2b74b589-6623-44d5-932d-1ccb0dca52a5",
   "metadata": {},
   "outputs": [
    {
     "name": "stdout",
     "output_type": "stream",
     "text": [
      "\n",
      "The downloaded binary packages are in\n",
      "\t/var/folders/wk/6why77bn1kn0l0pkd4vd3zl00000gn/T//Rtmplsa1IE/downloaded_packages\n"
     ]
    }
   ],
   "source": [
    "install.packages(\"vembedr\")"
   ]
  },
  {
   "cell_type": "code",
   "execution_count": 2,
   "id": "767e6408-e4d9-4ea4-80a3-e9e7b74a49d7",
   "metadata": {},
   "outputs": [],
   "source": [
    "library(\"vembedr\")"
   ]
  },
  {
   "cell_type": "code",
   "execution_count": 3,
   "id": "a0595ca2-2065-42c3-b646-752b17a8c720",
   "metadata": {},
   "outputs": [
    {
     "data": {
      "text/html": [
       "<!doctype html>\n",
       "<html>\n",
       "\t<head>\n",
       "\t\t<meta charset=\"utf-8\">\n",
       "\t\t<link href=\"data:text/css;charset-utf-8;base64,LnZlbWJlZHIgewogIG1hcmdpbi1ib3R0b206IDEwcHg7Cn0KCi52ZW1iZWRyLXJvdW5kZWQgewogIGRpc3BsYXk6IGlubGluZS1ibG9jazsKICBib3JkZXItcmFkaXVzOiAxNXB4OwogIG92ZXJmbG93OiBoaWRkZW47Cn0KCi52ZW1iZWRyLXJvdW5kZWQgaWZyYW1lIHsKICBkaXNwbGF5OiBibG9jazsKICBib3JkZXI6IG5vbmU7Cn0K\" rel=\"stylesheet\" />\n",
       "\t</head>\n",
       "\t<body>\n",
       "\t\t<div class=\"vembedr\">\n",
       "  <div>\n",
       "    <iframe class=\"vimeo-embed\" src=\"https://player.vimeo.com/video/640199184\" width=\"533\" height=\"300\" frameborder=\"0\" webkitallowfullscreen=\"\" mozallowfullscreen=\"\" allowfullscreen=\"\" data-external=\"1\"></iframe>\n",
       "  </div>\n",
       "</div>\n",
       "\t</body>\n",
       "</html>\n"
      ],
      "text/plain": [
       "Shiny tags cannot be represented in plain text (need html)"
      ]
     },
     "metadata": {
      "text/html": {
       "isolated": true
      }
     },
     "output_type": "display_data"
    }
   ],
   "source": [
    "embed_vimeo(\"640199184\")"
   ]
  },
  {
   "cell_type": "markdown",
   "id": "c9f29068-b95f-42ab-b629-63d9b4962557",
   "metadata": {},
   "source": [
    "https://vimeo.com/640199184"
   ]
  },
  {
   "cell_type": "code",
   "execution_count": null,
   "id": "e3651c33-50b7-4736-9e68-55779193b95c",
   "metadata": {},
   "outputs": [],
   "source": []
  }
 ],
 "metadata": {
  "kernelspec": {
   "display_name": "R",
   "language": "R",
   "name": "ir"
  },
  "language_info": {
   "codemirror_mode": "r",
   "file_extension": ".r",
   "mimetype": "text/x-r-source",
   "name": "R",
   "pygments_lexer": "r",
   "version": "4.1.2"
  }
 },
 "nbformat": 4,
 "nbformat_minor": 5
}
