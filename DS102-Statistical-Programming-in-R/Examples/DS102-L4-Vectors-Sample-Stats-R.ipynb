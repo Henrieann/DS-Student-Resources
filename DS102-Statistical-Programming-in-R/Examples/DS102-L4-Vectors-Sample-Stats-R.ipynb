{
 "cells": [
  {
   "cell_type": "markdown",
   "id": "d94734f7-0811-46fd-986a-fda6dce1d2ef",
   "metadata": {},
   "source": [
    "### Lesson 4 expands upon the concept of vectors, and introduces the idea of arithmetic functions; along with utilizing sample statistics\n",
    "\n",
    "Recall the discussion on vectors from lesson 4. [Further Reading](https://towardsdatascience.com/a-practical-look-at-vectors-and-your-data-95bde21b37d1)\n",
    "\n",
    "Let's make a basic vector of randomized numbers. Then look at some aggregate, and common functions:"
   ]
  },
  {
   "cell_type": "code",
   "execution_count": 3,
   "id": "2a205251-7819-4a17-9103-3e46b84840a1",
   "metadata": {},
   "outputs": [],
   "source": [
    "library(datasets)"
   ]
  },
  {
   "cell_type": "code",
   "execution_count": 4,
   "id": "ca1d1465-b649-4723-9a55-260ef646fc7b",
   "metadata": {},
   "outputs": [],
   "source": [
    "# Here I am creating a a vector of 15 randomized btween 15 and 515.\n",
    "x = runif(15, min = 15, max = 515)"
   ]
  },
  {
   "cell_type": "code",
   "execution_count": 5,
   "id": "880b9339-2a60-4c76-910b-681ffedf1506",
   "metadata": {},
   "outputs": [
    {
     "data": {
      "text/html": [
       "<style>\n",
       ".list-inline {list-style: none; margin:0; padding: 0}\n",
       ".list-inline>li {display: inline-block}\n",
       ".list-inline>li:not(:last-child)::after {content: \"\\00b7\"; padding: 0 .5ex}\n",
       "</style>\n",
       "<ol class=list-inline><li>509.163268711418</li><li>456.158170229755</li><li>22.9939231509343</li><li>50.4928139131516</li><li>389.090989818797</li><li>242.551857242361</li><li>426.754201515578</li><li>37.9247444076464</li><li>219.914537956938</li><li>215.414415681735</li><li>459.038308574818</li><li>44.42509658169</li><li>363.18633296527</li><li>96.4610115485266</li><li>403.476846041158</li></ol>\n"
      ],
      "text/latex": [
       "\\begin{enumerate*}\n",
       "\\item 509.163268711418\n",
       "\\item 456.158170229755\n",
       "\\item 22.9939231509343\n",
       "\\item 50.4928139131516\n",
       "\\item 389.090989818797\n",
       "\\item 242.551857242361\n",
       "\\item 426.754201515578\n",
       "\\item 37.9247444076464\n",
       "\\item 219.914537956938\n",
       "\\item 215.414415681735\n",
       "\\item 459.038308574818\n",
       "\\item 44.42509658169\n",
       "\\item 363.18633296527\n",
       "\\item 96.4610115485266\n",
       "\\item 403.476846041158\n",
       "\\end{enumerate*}\n"
      ],
      "text/markdown": [
       "1. 509.163268711418\n",
       "2. 456.158170229755\n",
       "3. 22.9939231509343\n",
       "4. 50.4928139131516\n",
       "5. 389.090989818797\n",
       "6. 242.551857242361\n",
       "7. 426.754201515578\n",
       "8. 37.9247444076464\n",
       "9. 219.914537956938\n",
       "10. 215.414415681735\n",
       "11. 459.038308574818\n",
       "12. 44.42509658169\n",
       "13. 363.18633296527\n",
       "14. 96.4610115485266\n",
       "15. 403.476846041158\n",
       "\n",
       "\n"
      ],
      "text/plain": [
       " [1] 509.16327 456.15817  22.99392  50.49281 389.09099 242.55186 426.75420\n",
       " [8]  37.92474 219.91454 215.41442 459.03831  44.42510 363.18633  96.46101\n",
       "[15] 403.47685"
      ]
     },
     "metadata": {},
     "output_type": "display_data"
    }
   ],
   "source": [
    "View(x)"
   ]
  },
  {
   "cell_type": "code",
   "execution_count": 6,
   "id": "690569f0-f55b-4b03-8efe-3927143c81d6",
   "metadata": {},
   "outputs": [],
   "source": [
    "# round to zero decimals\n",
    "example = round(x)"
   ]
  },
  {
   "cell_type": "code",
   "execution_count": 7,
   "id": "d7aa5a29-9353-4e80-bb39-dea3cf6495ca",
   "metadata": {},
   "outputs": [
    {
     "data": {
      "text/html": [
       "<style>\n",
       ".list-inline {list-style: none; margin:0; padding: 0}\n",
       ".list-inline>li {display: inline-block}\n",
       ".list-inline>li:not(:last-child)::after {content: \"\\00b7\"; padding: 0 .5ex}\n",
       "</style>\n",
       "<ol class=list-inline><li>509</li><li>456</li><li>23</li><li>50</li><li>389</li><li>243</li></ol>\n"
      ],
      "text/latex": [
       "\\begin{enumerate*}\n",
       "\\item 509\n",
       "\\item 456\n",
       "\\item 23\n",
       "\\item 50\n",
       "\\item 389\n",
       "\\item 243\n",
       "\\end{enumerate*}\n"
      ],
      "text/markdown": [
       "1. 509\n",
       "2. 456\n",
       "3. 23\n",
       "4. 50\n",
       "5. 389\n",
       "6. 243\n",
       "\n",
       "\n"
      ],
      "text/plain": [
       "[1] 509 456  23  50 389 243"
      ]
     },
     "metadata": {},
     "output_type": "display_data"
    }
   ],
   "source": [
    "head(example)"
   ]
  },
  {
   "cell_type": "code",
   "execution_count": 8,
   "id": "19566338-3bed-4bb1-a274-6e2616a6cdd5",
   "metadata": {},
   "outputs": [
    {
     "data": {
      "text/html": [
       "509"
      ],
      "text/latex": [
       "509"
      ],
      "text/markdown": [
       "509"
      ],
      "text/plain": [
       "[1] 509"
      ]
     },
     "metadata": {},
     "output_type": "display_data"
    }
   ],
   "source": [
    "# largest element in vector\n",
    "max(example)"
   ]
  },
  {
   "cell_type": "code",
   "execution_count": 9,
   "id": "dbb32f7b-fb45-40ec-acbc-9daa385efc2e",
   "metadata": {},
   "outputs": [
    {
     "data": {
      "text/html": [
       "23"
      ],
      "text/latex": [
       "23"
      ],
      "text/markdown": [
       "23"
      ],
      "text/plain": [
       "[1] 23"
      ]
     },
     "metadata": {},
     "output_type": "display_data"
    }
   ],
   "source": [
    "# smallest element\n",
    "min(example)"
   ]
  },
  {
   "cell_type": "code",
   "execution_count": 10,
   "id": "b2baac41-6b05-42a3-8e40-0fb455244fa1",
   "metadata": {},
   "outputs": [],
   "source": [
    "# count of elements in vector"
   ]
  },
  {
   "cell_type": "code",
   "execution_count": 11,
   "id": "e0058920-8656-4d9b-908c-6420d7f1bafc",
   "metadata": {},
   "outputs": [
    {
     "data": {
      "text/html": [
       "15"
      ],
      "text/latex": [
       "15"
      ],
      "text/markdown": [
       "15"
      ],
      "text/plain": [
       "[1] 15"
      ]
     },
     "metadata": {},
     "output_type": "display_data"
    }
   ],
   "source": [
    "length(example)"
   ]
  },
  {
   "cell_type": "code",
   "execution_count": 12,
   "id": "8ea71beb-3d06-4a38-9053-f656167b4530",
   "metadata": {},
   "outputs": [
    {
     "data": {
      "text/html": [
       "<style>\n",
       ".list-inline {list-style: none; margin:0; padding: 0}\n",
       ".list-inline>li {display: inline-block}\n",
       ".list-inline>li:not(:last-child)::after {content: \"\\00b7\"; padding: 0 .5ex}\n",
       "</style>\n",
       "<ol class=list-inline><li>23</li><li>38</li><li>44</li><li>50</li><li>96</li><li>215</li><li>220</li><li>243</li><li>363</li><li>389</li><li>403</li><li>427</li><li>456</li><li>459</li><li>509</li></ol>\n"
      ],
      "text/latex": [
       "\\begin{enumerate*}\n",
       "\\item 23\n",
       "\\item 38\n",
       "\\item 44\n",
       "\\item 50\n",
       "\\item 96\n",
       "\\item 215\n",
       "\\item 220\n",
       "\\item 243\n",
       "\\item 363\n",
       "\\item 389\n",
       "\\item 403\n",
       "\\item 427\n",
       "\\item 456\n",
       "\\item 459\n",
       "\\item 509\n",
       "\\end{enumerate*}\n"
      ],
      "text/markdown": [
       "1. 23\n",
       "2. 38\n",
       "3. 44\n",
       "4. 50\n",
       "5. 96\n",
       "6. 215\n",
       "7. 220\n",
       "8. 243\n",
       "9. 363\n",
       "10. 389\n",
       "11. 403\n",
       "12. 427\n",
       "13. 456\n",
       "14. 459\n",
       "15. 509\n",
       "\n",
       "\n"
      ],
      "text/plain": [
       " [1]  23  38  44  50  96 215 220 243 363 389 403 427 456 459 509"
      ]
     },
     "metadata": {},
     "output_type": "display_data"
    }
   ],
   "source": [
    "# arranged from smallest to largest\n",
    "sort(example)"
   ]
  },
  {
   "cell_type": "code",
   "execution_count": 13,
   "id": "6bffc869-207e-4aa2-b834-b73db70adfc6",
   "metadata": {},
   "outputs": [
    {
     "data": {
      "text/html": [
       "262.333333333333"
      ],
      "text/latex": [
       "262.333333333333"
      ],
      "text/markdown": [
       "262.333333333333"
      ],
      "text/plain": [
       "[1] 262.3333"
      ]
     },
     "metadata": {},
     "output_type": "display_data"
    }
   ],
   "source": [
    "# average of elements\n",
    "mean(example)"
   ]
  },
  {
   "cell_type": "code",
   "execution_count": 14,
   "id": "79cdf5bc-a5f8-44ed-8c10-3a1d1e8b3703",
   "metadata": {},
   "outputs": [
    {
     "data": {
      "text/html": [
       "243"
      ],
      "text/latex": [
       "243"
      ],
      "text/markdown": [
       "243"
      ],
      "text/plain": [
       "[1] 243"
      ]
     },
     "metadata": {},
     "output_type": "display_data"
    }
   ],
   "source": [
    "# median of values\n",
    "median(example)"
   ]
  },
  {
   "cell_type": "code",
   "execution_count": 15,
   "id": "dc997fda-a496-4c36-a768-06e95eb8f6b1",
   "metadata": {},
   "outputs": [
    {
     "data": {
      "text/html": [
       "31610.2380952381"
      ],
      "text/latex": [
       "31610.2380952381"
      ],
      "text/markdown": [
       "31610.2380952381"
      ],
      "text/plain": [
       "[1] 31610.24"
      ]
     },
     "metadata": {},
     "output_type": "display_data"
    }
   ],
   "source": [
    "# variance of values\n",
    "var(example)"
   ]
  },
  {
   "cell_type": "code",
   "execution_count": 16,
   "id": "fcdcee66-6272-45fb-b92b-559728da1c53",
   "metadata": {},
   "outputs": [
    {
     "data": {
      "text/html": [
       "177.792682906913"
      ],
      "text/latex": [
       "177.792682906913"
      ],
      "text/markdown": [
       "177.792682906913"
      ],
      "text/plain": [
       "[1] 177.7927"
      ]
     },
     "metadata": {},
     "output_type": "display_data"
    }
   ],
   "source": [
    "# sample standard deviation\n",
    "sd(example)"
   ]
  },
  {
   "cell_type": "code",
   "execution_count": 17,
   "id": "d07194fd-293b-492f-b7b7-d54451779785",
   "metadata": {},
   "outputs": [
    {
     "data": {
      "text/plain": [
       "   Min. 1st Qu.  Median    Mean 3rd Qu.    Max. \n",
       "   23.0    73.0   243.0   262.3   415.0   509.0 "
      ]
     },
     "metadata": {},
     "output_type": "display_data"
    }
   ],
   "source": [
    "# summary provies a whole slew of info\n",
    "summary(example)"
   ]
  },
  {
   "cell_type": "markdown",
   "id": "8bb057d7-7ed5-4ac0-a67a-aa6915ca61b5",
   "metadata": {},
   "source": [
    "### Time to apply these"
   ]
  },
  {
   "cell_type": "code",
   "execution_count": 18,
   "id": "b73b2202-e694-4328-abae-1bc7051789a5",
   "metadata": {},
   "outputs": [
    {
     "data": {
      "text/html": [
       "A Time Series:<br><style>\n",
       ".list-inline {list-style: none; margin:0; padding: 0}\n",
       ".list-inline>li {display: inline-block}\n",
       ".list-inline>li:not(:last-child)::after {content: \"\\00b7\"; padding: 0 .5ex}\n",
       "</style>\n",
       "<ol class=list-inline><li>412</li><li>480</li><li>683</li><li>1052</li><li>1385</li><li>1418</li><li>1634</li><li>2178</li><li>3362</li><li>5948</li><li>6109</li><li>5981</li><li>6753</li><li>8003</li><li>10566</li><li>12528</li><li>14760</li><li>16769</li><li>19819</li><li>22362</li><li>25340</li><li>25343</li><li>29269</li><li>30514</li></ol>\n"
      ],
      "text/latex": [
       "A Time Series:\\\\\\begin{enumerate*}\n",
       "\\item 412\n",
       "\\item 480\n",
       "\\item 683\n",
       "\\item 1052\n",
       "\\item 1385\n",
       "\\item 1418\n",
       "\\item 1634\n",
       "\\item 2178\n",
       "\\item 3362\n",
       "\\item 5948\n",
       "\\item 6109\n",
       "\\item 5981\n",
       "\\item 6753\n",
       "\\item 8003\n",
       "\\item 10566\n",
       "\\item 12528\n",
       "\\item 14760\n",
       "\\item 16769\n",
       "\\item 19819\n",
       "\\item 22362\n",
       "\\item 25340\n",
       "\\item 25343\n",
       "\\item 29269\n",
       "\\item 30514\n",
       "\\end{enumerate*}\n"
      ],
      "text/markdown": [
       "A Time Series:  \n",
       "1. 412\n",
       "2. 480\n",
       "3. 683\n",
       "4. 1052\n",
       "5. 1385\n",
       "6. 1418\n",
       "7. 1634\n",
       "8. 2178\n",
       "9. 3362\n",
       "10. 5948\n",
       "11. 6109\n",
       "12. 5981\n",
       "13. 6753\n",
       "14. 8003\n",
       "15. 10566\n",
       "16. 12528\n",
       "17. 14760\n",
       "18. 16769\n",
       "19. 19819\n",
       "20. 22362\n",
       "21. 25340\n",
       "22. 25343\n",
       "23. 29269\n",
       "24. 30514\n",
       "\n",
       "\n"
      ],
      "text/plain": [
       "A Time Series:\n",
       " [1]   412   480   683  1052  1385  1418  1634  2178  3362  5948  6109  5981\n",
       "[13]  6753  8003 10566 12528 14760 16769 19819 22362 25340 25343 29269 30514"
      ]
     },
     "metadata": {},
     "output_type": "display_data"
    }
   ],
   "source": [
    "# Let's look at a stock dataset\n",
    "airmiles"
   ]
  },
  {
   "cell_type": "markdown",
   "id": "c2dd5430-b3b0-427b-9801-c218c519f013",
   "metadata": {},
   "source": [
    "##### The revenue passenger miles flown by commercial airlines in the United States for each year from 1937 to 1960.\n",
    "\n",
    "Let's look at the data split down the middle: 6200 miles lies between the 12th and 13th elements of the vector"
   ]
  },
  {
   "cell_type": "code",
   "execution_count": 19,
   "id": "a4e8ff0a-b134-4b11-a63e-ead337dacbaf",
   "metadata": {},
   "outputs": [],
   "source": [
    "firstHalf = airmiles[airmiles <= 6200]"
   ]
  },
  {
   "cell_type": "code",
   "execution_count": 20,
   "id": "53c552ed-8256-45ae-9931-376fa4f0f30c",
   "metadata": {},
   "outputs": [],
   "source": [
    "secondHalf = airmiles[airmiles > 6200]"
   ]
  },
  {
   "cell_type": "markdown",
   "id": "42f80d13-a2de-454d-82ab-629034c86dcf",
   "metadata": {},
   "source": [
    "#### How many elements are in the firstHalf vector and the secondHalf vector?"
   ]
  },
  {
   "cell_type": "code",
   "execution_count": 21,
   "id": "69cc9c34-1506-4852-916a-951477619ddb",
   "metadata": {},
   "outputs": [
    {
     "data": {
      "text/html": [
       "12"
      ],
      "text/latex": [
       "12"
      ],
      "text/markdown": [
       "12"
      ],
      "text/plain": [
       "[1] 12"
      ]
     },
     "metadata": {},
     "output_type": "display_data"
    }
   ],
   "source": [
    "length(firstHalf)\n",
    "# this makes sense, as we split a 24 count element in half"
   ]
  },
  {
   "cell_type": "code",
   "execution_count": 22,
   "id": "7dfb6479-d293-458c-ad49-a4075d4bb93c",
   "metadata": {},
   "outputs": [
    {
     "data": {
      "text/html": [
       "12"
      ],
      "text/latex": [
       "12"
      ],
      "text/markdown": [
       "12"
      ],
      "text/plain": [
       "[1] 12"
      ]
     },
     "metadata": {},
     "output_type": "display_data"
    }
   ],
   "source": [
    "length(secondHalf)"
   ]
  },
  {
   "cell_type": "markdown",
   "id": "c2d9486a-9204-4ae1-92fd-66659f139742",
   "metadata": {},
   "source": [
    "#### What are the means of the vectors?"
   ]
  },
  {
   "cell_type": "code",
   "execution_count": 23,
   "id": "37cd7977-32a1-4a34-a697-553ff6f2d6b7",
   "metadata": {},
   "outputs": [
    {
     "data": {
      "text/html": [
       "2553.5"
      ],
      "text/latex": [
       "2553.5"
      ],
      "text/markdown": [
       "2553.5"
      ],
      "text/plain": [
       "[1] 2553.5"
      ]
     },
     "metadata": {},
     "output_type": "display_data"
    }
   ],
   "source": [
    "mean(firstHalf)"
   ]
  },
  {
   "cell_type": "code",
   "execution_count": 24,
   "id": "3ca18eb0-a551-4cae-9e39-3f1d77a30a1f",
   "metadata": {},
   "outputs": [
    {
     "data": {
      "text/html": [
       "18502.1666666667"
      ],
      "text/latex": [
       "18502.1666666667"
      ],
      "text/markdown": [
       "18502.1666666667"
      ],
      "text/plain": [
       "[1] 18502.17"
      ]
     },
     "metadata": {},
     "output_type": "display_data"
    }
   ],
   "source": [
    "mean(secondHalf)\n",
    "# a major difference really shows the drastic uptick in commercial mileage as time has progressed"
   ]
  },
  {
   "cell_type": "markdown",
   "id": "8ee17197-cfda-4d4a-91e2-a40ec42168e9",
   "metadata": {},
   "source": [
    "#### The standard deviations of the vectors are:"
   ]
  },
  {
   "cell_type": "code",
   "execution_count": 25,
   "id": "bed40e62-0089-464e-8c3e-10529d35ac38",
   "metadata": {},
   "outputs": [
    {
     "data": {
      "text/html": [
       "2232.92651428161"
      ],
      "text/latex": [
       "2232.92651428161"
      ],
      "text/markdown": [
       "2232.92651428161"
      ],
      "text/plain": [
       "[1] 2232.927"
      ]
     },
     "metadata": {},
     "output_type": "display_data"
    }
   ],
   "source": [
    "sd(firstHalf)"
   ]
  },
  {
   "cell_type": "code",
   "execution_count": 26,
   "id": "cd1b1d7d-469c-4bf9-b6e0-95cd4f016442",
   "metadata": {},
   "outputs": [
    {
     "data": {
      "text/html": [
       "8170.62740256311"
      ],
      "text/latex": [
       "8170.62740256311"
      ],
      "text/markdown": [
       "8170.62740256311"
      ],
      "text/plain": [
       "[1] 8170.627"
      ]
     },
     "metadata": {},
     "output_type": "display_data"
    }
   ],
   "source": [
    "sd(secondHalf)"
   ]
  },
  {
   "cell_type": "markdown",
   "id": "2b285e72-2f92-4d20-802c-8a126c3a92e5",
   "metadata": {},
   "source": [
    "#### The medians of the vectors are:"
   ]
  },
  {
   "cell_type": "code",
   "execution_count": 27,
   "id": "bd9f6881-53b2-4a47-8f4d-9e2168f031a3",
   "metadata": {},
   "outputs": [
    {
     "data": {
      "text/html": [
       "1526"
      ],
      "text/latex": [
       "1526"
      ],
      "text/markdown": [
       "1526"
      ],
      "text/plain": [
       "[1] 1526"
      ]
     },
     "metadata": {},
     "output_type": "display_data"
    }
   ],
   "source": [
    "median(firstHalf)"
   ]
  },
  {
   "cell_type": "code",
   "execution_count": 28,
   "id": "da0333e3-cfa4-498b-bb6d-b754121f4c96",
   "metadata": {},
   "outputs": [
    {
     "data": {
      "text/html": [
       "18294"
      ],
      "text/latex": [
       "18294"
      ],
      "text/markdown": [
       "18294"
      ],
      "text/plain": [
       "[1] 18294"
      ]
     },
     "metadata": {},
     "output_type": "display_data"
    }
   ],
   "source": [
    "median(secondHalf)"
   ]
  },
  {
   "cell_type": "markdown",
   "id": "d22c1590-65d3-42db-96d1-9450ec0e4c23",
   "metadata": {},
   "source": [
    "#### The variance of the values of the vectors are:"
   ]
  },
  {
   "cell_type": "code",
   "execution_count": 29,
   "id": "f5be1e48-c9a6-43ea-93e1-e57a6f600b7a",
   "metadata": {},
   "outputs": [
    {
     "data": {
      "text/html": [
       "4985960.81818182"
      ],
      "text/latex": [
       "4985960.81818182"
      ],
      "text/markdown": [
       "4985960.81818182"
      ],
      "text/plain": [
       "[1] 4985961"
      ]
     },
     "metadata": {},
     "output_type": "display_data"
    }
   ],
   "source": [
    "var(firstHalf)"
   ]
  },
  {
   "cell_type": "code",
   "execution_count": 30,
   "id": "8a2edec8-d0d6-4863-9381-5e8c8914bedf",
   "metadata": {},
   "outputs": [
    {
     "data": {
      "text/html": [
       "66759152.1515151"
      ],
      "text/latex": [
       "66759152.1515151"
      ],
      "text/markdown": [
       "66759152.1515151"
      ],
      "text/plain": [
       "[1] 66759152"
      ]
     },
     "metadata": {},
     "output_type": "display_data"
    }
   ],
   "source": [
    "var(secondHalf)"
   ]
  },
  {
   "cell_type": "markdown",
   "id": "6aaba54a-6a28-49ec-9bd1-ceda404ddbf2",
   "metadata": {},
   "source": [
    "#### The minimums of the vectors:"
   ]
  },
  {
   "cell_type": "code",
   "execution_count": 31,
   "id": "10d37984-7754-4e67-8fed-5481ebd32a87",
   "metadata": {},
   "outputs": [
    {
     "data": {
      "text/html": [
       "412"
      ],
      "text/latex": [
       "412"
      ],
      "text/markdown": [
       "412"
      ],
      "text/plain": [
       "[1] 412"
      ]
     },
     "metadata": {},
     "output_type": "display_data"
    }
   ],
   "source": [
    "min(firstHalf)"
   ]
  },
  {
   "cell_type": "code",
   "execution_count": 32,
   "id": "7a7190a4-e08c-4dee-9613-c4b8d5dab956",
   "metadata": {},
   "outputs": [
    {
     "data": {
      "text/html": [
       "6753"
      ],
      "text/latex": [
       "6753"
      ],
      "text/markdown": [
       "6753"
      ],
      "text/plain": [
       "[1] 6753"
      ]
     },
     "metadata": {},
     "output_type": "display_data"
    }
   ],
   "source": [
    "min(secondHalf)"
   ]
  },
  {
   "cell_type": "markdown",
   "id": "6be4066d-3491-4336-a71b-8935cc43f3dc",
   "metadata": {},
   "source": [
    "#### The maximums:"
   ]
  },
  {
   "cell_type": "code",
   "execution_count": 33,
   "id": "f35cf7a6-3cc6-4bf6-8308-16749f476291",
   "metadata": {},
   "outputs": [
    {
     "data": {
      "text/html": [
       "6109"
      ],
      "text/latex": [
       "6109"
      ],
      "text/markdown": [
       "6109"
      ],
      "text/plain": [
       "[1] 6109"
      ]
     },
     "metadata": {},
     "output_type": "display_data"
    }
   ],
   "source": [
    "max(firstHalf)"
   ]
  },
  {
   "cell_type": "code",
   "execution_count": 34,
   "id": "a3babc4d-8fcc-4459-8020-feb36a7f2341",
   "metadata": {},
   "outputs": [
    {
     "data": {
      "text/html": [
       "30514"
      ],
      "text/latex": [
       "30514"
      ],
      "text/markdown": [
       "30514"
      ],
      "text/plain": [
       "[1] 30514"
      ]
     },
     "metadata": {},
     "output_type": "display_data"
    }
   ],
   "source": [
    "max(secondHalf)"
   ]
  },
  {
   "cell_type": "markdown",
   "id": "5eb228fc-8cc9-4b18-931e-578299e02c4a",
   "metadata": {},
   "source": [
    "#### Sorted:"
   ]
  },
  {
   "cell_type": "code",
   "execution_count": 37,
   "id": "4a9274f5-6796-4dd6-b56c-71d3ae8b628b",
   "metadata": {},
   "outputs": [
    {
     "data": {
      "text/html": [
       "<style>\n",
       ".list-inline {list-style: none; margin:0; padding: 0}\n",
       ".list-inline>li {display: inline-block}\n",
       ".list-inline>li:not(:last-child)::after {content: \"\\00b7\"; padding: 0 .5ex}\n",
       "</style>\n",
       "<ol class=list-inline><li>412</li><li>480</li><li>683</li><li>1052</li><li>1385</li><li>1418</li><li>1634</li><li>2178</li><li>3362</li><li>5948</li><li>5981</li><li>6109</li></ol>\n"
      ],
      "text/latex": [
       "\\begin{enumerate*}\n",
       "\\item 412\n",
       "\\item 480\n",
       "\\item 683\n",
       "\\item 1052\n",
       "\\item 1385\n",
       "\\item 1418\n",
       "\\item 1634\n",
       "\\item 2178\n",
       "\\item 3362\n",
       "\\item 5948\n",
       "\\item 5981\n",
       "\\item 6109\n",
       "\\end{enumerate*}\n"
      ],
      "text/markdown": [
       "1. 412\n",
       "2. 480\n",
       "3. 683\n",
       "4. 1052\n",
       "5. 1385\n",
       "6. 1418\n",
       "7. 1634\n",
       "8. 2178\n",
       "9. 3362\n",
       "10. 5948\n",
       "11. 5981\n",
       "12. 6109\n",
       "\n",
       "\n"
      ],
      "text/plain": [
       " [1]  412  480  683 1052 1385 1418 1634 2178 3362 5948 5981 6109"
      ]
     },
     "metadata": {},
     "output_type": "display_data"
    }
   ],
   "source": [
    "sort(firstHalf)"
   ]
  },
  {
   "cell_type": "code",
   "execution_count": 38,
   "id": "0e02d98d-d8d1-4cd1-8fd6-0956eb85c2c4",
   "metadata": {},
   "outputs": [
    {
     "data": {
      "text/html": [
       "<style>\n",
       ".list-inline {list-style: none; margin:0; padding: 0}\n",
       ".list-inline>li {display: inline-block}\n",
       ".list-inline>li:not(:last-child)::after {content: \"\\00b7\"; padding: 0 .5ex}\n",
       "</style>\n",
       "<ol class=list-inline><li>6753</li><li>8003</li><li>10566</li><li>12528</li><li>14760</li><li>16769</li><li>19819</li><li>22362</li><li>25340</li><li>25343</li><li>29269</li><li>30514</li></ol>\n"
      ],
      "text/latex": [
       "\\begin{enumerate*}\n",
       "\\item 6753\n",
       "\\item 8003\n",
       "\\item 10566\n",
       "\\item 12528\n",
       "\\item 14760\n",
       "\\item 16769\n",
       "\\item 19819\n",
       "\\item 22362\n",
       "\\item 25340\n",
       "\\item 25343\n",
       "\\item 29269\n",
       "\\item 30514\n",
       "\\end{enumerate*}\n"
      ],
      "text/markdown": [
       "1. 6753\n",
       "2. 8003\n",
       "3. 10566\n",
       "4. 12528\n",
       "5. 14760\n",
       "6. 16769\n",
       "7. 19819\n",
       "8. 22362\n",
       "9. 25340\n",
       "10. 25343\n",
       "11. 29269\n",
       "12. 30514\n",
       "\n",
       "\n"
      ],
      "text/plain": [
       " [1]  6753  8003 10566 12528 14760 16769 19819 22362 25340 25343 29269 30514"
      ]
     },
     "metadata": {},
     "output_type": "display_data"
    }
   ],
   "source": [
    "sort(secondHalf)"
   ]
  },
  {
   "cell_type": "markdown",
   "id": "90267aba-cafd-4349-9fda-8f32e6a89b63",
   "metadata": {},
   "source": [
    "#### Summaries:"
   ]
  },
  {
   "cell_type": "code",
   "execution_count": 39,
   "id": "378f9044-8245-4d20-a238-e88c92832ccf",
   "metadata": {},
   "outputs": [
    {
     "data": {
      "text/plain": [
       "   Min. 1st Qu.  Median    Mean 3rd Qu.    Max. \n",
       "  412.0   959.8  1526.0  2553.5  4008.5  6109.0 "
      ]
     },
     "metadata": {},
     "output_type": "display_data"
    }
   ],
   "source": [
    "summary(firstHalf)"
   ]
  },
  {
   "cell_type": "code",
   "execution_count": 40,
   "id": "b1c92277-187d-45c0-9f09-e2a2656bee28",
   "metadata": {},
   "outputs": [
    {
     "data": {
      "text/plain": [
       "   Min. 1st Qu.  Median    Mean 3rd Qu.    Max. \n",
       "   6753   12038   18294   18502   25341   30514 "
      ]
     },
     "metadata": {},
     "output_type": "display_data"
    }
   ],
   "source": [
    "summary(secondHalf)"
   ]
  },
  {
   "cell_type": "code",
   "execution_count": null,
   "id": "56f09432-ed08-4cbe-b85e-85b08c70b855",
   "metadata": {},
   "outputs": [],
   "source": []
  }
 ],
 "metadata": {
  "kernelspec": {
   "display_name": "R",
   "language": "R",
   "name": "ir"
  },
  "language_info": {
   "codemirror_mode": "r",
   "file_extension": ".r",
   "mimetype": "text/x-r-source",
   "name": "R",
   "pygments_lexer": "r",
   "version": "4.1.1"
  }
 },
 "nbformat": 4,
 "nbformat_minor": 5
}
