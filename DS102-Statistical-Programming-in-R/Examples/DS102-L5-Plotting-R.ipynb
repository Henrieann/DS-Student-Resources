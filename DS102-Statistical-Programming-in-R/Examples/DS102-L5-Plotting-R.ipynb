{
 "cells": [
  {
   "cell_type": "markdown",
   "id": "1f4efdb6-0238-4954-9e25-8c056c7e2859",
   "metadata": {},
   "source": [
    "## Plotting in R\n",
    "### Nolan Hardeman\n",
    "\n",
    "One of the graphing packages we use in R is ggplot2. This comes included, along with several other vital packages in the tidyverse library.\n",
    "\n",
    "Let's examine the mtcars and USArrests datasets."
   ]
  },
  {
   "cell_type": "code",
   "execution_count": 2,
   "id": "e9f4fedf-bf5a-4c03-865f-16ff73e366ad",
   "metadata": {},
   "outputs": [
    {
     "name": "stderr",
     "output_type": "stream",
     "text": [
      "-- \u001b[1mAttaching packages\u001b[22m ------------------------------------------------------------------------------- tidyverse 1.3.1 --\n",
      "\n",
      "\u001b[32mv\u001b[39m \u001b[34mggplot2\u001b[39m 3.3.5     \u001b[32mv\u001b[39m \u001b[34mpurrr  \u001b[39m 0.3.4\n",
      "\u001b[32mv\u001b[39m \u001b[34mtibble \u001b[39m 3.1.2     \u001b[32mv\u001b[39m \u001b[34mdplyr  \u001b[39m 1.0.6\n",
      "\u001b[32mv\u001b[39m \u001b[34mtidyr  \u001b[39m 1.1.3     \u001b[32mv\u001b[39m \u001b[34mstringr\u001b[39m 1.4.0\n",
      "\u001b[32mv\u001b[39m \u001b[34mreadr  \u001b[39m 1.4.0     \u001b[32mv\u001b[39m \u001b[34mforcats\u001b[39m 0.5.1\n",
      "\n",
      "-- \u001b[1mConflicts\u001b[22m ---------------------------------------------------------------------------------- tidyverse_conflicts() --\n",
      "\u001b[31mx\u001b[39m \u001b[34mdplyr\u001b[39m::\u001b[32mfilter()\u001b[39m masks \u001b[34mstats\u001b[39m::filter()\n",
      "\u001b[31mx\u001b[39m \u001b[34mdplyr\u001b[39m::\u001b[32mlag()\u001b[39m    masks \u001b[34mstats\u001b[39m::lag()\n",
      "\n"
     ]
    }
   ],
   "source": [
    "library(tidyverse)\n",
    "library(datasets)"
   ]
  },
  {
   "cell_type": "code",
   "execution_count": 3,
   "id": "b57c774d-8dc4-4a4e-89a9-f18f98a30d35",
   "metadata": {},
   "outputs": [
    {
     "data": {
      "text/html": [
       "<table class=\"dataframe\">\n",
       "<caption>A data.frame: 6 × 11</caption>\n",
       "<thead>\n",
       "\t<tr><th></th><th scope=col>mpg</th><th scope=col>cyl</th><th scope=col>disp</th><th scope=col>hp</th><th scope=col>drat</th><th scope=col>wt</th><th scope=col>qsec</th><th scope=col>vs</th><th scope=col>am</th><th scope=col>gear</th><th scope=col>carb</th></tr>\n",
       "\t<tr><th></th><th scope=col>&lt;dbl&gt;</th><th scope=col>&lt;dbl&gt;</th><th scope=col>&lt;dbl&gt;</th><th scope=col>&lt;dbl&gt;</th><th scope=col>&lt;dbl&gt;</th><th scope=col>&lt;dbl&gt;</th><th scope=col>&lt;dbl&gt;</th><th scope=col>&lt;dbl&gt;</th><th scope=col>&lt;dbl&gt;</th><th scope=col>&lt;dbl&gt;</th><th scope=col>&lt;dbl&gt;</th></tr>\n",
       "</thead>\n",
       "<tbody>\n",
       "\t<tr><th scope=row>Mazda RX4</th><td>21.0</td><td>6</td><td>160</td><td>110</td><td>3.90</td><td>2.620</td><td>16.46</td><td>0</td><td>1</td><td>4</td><td>4</td></tr>\n",
       "\t<tr><th scope=row>Mazda RX4 Wag</th><td>21.0</td><td>6</td><td>160</td><td>110</td><td>3.90</td><td>2.875</td><td>17.02</td><td>0</td><td>1</td><td>4</td><td>4</td></tr>\n",
       "\t<tr><th scope=row>Datsun 710</th><td>22.8</td><td>4</td><td>108</td><td> 93</td><td>3.85</td><td>2.320</td><td>18.61</td><td>1</td><td>1</td><td>4</td><td>1</td></tr>\n",
       "\t<tr><th scope=row>Hornet 4 Drive</th><td>21.4</td><td>6</td><td>258</td><td>110</td><td>3.08</td><td>3.215</td><td>19.44</td><td>1</td><td>0</td><td>3</td><td>1</td></tr>\n",
       "\t<tr><th scope=row>Hornet Sportabout</th><td>18.7</td><td>8</td><td>360</td><td>175</td><td>3.15</td><td>3.440</td><td>17.02</td><td>0</td><td>0</td><td>3</td><td>2</td></tr>\n",
       "\t<tr><th scope=row>Valiant</th><td>18.1</td><td>6</td><td>225</td><td>105</td><td>2.76</td><td>3.460</td><td>20.22</td><td>1</td><td>0</td><td>3</td><td>1</td></tr>\n",
       "</tbody>\n",
       "</table>\n"
      ],
      "text/latex": [
       "A data.frame: 6 × 11\n",
       "\\begin{tabular}{r|lllllllllll}\n",
       "  & mpg & cyl & disp & hp & drat & wt & qsec & vs & am & gear & carb\\\\\n",
       "  & <dbl> & <dbl> & <dbl> & <dbl> & <dbl> & <dbl> & <dbl> & <dbl> & <dbl> & <dbl> & <dbl>\\\\\n",
       "\\hline\n",
       "\tMazda RX4 & 21.0 & 6 & 160 & 110 & 3.90 & 2.620 & 16.46 & 0 & 1 & 4 & 4\\\\\n",
       "\tMazda RX4 Wag & 21.0 & 6 & 160 & 110 & 3.90 & 2.875 & 17.02 & 0 & 1 & 4 & 4\\\\\n",
       "\tDatsun 710 & 22.8 & 4 & 108 &  93 & 3.85 & 2.320 & 18.61 & 1 & 1 & 4 & 1\\\\\n",
       "\tHornet 4 Drive & 21.4 & 6 & 258 & 110 & 3.08 & 3.215 & 19.44 & 1 & 0 & 3 & 1\\\\\n",
       "\tHornet Sportabout & 18.7 & 8 & 360 & 175 & 3.15 & 3.440 & 17.02 & 0 & 0 & 3 & 2\\\\\n",
       "\tValiant & 18.1 & 6 & 225 & 105 & 2.76 & 3.460 & 20.22 & 1 & 0 & 3 & 1\\\\\n",
       "\\end{tabular}\n"
      ],
      "text/markdown": [
       "\n",
       "A data.frame: 6 × 11\n",
       "\n",
       "| <!--/--> | mpg &lt;dbl&gt; | cyl &lt;dbl&gt; | disp &lt;dbl&gt; | hp &lt;dbl&gt; | drat &lt;dbl&gt; | wt &lt;dbl&gt; | qsec &lt;dbl&gt; | vs &lt;dbl&gt; | am &lt;dbl&gt; | gear &lt;dbl&gt; | carb &lt;dbl&gt; |\n",
       "|---|---|---|---|---|---|---|---|---|---|---|---|\n",
       "| Mazda RX4 | 21.0 | 6 | 160 | 110 | 3.90 | 2.620 | 16.46 | 0 | 1 | 4 | 4 |\n",
       "| Mazda RX4 Wag | 21.0 | 6 | 160 | 110 | 3.90 | 2.875 | 17.02 | 0 | 1 | 4 | 4 |\n",
       "| Datsun 710 | 22.8 | 4 | 108 |  93 | 3.85 | 2.320 | 18.61 | 1 | 1 | 4 | 1 |\n",
       "| Hornet 4 Drive | 21.4 | 6 | 258 | 110 | 3.08 | 3.215 | 19.44 | 1 | 0 | 3 | 1 |\n",
       "| Hornet Sportabout | 18.7 | 8 | 360 | 175 | 3.15 | 3.440 | 17.02 | 0 | 0 | 3 | 2 |\n",
       "| Valiant | 18.1 | 6 | 225 | 105 | 2.76 | 3.460 | 20.22 | 1 | 0 | 3 | 1 |\n",
       "\n"
      ],
      "text/plain": [
       "                  mpg  cyl disp hp  drat wt    qsec  vs am gear carb\n",
       "Mazda RX4         21.0 6   160  110 3.90 2.620 16.46 0  1  4    4   \n",
       "Mazda RX4 Wag     21.0 6   160  110 3.90 2.875 17.02 0  1  4    4   \n",
       "Datsun 710        22.8 4   108   93 3.85 2.320 18.61 1  1  4    1   \n",
       "Hornet 4 Drive    21.4 6   258  110 3.08 3.215 19.44 1  0  3    1   \n",
       "Hornet Sportabout 18.7 8   360  175 3.15 3.440 17.02 0  0  3    2   \n",
       "Valiant           18.1 6   225  105 2.76 3.460 20.22 1  0  3    1   "
      ]
     },
     "metadata": {},
     "output_type": "display_data"
    }
   ],
   "source": [
    "head(mtcars)"
   ]
  },
  {
   "cell_type": "code",
   "execution_count": 4,
   "id": "54ec17a3-a45e-4ee3-b8f3-e141c8af7990",
   "metadata": {},
   "outputs": [],
   "source": [
    "a = ggplot(mtcars)"
   ]
  },
  {
   "cell_type": "markdown",
   "id": "cf9edbea-9f14-4197-ac44-5134b2c84391",
   "metadata": {},
   "source": [
    "## Histogram"
   ]
  },
  {
   "cell_type": "code",
   "execution_count": 5,
   "id": "2a75bc24-312c-41ff-a527-aae2fc4f40aa",
   "metadata": {},
   "outputs": [
    {
     "data": {
      "image/png": "[encoded data removed]",
      "text/plain": [
       "plot without title"
      ]
     },
     "metadata": {
      "image/png": {
       "height": 420,
       "width": 420
      }
     },
     "output_type": "display_data"
    }
   ],
   "source": [
    "# histogram of cylinders\n",
    "a + geom_histogram(aes(x = cyl), bins = 10)"
   ]
  },
  {
   "cell_type": "markdown",
   "id": "62a9526b-8fd3-4658-b987-c90cb68d9a7c",
   "metadata": {},
   "source": [
    "### From this histogram of the cylinders column, we can see that there are over 12 cars with 8 cylinders, less than 8 with 6 cylinders, and over 10 with 4 cylinders.\n",
    "\n",
    "Let's see how many of each there actually are:"
   ]
  },
  {
   "cell_type": "code",
   "execution_count": 6,
   "id": "4e64c1d6-e4e4-48e4-9917-2534ecc6c1eb",
   "metadata": {},
   "outputs": [
    {
     "data": {
      "text/plain": [
       "\n",
       " 4  6  8 \n",
       "11  7 14 "
      ]
     },
     "metadata": {},
     "output_type": "display_data"
    }
   ],
   "source": [
    "table(mtcars$cyl)\n",
    "# There are 11 4-cyl cars, 7 6-cyl cars, and 14 8-cyl cars."
   ]
  },
  {
   "cell_type": "code",
   "execution_count": 7,
   "id": "d06190c5-9fb7-418f-afd4-e71aeb7cb92e",
   "metadata": {},
   "outputs": [
    {
     "data": {
      "image/png": "[encoded data removed]",
      "text/plain": [
       "plot without title"
      ]
     },
     "metadata": {
      "image/png": {
       "height": 420,
       "width": 420
      }
     },
     "output_type": "display_data"
    }
   ],
   "source": [
    "# of histogram of mpg\n",
    "a + geom_histogram(aes(x = mpg), bins = 20)"
   ]
  },
  {
   "cell_type": "markdown",
   "id": "bd31b8b0-db53-49a2-8cde-409024034995",
   "metadata": {},
   "source": [
    "### This provides us a nice visual of the cars by mpg in the dataset.\n",
    "\n",
    "Let's get a count now"
   ]
  },
  {
   "cell_type": "code",
   "execution_count": 8,
   "id": "6b5aebce-17b9-4158-88f7-8193717dccd7",
   "metadata": {},
   "outputs": [
    {
     "data": {
      "text/plain": [
       "\n",
       "10.4 13.3 14.3 14.7   15 15.2 15.5 15.8 16.4 17.3 17.8 18.1 18.7 19.2 19.7   21 \n",
       "   2    1    1    1    1    2    1    1    1    1    1    1    1    2    1    2 \n",
       "21.4 21.5 22.8 24.4   26 27.3 30.4 32.4 33.9 \n",
       "   2    1    2    1    1    1    2    1    1 "
      ]
     },
     "metadata": {},
     "output_type": "display_data"
    }
   ],
   "source": [
    "table(mtcars$mpg)\n",
    "# from this we can see that the visual could come off as misleading, as 2 cars really get 10.4 mpg, not 10 mpg"
   ]
  },
  {
   "cell_type": "code",
   "execution_count": 9,
   "id": "5791093d-c07b-4c2e-9cd0-e5bac0547b3e",
   "metadata": {},
   "outputs": [
    {
     "data": {
      "text/html": [
       "<table class=\"dataframe\">\n",
       "<caption>A data.frame: 6 × 4</caption>\n",
       "<thead>\n",
       "\t<tr><th></th><th scope=col>Murder</th><th scope=col>Assault</th><th scope=col>UrbanPop</th><th scope=col>Rape</th></tr>\n",
       "\t<tr><th></th><th scope=col>&lt;dbl&gt;</th><th scope=col>&lt;int&gt;</th><th scope=col>&lt;int&gt;</th><th scope=col>&lt;dbl&gt;</th></tr>\n",
       "</thead>\n",
       "<tbody>\n",
       "\t<tr><th scope=row>Alabama</th><td>13.2</td><td>236</td><td>58</td><td>21.2</td></tr>\n",
       "\t<tr><th scope=row>Alaska</th><td>10.0</td><td>263</td><td>48</td><td>44.5</td></tr>\n",
       "\t<tr><th scope=row>Arizona</th><td> 8.1</td><td>294</td><td>80</td><td>31.0</td></tr>\n",
       "\t<tr><th scope=row>Arkansas</th><td> 8.8</td><td>190</td><td>50</td><td>19.5</td></tr>\n",
       "\t<tr><th scope=row>California</th><td> 9.0</td><td>276</td><td>91</td><td>40.6</td></tr>\n",
       "\t<tr><th scope=row>Colorado</th><td> 7.9</td><td>204</td><td>78</td><td>38.7</td></tr>\n",
       "</tbody>\n",
       "</table>\n"
      ],
      "text/latex": [
       "A data.frame: 6 × 4\n",
       "\\begin{tabular}{r|llll}\n",
       "  & Murder & Assault & UrbanPop & Rape\\\\\n",
       "  & <dbl> & <int> & <int> & <dbl>\\\\\n",
       "\\hline\n",
       "\tAlabama & 13.2 & 236 & 58 & 21.2\\\\\n",
       "\tAlaska & 10.0 & 263 & 48 & 44.5\\\\\n",
       "\tArizona &  8.1 & 294 & 80 & 31.0\\\\\n",
       "\tArkansas &  8.8 & 190 & 50 & 19.5\\\\\n",
       "\tCalifornia &  9.0 & 276 & 91 & 40.6\\\\\n",
       "\tColorado &  7.9 & 204 & 78 & 38.7\\\\\n",
       "\\end{tabular}\n"
      ],
      "text/markdown": [
       "\n",
       "A data.frame: 6 × 4\n",
       "\n",
       "| <!--/--> | Murder &lt;dbl&gt; | Assault &lt;int&gt; | UrbanPop &lt;int&gt; | Rape &lt;dbl&gt; |\n",
       "|---|---|---|---|---|\n",
       "| Alabama | 13.2 | 236 | 58 | 21.2 |\n",
       "| Alaska | 10.0 | 263 | 48 | 44.5 |\n",
       "| Arizona |  8.1 | 294 | 80 | 31.0 |\n",
       "| Arkansas |  8.8 | 190 | 50 | 19.5 |\n",
       "| California |  9.0 | 276 | 91 | 40.6 |\n",
       "| Colorado |  7.9 | 204 | 78 | 38.7 |\n",
       "\n"
      ],
      "text/plain": [
       "           Murder Assault UrbanPop Rape\n",
       "Alabama    13.2   236     58       21.2\n",
       "Alaska     10.0   263     48       44.5\n",
       "Arizona     8.1   294     80       31.0\n",
       "Arkansas    8.8   190     50       19.5\n",
       "California  9.0   276     91       40.6\n",
       "Colorado    7.9   204     78       38.7"
      ]
     },
     "metadata": {},
     "output_type": "display_data"
    }
   ],
   "source": [
    "head(USArrests)"
   ]
  },
  {
   "cell_type": "code",
   "execution_count": 10,
   "id": "88e65ba4-c92f-4e92-9eb6-d31094de94dc",
   "metadata": {},
   "outputs": [],
   "source": [
    "b = ggplot(USArrests)"
   ]
  },
  {
   "cell_type": "code",
   "execution_count": 11,
   "id": "a7a2cc48-67b0-4706-bb86-86780a213054",
   "metadata": {},
   "outputs": [
    {
     "data": {
      "image/png": "[encoded data removed]",
      "text/plain": [
       "plot without title"
      ]
     },
     "metadata": {
      "image/png": {
       "height": 420,
       "width": 420
      }
     },
     "output_type": "display_data"
    }
   ],
   "source": [
    "b + geom_histogram(aes(x = Murder), bins = 25)\n",
    "# a quick glance at this visual reveals that according to this data most states had a murder rate of 4.0-12.0"
   ]
  },
  {
   "cell_type": "markdown",
   "id": "d5401567-a44d-46b8-a438-d794ce2e9081",
   "metadata": {},
   "source": [
    "#### Let's get a more accurate look at the numbers"
   ]
  },
  {
   "cell_type": "code",
   "execution_count": 12,
   "id": "64169ca4-2c0e-411a-bc3d-019ce3150023",
   "metadata": {},
   "outputs": [
    {
     "ename": "ERROR",
     "evalue": "Error in parse(text = x, srcfile = src): <text>:2:0: unexpected end of input\n1: USArrests %>% select(\n   ^\n",
     "output_type": "error",
     "traceback": [
      "Error in parse(text = x, srcfile = src): <text>:2:0: unexpected end of input\n1: USArrests %>% select(\n   ^\nTraceback:\n"
     ]
    }
   ],
   "source": [
    "USArrests %>% select("
   ]
  },
  {
   "cell_type": "code",
   "execution_count": null,
   "id": "45d94e10-b113-4a3f-8406-a0cd26757cfc",
   "metadata": {},
   "outputs": [],
   "source": [
    "## how to get state names to appear alongside their respective rates in the table above ??"
   ]
  },
  {
   "cell_type": "code",
   "execution_count": 13,
   "id": "ee1b9f1b-59f4-4877-bcb1-501bd1cea637",
   "metadata": {},
   "outputs": [
    {
     "data": {
      "image/png": "[encoded data removed]",
      "text/plain": [
       "plot without title"
      ]
     },
     "metadata": {
      "image/png": {
       "height": 420,
       "width": 420
      }
     },
     "output_type": "display_data"
    }
   ],
   "source": [
    "b + geom_histogram(aes(x = UrbanPop), bins = 25)\n",
    "# histogram of the urban population"
   ]
  },
  {
   "cell_type": "code",
   "execution_count": null,
   "id": "2193b029-25a4-4241-8617-933636b95051",
   "metadata": {},
   "outputs": [],
   "source": []
  },
  {
   "cell_type": "code",
   "execution_count": null,
   "id": "303f500a-0815-428c-ac90-cf862a8db2a8",
   "metadata": {},
   "outputs": [],
   "source": []
  }
 ],
 "metadata": {
  "kernelspec": {
   "display_name": "R",
   "language": "R",
   "name": "ir"
  },
  "language_info": {
   "codemirror_mode": "r",
   "file_extension": ".r",
   "mimetype": "text/x-r-source",
   "name": "R",
   "pygments_lexer": "r",
   "version": "4.0.5"
  }
 },
 "nbformat": 4,
 "nbformat_minor": 5
}
