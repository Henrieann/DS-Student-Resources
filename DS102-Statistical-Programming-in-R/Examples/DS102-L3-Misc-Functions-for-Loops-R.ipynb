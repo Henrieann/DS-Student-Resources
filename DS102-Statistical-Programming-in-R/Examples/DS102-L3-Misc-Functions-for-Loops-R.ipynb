{
 "cells": [
  {
   "cell_type": "markdown",
   "id": "ae385efa-a828-4cb5-b637-885e0adb015e",
   "metadata": {},
   "source": [
    "## Volume of a Cylinder\n",
    "\n",
    "The volume of a cylinder is expressed in the function: $$Volume = pi * (radius)^2 * height$$\n",
    "\n",
    "This reads: The volume of a cylinder is equal to pi times the radius, quantity squared, times the height of the cylinder.\n",
    "\n",
    "Suppose you work for a rubber manufacturing plant, and they are hired to produce rubber cylindrical blocks. The customer has requested only blocks 47 centimeters tall.\n",
    "\n",
    "You are given a list of radii that the people over at R & D believe produce the sturdiest 47 cm tall blocks. You are tasked with reporting the various possible volumes to showcase to the customer before the final block size(s) are chosen."
   ]
  },
  {
   "cell_type": "code",
   "execution_count": 1,
   "id": "3a187e48-5006-4a33-8602-bf7e9a81e38d",
   "metadata": {},
   "outputs": [],
   "source": [
    "## radii list from R & D\n",
    "list = c(5.25, 5.63, 5.77, 5.78, 6.12, 6.68, 6.92, 7.03)"
   ]
  },
  {
   "cell_type": "code",
   "execution_count": 2,
   "id": "32089693-1b7c-4cfe-a794-cceecf4f5272",
   "metadata": {},
   "outputs": [],
   "source": [
    "## go ahead and set height equal to 27, h = 27\n",
    "h = 27"
   ]
  },
  {
   "cell_type": "markdown",
   "id": "ec185a65-d054-4261-aa11-1d38877a79b2",
   "metadata": {},
   "source": [
    "### make the function"
   ]
  },
  {
   "cell_type": "code",
   "execution_count": 5,
   "id": "397da8b7-4b5c-483b-97ea-3e7f7120cea0",
   "metadata": {},
   "outputs": [],
   "source": [
    "## assignt the function a name, and include the arugement of r, for radius\n",
    "CylVol = function(r){pi * (r)^2 * h}"
   ]
  },
  {
   "cell_type": "markdown",
   "id": "f1076070-52d5-4c5f-8682-e124b81a2e12",
   "metadata": {},
   "source": [
    "### For Loop Magic to iterate through our list, getting all volumes at once"
   ]
  },
  {
   "cell_type": "code",
   "execution_count": 6,
   "id": "6ac6a0f8-f03f-4214-b577-c45a87da325a",
   "metadata": {},
   "outputs": [
    {
     "name": "stdout",
     "output_type": "stream",
     "text": [
      "A cylinder with a height of 27 centimeters, and a radius of  5.25  centimeters has a volume of  2337.934  centimeters\n",
      "A cylinder with a height of 27 centimeters, and a radius of  5.63  centimeters has a volume of  2688.626  centimeters\n",
      "A cylinder with a height of 27 centimeters, and a radius of  5.77  centimeters has a volume of  2824.004  centimeters\n",
      "A cylinder with a height of 27 centimeters, and a radius of  5.78  centimeters has a volume of  2833.801  centimeters\n",
      "A cylinder with a height of 27 centimeters, and a radius of  6.12  centimeters has a volume of  3176.995  centimeters\n",
      "A cylinder with a height of 27 centimeters, and a radius of  6.68  centimeters has a volume of  3785.006  centimeters\n",
      "A cylinder with a height of 27 centimeters, and a radius of  6.92  centimeters has a volume of  4061.868  centimeters\n",
      "A cylinder with a height of 27 centimeters, and a radius of  7.03  centimeters has a volume of  4192.029  centimeters\n"
     ]
    }
   ],
   "source": [
    "for (r in list){\n",
    "  d = CylVol(r)\n",
    "  cat(\"A cylinder with a height of 27 centimeters, and a radius of \", r, \" centimeters has a volume of \", d, \" centimeters\\n\")\n",
    "}"
   ]
  },
  {
   "cell_type": "markdown",
   "id": "55d7129d-66a9-418d-bc2b-1d023dc04842",
   "metadata": {},
   "source": [
    "## What if you worked for an ice cream company and you were asked to solve for the volume of a new ice cream cone that has been recently sketched\n",
    "\n",
    "The cone has 3 different potential heights, all in centimeters: 12.7, 12.95, and 13.4. Research shows that the radius should lie between 5.08 and 5.842 centimeters.\n",
    "\n",
    "__Now that you have your parameters, let's catch a refresher of the formula for finding the volume of a cone:__\n",
    "\n",
    "$$Volume = 1/3 * pi * (radius)^2 * height$$\n",
    "\n",
    "compile a list of 5 potential radii. Then show the volume of an ice cream cone with that respective radius."
   ]
  },
  {
   "cell_type": "code",
   "execution_count": 1,
   "id": "a61ff6b5-0e92-484d-ad53-a5fc2d5b401b",
   "metadata": {},
   "outputs": [],
   "source": [
    "coneRadii = c(5.085, 5.2, 5.35, 5.75, 5.841)\n",
    "# list of radii between 5.08 and 5.842"
   ]
  },
  {
   "cell_type": "markdown",
   "id": "766515f8-1164-4378-b3c3-5fcb3f4ee8f2",
   "metadata": {},
   "source": [
    "Now comes the function. Let's code 3 separate functions, each with a different heighth. We could just set height equal to h and change h's value right before we execute the function, but this way gives us more practice!"
   ]
  },
  {
   "cell_type": "code",
   "execution_count": 2,
   "id": "0efcd401-b5bb-4622-8bc4-e312a0897976",
   "metadata": {},
   "outputs": [],
   "source": [
    "smallHeight = function(r){(1/3)*pi*((r)^2)*12.7}"
   ]
  },
  {
   "cell_type": "code",
   "execution_count": 3,
   "id": "718d6bd2-2b02-4fe9-ae3b-fa071d90eea7",
   "metadata": {},
   "outputs": [],
   "source": [
    "mediumHeight = function(r){(1/3)*pi*((r)^2)*12.95}"
   ]
  },
  {
   "cell_type": "code",
   "execution_count": 4,
   "id": "98fb5313-a120-440a-b8b5-62041dd49ff1",
   "metadata": {},
   "outputs": [],
   "source": [
    "largeHeight = function(r){(1/3)*pi*((r)^2)*13.4}"
   ]
  },
  {
   "cell_type": "markdown",
   "id": "125df7b0-2390-4292-ba94-088ad4c139ae",
   "metadata": {},
   "source": [
    "### Time to get some outputs by plugging in our radii"
   ]
  },
  {
   "cell_type": "code",
   "execution_count": 5,
   "id": "d3bd5fff-a786-4437-9393-d59b09b508e3",
   "metadata": {},
   "outputs": [
    {
     "name": "stdout",
     "output_type": "stream",
     "text": [
      "A cone with a radius of  5.085  centimeters has a volume of  343.8858  centimeters\n",
      "A cone with a radius of  5.2  centimeters has a volume of  359.616  centimeters\n",
      "A cone with a radius of  5.35  centimeters has a volume of  380.6623  centimeters\n",
      "A cone with a radius of  5.75  centimeters has a volume of  439.7117  centimeters\n",
      "A cone with a radius of  5.841  centimeters has a volume of  453.7397  centimeters\n"
     ]
    }
   ],
   "source": [
    "## small volumes\n",
    "for (r in coneRadii){\n",
    "  x = smallHeight(r)\n",
    "  cat(\"A cone with a radius of \", r, \" centimeters has a volume of \", x, \" centimeters\\n\")\n",
    "}"
   ]
  },
  {
   "cell_type": "code",
   "execution_count": 6,
   "id": "2e16612b-a2bb-4463-9d52-95cb0cedfd2e",
   "metadata": {},
   "outputs": [
    {
     "name": "stdout",
     "output_type": "stream",
     "text": [
      "A cone with a radius of  5.085  centimeters has a volume of  350.6552  centimeters\n",
      "A cone with a radius of  5.2  centimeters has a volume of  366.6951  centimeters\n",
      "A cone with a radius of  5.35  centimeters has a volume of  388.1557  centimeters\n",
      "A cone with a radius of  5.75  centimeters has a volume of  448.3674  centimeters\n",
      "A cone with a radius of  5.841  centimeters has a volume of  462.6716  centimeters\n"
     ]
    }
   ],
   "source": [
    "## med volumes\n",
    "for (r in coneRadii){\n",
    "  y = mediumHeight(r)\n",
    "  cat(\"A cone with a radius of \", r, \" centimeters has a volume of \", y, \" centimeters\\n\")\n",
    "}"
   ]
  },
  {
   "cell_type": "code",
   "execution_count": 7,
   "id": "04badbec-a002-46de-957d-cb3ef94a1dcc",
   "metadata": {},
   "outputs": [
    {
     "name": "stdout",
     "output_type": "stream",
     "text": [
      "A cone with a radius of  5.085  centimeters has a volume of  362.8401  centimeters\n",
      "A cone with a radius of  5.2  centimeters has a volume of  379.4374  centimeters\n",
      "A cone with a radius of  5.35  centimeters has a volume of  401.6437  centimeters\n",
      "A cone with a radius of  5.75  centimeters has a volume of  463.9478  centimeters\n",
      "A cone with a radius of  5.841  centimeters has a volume of  478.7489  centimeters\n"
     ]
    }
   ],
   "source": [
    "## large volumes\n",
    "for (r in coneRadii){\n",
    "  z = largeHeight(r)\n",
    "  cat(\"A cone with a radius of \", r, \" centimeters has a volume of \", z, \" centimeters\\n\")\n",
    "}"
   ]
  },
  {
   "cell_type": "code",
   "execution_count": null,
   "id": "1180a6c3-3fc8-47e3-a320-3e627baad465",
   "metadata": {},
   "outputs": [],
   "source": []
  }
 ],
 "metadata": {
  "kernelspec": {
   "display_name": "R",
   "language": "R",
   "name": "ir"
  },
  "language_info": {
   "codemirror_mode": "r",
   "file_extension": ".r",
   "mimetype": "text/x-r-source",
   "name": "R",
   "pygments_lexer": "r",
   "version": "4.1.2"
  }
 },
 "nbformat": 4,
 "nbformat_minor": 5
}
