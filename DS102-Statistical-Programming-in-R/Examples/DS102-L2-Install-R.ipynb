{
 "cells": [
  {
   "cell_type": "markdown",
   "id": "65c04082-ee9b-4a41-8eff-55a3f9cf68bf",
   "metadata": {},
   "source": [
    "![R Logo](https://www.r-project.org/Rlogo.png)\n",
    "***\n",
    "[Home](https://www.r-project.org/) |\n",
    "[Downloads](https://cran.r-project.org/mirrors.html) |\n",
    "[About R](https://www.r-project.org/about.html) |\n",
    "[What’s New?](https://www.r-project.org/news.html) |\n",
    "[Developer Pages](https://developer.r-project.org/) |\n",
    "[R Blog](https://developer.r-project.org/Blog/public/)\n",
    "***"
   ]
  },
  {
   "cell_type": "markdown",
   "id": "fdf45f49-ef5d-413c-b6de-1b3b318b0827",
   "metadata": {},
   "source": [
    "- [Howto: Install R Kernel into Jupyter](https://richpauloo.github.io/2018-05-16-Installing-the-R-kernel-in-Jupyter-Lab/)\n",
    "- [irkernel](https://irkernel.github.io/)"
   ]
  },
  {
   "cell_type": "code",
   "execution_count": 2,
   "id": "1469ba41-abbd-4f70-86f3-7b46ae0c24ce",
   "metadata": {},
   "outputs": [
    {
     "name": "stdout",
     "output_type": "stream",
     "text": [
      "[1] \"Hello from R inside Jupyter!!!\"\n"
     ]
    }
   ],
   "source": [
    "print(\"Hello from R inside Jupyter!!!\")"
   ]
  },
  {
   "cell_type": "code",
   "execution_count": 3,
   "id": "27f8238b-77cd-4118-bdea-6024f1f76469",
   "metadata": {},
   "outputs": [
    {
     "data": {
      "text/plain": [
       "               _                           \n",
       "platform       x86_64-apple-darwin17.0     \n",
       "arch           x86_64                      \n",
       "os             darwin17.0                  \n",
       "system         x86_64, darwin17.0          \n",
       "status                                     \n",
       "major          4                           \n",
       "minor          1.2                         \n",
       "year           2021                        \n",
       "month          11                          \n",
       "day            01                          \n",
       "svn rev        81115                       \n",
       "language       R                           \n",
       "version.string R version 4.1.2 (2021-11-01)\n",
       "nickname       Bird Hippie                 "
      ]
     },
     "metadata": {},
     "output_type": "display_data"
    }
   ],
   "source": [
    "version"
   ]
  },
  {
   "cell_type": "code",
   "execution_count": 4,
   "id": "3289032f-f999-45b0-abd4-7b32dc4dc974",
   "metadata": {},
   "outputs": [
    {
     "data": {
      "text/html": [
       "<dl>\n",
       "\t<dt>$platform</dt>\n",
       "\t\t<dd>'x86_64-apple-darwin17.0'</dd>\n",
       "\t<dt>$arch</dt>\n",
       "\t\t<dd>'x86_64'</dd>\n",
       "\t<dt>$os</dt>\n",
       "\t\t<dd>'darwin17.0'</dd>\n",
       "\t<dt>$system</dt>\n",
       "\t\t<dd>'x86_64, darwin17.0'</dd>\n",
       "\t<dt>$status</dt>\n",
       "\t\t<dd>''</dd>\n",
       "\t<dt>$major</dt>\n",
       "\t\t<dd>'4'</dd>\n",
       "\t<dt>$minor</dt>\n",
       "\t\t<dd>'1.2'</dd>\n",
       "\t<dt>$year</dt>\n",
       "\t\t<dd>'2021'</dd>\n",
       "\t<dt>$month</dt>\n",
       "\t\t<dd>'11'</dd>\n",
       "\t<dt>$day</dt>\n",
       "\t\t<dd>'01'</dd>\n",
       "\t<dt>$`svn rev`</dt>\n",
       "\t\t<dd>'81115'</dd>\n",
       "\t<dt>$language</dt>\n",
       "\t\t<dd>'R'</dd>\n",
       "\t<dt>$version.string</dt>\n",
       "\t\t<dd>'R version 4.1.2 (2021-11-01)'</dd>\n",
       "\t<dt>$nickname</dt>\n",
       "\t\t<dd>'Bird Hippie'</dd>\n",
       "</dl>\n"
      ],
      "text/latex": [
       "\\begin{description}\n",
       "\\item[\\$platform] 'x86\\_64-apple-darwin17.0'\n",
       "\\item[\\$arch] 'x86\\_64'\n",
       "\\item[\\$os] 'darwin17.0'\n",
       "\\item[\\$system] 'x86\\_64, darwin17.0'\n",
       "\\item[\\$status] ''\n",
       "\\item[\\$major] '4'\n",
       "\\item[\\$minor] '1.2'\n",
       "\\item[\\$year] '2021'\n",
       "\\item[\\$month] '11'\n",
       "\\item[\\$day] '01'\n",
       "\\item[\\$`svn rev`] '81115'\n",
       "\\item[\\$language] 'R'\n",
       "\\item[\\$version.string] 'R version 4.1.2 (2021-11-01)'\n",
       "\\item[\\$nickname] 'Bird Hippie'\n",
       "\\end{description}\n"
      ],
      "text/markdown": [
       "$platform\n",
       ":   'x86_64-apple-darwin17.0'\n",
       "$arch\n",
       ":   'x86_64'\n",
       "$os\n",
       ":   'darwin17.0'\n",
       "$system\n",
       ":   'x86_64, darwin17.0'\n",
       "$status\n",
       ":   ''\n",
       "$major\n",
       ":   '4'\n",
       "$minor\n",
       ":   '1.2'\n",
       "$year\n",
       ":   '2021'\n",
       "$month\n",
       ":   '11'\n",
       "$day\n",
       ":   '01'\n",
       "$`svn rev`\n",
       ":   '81115'\n",
       "$language\n",
       ":   'R'\n",
       "$version.string\n",
       ":   'R version 4.1.2 (2021-11-01)'\n",
       "$nickname\n",
       ":   'Bird Hippie'\n",
       "\n",
       "\n"
      ],
      "text/plain": [
       "$platform\n",
       "[1] \"x86_64-apple-darwin17.0\"\n",
       "\n",
       "$arch\n",
       "[1] \"x86_64\"\n",
       "\n",
       "$os\n",
       "[1] \"darwin17.0\"\n",
       "\n",
       "$system\n",
       "[1] \"x86_64, darwin17.0\"\n",
       "\n",
       "$status\n",
       "[1] \"\"\n",
       "\n",
       "$major\n",
       "[1] \"4\"\n",
       "\n",
       "$minor\n",
       "[1] \"1.2\"\n",
       "\n",
       "$year\n",
       "[1] \"2021\"\n",
       "\n",
       "$month\n",
       "[1] \"11\"\n",
       "\n",
       "$day\n",
       "[1] \"01\"\n",
       "\n",
       "$`svn rev`\n",
       "[1] \"81115\"\n",
       "\n",
       "$language\n",
       "[1] \"R\"\n",
       "\n",
       "$version.string\n",
       "[1] \"R version 4.1.2 (2021-11-01)\"\n",
       "\n",
       "$nickname\n",
       "[1] \"Bird Hippie\"\n"
      ]
     },
     "metadata": {},
     "output_type": "display_data"
    }
   ],
   "source": [
    "R.Version()"
   ]
  },
  {
   "cell_type": "markdown",
   "id": "aad27c0d-92dd-4448-b6c2-f58aa605af27",
   "metadata": {},
   "source": [
    "This helps to install from the terminal \n",
    "https://irkernel.github.io/installation/#binary-panel\n"
   ]
  },
  {
   "cell_type": "markdown",
   "id": "1e2db1fd-cda6-45f8-9c6a-7a14007d8d60",
   "metadata": {},
   "source": [
    "## Installing packages\n",
    "\n",
    "a simple command called install.packages.\n",
    "\n",
    "```R\n",
    "install.packages(\"Ecdat\")\n",
    "```"
   ]
  },
  {
   "cell_type": "code",
   "execution_count": 5,
   "id": "2904357c-d36e-4269-a939-89afda431bf9",
   "metadata": {},
   "outputs": [
    {
     "name": "stderr",
     "output_type": "stream",
     "text": [
      "also installing the dependencies ‘misc3d’, ‘locfit’, ‘ash’, ‘FNN’, ‘kernlab’, ‘mclust’, ‘multicool’, ‘plot3D’, ‘pracma’, ‘hdrcde’, ‘ks’, ‘bitops’, ‘rainbow’, ‘RCurl’, ‘DEoptimR’, ‘pcaPP’, ‘fds’, ‘deSolve’, ‘leaps’, ‘robustbase’, ‘inline’, ‘rrcov’, ‘fda’, ‘tis’, ‘jpeg’, ‘TeachingDemos’, ‘BMA’, ‘Ecfun’\n",
      "\n",
      "\n"
     ]
    },
    {
     "name": "stdout",
     "output_type": "stream",
     "text": [
      "\n",
      "  There is a binary version available but the source version is later:\n",
      "         binary source needs_compilation\n",
      "DEoptimR  1.0-9 1.0-10             FALSE\n",
      "\n",
      "\n",
      "The downloaded binary packages are in\n",
      "\t/var/folders/wk/6why77bn1kn0l0pkd4vd3zl00000gn/T//RtmpotE56G/downloaded_packages\n"
     ]
    },
    {
     "name": "stderr",
     "output_type": "stream",
     "text": [
      "installing the source package ‘DEoptimR’\n",
      "\n",
      "\n"
     ]
    }
   ],
   "source": [
    "install.packages(\"Ecdat\")"
   ]
  },
  {
   "cell_type": "markdown",
   "id": "2cc51d66-48ab-4ea7-b874-7ae4462298e4",
   "metadata": {},
   "source": [
    "Before you can use this package you need to call it with the library(Ecdat) function\n",
    "\n",
    "```R\n",
    "library(Ecdat)\n",
    "```"
   ]
  },
  {
   "cell_type": "code",
   "execution_count": 7,
   "id": "006a62cc-3923-4ebb-a213-28af91c3aba8",
   "metadata": {},
   "outputs": [],
   "source": [
    "library(Ecdat)"
   ]
  },
  {
   "cell_type": "markdown",
   "id": "b4a35ebe-ae86-4014-90d0-f3ca66069e98",
   "metadata": {},
   "source": [
    "## Ecdat is short for Econometric data\n",
    "\n",
    "more information can be found here: https://rdrr.io/cran/Ecdat/"
   ]
  },
  {
   "cell_type": "code",
   "execution_count": 8,
   "id": "39ba0f08-e888-43c4-aa46-50fefb132535",
   "metadata": {},
   "outputs": [
    {
     "data": {
      "text/html": [
       "<table class=\"dataframe\">\n",
       "<caption>A data.frame: 6 × 9</caption>\n",
       "<thead>\n",
       "\t<tr><th></th><th scope=col>state</th><th scope=col>year</th><th scope=col>cpi</th><th scope=col>pop</th><th scope=col>packpc</th><th scope=col>income</th><th scope=col>tax</th><th scope=col>avgprs</th><th scope=col>taxs</th></tr>\n",
       "\t<tr><th></th><th scope=col>&lt;fct&gt;</th><th scope=col>&lt;int&gt;</th><th scope=col>&lt;dbl&gt;</th><th scope=col>&lt;int&gt;</th><th scope=col>&lt;dbl&gt;</th><th scope=col>&lt;int&gt;</th><th scope=col>&lt;dbl&gt;</th><th scope=col>&lt;dbl&gt;</th><th scope=col>&lt;dbl&gt;</th></tr>\n",
       "</thead>\n",
       "<tbody>\n",
       "\t<tr><th scope=row>1</th><td>AL</td><td>1985</td><td>1.076</td><td> 3973000</td><td>116.4863</td><td> 46014968</td><td>32.5</td><td>102.18167</td><td>33.34834</td></tr>\n",
       "\t<tr><th scope=row>2</th><td>AR</td><td>1985</td><td>1.076</td><td> 2327000</td><td>128.5346</td><td> 26210736</td><td>37.0</td><td>101.47500</td><td>37.00000</td></tr>\n",
       "\t<tr><th scope=row>3</th><td>AZ</td><td>1985</td><td>1.076</td><td> 3184000</td><td>104.5226</td><td> 43956936</td><td>31.0</td><td>108.57875</td><td>36.17042</td></tr>\n",
       "\t<tr><th scope=row>4</th><td>CA</td><td>1985</td><td>1.076</td><td>26444000</td><td>100.3630</td><td>447102816</td><td>26.0</td><td>107.83734</td><td>32.10400</td></tr>\n",
       "\t<tr><th scope=row>5</th><td>CO</td><td>1985</td><td>1.076</td><td> 3209000</td><td>112.9635</td><td> 49466672</td><td>31.0</td><td> 94.26666</td><td>31.00000</td></tr>\n",
       "\t<tr><th scope=row>6</th><td>CT</td><td>1985</td><td>1.076</td><td> 3201000</td><td>109.2784</td><td> 60063368</td><td>42.0</td><td>128.02499</td><td>51.48333</td></tr>\n",
       "</tbody>\n",
       "</table>\n"
      ],
      "text/latex": [
       "A data.frame: 6 × 9\n",
       "\\begin{tabular}{r|lllllllll}\n",
       "  & state & year & cpi & pop & packpc & income & tax & avgprs & taxs\\\\\n",
       "  & <fct> & <int> & <dbl> & <int> & <dbl> & <int> & <dbl> & <dbl> & <dbl>\\\\\n",
       "\\hline\n",
       "\t1 & AL & 1985 & 1.076 &  3973000 & 116.4863 &  46014968 & 32.5 & 102.18167 & 33.34834\\\\\n",
       "\t2 & AR & 1985 & 1.076 &  2327000 & 128.5346 &  26210736 & 37.0 & 101.47500 & 37.00000\\\\\n",
       "\t3 & AZ & 1985 & 1.076 &  3184000 & 104.5226 &  43956936 & 31.0 & 108.57875 & 36.17042\\\\\n",
       "\t4 & CA & 1985 & 1.076 & 26444000 & 100.3630 & 447102816 & 26.0 & 107.83734 & 32.10400\\\\\n",
       "\t5 & CO & 1985 & 1.076 &  3209000 & 112.9635 &  49466672 & 31.0 &  94.26666 & 31.00000\\\\\n",
       "\t6 & CT & 1985 & 1.076 &  3201000 & 109.2784 &  60063368 & 42.0 & 128.02499 & 51.48333\\\\\n",
       "\\end{tabular}\n"
      ],
      "text/markdown": [
       "\n",
       "A data.frame: 6 × 9\n",
       "\n",
       "| <!--/--> | state &lt;fct&gt; | year &lt;int&gt; | cpi &lt;dbl&gt; | pop &lt;int&gt; | packpc &lt;dbl&gt; | income &lt;int&gt; | tax &lt;dbl&gt; | avgprs &lt;dbl&gt; | taxs &lt;dbl&gt; |\n",
       "|---|---|---|---|---|---|---|---|---|---|\n",
       "| 1 | AL | 1985 | 1.076 |  3973000 | 116.4863 |  46014968 | 32.5 | 102.18167 | 33.34834 |\n",
       "| 2 | AR | 1985 | 1.076 |  2327000 | 128.5346 |  26210736 | 37.0 | 101.47500 | 37.00000 |\n",
       "| 3 | AZ | 1985 | 1.076 |  3184000 | 104.5226 |  43956936 | 31.0 | 108.57875 | 36.17042 |\n",
       "| 4 | CA | 1985 | 1.076 | 26444000 | 100.3630 | 447102816 | 26.0 | 107.83734 | 32.10400 |\n",
       "| 5 | CO | 1985 | 1.076 |  3209000 | 112.9635 |  49466672 | 31.0 |  94.26666 | 31.00000 |\n",
       "| 6 | CT | 1985 | 1.076 |  3201000 | 109.2784 |  60063368 | 42.0 | 128.02499 | 51.48333 |\n",
       "\n"
      ],
      "text/plain": [
       "  state year cpi   pop      packpc   income    tax  avgprs    taxs    \n",
       "1 AL    1985 1.076  3973000 116.4863  46014968 32.5 102.18167 33.34834\n",
       "2 AR    1985 1.076  2327000 128.5346  26210736 37.0 101.47500 37.00000\n",
       "3 AZ    1985 1.076  3184000 104.5226  43956936 31.0 108.57875 36.17042\n",
       "4 CA    1985 1.076 26444000 100.3630 447102816 26.0 107.83734 32.10400\n",
       "5 CO    1985 1.076  3209000 112.9635  49466672 31.0  94.26666 31.00000\n",
       "6 CT    1985 1.076  3201000 109.2784  60063368 42.0 128.02499 51.48333"
      ]
     },
     "metadata": {},
     "output_type": "display_data"
    }
   ],
   "source": [
    "head(Cigarette)"
   ]
  },
  {
   "cell_type": "markdown",
   "id": "0b3e0283-dfdf-49f3-b025-725fd9aedec5",
   "metadata": {},
   "source": [
    "## Ecfun: Functions for 'Ecdat'\n",
    "Notice that Ecfun was required https://rdrr.io/cran/Ecfun/"
   ]
  },
  {
   "cell_type": "code",
   "execution_count": 9,
   "id": "7f7c2f68-62b0-461e-ae49-f3455ee341f1",
   "metadata": {},
   "outputs": [
    {
     "data": {
      "text/html": [
       "<style>\n",
       ".list-inline {list-style: none; margin:0; padding: 0}\n",
       ".list-inline>li {display: inline-block}\n",
       ".list-inline>li:not(:last-child)::after {content: \"\\00b7\"; padding: 0 .5ex}\n",
       "</style>\n",
       "<ol class=list-inline><li>'state'</li><li>'year'</li><li>'cpi'</li><li>'pop'</li><li>'packpc'</li><li>'income'</li><li>'tax'</li><li>'avgprs'</li><li>'taxs'</li></ol>\n"
      ],
      "text/latex": [
       "\\begin{enumerate*}\n",
       "\\item 'state'\n",
       "\\item 'year'\n",
       "\\item 'cpi'\n",
       "\\item 'pop'\n",
       "\\item 'packpc'\n",
       "\\item 'income'\n",
       "\\item 'tax'\n",
       "\\item 'avgprs'\n",
       "\\item 'taxs'\n",
       "\\end{enumerate*}\n"
      ],
      "text/markdown": [
       "1. 'state'\n",
       "2. 'year'\n",
       "3. 'cpi'\n",
       "4. 'pop'\n",
       "5. 'packpc'\n",
       "6. 'income'\n",
       "7. 'tax'\n",
       "8. 'avgprs'\n",
       "9. 'taxs'\n",
       "\n",
       "\n"
      ],
      "text/plain": [
       "[1] \"state\"  \"year\"   \"cpi\"    \"pop\"    \"packpc\" \"income\" \"tax\"    \"avgprs\"\n",
       "[9] \"taxs\"  "
      ]
     },
     "metadata": {},
     "output_type": "display_data"
    }
   ],
   "source": [
    "colnames(Cigarette)"
   ]
  },
  {
   "cell_type": "code",
   "execution_count": null,
   "id": "38a28ab3-e24d-47c9-8829-92fa2457c25f",
   "metadata": {},
   "outputs": [],
   "source": []
  }
 ],
 "metadata": {
  "kernelspec": {
   "display_name": "R",
   "language": "R",
   "name": "ir"
  },
  "language_info": {
   "codemirror_mode": "r",
   "file_extension": ".r",
   "mimetype": "text/x-r-source",
   "name": "R",
   "pygments_lexer": "r",
   "version": "4.1.2"
  }
 },
 "nbformat": 4,
 "nbformat_minor": 5
}
