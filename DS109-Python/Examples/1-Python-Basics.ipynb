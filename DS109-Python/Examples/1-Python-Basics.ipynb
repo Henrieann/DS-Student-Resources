{
 "cells": [
  {
   "cell_type": "markdown",
   "id": "ea77a5ca-6eca-4357-8802-3b81a528b49d",
   "metadata": {},
   "source": [
    "<img src=\"https://www.python.org/static/img/python-logo@2x.png\" align=\"left\" alt=\"Python image\" width = \"300\">"
   ]
  },
  {
   "cell_type": "markdown",
   "id": "7916f62b-0715-4590-a505-f3ab2dd0360d",
   "metadata": {},
   "source": [
    "[Home](https://www.python.org/)\n",
    "[About](https://www.python.org/about/)\n",
    "[Downloads](https://www.python.org/downloads/)\n",
    "[Community](https://www.python.org/community/)\n",
    "[Success-Stories](https://www.python.org/success-stories/)\n",
    "[News](https://www.python.org/blogs/)\n",
    "[Events](https://www.python.org/events/)\n",
    "[Free-Books](https://pythonbooks.org/free-books/)\n",
    "***"
   ]
  },
  {
   "cell_type": "markdown",
   "id": "e6ffc23a-5cfb-4ca2-b3ec-61f084f6726b",
   "metadata": {},
   "source": [
    "## Check your Python version that Jupyter uses"
   ]
  },
  {
   "cell_type": "code",
   "execution_count": 1,
   "id": "f03a885e-1ab4-44a9-809f-d1a38531bc38",
   "metadata": {},
   "outputs": [
    {
     "name": "stdout",
     "output_type": "stream",
     "text": [
      "3.9.9 (main, Nov 21 2021, 03:23:42) \n",
      "[Clang 13.0.0 (clang-1300.0.29.3)]\n"
     ]
    }
   ],
   "source": [
    "import sys\n",
    "print(sys.version)\n"
   ]
  },
  {
   "cell_type": "markdown",
   "id": "e2c9565e-eec3-46ee-8677-0c849359c30e",
   "metadata": {},
   "source": [
    "## List your installed kernels"
   ]
  },
  {
   "cell_type": "code",
   "execution_count": 2,
   "id": "89172d05-db5b-470a-acb7-df7b72b709f3",
   "metadata": {},
   "outputs": [
    {
     "name": "stdout",
     "output_type": "stream",
     "text": [
      "Available kernels:\n",
      "  ir           /Users/jsr/Library/Jupyter/kernels/ir\n",
      "  julia-1.6    /Users/jsr/Library/Jupyter/kernels/julia-1.6\n",
      "  stata        /Users/jsr/Library/Jupyter/kernels/stata\n",
      "  python3      /usr/local/share/jupyter/kernels/python3\n"
     ]
    }
   ],
   "source": [
    "!jupyter kernelspec list  "
   ]
  },
  {
   "cell_type": "markdown",
   "id": "8fd0bab0-e85c-4af8-9aaf-04db172ee42a",
   "metadata": {},
   "source": [
    "# Check Your Python Path"
   ]
  },
  {
   "cell_type": "code",
   "execution_count": 3,
   "id": "b192a1e2-9943-458e-b651-1f4e253b21be",
   "metadata": {},
   "outputs": [
    {
     "name": "stdout",
     "output_type": "stream",
     "text": [
      "['/Users/jsr/Documents/GitHub/DS-Student-Resources/DS109-Python/Examples', '/usr/local/Cellar/python@3.9/3.9.9/Frameworks/Python.framework/Versions/3.9/lib/python39.zip', '/usr/local/Cellar/python@3.9/3.9.9/Frameworks/Python.framework/Versions/3.9/lib/python3.9', '/usr/local/Cellar/python@3.9/3.9.9/Frameworks/Python.framework/Versions/3.9/lib/python3.9/lib-dynload', '', '/usr/local/lib/python3.9/site-packages', '/usr/local/lib/python3.9/site-packages/IPython/extensions', '/Users/jsr/.ipython']\n"
     ]
    }
   ],
   "source": [
    "print(sys.path)"
   ]
  },
  {
   "cell_type": "code",
   "execution_count": 4,
   "id": "9ea65538-cbed-4ed8-9a74-16f11289955a",
   "metadata": {},
   "outputs": [
    {
     "name": "stdout",
     "output_type": "stream",
     "text": [
      "sys.version_info(major=3, minor=9, micro=9, releaselevel='final', serial=0)\n"
     ]
    }
   ],
   "source": [
    "print(sys.version_info)"
   ]
  }
 ],
 "metadata": {
  "kernelspec": {
   "display_name": "Python 3 (ipykernel)",
   "language": "python",
   "name": "python3"
  },
  "language_info": {
   "codemirror_mode": {
    "name": "ipython",
    "version": 3
   },
   "file_extension": ".py",
   "mimetype": "text/x-python",
   "name": "python",
   "nbconvert_exporter": "python",
   "pygments_lexer": "ipython3",
   "version": "3.9.9"
  }
 },
 "nbformat": 4,
 "nbformat_minor": 5
}
