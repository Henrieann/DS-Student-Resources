{
 "cells": [
  {
   "cell_type": "markdown",
   "id": "cfb48821-54bc-4208-a38a-4ccbb6903e36",
   "metadata": {
    "tags": []
   },
   "source": [
    "# Boxcox Transformations in Python\n",
    "\n",
    "[Documentation](https://docs.scipy.org/doc/scipy/reference/generated/scipy.stats.boxcox.html)"
   ]
  },
  {
   "cell_type": "markdown",
   "id": "d47f42dc-3c5d-4a93-802a-221dd8353c1c",
   "metadata": {},
   "source": [
    "Return a dataset transformed by a Box-Cox power transformation.\n",
    "\n",
    "If the lmbda parameter is None, the second returned argument is the lambda that maximizes the log-likelihood function."
   ]
  },
  {
   "cell_type": "code",
   "execution_count": 30,
   "id": "6c850976-6890-4a33-8deb-269e0185d028",
   "metadata": {},
   "outputs": [],
   "source": [
    "# import packages\n",
    "import pandas as ps\n",
    "import numpy as np\n",
    "import scipy.stats as stats"
   ]
  },
  {
   "cell_type": "code",
   "execution_count": 32,
   "id": "ebba74ff-7740-423c-b0b9-9194c250a7f8",
   "metadata": {},
   "outputs": [],
   "source": [
    "# read in data\n",
    "df = pd.read_csv('../Data/Tornadoes.csv')"
   ]
  },
  {
   "cell_type": "code",
   "execution_count": 33,
   "id": "0dfa7a7f-bf83-423e-87db-099a585edf1a",
   "metadata": {},
   "outputs": [
    {
     "data": {
      "text/plain": [
       "Index(['om', 'yr', 'mo', 'dy', 'date', 'time', 'tz', 'st', 'stf', 'stn', 'mag',\n",
       "       'inj', 'fat', 'loss', 'closs', 'slat', 'slon', 'elat', 'elon', 'len',\n",
       "       'wid', 'fc'],\n",
       "      dtype='object')"
      ]
     },
     "execution_count": 33,
     "metadata": {},
     "output_type": "execute_result"
    }
   ],
   "source": [
    "# list columns in data\n",
    "df.columns"
   ]
  },
  {
   "cell_type": "code",
   "execution_count": 34,
   "id": "01854913-aef0-499c-8a75-baf73b719a24",
   "metadata": {},
   "outputs": [
    {
     "data": {
      "text/plain": [
       "<AxesSubplot:>"
      ]
     },
     "execution_count": 34,
     "metadata": {},
     "output_type": "execute_result"
    },
    {
     "data": {
      "image/png": "[encoded data removed]",
      "text/plain": [
       "<Figure size 432x288 with 1 Axes>"
      ]
     },
     "metadata": {
      "needs_background": "light"
     },
     "output_type": "display_data"
    }
   ],
   "source": [
    "# Plot wid histogram\n",
    "df['wid'].hist()"
   ]
  },
  {
   "cell_type": "markdown",
   "id": "4c609266-0b2a-4f94-bd15-f1562f3ce61b",
   "metadata": {},
   "source": [
    "# Notice the data is heavily skewed"
   ]
  },
  {
   "cell_type": "code",
   "execution_count": 35,
   "id": "c2b7c5fd-7e55-4e28-8589-d08f3c8f1264",
   "metadata": {},
   "outputs": [],
   "source": [
    "# Transform data and get the maxlog value used in calculations\n",
    "df['widBC'], maxlog = stats.boxcox(df['wid'])"
   ]
  },
  {
   "cell_type": "code",
   "execution_count": 37,
   "id": "a7ff17fb-31a9-4748-ae01-3256f98aa513",
   "metadata": {},
   "outputs": [
    {
     "data": {
      "text/plain": [
       "-0.21905162209450185"
      ]
     },
     "execution_count": 37,
     "metadata": {},
     "output_type": "execute_result"
    }
   ],
   "source": [
    "# Print maxlog value\n",
    "maxlog"
   ]
  },
  {
   "cell_type": "code",
   "execution_count": 38,
   "id": "354bd93b-c2ff-4d01-ad32-6089b16228f2",
   "metadata": {},
   "outputs": [],
   "source": [
    "# Create our own boxcox transformation based on maxlog value\n",
    "def box_cox_transform(series):\n",
    "    lmbda = maxlog\n",
    "    val = (series**lmbda -1)/lmbda\n",
    "    return val"
   ]
  },
  {
   "cell_type": "code",
   "execution_count": 39,
   "id": "e47237b8-8c0d-4e3e-b8ac-d286629ffab9",
   "metadata": {},
   "outputs": [],
   "source": [
    "# Apply transformation\n",
    "df['widBCCustom'] = df['wid'].apply(box_cox_transform)"
   ]
  },
  {
   "cell_type": "code",
   "execution_count": 41,
   "id": "92b184b1-6c87-43b0-a929-a7bbb691b38f",
   "metadata": {},
   "outputs": [
    {
     "data": {
      "text/plain": [
       "0      3.041863\n",
       "1      2.993357\n",
       "2      1.808355\n",
       "3      2.110868\n",
       "4      3.256446\n",
       "         ...   \n",
       "987    1.808355\n",
       "988    1.808355\n",
       "989    1.808355\n",
       "990    3.361759\n",
       "991    1.808355\n",
       "Name: widBCCustom, Length: 992, dtype: float64"
      ]
     },
     "execution_count": 41,
     "metadata": {},
     "output_type": "execute_result"
    }
   ],
   "source": [
    "# Check data\n",
    "df['widBCCustom']"
   ]
  },
  {
   "cell_type": "code",
   "execution_count": 44,
   "id": "1f499e57-3534-4b56-8718-f3365e610954",
   "metadata": {},
   "outputs": [
    {
     "data": {
      "text/plain": [
       "array([[<AxesSubplot:title={'center':'wid'}>,\n",
       "        <AxesSubplot:title={'center':'widBC'}>],\n",
       "       [<AxesSubplot:title={'center':'widBCCustom'}>, <AxesSubplot:>]],\n",
       "      dtype=object)"
      ]
     },
     "execution_count": 44,
     "metadata": {},
     "output_type": "execute_result"
    },
    {
     "data": {
      "image/png": "[encoded data removed]",
      "text/plain": [
       "<Figure size 432x288 with 4 Axes>"
      ]
     },
     "metadata": {
      "needs_background": "light"
     },
     "output_type": "display_data"
    }
   ],
   "source": [
    "# Plot original data and both transformations\n",
    "df[['wid', 'widBC','widBCCustom']].hist()"
   ]
  },
  {
   "cell_type": "markdown",
   "id": "0d02d19e-3dd9-4028-a85e-8c9802e59d51",
   "metadata": {
    "tags": []
   },
   "source": [
    "### Notice the two transformations are identical"
   ]
  },
  {
   "cell_type": "code",
   "execution_count": null,
   "id": "d48626b5-c859-4a30-a706-38d7028e3d7f",
   "metadata": {},
   "outputs": [],
   "source": []
  }
 ],
 "metadata": {
  "kernelspec": {
   "display_name": "Python 3 (ipykernel)",
   "language": "python",
   "name": "python3"
  },
  "language_info": {
   "codemirror_mode": {
    "name": "ipython",
    "version": 3
   },
   "file_extension": ".py",
   "mimetype": "text/x-python",
   "name": "python",
   "nbconvert_exporter": "python",
   "pygments_lexer": "ipython3",
   "version": "3.9.7"
  }
 },
 "nbformat": 4,
 "nbformat_minor": 5
}
