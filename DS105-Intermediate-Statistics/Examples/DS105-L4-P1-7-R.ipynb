{
 "cells": [
  {
   "cell_type": "markdown",
   "id": "eaf7fe0c-7b59-4827-bc0f-95e739e7727b",
   "metadata": {},
   "source": [
    "# DSO105 Intermediate Stats L4 - R (pages 1-7)"
   ]
  },
  {
   "cell_type": "markdown",
   "id": "5cfe7fd0-4681-4906-b7ed-a3cb1b4fd364",
   "metadata": {},
   "source": [
    "## Basic ANOVAs"
   ]
  },
  {
   "cell_type": "code",
   "execution_count": 1,
   "id": "73fa2c5f-1f59-4da9-a45e-7bed5e8da5f9",
   "metadata": {},
   "outputs": [],
   "source": [
    "#### Page 1"
   ]
  },
  {
   "cell_type": "code",
   "execution_count": 2,
   "id": "bff010b2-2d59-456a-918f-b898671ac92c",
   "metadata": {},
   "outputs": [
    {
     "name": "stdout",
     "output_type": "stream",
     "text": [
      "\n",
      "The downloaded binary packages are in\n",
      "\t/var/folders/17/1s12c7d93tz_93j94s44qsl40000gn/T//RtmpXijDV1/downloaded_packages\n",
      "\n",
      "The downloaded binary packages are in\n",
      "\t/var/folders/17/1s12c7d93tz_93j94s44qsl40000gn/T//RtmpXijDV1/downloaded_packages\n",
      "\n",
      "The downloaded binary packages are in\n",
      "\t/var/folders/17/1s12c7d93tz_93j94s44qsl40000gn/T//RtmpXijDV1/downloaded_packages\n"
     ]
    },
    {
     "name": "stderr",
     "output_type": "stream",
     "text": [
      "── \u001b[1mAttaching packages\u001b[22m ─────────────────────────────────────── tidyverse 1.3.1 ──\n",
      "\n",
      "\u001b[32m✔\u001b[39m \u001b[34mggplot2\u001b[39m 3.3.5     \u001b[32m✔\u001b[39m \u001b[34mpurrr  \u001b[39m 0.3.4\n",
      "\u001b[32m✔\u001b[39m \u001b[34mtibble \u001b[39m 3.1.5     \u001b[32m✔\u001b[39m \u001b[34mdplyr  \u001b[39m 1.0.7\n",
      "\u001b[32m✔\u001b[39m \u001b[34mtidyr  \u001b[39m 1.1.4     \u001b[32m✔\u001b[39m \u001b[34mstringr\u001b[39m 1.4.0\n",
      "\u001b[32m✔\u001b[39m \u001b[34mreadr  \u001b[39m 2.1.1     \u001b[32m✔\u001b[39m \u001b[34mforcats\u001b[39m 0.5.1\n",
      "\n",
      "── \u001b[1mConflicts\u001b[22m ────────────────────────────────────────── tidyverse_conflicts() ──\n",
      "\u001b[31m✖\u001b[39m \u001b[34mdplyr\u001b[39m::\u001b[32mfilter()\u001b[39m masks \u001b[34mstats\u001b[39m::filter()\n",
      "\u001b[31m✖\u001b[39m \u001b[34mdplyr\u001b[39m::\u001b[32mlag()\u001b[39m    masks \u001b[34mstats\u001b[39m::lag()\n",
      "\n",
      "Loading required package: carData\n",
      "\n",
      "\n",
      "Attaching package: ‘car’\n",
      "\n",
      "\n",
      "The following object is masked from ‘package:dplyr’:\n",
      "\n",
      "    recode\n",
      "\n",
      "\n",
      "The following object is masked from ‘package:purrr’:\n",
      "\n",
      "    some\n",
      "\n",
      "\n"
     ]
    }
   ],
   "source": [
    "## load libraries\n",
    "\n",
    "install.packages('rcompanion')\n",
    "install.packages('car')\n",
    "install.packages('readxl')\n",
    "\n",
    "library(tidyverse)\n",
    "library(IDPmisc)\n",
    "library(rcompanion)\n",
    "library(car)\n",
    "library(readxl)"
   ]
  },
  {
   "cell_type": "markdown",
   "id": "d181bb30-a8c8-4e0b-9067-8851c641e3fa",
   "metadata": {},
   "source": [
    "## Introduction\n",
    "\n",
    "Through this course, thus far you have only dealt with statistical tests with one x variable and one y variable. Now, you'll begin working with statistics that can handle more than one x! \n",
    "\n",
    "This branch of statistics is called multivariate statistics, since it deals with multiple variables. The first multivariate statistic you will encounter is the ANOVA, which stands for analysis of variance."
   ]
  },
  {
   "cell_type": "markdown",
   "id": "9d141c9c-644d-441f-a155-5c5a4f853e16",
   "metadata": {},
   "source": [
    "### What is an Anova?\n",
    "\n",
    "* ANalysis Of VAriance\n",
    "\n",
    "* Compare 2 or more means: -- IV = 1+categorical w/2+ levels. -- DV = 1 continuous\n",
    "\n",
    "* One-Way = 1 IV (most simple)"
   ]
  },
  {
   "cell_type": "markdown",
   "id": "8a7d3bf6-586c-4178-8ca2-e7fe121999cf",
   "metadata": {},
   "source": [
    "### Assumptions for ANOVAs\n",
    "\n",
    "* Normality (bell-curve)\n",
    "\n",
    "* Homogeneity of Variance - equal amount of change among the groups\n",
    "\n",
    "* Sample Size - 20 rows per IV\n",
    "\n",
    "* Independence - groups are unrelated"
   ]
  },
  {
   "cell_type": "markdown",
   "id": "00f33878-0fd0-4671-a9fe-a9be1481eb6d",
   "metadata": {},
   "source": [
    "#### To Test Homogeneity of Variance:\n",
    "\n",
    "* Bartlett's or Fligner's test -- bartlett.test(DV ~ IV, data=df), fligner.test(DV ~ IV, data=df)\n",
    "\n",
    "* you want a p value > .05 to pass the assumption\n",
    "\n",
    "* if you don't pass, use the Welch's One-Way Test\n",
    "\n"
   ]
  },
  {
   "cell_type": "markdown",
   "id": "e14211f9-727d-4d27-8dee-ea1767e62b10",
   "metadata": {},
   "source": [
    "### ANOVA\n",
    "\n",
    "* with homogeneity of variance -- modelName = aov(DV ~ IV)\n",
    "\n",
    "* w/o homogeneity of variance -- modelName = lm(DV ~ IV, data=df) -> Anova(modelName, Type='II', white.adjust = TRUE)"
   ]
  },
  {
   "cell_type": "markdown",
   "id": "18c5a575-bffc-4209-ab16-2684a1785ca2",
   "metadata": {},
   "source": [
    "#### What are Post Hocs\n",
    "\n",
    "* post hoc literally means \"after this\" in latin\n",
    "\n",
    "* What you do AFTER an analysis to make sense of it\n",
    "\n",
    "* pairwise.t.test(DV, IV, p.adjust='bonferroni')\n",
    "\n",
    "* then use dplyr aggregation to get means for each category\n",
    "\n"
   ]
  },
  {
   "cell_type": "code",
   "execution_count": 3,
   "id": "53613f49-5442-4143-8e65-3050dc0e3310",
   "metadata": {},
   "outputs": [],
   "source": [
    "## load data from video\n",
    "\n",
    "BorderCrossing = read.csv('../Data/BorderCrossing.csv')"
   ]
  },
  {
   "cell_type": "code",
   "execution_count": 4,
   "id": "c4083e1e-b7f3-47b9-ae7c-da018dfda537",
   "metadata": {},
   "outputs": [
    {
     "data": {
      "text/html": [
       "<table class=\"dataframe\">\n",
       "<caption>A data.frame: 6 × 7</caption>\n",
       "<thead>\n",
       "\t<tr><th></th><th scope=col>Port.Name</th><th scope=col>State</th><th scope=col>Port.Code</th><th scope=col>Border</th><th scope=col>Date</th><th scope=col>Measure</th><th scope=col>Value</th></tr>\n",
       "\t<tr><th></th><th scope=col>&lt;chr&gt;</th><th scope=col>&lt;chr&gt;</th><th scope=col>&lt;int&gt;</th><th scope=col>&lt;chr&gt;</th><th scope=col>&lt;chr&gt;</th><th scope=col>&lt;chr&gt;</th><th scope=col>&lt;int&gt;</th></tr>\n",
       "</thead>\n",
       "<tbody>\n",
       "\t<tr><th scope=row>1</th><td>Alcan         </td><td>AK</td><td>3104</td><td>US-Canada Border</td><td>2/1/2020 0:00</td><td>Personal Vehicle Passengers</td><td>1414</td></tr>\n",
       "\t<tr><th scope=row>2</th><td>Alcan         </td><td>AK</td><td>3104</td><td>US-Canada Border</td><td>2/1/2020 0:00</td><td>Personal Vehicles          </td><td> 763</td></tr>\n",
       "\t<tr><th scope=row>3</th><td>Alcan         </td><td>AK</td><td>3104</td><td>US-Canada Border</td><td>2/1/2020 0:00</td><td>Truck Containers Empty     </td><td> 412</td></tr>\n",
       "\t<tr><th scope=row>4</th><td>Alcan         </td><td>AK</td><td>3104</td><td>US-Canada Border</td><td>2/1/2020 0:00</td><td>Truck Containers Full      </td><td> 122</td></tr>\n",
       "\t<tr><th scope=row>5</th><td>Alcan         </td><td>AK</td><td>3104</td><td>US-Canada Border</td><td>2/1/2020 0:00</td><td>Trucks                     </td><td> 545</td></tr>\n",
       "\t<tr><th scope=row>6</th><td>Alexandria Bay</td><td>NY</td><td> 708</td><td>US-Canada Border</td><td>2/1/2020 0:00</td><td>Bus Passengers             </td><td>1174</td></tr>\n",
       "</tbody>\n",
       "</table>\n"
      ],
      "text/latex": [
       "A data.frame: 6 × 7\n",
       "\\begin{tabular}{r|lllllll}\n",
       "  & Port.Name & State & Port.Code & Border & Date & Measure & Value\\\\\n",
       "  & <chr> & <chr> & <int> & <chr> & <chr> & <chr> & <int>\\\\\n",
       "\\hline\n",
       "\t1 & Alcan          & AK & 3104 & US-Canada Border & 2/1/2020 0:00 & Personal Vehicle Passengers & 1414\\\\\n",
       "\t2 & Alcan          & AK & 3104 & US-Canada Border & 2/1/2020 0:00 & Personal Vehicles           &  763\\\\\n",
       "\t3 & Alcan          & AK & 3104 & US-Canada Border & 2/1/2020 0:00 & Truck Containers Empty      &  412\\\\\n",
       "\t4 & Alcan          & AK & 3104 & US-Canada Border & 2/1/2020 0:00 & Truck Containers Full       &  122\\\\\n",
       "\t5 & Alcan          & AK & 3104 & US-Canada Border & 2/1/2020 0:00 & Trucks                      &  545\\\\\n",
       "\t6 & Alexandria Bay & NY &  708 & US-Canada Border & 2/1/2020 0:00 & Bus Passengers              & 1174\\\\\n",
       "\\end{tabular}\n"
      ],
      "text/markdown": [
       "\n",
       "A data.frame: 6 × 7\n",
       "\n",
       "| <!--/--> | Port.Name &lt;chr&gt; | State &lt;chr&gt; | Port.Code &lt;int&gt; | Border &lt;chr&gt; | Date &lt;chr&gt; | Measure &lt;chr&gt; | Value &lt;int&gt; |\n",
       "|---|---|---|---|---|---|---|---|\n",
       "| 1 | Alcan          | AK | 3104 | US-Canada Border | 2/1/2020 0:00 | Personal Vehicle Passengers | 1414 |\n",
       "| 2 | Alcan          | AK | 3104 | US-Canada Border | 2/1/2020 0:00 | Personal Vehicles           |  763 |\n",
       "| 3 | Alcan          | AK | 3104 | US-Canada Border | 2/1/2020 0:00 | Truck Containers Empty      |  412 |\n",
       "| 4 | Alcan          | AK | 3104 | US-Canada Border | 2/1/2020 0:00 | Truck Containers Full       |  122 |\n",
       "| 5 | Alcan          | AK | 3104 | US-Canada Border | 2/1/2020 0:00 | Trucks                      |  545 |\n",
       "| 6 | Alexandria Bay | NY |  708 | US-Canada Border | 2/1/2020 0:00 | Bus Passengers              | 1174 |\n",
       "\n"
      ],
      "text/plain": [
       "  Port.Name      State Port.Code Border           Date         \n",
       "1 Alcan          AK    3104      US-Canada Border 2/1/2020 0:00\n",
       "2 Alcan          AK    3104      US-Canada Border 2/1/2020 0:00\n",
       "3 Alcan          AK    3104      US-Canada Border 2/1/2020 0:00\n",
       "4 Alcan          AK    3104      US-Canada Border 2/1/2020 0:00\n",
       "5 Alcan          AK    3104      US-Canada Border 2/1/2020 0:00\n",
       "6 Alexandria Bay NY     708      US-Canada Border 2/1/2020 0:00\n",
       "  Measure                     Value\n",
       "1 Personal Vehicle Passengers 1414 \n",
       "2 Personal Vehicles            763 \n",
       "3 Truck Containers Empty       412 \n",
       "4 Truck Containers Full        122 \n",
       "5 Trucks                       545 \n",
       "6 Bus Passengers              1174 "
      ]
     },
     "metadata": {},
     "output_type": "display_data"
    }
   ],
   "source": [
    "head(BorderCrossing)"
   ]
  },
  {
   "cell_type": "code",
   "execution_count": 5,
   "id": "c5da75e6-b62e-4709-97f0-b964a7bc5b76",
   "metadata": {},
   "outputs": [],
   "source": [
    "## had to convert it to csv to get it loaded"
   ]
  },
  {
   "cell_type": "markdown",
   "id": "962d82c1-9511-4239-88a6-557707771ac7",
   "metadata": {},
   "source": [
    "#### Test Assumptions"
   ]
  },
  {
   "cell_type": "code",
   "execution_count": 6,
   "id": "76d506eb-284c-4a2e-9587-e32544c8e3ae",
   "metadata": {},
   "outputs": [
    {
     "data": {
      "image/png": "[encoded data removed]",
      "text/plain": [
       "Plot with title “”"
      ]
     },
     "metadata": {
      "image/png": {
       "height": 420,
       "width": 420
      }
     },
     "output_type": "display_data"
    }
   ],
   "source": [
    "plotNormalHistogram(BorderCrossing$Value)"
   ]
  },
  {
   "cell_type": "markdown",
   "id": "1963827b-7350-4bea-8122-369563872051",
   "metadata": {},
   "source": [
    "#### square root"
   ]
  },
  {
   "cell_type": "code",
   "execution_count": 7,
   "id": "dfa19118-b1d0-46dd-b120-2befe2ee3ea1",
   "metadata": {},
   "outputs": [],
   "source": [
    "BorderCrossing$ValueSQRT = BorderCrossing$Value ^ (1/2)"
   ]
  },
  {
   "cell_type": "code",
   "execution_count": 8,
   "id": "83081c76-ca5d-40e9-91f6-856b49c940c3",
   "metadata": {},
   "outputs": [
    {
     "data": {
      "image/png": "[encoded data removed]",
      "text/plain": [
       "Plot with title “”"
      ]
     },
     "metadata": {
      "image/png": {
       "height": 420,
       "width": 420
      }
     },
     "output_type": "display_data"
    }
   ],
   "source": [
    "plotNormalHistogram(BorderCrossing$ValueSQRT)"
   ]
  },
  {
   "cell_type": "markdown",
   "id": "dc929011-3a90-456a-8290-3a6084cdae69",
   "metadata": {},
   "source": [
    "#### log"
   ]
  },
  {
   "cell_type": "code",
   "execution_count": 9,
   "id": "7ff4a188-16a8-4a9c-846e-ba83ef975f84",
   "metadata": {},
   "outputs": [],
   "source": [
    "BorderCrossing$ValueLOG = log(BorderCrossing$Value)"
   ]
  },
  {
   "cell_type": "code",
   "execution_count": 10,
   "id": "542d90af-d96b-4722-a672-5c4667c974a6",
   "metadata": {},
   "outputs": [
    {
     "ename": "ERROR",
     "evalue": "Error in seq.default(min(x), max(x), length = length): 'from' must be a finite number\n",
     "output_type": "error",
     "traceback": [
      "Error in seq.default(min(x), max(x), length = length): 'from' must be a finite number\nTraceback:\n",
      "1. plotNormalHistogram(BorderCrossing$ValueLOG)",
      "2. seq(min(x), max(x), length = length)",
      "3. seq.default(min(x), max(x), length = length)",
      "4. stop(\"'from' must be a finite number\")"
     ]
    }
   ],
   "source": [
    "plotNormalHistogram(BorderCrossing$ValueLOG)"
   ]
  },
  {
   "cell_type": "code",
   "execution_count": null,
   "id": "b50e3c69-64f0-40fb-9d99-2ef7a1af1175",
   "metadata": {},
   "outputs": [],
   "source": [
    "## infinites are missing. drop them"
   ]
  },
  {
   "cell_type": "code",
   "execution_count": 11,
   "id": "5d1a120c-08cc-4747-92eb-1ddb0c7d2ed2",
   "metadata": {},
   "outputs": [],
   "source": [
    "BorderCrossing2 = NaRV.omit(BorderCrossing)"
   ]
  },
  {
   "cell_type": "code",
   "execution_count": 12,
   "id": "a4f18670-cf9a-4a24-9022-e2ff8eb8d52f",
   "metadata": {},
   "outputs": [
    {
     "data": {
      "image/png": "[encoded data removed]",
      "text/plain": [
       "Plot with title “”"
      ]
     },
     "metadata": {
      "image/png": {
       "height": 420,
       "width": 420
      }
     },
     "output_type": "display_data"
    }
   ],
   "source": [
    "plotNormalHistogram(BorderCrossing2$ValueLOG)\n",
    "## looks normal"
   ]
  },
  {
   "cell_type": "markdown",
   "id": "58b1dc16-51cd-446b-9e0d-258167a9ea4c",
   "metadata": {},
   "source": [
    "#### Homogeneity of Variance\n",
    "\n",
    "either bartlett or fligner test"
   ]
  },
  {
   "cell_type": "code",
   "execution_count": 13,
   "id": "9bfee21c-c856-47e6-bc90-298fca0f98f3",
   "metadata": {},
   "outputs": [
    {
     "data": {
      "text/plain": [
       "\n",
       "\tBartlett test of homogeneity of variances\n",
       "\n",
       "data:  ValueLOG by Measure\n",
       "Bartlett's K-squared = 21600, df = 11, p-value < 2.2e-16\n"
      ]
     },
     "metadata": {},
     "output_type": "display_data"
    }
   ],
   "source": [
    "bartlett.test(ValueLOG ~ Measure, data = BorderCrossing2)"
   ]
  },
  {
   "cell_type": "code",
   "execution_count": 14,
   "id": "a4e470e4-6fcb-4061-b72b-70ae78a6fdf6",
   "metadata": {},
   "outputs": [],
   "source": [
    "## this p-value shows significance, which means we have violated the assumption of homogeneity of variance\n",
    "## we either have heterogeneity of variance, or unequal variance"
   ]
  },
  {
   "cell_type": "markdown",
   "id": "3f1530f8-bb3a-4be8-958a-50788143cbaa",
   "metadata": {},
   "source": [
    "### ANOVA without homogeneity of variance"
   ]
  },
  {
   "cell_type": "code",
   "execution_count": 15,
   "id": "12b1dabb-3425-4f36-94e3-ba06e82daf3c",
   "metadata": {},
   "outputs": [],
   "source": [
    "anova = lm(ValueLOG ~ Measure, data = BorderCrossing2)"
   ]
  },
  {
   "cell_type": "code",
   "execution_count": 16,
   "id": "692d6d5f-1641-454b-a27c-79c05b036e7b",
   "metadata": {},
   "outputs": [
    {
     "name": "stderr",
     "output_type": "stream",
     "text": [
      "Coefficient covariances computed by hccm()\n",
      "\n"
     ]
    },
    {
     "data": {
      "text/html": [
       "<table class=\"dataframe\">\n",
       "<caption>A anova: 2 × 3</caption>\n",
       "<thead>\n",
       "\t<tr><th></th><th scope=col>Df</th><th scope=col>F</th><th scope=col>Pr(&gt;F)</th></tr>\n",
       "\t<tr><th></th><th scope=col>&lt;dbl&gt;</th><th scope=col>&lt;dbl&gt;</th><th scope=col>&lt;dbl&gt;</th></tr>\n",
       "</thead>\n",
       "<tbody>\n",
       "\t<tr><th scope=row>Measure</th><td>    11</td><td>18104.53</td><td> 0</td></tr>\n",
       "\t<tr><th scope=row>Residuals</th><td>233107</td><td>      NA</td><td>NA</td></tr>\n",
       "</tbody>\n",
       "</table>\n"
      ],
      "text/latex": [
       "A anova: 2 × 3\n",
       "\\begin{tabular}{r|lll}\n",
       "  & Df & F & Pr(>F)\\\\\n",
       "  & <dbl> & <dbl> & <dbl>\\\\\n",
       "\\hline\n",
       "\tMeasure &     11 & 18104.53 &  0\\\\\n",
       "\tResiduals & 233107 &       NA & NA\\\\\n",
       "\\end{tabular}\n"
      ],
      "text/markdown": [
       "\n",
       "A anova: 2 × 3\n",
       "\n",
       "| <!--/--> | Df &lt;dbl&gt; | F &lt;dbl&gt; | Pr(&gt;F) &lt;dbl&gt; |\n",
       "|---|---|---|---|\n",
       "| Measure |     11 | 18104.53 |  0 |\n",
       "| Residuals | 233107 |       NA | NA |\n",
       "\n"
      ],
      "text/plain": [
       "          Df     F        Pr(>F)\n",
       "Measure       11 18104.53  0    \n",
       "Residuals 233107       NA NA    "
      ]
     },
     "metadata": {},
     "output_type": "display_data"
    }
   ],
   "source": [
    "Anova(anova, Type ='II', white.adjust = TRUE)"
   ]
  },
  {
   "cell_type": "code",
   "execution_count": 17,
   "id": "ffb755f6-e4c5-493b-ba66-61be0d903735",
   "metadata": {},
   "outputs": [],
   "source": [
    "## this is not showing the p-value like in the video/R Studio"
   ]
  },
  {
   "cell_type": "markdown",
   "id": "0dc66378-8355-456b-9af3-61cca7818743",
   "metadata": {},
   "source": [
    "#### Post Hocs"
   ]
  },
  {
   "cell_type": "code",
   "execution_count": 18,
   "id": "36fe84ce-f57d-46f1-b37f-841c239e796c",
   "metadata": {},
   "outputs": [
    {
     "data": {
      "text/plain": [
       "\n",
       "\tPairwise comparisons using t tests with non-pooled SD \n",
       "\n",
       "data:  BorderCrossing$Value and BorderCrossing$Measure \n",
       "\n",
       "                            Bus Passengers Buses   Pedestrians\n",
       "Buses                       < 2e-16        -       -          \n",
       "Pedestrians                 < 2e-16        < 2e-16 -          \n",
       "Personal Vehicle Passengers < 2e-16        < 2e-16 < 2e-16    \n",
       "Personal Vehicles           < 2e-16        < 2e-16 < 2e-16    \n",
       "Rail Containers Empty       < 2e-16        < 2e-16 < 2e-16    \n",
       "Rail Containers Full        < 2e-16        < 2e-16 < 2e-16    \n",
       "Train Passengers            < 2e-16        7.4e-11 < 2e-16    \n",
       "Trains                      < 2e-16        < 2e-16 < 2e-16    \n",
       "Truck Containers Empty      < 2e-16        < 2e-16 < 2e-16    \n",
       "Truck Containers Full       1.3e-13        < 2e-16 < 2e-16    \n",
       "Trucks                      < 2e-16        < 2e-16 < 2e-16    \n",
       "                            Personal Vehicle Passengers Personal Vehicles\n",
       "Buses                       -                           -                \n",
       "Pedestrians                 -                           -                \n",
       "Personal Vehicle Passengers -                           -                \n",
       "Personal Vehicles           < 2e-16                     -                \n",
       "Rail Containers Empty       < 2e-16                     < 2e-16          \n",
       "Rail Containers Full        < 2e-16                     < 2e-16          \n",
       "Train Passengers            < 2e-16                     < 2e-16          \n",
       "Trains                      < 2e-16                     < 2e-16          \n",
       "Truck Containers Empty      < 2e-16                     < 2e-16          \n",
       "Truck Containers Full       < 2e-16                     < 2e-16          \n",
       "Trucks                      < 2e-16                     < 2e-16          \n",
       "                            Rail Containers Empty Rail Containers Full\n",
       "Buses                       -                     -                   \n",
       "Pedestrians                 -                     -                   \n",
       "Personal Vehicle Passengers -                     -                   \n",
       "Personal Vehicles           -                     -                   \n",
       "Rail Containers Empty       -                     -                   \n",
       "Rail Containers Full        < 2e-16               -                   \n",
       "Train Passengers            < 2e-16               < 2e-16             \n",
       "Trains                      < 2e-16               < 2e-16             \n",
       "Truck Containers Empty      < 2e-16               < 2e-16             \n",
       "Truck Containers Full       < 2e-16               < 2e-16             \n",
       "Trucks                      < 2e-16               < 2e-16             \n",
       "                            Train Passengers Trains  Truck Containers Empty\n",
       "Buses                       -                -       -                     \n",
       "Pedestrians                 -                -       -                     \n",
       "Personal Vehicle Passengers -                -       -                     \n",
       "Personal Vehicles           -                -       -                     \n",
       "Rail Containers Empty       -                -       -                     \n",
       "Rail Containers Full        -                -       -                     \n",
       "Train Passengers            -                -       -                     \n",
       "Trains                      < 2e-16          -       -                     \n",
       "Truck Containers Empty      < 2e-16          < 2e-16 -                     \n",
       "Truck Containers Full       < 2e-16          < 2e-16 < 2e-16               \n",
       "Trucks                      < 2e-16          < 2e-16 < 2e-16               \n",
       "                            Truck Containers Full\n",
       "Buses                       -                    \n",
       "Pedestrians                 -                    \n",
       "Personal Vehicle Passengers -                    \n",
       "Personal Vehicles           -                    \n",
       "Rail Containers Empty       -                    \n",
       "Rail Containers Full        -                    \n",
       "Train Passengers            -                    \n",
       "Trains                      -                    \n",
       "Truck Containers Empty      -                    \n",
       "Truck Containers Full       -                    \n",
       "Trucks                      < 2e-16              \n",
       "\n",
       "P value adjustment method: bonferroni "
      ]
     },
     "metadata": {},
     "output_type": "display_data"
    }
   ],
   "source": [
    "pairwise.t.test(BorderCrossing$Value, BorderCrossing$Measure, p.adjust = 'bonferroni', pool.sd = FALSE)"
   ]
  },
  {
   "cell_type": "code",
   "execution_count": 19,
   "id": "edec0151-29ef-4d03-8d07-afcd54866372",
   "metadata": {},
   "outputs": [],
   "source": [
    "crossingMeans = BorderCrossing %>% group_by(Measure) %>% summarise(Mean = mean(Value)) %>% arrange(desc(Mean))"
   ]
  },
  {
   "cell_type": "code",
   "execution_count": 20,
   "id": "71a575cd-5f59-4c62-939f-61d2185c33f3",
   "metadata": {},
   "outputs": [
    {
     "data": {
      "text/html": [
       "<table class=\"dataframe\">\n",
       "<caption>A tibble: 12 × 2</caption>\n",
       "<thead>\n",
       "\t<tr><th scope=col>Measure</th><th scope=col>Mean</th></tr>\n",
       "\t<tr><th scope=col>&lt;chr&gt;</th><th scope=col>&lt;dbl&gt;</th></tr>\n",
       "</thead>\n",
       "<tbody>\n",
       "\t<tr><td>Personal Vehicle Passengers</td><td>179352.83408</td></tr>\n",
       "\t<tr><td>Personal Vehicles          </td><td> 84376.62418</td></tr>\n",
       "\t<tr><td>Pedestrians                </td><td> 37116.27784</td></tr>\n",
       "\t<tr><td>Trucks                     </td><td>  8563.49689</td></tr>\n",
       "\t<tr><td>Truck Containers Full      </td><td>  6041.53997</td></tr>\n",
       "\t<tr><td>Bus Passengers             </td><td>  4953.43874</td></tr>\n",
       "\t<tr><td>Truck Containers Empty     </td><td>  2176.42398</td></tr>\n",
       "\t<tr><td>Rail Containers Full       </td><td>  1447.40671</td></tr>\n",
       "\t<tr><td>Rail Containers Empty      </td><td>   799.08617</td></tr>\n",
       "\t<tr><td>Buses                      </td><td>   296.91009</td></tr>\n",
       "\t<tr><td>Train Passengers           </td><td>   231.79763</td></tr>\n",
       "\t<tr><td>Trains                     </td><td>    33.28827</td></tr>\n",
       "</tbody>\n",
       "</table>\n"
      ],
      "text/latex": [
       "A tibble: 12 × 2\n",
       "\\begin{tabular}{ll}\n",
       " Measure & Mean\\\\\n",
       " <chr> & <dbl>\\\\\n",
       "\\hline\n",
       "\t Personal Vehicle Passengers & 179352.83408\\\\\n",
       "\t Personal Vehicles           &  84376.62418\\\\\n",
       "\t Pedestrians                 &  37116.27784\\\\\n",
       "\t Trucks                      &   8563.49689\\\\\n",
       "\t Truck Containers Full       &   6041.53997\\\\\n",
       "\t Bus Passengers              &   4953.43874\\\\\n",
       "\t Truck Containers Empty      &   2176.42398\\\\\n",
       "\t Rail Containers Full        &   1447.40671\\\\\n",
       "\t Rail Containers Empty       &    799.08617\\\\\n",
       "\t Buses                       &    296.91009\\\\\n",
       "\t Train Passengers            &    231.79763\\\\\n",
       "\t Trains                      &     33.28827\\\\\n",
       "\\end{tabular}\n"
      ],
      "text/markdown": [
       "\n",
       "A tibble: 12 × 2\n",
       "\n",
       "| Measure &lt;chr&gt; | Mean &lt;dbl&gt; |\n",
       "|---|---|\n",
       "| Personal Vehicle Passengers | 179352.83408 |\n",
       "| Personal Vehicles           |  84376.62418 |\n",
       "| Pedestrians                 |  37116.27784 |\n",
       "| Trucks                      |   8563.49689 |\n",
       "| Truck Containers Full       |   6041.53997 |\n",
       "| Bus Passengers              |   4953.43874 |\n",
       "| Truck Containers Empty      |   2176.42398 |\n",
       "| Rail Containers Full        |   1447.40671 |\n",
       "| Rail Containers Empty       |    799.08617 |\n",
       "| Buses                       |    296.91009 |\n",
       "| Train Passengers            |    231.79763 |\n",
       "| Trains                      |     33.28827 |\n",
       "\n"
      ],
      "text/plain": [
       "   Measure                     Mean        \n",
       "1  Personal Vehicle Passengers 179352.83408\n",
       "2  Personal Vehicles            84376.62418\n",
       "3  Pedestrians                  37116.27784\n",
       "4  Trucks                        8563.49689\n",
       "5  Truck Containers Full         6041.53997\n",
       "6  Bus Passengers                4953.43874\n",
       "7  Truck Containers Empty        2176.42398\n",
       "8  Rail Containers Full          1447.40671\n",
       "9  Rail Containers Empty          799.08617\n",
       "10 Buses                          296.91009\n",
       "11 Train Passengers               231.79763\n",
       "12 Trains                          33.28827"
      ]
     },
     "metadata": {},
     "output_type": "display_data"
    }
   ],
   "source": [
    "View(crossingMeans)"
   ]
  },
  {
   "cell_type": "markdown",
   "id": "e18b2bac-5dae-41b0-b2b7-00ec1c5c4584",
   "metadata": {},
   "source": [
    "### End of video"
   ]
  },
  {
   "cell_type": "code",
   "execution_count": 21,
   "id": "944cc431-1810-4b53-8575-87db47b62413",
   "metadata": {},
   "outputs": [],
   "source": [
    "#### Page 2 (starts with video)"
   ]
  },
  {
   "cell_type": "markdown",
   "id": "45e7df71-e740-4e72-9b71-9c57a9c43fcd",
   "metadata": {},
   "source": [
    "Types of Anova: 1. Between Subjects Anova - categorical w/2+ lvls (IV), 1 continuous (DV) -- LEVELS OF THE INDEPENDENT VARIABLE ARE NOT RELATED\n",
    "\n",
    "#### like 3 tacos from differnt restaurants, and their respective heat rating"
   ]
  },
  {
   "cell_type": "markdown",
   "id": "9ed42a1b-e46a-4c3d-9ce1-e68da3eb66c1",
   "metadata": {},
   "source": [
    "2. Within Subjects Anova - categorical w/2+ related groups (IV), 1 continuous (DV)\n",
    "\n",
    "#### like testing stomach lining thickness across 3 weeks after eating the tacos"
   ]
  },
  {
   "cell_type": "markdown",
   "id": "7601d515-211e-4f5e-ab0b-e760df1f6e9a",
   "metadata": {},
   "source": [
    "## ANOVA Types by the Number of IVs"
   ]
  },
  {
   "cell_type": "markdown",
   "id": "9fa6209a-663d-4675-a039-fc36fa9d53f5",
   "metadata": {},
   "source": [
    "* One Way - only one IV\n",
    "\n",
    "* Factorial - more than one IV - named by number of IVs (2IVs = 2 Way ANOVA, 3IVs = 3 Way Anova, etc.)"
   ]
  },
  {
   "cell_type": "markdown",
   "id": "6f048d07-a47d-4623-8fe3-9d0cf512de32",
   "metadata": {},
   "source": [
    "## Two-Way ANOVA example\n",
    "\n",
    "IV1 is 1 of 3 Mexican restaurants. IV2 is the amount of chili pepper in each taco. DV is heat rating, continuous variable"
   ]
  },
  {
   "cell_type": "markdown",
   "id": "65418075-e866-4d78-a05d-42a26928cf99",
   "metadata": {},
   "source": [
    "### Mixed Measures ANOVA\n",
    "\n",
    "IV1 is testing tacos over 3 weeks after eating. IV2 is different amount of pepper. DV is continuous variable: thickness of stomach lining"
   ]
  },
  {
   "cell_type": "markdown",
   "id": "4d2e0c4c-c711-4f29-ae3c-9f2479e9279b",
   "metadata": {},
   "source": [
    "# What is an ANOVA?\n",
    "\n",
    "ANOVAs are wonderful! You will quickly fall in love with them! They are versatile, robust, and relatively simple to understand and conduct. \n",
    "\n",
    "ANOVAs are where your true intermediate statistics journey begins.\n",
    "\n",
    "You can think of an ANOVA as a t-test on steroids. Depending on the type of ANOVA, it can either replace your independent t test, your dependent t test, or it can even handle BOTH scenarios at once. \n",
    "\n",
    "Is your mind blown yet? Ready to convert to ANOVAs for life?"
   ]
  },
  {
   "cell_type": "markdown",
   "id": "5b294106-9270-42fc-a974-dfaea2769f9e",
   "metadata": {},
   "source": [
    "You will use an ANOVA to compare the means of the different levels of an independent variable(s). The independent variable will be a categorical variable. \n",
    "\n",
    "Unlike your independent t-test, which can only handle two levels of the independent variable, or two groups at a time, the ANOVA can handle more than two levels of your independent variable. \n",
    "\n",
    "The dependent variable will remain continuous, and there is still only one. \n",
    "\n",
    "So, if you have a theoretical example in which you want to determine whether color affects the fluffiness of a dog's coat, in a t-test, you could only compare two different coat colors at a time. Maybe black and white. \n",
    "\n",
    "But with an ANOVA, you can look at more than two levels of the independent variable, so you can compare more coat colors at a time - maybe black, white, apricot, and brown. \n",
    "\n",
    "In this scenario, the coat color is the independent variable, also sometimes called the grouping variable, because it is made up of groups, \n",
    "\n",
    "and the dependent variable is a continuous measure of coat fluffiness, for each dog you have in your sample."
   ]
  },
  {
   "cell_type": "markdown",
   "id": "8376d113-7fb4-4913-9be3-89cab60af073",
   "metadata": {},
   "source": [
    "Basically, the concept behind the ANOVA is that you are seeing if the variance in the dependent variable is in any way related to the grouping of the independent variable. \n",
    "\n",
    "Is there a pattern, in which certain groups have higher or lower means?"
   ]
  },
  {
   "cell_type": "markdown",
   "id": "7b093c5d-ecd5-43a5-8b26-d9bd10b36d91",
   "metadata": {},
   "source": [
    "# Types of ANOVAs\n",
    "\n",
    "There are two different types of ANOVAs: between subjects and within subjects ANOVAs."
   ]
  },
  {
   "cell_type": "markdown",
   "id": "04220bf9-d981-4675-9a56-4ecaf1357aba",
   "metadata": {},
   "source": [
    "<img src=\"../../media/between-within-subjects.jpg\" align=\"left\" alt=\"COE image\" width = \"600\">"
   ]
  },
  {
   "cell_type": "markdown",
   "id": "e4702719-8b10-42b2-a7d3-3a013f5e8cbf",
   "metadata": {},
   "source": [
    "# Between Subjects ANOVAs\n",
    "\n",
    "Between Subjects ANOVAs fall in the same class as independent t-tests and independent Chi-Squares. All of these analyses look for differences between two separate, or independent, groups. \n",
    "\n",
    "There is no overlap between one group and the next. It is called a between subjects ANOVA because you are looking at mean difference between people, often called subjects in a research study."
   ]
  },
  {
   "cell_type": "markdown",
   "id": "ad5a348c-abef-478f-81a8-8284b54ecc98",
   "metadata": {},
   "source": [
    "Tip!: Sometimes in the biological fields, this is called a Type I ANOVA instead of a between subjects ANOVA."
   ]
  },
  {
   "cell_type": "markdown",
   "id": "48dd88c4-0cda-4658-844e-41d1fac5ad6e",
   "metadata": {},
   "source": [
    "# Within Subjects ANOVAs\n",
    "\n",
    "Within Subjects ANOVAs fall in the same class as dependent t-tests. They are used when you have paired data or related samples. \n",
    "\n",
    "Most often, this is done by looking at change over time. However, a dependent t-test can only handle a pre- and post-test design, whereas, since ANOVAs can have multiple levels, they can handle additional timepoints. \n",
    "\n",
    "Anything from \"beginning, middle, end\" designs to looking at time bins for time periods can be done with an ANOVA.\n",
    "\n",
    "Within subjects ANOVAs get their name because you are looking at the same person, or research subject, over and over again. \n",
    "\n",
    "Because within subjects ANOVAs are so often used to look at things over time, they are often called repeated measures ANOVAs as well."
   ]
  },
  {
   "cell_type": "markdown",
   "id": "8e1c8621-3b52-4097-9730-295b553b2363",
   "metadata": {},
   "source": [
    "Tip!: Sometimes in the biological fields, this is called a Type II ANOVA instead of a within subjects ANOVA."
   ]
  },
  {
   "cell_type": "markdown",
   "id": "295678eb-4cc8-4873-b89f-7084cb62df8c",
   "metadata": {},
   "source": [
    "# Number of Independent Variables\n",
    "\n",
    "With both between and within subjects ANOVAs, you can also add a clarifier on that deals with the number of independent variables. \n",
    "\n",
    "So there are also one-way and factorial ANOVAs, which can be either between or within subjects."
   ]
  },
  {
   "cell_type": "markdown",
   "id": "3d1c2208-e513-4a7d-bf19-0584e86543fb",
   "metadata": {},
   "source": [
    "# One-Way ANOVAs\n",
    "\n",
    "When an ANOVA has only one independent variable, regardless of the number of levels, than this is called a one-way ANOVA."
   ]
  },
  {
   "cell_type": "code",
   "execution_count": 22,
   "id": "8b5ebf6a-cef9-4bb9-a174-61b710cc631a",
   "metadata": {},
   "outputs": [],
   "source": [
    "## only 1 x"
   ]
  },
  {
   "cell_type": "markdown",
   "id": "94246d39-5e30-46cf-9883-e78f6ce7f812",
   "metadata": {},
   "source": [
    "# Factorial ANOVAs\n",
    "\n",
    "\n",
    "When there is more than one independent variable, than as a whole, it is a factorial ANOVA. \n",
    "\n",
    "However, ANOVAs are typically named by the number of independent variables they contain, so if you had two independent variables, it would be called a two-way ANOVA, \n",
    "\n",
    "and if you had three independent variables, it would be called a three-way ANOVA, etc. \n",
    "\n",
    "Although there is no limit to the number of independent variables you can have in an ANOVA, as long as you have enough data, \n",
    "\n",
    "practically going above a three or four way ANOVA becomes very difficult to interpret, so it is not recommended."
   ]
  },
  {
   "cell_type": "code",
   "execution_count": 23,
   "id": "cf1a4a40-dba9-45d6-8ad6-fc721165d23e",
   "metadata": {},
   "outputs": [],
   "source": [
    "## more than 1 x"
   ]
  },
  {
   "cell_type": "markdown",
   "id": "8fd70766-a0db-4ab9-a5f7-949d23072105",
   "metadata": {},
   "source": [
    "# Mixed Measures ANOVAs\n",
    "\n",
    "In a factorial ANOVA, where there are multiple variables, you can mix and match your variables, so that there is one or more between subjects variables as well as a within subject variable. \n",
    "\n",
    "This is called a mixed measures or mixed design ANOVA."
   ]
  },
  {
   "cell_type": "code",
   "execution_count": 24,
   "id": "2210b891-f452-4b21-892f-0c48193ca17f",
   "metadata": {},
   "outputs": [],
   "source": [
    "## combines within subjects and between subjects"
   ]
  },
  {
   "cell_type": "code",
   "execution_count": 25,
   "id": "68dd0ef9-9963-463e-b617-8bc12629ea22",
   "metadata": {},
   "outputs": [],
   "source": [
    "#### Page 3 (Basic ANOVAs)"
   ]
  },
  {
   "cell_type": "code",
   "execution_count": 26,
   "id": "a4f94fe4-1979-4a4c-842b-a747145f732b",
   "metadata": {},
   "outputs": [],
   "source": [
    "## from video"
   ]
  },
  {
   "cell_type": "markdown",
   "id": "37553cb0-230e-4944-ab95-916f91a4b6e7",
   "metadata": {},
   "source": [
    "# only Within Subjects designs needs to worry about Sphericity"
   ]
  },
  {
   "cell_type": "markdown",
   "id": "5a8cdcea-a1fe-4170-af03-cf6a34a78613",
   "metadata": {},
   "source": [
    "Minimum smaple size for an ANOVA is at least 20 cases per independent variable"
   ]
  },
  {
   "cell_type": "markdown",
   "id": "f6f15731-7e06-42da-ba0b-a04f51566d64",
   "metadata": {},
   "source": [
    "# Assumptions for ANOVAs\n",
    "\n",
    "Just like any statistical test, there are assumptions for ANOVAs that you need to meet in order for them to be the most effective and the least biased."
   ]
  },
  {
   "cell_type": "markdown",
   "id": "59137d46-162d-4641-9703-9a8d52de30d3",
   "metadata": {},
   "source": [
    "### Normality\n",
    "\n",
    "This assumption should be very familiar to you! Just like most statistics, ANOVAs require your data to be normally distributed, or distributed as close to normal as possible. \n",
    "\n",
    "If your data are not normal, they will need to be transformed to approximate the normal distribution. Luckily, the ANOVA is relatively robust, so especially as your sample size increases, \n",
    "\n",
    "and if you keep your group sizes relatively equal, it can handle some deviations from normality."
   ]
  },
  {
   "cell_type": "markdown",
   "id": "85df1045-a4b2-4836-84c9-16c56b9405e5",
   "metadata": {},
   "source": [
    "### Homogeneity of Variance\n",
    "\n",
    "On the simplest level, homogeneity of variance means the variance, or the spread of data, is equal. The root homo means same, so think of homogeneity as \"same variance.\" In the context of an ANOVA assumption, \n",
    "\n",
    "it means that the variance of one variable should not affect the variance of another variable.\n",
    "\n",
    "It's probably easier to look at an illustration:"
   ]
  },
  {
   "cell_type": "markdown",
   "id": "4b9a0114-e69d-41a5-9505-20f141483782",
   "metadata": {},
   "source": [
    "<img src=\"../../media/ANOVA homogeneity of variance example.png\" align=\"left\" alt=\"COE image\" width = \"600\">"
   ]
  },
  {
   "cell_type": "markdown",
   "id": "351d6fd4-d742-4d5c-99ad-af619bdc445b",
   "metadata": {},
   "source": [
    "See how the means change some along the x axis, from the first curve to the second curve, but that the actual spread of the data is relatively the same? \n",
    "\n",
    "The distance between the highest and the lowest dot on the first curve is approximately the same as the distance between the highest and lowest dot on the second curve, \n",
    "\n",
    "but the actual placement of those dots is relative to the mean.\n",
    "\n",
    "If some of these curves had a really wide spread of data, or a really small spread, then that wouldn't be equal variance. \n",
    "\n",
    "Instead, the variance would be unequal, which is also called heterogeneity of variance. The root word hetero means difference, so you can think of heterogeneity as \"difference variance.\""
   ]
  },
  {
   "cell_type": "markdown",
   "id": "99a10e0d-8aca-435c-8e11-f2575fd45e2d",
   "metadata": {},
   "source": [
    "### Sample Size\n",
    "\n",
    "You must have an adequate sample size in order for ANOVAs to effectively test for differences between groups. \n",
    "    \n",
    "Typically, a higher sample size is required the more complex your analysis is, and ANOVAs are no exception. You must have a least 20 cases per independent variable."
   ]
  },
  {
   "cell_type": "markdown",
   "id": "6124471e-e85f-430e-93ec-06732cc8efc6",
   "metadata": {},
   "source": [
    "### Independence\n",
    "\n",
    "The assumption of independence means that your groups must be unrelated, or independent, of each other (except for within subjects designs). \n",
    "                                                                                                        \n",
    "You could theoretically test this by correlating each level of your independent variables with each other, but it's typically not done. \n",
    "\n",
    "Really, meeting the assumption of independence is just more about how you are setting up your \"experiment\" or choosing your data to analyze. \n",
    "\n",
    "Make sure that there is no overlap between your groups and that the levels you are testing are not related in some way, like having the same people.\n",
    "\n",
    "If you don't meet the assumption of independence, you are much more likely to commit Type I error, saying something is significant when it's really not. \n",
    "\n",
    "And there's no way to correct for this assumption - it's better just to not run an ANOVA if you feel you have violated the assumption of independence."
   ]
  },
  {
   "cell_type": "markdown",
   "id": "f2b9feba-3b24-4883-a07b-babe8804106a",
   "metadata": {},
   "source": [
    "### Sphericity (for Within Subjects Designs Only) \n",
    "\n",
    "**THE ABOVE NEEDS TO BE CHANGED IN CURRICULUM**\n",
    "\n",
    "Sphericity is a lot like homogeneity of variance, but applies specifically to repeated measures or within subjects designs. \n",
    "\n",
    "Say, for instance, you are measuring the activity level of dogs in their first year, second year, third year, and fourth year. \n",
    "\n",
    "If there is sphericity, then the association between each set of years should be approximately the same: 1 - 2, 1-3, 1-4, 2-3, and 2-4. \n",
    "\n",
    "However, when you're dealing with changes over time, it is often likely that things that happen closer together in time are more closely associated with each other. \n",
    "\n",
    "As your dog ages, you would expect that he or she would become a little less energetic. So the correlation between year 1 and year 2 activity rates is probably much \n",
    "\n",
    "higher than the correlation between the year 1 and year 4 activity rates, for instance. When sphericity is present in a between subjects design, there are many ways in which you can correct for it.\n",
    "\n"
   ]
  },
  {
   "cell_type": "code",
   "execution_count": 27,
   "id": "ee9c721a-a4d6-4e35-9a5b-326d15e28d42",
   "metadata": {},
   "outputs": [],
   "source": [
    "#### Page 4"
   ]
  },
  {
   "cell_type": "code",
   "execution_count": 28,
   "id": "48e8c4b2-8128-43fe-9085-80a3c49b53e0",
   "metadata": {},
   "outputs": [],
   "source": [
    "## video with salon data"
   ]
  },
  {
   "cell_type": "code",
   "execution_count": 32,
   "id": "bd994566-048a-48c0-a404-3d0dcd9db5e5",
   "metadata": {},
   "outputs": [],
   "source": [
    "## load data\n",
    "\n",
    "salon = read.csv('../Data/client_cancellations.csv')"
   ]
  },
  {
   "cell_type": "code",
   "execution_count": 33,
   "id": "6093c00c-f775-4d84-ba0f-4b7147bdce1e",
   "metadata": {},
   "outputs": [
    {
     "data": {
      "text/html": [
       "<table class=\"dataframe\">\n",
       "<caption>A data.frame: 6 × 11</caption>\n",
       "<thead>\n",
       "\t<tr><th></th><th scope=col>cancel.date</th><th scope=col>cancel.date.month</th><th scope=col>code</th><th scope=col>service.code</th><th scope=col>service.desc</th><th scope=col>staff</th><th scope=col>booking.date</th><th scope=col>booking.date.month</th><th scope=col>canceled.by</th><th scope=col>days.in.adv</th><th scope=col>avg.price</th></tr>\n",
       "\t<tr><th></th><th scope=col>&lt;chr&gt;</th><th scope=col>&lt;chr&gt;</th><th scope=col>&lt;chr&gt;</th><th scope=col>&lt;chr&gt;</th><th scope=col>&lt;chr&gt;</th><th scope=col>&lt;chr&gt;</th><th scope=col>&lt;chr&gt;</th><th scope=col>&lt;chr&gt;</th><th scope=col>&lt;chr&gt;</th><th scope=col>&lt;int&gt;</th><th scope=col>&lt;dbl&gt;</th></tr>\n",
       "</thead>\n",
       "<tbody>\n",
       "\t<tr><th scope=row>1</th><td>3/10/2018</td><td>March</td><td>KOOM01</td><td>SHCW </td><td>Women's hair cut</td><td>JJ    </td><td>4/3/2018 </td><td>April</td><td>JJ   </td><td>24</td><td> 88.44</td></tr>\n",
       "\t<tr><th scope=row>2</th><td>3/27/2018</td><td>March</td><td>WIL*01</td><td>SHCW </td><td>Women's hair cut</td><td>JJ    </td><td>3/29/2018</td><td>March</td><td>JJ   </td><td> 2</td><td> 88.44</td></tr>\n",
       "\t<tr><th scope=row>3</th><td>4/3/2018 </td><td>April</td><td>BUDG02</td><td>SHCM </td><td>Men's hair cut  </td><td>SINEAD</td><td>4/21/2018</td><td>April</td><td>BECKY</td><td>18</td><td> 41.41</td></tr>\n",
       "\t<tr><th scope=row>4</th><td>4/3/2018 </td><td>April</td><td>HILJ01</td><td>CFC  </td><td>Color full color</td><td>KELLY </td><td>4/3/2018 </td><td>April</td><td>JJ   </td><td> 0</td><td> 63.13</td></tr>\n",
       "\t<tr><th scope=row>5</th><td>4/3/2018 </td><td>April</td><td>STEM01</td><td>SHCW </td><td>Women's hair cut</td><td>BECKY </td><td>4/21/2018</td><td>April</td><td>JJ   </td><td>18</td><td> 67.84</td></tr>\n",
       "\t<tr><th scope=row>6</th><td>4/3/2018 </td><td>April</td><td>STRH01</td><td>CHLFH</td><td>Highlights full </td><td>KELLY </td><td>4/4/2018 </td><td>April</td><td>JJ   </td><td> 1</td><td>120.00</td></tr>\n",
       "</tbody>\n",
       "</table>\n"
      ],
      "text/latex": [
       "A data.frame: 6 × 11\n",
       "\\begin{tabular}{r|lllllllllll}\n",
       "  & cancel.date & cancel.date.month & code & service.code & service.desc & staff & booking.date & booking.date.month & canceled.by & days.in.adv & avg.price\\\\\n",
       "  & <chr> & <chr> & <chr> & <chr> & <chr> & <chr> & <chr> & <chr> & <chr> & <int> & <dbl>\\\\\n",
       "\\hline\n",
       "\t1 & 3/10/2018 & March & KOOM01 & SHCW  & Women's hair cut & JJ     & 4/3/2018  & April & JJ    & 24 &  88.44\\\\\n",
       "\t2 & 3/27/2018 & March & WIL*01 & SHCW  & Women's hair cut & JJ     & 3/29/2018 & March & JJ    &  2 &  88.44\\\\\n",
       "\t3 & 4/3/2018  & April & BUDG02 & SHCM  & Men's hair cut   & SINEAD & 4/21/2018 & April & BECKY & 18 &  41.41\\\\\n",
       "\t4 & 4/3/2018  & April & HILJ01 & CFC   & Color full color & KELLY  & 4/3/2018  & April & JJ    &  0 &  63.13\\\\\n",
       "\t5 & 4/3/2018  & April & STEM01 & SHCW  & Women's hair cut & BECKY  & 4/21/2018 & April & JJ    & 18 &  67.84\\\\\n",
       "\t6 & 4/3/2018  & April & STRH01 & CHLFH & Highlights full  & KELLY  & 4/4/2018  & April & JJ    &  1 & 120.00\\\\\n",
       "\\end{tabular}\n"
      ],
      "text/markdown": [
       "\n",
       "A data.frame: 6 × 11\n",
       "\n",
       "| <!--/--> | cancel.date &lt;chr&gt; | cancel.date.month &lt;chr&gt; | code &lt;chr&gt; | service.code &lt;chr&gt; | service.desc &lt;chr&gt; | staff &lt;chr&gt; | booking.date &lt;chr&gt; | booking.date.month &lt;chr&gt; | canceled.by &lt;chr&gt; | days.in.adv &lt;int&gt; | avg.price &lt;dbl&gt; |\n",
       "|---|---|---|---|---|---|---|---|---|---|---|---|\n",
       "| 1 | 3/10/2018 | March | KOOM01 | SHCW  | Women's hair cut | JJ     | 4/3/2018  | April | JJ    | 24 |  88.44 |\n",
       "| 2 | 3/27/2018 | March | WIL*01 | SHCW  | Women's hair cut | JJ     | 3/29/2018 | March | JJ    |  2 |  88.44 |\n",
       "| 3 | 4/3/2018  | April | BUDG02 | SHCM  | Men's hair cut   | SINEAD | 4/21/2018 | April | BECKY | 18 |  41.41 |\n",
       "| 4 | 4/3/2018  | April | HILJ01 | CFC   | Color full color | KELLY  | 4/3/2018  | April | JJ    |  0 |  63.13 |\n",
       "| 5 | 4/3/2018  | April | STEM01 | SHCW  | Women's hair cut | BECKY  | 4/21/2018 | April | JJ    | 18 |  67.84 |\n",
       "| 6 | 4/3/2018  | April | STRH01 | CHLFH | Highlights full  | KELLY  | 4/4/2018  | April | JJ    |  1 | 120.00 |\n",
       "\n"
      ],
      "text/plain": [
       "  cancel.date cancel.date.month code   service.code service.desc     staff \n",
       "1 3/10/2018   March             KOOM01 SHCW         Women's hair cut JJ    \n",
       "2 3/27/2018   March             WIL*01 SHCW         Women's hair cut JJ    \n",
       "3 4/3/2018    April             BUDG02 SHCM         Men's hair cut   SINEAD\n",
       "4 4/3/2018    April             HILJ01 CFC          Color full color KELLY \n",
       "5 4/3/2018    April             STEM01 SHCW         Women's hair cut BECKY \n",
       "6 4/3/2018    April             STRH01 CHLFH        Highlights full  KELLY \n",
       "  booking.date booking.date.month canceled.by days.in.adv avg.price\n",
       "1 4/3/2018     April              JJ          24           88.44   \n",
       "2 3/29/2018    March              JJ           2           88.44   \n",
       "3 4/21/2018    April              BECKY       18           41.41   \n",
       "4 4/3/2018     April              JJ           0           63.13   \n",
       "5 4/21/2018    April              JJ          18           67.84   \n",
       "6 4/4/2018     April              JJ           1          120.00   "
      ]
     },
     "metadata": {},
     "output_type": "display_data"
    }
   ],
   "source": [
    "head(salon)"
   ]
  },
  {
   "cell_type": "code",
   "execution_count": 34,
   "id": "92ea6d8d-bad8-46c3-bce2-6226d1696a36",
   "metadata": {},
   "outputs": [],
   "source": [
    "## Do some staff members sell more services and products than others?"
   ]
  },
  {
   "cell_type": "code",
   "execution_count": 35,
   "id": "e87e5555-a18a-45fe-a24b-843046a6b7aa",
   "metadata": {},
   "outputs": [
    {
     "data": {
      "image/png": "[encoded data removed]",
      "text/plain": [
       "Plot with title “”"
      ]
     },
     "metadata": {
      "image/png": {
       "height": 420,
       "width": 420
      }
     },
     "output_type": "display_data"
    }
   ],
   "source": [
    "plotNormalHistogram(salon$avg.price)\n",
    "\n",
    "## tail on right - looks positively skewed\n",
    "## adjust it"
   ]
  },
  {
   "cell_type": "code",
   "execution_count": 36,
   "id": "486d3865-bb69-4a9e-b151-02101be9229f",
   "metadata": {},
   "outputs": [],
   "source": [
    "salon$avg.priceSQRT = sqrt(salon$avg.price)"
   ]
  },
  {
   "cell_type": "code",
   "execution_count": 37,
   "id": "fdc6dbed-b731-4c15-ba82-7a84ca46b054",
   "metadata": {},
   "outputs": [
    {
     "data": {
      "text/html": [
       "<table class=\"dataframe\">\n",
       "<caption>A data.frame: 6 × 12</caption>\n",
       "<thead>\n",
       "\t<tr><th></th><th scope=col>cancel.date</th><th scope=col>cancel.date.month</th><th scope=col>code</th><th scope=col>service.code</th><th scope=col>service.desc</th><th scope=col>staff</th><th scope=col>booking.date</th><th scope=col>booking.date.month</th><th scope=col>canceled.by</th><th scope=col>days.in.adv</th><th scope=col>avg.price</th><th scope=col>avg.priceSQRT</th></tr>\n",
       "\t<tr><th></th><th scope=col>&lt;chr&gt;</th><th scope=col>&lt;chr&gt;</th><th scope=col>&lt;chr&gt;</th><th scope=col>&lt;chr&gt;</th><th scope=col>&lt;chr&gt;</th><th scope=col>&lt;chr&gt;</th><th scope=col>&lt;chr&gt;</th><th scope=col>&lt;chr&gt;</th><th scope=col>&lt;chr&gt;</th><th scope=col>&lt;int&gt;</th><th scope=col>&lt;dbl&gt;</th><th scope=col>&lt;dbl&gt;</th></tr>\n",
       "</thead>\n",
       "<tbody>\n",
       "\t<tr><th scope=row>1</th><td>3/10/2018</td><td>March</td><td>KOOM01</td><td>SHCW </td><td>Women's hair cut</td><td>JJ    </td><td>4/3/2018 </td><td>April</td><td>JJ   </td><td>24</td><td> 88.44</td><td> 9.404254</td></tr>\n",
       "\t<tr><th scope=row>2</th><td>3/27/2018</td><td>March</td><td>WIL*01</td><td>SHCW </td><td>Women's hair cut</td><td>JJ    </td><td>3/29/2018</td><td>March</td><td>JJ   </td><td> 2</td><td> 88.44</td><td> 9.404254</td></tr>\n",
       "\t<tr><th scope=row>3</th><td>4/3/2018 </td><td>April</td><td>BUDG02</td><td>SHCM </td><td>Men's hair cut  </td><td>SINEAD</td><td>4/21/2018</td><td>April</td><td>BECKY</td><td>18</td><td> 41.41</td><td> 6.435060</td></tr>\n",
       "\t<tr><th scope=row>4</th><td>4/3/2018 </td><td>April</td><td>HILJ01</td><td>CFC  </td><td>Color full color</td><td>KELLY </td><td>4/3/2018 </td><td>April</td><td>JJ   </td><td> 0</td><td> 63.13</td><td> 7.945439</td></tr>\n",
       "\t<tr><th scope=row>5</th><td>4/3/2018 </td><td>April</td><td>STEM01</td><td>SHCW </td><td>Women's hair cut</td><td>BECKY </td><td>4/21/2018</td><td>April</td><td>JJ   </td><td>18</td><td> 67.84</td><td> 8.236504</td></tr>\n",
       "\t<tr><th scope=row>6</th><td>4/3/2018 </td><td>April</td><td>STRH01</td><td>CHLFH</td><td>Highlights full </td><td>KELLY </td><td>4/4/2018 </td><td>April</td><td>JJ   </td><td> 1</td><td>120.00</td><td>10.954451</td></tr>\n",
       "</tbody>\n",
       "</table>\n"
      ],
      "text/latex": [
       "A data.frame: 6 × 12\n",
       "\\begin{tabular}{r|llllllllllll}\n",
       "  & cancel.date & cancel.date.month & code & service.code & service.desc & staff & booking.date & booking.date.month & canceled.by & days.in.adv & avg.price & avg.priceSQRT\\\\\n",
       "  & <chr> & <chr> & <chr> & <chr> & <chr> & <chr> & <chr> & <chr> & <chr> & <int> & <dbl> & <dbl>\\\\\n",
       "\\hline\n",
       "\t1 & 3/10/2018 & March & KOOM01 & SHCW  & Women's hair cut & JJ     & 4/3/2018  & April & JJ    & 24 &  88.44 &  9.404254\\\\\n",
       "\t2 & 3/27/2018 & March & WIL*01 & SHCW  & Women's hair cut & JJ     & 3/29/2018 & March & JJ    &  2 &  88.44 &  9.404254\\\\\n",
       "\t3 & 4/3/2018  & April & BUDG02 & SHCM  & Men's hair cut   & SINEAD & 4/21/2018 & April & BECKY & 18 &  41.41 &  6.435060\\\\\n",
       "\t4 & 4/3/2018  & April & HILJ01 & CFC   & Color full color & KELLY  & 4/3/2018  & April & JJ    &  0 &  63.13 &  7.945439\\\\\n",
       "\t5 & 4/3/2018  & April & STEM01 & SHCW  & Women's hair cut & BECKY  & 4/21/2018 & April & JJ    & 18 &  67.84 &  8.236504\\\\\n",
       "\t6 & 4/3/2018  & April & STRH01 & CHLFH & Highlights full  & KELLY  & 4/4/2018  & April & JJ    &  1 & 120.00 & 10.954451\\\\\n",
       "\\end{tabular}\n"
      ],
      "text/markdown": [
       "\n",
       "A data.frame: 6 × 12\n",
       "\n",
       "| <!--/--> | cancel.date &lt;chr&gt; | cancel.date.month &lt;chr&gt; | code &lt;chr&gt; | service.code &lt;chr&gt; | service.desc &lt;chr&gt; | staff &lt;chr&gt; | booking.date &lt;chr&gt; | booking.date.month &lt;chr&gt; | canceled.by &lt;chr&gt; | days.in.adv &lt;int&gt; | avg.price &lt;dbl&gt; | avg.priceSQRT &lt;dbl&gt; |\n",
       "|---|---|---|---|---|---|---|---|---|---|---|---|---|\n",
       "| 1 | 3/10/2018 | March | KOOM01 | SHCW  | Women's hair cut | JJ     | 4/3/2018  | April | JJ    | 24 |  88.44 |  9.404254 |\n",
       "| 2 | 3/27/2018 | March | WIL*01 | SHCW  | Women's hair cut | JJ     | 3/29/2018 | March | JJ    |  2 |  88.44 |  9.404254 |\n",
       "| 3 | 4/3/2018  | April | BUDG02 | SHCM  | Men's hair cut   | SINEAD | 4/21/2018 | April | BECKY | 18 |  41.41 |  6.435060 |\n",
       "| 4 | 4/3/2018  | April | HILJ01 | CFC   | Color full color | KELLY  | 4/3/2018  | April | JJ    |  0 |  63.13 |  7.945439 |\n",
       "| 5 | 4/3/2018  | April | STEM01 | SHCW  | Women's hair cut | BECKY  | 4/21/2018 | April | JJ    | 18 |  67.84 |  8.236504 |\n",
       "| 6 | 4/3/2018  | April | STRH01 | CHLFH | Highlights full  | KELLY  | 4/4/2018  | April | JJ    |  1 | 120.00 | 10.954451 |\n",
       "\n"
      ],
      "text/plain": [
       "  cancel.date cancel.date.month code   service.code service.desc     staff \n",
       "1 3/10/2018   March             KOOM01 SHCW         Women's hair cut JJ    \n",
       "2 3/27/2018   March             WIL*01 SHCW         Women's hair cut JJ    \n",
       "3 4/3/2018    April             BUDG02 SHCM         Men's hair cut   SINEAD\n",
       "4 4/3/2018    April             HILJ01 CFC          Color full color KELLY \n",
       "5 4/3/2018    April             STEM01 SHCW         Women's hair cut BECKY \n",
       "6 4/3/2018    April             STRH01 CHLFH        Highlights full  KELLY \n",
       "  booking.date booking.date.month canceled.by days.in.adv avg.price\n",
       "1 4/3/2018     April              JJ          24           88.44   \n",
       "2 3/29/2018    March              JJ           2           88.44   \n",
       "3 4/21/2018    April              BECKY       18           41.41   \n",
       "4 4/3/2018     April              JJ           0           63.13   \n",
       "5 4/21/2018    April              JJ          18           67.84   \n",
       "6 4/4/2018     April              JJ           1          120.00   \n",
       "  avg.priceSQRT\n",
       "1  9.404254    \n",
       "2  9.404254    \n",
       "3  6.435060    \n",
       "4  7.945439    \n",
       "5  8.236504    \n",
       "6 10.954451    "
      ]
     },
     "metadata": {},
     "output_type": "display_data"
    }
   ],
   "source": [
    "head(salon)"
   ]
  },
  {
   "cell_type": "code",
   "execution_count": 38,
   "id": "ea8ab39c-d231-44db-8fc2-fa1c6a5e1f1e",
   "metadata": {},
   "outputs": [
    {
     "data": {
      "image/png": "[encoded data removed]",
      "text/plain": [
       "Plot with title “”"
      ]
     },
     "metadata": {
      "image/png": {
       "height": 420,
       "width": 420
      }
     },
     "output_type": "display_data"
    }
   ],
   "source": [
    "plotNormalHistogram(salon$avg.priceSQRT)\n",
    "## looks approximately distributed"
   ]
  },
  {
   "cell_type": "code",
   "execution_count": 39,
   "id": "6ada04eb-ed30-414c-8854-fa0f22936913",
   "metadata": {},
   "outputs": [],
   "source": [
    "## test for assumption of homogeneity of variance\n",
    "\n",
    "## Bartlett's Test - when data is normally distributed\n",
    "## Fligner's Test - when data is non-parametric (not normally distributed)\n",
    "\n",
    "##### to pass this test and the assumption we want results to be non-significant\n",
    "\n",
    "##### idea is that if p-value is less than .05, it is siginifacant and you have found unequal variance, thus violating the assumption of homoageneity of variance"
   ]
  },
  {
   "cell_type": "code",
   "execution_count": 40,
   "id": "e2fd8523-6170-41e3-b6e8-c69a86a8f31e",
   "metadata": {},
   "outputs": [
    {
     "data": {
      "text/plain": [
       "\n",
       "\tBartlett test of homogeneity of variances\n",
       "\n",
       "data:  avg.priceSQRT by staff\n",
       "Bartlett's K-squared = 55.268, df = 5, p-value = 1.15e-10\n"
      ]
     },
     "metadata": {},
     "output_type": "display_data"
    }
   ],
   "source": [
    "bartlett.test(avg.priceSQRT ~ staff, data = salon)"
   ]
  },
  {
   "cell_type": "code",
   "execution_count": 41,
   "id": "0de5fd1a-017a-497d-b99a-95b1eea67aa6",
   "metadata": {},
   "outputs": [
    {
     "data": {
      "text/plain": [
       "\n",
       "\tFligner-Killeen test of homogeneity of variances\n",
       "\n",
       "data:  avg.priceSQRT by staff\n",
       "Fligner-Killeen:med chi-squared = 38.057, df = 5, p-value = 3.676e-07\n"
      ]
     },
     "metadata": {},
     "output_type": "display_data"
    }
   ],
   "source": [
    "fligner.test(avg.priceSQRT ~ staff, data = salon)"
   ]
  },
  {
   "cell_type": "code",
   "execution_count": 42,
   "id": "9b7d0be9-6eec-434d-a0b8-17df9673c8da",
   "metadata": {},
   "outputs": [],
   "source": [
    "#### assumption of homogeneity of variance is violated"
   ]
  },
  {
   "cell_type": "code",
   "execution_count": null,
   "id": "ccd6c043-ec9a-4bc7-98ef-757ee9b3854d",
   "metadata": {},
   "outputs": [],
   "source": [
    "## data independence - do any of the salon staff overlap in any way? --- One Way Between Subjects ANOVA in salon data video will be continued on next page"
   ]
  },
  {
   "cell_type": "code",
   "execution_count": null,
   "id": "31300c04-bb47-4648-9707-e170866e13d1",
   "metadata": {},
   "outputs": [],
   "source": [
    "## end of video - on to Page 4 text"
   ]
  },
  {
   "cell_type": "markdown",
   "id": "1f2205d5-340c-4500-82ea-a3cb07cf4cdb",
   "metadata": {},
   "source": [
    "### One Way Between Subjects ANOVAs in R\n",
    "\n",
    "Now that you have a basic idea about what an ANOVA is, you will learn how to create ANOVAs in R, starting with the One Way ANOVA."
   ]
  },
  {
   "cell_type": "code",
   "execution_count": 44,
   "id": "342c1293-3053-475b-af5a-ee0a71f2a03b",
   "metadata": {},
   "outputs": [],
   "source": [
    "## load data\n",
    "apps = read.csv('../Data/googleplaystore.csv')"
   ]
  },
  {
   "cell_type": "code",
   "execution_count": 45,
   "id": "9466c172-c3a3-45d1-9cd3-4bfa67c937e0",
   "metadata": {},
   "outputs": [
    {
     "data": {
      "text/html": [
       "<table class=\"dataframe\">\n",
       "<caption>A data.frame: 6 × 14</caption>\n",
       "<thead>\n",
       "\t<tr><th></th><th scope=col>X</th><th scope=col>App</th><th scope=col>Category</th><th scope=col>Rating</th><th scope=col>Reviews</th><th scope=col>Size</th><th scope=col>Installs</th><th scope=col>Type</th><th scope=col>Price</th><th scope=col>Content.Rating</th><th scope=col>Genres</th><th scope=col>Last.Updated</th><th scope=col>Current.Ver</th><th scope=col>Android.Ver</th></tr>\n",
       "\t<tr><th></th><th scope=col>&lt;int&gt;</th><th scope=col>&lt;chr&gt;</th><th scope=col>&lt;chr&gt;</th><th scope=col>&lt;dbl&gt;</th><th scope=col>&lt;chr&gt;</th><th scope=col>&lt;chr&gt;</th><th scope=col>&lt;chr&gt;</th><th scope=col>&lt;chr&gt;</th><th scope=col>&lt;chr&gt;</th><th scope=col>&lt;chr&gt;</th><th scope=col>&lt;chr&gt;</th><th scope=col>&lt;chr&gt;</th><th scope=col>&lt;chr&gt;</th><th scope=col>&lt;chr&gt;</th></tr>\n",
       "</thead>\n",
       "<tbody>\n",
       "\t<tr><th scope=row>1</th><td>1</td><td><span style=white-space:pre-wrap>Photo Editor &amp; Candy Camera &amp; Grid &amp; ScrapBook    </span></td><td>ART_AND_DESIGN</td><td>4.1</td><td><span style=white-space:pre-wrap>159   </span></td><td>19M </td><td><span style=white-space:pre-wrap>10,000+    </span></td><td>Free</td><td>0</td><td>Everyone</td><td><span style=white-space:pre-wrap>Art &amp; Design             </span></td><td>7-Jan-18 </td><td><span style=white-space:pre-wrap>1.0.0             </span></td><td>4.0.3 and up</td></tr>\n",
       "\t<tr><th scope=row>2</th><td>2</td><td><span style=white-space:pre-wrap>Coloring book moana                               </span></td><td>ART_AND_DESIGN</td><td>3.9</td><td><span style=white-space:pre-wrap>967   </span></td><td>14M </td><td><span style=white-space:pre-wrap>500,000+   </span></td><td>Free</td><td>0</td><td>Everyone</td><td>Art &amp; Design;Pretend Play</td><td>15-Jan-18</td><td><span style=white-space:pre-wrap>2.0.0             </span></td><td>4.0.3 and up</td></tr>\n",
       "\t<tr><th scope=row>3</th><td>3</td><td>U Launcher Lite – FREE Live Cool Themes, Hide Apps</td><td>ART_AND_DESIGN</td><td>4.7</td><td>87510 </td><td>8.7M</td><td>5,000,000+ </td><td>Free</td><td>0</td><td>Everyone</td><td><span style=white-space:pre-wrap>Art &amp; Design             </span></td><td>1-Aug-18 </td><td><span style=white-space:pre-wrap>1.2.4             </span></td><td>4.0.3 and up</td></tr>\n",
       "\t<tr><th scope=row>4</th><td>4</td><td><span style=white-space:pre-wrap>Sketch - Draw &amp; Paint                             </span></td><td>ART_AND_DESIGN</td><td>4.5</td><td>215644</td><td>25M </td><td>50,000,000+</td><td>Free</td><td>0</td><td><span style=white-space:pre-wrap>Teen    </span></td><td><span style=white-space:pre-wrap>Art &amp; Design             </span></td><td>8-Jun-18 </td><td>Varies with device</td><td><span style=white-space:pre-wrap>4.2 and up  </span></td></tr>\n",
       "\t<tr><th scope=row>5</th><td>5</td><td><span style=white-space:pre-wrap>Pixel Draw - Number Art Coloring Book             </span></td><td>ART_AND_DESIGN</td><td>4.3</td><td><span style=white-space:pre-wrap>967   </span></td><td>2.8M</td><td><span style=white-space:pre-wrap>100,000+   </span></td><td>Free</td><td>0</td><td>Everyone</td><td><span style=white-space:pre-wrap>Art &amp; Design;Creativity  </span></td><td>20-Jun-18</td><td><span style=white-space:pre-wrap>1.1               </span></td><td><span style=white-space:pre-wrap>4.4 and up  </span></td></tr>\n",
       "\t<tr><th scope=row>6</th><td>6</td><td><span style=white-space:pre-wrap>Paper flowers instructions                        </span></td><td>ART_AND_DESIGN</td><td>4.4</td><td><span style=white-space:pre-wrap>167   </span></td><td>5.6M</td><td><span style=white-space:pre-wrap>50,000+    </span></td><td>Free</td><td>0</td><td>Everyone</td><td><span style=white-space:pre-wrap>Art &amp; Design             </span></td><td>26-Mar-17</td><td><span style=white-space:pre-wrap>1                 </span></td><td><span style=white-space:pre-wrap>2.3 and up  </span></td></tr>\n",
       "</tbody>\n",
       "</table>\n"
      ],
      "text/latex": [
       "A data.frame: 6 × 14\n",
       "\\begin{tabular}{r|llllllllllllll}\n",
       "  & X & App & Category & Rating & Reviews & Size & Installs & Type & Price & Content.Rating & Genres & Last.Updated & Current.Ver & Android.Ver\\\\\n",
       "  & <int> & <chr> & <chr> & <dbl> & <chr> & <chr> & <chr> & <chr> & <chr> & <chr> & <chr> & <chr> & <chr> & <chr>\\\\\n",
       "\\hline\n",
       "\t1 & 1 & Photo Editor \\& Candy Camera \\& Grid \\& ScrapBook     & ART\\_AND\\_DESIGN & 4.1 & 159    & 19M  & 10,000+     & Free & 0 & Everyone & Art \\& Design              & 7-Jan-18  & 1.0.0              & 4.0.3 and up\\\\\n",
       "\t2 & 2 & Coloring book moana                                & ART\\_AND\\_DESIGN & 3.9 & 967    & 14M  & 500,000+    & Free & 0 & Everyone & Art \\& Design;Pretend Play & 15-Jan-18 & 2.0.0              & 4.0.3 and up\\\\\n",
       "\t3 & 3 & U Launcher Lite – FREE Live Cool Themes, Hide Apps & ART\\_AND\\_DESIGN & 4.7 & 87510  & 8.7M & 5,000,000+  & Free & 0 & Everyone & Art \\& Design              & 1-Aug-18  & 1.2.4              & 4.0.3 and up\\\\\n",
       "\t4 & 4 & Sketch - Draw \\& Paint                              & ART\\_AND\\_DESIGN & 4.5 & 215644 & 25M  & 50,000,000+ & Free & 0 & Teen     & Art \\& Design              & 8-Jun-18  & Varies with device & 4.2 and up  \\\\\n",
       "\t5 & 5 & Pixel Draw - Number Art Coloring Book              & ART\\_AND\\_DESIGN & 4.3 & 967    & 2.8M & 100,000+    & Free & 0 & Everyone & Art \\& Design;Creativity   & 20-Jun-18 & 1.1                & 4.4 and up  \\\\\n",
       "\t6 & 6 & Paper flowers instructions                         & ART\\_AND\\_DESIGN & 4.4 & 167    & 5.6M & 50,000+     & Free & 0 & Everyone & Art \\& Design              & 26-Mar-17 & 1                  & 2.3 and up  \\\\\n",
       "\\end{tabular}\n"
      ],
      "text/markdown": [
       "\n",
       "A data.frame: 6 × 14\n",
       "\n",
       "| <!--/--> | X &lt;int&gt; | App &lt;chr&gt; | Category &lt;chr&gt; | Rating &lt;dbl&gt; | Reviews &lt;chr&gt; | Size &lt;chr&gt; | Installs &lt;chr&gt; | Type &lt;chr&gt; | Price &lt;chr&gt; | Content.Rating &lt;chr&gt; | Genres &lt;chr&gt; | Last.Updated &lt;chr&gt; | Current.Ver &lt;chr&gt; | Android.Ver &lt;chr&gt; |\n",
       "|---|---|---|---|---|---|---|---|---|---|---|---|---|---|---|\n",
       "| 1 | 1 | Photo Editor &amp; Candy Camera &amp; Grid &amp; ScrapBook     | ART_AND_DESIGN | 4.1 | 159    | 19M  | 10,000+     | Free | 0 | Everyone | Art &amp; Design              | 7-Jan-18  | 1.0.0              | 4.0.3 and up |\n",
       "| 2 | 2 | Coloring book moana                                | ART_AND_DESIGN | 3.9 | 967    | 14M  | 500,000+    | Free | 0 | Everyone | Art &amp; Design;Pretend Play | 15-Jan-18 | 2.0.0              | 4.0.3 and up |\n",
       "| 3 | 3 | U Launcher Lite – FREE Live Cool Themes, Hide Apps | ART_AND_DESIGN | 4.7 | 87510  | 8.7M | 5,000,000+  | Free | 0 | Everyone | Art &amp; Design              | 1-Aug-18  | 1.2.4              | 4.0.3 and up |\n",
       "| 4 | 4 | Sketch - Draw &amp; Paint                              | ART_AND_DESIGN | 4.5 | 215644 | 25M  | 50,000,000+ | Free | 0 | Teen     | Art &amp; Design              | 8-Jun-18  | Varies with device | 4.2 and up   |\n",
       "| 5 | 5 | Pixel Draw - Number Art Coloring Book              | ART_AND_DESIGN | 4.3 | 967    | 2.8M | 100,000+    | Free | 0 | Everyone | Art &amp; Design;Creativity   | 20-Jun-18 | 1.1                | 4.4 and up   |\n",
       "| 6 | 6 | Paper flowers instructions                         | ART_AND_DESIGN | 4.4 | 167    | 5.6M | 50,000+     | Free | 0 | Everyone | Art &amp; Design              | 26-Mar-17 | 1                  | 2.3 and up   |\n",
       "\n"
      ],
      "text/plain": [
       "  X App                                                Category       Rating\n",
       "1 1 Photo Editor & Candy Camera & Grid & ScrapBook     ART_AND_DESIGN 4.1   \n",
       "2 2 Coloring book moana                                ART_AND_DESIGN 3.9   \n",
       "3 3 U Launcher Lite – FREE Live Cool Themes, Hide Apps ART_AND_DESIGN 4.7   \n",
       "4 4 Sketch - Draw & Paint                              ART_AND_DESIGN 4.5   \n",
       "5 5 Pixel Draw - Number Art Coloring Book              ART_AND_DESIGN 4.3   \n",
       "6 6 Paper flowers instructions                         ART_AND_DESIGN 4.4   \n",
       "  Reviews Size Installs    Type Price Content.Rating Genres                   \n",
       "1 159     19M  10,000+     Free 0     Everyone       Art & Design             \n",
       "2 967     14M  500,000+    Free 0     Everyone       Art & Design;Pretend Play\n",
       "3 87510   8.7M 5,000,000+  Free 0     Everyone       Art & Design             \n",
       "4 215644  25M  50,000,000+ Free 0     Teen           Art & Design             \n",
       "5 967     2.8M 100,000+    Free 0     Everyone       Art & Design;Creativity  \n",
       "6 167     5.6M 50,000+     Free 0     Everyone       Art & Design             \n",
       "  Last.Updated Current.Ver        Android.Ver \n",
       "1 7-Jan-18     1.0.0              4.0.3 and up\n",
       "2 15-Jan-18    2.0.0              4.0.3 and up\n",
       "3 1-Aug-18     1.2.4              4.0.3 and up\n",
       "4 8-Jun-18     Varies with device 4.2 and up  \n",
       "5 20-Jun-18    1.1                4.4 and up  \n",
       "6 26-Mar-17    1                  2.3 and up  "
      ]
     },
     "metadata": {},
     "output_type": "display_data"
    }
   ],
   "source": [
    "head(apps)"
   ]
  },
  {
   "cell_type": "markdown",
   "id": "acc22da7-f673-4e38-b1b6-2268874b72f1",
   "metadata": {},
   "source": [
    "#### Question Setup\n",
    "\n",
    "With this data, you will answer the question:\n",
    "\n",
    "Is there a difference in price among the three app categories of beauty, food and drink, and photography? \n"
   ]
  },
  {
   "cell_type": "markdown",
   "id": "67dbec3b-e33f-4d76-837a-72a71cb385cc",
   "metadata": {},
   "source": [
    "In order to answer this question, your x, or independent variable, will be the app categories, which has three levels: beauty, food and drink, and photography. \n",
    "\n",
    "Your y, or dependent variable, will be the price. As with all ANOVAs, the IV will be categorical, and the DV will be continuous."
   ]
  },
  {
   "cell_type": "markdown",
   "id": "d3468fbc-aa90-4978-ac50-2cb4cc7bc429",
   "metadata": {},
   "source": [
    "#### Data Wrangling\n",
    "\n",
    "Depending on the data that you've been given, it may need some wrangling!"
   ]
  },
  {
   "cell_type": "markdown",
   "id": "269a697b-2f71-4978-8163-63462483730e",
   "metadata": {},
   "source": [
    "#### Filter the Data and Remove Missing Values\n",
    "\n",
    "In this case, the data has many more categories than three, so you will need to filter the dataset by the categories you want: beauty, food and drink, and photography."
   ]
  },
  {
   "cell_type": "code",
   "execution_count": 46,
   "id": "889b10e9-f364-4fe0-b686-b2bc1ebffdc5",
   "metadata": {},
   "outputs": [],
   "source": [
    "apps1 <- na.omit(apps %>% filter(Category %in% c(\"BEAUTY\", \"FOOD_AND_DRINK\", \"PHOTOGRAPHY\")))"
   ]
  },
  {
   "cell_type": "code",
   "execution_count": 47,
   "id": "4a312520-9272-4940-9bb1-c7070246f42f",
   "metadata": {},
   "outputs": [
    {
     "data": {
      "text/html": [
       "<table class=\"dataframe\">\n",
       "<caption>A data.frame: 6 × 14</caption>\n",
       "<thead>\n",
       "\t<tr><th></th><th scope=col>X</th><th scope=col>App</th><th scope=col>Category</th><th scope=col>Rating</th><th scope=col>Reviews</th><th scope=col>Size</th><th scope=col>Installs</th><th scope=col>Type</th><th scope=col>Price</th><th scope=col>Content.Rating</th><th scope=col>Genres</th><th scope=col>Last.Updated</th><th scope=col>Current.Ver</th><th scope=col>Android.Ver</th></tr>\n",
       "\t<tr><th></th><th scope=col>&lt;int&gt;</th><th scope=col>&lt;chr&gt;</th><th scope=col>&lt;chr&gt;</th><th scope=col>&lt;dbl&gt;</th><th scope=col>&lt;chr&gt;</th><th scope=col>&lt;chr&gt;</th><th scope=col>&lt;chr&gt;</th><th scope=col>&lt;chr&gt;</th><th scope=col>&lt;chr&gt;</th><th scope=col>&lt;chr&gt;</th><th scope=col>&lt;chr&gt;</th><th scope=col>&lt;chr&gt;</th><th scope=col>&lt;chr&gt;</th><th scope=col>&lt;chr&gt;</th></tr>\n",
       "</thead>\n",
       "<tbody>\n",
       "\t<tr><th scope=row>1</th><td> 99</td><td>Hush - Beauty for Everyone                        </td><td>BEAUTY</td><td>4.7</td><td>18900</td><td>17M               </td><td>500,000+  </td><td>Free</td><td>0</td><td>Everyone</td><td>Beauty</td><td>2-Aug-18 </td><td>6.10.1            </td><td>5.0 and up        </td></tr>\n",
       "\t<tr><th scope=row>2</th><td>100</td><td>ipsy: Makeup, Beauty, and Tips                    </td><td>BEAUTY</td><td>4.9</td><td>49790</td><td>14M               </td><td>1,000,000+</td><td>Free</td><td>0</td><td>Everyone</td><td>Beauty</td><td>9-Nov-17 </td><td>2.3.0             </td><td>4.1 and up        </td></tr>\n",
       "\t<tr><th scope=row>3</th><td>101</td><td>Natural recipes for your beauty                   </td><td>BEAUTY</td><td>4.7</td><td>1150 </td><td>9.8M              </td><td>100,000+  </td><td>Free</td><td>0</td><td>Everyone</td><td>Beauty</td><td>15-May-18</td><td>4                 </td><td>4.1 and up        </td></tr>\n",
       "\t<tr><th scope=row>4</th><td>102</td><td>BestCam Selfie-selfie, beauty camera, photo editor</td><td>BEAUTY</td><td>3.9</td><td>1739 </td><td>21M               </td><td>500,000+  </td><td>Free</td><td>0</td><td>Everyone</td><td>Beauty</td><td>12-Jul-18</td><td>1.0.6             </td><td>4.0.3 and up      </td></tr>\n",
       "\t<tr><th scope=row>5</th><td>103</td><td><span style=white-space:pre-wrap>Mirror - Zoom &amp; Exposure -                        </span></td><td>BEAUTY</td><td>3.9</td><td>32090</td><td>Varies with device</td><td>1,000,000+</td><td>Free</td><td>0</td><td>Everyone</td><td>Beauty</td><td>24-Oct-16</td><td>Varies with device</td><td>Varies with device</td></tr>\n",
       "\t<tr><th scope=row>6</th><td>104</td><td>Beauty Selfie Camera                              </td><td>BEAUTY</td><td>4.2</td><td>2225 </td><td>52M               </td><td>500,000+  </td><td>Free</td><td>0</td><td>Everyone</td><td>Beauty</td><td>28-Feb-18</td><td>1.6               </td><td>4.1 and up        </td></tr>\n",
       "</tbody>\n",
       "</table>\n"
      ],
      "text/latex": [
       "A data.frame: 6 × 14\n",
       "\\begin{tabular}{r|llllllllllllll}\n",
       "  & X & App & Category & Rating & Reviews & Size & Installs & Type & Price & Content.Rating & Genres & Last.Updated & Current.Ver & Android.Ver\\\\\n",
       "  & <int> & <chr> & <chr> & <dbl> & <chr> & <chr> & <chr> & <chr> & <chr> & <chr> & <chr> & <chr> & <chr> & <chr>\\\\\n",
       "\\hline\n",
       "\t1 &  99 & Hush - Beauty for Everyone                         & BEAUTY & 4.7 & 18900 & 17M                & 500,000+   & Free & 0 & Everyone & Beauty & 2-Aug-18  & 6.10.1             & 5.0 and up        \\\\\n",
       "\t2 & 100 & ipsy: Makeup, Beauty, and Tips                     & BEAUTY & 4.9 & 49790 & 14M                & 1,000,000+ & Free & 0 & Everyone & Beauty & 9-Nov-17  & 2.3.0              & 4.1 and up        \\\\\n",
       "\t3 & 101 & Natural recipes for your beauty                    & BEAUTY & 4.7 & 1150  & 9.8M               & 100,000+   & Free & 0 & Everyone & Beauty & 15-May-18 & 4                  & 4.1 and up        \\\\\n",
       "\t4 & 102 & BestCam Selfie-selfie, beauty camera, photo editor & BEAUTY & 3.9 & 1739  & 21M                & 500,000+   & Free & 0 & Everyone & Beauty & 12-Jul-18 & 1.0.6              & 4.0.3 and up      \\\\\n",
       "\t5 & 103 & Mirror - Zoom \\& Exposure -                         & BEAUTY & 3.9 & 32090 & Varies with device & 1,000,000+ & Free & 0 & Everyone & Beauty & 24-Oct-16 & Varies with device & Varies with device\\\\\n",
       "\t6 & 104 & Beauty Selfie Camera                               & BEAUTY & 4.2 & 2225  & 52M                & 500,000+   & Free & 0 & Everyone & Beauty & 28-Feb-18 & 1.6                & 4.1 and up        \\\\\n",
       "\\end{tabular}\n"
      ],
      "text/markdown": [
       "\n",
       "A data.frame: 6 × 14\n",
       "\n",
       "| <!--/--> | X &lt;int&gt; | App &lt;chr&gt; | Category &lt;chr&gt; | Rating &lt;dbl&gt; | Reviews &lt;chr&gt; | Size &lt;chr&gt; | Installs &lt;chr&gt; | Type &lt;chr&gt; | Price &lt;chr&gt; | Content.Rating &lt;chr&gt; | Genres &lt;chr&gt; | Last.Updated &lt;chr&gt; | Current.Ver &lt;chr&gt; | Android.Ver &lt;chr&gt; |\n",
       "|---|---|---|---|---|---|---|---|---|---|---|---|---|---|---|\n",
       "| 1 |  99 | Hush - Beauty for Everyone                         | BEAUTY | 4.7 | 18900 | 17M                | 500,000+   | Free | 0 | Everyone | Beauty | 2-Aug-18  | 6.10.1             | 5.0 and up         |\n",
       "| 2 | 100 | ipsy: Makeup, Beauty, and Tips                     | BEAUTY | 4.9 | 49790 | 14M                | 1,000,000+ | Free | 0 | Everyone | Beauty | 9-Nov-17  | 2.3.0              | 4.1 and up         |\n",
       "| 3 | 101 | Natural recipes for your beauty                    | BEAUTY | 4.7 | 1150  | 9.8M               | 100,000+   | Free | 0 | Everyone | Beauty | 15-May-18 | 4                  | 4.1 and up         |\n",
       "| 4 | 102 | BestCam Selfie-selfie, beauty camera, photo editor | BEAUTY | 3.9 | 1739  | 21M                | 500,000+   | Free | 0 | Everyone | Beauty | 12-Jul-18 | 1.0.6              | 4.0.3 and up       |\n",
       "| 5 | 103 | Mirror - Zoom &amp; Exposure -                         | BEAUTY | 3.9 | 32090 | Varies with device | 1,000,000+ | Free | 0 | Everyone | Beauty | 24-Oct-16 | Varies with device | Varies with device |\n",
       "| 6 | 104 | Beauty Selfie Camera                               | BEAUTY | 4.2 | 2225  | 52M                | 500,000+   | Free | 0 | Everyone | Beauty | 28-Feb-18 | 1.6                | 4.1 and up         |\n",
       "\n"
      ],
      "text/plain": [
       "  X   App                                                Category Rating\n",
       "1  99 Hush - Beauty for Everyone                         BEAUTY   4.7   \n",
       "2 100 ipsy: Makeup, Beauty, and Tips                     BEAUTY   4.9   \n",
       "3 101 Natural recipes for your beauty                    BEAUTY   4.7   \n",
       "4 102 BestCam Selfie-selfie, beauty camera, photo editor BEAUTY   3.9   \n",
       "5 103 Mirror - Zoom & Exposure -                         BEAUTY   3.9   \n",
       "6 104 Beauty Selfie Camera                               BEAUTY   4.2   \n",
       "  Reviews Size               Installs   Type Price Content.Rating Genres\n",
       "1 18900   17M                500,000+   Free 0     Everyone       Beauty\n",
       "2 49790   14M                1,000,000+ Free 0     Everyone       Beauty\n",
       "3 1150    9.8M               100,000+   Free 0     Everyone       Beauty\n",
       "4 1739    21M                500,000+   Free 0     Everyone       Beauty\n",
       "5 32090   Varies with device 1,000,000+ Free 0     Everyone       Beauty\n",
       "6 2225    52M                500,000+   Free 0     Everyone       Beauty\n",
       "  Last.Updated Current.Ver        Android.Ver       \n",
       "1 2-Aug-18     6.10.1             5.0 and up        \n",
       "2 9-Nov-17     2.3.0              4.1 and up        \n",
       "3 15-May-18    4                  4.1 and up        \n",
       "4 12-Jul-18    1.0.6              4.0.3 and up      \n",
       "5 24-Oct-16    Varies with device Varies with device\n",
       "6 28-Feb-18    1.6                4.1 and up        "
      ]
     },
     "metadata": {},
     "output_type": "display_data"
    }
   ],
   "source": [
    "head(apps1)"
   ]
  },
  {
   "cell_type": "markdown",
   "id": "c3091a56-8680-47c0-9ed6-af3e832f0db4",
   "metadata": {},
   "source": [
    "Now you are all prepared to run a one-way ANOVA."
   ]
  },
  {
   "cell_type": "markdown",
   "id": "143db723-b330-4c5d-bebb-35e8b784977a",
   "metadata": {},
   "source": [
    "#### Make Price Numeric\n",
    "\n",
    "You will also need to make your dependent variable, price, numeric, \n",
    "\n",
    "so that you can test for some of your assumptions:"
   ]
  },
  {
   "cell_type": "code",
   "execution_count": 48,
   "id": "c34992f3-0fc7-4d67-ae00-bdf181f4dc82",
   "metadata": {},
   "outputs": [
    {
     "data": {
      "text/html": [
       "<style>\n",
       ".list-inline {list-style: none; margin:0; padding: 0}\n",
       ".list-inline>li {display: inline-block}\n",
       ".list-inline>li:not(:last-child)::after {content: \"\\00b7\"; padding: 0 .5ex}\n",
       "</style>\n",
       "<ol class=list-inline><li>'0'</li><li>'3.49 '</li><li>'4.99 '</li><li>'5.99 '</li><li>'2.99 '</li><li>'3.95 '</li><li>'1.49 '</li><li>'9.99 '</li><li>'19.99 '</li><li>'1.99 '</li></ol>\n"
      ],
      "text/latex": [
       "\\begin{enumerate*}\n",
       "\\item '0'\n",
       "\\item '3.49 '\n",
       "\\item '4.99 '\n",
       "\\item '5.99 '\n",
       "\\item '2.99 '\n",
       "\\item '3.95 '\n",
       "\\item '1.49 '\n",
       "\\item '9.99 '\n",
       "\\item '19.99 '\n",
       "\\item '1.99 '\n",
       "\\end{enumerate*}\n"
      ],
      "text/markdown": [
       "1. '0'\n",
       "2. '3.49 '\n",
       "3. '4.99 '\n",
       "4. '5.99 '\n",
       "5. '2.99 '\n",
       "6. '3.95 '\n",
       "7. '1.49 '\n",
       "8. '9.99 '\n",
       "9. '19.99 '\n",
       "10. '1.99 '\n",
       "\n",
       "\n"
      ],
      "text/plain": [
       " [1] \"0\"      \"3.49 \"  \"4.99 \"  \"5.99 \"  \"2.99 \"  \"3.95 \"  \"1.49 \"  \"9.99 \" \n",
       " [9] \"19.99 \" \"1.99 \" "
      ]
     },
     "metadata": {},
     "output_type": "display_data"
    }
   ],
   "source": [
    "unique(apps1$Price)"
   ]
  },
  {
   "cell_type": "code",
   "execution_count": 49,
   "id": "2f02db5d-c15b-4453-ac69-828987fa02be",
   "metadata": {},
   "outputs": [],
   "source": [
    "apps1$Price <- as.numeric(apps1$Price)"
   ]
  },
  {
   "cell_type": "code",
   "execution_count": 50,
   "id": "ce86909d-45b5-47df-9913-31756734852e",
   "metadata": {},
   "outputs": [
    {
     "data": {
      "text/html": [
       "<style>\n",
       ".list-inline {list-style: none; margin:0; padding: 0}\n",
       ".list-inline>li {display: inline-block}\n",
       ".list-inline>li:not(:last-child)::after {content: \"\\00b7\"; padding: 0 .5ex}\n",
       "</style>\n",
       "<ol class=list-inline><li>0</li><li>3.49</li><li>4.99</li><li>5.99</li><li>2.99</li><li>3.95</li><li>1.49</li><li>9.99</li><li>19.99</li><li>1.99</li></ol>\n"
      ],
      "text/latex": [
       "\\begin{enumerate*}\n",
       "\\item 0\n",
       "\\item 3.49\n",
       "\\item 4.99\n",
       "\\item 5.99\n",
       "\\item 2.99\n",
       "\\item 3.95\n",
       "\\item 1.49\n",
       "\\item 9.99\n",
       "\\item 19.99\n",
       "\\item 1.99\n",
       "\\end{enumerate*}\n"
      ],
      "text/markdown": [
       "1. 0\n",
       "2. 3.49\n",
       "3. 4.99\n",
       "4. 5.99\n",
       "5. 2.99\n",
       "6. 3.95\n",
       "7. 1.49\n",
       "8. 9.99\n",
       "9. 19.99\n",
       "10. 1.99\n",
       "\n",
       "\n"
      ],
      "text/plain": [
       " [1]  0.00  3.49  4.99  5.99  2.99  3.95  1.49  9.99 19.99  1.99"
      ]
     },
     "metadata": {},
     "output_type": "display_data"
    }
   ],
   "source": [
    "unique(apps1$Price)"
   ]
  },
  {
   "cell_type": "code",
   "execution_count": 51,
   "id": "3a018b7e-e7eb-4dd5-8d17-e04733c78c28",
   "metadata": {},
   "outputs": [],
   "source": [
    "## checking the columns data types"
   ]
  },
  {
   "cell_type": "code",
   "execution_count": 52,
   "id": "3dfb9a44-60ae-4b98-be36-3f1d409978fd",
   "metadata": {},
   "outputs": [
    {
     "data": {
      "text/html": [
       "<style>\n",
       ".dl-inline {width: auto; margin:0; padding: 0}\n",
       ".dl-inline>dt, .dl-inline>dd {float: none; width: auto; display: inline-block}\n",
       ".dl-inline>dt::after {content: \":\\0020\"; padding-right: .5ex}\n",
       ".dl-inline>dt:not(:first-of-type) {padding-left: .5ex}\n",
       "</style><dl class=dl-inline><dt>X</dt><dd>'integer'</dd><dt>App</dt><dd>'character'</dd><dt>Category</dt><dd>'character'</dd><dt>Rating</dt><dd>'numeric'</dd><dt>Reviews</dt><dd>'character'</dd><dt>Size</dt><dd>'character'</dd><dt>Installs</dt><dd>'character'</dd><dt>Type</dt><dd>'character'</dd><dt>Price</dt><dd>'numeric'</dd><dt>Content.Rating</dt><dd>'character'</dd><dt>Genres</dt><dd>'character'</dd><dt>Last.Updated</dt><dd>'character'</dd><dt>Current.Ver</dt><dd>'character'</dd><dt>Android.Ver</dt><dd>'character'</dd></dl>\n"
      ],
      "text/latex": [
       "\\begin{description*}\n",
       "\\item[X] 'integer'\n",
       "\\item[App] 'character'\n",
       "\\item[Category] 'character'\n",
       "\\item[Rating] 'numeric'\n",
       "\\item[Reviews] 'character'\n",
       "\\item[Size] 'character'\n",
       "\\item[Installs] 'character'\n",
       "\\item[Type] 'character'\n",
       "\\item[Price] 'numeric'\n",
       "\\item[Content.Rating] 'character'\n",
       "\\item[Genres] 'character'\n",
       "\\item[Last.Updated] 'character'\n",
       "\\item[Current.Ver] 'character'\n",
       "\\item[Android.Ver] 'character'\n",
       "\\end{description*}\n"
      ],
      "text/markdown": [
       "X\n",
       ":   'integer'App\n",
       ":   'character'Category\n",
       ":   'character'Rating\n",
       ":   'numeric'Reviews\n",
       ":   'character'Size\n",
       ":   'character'Installs\n",
       ":   'character'Type\n",
       ":   'character'Price\n",
       ":   'numeric'Content.Rating\n",
       ":   'character'Genres\n",
       ":   'character'Last.Updated\n",
       ":   'character'Current.Ver\n",
       ":   'character'Android.Ver\n",
       ":   'character'\n",
       "\n"
      ],
      "text/plain": [
       "             X            App       Category         Rating        Reviews \n",
       "     \"integer\"    \"character\"    \"character\"      \"numeric\"    \"character\" \n",
       "          Size       Installs           Type          Price Content.Rating \n",
       "   \"character\"    \"character\"    \"character\"      \"numeric\"    \"character\" \n",
       "        Genres   Last.Updated    Current.Ver    Android.Ver \n",
       "   \"character\"    \"character\"    \"character\"    \"character\" "
      ]
     },
     "metadata": {},
     "output_type": "display_data"
    }
   ],
   "source": [
    "sapply(apps1, class)"
   ]
  },
  {
   "cell_type": "markdown",
   "id": "3f921f86-e844-4723-b648-e0158fb61975",
   "metadata": {},
   "source": [
    "#### Test Assumptions\n",
    "\n",
    "Before you go any further, it's important to test for assumptions. \n",
    "\n",
    "If the assumptions are not met for ANOVA, but you proceeded anyway, you run the risk of biasing your results."
   ]
  },
  {
   "cell_type": "markdown",
   "id": "8708204d-c142-455c-879c-d5e82c2b059d",
   "metadata": {},
   "source": [
    "#### Normality\n",
    "\n",
    "You only need to test for the normality of the dependent variable, since the IV is categorical."
   ]
  },
  {
   "cell_type": "code",
   "execution_count": 53,
   "id": "f0ff5c62-75e7-4bbe-996a-17f6bdd38c14",
   "metadata": {},
   "outputs": [
    {
     "data": {
      "image/png": "[encoded data removed]",
      "text/plain": [
       "Plot with title “”"
      ]
     },
     "metadata": {
      "image/png": {
       "height": 420,
       "width": 420
      }
     },
     "output_type": "display_data"
    }
   ],
   "source": [
    "plotNormalHistogram(apps1$Price)"
   ]
  },
  {
   "cell_type": "code",
   "execution_count": 54,
   "id": "f0aa8c07-4242-4719-b773-386bc8f4033b",
   "metadata": {},
   "outputs": [
    {
     "data": {
      "image/png": "[encoded data removed]",
      "text/plain": [
       "Plot with title “”"
      ]
     },
     "metadata": {
      "image/png": {
       "height": 420,
       "width": 420
      }
     },
     "output_type": "display_data"
    }
   ],
   "source": [
    "apps1$PriceCube <- apps1$Price ^ 1/3\n",
    "plotNormalHistogram(apps1$PriceCube)"
   ]
  },
  {
   "cell_type": "code",
   "execution_count": 55,
   "id": "b1820c52-e2ce-4082-af4c-fee3f691b588",
   "metadata": {},
   "outputs": [],
   "source": [
    "## these are not the results from the curriculum - I believe it is wrong"
   ]
  },
  {
   "cell_type": "markdown",
   "id": "24f70cc3-7bce-4756-94b5-3bb8d9a90331",
   "metadata": {},
   "source": [
    "Looks like neither of these are really any better than the original, so you might as well keep the original data to ease interpretation. \n",
    "\n",
    "ANOVA is somewhat tolerant of violations of normality when you have a large sample size. \n",
    "\n",
    "Your other option would be to run another analysis that did not require normality."
   ]
  },
  {
   "cell_type": "markdown",
   "id": "9124fcd4-1e8c-48f9-9e04-a867d11ae408",
   "metadata": {},
   "source": [
    "#### Homogeneity of Variance\n",
    "\n",
    "You can test for homogeneity of variance easily using either Bartlett's test or Fligner's Test. \n",
    "\n",
    "Bartlett's test is for when your data is normally distributed, and Fligner's test is for when your data is non-parametric. \n",
    "\n",
    "No matter which test you are using, you are looking for a non-significant test. The null hypothesis for both of these is that the data has equal variance, so you'd like to have a p value of > .05. You have already determined your data is not normally distributed, so ordinarily you would just perform Fligner's test, but just for learning purposes, you'll try both here."
   ]
  },
  {
   "cell_type": "markdown",
   "id": "af16c127-7ee1-455a-811e-d3394b188a6f",
   "metadata": {},
   "source": [
    "#### Bartlett's Test\n",
    "\n",
    "To do Bartlett's test, use the function bartlett.test(), with the argument of the y data separated by a tilde, followed by the x data. \n",
    "\n",
    "Then there's an argument data=, which is where you will specify the name of your dataset."
   ]
  },
  {
   "cell_type": "code",
   "execution_count": 56,
   "id": "70b1f3ca-d264-4796-86b7-5954b582b45c",
   "metadata": {},
   "outputs": [
    {
     "data": {
      "text/plain": [
       "\n",
       "\tBartlett test of homogeneity of variances\n",
       "\n",
       "data:  Price by Category\n",
       "Bartlett's K-squared = Inf, df = 2, p-value < 2.2e-16\n"
      ]
     },
     "metadata": {},
     "output_type": "display_data"
    }
   ],
   "source": [
    "bartlett.test(Price ~ Category, data=apps1)"
   ]
  },
  {
   "cell_type": "markdown",
   "id": "d0284bba-a802-4252-9fb3-7000369d5729",
   "metadata": {},
   "source": [
    "The p value associated with this test is < .05, which means that unfortunately, you have violated the assumption of homogeneity of variance."
   ]
  },
  {
   "cell_type": "markdown",
   "id": "7828692a-35ea-4f69-b9c0-cfaff6b22149",
   "metadata": {},
   "source": [
    "#### Fligner's Test\n",
    "\n",
    "To perform Fligner's test, use the function fligner.test(), with the argument of the y data separated by a tilde, followed by the x data. \n",
    "\n",
    "Then there's an argument data=, which is where you will specify the name of your dataset."
   ]
  },
  {
   "cell_type": "code",
   "execution_count": 57,
   "id": "91d8e3d2-c44d-4187-b005-158b77ddee9d",
   "metadata": {},
   "outputs": [
    {
     "data": {
      "text/plain": [
       "\n",
       "\tFligner-Killeen test of homogeneity of variances\n",
       "\n",
       "data:  Price by Category\n",
       "Fligner-Killeen:med chi-squared = 4.878, df = 2, p-value = 0.08725\n"
      ]
     },
     "metadata": {},
     "output_type": "display_data"
    }
   ],
   "source": [
    "fligner.test(Price ~ Category, data=apps1)"
   ]
  },
  {
   "cell_type": "code",
   "execution_count": null,
   "id": "1ee1c5cf-37f6-4c95-97c8-d7e6ee0ad540",
   "metadata": {},
   "outputs": [],
   "source": [
    "## different output than curriculum"
   ]
  },
  {
   "cell_type": "code",
   "execution_count": null,
   "id": "fe6b3e43-1d91-4f57-a7e0-d2c9c2397a9d",
   "metadata": {},
   "outputs": [],
   "source": [
    "## this may be wrong"
   ]
  },
  {
   "cell_type": "markdown",
   "id": "1f921907-071c-42a7-86e6-40d6682162e0",
   "metadata": {},
   "source": [
    "#### Correcting for Violations of Homogeneity of Variance\n",
    "\n",
    "There are two ways that you can correct for a violation of homogeneity of variance. \n",
    "\n",
    "The first is the BoxCox transformation of your data, and the second is running a slightly different type of ANOVA, one that was created specifically to handle this violation. \n",
    "\n",
    "That test is called the Welch One-Way Test, and you'll learn about this ANOVA option."
   ]
  },
  {
   "cell_type": "markdown",
   "id": "e6831fe7-a7f2-4a54-a9ae-c622959f2b5f",
   "metadata": {},
   "source": [
    "#### Sample Size\n",
    "\n",
    "An ANOVA requires a sample size of at least 20 per independent variable. \n",
    "\n",
    "In this case, you only have one independent variable, so as long as you have at least 20 cases, you are fine. \n",
    "\n",
    "Looking at the data, the n is 515, so you are fine to proceed with this assumption!"
   ]
  },
  {
   "cell_type": "markdown",
   "id": "d3660a7d-b7d1-409c-9b8b-07eb74d866fb",
   "metadata": {},
   "source": [
    "#### Independence\n",
    "\n",
    "There is no statistical test for the assumption of independence."
   ]
  },
  {
   "cell_type": "code",
   "execution_count": null,
   "id": "e433249f-a403-4df2-8855-db20f12429ab",
   "metadata": {},
   "outputs": [],
   "source": [
    "#### Page 5"
   ]
  },
  {
   "cell_type": "code",
   "execution_count": null,
   "id": "b75e3ec9-5fa1-43db-802f-61326e1eb673",
   "metadata": {},
   "outputs": [],
   "source": [
    "## video"
   ]
  },
  {
   "cell_type": "code",
   "execution_count": null,
   "id": "3ec8cc53-3ab1-4018-85f9-3457690fb2cb",
   "metadata": {},
   "outputs": [],
   "source": [
    "head(salon)"
   ]
  },
  {
   "cell_type": "code",
   "execution_count": null,
   "id": "a6641ff5-e765-411b-b9ce-674eada16b72",
   "metadata": {},
   "outputs": [],
   "source": [
    "## 2 ways of doing 1 way ANOVAs in R\n",
    "\n",
    "## when the data meets the Homogeneity of Variance assumption\n",
    "\n",
    "## and when the data violates it"
   ]
  },
  {
   "cell_type": "code",
   "execution_count": null,
   "id": "72891f58-b5b6-42af-9944-d0fa262a7dcc",
   "metadata": {},
   "outputs": [],
   "source": [
    "salonAnova = aov(salon$avg.priceSQRT ~ salon$staff)"
   ]
  },
  {
   "cell_type": "code",
   "execution_count": null,
   "id": "ff45cfb7-25e6-4ee3-a942-de35abf2f76b",
   "metadata": {},
   "outputs": [],
   "source": [
    "## use summary()\n",
    "\n",
    "summary(salonAnova)"
   ]
  },
  {
   "cell_type": "code",
   "execution_count": null,
   "id": "e88347b8-afce-4d97-b97b-54071f998c66",
   "metadata": {},
   "outputs": [],
   "source": [
    "## p-value is significant at .001 as indicated by the stars\n",
    "## This means there is a significant effect of staff member that influences how much a client spends"
   ]
  },
  {
   "cell_type": "code",
   "execution_count": null,
   "id": "0fd2786f-69ea-4fb4-88e3-bf13d6025a32",
   "metadata": {},
   "outputs": [],
   "source": [
    "## now using the ANOVA for when data violates assumption of Homogeneity of Variance"
   ]
  },
  {
   "cell_type": "code",
   "execution_count": null,
   "id": "6702f4fa-b4f4-4a6f-9c9a-6bea97982d9b",
   "metadata": {},
   "outputs": [],
   "source": [
    "salonANOVAhetero = lm(avg.priceSQRT ~ staff, data = salon)"
   ]
  },
  {
   "cell_type": "code",
   "execution_count": null,
   "id": "efea2b7b-f009-44f6-8923-9f22ed3aad8e",
   "metadata": {},
   "outputs": [],
   "source": [
    "## next call the Anova() function"
   ]
  },
  {
   "cell_type": "code",
   "execution_count": null,
   "id": "837a859d-852f-42ea-9491-887aeb110b39",
   "metadata": {},
   "outputs": [],
   "source": [
    "Anova(salonANOVAhetero, Type=\"ii\", white.adjust = TRUE)"
   ]
  },
  {
   "cell_type": "code",
   "execution_count": null,
   "id": "91dc8b0f-a05b-4709-b36e-618757a023ad",
   "metadata": {},
   "outputs": [],
   "source": [
    "## p-value shows us their if significance\n",
    "## but which staff member influences more?\n",
    "## post hoc(ind. t.test done b/t ea. set of levels of IV)"
   ]
  },
  {
   "cell_type": "code",
   "execution_count": null,
   "id": "ac6b9cb6-4813-450c-983a-86a3c5e17b6a",
   "metadata": {},
   "outputs": [],
   "source": [
    "pairwise.t.test(salon$avg.priceSQRT, salon$staff, p.adjust = \"none\")"
   ]
  },
  {
   "cell_type": "code",
   "execution_count": null,
   "id": "56d040ee-9154-4a8a-84cf-899827b7964d",
   "metadata": {},
   "outputs": [],
   "source": [
    "## next we will run same test, but adjust for Type 1 error"
   ]
  },
  {
   "cell_type": "code",
   "execution_count": null,
   "id": "b38c425e-3e6a-4fc1-a822-0c7c85961639",
   "metadata": {},
   "outputs": [],
   "source": [
    "pairwise.t.test(salon$avg.priceSQRT, salon$staff, p.adjust = \"bonferroni\")"
   ]
  },
  {
   "cell_type": "code",
   "execution_count": null,
   "id": "5a026f9b-01b3-4635-9156-5657c8e35f4a",
   "metadata": {},
   "outputs": [],
   "source": [
    "## very much drastically different results\n",
    "## these results are better - Joanne seems to differ from mostly everyone: is she better or worse? (go back and look at mean) - no using SQRT column"
   ]
  },
  {
   "cell_type": "code",
   "execution_count": null,
   "id": "bb32d8c6-75ac-43cb-a8c3-b314d7674cd2",
   "metadata": {},
   "outputs": [],
   "source": [
    "salonMeans = salon %>% group_by(staff) %>% summarize(Mean = mean(avg.price))"
   ]
  },
  {
   "cell_type": "code",
   "execution_count": null,
   "id": "7e57cfe3-e38e-4881-ac90-db6fdae40b17",
   "metadata": {},
   "outputs": [],
   "source": [
    "salonMeans\n",
    "## we get a NA for staff member JJ - need to remove NAs with IDPmisc package and try again"
   ]
  },
  {
   "cell_type": "code",
   "execution_count": null,
   "id": "8254c3ea-75d4-4728-9ed6-fde31e07a435",
   "metadata": {},
   "outputs": [],
   "source": [
    "salon2 = NaRV.omit(salon)"
   ]
  },
  {
   "cell_type": "code",
   "execution_count": null,
   "id": "2444b11b-90eb-4a82-a567-6898d0e9c6df",
   "metadata": {},
   "outputs": [],
   "source": [
    "salonMeans = salon2 %>% group_by(staff) %>% summarize(Mean = mean(avg.price))\n",
    "salonMeans"
   ]
  },
  {
   "cell_type": "code",
   "execution_count": null,
   "id": "e0fa7f58-fcf6-4939-9577-a7386a002a67",
   "metadata": {},
   "outputs": [],
   "source": [
    "## looks like Joanna is outselling every staff member - examine her technique and try to put into practice with rest of salon staff"
   ]
  },
  {
   "cell_type": "code",
   "execution_count": null,
   "id": "e9cfa044-5a13-4d01-8382-2574d69e2179",
   "metadata": {},
   "outputs": [],
   "source": [
    "### End of video"
   ]
  },
  {
   "cell_type": "code",
   "execution_count": null,
   "id": "9e2d1b71-8fad-466d-9033-9c2d05ebb3ed",
   "metadata": {},
   "outputs": [],
   "source": [
    "#### Page 5 Contents (One Way Between Subjects NOVA in R Part 2)"
   ]
  },
  {
   "cell_type": "markdown",
   "id": "2408dd0d-872e-4290-8f27-44708cd92f37",
   "metadata": {},
   "source": [
    "### Computing ANOVAs with Equal Variance (Met Homogeneity of Variance Assumption)\n",
    "\n",
    "In this case, your data did not meet this assumption, but for the purposes of learning, you'll be shown what to do if you had.\n",
    "\n",
    "Below is the code to run a one-way ANOVA in R. You can give your ANOVA a name; this one is named appsANOVA. \n",
    "\n",
    "Then you want to use the function aov(). The argument for this function is your y variable, which is continuous, followed by a tilde and then your x variable, which is categorical. \n",
    "\n",
    "Remember that the tilde reads as \"by,\" so you can think of this as analyzing price by category."
   ]
  },
  {
   "cell_type": "code",
   "execution_count": null,
   "id": "925eca07-b186-4c2d-8366-93a2a188f5df",
   "metadata": {},
   "outputs": [],
   "source": [
    "appsANOVA = aov(apps1$Price ~ apps1$Category)"
   ]
  },
  {
   "cell_type": "code",
   "execution_count": null,
   "id": "18e0bb2f-a2b9-4714-8bc9-262ca54fad1f",
   "metadata": {},
   "outputs": [],
   "source": [
    "## we already changed Price to as.numeric() up above"
   ]
  },
  {
   "cell_type": "markdown",
   "id": "c925dad3-5c1c-43f6-9510-8eded748bb0e",
   "metadata": {},
   "source": [
    "Now that you have fixed Price as numeric, you can then run the ANOVA code above again. Luckily, no errors this time! But this by itself does not give you any information. You need to utilize the summary() function:"
   ]
  },
  {
   "cell_type": "code",
   "execution_count": null,
   "id": "a2294432-b627-46a9-bd80-3da7a705c33d",
   "metadata": {},
   "outputs": [],
   "source": [
    "summary(appsANOVA)\n",
    "## different output then the curriculum"
   ]
  },
  {
   "cell_type": "markdown",
   "id": "e45ecbd7-d740-4160-8d19-6515f3f2dd15",
   "metadata": {},
   "source": [
    "The first row of the output has the Df, or degrees of freedom. The row for your category is calculated as 1 - # of Levels, so that is always a good gut check. Next, you have rows for the Sum Sq and Mean Sq; these are just some of the calculations that went into getting your F value, which is the test statistic for an ANOVA. The real meat that you want to pay attention to is the F value itself and the associated p value next to it. Like anything else, if this value is less than .05, the test was significant. If you ever need a reminder of that, you can look at the star and Signif. codes down at the bottom - there's one star listed, so it is significant at .05.\n",
    "\n"
   ]
  },
  {
   "cell_type": "code",
   "execution_count": null,
   "id": "3fa2467e-6c26-412f-97ed-627bf55a0eee",
   "metadata": {},
   "outputs": [],
   "source": [
    "## there is no star chart with signif. codes. The p-value is also above .05 @ 0.203 (ie no significance)"
   ]
  },
  {
   "cell_type": "markdown",
   "id": "9b18670e-be62-409b-9000-0e0048825fbd",
   "metadata": {},
   "source": [
    "### Computing ANOVAs with Unequal Variance (Violated Homogeneity of Variance Assumption)\n",
    "\n",
    "If you need to correct for violating the assumption of homogeneity of variance, you can run an ANOVA that was meant to correct for that violation, using a Welch's One-Way Test. \n",
    "\n",
    "To do this, you will actually create a linear model first, and then use the function Anova() on it."
   ]
  },
  {
   "cell_type": "markdown",
   "id": "3cb8fc9c-e13d-4de0-bec7-dde9b4190832",
   "metadata": {},
   "source": [
    "First, create and name a linear model that uses the same set up as the ANOVA with equal variance. Then, call the Anova() function on that named model, include the argument of Type= and set it to \"II\" because this is a between subjects ANOVA, and then use the argument white.adjust=TRUE. This last part, setting white.adjust= to TRUE, is what makes this ANOVA appropriate when you have unequal variance.\n",
    "\n",
    "Here is the output R provides you with:"
   ]
  },
  {
   "cell_type": "code",
   "execution_count": null,
   "id": "404a7bb7-64ff-483d-af7a-71ec43da1ca1",
   "metadata": {},
   "outputs": [],
   "source": [
    "ANOVA <- lm(Price ~ Category, data=apps1)\n",
    "Anova(ANOVA, Type=\"ii\", white.adjust=TRUE)"
   ]
  },
  {
   "cell_type": "markdown",
   "id": "9e27772c-f1df-4247-9180-21d112a248a1",
   "metadata": {},
   "source": [
    "It provides a little less information in terms of the math behind calculating the F statistic, but really, all the information you need to interpret the data is there. This is significant at p < .001, so you can conclude that there is a significant difference in price somewhere between the three levels of your independent variable."
   ]
  },
  {
   "cell_type": "code",
   "execution_count": null,
   "id": "3ecc7282-b026-49db-ab6a-41d14e94d20f",
   "metadata": {},
   "outputs": [],
   "source": [
    "## This is not my output"
   ]
  },
  {
   "cell_type": "markdown",
   "id": "102765c6-46d7-40ac-8a00-337487050970",
   "metadata": {},
   "source": [
    "### Post Hocs\n",
    "\n",
    "Now the problem with an ANOVA is that you have multiple groups. When you found significance with a t-test, you were able to just look at the means and you knew where the significant differences lie. You knew what was higher, and what was lower. But with an ANOVA, you can't just look at the means right away, because the F and associated p value just let you know that there is a difference between at least set of the three categories. In your example, the mean prices could be different between the beauty and food and drink category, the beauty and photography category, the food and drink and photography category, or some combination of those three!\n",
    "\n",
    "That's where post hocs come in. They are specifically designed to test all the pairs between your data, which is why they are also often known as pairwise comparisons. This is done with t-tests. But the inherent problem with using multiple t-tests is that the more analyses you run, the more you increase your chances of Type I error. So you're more likely to find something significant when it really isn't. So, typically a post hoc will apply a correction, or adjustment, so that the t-tests become more stringent, and you are therefore correcting for doing multiple t-tests by applying stricter criteria. That way your Type I error doesn't run rampant!\n",
    "\n",
    "There are many different corrections you can apply. But the most common ones you'll hear about are Tukey, Bonferroni, Holm, and Scheffe. All named by after the people who came up with them, by the way. These three are in order of how much correction they apply, with Tukey applying the least correction and Scheffe applying the most. Unfortunately, R does not compute Tukey and Scheffe automatically, so you'll stick to exploring the difference between no correction at all, and a Bonferroni correction"
   ]
  },
  {
   "cell_type": "markdown",
   "id": "c018ae0b-c91f-4100-a592-5c1b98406521",
   "metadata": {},
   "source": [
    "#### Computing Post Hocs with No Adjustment\n",
    "\n",
    "Here is the code for computing a post hoc in R:"
   ]
  },
  {
   "cell_type": "markdown",
   "id": "b944ac72-da67-4f3f-9f0d-336ce8d83997",
   "metadata": {},
   "source": [
    "Use the pairwise.t.test() function, with the arguments of the two variables you are crossing, and the argument p.adjust=. To show you why a correction is necessary, you will start out with a value of \"none\", which means that no correction is being made for Type I error. Here are the results:"
   ]
  },
  {
   "cell_type": "code",
   "execution_count": null,
   "id": "55509e40-7feb-4f9a-be25-e6ec490091c0",
   "metadata": {},
   "outputs": [],
   "source": [
    "pairwise.t.test(apps1$Price, apps1$Category, p.adjust=\"none\")"
   ]
  },
  {
   "cell_type": "code",
   "execution_count": null,
   "id": "46949bf6-220a-4ff2-af1b-f164b83d2f30",
   "metadata": {
    "tags": []
   },
   "outputs": [],
   "source": [
    "## this data must not be consistent with what the curriculum is using"
   ]
  },
  {
   "cell_type": "markdown",
   "id": "4dca1949-bf0c-425a-802a-70570d398a68",
   "metadata": {},
   "source": [
    "What is presented in the matrix above is the p values for each t-test between the pairs of the levels of your independent variable. Reading this, you can see that there was not a significant difference in price between food and drink and beauty apps. There was also not a significant difference between the photography and beauty apps, though since this is close to .05, some researchers might say that that analysis is approaching significance or marginally significant and report it as a nominal finding. There is, however, a significant difference between the price of the food and drink and photography apps, at p = .03."
   ]
  },
  {
   "cell_type": "markdown",
   "id": "d3340024-6fbd-42d0-8046-1b62bae52a0d",
   "metadata": {},
   "source": [
    "#### Computing Post Hocs with Bonferroni Adjustment\n",
    "\n",
    "You may be pretty pleased with finding a significant difference in price between app categories. But guess what? \n",
    "\n",
    "That difference may not really exist, because by running three t-tests, you may have increased your Type I error. \n",
    "\n",
    "So, better to typically stick with some form of correction, like Bonferroni. It is relatively \"mild,\" but gets the job done!"
   ]
  },
  {
   "cell_type": "code",
   "execution_count": null,
   "id": "894db6cd-f97e-4781-a566-d8737eb84047",
   "metadata": {},
   "outputs": [],
   "source": [
    "pairwise.t.test(apps1$Price, apps1$Category, p.adjust=\"bonferroni\")"
   ]
  },
  {
   "cell_type": "code",
   "execution_count": null,
   "id": "42ed5005-696c-497c-9d44-abfdc3d5c63e",
   "metadata": {},
   "outputs": [],
   "source": [
    "## a different result from curriculum yet again"
   ]
  },
  {
   "cell_type": "markdown",
   "id": "2f46bf63-e887-4bb5-b537-beef8af66226",
   "metadata": {},
   "source": [
    "### Computing Post Hocs When You've Violated the Assumption of Homogeneity of Variance\n",
    "\n",
    "There is an easy solution to computing post hocs when you have violated the assumption of homogeneity of variance. \n",
    "\n",
    "You'll use the same codes as above, but include the argument pool.sd = FALSE at the end.\n",
    "\n",
    "This provides a very similar output, the only difference being that is was calculated with non-pooled standard deviations, as noted at the top."
   ]
  },
  {
   "cell_type": "code",
   "execution_count": null,
   "id": "b0202e9e-db83-4589-8625-2f8a9e14a66f",
   "metadata": {},
   "outputs": [],
   "source": [
    "pairwise.t.test(apps1$Price, apps1$Category, p.adjust=\"bonferroni\", pool.sd = FALSE)"
   ]
  },
  {
   "cell_type": "markdown",
   "id": "94d8d17f-c022-485f-816a-a54fe409231a",
   "metadata": {},
   "source": [
    "As you can see, once you've correct for this assumption, your results are more accurate, and your pairwise comparisons are actually significant now between both photography and beauty and photography and food and drink apps."
   ]
  },
  {
   "cell_type": "code",
   "execution_count": null,
   "id": "31f9021c-29cb-49d1-ab62-9a6ce84a5980",
   "metadata": {},
   "outputs": [],
   "source": [
    "## different output"
   ]
  },
  {
   "cell_type": "markdown",
   "id": "aa7a50cd-4a82-4eff-a4e7-cb833c0c17ae",
   "metadata": {},
   "source": [
    "#### Determine Means and Draw Conclusions\n",
    "\n",
    "If you had found a significant difference after correction, you would want to then finish interpreting the results and draw some conclusions. \n",
    "\n",
    "To do that, you need to examine the means! Again, dplyr nicely comes to the rescue."
   ]
  },
  {
   "cell_type": "code",
   "execution_count": null,
   "id": "213e41ba-ba7e-41d5-a9db-adccb21de9f8",
   "metadata": {},
   "outputs": [],
   "source": [
    "appsMeans <- apps1 %>% group_by(Category) %>% summarize(Mean = mean(Price))"
   ]
  },
  {
   "cell_type": "code",
   "execution_count": null,
   "id": "b3f230db-7a5c-49a0-8604-20e566bdba44",
   "metadata": {},
   "outputs": [],
   "source": [
    "appsMeans"
   ]
  },
  {
   "cell_type": "markdown",
   "id": "c5e486cb-431f-4123-b353-b073370a0ea7",
   "metadata": {},
   "source": [
    "Had you passed the corrected post-hoc with this data, you would have been able to look at the means and say that photography had a significantly lower price than food and drink apps. But, looking at these means, which are extremely close, it makes sense that this significant finding would \"wash out\" after Bonferroni correction. Is the difference between 89 cents and 92 cents really all that different?"
   ]
  },
  {
   "cell_type": "code",
   "execution_count": null,
   "id": "ea43a10c-2c7f-45e1-89ef-ec8bce07b65c",
   "metadata": {},
   "outputs": [],
   "source": [
    "## again, this is different, very different"
   ]
  },
  {
   "cell_type": "code",
   "execution_count": null,
   "id": "19c047a5-6688-441d-bb61-a09f0aceca35",
   "metadata": {},
   "outputs": [],
   "source": [
    "## Page 6 (activity)"
   ]
  },
  {
   "cell_type": "markdown",
   "id": "86a1a7b8-74a1-4bfc-9819-8e65777ce746",
   "metadata": {},
   "source": [
    "#### Requirements\n",
    "\n",
    "Using the YouTube Channels dataset, determine if there is a difference in the number of views (Video.views differs between all the different grade categories (Grade). To do this, you will need to:\n",
    "\n",
    "* Test for all assumptions and correct for them if necessary\n",
    "* Run the appropriate ANOVA based on your assumptions\n",
    "* If significant, run the appropriate post hoc based on your assumptions\n",
    "* Interpret your results\n",
    "\n",
    "\n",
    "Then write an overall, one-sentence conclusion about this data analysis."
   ]
  },
  {
   "cell_type": "code",
   "execution_count": 58,
   "id": "7bde2eaa-a2aa-463c-89ba-b1beb7805964",
   "metadata": {},
   "outputs": [],
   "source": [
    "## load data\n",
    "channels = read.csv('../Data/YouTubeChannels.csv')"
   ]
  },
  {
   "cell_type": "code",
   "execution_count": 59,
   "id": "a1df1188-af50-4317-b747-4f773b0184cb",
   "metadata": {},
   "outputs": [
    {
     "data": {
      "text/html": [
       "<table class=\"dataframe\">\n",
       "<caption>A data.frame: 6 × 6</caption>\n",
       "<thead>\n",
       "\t<tr><th></th><th scope=col>Rank</th><th scope=col>Grade</th><th scope=col>Channel.name</th><th scope=col>Video.Uploads</th><th scope=col>Subscribers</th><th scope=col>Video.views</th></tr>\n",
       "\t<tr><th></th><th scope=col>&lt;chr&gt;</th><th scope=col>&lt;chr&gt;</th><th scope=col>&lt;chr&gt;</th><th scope=col>&lt;chr&gt;</th><th scope=col>&lt;chr&gt;</th><th scope=col>&lt;dbl&gt;</th></tr>\n",
       "</thead>\n",
       "<tbody>\n",
       "\t<tr><th scope=row>1</th><td>1st</td><td>A++ </td><td>Zee TV                    </td><td>82757</td><td>18752951</td><td>20869786591</td></tr>\n",
       "\t<tr><th scope=row>2</th><td>2nd</td><td>A++ </td><td>T-Series                  </td><td>12661</td><td>61196302</td><td>47548839843</td></tr>\n",
       "\t<tr><th scope=row>3</th><td>3rd</td><td>A++ </td><td>Cocomelon - Nursery Rhymes</td><td>373  </td><td>19238251</td><td> 9793305082</td></tr>\n",
       "\t<tr><th scope=row>4</th><td>4th</td><td>A++ </td><td>SET India                 </td><td>27323</td><td>31180559</td><td>22675948293</td></tr>\n",
       "\t<tr><th scope=row>5</th><td>5th</td><td>A++ </td><td>WWE                       </td><td>36756</td><td>32852346</td><td>26273668433</td></tr>\n",
       "\t<tr><th scope=row>6</th><td>6th</td><td>A++ </td><td>Movieclips                </td><td>30243</td><td>17149705</td><td>16618094724</td></tr>\n",
       "</tbody>\n",
       "</table>\n"
      ],
      "text/latex": [
       "A data.frame: 6 × 6\n",
       "\\begin{tabular}{r|llllll}\n",
       "  & Rank & Grade & Channel.name & Video.Uploads & Subscribers & Video.views\\\\\n",
       "  & <chr> & <chr> & <chr> & <chr> & <chr> & <dbl>\\\\\n",
       "\\hline\n",
       "\t1 & 1st & A++  & Zee TV                     & 82757 & 18752951 & 20869786591\\\\\n",
       "\t2 & 2nd & A++  & T-Series                   & 12661 & 61196302 & 47548839843\\\\\n",
       "\t3 & 3rd & A++  & Cocomelon - Nursery Rhymes & 373   & 19238251 &  9793305082\\\\\n",
       "\t4 & 4th & A++  & SET India                  & 27323 & 31180559 & 22675948293\\\\\n",
       "\t5 & 5th & A++  & WWE                        & 36756 & 32852346 & 26273668433\\\\\n",
       "\t6 & 6th & A++  & Movieclips                 & 30243 & 17149705 & 16618094724\\\\\n",
       "\\end{tabular}\n"
      ],
      "text/markdown": [
       "\n",
       "A data.frame: 6 × 6\n",
       "\n",
       "| <!--/--> | Rank &lt;chr&gt; | Grade &lt;chr&gt; | Channel.name &lt;chr&gt; | Video.Uploads &lt;chr&gt; | Subscribers &lt;chr&gt; | Video.views &lt;dbl&gt; |\n",
       "|---|---|---|---|---|---|---|\n",
       "| 1 | 1st | A++  | Zee TV                     | 82757 | 18752951 | 20869786591 |\n",
       "| 2 | 2nd | A++  | T-Series                   | 12661 | 61196302 | 47548839843 |\n",
       "| 3 | 3rd | A++  | Cocomelon - Nursery Rhymes | 373   | 19238251 |  9793305082 |\n",
       "| 4 | 4th | A++  | SET India                  | 27323 | 31180559 | 22675948293 |\n",
       "| 5 | 5th | A++  | WWE                        | 36756 | 32852346 | 26273668433 |\n",
       "| 6 | 6th | A++  | Movieclips                 | 30243 | 17149705 | 16618094724 |\n",
       "\n"
      ],
      "text/plain": [
       "  Rank Grade Channel.name               Video.Uploads Subscribers Video.views\n",
       "1 1st  A++   Zee TV                     82757         18752951    20869786591\n",
       "2 2nd  A++   T-Series                   12661         61196302    47548839843\n",
       "3 3rd  A++   Cocomelon - Nursery Rhymes 373           19238251     9793305082\n",
       "4 4th  A++   SET India                  27323         31180559    22675948293\n",
       "5 5th  A++   WWE                        36756         32852346    26273668433\n",
       "6 6th  A++   Movieclips                 30243         17149705    16618094724"
      ]
     },
     "metadata": {},
     "output_type": "display_data"
    }
   ],
   "source": [
    "head(channels)"
   ]
  },
  {
   "cell_type": "code",
   "execution_count": null,
   "id": "a48185c5-dc81-45da-bea1-d0fc5f0faa19",
   "metadata": {},
   "outputs": [],
   "source": [
    "## see how many levels to grade there are"
   ]
  },
  {
   "cell_type": "code",
   "execution_count": null,
   "id": "a05b2308-8d93-4d7c-b196-6c52405044da",
   "metadata": {},
   "outputs": [],
   "source": [
    "table(channels$Grade)"
   ]
  },
  {
   "cell_type": "code",
   "execution_count": null,
   "id": "31512f9f-d96f-4b3d-8426-30eef3aa4e84",
   "metadata": {},
   "outputs": [],
   "source": [
    "str(channels)"
   ]
  },
  {
   "cell_type": "markdown",
   "id": "22f1f3fe-fb4a-40fe-9f1d-84206a3b9bb5",
   "metadata": {},
   "source": [
    "#### Test Assumptions"
   ]
  },
  {
   "cell_type": "markdown",
   "id": "48a5ba4d-6109-4a16-a2cc-0ef47d3c7ea4",
   "metadata": {},
   "source": [
    "##### Normality of the dependent variable, since the IV is categorical"
   ]
  },
  {
   "cell_type": "code",
   "execution_count": null,
   "id": "ab50d324-9d85-4f2c-a185-c3a25e508083",
   "metadata": {},
   "outputs": [],
   "source": [
    "plotNormalHistogram(channels$Video.views)\n",
    "## positively skewed"
   ]
  },
  {
   "cell_type": "code",
   "execution_count": null,
   "id": "c2b2a3a8-d37f-4ef9-bec2-d67891de0dcf",
   "metadata": {},
   "outputs": [],
   "source": [
    "channels$Video.viewsSQRT = sqrt(channels$Video.views)"
   ]
  },
  {
   "cell_type": "code",
   "execution_count": null,
   "id": "6fe3c8a9-c655-48da-82e0-32a5181d2364",
   "metadata": {},
   "outputs": [],
   "source": [
    "plotNormalHistogram(channels$Video.viewsSQRT)\n",
    "## a little better - let's try taking the log"
   ]
  },
  {
   "cell_type": "code",
   "execution_count": null,
   "id": "cc3b8360-7825-49db-8fdf-ee18bc0a18c9",
   "metadata": {},
   "outputs": [],
   "source": [
    "channels$Video.viewsLOG = log(channels$Video.views)"
   ]
  },
  {
   "cell_type": "code",
   "execution_count": null,
   "id": "3840ccd1-d75c-4ad7-ac56-59d2c7c70e81",
   "metadata": {},
   "outputs": [],
   "source": [
    "plotNormalHistogram(channels$Video.viewsLOG)\n",
    "## looks approx. normally distributed"
   ]
  },
  {
   "cell_type": "markdown",
   "id": "c01daa3e-cf43-42bf-9526-4d25bb757176",
   "metadata": {},
   "source": [
    "##### Homogeneity of Variance"
   ]
  },
  {
   "cell_type": "code",
   "execution_count": null,
   "id": "c92b5413-058a-40eb-a782-4d4a67bb8ecc",
   "metadata": {},
   "outputs": [],
   "source": [
    "## use Bartlett's test bc we got our data to be approx. normal"
   ]
  },
  {
   "cell_type": "code",
   "execution_count": null,
   "id": "08ff0892-eea9-4aad-b728-f766232469a5",
   "metadata": {},
   "outputs": [],
   "source": [
    "bartlett.test(Video.viewsLOG ~ Grade, data=channels)"
   ]
  },
  {
   "cell_type": "code",
   "execution_count": null,
   "id": "b809da98-8c5b-49e1-8558-47d992deace8",
   "metadata": {},
   "outputs": [],
   "source": [
    "## our p-value is less than .05 which means we have violated the assumption of homogeneity of variance"
   ]
  },
  {
   "cell_type": "code",
   "execution_count": null,
   "id": "423a2b2b-3dbb-45ba-b5be-d10f8eb4d388",
   "metadata": {},
   "outputs": [],
   "source": [
    "## let's try to Fligner's test with our original Video.views variable"
   ]
  },
  {
   "cell_type": "code",
   "execution_count": null,
   "id": "941b07c3-d9a2-4f4c-b45e-4b5d82c8fb98",
   "metadata": {},
   "outputs": [],
   "source": [
    "fligner.test(Video.views ~ Grade, data=channels)"
   ]
  },
  {
   "cell_type": "code",
   "execution_count": null,
   "id": "bb5ee505-2aa9-4d3f-844e-49dc073c0c1a",
   "metadata": {},
   "outputs": [],
   "source": [
    "## our p-value is still significant, meaning we have definitely violated the assumption of homogeneity of variance"
   ]
  },
  {
   "cell_type": "markdown",
   "id": "e54f35e3-a6e4-4043-99b0-4d11a8bb7b5f",
   "metadata": {},
   "source": [
    "##### Running ANOVA (having violated assumption of homogeneity of variance)"
   ]
  },
  {
   "cell_type": "code",
   "execution_count": null,
   "id": "9f4778ab-7b68-4eba-b1ec-b0a1ebe0beb2",
   "metadata": {},
   "outputs": [],
   "source": [
    "## now we do the ANOVA test with unequal variance"
   ]
  },
  {
   "cell_type": "code",
   "execution_count": null,
   "id": "5f6071a2-36bd-40b0-bb16-322e420528ce",
   "metadata": {},
   "outputs": [],
   "source": [
    "ANOVA <- lm(Video.viewsLOG ~ Grade, data=channels)\n",
    "Anova(ANOVA, Type=\"II\", white.adjust=TRUE)"
   ]
  },
  {
   "cell_type": "code",
   "execution_count": null,
   "id": "c38861b7-7349-4276-9602-cd1f00412d5c",
   "metadata": {},
   "outputs": [],
   "source": [
    "## the p-value is significant\n",
    "## we can conclude there is a significant difference in video views somewhere between the levels of our IV (Grade)"
   ]
  },
  {
   "cell_type": "markdown",
   "id": "ab13482a-32f4-4815-9ca7-da0ab3ccde5f",
   "metadata": {},
   "source": [
    "##### Post hocs when data has heterogeneity of variance"
   ]
  },
  {
   "cell_type": "code",
   "execution_count": null,
   "id": "bfd669da-8a51-4acc-9727-fa00600f28be",
   "metadata": {},
   "outputs": [],
   "source": [
    "pairwise.t.test(channels$Video.viewsLOG, channels$Grade, p.adjust=\"bonferroni\", pool.sd = FALSE)"
   ]
  },
  {
   "cell_type": "code",
   "execution_count": null,
   "id": "35d47f17-1cb9-4b35-99f6-f8a6960da7a8",
   "metadata": {},
   "outputs": [],
   "source": [
    "## as expected videos graded A++ have a significant difference in their view totals when compared to videos graded B+"
   ]
  },
  {
   "cell_type": "markdown",
   "id": "393ece3f-c7f4-48a2-8788-fac0dbbe2b1f",
   "metadata": {},
   "source": [
    "##### Find means"
   ]
  },
  {
   "cell_type": "code",
   "execution_count": null,
   "id": "98ee36f1-42f7-40d8-9529-8bff6dd4404f",
   "metadata": {},
   "outputs": [],
   "source": [
    "channelsMeans = channels %>% group_by(Grade) %>% summarize(Mean = mean(Video.views))"
   ]
  },
  {
   "cell_type": "code",
   "execution_count": null,
   "id": "1a37752b-45c9-4da3-9d90-112fe403aa41",
   "metadata": {},
   "outputs": [],
   "source": [
    "channelsMeans"
   ]
  },
  {
   "cell_type": "code",
   "execution_count": null,
   "id": "33960fb1-0778-4476-9d48-9d4d6f4a165b",
   "metadata": {},
   "outputs": [],
   "source": [
    "## means are consistent with their grade"
   ]
  },
  {
   "cell_type": "code",
   "execution_count": null,
   "id": "3d8ca460-aec9-41a2-a372-d177c41746a9",
   "metadata": {},
   "outputs": [],
   "source": [
    "#### Page 7 (activity solution)"
   ]
  },
  {
   "cell_type": "code",
   "execution_count": null,
   "id": "5bb2eae9-114f-4277-a5a6-e7c75386c5f4",
   "metadata": {},
   "outputs": [],
   "source": [
    "####"
   ]
  }
 ],
 "metadata": {
  "kernelspec": {
   "display_name": "R",
   "language": "R",
   "name": "ir"
  },
  "language_info": {
   "codemirror_mode": "r",
   "file_extension": ".r",
   "mimetype": "text/x-r-source",
   "name": "R",
   "pygments_lexer": "r",
   "version": "4.1.1"
  }
 },
 "nbformat": 4,
 "nbformat_minor": 5
}
