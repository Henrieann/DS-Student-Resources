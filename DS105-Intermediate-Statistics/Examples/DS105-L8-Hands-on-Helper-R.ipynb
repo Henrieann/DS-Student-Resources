{
 "cells": [
  {
   "cell_type": "markdown",
   "id": "15384922-a578-42c9-9288-d7a70437f3c4",
   "metadata": {},
   "source": [
    "# DS105 L8 P6 Hands on Helper\n",
    "\n",
    "This example is similar to the hands-on assignment but works with a different dataset.\n",
    "\n",
    "For the hands-on assignment, be sure you're working with the heart attack dataset."
   ]
  },
  {
   "cell_type": "code",
   "execution_count": 2,
   "id": "7787d2fb-dfd5-46e5-bf54-c16302d40a57",
   "metadata": {},
   "outputs": [
    {
     "name": "stdout",
     "output_type": "stream",
     "text": [
      "\n",
      "The downloaded binary packages are in\n",
      "\t/var/folders/wk/6why77bn1kn0l0pkd4vd3zl00000gn/T//RtmppNyKhx/downloaded_packages\n"
     ]
    },
    {
     "data": {
      "text/html": [
       "<!doctype html>\n",
       "<html>\n",
       "\t<head>\n",
       "\t\t<meta charset=\"utf-8\">\n",
       "\t\t<link href=\"data:text/css;charset-utf-8;base64,LnZlbWJlZHIgewogIG1hcmdpbi1ib3R0b206IDEwcHg7Cn0KCi52ZW1iZWRyLXJvdW5kZWQgewogIGRpc3BsYXk6IGlubGluZS1ibG9jazsKICBib3JkZXItcmFkaXVzOiAxNXB4OwogIG92ZXJmbG93OiBoaWRkZW47Cn0KCi52ZW1iZWRyLXJvdW5kZWQgaWZyYW1lIHsKICBkaXNwbGF5OiBibG9jazsKICBib3JkZXI6IG5vbmU7Cn0K\" rel=\"stylesheet\" />\n",
       "\t</head>\n",
       "\t<body>\n",
       "\t\t<div class=\"vembedr\">\n",
       "  <div>\n",
       "    <iframe class=\"vimeo-embed\" src=\"https://player.vimeo.com/video/645345499\" width=\"533\" height=\"300\" frameborder=\"0\" webkitallowfullscreen=\"\" mozallowfullscreen=\"\" allowfullscreen=\"\"></iframe>\n",
       "  </div>\n",
       "</div>\n",
       "\t</body>\n",
       "</html>\n"
      ],
      "text/plain": [
       "Shiny tags cannot be represented in plain text (need html)"
      ]
     },
     "metadata": {
      "text/html": {
       "isolated": true
      }
     },
     "output_type": "display_data"
    }
   ],
   "source": [
    "install.packages(\"vembedr\")\n",
    "library(\"vembedr\")\n",
    "embed_vimeo(\"645345499\")"
   ]
  },
  {
   "cell_type": "markdown",
   "id": "4d9f8837-09e4-443b-b1f8-71def22cc0a1",
   "metadata": {},
   "source": [
    "https://vimeo.com/645345499"
   ]
  },
  {
   "cell_type": "code",
   "execution_count": 1,
   "id": "3ccf7b0d-2b8d-47ff-80b4-ed3265788e01",
   "metadata": {},
   "outputs": [
    {
     "name": "stdout",
     "output_type": "stream",
     "text": [
      "\n",
      "The downloaded binary packages are in\n",
      "\t/var/folders/9q/yp0trhm570d82rk1lfh67tq00000gn/T//Rtmp29RVAF/downloaded_packages\n",
      "\n",
      "The downloaded binary packages are in\n",
      "\t/var/folders/9q/yp0trhm570d82rk1lfh67tq00000gn/T//Rtmp29RVAF/downloaded_packages\n",
      "\n",
      "The downloaded binary packages are in\n",
      "\t/var/folders/9q/yp0trhm570d82rk1lfh67tq00000gn/T//Rtmp29RVAF/downloaded_packages\n",
      "\n",
      "The downloaded binary packages are in\n",
      "\t/var/folders/9q/yp0trhm570d82rk1lfh67tq00000gn/T//Rtmp29RVAF/downloaded_packages\n"
     ]
    }
   ],
   "source": [
    "install.packages(\"mvnormtest\")\n",
    "install.packages(\"car\")\n",
    "install.packages(\"plyr\")\n",
    "install.packages(\"ggplot2\")"
   ]
  },
  {
   "cell_type": "code",
   "execution_count": 2,
   "id": "b83588b4-ea45-489a-8be5-704dc4ac6cbd",
   "metadata": {},
   "outputs": [
    {
     "name": "stderr",
     "output_type": "stream",
     "text": [
      "Loading required package: carData\n",
      "\n"
     ]
    }
   ],
   "source": [
    "library(\"mvnormtest\")\n",
    "library(\"car\")\n",
    "library(\"plyr\")\n",
    "library(\"ggplot2\")"
   ]
  },
  {
   "cell_type": "code",
   "execution_count": 3,
   "id": "e7e59677-40eb-40c3-9e26-ad68d5475530",
   "metadata": {},
   "outputs": [],
   "source": [
    "data <- read.csv(\"../Data/hockey1.csv\")"
   ]
  },
  {
   "cell_type": "code",
   "execution_count": 4,
   "id": "23157268-c510-438e-ac5a-c356bd863fea",
   "metadata": {},
   "outputs": [
    {
     "data": {
      "text/html": [
       "<table class=\"dataframe\">\n",
       "<caption>A data.frame: 6 × 11</caption>\n",
       "<thead>\n",
       "\t<tr><th></th><th scope=col>ID</th><th scope=col>game_id</th><th scope=col>team_id</th><th scope=col>HoA</th><th scope=col>won</th><th scope=col>settled_in</th><th scope=col>head_coach</th><th scope=col>goals</th><th scope=col>shots</th><th scope=col>hits</th><th scope=col>pim</th></tr>\n",
       "\t<tr><th></th><th scope=col>&lt;dbl&gt;</th><th scope=col>&lt;int&gt;</th><th scope=col>&lt;int&gt;</th><th scope=col>&lt;chr&gt;</th><th scope=col>&lt;lgl&gt;</th><th scope=col>&lt;chr&gt;</th><th scope=col>&lt;chr&gt;</th><th scope=col>&lt;int&gt;</th><th scope=col>&lt;int&gt;</th><th scope=col>&lt;int&gt;</th><th scope=col>&lt;int&gt;</th></tr>\n",
       "</thead>\n",
       "<tbody>\n",
       "\t<tr><th scope=row>1</th><td>20120302213</td><td>2012030221</td><td>3</td><td>away</td><td>FALSE</td><td>OT </td><td>John Tortorella</td><td>2</td><td>35</td><td>44</td><td> 8</td></tr>\n",
       "\t<tr><th scope=row>2</th><td>20120302216</td><td>2012030221</td><td>6</td><td>home</td><td> TRUE</td><td>OT </td><td>Claude Julien  </td><td>3</td><td>48</td><td>51</td><td> 6</td></tr>\n",
       "\t<tr><th scope=row>3</th><td>20120302223</td><td>2012030222</td><td>3</td><td>away</td><td>FALSE</td><td>REG</td><td>John Tortorella</td><td>2</td><td>37</td><td>33</td><td>11</td></tr>\n",
       "\t<tr><th scope=row>4</th><td>20120302226</td><td>2012030222</td><td>6</td><td>home</td><td> TRUE</td><td>REG</td><td>Claude Julien  </td><td>5</td><td>32</td><td>36</td><td>19</td></tr>\n",
       "\t<tr><th scope=row>5</th><td>20120302236</td><td>2012030223</td><td>6</td><td>away</td><td> TRUE</td><td>REG</td><td>Claude Julien  </td><td>2</td><td>34</td><td>28</td><td> 6</td></tr>\n",
       "\t<tr><th scope=row>6</th><td>20120302233</td><td>2012030223</td><td>3</td><td>home</td><td>FALSE</td><td>REG</td><td>John Tortorella</td><td>1</td><td>24</td><td>37</td><td> 2</td></tr>\n",
       "</tbody>\n",
       "</table>\n"
      ],
      "text/latex": [
       "A data.frame: 6 × 11\n",
       "\\begin{tabular}{r|lllllllllll}\n",
       "  & ID & game\\_id & team\\_id & HoA & won & settled\\_in & head\\_coach & goals & shots & hits & pim\\\\\n",
       "  & <dbl> & <int> & <int> & <chr> & <lgl> & <chr> & <chr> & <int> & <int> & <int> & <int>\\\\\n",
       "\\hline\n",
       "\t1 & 20120302213 & 2012030221 & 3 & away & FALSE & OT  & John Tortorella & 2 & 35 & 44 &  8\\\\\n",
       "\t2 & 20120302216 & 2012030221 & 6 & home &  TRUE & OT  & Claude Julien   & 3 & 48 & 51 &  6\\\\\n",
       "\t3 & 20120302223 & 2012030222 & 3 & away & FALSE & REG & John Tortorella & 2 & 37 & 33 & 11\\\\\n",
       "\t4 & 20120302226 & 2012030222 & 6 & home &  TRUE & REG & Claude Julien   & 5 & 32 & 36 & 19\\\\\n",
       "\t5 & 20120302236 & 2012030223 & 6 & away &  TRUE & REG & Claude Julien   & 2 & 34 & 28 &  6\\\\\n",
       "\t6 & 20120302233 & 2012030223 & 3 & home & FALSE & REG & John Tortorella & 1 & 24 & 37 &  2\\\\\n",
       "\\end{tabular}\n"
      ],
      "text/markdown": [
       "\n",
       "A data.frame: 6 × 11\n",
       "\n",
       "| <!--/--> | ID &lt;dbl&gt; | game_id &lt;int&gt; | team_id &lt;int&gt; | HoA &lt;chr&gt; | won &lt;lgl&gt; | settled_in &lt;chr&gt; | head_coach &lt;chr&gt; | goals &lt;int&gt; | shots &lt;int&gt; | hits &lt;int&gt; | pim &lt;int&gt; |\n",
       "|---|---|---|---|---|---|---|---|---|---|---|---|\n",
       "| 1 | 20120302213 | 2012030221 | 3 | away | FALSE | OT  | John Tortorella | 2 | 35 | 44 |  8 |\n",
       "| 2 | 20120302216 | 2012030221 | 6 | home |  TRUE | OT  | Claude Julien   | 3 | 48 | 51 |  6 |\n",
       "| 3 | 20120302223 | 2012030222 | 3 | away | FALSE | REG | John Tortorella | 2 | 37 | 33 | 11 |\n",
       "| 4 | 20120302226 | 2012030222 | 6 | home |  TRUE | REG | Claude Julien   | 5 | 32 | 36 | 19 |\n",
       "| 5 | 20120302236 | 2012030223 | 6 | away |  TRUE | REG | Claude Julien   | 2 | 34 | 28 |  6 |\n",
       "| 6 | 20120302233 | 2012030223 | 3 | home | FALSE | REG | John Tortorella | 1 | 24 | 37 |  2 |\n",
       "\n"
      ],
      "text/plain": [
       "  ID          game_id    team_id HoA  won   settled_in head_coach      goals\n",
       "1 20120302213 2012030221 3       away FALSE OT         John Tortorella 2    \n",
       "2 20120302216 2012030221 6       home  TRUE OT         Claude Julien   3    \n",
       "3 20120302223 2012030222 3       away FALSE REG        John Tortorella 2    \n",
       "4 20120302226 2012030222 6       home  TRUE REG        Claude Julien   5    \n",
       "5 20120302236 2012030223 6       away  TRUE REG        Claude Julien   2    \n",
       "6 20120302233 2012030223 3       home FALSE REG        John Tortorella 1    \n",
       "  shots hits pim\n",
       "1 35    44    8 \n",
       "2 48    51    6 \n",
       "3 37    33   11 \n",
       "4 32    36   19 \n",
       "5 34    28    6 \n",
       "6 24    37    2 "
      ]
     },
     "metadata": {},
     "output_type": "display_data"
    }
   ],
   "source": [
    "head(data)"
   ]
  },
  {
   "cell_type": "markdown",
   "id": "59a3fe11-8665-4e2b-93a4-41ad13c786e9",
   "metadata": {},
   "source": [
    "### independent variable is home or away\n",
    "### dependent variables are goals and hits"
   ]
  },
  {
   "cell_type": "code",
   "execution_count": 5,
   "id": "063c8386-6793-4317-a815-68dd3bebfc75",
   "metadata": {},
   "outputs": [],
   "source": [
    "data$goals <- as.numeric(data$goals)\n",
    "data$hits <- as.numeric(data$hits)"
   ]
  },
  {
   "cell_type": "code",
   "execution_count": 6,
   "id": "9de23bc7-ec33-4045-91eb-49fd4308ab88",
   "metadata": {},
   "outputs": [],
   "source": [
    "data$HoAFactor <- as.factor(data$HoA)"
   ]
  },
  {
   "cell_type": "code",
   "execution_count": 7,
   "id": "fe496e4c-d3bd-4300-bfab-43a29348c849",
   "metadata": {},
   "outputs": [
    {
     "data": {
      "text/html": [
       "<table class=\"dataframe\">\n",
       "<caption>A data.frame: 6 × 12</caption>\n",
       "<thead>\n",
       "\t<tr><th></th><th scope=col>ID</th><th scope=col>game_id</th><th scope=col>team_id</th><th scope=col>HoA</th><th scope=col>won</th><th scope=col>settled_in</th><th scope=col>head_coach</th><th scope=col>goals</th><th scope=col>shots</th><th scope=col>hits</th><th scope=col>pim</th><th scope=col>HoAFactor</th></tr>\n",
       "\t<tr><th></th><th scope=col>&lt;dbl&gt;</th><th scope=col>&lt;int&gt;</th><th scope=col>&lt;int&gt;</th><th scope=col>&lt;chr&gt;</th><th scope=col>&lt;lgl&gt;</th><th scope=col>&lt;chr&gt;</th><th scope=col>&lt;chr&gt;</th><th scope=col>&lt;dbl&gt;</th><th scope=col>&lt;int&gt;</th><th scope=col>&lt;dbl&gt;</th><th scope=col>&lt;int&gt;</th><th scope=col>&lt;fct&gt;</th></tr>\n",
       "</thead>\n",
       "<tbody>\n",
       "\t<tr><th scope=row>1</th><td>20120302213</td><td>2012030221</td><td>3</td><td>away</td><td>FALSE</td><td>OT </td><td>John Tortorella</td><td>2</td><td>35</td><td>44</td><td> 8</td><td>away</td></tr>\n",
       "\t<tr><th scope=row>2</th><td>20120302216</td><td>2012030221</td><td>6</td><td>home</td><td> TRUE</td><td>OT </td><td>Claude Julien  </td><td>3</td><td>48</td><td>51</td><td> 6</td><td>home</td></tr>\n",
       "\t<tr><th scope=row>3</th><td>20120302223</td><td>2012030222</td><td>3</td><td>away</td><td>FALSE</td><td>REG</td><td>John Tortorella</td><td>2</td><td>37</td><td>33</td><td>11</td><td>away</td></tr>\n",
       "\t<tr><th scope=row>4</th><td>20120302226</td><td>2012030222</td><td>6</td><td>home</td><td> TRUE</td><td>REG</td><td>Claude Julien  </td><td>5</td><td>32</td><td>36</td><td>19</td><td>home</td></tr>\n",
       "\t<tr><th scope=row>5</th><td>20120302236</td><td>2012030223</td><td>6</td><td>away</td><td> TRUE</td><td>REG</td><td>Claude Julien  </td><td>2</td><td>34</td><td>28</td><td> 6</td><td>away</td></tr>\n",
       "\t<tr><th scope=row>6</th><td>20120302233</td><td>2012030223</td><td>3</td><td>home</td><td>FALSE</td><td>REG</td><td>John Tortorella</td><td>1</td><td>24</td><td>37</td><td> 2</td><td>home</td></tr>\n",
       "</tbody>\n",
       "</table>\n"
      ],
      "text/latex": [
       "A data.frame: 6 × 12\n",
       "\\begin{tabular}{r|llllllllllll}\n",
       "  & ID & game\\_id & team\\_id & HoA & won & settled\\_in & head\\_coach & goals & shots & hits & pim & HoAFactor\\\\\n",
       "  & <dbl> & <int> & <int> & <chr> & <lgl> & <chr> & <chr> & <dbl> & <int> & <dbl> & <int> & <fct>\\\\\n",
       "\\hline\n",
       "\t1 & 20120302213 & 2012030221 & 3 & away & FALSE & OT  & John Tortorella & 2 & 35 & 44 &  8 & away\\\\\n",
       "\t2 & 20120302216 & 2012030221 & 6 & home &  TRUE & OT  & Claude Julien   & 3 & 48 & 51 &  6 & home\\\\\n",
       "\t3 & 20120302223 & 2012030222 & 3 & away & FALSE & REG & John Tortorella & 2 & 37 & 33 & 11 & away\\\\\n",
       "\t4 & 20120302226 & 2012030222 & 6 & home &  TRUE & REG & Claude Julien   & 5 & 32 & 36 & 19 & home\\\\\n",
       "\t5 & 20120302236 & 2012030223 & 6 & away &  TRUE & REG & Claude Julien   & 2 & 34 & 28 &  6 & away\\\\\n",
       "\t6 & 20120302233 & 2012030223 & 3 & home & FALSE & REG & John Tortorella & 1 & 24 & 37 &  2 & home\\\\\n",
       "\\end{tabular}\n"
      ],
      "text/markdown": [
       "\n",
       "A data.frame: 6 × 12\n",
       "\n",
       "| <!--/--> | ID &lt;dbl&gt; | game_id &lt;int&gt; | team_id &lt;int&gt; | HoA &lt;chr&gt; | won &lt;lgl&gt; | settled_in &lt;chr&gt; | head_coach &lt;chr&gt; | goals &lt;dbl&gt; | shots &lt;int&gt; | hits &lt;dbl&gt; | pim &lt;int&gt; | HoAFactor &lt;fct&gt; |\n",
       "|---|---|---|---|---|---|---|---|---|---|---|---|---|\n",
       "| 1 | 20120302213 | 2012030221 | 3 | away | FALSE | OT  | John Tortorella | 2 | 35 | 44 |  8 | away |\n",
       "| 2 | 20120302216 | 2012030221 | 6 | home |  TRUE | OT  | Claude Julien   | 3 | 48 | 51 |  6 | home |\n",
       "| 3 | 20120302223 | 2012030222 | 3 | away | FALSE | REG | John Tortorella | 2 | 37 | 33 | 11 | away |\n",
       "| 4 | 20120302226 | 2012030222 | 6 | home |  TRUE | REG | Claude Julien   | 5 | 32 | 36 | 19 | home |\n",
       "| 5 | 20120302236 | 2012030223 | 6 | away |  TRUE | REG | Claude Julien   | 2 | 34 | 28 |  6 | away |\n",
       "| 6 | 20120302233 | 2012030223 | 3 | home | FALSE | REG | John Tortorella | 1 | 24 | 37 |  2 | home |\n",
       "\n"
      ],
      "text/plain": [
       "  ID          game_id    team_id HoA  won   settled_in head_coach      goals\n",
       "1 20120302213 2012030221 3       away FALSE OT         John Tortorella 2    \n",
       "2 20120302216 2012030221 6       home  TRUE OT         Claude Julien   3    \n",
       "3 20120302223 2012030222 3       away FALSE REG        John Tortorella 2    \n",
       "4 20120302226 2012030222 6       home  TRUE REG        Claude Julien   5    \n",
       "5 20120302236 2012030223 6       away  TRUE REG        Claude Julien   2    \n",
       "6 20120302233 2012030223 3       home FALSE REG        John Tortorella 1    \n",
       "  shots hits pim HoAFactor\n",
       "1 35    44    8  away     \n",
       "2 48    51    6  home     \n",
       "3 37    33   11  away     \n",
       "4 32    36   19  home     \n",
       "5 34    28    6  away     \n",
       "6 24    37    2  home     "
      ]
     },
     "metadata": {},
     "output_type": "display_data"
    }
   ],
   "source": [
    "head(data)"
   ]
  },
  {
   "cell_type": "code",
   "execution_count": 8,
   "id": "4ee070ff-d0f6-4862-894f-4abb9d0d20ca",
   "metadata": {},
   "outputs": [],
   "source": [
    "#feature selection\n",
    "keeps <- c(\"HoAFactor\", \"goals\", \"hits\")\n",
    "data <- data[keeps]"
   ]
  },
  {
   "cell_type": "code",
   "execution_count": 9,
   "id": "199fcf63-230d-4b85-ab5c-533efc19bbed",
   "metadata": {},
   "outputs": [
    {
     "data": {
      "text/html": [
       "<table class=\"dataframe\">\n",
       "<caption>A data.frame: 2 × 2</caption>\n",
       "<thead>\n",
       "\t<tr><th scope=col>HoAFactor</th><th scope=col>freq</th></tr>\n",
       "\t<tr><th scope=col>&lt;fct&gt;</th><th scope=col>&lt;int&gt;</th></tr>\n",
       "</thead>\n",
       "<tbody>\n",
       "\t<tr><td>away</td><td>7441</td></tr>\n",
       "\t<tr><td>home</td><td>7441</td></tr>\n",
       "</tbody>\n",
       "</table>\n"
      ],
      "text/latex": [
       "A data.frame: 2 × 2\n",
       "\\begin{tabular}{ll}\n",
       " HoAFactor & freq\\\\\n",
       " <fct> & <int>\\\\\n",
       "\\hline\n",
       "\t away & 7441\\\\\n",
       "\t home & 7441\\\\\n",
       "\\end{tabular}\n"
      ],
      "text/markdown": [
       "\n",
       "A data.frame: 2 × 2\n",
       "\n",
       "| HoAFactor &lt;fct&gt; | freq &lt;int&gt; |\n",
       "|---|---|\n",
       "| away | 7441 |\n",
       "| home | 7441 |\n",
       "\n"
      ],
      "text/plain": [
       "  HoAFactor freq\n",
       "1 away      7441\n",
       "2 home      7441"
      ]
     },
     "metadata": {},
     "output_type": "display_data"
    }
   ],
   "source": [
    "#assumption sample size\n",
    "count(data, \"HoAFactor\") #assumption NOT violated"
   ]
  },
  {
   "cell_type": "code",
   "execution_count": 10,
   "id": "34f2f07c-a291-4c98-a78e-482a1107f127",
   "metadata": {},
   "outputs": [],
   "source": [
    "#feature selection for shapiro test\n",
    "keeps1 <- c(\"goals\", \"hits\")\n",
    "data1 <- data[keeps1]"
   ]
  },
  {
   "cell_type": "code",
   "execution_count": 11,
   "id": "29717a7a-ad85-4dd4-a24a-1c5130b66e13",
   "metadata": {},
   "outputs": [
    {
     "data": {
      "text/plain": [
       "\n",
       "\tShapiro-Wilk normality test\n",
       "\n",
       "data:  Z\n",
       "W = 0.97663, p-value < 2.2e-16\n"
      ]
     },
     "metadata": {},
     "output_type": "display_data"
    }
   ],
   "source": [
    "#multivariate normality\n",
    "# NOTE: we must limit this to top 5000 rows \n",
    "mshapiro.test(t(data1[1:5000,]))  #violates this assumption, p < .05"
   ]
  },
  {
   "cell_type": "code",
   "execution_count": 12,
   "id": "6d3fe4bc-fe87-403f-a4a6-08ee0dcc9262",
   "metadata": {},
   "outputs": [
    {
     "data": {
      "text/html": [
       "<table class=\"dataframe\">\n",
       "<caption>A anova: 2 × 3</caption>\n",
       "<thead>\n",
       "\t<tr><th></th><th scope=col>Df</th><th scope=col>F value</th><th scope=col>Pr(&gt;F)</th></tr>\n",
       "\t<tr><th></th><th scope=col>&lt;int&gt;</th><th scope=col>&lt;dbl&gt;</th><th scope=col>&lt;dbl&gt;</th></tr>\n",
       "</thead>\n",
       "<tbody>\n",
       "\t<tr><th scope=row>group</th><td>    1</td><td>12.58116</td><td>0.0003908537</td></tr>\n",
       "\t<tr><th scope=row> </th><td>14880</td><td>      NA</td><td>          NA</td></tr>\n",
       "</tbody>\n",
       "</table>\n"
      ],
      "text/latex": [
       "A anova: 2 × 3\n",
       "\\begin{tabular}{r|lll}\n",
       "  & Df & F value & Pr(>F)\\\\\n",
       "  & <int> & <dbl> & <dbl>\\\\\n",
       "\\hline\n",
       "\tgroup &     1 & 12.58116 & 0.0003908537\\\\\n",
       "\t  & 14880 &       NA &           NA\\\\\n",
       "\\end{tabular}\n"
      ],
      "text/markdown": [
       "\n",
       "A anova: 2 × 3\n",
       "\n",
       "| <!--/--> | Df &lt;int&gt; | F value &lt;dbl&gt; | Pr(&gt;F) &lt;dbl&gt; |\n",
       "|---|---|---|---|\n",
       "| group |     1 | 12.58116 | 0.0003908537 |\n",
       "| <!----> | 14880 |       NA |           NA |\n",
       "\n"
      ],
      "text/plain": [
       "      Df    F value  Pr(>F)      \n",
       "group     1 12.58116 0.0003908537\n",
       "      14880       NA           NA"
      ]
     },
     "metadata": {},
     "output_type": "display_data"
    },
    {
     "data": {
      "text/html": [
       "<table class=\"dataframe\">\n",
       "<caption>A anova: 2 × 3</caption>\n",
       "<thead>\n",
       "\t<tr><th></th><th scope=col>Df</th><th scope=col>F value</th><th scope=col>Pr(&gt;F)</th></tr>\n",
       "\t<tr><th></th><th scope=col>&lt;int&gt;</th><th scope=col>&lt;dbl&gt;</th><th scope=col>&lt;dbl&gt;</th></tr>\n",
       "</thead>\n",
       "<tbody>\n",
       "\t<tr><th scope=row>group</th><td>    1</td><td>12.67251</td><td>0.0003722286</td></tr>\n",
       "\t<tr><th scope=row> </th><td>14880</td><td>      NA</td><td>          NA</td></tr>\n",
       "</tbody>\n",
       "</table>\n"
      ],
      "text/latex": [
       "A anova: 2 × 3\n",
       "\\begin{tabular}{r|lll}\n",
       "  & Df & F value & Pr(>F)\\\\\n",
       "  & <int> & <dbl> & <dbl>\\\\\n",
       "\\hline\n",
       "\tgroup &     1 & 12.67251 & 0.0003722286\\\\\n",
       "\t  & 14880 &       NA &           NA\\\\\n",
       "\\end{tabular}\n"
      ],
      "text/markdown": [
       "\n",
       "A anova: 2 × 3\n",
       "\n",
       "| <!--/--> | Df &lt;int&gt; | F value &lt;dbl&gt; | Pr(&gt;F) &lt;dbl&gt; |\n",
       "|---|---|---|---|\n",
       "| group |     1 | 12.67251 | 0.0003722286 |\n",
       "| <!----> | 14880 |       NA |           NA |\n",
       "\n"
      ],
      "text/plain": [
       "      Df    F value  Pr(>F)      \n",
       "group     1 12.67251 0.0003722286\n",
       "      14880       NA           NA"
      ]
     },
     "metadata": {},
     "output_type": "display_data"
    }
   ],
   "source": [
    "#Homogeneity of Variance\n",
    "leveneTest(goals ~ HoAFactor, data=data) # Violates\n",
    "leveneTest(hits ~ HoAFactor, data=data)  # Violates"
   ]
  },
  {
   "cell_type": "code",
   "execution_count": 13,
   "id": "7b84719c-dee5-457e-a212-26924b4abd97",
   "metadata": {},
   "outputs": [
    {
     "data": {
      "text/plain": [
       "\n",
       "\tPearson's product-moment correlation\n",
       "\n",
       "data:  data$goals and data$hits\n",
       "t = -10.449, df = 14880, p-value < 2.2e-16\n",
       "alternative hypothesis: true correlation is not equal to 0\n",
       "95 percent confidence interval:\n",
       " -0.10127394 -0.06937475\n",
       "sample estimates:\n",
       "        cor \n",
       "-0.08534622 \n"
      ]
     },
     "metadata": {},
     "output_type": "display_data"
    }
   ],
   "source": [
    "#Absence of Multicollinearity\n",
    "cor.test(data$goals, data$hits, method=\"pearson\", use=\"complete.obs\") #below .7, no strong multicollinearity"
   ]
  },
  {
   "cell_type": "code",
   "execution_count": 14,
   "id": "0d67ba31-84c4-4d5b-ac48-0fa8dec34f87",
   "metadata": {},
   "outputs": [],
   "source": [
    "#MANOVA\n",
    "MANOVA <- manova(cbind(goals, hits) ~ HoAFactor, data = data)"
   ]
  },
  {
   "cell_type": "code",
   "execution_count": 15,
   "id": "2bedbfd7-2a61-478a-86f2-b2e43c3236f7",
   "metadata": {},
   "outputs": [
    {
     "data": {
      "text/plain": [
       "             Df   Pillai approx F num Df den Df    Pr(>F)    \n",
       "HoAFactor     1 0.014553   109.87      2  14879 < 2.2e-16 ***\n",
       "Residuals 14880                                              \n",
       "---\n",
       "Signif. codes:  0 ‘***’ 0.001 ‘**’ 0.01 ‘*’ 0.05 ‘.’ 0.1 ‘ ’ 1"
      ]
     },
     "metadata": {},
     "output_type": "display_data"
    }
   ],
   "source": [
    "summary(MANOVA)"
   ]
  },
  {
   "cell_type": "code",
   "execution_count": 16,
   "id": "1ed4f0f7-6916-4cf8-a5a9-1b08481ec107",
   "metadata": {},
   "outputs": [
    {
     "data": {
      "text/plain": [
       " Response goals :\n",
       "               Df Sum Sq Mean Sq F value    Pr(>F)    \n",
       "HoAFactor       1    271 271.206  104.02 < 2.2e-16 ***\n",
       "Residuals   14880  38796   2.607                      \n",
       "---\n",
       "Signif. codes:  0 ‘***’ 0.001 ‘**’ 0.01 ‘*’ 0.05 ‘.’ 0.1 ‘ ’ 1\n",
       "\n",
       " Response hits :\n",
       "               Df  Sum Sq Mean Sq F value    Pr(>F)    \n",
       "HoAFactor       1    7393  7392.8  95.392 < 2.2e-16 ***\n",
       "Residuals   14880 1153181    77.5                      \n",
       "---\n",
       "Signif. codes:  0 ‘***’ 0.001 ‘**’ 0.01 ‘*’ 0.05 ‘.’ 0.1 ‘ ’ 1\n"
      ]
     },
     "metadata": {},
     "output_type": "display_data"
    }
   ],
   "source": [
    "summary.aov(MANOVA, test = \"wilks\") "
   ]
  },
  {
   "cell_type": "code",
   "execution_count": null,
   "id": "c180c4b4-d180-4bc8-91a6-3f6d1d3f61a2",
   "metadata": {},
   "outputs": [],
   "source": [
    "#There is a significant difference in goals and hits in relation to having home ice."
   ]
  },
  {
   "cell_type": "code",
   "execution_count": 17,
   "id": "44fb0473-9c2f-4436-a21b-320b49ffb81e",
   "metadata": {},
   "outputs": [
    {
     "data": {
      "text/html": [
       "<table class=\"dataframe\">\n",
       "<caption>A data.frame: 6 × 3</caption>\n",
       "<thead>\n",
       "\t<tr><th></th><th scope=col>HoAFactor</th><th scope=col>goals</th><th scope=col>hits</th></tr>\n",
       "\t<tr><th></th><th scope=col>&lt;fct&gt;</th><th scope=col>&lt;dbl&gt;</th><th scope=col>&lt;dbl&gt;</th></tr>\n",
       "</thead>\n",
       "<tbody>\n",
       "\t<tr><th scope=row>1</th><td>away</td><td>2</td><td>44</td></tr>\n",
       "\t<tr><th scope=row>2</th><td>home</td><td>3</td><td>51</td></tr>\n",
       "\t<tr><th scope=row>3</th><td>away</td><td>2</td><td>33</td></tr>\n",
       "\t<tr><th scope=row>4</th><td>home</td><td>5</td><td>36</td></tr>\n",
       "\t<tr><th scope=row>5</th><td>away</td><td>2</td><td>28</td></tr>\n",
       "\t<tr><th scope=row>6</th><td>home</td><td>1</td><td>37</td></tr>\n",
       "</tbody>\n",
       "</table>\n"
      ],
      "text/latex": [
       "A data.frame: 6 × 3\n",
       "\\begin{tabular}{r|lll}\n",
       "  & HoAFactor & goals & hits\\\\\n",
       "  & <fct> & <dbl> & <dbl>\\\\\n",
       "\\hline\n",
       "\t1 & away & 2 & 44\\\\\n",
       "\t2 & home & 3 & 51\\\\\n",
       "\t3 & away & 2 & 33\\\\\n",
       "\t4 & home & 5 & 36\\\\\n",
       "\t5 & away & 2 & 28\\\\\n",
       "\t6 & home & 1 & 37\\\\\n",
       "\\end{tabular}\n"
      ],
      "text/markdown": [
       "\n",
       "A data.frame: 6 × 3\n",
       "\n",
       "| <!--/--> | HoAFactor &lt;fct&gt; | goals &lt;dbl&gt; | hits &lt;dbl&gt; |\n",
       "|---|---|---|---|\n",
       "| 1 | away | 2 | 44 |\n",
       "| 2 | home | 3 | 51 |\n",
       "| 3 | away | 2 | 33 |\n",
       "| 4 | home | 5 | 36 |\n",
       "| 5 | away | 2 | 28 |\n",
       "| 6 | home | 1 | 37 |\n",
       "\n"
      ],
      "text/plain": [
       "  HoAFactor goals hits\n",
       "1 away      2     44  \n",
       "2 home      3     51  \n",
       "3 away      2     33  \n",
       "4 home      5     36  \n",
       "5 away      2     28  \n",
       "6 home      1     37  "
      ]
     },
     "metadata": {},
     "output_type": "display_data"
    }
   ],
   "source": [
    "head(data)"
   ]
  },
  {
   "cell_type": "code",
   "execution_count": 18,
   "id": "1207e821-811a-405b-83cf-73d96ec18007",
   "metadata": {},
   "outputs": [
    {
     "data": {
      "text/html": [
       "<table class=\"dataframe\">\n",
       "<caption>A data.frame: 2 × 2</caption>\n",
       "<thead>\n",
       "\t<tr><th scope=col>HoAFactor</th><th scope=col>goals</th></tr>\n",
       "\t<tr><th scope=col>&lt;fct&gt;</th><th scope=col>&lt;dbl&gt;</th></tr>\n",
       "</thead>\n",
       "<tbody>\n",
       "\t<tr><td>away</td><td>2.585405</td></tr>\n",
       "\t<tr><td>home</td><td>2.855396</td></tr>\n",
       "</tbody>\n",
       "</table>\n"
      ],
      "text/latex": [
       "A data.frame: 2 × 2\n",
       "\\begin{tabular}{ll}\n",
       " HoAFactor & goals\\\\\n",
       " <fct> & <dbl>\\\\\n",
       "\\hline\n",
       "\t away & 2.585405\\\\\n",
       "\t home & 2.855396\\\\\n",
       "\\end{tabular}\n"
      ],
      "text/markdown": [
       "\n",
       "A data.frame: 2 × 2\n",
       "\n",
       "| HoAFactor &lt;fct&gt; | goals &lt;dbl&gt; |\n",
       "|---|---|\n",
       "| away | 2.585405 |\n",
       "| home | 2.855396 |\n",
       "\n"
      ],
      "text/plain": [
       "  HoAFactor goals   \n",
       "1 away      2.585405\n",
       "2 home      2.855396"
      ]
     },
     "metadata": {},
     "output_type": "display_data"
    },
    {
     "data": {
      "text/html": [
       "<table class=\"dataframe\">\n",
       "<caption>A data.frame: 2 × 2</caption>\n",
       "<thead>\n",
       "\t<tr><th scope=col>HoAFactor</th><th scope=col>goals</th></tr>\n",
       "\t<tr><th scope=col>&lt;fct&gt;</th><th scope=col>&lt;dbl&gt;</th></tr>\n",
       "</thead>\n",
       "<tbody>\n",
       "\t<tr><td>away</td><td>19238</td></tr>\n",
       "\t<tr><td>home</td><td>21247</td></tr>\n",
       "</tbody>\n",
       "</table>\n"
      ],
      "text/latex": [
       "A data.frame: 2 × 2\n",
       "\\begin{tabular}{ll}\n",
       " HoAFactor & goals\\\\\n",
       " <fct> & <dbl>\\\\\n",
       "\\hline\n",
       "\t away & 19238\\\\\n",
       "\t home & 21247\\\\\n",
       "\\end{tabular}\n"
      ],
      "text/markdown": [
       "\n",
       "A data.frame: 2 × 2\n",
       "\n",
       "| HoAFactor &lt;fct&gt; | goals &lt;dbl&gt; |\n",
       "|---|---|\n",
       "| away | 19238 |\n",
       "| home | 21247 |\n",
       "\n"
      ],
      "text/plain": [
       "  HoAFactor goals\n",
       "1 away      19238\n",
       "2 home      21247"
      ]
     },
     "metadata": {},
     "output_type": "display_data"
    }
   ],
   "source": [
    "aggregate(goals ~ HoAFactor, data, mean)\n",
    "aggregate(goals ~ HoAFactor, data, sum)"
   ]
  },
  {
   "cell_type": "code",
   "execution_count": 19,
   "id": "ac2de444-f700-4b5c-85fc-c0ac13b10944",
   "metadata": {},
   "outputs": [
    {
     "data": {
      "text/html": [
       "<table class=\"dataframe\">\n",
       "<caption>A data.frame: 2 × 2</caption>\n",
       "<thead>\n",
       "\t<tr><th scope=col>HoAFactor</th><th scope=col>hits</th></tr>\n",
       "\t<tr><th scope=col>&lt;fct&gt;</th><th scope=col>&lt;dbl&gt;</th></tr>\n",
       "</thead>\n",
       "<tbody>\n",
       "\t<tr><td>away</td><td>23.11732</td></tr>\n",
       "\t<tr><td>home</td><td>24.52695</td></tr>\n",
       "</tbody>\n",
       "</table>\n"
      ],
      "text/latex": [
       "A data.frame: 2 × 2\n",
       "\\begin{tabular}{ll}\n",
       " HoAFactor & hits\\\\\n",
       " <fct> & <dbl>\\\\\n",
       "\\hline\n",
       "\t away & 23.11732\\\\\n",
       "\t home & 24.52695\\\\\n",
       "\\end{tabular}\n"
      ],
      "text/markdown": [
       "\n",
       "A data.frame: 2 × 2\n",
       "\n",
       "| HoAFactor &lt;fct&gt; | hits &lt;dbl&gt; |\n",
       "|---|---|\n",
       "| away | 23.11732 |\n",
       "| home | 24.52695 |\n",
       "\n"
      ],
      "text/plain": [
       "  HoAFactor hits    \n",
       "1 away      23.11732\n",
       "2 home      24.52695"
      ]
     },
     "metadata": {},
     "output_type": "display_data"
    },
    {
     "data": {
      "text/html": [
       "<table class=\"dataframe\">\n",
       "<caption>A data.frame: 2 × 2</caption>\n",
       "<thead>\n",
       "\t<tr><th scope=col>HoAFactor</th><th scope=col>hits</th></tr>\n",
       "\t<tr><th scope=col>&lt;fct&gt;</th><th scope=col>&lt;dbl&gt;</th></tr>\n",
       "</thead>\n",
       "<tbody>\n",
       "\t<tr><td>away</td><td>172016</td></tr>\n",
       "\t<tr><td>home</td><td>182505</td></tr>\n",
       "</tbody>\n",
       "</table>\n"
      ],
      "text/latex": [
       "A data.frame: 2 × 2\n",
       "\\begin{tabular}{ll}\n",
       " HoAFactor & hits\\\\\n",
       " <fct> & <dbl>\\\\\n",
       "\\hline\n",
       "\t away & 172016\\\\\n",
       "\t home & 182505\\\\\n",
       "\\end{tabular}\n"
      ],
      "text/markdown": [
       "\n",
       "A data.frame: 2 × 2\n",
       "\n",
       "| HoAFactor &lt;fct&gt; | hits &lt;dbl&gt; |\n",
       "|---|---|\n",
       "| away | 172016 |\n",
       "| home | 182505 |\n",
       "\n"
      ],
      "text/plain": [
       "  HoAFactor hits  \n",
       "1 away      172016\n",
       "2 home      182505"
      ]
     },
     "metadata": {},
     "output_type": "display_data"
    }
   ],
   "source": [
    "aggregate(hits ~ HoAFactor, data, mean)\n",
    "aggregate(hits ~ HoAFactor, data, sum)"
   ]
  },
  {
   "cell_type": "code",
   "execution_count": 20,
   "id": "13d02c34-5cdf-4330-a02b-d5c912e0b7d0",
   "metadata": {},
   "outputs": [
    {
     "data": {
      "image/png": "[encoded data removed]",
      "text/plain": [
       "plot without title"
      ]
     },
     "metadata": {
      "image/png": {
       "height": 420,
       "width": 420
      }
     },
     "output_type": "display_data"
    }
   ],
   "source": [
    "ggplot(data, aes(x=HoAFactor, y=goals)) + geom_bar(stat=\"identity\")"
   ]
  },
  {
   "cell_type": "code",
   "execution_count": 21,
   "id": "ddbbc40e-5915-40b2-8ffe-37cbe437a8ec",
   "metadata": {},
   "outputs": [
    {
     "data": {
      "image/png": "[encoded data removed]",
      "text/plain": [
       "plot without title"
      ]
     },
     "metadata": {
      "image/png": {
       "height": 420,
       "width": 420
      }
     },
     "output_type": "display_data"
    }
   ],
   "source": [
    "ggplot(data, aes(x=HoAFactor, y=hits)) + geom_bar(stat=\"identity\")"
   ]
  },
  {
   "cell_type": "code",
   "execution_count": null,
   "id": "abe0fad9-4290-45f0-b5c0-1af7035ca739",
   "metadata": {},
   "outputs": [],
   "source": []
  }
 ],
 "metadata": {
  "kernelspec": {
   "display_name": "R",
   "language": "R",
   "name": "ir"
  },
  "language_info": {
   "codemirror_mode": "r",
   "file_extension": ".r",
   "mimetype": "text/x-r-source",
   "name": "R",
   "pygments_lexer": "r",
   "version": "4.1.2"
  }
 },
 "nbformat": 4,
 "nbformat_minor": 5
}
