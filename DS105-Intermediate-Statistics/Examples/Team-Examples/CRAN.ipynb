{
 "cells": [
  {
   "cell_type": "markdown",
   "id": "1c4c3095-f7f0-4617-bea8-54cae421bf23",
   "metadata": {},
   "source": [
    "# The Comprehensive R Archive Network ([CRAN](https://cran.r-project.org/web/packages/available_packages_by_name.html)) is the official R packages repository"
   ]
  },
  {
   "cell_type": "markdown",
   "id": "5aac9fef-8411-4be6-b421-abd3348d029d",
   "metadata": {},
   "source": [
    "refs:\n",
    "\n",
    "https://r-coder.com/install-r-packages/\n",
    "https://cran.r-project.org/web/packages/available_packages_by_name.html\n"
   ]
  },
  {
   "cell_type": "markdown",
   "id": "00ea89f3-e47b-42a8-b018-7c832c65b4e2",
   "metadata": {},
   "source": [
    "The Comprehensive R Archive Network (CRAN) is the official R packages repository, with thousands of free R packages available. Most of them have been developed by Data Scientists, Statisticians, Professors and researchers. There are all type of packages, from graphics packages as the well-known ggplot2] to very specific topics like the DTDA.cif package, that implements estimators for cumulative incidences of competing risks under double-truncation."
   ]
  },
  {
   "cell_type": "code",
   "execution_count": null,
   "id": "52f232d8-5a29-4954-96d3-9d13676e09f1",
   "metadata": {},
   "outputs": [],
   "source": []
  }
 ],
 "metadata": {
  "kernelspec": {
   "display_name": "R",
   "language": "R",
   "name": "ir"
  },
  "language_info": {
   "codemirror_mode": "r",
   "file_extension": ".r",
   "mimetype": "text/x-r-source",
   "name": "R",
   "pygments_lexer": "r",
   "version": "4.1.2"
  }
 },
 "nbformat": 4,
 "nbformat_minor": 5
}
