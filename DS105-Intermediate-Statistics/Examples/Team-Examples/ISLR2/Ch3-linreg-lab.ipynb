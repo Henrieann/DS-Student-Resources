{
 "cells": [
  {
   "cell_type": "markdown",
   "id": "67f91564",
   "metadata": {},
   "source": [
    "\n",
    "# Lab: Linear Regression"
   ]
  },
  {
   "cell_type": "markdown",
   "id": "09ead673",
   "metadata": {},
   "source": [
    "## Libraries\n",
    "\n",
    "The `library()` function is used to load *libraries*, or groups of  functions and data sets that are not included in the base `R` distribution. Basic functions that perform least squares linear regression and other simple analyses\n",
    "come standard with the base distribution,  but more exotic functions require additional libraries.\n",
    " Here we load the `MASS` package, which is a very large collection of data sets and functions. We  also load the `ISLR2` package.\n"
   ]
  },
  {
   "cell_type": "code",
   "execution_count": 3,
   "id": "e48a0be6-f0e5-4710-804a-e36ecbbb9e45",
   "metadata": {},
   "outputs": [
    {
     "name": "stdout",
     "output_type": "stream",
     "text": [
      "\n",
      "The downloaded binary packages are in\n",
      "\t/var/folders/wk/6why77bn1kn0l0pkd4vd3zl00000gn/T//RtmpIMa6k2/downloaded_packages\n",
      "\n",
      "The downloaded binary packages are in\n",
      "\t/var/folders/wk/6why77bn1kn0l0pkd4vd3zl00000gn/T//RtmpIMa6k2/downloaded_packages\n"
     ]
    }
   ],
   "source": [
    "install.packages('MASS')\n",
    "install.packages('ISLR2')"
   ]
  },
  {
   "cell_type": "code",
   "execution_count": 4,
   "id": "eb5f80aa",
   "metadata": {
    "lines_to_next_cell": 2,
    "name": "chunk1"
   },
   "outputs": [
    {
     "name": "stderr",
     "output_type": "stream",
     "text": [
      "\n",
      "Attaching package: ‘ISLR2’\n",
      "\n",
      "\n",
      "The following object is masked from ‘package:MASS’:\n",
      "\n",
      "    Boston\n",
      "\n",
      "\n"
     ]
    }
   ],
   "source": [
    "library(MASS)\n",
    "library(ISLR2)"
   ]
  },
  {
   "cell_type": "markdown",
   "id": "09ae38b1",
   "metadata": {},
   "source": [
    "If you receive an error message when loading any of these libraries, it\n",
    "likely indicates that the corresponding library has not yet been\n",
    "installed on your system. Some libraries, such as `MASS`, come with `R`\n",
    "and do not need to be separately installed on your computer. However,\n",
    "other packages, such as `ISLR2`, must be downloaded the first time they\n",
    "are used. This can be done directly from within `R`. For example, on a\n",
    "Windows system,  select the `Install package` option\n",
    "under the `Packages` tab.  After you select any mirror site, a\n",
    "list of available packages will appear. Simply select the package you\n",
    "wish to install and `R` will automatically download the\n",
    "package. Alternatively, this can be done at the `R` command line\n",
    "via `install.packages(\"ISLR2\")`. This installation only needs\n",
    "to be done the first time you use a package. However, the\n",
    "`library()` function must be called within each `R` session.\n",
    "\n",
    "## Simple Linear Regression\n",
    "\n",
    "The `ISLR2` library contains the `Boston`  data set, which\n",
    "records `medv` (median house value) for $506$ census tracts in Boston. We will seek to predict `medv` using $12$ predictors such as `rmvar` (average number of  rooms per house), `age` (average age of houses), and `lstat` (percent of households with low socioeconomic status)."
   ]
  },
  {
   "cell_type": "code",
   "execution_count": 5,
   "id": "f0bc8b67",
   "metadata": {
    "name": "chunk2"
   },
   "outputs": [
    {
     "data": {
      "text/html": [
       "<table class=\"dataframe\">\n",
       "<caption>A data.frame: 6 × 13</caption>\n",
       "<thead>\n",
       "\t<tr><th></th><th scope=col>crim</th><th scope=col>zn</th><th scope=col>indus</th><th scope=col>chas</th><th scope=col>nox</th><th scope=col>rm</th><th scope=col>age</th><th scope=col>dis</th><th scope=col>rad</th><th scope=col>tax</th><th scope=col>ptratio</th><th scope=col>lstat</th><th scope=col>medv</th></tr>\n",
       "\t<tr><th></th><th scope=col>&lt;dbl&gt;</th><th scope=col>&lt;dbl&gt;</th><th scope=col>&lt;dbl&gt;</th><th scope=col>&lt;int&gt;</th><th scope=col>&lt;dbl&gt;</th><th scope=col>&lt;dbl&gt;</th><th scope=col>&lt;dbl&gt;</th><th scope=col>&lt;dbl&gt;</th><th scope=col>&lt;int&gt;</th><th scope=col>&lt;dbl&gt;</th><th scope=col>&lt;dbl&gt;</th><th scope=col>&lt;dbl&gt;</th><th scope=col>&lt;dbl&gt;</th></tr>\n",
       "</thead>\n",
       "<tbody>\n",
       "\t<tr><th scope=row>1</th><td>0.00632</td><td>18</td><td>2.31</td><td>0</td><td>0.538</td><td>6.575</td><td>65.2</td><td>4.0900</td><td>1</td><td>296</td><td>15.3</td><td>4.98</td><td>24.0</td></tr>\n",
       "\t<tr><th scope=row>2</th><td>0.02731</td><td> 0</td><td>7.07</td><td>0</td><td>0.469</td><td>6.421</td><td>78.9</td><td>4.9671</td><td>2</td><td>242</td><td>17.8</td><td>9.14</td><td>21.6</td></tr>\n",
       "\t<tr><th scope=row>3</th><td>0.02729</td><td> 0</td><td>7.07</td><td>0</td><td>0.469</td><td>7.185</td><td>61.1</td><td>4.9671</td><td>2</td><td>242</td><td>17.8</td><td>4.03</td><td>34.7</td></tr>\n",
       "\t<tr><th scope=row>4</th><td>0.03237</td><td> 0</td><td>2.18</td><td>0</td><td>0.458</td><td>6.998</td><td>45.8</td><td>6.0622</td><td>3</td><td>222</td><td>18.7</td><td>2.94</td><td>33.4</td></tr>\n",
       "\t<tr><th scope=row>5</th><td>0.06905</td><td> 0</td><td>2.18</td><td>0</td><td>0.458</td><td>7.147</td><td>54.2</td><td>6.0622</td><td>3</td><td>222</td><td>18.7</td><td>5.33</td><td>36.2</td></tr>\n",
       "\t<tr><th scope=row>6</th><td>0.02985</td><td> 0</td><td>2.18</td><td>0</td><td>0.458</td><td>6.430</td><td>58.7</td><td>6.0622</td><td>3</td><td>222</td><td>18.7</td><td>5.21</td><td>28.7</td></tr>\n",
       "</tbody>\n",
       "</table>\n"
      ],
      "text/latex": [
       "A data.frame: 6 × 13\n",
       "\\begin{tabular}{r|lllllllllllll}\n",
       "  & crim & zn & indus & chas & nox & rm & age & dis & rad & tax & ptratio & lstat & medv\\\\\n",
       "  & <dbl> & <dbl> & <dbl> & <int> & <dbl> & <dbl> & <dbl> & <dbl> & <int> & <dbl> & <dbl> & <dbl> & <dbl>\\\\\n",
       "\\hline\n",
       "\t1 & 0.00632 & 18 & 2.31 & 0 & 0.538 & 6.575 & 65.2 & 4.0900 & 1 & 296 & 15.3 & 4.98 & 24.0\\\\\n",
       "\t2 & 0.02731 &  0 & 7.07 & 0 & 0.469 & 6.421 & 78.9 & 4.9671 & 2 & 242 & 17.8 & 9.14 & 21.6\\\\\n",
       "\t3 & 0.02729 &  0 & 7.07 & 0 & 0.469 & 7.185 & 61.1 & 4.9671 & 2 & 242 & 17.8 & 4.03 & 34.7\\\\\n",
       "\t4 & 0.03237 &  0 & 2.18 & 0 & 0.458 & 6.998 & 45.8 & 6.0622 & 3 & 222 & 18.7 & 2.94 & 33.4\\\\\n",
       "\t5 & 0.06905 &  0 & 2.18 & 0 & 0.458 & 7.147 & 54.2 & 6.0622 & 3 & 222 & 18.7 & 5.33 & 36.2\\\\\n",
       "\t6 & 0.02985 &  0 & 2.18 & 0 & 0.458 & 6.430 & 58.7 & 6.0622 & 3 & 222 & 18.7 & 5.21 & 28.7\\\\\n",
       "\\end{tabular}\n"
      ],
      "text/markdown": [
       "\n",
       "A data.frame: 6 × 13\n",
       "\n",
       "| <!--/--> | crim &lt;dbl&gt; | zn &lt;dbl&gt; | indus &lt;dbl&gt; | chas &lt;int&gt; | nox &lt;dbl&gt; | rm &lt;dbl&gt; | age &lt;dbl&gt; | dis &lt;dbl&gt; | rad &lt;int&gt; | tax &lt;dbl&gt; | ptratio &lt;dbl&gt; | lstat &lt;dbl&gt; | medv &lt;dbl&gt; |\n",
       "|---|---|---|---|---|---|---|---|---|---|---|---|---|---|\n",
       "| 1 | 0.00632 | 18 | 2.31 | 0 | 0.538 | 6.575 | 65.2 | 4.0900 | 1 | 296 | 15.3 | 4.98 | 24.0 |\n",
       "| 2 | 0.02731 |  0 | 7.07 | 0 | 0.469 | 6.421 | 78.9 | 4.9671 | 2 | 242 | 17.8 | 9.14 | 21.6 |\n",
       "| 3 | 0.02729 |  0 | 7.07 | 0 | 0.469 | 7.185 | 61.1 | 4.9671 | 2 | 242 | 17.8 | 4.03 | 34.7 |\n",
       "| 4 | 0.03237 |  0 | 2.18 | 0 | 0.458 | 6.998 | 45.8 | 6.0622 | 3 | 222 | 18.7 | 2.94 | 33.4 |\n",
       "| 5 | 0.06905 |  0 | 2.18 | 0 | 0.458 | 7.147 | 54.2 | 6.0622 | 3 | 222 | 18.7 | 5.33 | 36.2 |\n",
       "| 6 | 0.02985 |  0 | 2.18 | 0 | 0.458 | 6.430 | 58.7 | 6.0622 | 3 | 222 | 18.7 | 5.21 | 28.7 |\n",
       "\n"
      ],
      "text/plain": [
       "  crim    zn indus chas nox   rm    age  dis    rad tax ptratio lstat medv\n",
       "1 0.00632 18 2.31  0    0.538 6.575 65.2 4.0900 1   296 15.3    4.98  24.0\n",
       "2 0.02731  0 7.07  0    0.469 6.421 78.9 4.9671 2   242 17.8    9.14  21.6\n",
       "3 0.02729  0 7.07  0    0.469 7.185 61.1 4.9671 2   242 17.8    4.03  34.7\n",
       "4 0.03237  0 2.18  0    0.458 6.998 45.8 6.0622 3   222 18.7    2.94  33.4\n",
       "5 0.06905  0 2.18  0    0.458 7.147 54.2 6.0622 3   222 18.7    5.33  36.2\n",
       "6 0.02985  0 2.18  0    0.458 6.430 58.7 6.0622 3   222 18.7    5.21  28.7"
      ]
     },
     "metadata": {},
     "output_type": "display_data"
    }
   ],
   "source": [
    "head(Boston)"
   ]
  },
  {
   "cell_type": "markdown",
   "id": "d0cd124e",
   "metadata": {},
   "source": [
    "To find out more about the data set, we can type `?Boston`.\n",
    "\n",
    "We will start by using the `lm()` function to fit a simple  linear regression model, with `medv` as the response and `lstat`  as the predictor. The basic syntax is {\\R{lm(y $\\sim$ x, data)}}, where `y` is the response, `x` is the predictor, and `data` is the data set in which these two variables are kept."
   ]
  },
  {
   "cell_type": "code",
   "execution_count": 6,
   "id": "39555396",
   "metadata": {
    "error": true,
    "name": "chunk3"
   },
   "outputs": [
    {
     "ename": "ERROR",
     "evalue": "Error in eval(predvars, data, env): object 'medv' not found\n",
     "output_type": "error",
     "traceback": [
      "Error in eval(predvars, data, env): object 'medv' not found\nTraceback:\n",
      "1. lm(medv ~ lstat)",
      "2. eval(mf, parent.frame())",
      "3. eval(mf, parent.frame())",
      "4. stats::model.frame(formula = medv ~ lstat, drop.unused.levels = TRUE)",
      "5. model.frame.default(formula = medv ~ lstat, drop.unused.levels = TRUE)",
      "6. eval(predvars, data, env)",
      "7. eval(predvars, data, env)"
     ]
    }
   ],
   "source": [
    "lm.fit <- lm(medv ~ lstat)"
   ]
  },
  {
   "cell_type": "markdown",
   "id": "8d0549e0",
   "metadata": {},
   "source": [
    "The command causes an error because `R` does not know where to find the variables `medv` and `lstat`. The next line tells `R` that the variables are in `Boston`. If we attach `Boston`, the first line works fine because `R` now recognizes the variables."
   ]
  },
  {
   "cell_type": "code",
   "execution_count": 7,
   "id": "259e0074",
   "metadata": {
    "lines_to_next_cell": 2,
    "name": "chunk4"
   },
   "outputs": [],
   "source": [
    "lm.fit <- lm(medv ~ lstat, data = Boston)\n",
    "attach(Boston)\n",
    "lm.fit <- lm(medv ~ lstat)"
   ]
  },
  {
   "cell_type": "markdown",
   "id": "e1b1497c",
   "metadata": {},
   "source": [
    "If we type `lm.fit`,  some basic information about the model is output. For more detailed information, we use `summary(lm.fit)`. This gives us $p$-values and standard errors for the coefficients, as well as the $R^2$ statistic and $F$-statistic for the model.\n"
   ]
  },
  {
   "cell_type": "code",
   "execution_count": 8,
   "id": "99306afa",
   "metadata": {
    "name": "chunk5"
   },
   "outputs": [
    {
     "data": {
      "text/plain": [
       "\n",
       "Call:\n",
       "lm(formula = medv ~ lstat)\n",
       "\n",
       "Coefficients:\n",
       "(Intercept)        lstat  \n",
       "      34.55        -0.95  \n"
      ]
     },
     "metadata": {},
     "output_type": "display_data"
    },
    {
     "data": {
      "text/plain": [
       "\n",
       "Call:\n",
       "lm(formula = medv ~ lstat)\n",
       "\n",
       "Residuals:\n",
       "    Min      1Q  Median      3Q     Max \n",
       "-15.168  -3.990  -1.318   2.034  24.500 \n",
       "\n",
       "Coefficients:\n",
       "            Estimate Std. Error t value Pr(>|t|)    \n",
       "(Intercept) 34.55384    0.56263   61.41   <2e-16 ***\n",
       "lstat       -0.95005    0.03873  -24.53   <2e-16 ***\n",
       "---\n",
       "Signif. codes:  0 ‘***’ 0.001 ‘**’ 0.01 ‘*’ 0.05 ‘.’ 0.1 ‘ ’ 1\n",
       "\n",
       "Residual standard error: 6.216 on 504 degrees of freedom\n",
       "Multiple R-squared:  0.5441,\tAdjusted R-squared:  0.5432 \n",
       "F-statistic: 601.6 on 1 and 504 DF,  p-value: < 2.2e-16\n"
      ]
     },
     "metadata": {},
     "output_type": "display_data"
    }
   ],
   "source": [
    "lm.fit\n",
    "summary(lm.fit)"
   ]
  },
  {
   "cell_type": "markdown",
   "id": "ace6189b",
   "metadata": {},
   "source": [
    "We can use the `names()` function in order to find out what other pieces of information  are stored in `lm.fit`.\n",
    "Although we can extract these quantities by name---e.g. `lm.fit$coefficients`---it is safer to use the extractor functions like `coef()` to access them."
   ]
  },
  {
   "cell_type": "code",
   "execution_count": 9,
   "id": "7329aa48",
   "metadata": {
    "name": "chunk6"
   },
   "outputs": [
    {
     "data": {
      "text/html": [
       "<style>\n",
       ".list-inline {list-style: none; margin:0; padding: 0}\n",
       ".list-inline>li {display: inline-block}\n",
       ".list-inline>li:not(:last-child)::after {content: \"\\00b7\"; padding: 0 .5ex}\n",
       "</style>\n",
       "<ol class=list-inline><li>'coefficients'</li><li>'residuals'</li><li>'effects'</li><li>'rank'</li><li>'fitted.values'</li><li>'assign'</li><li>'qr'</li><li>'df.residual'</li><li>'xlevels'</li><li>'call'</li><li>'terms'</li><li>'model'</li></ol>\n"
      ],
      "text/latex": [
       "\\begin{enumerate*}\n",
       "\\item 'coefficients'\n",
       "\\item 'residuals'\n",
       "\\item 'effects'\n",
       "\\item 'rank'\n",
       "\\item 'fitted.values'\n",
       "\\item 'assign'\n",
       "\\item 'qr'\n",
       "\\item 'df.residual'\n",
       "\\item 'xlevels'\n",
       "\\item 'call'\n",
       "\\item 'terms'\n",
       "\\item 'model'\n",
       "\\end{enumerate*}\n"
      ],
      "text/markdown": [
       "1. 'coefficients'\n",
       "2. 'residuals'\n",
       "3. 'effects'\n",
       "4. 'rank'\n",
       "5. 'fitted.values'\n",
       "6. 'assign'\n",
       "7. 'qr'\n",
       "8. 'df.residual'\n",
       "9. 'xlevels'\n",
       "10. 'call'\n",
       "11. 'terms'\n",
       "12. 'model'\n",
       "\n",
       "\n"
      ],
      "text/plain": [
       " [1] \"coefficients\"  \"residuals\"     \"effects\"       \"rank\"         \n",
       " [5] \"fitted.values\" \"assign\"        \"qr\"            \"df.residual\"  \n",
       " [9] \"xlevels\"       \"call\"          \"terms\"         \"model\"        "
      ]
     },
     "metadata": {},
     "output_type": "display_data"
    },
    {
     "data": {
      "text/html": [
       "<style>\n",
       ".dl-inline {width: auto; margin:0; padding: 0}\n",
       ".dl-inline>dt, .dl-inline>dd {float: none; width: auto; display: inline-block}\n",
       ".dl-inline>dt::after {content: \":\\0020\"; padding-right: .5ex}\n",
       ".dl-inline>dt:not(:first-of-type) {padding-left: .5ex}\n",
       "</style><dl class=dl-inline><dt>(Intercept)</dt><dd>34.5538408793831</dd><dt>lstat</dt><dd>-0.95004935375799</dd></dl>\n"
      ],
      "text/latex": [
       "\\begin{description*}\n",
       "\\item[(Intercept)] 34.5538408793831\n",
       "\\item[lstat] -0.95004935375799\n",
       "\\end{description*}\n"
      ],
      "text/markdown": [
       "(Intercept)\n",
       ":   34.5538408793831lstat\n",
       ":   -0.95004935375799\n",
       "\n"
      ],
      "text/plain": [
       "(Intercept)       lstat \n",
       " 34.5538409  -0.9500494 "
      ]
     },
     "metadata": {},
     "output_type": "display_data"
    }
   ],
   "source": [
    "names(lm.fit)\n",
    "coef(lm.fit)"
   ]
  },
  {
   "cell_type": "markdown",
   "id": "f8cd2f2e",
   "metadata": {},
   "source": [
    "In order to obtain a confidence interval for the coefficient estimates, we can use the `confint()` command. %Type `confint(lm.fit)` at the command line to obtain the confidence intervals."
   ]
  },
  {
   "cell_type": "code",
   "execution_count": null,
   "id": "ab94cca8",
   "metadata": {
    "name": "chunk7"
   },
   "outputs": [],
   "source": [
    "confint(lm.fit)"
   ]
  },
  {
   "cell_type": "markdown",
   "id": "3a0c00b3",
   "metadata": {},
   "source": [
    "The `predict()` function can be used to produce confidence intervals and prediction intervals for the prediction of `medv` for a given value of `lstat`."
   ]
  },
  {
   "cell_type": "code",
   "execution_count": 10,
   "id": "1800b6ec",
   "metadata": {
    "name": "chunk8"
   },
   "outputs": [
    {
     "data": {
      "text/html": [
       "<table class=\"dataframe\">\n",
       "<caption>A matrix: 3 × 3 of type dbl</caption>\n",
       "<thead>\n",
       "\t<tr><th></th><th scope=col>fit</th><th scope=col>lwr</th><th scope=col>upr</th></tr>\n",
       "</thead>\n",
       "<tbody>\n",
       "\t<tr><th scope=row>1</th><td>29.80359</td><td>29.00741</td><td>30.59978</td></tr>\n",
       "\t<tr><th scope=row>2</th><td>25.05335</td><td>24.47413</td><td>25.63256</td></tr>\n",
       "\t<tr><th scope=row>3</th><td>20.30310</td><td>19.73159</td><td>20.87461</td></tr>\n",
       "</tbody>\n",
       "</table>\n"
      ],
      "text/latex": [
       "A matrix: 3 × 3 of type dbl\n",
       "\\begin{tabular}{r|lll}\n",
       "  & fit & lwr & upr\\\\\n",
       "\\hline\n",
       "\t1 & 29.80359 & 29.00741 & 30.59978\\\\\n",
       "\t2 & 25.05335 & 24.47413 & 25.63256\\\\\n",
       "\t3 & 20.30310 & 19.73159 & 20.87461\\\\\n",
       "\\end{tabular}\n"
      ],
      "text/markdown": [
       "\n",
       "A matrix: 3 × 3 of type dbl\n",
       "\n",
       "| <!--/--> | fit | lwr | upr |\n",
       "|---|---|---|---|\n",
       "| 1 | 29.80359 | 29.00741 | 30.59978 |\n",
       "| 2 | 25.05335 | 24.47413 | 25.63256 |\n",
       "| 3 | 20.30310 | 19.73159 | 20.87461 |\n",
       "\n"
      ],
      "text/plain": [
       "  fit      lwr      upr     \n",
       "1 29.80359 29.00741 30.59978\n",
       "2 25.05335 24.47413 25.63256\n",
       "3 20.30310 19.73159 20.87461"
      ]
     },
     "metadata": {},
     "output_type": "display_data"
    },
    {
     "data": {
      "text/html": [
       "<table class=\"dataframe\">\n",
       "<caption>A matrix: 3 × 3 of type dbl</caption>\n",
       "<thead>\n",
       "\t<tr><th></th><th scope=col>fit</th><th scope=col>lwr</th><th scope=col>upr</th></tr>\n",
       "</thead>\n",
       "<tbody>\n",
       "\t<tr><th scope=row>1</th><td>29.80359</td><td>17.565675</td><td>42.04151</td></tr>\n",
       "\t<tr><th scope=row>2</th><td>25.05335</td><td>12.827626</td><td>37.27907</td></tr>\n",
       "\t<tr><th scope=row>3</th><td>20.30310</td><td> 8.077742</td><td>32.52846</td></tr>\n",
       "</tbody>\n",
       "</table>\n"
      ],
      "text/latex": [
       "A matrix: 3 × 3 of type dbl\n",
       "\\begin{tabular}{r|lll}\n",
       "  & fit & lwr & upr\\\\\n",
       "\\hline\n",
       "\t1 & 29.80359 & 17.565675 & 42.04151\\\\\n",
       "\t2 & 25.05335 & 12.827626 & 37.27907\\\\\n",
       "\t3 & 20.30310 &  8.077742 & 32.52846\\\\\n",
       "\\end{tabular}\n"
      ],
      "text/markdown": [
       "\n",
       "A matrix: 3 × 3 of type dbl\n",
       "\n",
       "| <!--/--> | fit | lwr | upr |\n",
       "|---|---|---|---|\n",
       "| 1 | 29.80359 | 17.565675 | 42.04151 |\n",
       "| 2 | 25.05335 | 12.827626 | 37.27907 |\n",
       "| 3 | 20.30310 |  8.077742 | 32.52846 |\n",
       "\n"
      ],
      "text/plain": [
       "  fit      lwr       upr     \n",
       "1 29.80359 17.565675 42.04151\n",
       "2 25.05335 12.827626 37.27907\n",
       "3 20.30310  8.077742 32.52846"
      ]
     },
     "metadata": {},
     "output_type": "display_data"
    }
   ],
   "source": [
    "predict(lm.fit, data.frame(lstat = (c(5, 10, 15))),\n",
    "    interval = \"confidence\")\n",
    "predict(lm.fit, data.frame(lstat = (c(5, 10, 15))),\n",
    "    interval = \"prediction\")"
   ]
  },
  {
   "cell_type": "markdown",
   "id": "dfeb812d",
   "metadata": {},
   "source": [
    "For instance, the 95\\,\\% confidence interval associated with a `lstat` value of 10 is $(24.47, 25.63)$, and the 95\\,\\% prediction interval is $(12.828, 37.28)$.\n",
    "As expected, the confidence and prediction intervals are centered around the same point (a predicted value of $25.05$ for `medv` when `lstat` equals 10), but the latter are substantially wider.\n",
    "\n",
    "We will now plot `medv` and `lstat` along with the least squares regression line using the `plot()` and `abline()` functions."
   ]
  },
  {
   "cell_type": "code",
   "execution_count": null,
   "id": "57a62c19",
   "metadata": {
    "name": "chunk9"
   },
   "outputs": [],
   "source": [
    "plot(lstat, medv)\n",
    "abline(lm.fit)"
   ]
  },
  {
   "cell_type": "markdown",
   "id": "99ba225a",
   "metadata": {},
   "source": [
    "There is some evidence for non-linearity in the relationship between `lstat` and `medv`. We will explore this issue  later in this lab.\n",
    "\n",
    "The `abline()` function can be used to draw any line, not just the least squares regression line.\n",
    "To draw a line with intercept `a` and slope `b`, we  type `abline(a, b)`. Below we experiment with some additional settings for plotting lines and points.\n",
    " The `lwd = 3` command causes the width of the regression line to be increased by a factor of 3;  this works for the `plot()` and `lines()` functions also. We can also use the `pch` option to create different plotting symbols."
   ]
  },
  {
   "cell_type": "code",
   "execution_count": null,
   "id": "3291832f",
   "metadata": {
    "lines_to_next_cell": 2,
    "name": "chunk10"
   },
   "outputs": [],
   "source": [
    "plot(lstat, medv)\n",
    "abline(lm.fit, lwd = 3)\n",
    "abline(lm.fit, lwd = 3, col = \"red\")\n",
    "plot(lstat, medv, col = \"red\")\n",
    "plot(lstat, medv, pch = 20)\n",
    "plot(lstat, medv, pch = \"+\")\n",
    "plot(1:20, 1:20, pch = 1:20)"
   ]
  },
  {
   "cell_type": "markdown",
   "id": "713fc509",
   "metadata": {},
   "source": [
    "Next we examine some diagnostic plots, several of which were discussed\n",
    "in Section 3.3.3. Four diagnostic plots are automatically\n",
    "produced by applying the `plot()` function directly to the output\n",
    "from `lm()`. In general, this command will produce one plot at a\n",
    "time, and hitting *Enter* will generate the next plot. However,\n",
    "it is often convenient to view all four plots together. We can achieve\n",
    "this by using the `par()` and `mfrow()` functions, which tell `R` to split\n",
    "the display screen into separate panels so that multiple plots can be\n",
    "viewed simultaneously. For example,  `par(mfrow = c(2, 2))` divides the plotting\n",
    "region into a $2 \\times 2$ grid of panels."
   ]
  },
  {
   "cell_type": "code",
   "execution_count": null,
   "id": "ca555fac",
   "metadata": {
    "name": "chunk11"
   },
   "outputs": [],
   "source": [
    "par(mfrow = c(2, 2))\n",
    "plot(lm.fit)"
   ]
  },
  {
   "cell_type": "markdown",
   "id": "415beff8",
   "metadata": {},
   "source": [
    "Alternatively, we can compute the residuals from a linear regression\n",
    "fit using the `residuals()` function. The function\n",
    "`rstudent()` will return the studentized residuals, and we\n",
    "can use this function to plot the residuals against the fitted values."
   ]
  },
  {
   "cell_type": "code",
   "execution_count": null,
   "id": "b60f1d00",
   "metadata": {
    "name": "chunk12"
   },
   "outputs": [],
   "source": [
    "plot(predict(lm.fit), residuals(lm.fit))\n",
    "plot(predict(lm.fit), rstudent(lm.fit))"
   ]
  },
  {
   "cell_type": "markdown",
   "id": "85eb1490",
   "metadata": {},
   "source": [
    "On the basis of the residual plots, there is some evidence of non-linearity.\n",
    "Leverage statistics can be computed for any number of predictors using the `hatvalues()` function."
   ]
  },
  {
   "cell_type": "code",
   "execution_count": null,
   "id": "21ade5c0",
   "metadata": {
    "name": "chunk13"
   },
   "outputs": [],
   "source": [
    "plot(hatvalues(lm.fit))\n",
    "which.max(hatvalues(lm.fit))"
   ]
  },
  {
   "cell_type": "markdown",
   "id": "212a7d24",
   "metadata": {},
   "source": [
    "The `which.max()` function identifies the index of the largest element of a vector. In this case, it tells us which observation has the largest leverage statistic.\n",
    "\n",
    "## Multiple Linear Regression\n",
    "\n",
    "In order to fit a multiple linear regression model using least squares, we again use the `lm()` function. The syntax {\\R{lm(y $\\sim$ x1 + x2 + x3)}} is used to fit a model with three predictors, `x1`, `x2`, and `x3`.\n",
    "The `summary()` function now outputs the regression coefficients for all the predictors."
   ]
  },
  {
   "cell_type": "code",
   "execution_count": null,
   "id": "63baa25d",
   "metadata": {
    "name": "chunk14"
   },
   "outputs": [],
   "source": [
    "lm.fit <- lm(medv ~ lstat + age, data = Boston)\n",
    "summary(lm.fit)"
   ]
  },
  {
   "cell_type": "markdown",
   "id": "726ce33d",
   "metadata": {},
   "source": [
    "The `Boston` data set contains 12 variables, and so it would be cumbersome to have to type all of these in order to perform a regression using all of the predictors.\n",
    "Instead, we can use the following short-hand:"
   ]
  },
  {
   "cell_type": "code",
   "execution_count": null,
   "id": "053eed07",
   "metadata": {
    "name": "chunk15"
   },
   "outputs": [],
   "source": [
    "lm.fit <- lm(medv ~ ., data = Boston)\n",
    "summary(lm.fit)"
   ]
  },
  {
   "cell_type": "markdown",
   "id": "292345ef",
   "metadata": {},
   "source": [
    "We can access the individual components of a summary object by name\n",
    "(type `?summary.lm` to see what is available). Hence\n",
    "`summary(lm.fit)$r.sq` gives us the $R^2$, and\n",
    "`summary(lm.fit)$sigma` gives us the RSE. The `vif()`\n",
    "function, part of the `car` package, can be used to compute variance\n",
    "inflation factors.   Most VIF's are\n",
    "low to moderate for this data. The `car` package is not part of the base `R` installation so it must be downloaded the first time you use it via the `install.packages()` function in `R`."
   ]
  },
  {
   "cell_type": "code",
   "execution_count": null,
   "id": "5b2918f5",
   "metadata": {
    "name": "chunk16"
   },
   "outputs": [],
   "source": [
    "library(car)\n",
    "vif(lm.fit)"
   ]
  },
  {
   "cell_type": "markdown",
   "id": "9e006556",
   "metadata": {},
   "source": [
    "What if we would like to perform a regression using all of the variables but one?  For example, in the above regression output,  `age` has a high $p$-value. So we may wish to run a regression excluding this predictor.\n",
    " The following syntax results in a regression using all predictors except `age`."
   ]
  },
  {
   "cell_type": "code",
   "execution_count": null,
   "id": "9898f442",
   "metadata": {
    "name": "chunk17"
   },
   "outputs": [],
   "source": [
    "lm.fit1 <- lm(medv ~ . - age, data = Boston)\n",
    "summary(lm.fit1)"
   ]
  },
  {
   "cell_type": "markdown",
   "id": "cfb1a8f3",
   "metadata": {},
   "source": [
    "Alternatively, the `update()` function can be used."
   ]
  },
  {
   "cell_type": "code",
   "execution_count": null,
   "id": "2de0edc2",
   "metadata": {
    "lines_to_next_cell": 2,
    "name": "chunk18"
   },
   "outputs": [],
   "source": [
    "lm.fit1 <- update(lm.fit, ~ . - age)"
   ]
  },
  {
   "cell_type": "markdown",
   "id": "a3a1d0ab",
   "metadata": {},
   "source": [
    "## Interaction Terms\n",
    "\n",
    "It is easy to include interaction terms in a linear model using the `lm()` function. The syntax `lstat:black` tells `R` to include an interaction term between `lstat` and `black`.\n",
    "The syntax `lstat * age` simultaneously includes `lstat`, `age`, and the interaction term `lstat`$\\times$`age` as predictors; it is a shorthand for `lstat + age + lstat:age`.\n",
    "  %We can also pass in transformed versions of the predictors."
   ]
  },
  {
   "cell_type": "code",
   "execution_count": null,
   "id": "a37a5339",
   "metadata": {
    "lines_to_next_cell": 2,
    "name": "chunk19"
   },
   "outputs": [],
   "source": [
    "summary(lm(medv ~ lstat * age, data = Boston))"
   ]
  },
  {
   "cell_type": "markdown",
   "id": "c4df2c8a",
   "metadata": {},
   "source": [
    "## Non-linear Transformations of the Predictors\n",
    "\n",
    "The `lm()` function can also accommodate non-linear transformations of the predictors. For instance, given a predictor $X$, we can create a predictor $X^2$ using\n",
    " `I(X^2)`. The function `I()` is needed since the `^` has a special meaning in a formula object; wrapping as we do allows the standard usage in `R`, which is to raise `X` to the power `2`. We now\n",
    "perform a regression of `medv` onto `lstat` and `lstat^2`."
   ]
  },
  {
   "cell_type": "code",
   "execution_count": null,
   "id": "b2b132ac",
   "metadata": {
    "name": "chunk20"
   },
   "outputs": [],
   "source": [
    "lm.fit2 <- lm(medv ~ lstat + I(lstat^2))\n",
    "summary(lm.fit2)"
   ]
  },
  {
   "cell_type": "markdown",
   "id": "da1518b1",
   "metadata": {},
   "source": [
    "The near-zero $p$-value associated with the quadratic term suggests that it leads to an improved model.\n",
    "We use the `anova()` function  to further quantify the extent to which the quadratic fit is superior to the linear fit."
   ]
  },
  {
   "cell_type": "code",
   "execution_count": null,
   "id": "f42b5f46",
   "metadata": {
    "name": "chunk21"
   },
   "outputs": [],
   "source": [
    "lm.fit <- lm(medv ~ lstat)\n",
    "anova(lm.fit, lm.fit2)"
   ]
  },
  {
   "cell_type": "markdown",
   "id": "93005b0b",
   "metadata": {},
   "source": [
    "Here Model 1 represents the linear submodel containing only one predictor, `lstat`, while Model 2 corresponds to the larger quadratic model that has two predictors, `lstat` and `lstat^2`.\n",
    "The `anova()` function performs a hypothesis test\n",
    "comparing the two models. The   null hypothesis is that the two models fit the data equally well,  and the alternative hypothesis is that the full model is superior. Here the $F$-statistic is $135$\n",
    " and the associated $p$-value is virtually zero. This provides very clear evidence that the model containing the predictors `lstat` and `lstat^2` is far superior to the model that only contains the predictor `lstat`.\n",
    " This is not surprising, since earlier we saw evidence for non-linearity in the relationship between `medv` and `lstat`. If we type"
   ]
  },
  {
   "cell_type": "code",
   "execution_count": null,
   "id": "35b22a70",
   "metadata": {
    "name": "chunk22"
   },
   "outputs": [],
   "source": [
    "par(mfrow = c(2, 2))\n",
    "plot(lm.fit2)"
   ]
  },
  {
   "cell_type": "markdown",
   "id": "ee9573f9",
   "metadata": {},
   "source": [
    " then we see that when the `lstat^2` term is included in the model, there is little discernible pattern in the residuals.\n",
    "\n",
    "In order to create a cubic fit, we can include a predictor of the form `I(X^3)`. However, this approach can start to get cumbersome for higher-order polynomials. A better approach involves using the `poly()` function to create the polynomial within `lm()`. For example, the following command produces a\n",
    "fifth-order polynomial fit:"
   ]
  },
  {
   "cell_type": "code",
   "execution_count": null,
   "id": "c7c2293e",
   "metadata": {
    "name": "chunk23"
   },
   "outputs": [],
   "source": [
    "lm.fit5 <- lm(medv ~ poly(lstat, 5))\n",
    "summary(lm.fit5)"
   ]
  },
  {
   "cell_type": "markdown",
   "id": "8c0c6b84",
   "metadata": {},
   "source": [
    "This suggests that including additional  polynomial terms, up to fifth order, leads to an improvement in the model fit! However, further investigation of the data reveals that no polynomial terms beyond fifth order have significant $p$-values\n",
    "in a regression fit.\n",
    "\n",
    " By default, the `poly()` function orthogonalizes the predictors:\n",
    " this means that the features output by this function are not simply a\n",
    " sequence of powers of the argument. However, a linear model applied to the output of the `poly()` function will have the same fitted values as a linear model applied to the raw polynomials (although the coefficient estimates, standard errors, and p-values will differ). In order to obtain the raw polynomials from the `poly()` function,  the argument `raw = TRUE` must be used.\n",
    "\n",
    "Of course, we are in no way restricted to using polynomial transformations of the predictors. Here we try a log transformation."
   ]
  },
  {
   "cell_type": "code",
   "execution_count": null,
   "id": "238b1219",
   "metadata": {
    "lines_to_next_cell": 2,
    "name": "chunk24"
   },
   "outputs": [],
   "source": [
    "summary(lm(medv ~ log(rm), data = Boston))"
   ]
  },
  {
   "cell_type": "markdown",
   "id": "bffcba24",
   "metadata": {},
   "source": [
    "## Qualitative Predictors\n",
    "\n",
    "We will now examine the `Carseats` data, which is part of the\n",
    "`ISLR2` library. We will  attempt to predict `Sales`\n",
    "(child car seat sales) in $400$ locations based on a number of\n",
    "predictors."
   ]
  },
  {
   "cell_type": "code",
   "execution_count": null,
   "id": "53035f28",
   "metadata": {
    "name": "chunk25"
   },
   "outputs": [],
   "source": [
    "head(Carseats)"
   ]
  },
  {
   "cell_type": "markdown",
   "id": "e948a613",
   "metadata": {},
   "source": [
    "The `Carseats` data includes qualitative predictors such as `shelveloc`, an indicator of the quality of the shelving location---that is, the  space within a store in which the car seat is displayed---at each location. The predictor `shelveloc` takes on three possible values:  *Bad*, *Medium*, and *Good*. Given a qualitative variable such as `shelveloc`, `R` generates dummy variables automatically. Below we fit a multiple regression model that includes some interaction terms."
   ]
  },
  {
   "cell_type": "code",
   "execution_count": null,
   "id": "afe2d077",
   "metadata": {
    "name": "chunk26"
   },
   "outputs": [],
   "source": [
    "lm.fit <- lm(Sales ~ . + Income:Advertising + Price:Age, \n",
    "    data = Carseats)\n",
    "summary(lm.fit)"
   ]
  },
  {
   "cell_type": "markdown",
   "id": "f8c1bd30",
   "metadata": {},
   "source": [
    "The `contrasts()` function returns the coding that `R` uses for the dummy variables."
   ]
  },
  {
   "cell_type": "code",
   "execution_count": null,
   "id": "d56c68e7",
   "metadata": {
    "name": "chunk27"
   },
   "outputs": [],
   "source": [
    "attach(Carseats)\n",
    "contrasts(ShelveLoc)"
   ]
  },
  {
   "cell_type": "markdown",
   "id": "89463e0f",
   "metadata": {},
   "source": [
    "Use `?contrasts` to learn about other contrasts, and how to set them.\n",
    "\n",
    "`R` has created a `ShelveLocGood` dummy variable that takes on a value of 1 if the shelving location is good, and 0 otherwise. It has also created a `ShelveLocMedium` dummy variable that equals 1 if the shelving location is medium, and 0 otherwise.\n",
    "A bad shelving location corresponds to a zero for each of the two dummy variables.\n",
    "The fact that the coefficient for `ShelveLocGood` in the regression output is positive indicates that a good shelving location is associated with high sales (relative to a bad location). And `ShelveLocMedium` has a smaller positive coefficient, indicating that a medium shelving location is associated with higher sales than a bad shelving location but lower sales than a good shelving location."
   ]
  },
  {
   "cell_type": "markdown",
   "id": "3fe2cfdb",
   "metadata": {},
   "source": [
    "## Writing  Functions\n",
    "\n",
    "As we have seen, `R` comes with many useful functions, and still more functions are available by way of `R` libraries.\n",
    "However, we will often be interested in performing an operation for which no function is available. In this setting, we may want to write our own function. For instance, below we provide a simple function that reads in the `ISLR2` and `MASS` libraries, called\n",
    "`LoadLibraries()`. Before we have created the function, `R` returns an error if we try to call it."
   ]
  },
  {
   "cell_type": "code",
   "execution_count": null,
   "id": "017e4667",
   "metadata": {
    "error": true,
    "name": "chunk28"
   },
   "outputs": [],
   "source": [
    "LoadLibraries\n",
    "LoadLibraries()"
   ]
  },
  {
   "cell_type": "markdown",
   "id": "644fbf89",
   "metadata": {},
   "source": [
    "We now create the function. Note that the `+` symbols are printed by `R` and should not be typed in. The `{` symbol informs `R` that multiple commands are about to be input. Hitting *Enter* after typing `{` will cause `R` to print the `+` symbol. We can then input as many commands as we wish, hitting {*Enter*} after each one. Finally the `}` symbol informs `R` that no further commands will be entered."
   ]
  },
  {
   "cell_type": "code",
   "execution_count": null,
   "id": "9a8b963d",
   "metadata": {
    "name": "chunk29"
   },
   "outputs": [],
   "source": [
    "LoadLibraries <- function() {\n",
    " library(ISLR2)\n",
    " library(MASS)\n",
    " print(\"The libraries have been loaded.\")\n",
    "}"
   ]
  },
  {
   "cell_type": "markdown",
   "id": "a0d40fa5",
   "metadata": {},
   "source": [
    "Now if we type in `LoadLibraries`, `R` will tell us what is in the function."
   ]
  },
  {
   "cell_type": "code",
   "execution_count": null,
   "id": "b4bcbb58",
   "metadata": {
    "name": "chunk30"
   },
   "outputs": [],
   "source": [
    "LoadLibraries"
   ]
  },
  {
   "cell_type": "markdown",
   "id": "513126a7",
   "metadata": {},
   "source": [
    "If we call the function, the libraries are loaded in and the print statement is output."
   ]
  },
  {
   "cell_type": "code",
   "execution_count": null,
   "id": "814e5dfb",
   "metadata": {
    "lines_to_next_cell": 0,
    "name": "chunk31"
   },
   "outputs": [],
   "source": [
    "LoadLibraries()"
   ]
  },
  {
   "cell_type": "markdown",
   "id": "3cfca3e8",
   "metadata": {},
   "source": [
    "\n"
   ]
  }
 ],
 "metadata": {
  "celltoolbar": "Edit Metadata",
  "jupytext": {
   "formats": "ipynb,Rmd"
  },
  "kernelspec": {
   "display_name": "R",
   "language": "R",
   "name": "ir"
  },
  "language_info": {
   "codemirror_mode": "r",
   "file_extension": ".r",
   "mimetype": "text/x-r-source",
   "name": "R",
   "pygments_lexer": "r",
   "version": "4.1.2"
  },
  "substitutions": {
   "ISLPmod": "`ISLP`",
   "Rlang": "`R`",
   "mpl": "`matplotlib`",
   "numpy": "`numpy`",
   "pandas": "`pandas`",
   "pylang": "`python`",
   "smlib": "`statsmodels`"
  }
 },
 "nbformat": 4,
 "nbformat_minor": 5
}
