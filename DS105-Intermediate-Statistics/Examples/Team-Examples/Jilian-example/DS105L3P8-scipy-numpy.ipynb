{
 "cells": [
  {
   "cell_type": "markdown",
   "id": "77368701-0164-44de-9c85-2146288c24b2",
   "metadata": {},
   "source": [
    "# I added numpy to use for the array function due to scipy being removed in a further update."
   ]
  },
  {
   "cell_type": "code",
   "execution_count": 1,
   "id": "2b9b1ded-b69a-4c96-a53a-defa1006fd04",
   "metadata": {},
   "outputs": [],
   "source": [
    "import pandas as pd\n",
    "import scipy, scipy.stats\n",
    "import numpy as np"
   ]
  },
  {
   "cell_type": "code",
   "execution_count": 2,
   "id": "0bdcc708-6cf5-422b-967f-7b63debc23d7",
   "metadata": {},
   "outputs": [],
   "source": [
    "SW_survey_renamed= pd.read_csv('../../../Data/SW_survey_renamed.csv')"
   ]
  },
  {
   "cell_type": "code",
   "execution_count": 3,
   "id": "bdcea95f-4863-4df1-b82e-6e9f41881328",
   "metadata": {},
   "outputs": [
    {
     "data": {
      "text/plain": [
       "Yes    552\n",
       "No     284\n",
       "Name: FanYN, dtype: int64"
      ]
     },
     "execution_count": 3,
     "metadata": {},
     "output_type": "execute_result"
    }
   ],
   "source": [
    "SW_survey_renamed.FanYN.value_counts()"
   ]
  },
  {
   "cell_type": "code",
   "execution_count": 7,
   "id": "f0734604-e090-4cad-bc02-70b181242e2f",
   "metadata": {},
   "outputs": [],
   "source": [
    "observed_values = np.array([552, 284])"
   ]
  },
  {
   "cell_type": "code",
   "execution_count": 8,
   "id": "51919453-f892-442a-8627-858b90a7b991",
   "metadata": {},
   "outputs": [],
   "source": [
    "expected_values = np.array([752, 84])"
   ]
  },
  {
   "cell_type": "code",
   "execution_count": 9,
   "id": "73f4674e-8dc0-4aba-a8c5-fb98de4c9e2a",
   "metadata": {},
   "outputs": [
    {
     "data": {
      "text/plain": [
       "Power_divergenceResult(statistic=529.3819655521784, pvalue=3.849512370977756e-117)"
      ]
     },
     "execution_count": 9,
     "metadata": {},
     "output_type": "execute_result"
    }
   ],
   "source": [
    "scipy.stats.chisquare(observed_values, f_exp=expected_values)"
   ]
  },
  {
   "cell_type": "code",
   "execution_count": null,
   "id": "9febe54c-09ca-4109-8e5f-0cee1cb0d5ae",
   "metadata": {},
   "outputs": [],
   "source": []
  }
 ],
 "metadata": {
  "kernelspec": {
   "display_name": "Python 3 (ipykernel)",
   "language": "python",
   "name": "python3"
  },
  "language_info": {
   "codemirror_mode": {
    "name": "ipython",
    "version": 3
   },
   "file_extension": ".py",
   "mimetype": "text/x-python",
   "name": "python",
   "nbconvert_exporter": "python",
   "pygments_lexer": "ipython3",
   "version": "3.9.9"
  }
 },
 "nbformat": 4,
 "nbformat_minor": 5
}
