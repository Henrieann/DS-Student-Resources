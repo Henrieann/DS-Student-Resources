{
 "cells": [
  {
   "cell_type": "markdown",
   "id": "701c6664-c3af-4538-bac7-f1a5cc1826cd",
   "metadata": {},
   "source": [
    "# DS105 Questions\n",
    "\n",
    "## Lesson 1\n",
    "\n",
    "## Page 2"
   ]
  },
  {
   "cell_type": "code",
   "execution_count": 2,
   "id": "9fdc1222-3d73-42e1-b6bf-b95d73e3d8ff",
   "metadata": {},
   "outputs": [],
   "source": [
    "from DS_Students import *"
   ]
  },
  {
   "cell_type": "code",
   "execution_count": 3,
   "id": "cf433206-b1c6-41d7-86db-486d7cb4756e",
   "metadata": {},
   "outputs": [],
   "source": [
    "L1P2Q1 = MultipleChoice('1. Which of the following packages are often used for statistical analysis in Python?',['A. pandas','B. numpy','C. scipy', 'D. stats', 'E. Both C & D'],'E. Both C & D')\n",
    "L1P2Q2 = MultipleChoice('2. When would you perform a single sample t-test?',['A. When comparing two related samples','B. Comparing population mean to a single value','C. Looking for relationship between two continuous variables', 'D. When comparing two unrelated samples'],'B. Comparing population mean to a single value')"
   ]
  },
  {
   "cell_type": "code",
   "execution_count": 4,
   "id": "6f20d99a-0d5d-482e-82a1-2adf01327726",
   "metadata": {},
   "outputs": [
    {
     "data": {
      "application/vnd.jupyter.widget-view+json": {
       "model_id": "40518a5c91bf4faf97f11899faa590b8",
       "version_major": 2,
       "version_minor": 0
      },
      "text/plain": [
       "VBox(children=(Output(), RadioButtons(layout=Layout(width='max-content'), options=(('A. pandas', 0), ('B. nump…"
      ]
     },
     "metadata": {},
     "output_type": "display_data"
    },
    {
     "data": {
      "application/vnd.jupyter.widget-view+json": {
       "model_id": "6b75899164b3474ca7451e1b21baf85b",
       "version_major": 2,
       "version_minor": 0
      },
      "text/plain": [
       "VBox(children=(Output(), RadioButtons(layout=Layout(width='max-content'), options=(('A. When comparing two rel…"
      ]
     },
     "metadata": {},
     "output_type": "display_data"
    }
   ],
   "source": [
    "if __name__ == \"__main__\":\n",
    "    display(L1P2Q1, L1P2Q2)"
   ]
  },
  {
   "cell_type": "markdown",
   "id": "59237b93-23a1-4511-9c47-069ff58089ca",
   "metadata": {},
   "source": [
    "## Page 5"
   ]
  },
  {
   "cell_type": "code",
   "execution_count": 5,
   "id": "9e09c0eb-06d1-440a-9c2a-4ced3fa16e4e",
   "metadata": {},
   "outputs": [],
   "source": [
    "L1P5Q1 = MultipleChoice('1. When would you perform an independent t-test?',['A. When comparing two related samples','B. When comparing a population mean to a single value','C. When looking for the relationship between two continuous variables', 'D. When comparing two unrelated samples'],'D. When comparing two unrelated samples')\n",
    "L1P5Q2 = MultipleChoice('2. What data is required for an independent t-test?',['A. One independent, categorical variable and one dependent, continuous variable','B. One independent continuous variable and one dependent categorical variable','C. Two independent categorical variables and one dependent, continous variable', 'D. One independent categorical variable and two dependent, continuous variables'],'A. One independent, categorical variable and one dependent, continuous variable')"
   ]
  },
  {
   "cell_type": "code",
   "execution_count": 6,
   "id": "395b4e32-213a-432c-8570-dba7e76bc602",
   "metadata": {},
   "outputs": [
    {
     "data": {
      "application/vnd.jupyter.widget-view+json": {
       "model_id": "e28409a0a1c542338b41fdcedd562f83",
       "version_major": 2,
       "version_minor": 0
      },
      "text/plain": [
       "VBox(children=(Output(), RadioButtons(layout=Layout(width='max-content'), options=(('A. When comparing two rel…"
      ]
     },
     "metadata": {},
     "output_type": "display_data"
    },
    {
     "data": {
      "application/vnd.jupyter.widget-view+json": {
       "model_id": "bf6aa98ca516496c8289708877018ece",
       "version_major": 2,
       "version_minor": 0
      },
      "text/plain": [
       "VBox(children=(Output(), RadioButtons(layout=Layout(width='max-content'), options=(('A. One independent, categ…"
      ]
     },
     "metadata": {},
     "output_type": "display_data"
    }
   ],
   "source": [
    "if __name__ == \"__main__\":\n",
    "    display(L1P5Q1, L1P5Q2)"
   ]
  },
  {
   "cell_type": "markdown",
   "id": "214526dd-72ee-40d8-a2e5-41e165dcd951",
   "metadata": {},
   "source": [
    "## Page 8"
   ]
  },
  {
   "cell_type": "code",
   "execution_count": 7,
   "id": "c8eb6a46-ef59-46c0-8adb-773a004ded82",
   "metadata": {},
   "outputs": [],
   "source": [
    "L1P8Q1 = MultipleChoice('1. When would you perform a dependent t-test?',['A. When comparing two related samples','B. When comparing a population mean to a single value','C. When looking for the relationship between two continuous variables', 'D. When comparing two unrelated samples'],'A. When comparing two related samples')\n",
    "L1P8Q2 = MultipleChoice('2. What data is required for an dependent t-test?',['A. One independent, categorical variable and one dependent, continuous variable','B. One independent continuous variable and one dependent categorical variable','C. Two independent categorical variables and one dependent, continous variable', 'D. One independent categorical variable and two dependent, continuous variables'],'A. One independent, categorical variable and one dependent, continuous variable')\n",
    "L1P8Q3 = MultipleChoice('3. Which function is used for a dependent t-test?',['A. stats.ttest_1samp()','B. ttest_ind()','C. stats.ttest_rel()', 'D. .hist()'],'C. stats.ttest_rel()')"
   ]
  },
  {
   "cell_type": "code",
   "execution_count": 8,
   "id": "3adf2b8c-6d74-449d-abd7-f2ecd2cef18e",
   "metadata": {},
   "outputs": [
    {
     "data": {
      "application/vnd.jupyter.widget-view+json": {
       "model_id": "576e1e262a1e47b7b756968812d231fd",
       "version_major": 2,
       "version_minor": 0
      },
      "text/plain": [
       "VBox(children=(Output(), RadioButtons(layout=Layout(width='max-content'), options=(('A. When comparing two rel…"
      ]
     },
     "metadata": {},
     "output_type": "display_data"
    },
    {
     "data": {
      "application/vnd.jupyter.widget-view+json": {
       "model_id": "942e87c3b6ab42ff97227465be18b2c7",
       "version_major": 2,
       "version_minor": 0
      },
      "text/plain": [
       "VBox(children=(Output(), RadioButtons(layout=Layout(width='max-content'), options=(('A. One independent, categ…"
      ]
     },
     "metadata": {},
     "output_type": "display_data"
    },
    {
     "data": {
      "application/vnd.jupyter.widget-view+json": {
       "model_id": "9d7509e1fbcd4e5493aab4d0386c4bc4",
       "version_major": 2,
       "version_minor": 0
      },
      "text/plain": [
       "VBox(children=(Output(), RadioButtons(layout=Layout(width='max-content'), options=(('A. stats.ttest_1samp()', …"
      ]
     },
     "metadata": {},
     "output_type": "display_data"
    }
   ],
   "source": [
    "if __name__ == \"__main__\":\n",
    "    display(L1P8Q1, L1P8Q2, L1P8Q3)"
   ]
  },
  {
   "cell_type": "markdown",
   "id": "fbd02314-2ef4-43be-aa7f-82453a99c3aa",
   "metadata": {},
   "source": [
    "## Page 11"
   ]
  },
  {
   "cell_type": "code",
   "execution_count": 9,
   "id": "d909d1fb-8f00-4e28-b8ed-31c3be525a4c",
   "metadata": {},
   "outputs": [],
   "source": [
    "L1P11Q1 = MultipleChoice('1. What kind of data does a Chi-Square require?',['A. Continuous','B. Categorical','C. Both continuous and categorical'],'B. Categorical')\n",
    "L1P11Q2 = MultipleChoice('2. What is the assumption for Chi-Square?',['A. Expected values of each cell greater than 5','B. Normality','C. Independence'],'A. Expected values of each cell greater than 5')\n",
    "L1P11Q3 = MultipleChoice('3. A contingency table is necessary to run a Chi-Square in Python.',['A. True','B. False'],'A. True')"
   ]
  },
  {
   "cell_type": "code",
   "execution_count": 10,
   "id": "6e065133-ed4b-4985-b9d1-f6cd5b3cbe48",
   "metadata": {},
   "outputs": [
    {
     "data": {
      "application/vnd.jupyter.widget-view+json": {
       "model_id": "09fc64a7f9644a4c83181e139c1fe5cc",
       "version_major": 2,
       "version_minor": 0
      },
      "text/plain": [
       "VBox(children=(Output(), RadioButtons(layout=Layout(width='max-content'), options=(('A. Continuous', 0), ('B. …"
      ]
     },
     "metadata": {},
     "output_type": "display_data"
    },
    {
     "data": {
      "application/vnd.jupyter.widget-view+json": {
       "model_id": "5fa91050687244129d2a194e58166414",
       "version_major": 2,
       "version_minor": 0
      },
      "text/plain": [
       "VBox(children=(Output(), RadioButtons(layout=Layout(width='max-content'), options=(('A. Expected values of eac…"
      ]
     },
     "metadata": {},
     "output_type": "display_data"
    },
    {
     "data": {
      "application/vnd.jupyter.widget-view+json": {
       "model_id": "94402e2818444e15bd08580e22b4a33e",
       "version_major": 2,
       "version_minor": 0
      },
      "text/plain": [
       "VBox(children=(Output(), RadioButtons(layout=Layout(width='max-content'), options=(('A. True', 0), ('B. False'…"
      ]
     },
     "metadata": {},
     "output_type": "display_data"
    }
   ],
   "source": [
    "if __name__ == \"__main__\":\n",
    "    display(L1P11Q1, L1P11Q2, L1P11Q3)"
   ]
  },
  {
   "cell_type": "markdown",
   "id": "daf65896-1c5e-4a53-9017-053cac6fc35b",
   "metadata": {},
   "source": [
    "## Page 14"
   ]
  },
  {
   "cell_type": "code",
   "execution_count": 11,
   "id": "efddf6c3-d45d-466f-849c-6b86d6626668",
   "metadata": {},
   "outputs": [],
   "source": [
    "L1P14Q1 = MultipleChoice('1. A correlation matrix looks at only two variables.',['A. True','B. False'],'B. False')\n",
    "L1P14Q2 = MultipleChoice(\"2. A typical Pearson's correlation is only done on continuous variables.\",['A. True','B. False'],'A. True')"
   ]
  },
  {
   "cell_type": "code",
   "execution_count": 12,
   "id": "461730cf-9d31-4e95-bf67-48904b28f02e",
   "metadata": {},
   "outputs": [
    {
     "data": {
      "application/vnd.jupyter.widget-view+json": {
       "model_id": "8e7afb11d5a44552a66a843facbe792e",
       "version_major": 2,
       "version_minor": 0
      },
      "text/plain": [
       "VBox(children=(Output(), RadioButtons(layout=Layout(width='max-content'), options=(('A. True', 0), ('B. False'…"
      ]
     },
     "metadata": {},
     "output_type": "display_data"
    },
    {
     "data": {
      "application/vnd.jupyter.widget-view+json": {
       "model_id": "697b541fc4174cc4aa6ea81252331705",
       "version_major": 2,
       "version_minor": 0
      },
      "text/plain": [
       "VBox(children=(Output(), RadioButtons(layout=Layout(width='max-content'), options=(('A. True', 0), ('B. False'…"
      ]
     },
     "metadata": {},
     "output_type": "display_data"
    }
   ],
   "source": [
    "if __name__ == \"__main__\":\n",
    "    display(L1P14Q1, L1P14Q2)"
   ]
  },
  {
   "cell_type": "markdown",
   "id": "6500d234-afdc-4ed5-ac3c-1472239bef19",
   "metadata": {},
   "source": [
    "## Lesson 2\n",
    "\n",
    "## Page 2"
   ]
  },
  {
   "cell_type": "code",
   "execution_count": 13,
   "id": "08f1e16b-281e-4422-99de-89da951de06f",
   "metadata": {},
   "outputs": [],
   "source": [
    "L2P2Q1 = MultipleChoice('1. What kind of distribution has a tail of data on the left, and the majority of the data on the right?',['A. Negatively skewed','B. Positively skewed', 'C. Negatively kurtotic', 'D. Postively kurtotic'],'A. Negatively skewed')\n",
    "L2P2Q2 = MultipleChoice('2. What kind of distribution has a tail of data on the right, and the majority of the data on the left?',['A. Negatively skewed','B. Positively skewed', 'C. Negatively kurtotic', 'D. Postively kurtotic'],'B. Positively skewed')\n",
    "L2P2Q3 = MultipleChoice('3. What kind of distribution is taller than the bell curve?',['A. Negatively skewed','B. Positively skewed', 'C. Negatively kurtotic', 'D. Postively kurtotic'],'D. Positively kurtotic')\n",
    "L2P2Q4 = MultipleChoice('4.  What kind of distribution is flatter than the bell curve?',['A. Negatively skewed','B. Positively skewed', 'C. Negatively kurtotic', 'D. Postively kurtotic'],'C. Negatively kurtotic')\n",
    "L2P2Q5 = MultipleChoice('5. Platykurtic is the term for a positively kurtotic distribution.',['A. True','B. False'],'B. False')"
   ]
  },
  {
   "cell_type": "code",
   "execution_count": 14,
   "id": "0bae0966-731f-4d6f-bb63-623f71f5aec3",
   "metadata": {},
   "outputs": [
    {
     "data": {
      "application/vnd.jupyter.widget-view+json": {
       "model_id": "1aa87646b10a406aa3dc4de184de0415",
       "version_major": 2,
       "version_minor": 0
      },
      "text/plain": [
       "VBox(children=(Output(), RadioButtons(layout=Layout(width='max-content'), options=(('A. Negatively skewed', 0)…"
      ]
     },
     "metadata": {},
     "output_type": "display_data"
    },
    {
     "data": {
      "application/vnd.jupyter.widget-view+json": {
       "model_id": "d789b86442864cf2913247f4e158f57d",
       "version_major": 2,
       "version_minor": 0
      },
      "text/plain": [
       "VBox(children=(Output(), RadioButtons(layout=Layout(width='max-content'), options=(('A. Negatively skewed', 0)…"
      ]
     },
     "metadata": {},
     "output_type": "display_data"
    },
    {
     "data": {
      "application/vnd.jupyter.widget-view+json": {
       "model_id": "a28ff566c21449d7a8241cf03638077b",
       "version_major": 2,
       "version_minor": 0
      },
      "text/plain": [
       "VBox(children=(Output(), RadioButtons(layout=Layout(width='max-content'), options=(('A. Negatively skewed', 0)…"
      ]
     },
     "metadata": {},
     "output_type": "display_data"
    },
    {
     "data": {
      "application/vnd.jupyter.widget-view+json": {
       "model_id": "01b8837790874d94a12c60d2cd2222b3",
       "version_major": 2,
       "version_minor": 0
      },
      "text/plain": [
       "VBox(children=(Output(), RadioButtons(layout=Layout(width='max-content'), options=(('A. Negatively skewed', 0)…"
      ]
     },
     "metadata": {},
     "output_type": "display_data"
    },
    {
     "data": {
      "application/vnd.jupyter.widget-view+json": {
       "model_id": "c6aa12696812429e919dfc03a48a65ca",
       "version_major": 2,
       "version_minor": 0
      },
      "text/plain": [
       "VBox(children=(Output(), RadioButtons(layout=Layout(width='max-content'), options=(('A. True', 0), ('B. False'…"
      ]
     },
     "metadata": {},
     "output_type": "display_data"
    }
   ],
   "source": [
    "if __name__ == \"__main__\":\n",
    "    display(L2P2Q1, L2P2Q2, L2P2Q3, L2P2Q4, L2P2Q5)"
   ]
  },
  {
   "cell_type": "markdown",
   "id": "982f68d8-ba4e-474e-bcb5-98e5c9bf5810",
   "metadata": {},
   "source": [
    "## Page 3"
   ]
  },
  {
   "cell_type": "code",
   "execution_count": 15,
   "id": "850dc1c3-c0f8-4699-b045-05ddc702dff8",
   "metadata": {},
   "outputs": [],
   "source": [
    "L2P3Q1 = MultipleChoice('1. If you had negatively skewed data, which transformation should you try first?',['A. Square','B. Cube', 'C. Logarithm', ' D. Reciprocal'],'A. Square')\n",
    "L2P3Q2 = MultipleChoice('2. If you had positively skewed data, which transformation should you try first?',['A. Square','B. Cube', 'C. Logarithm', ' D. Square root'],'B. Square root')\n",
    "L2P3Q3 = MultipleChoice('3. What does taking the reciprocal do?',['A. Corrects for negative skew','B. Corrects for positive skew', 'C. Reverses the direction of the data', 'D. Corrects for kurtosis'],'C. Reverses the direction of the data')"
   ]
  },
  {
   "cell_type": "code",
   "execution_count": 16,
   "id": "ab1c82c4-871f-4872-afe8-629f7446c798",
   "metadata": {},
   "outputs": [
    {
     "data": {
      "application/vnd.jupyter.widget-view+json": {
       "model_id": "a1949134982c42a5ac0dbde798ef4674",
       "version_major": 2,
       "version_minor": 0
      },
      "text/plain": [
       "VBox(children=(Output(), RadioButtons(layout=Layout(width='max-content'), options=(('A. Square', 0), ('B. Cube…"
      ]
     },
     "metadata": {},
     "output_type": "display_data"
    },
    {
     "data": {
      "application/vnd.jupyter.widget-view+json": {
       "model_id": "4a37eee4ce55422cade56ce02a9cb983",
       "version_major": 2,
       "version_minor": 0
      },
      "text/plain": [
       "VBox(children=(Output(), RadioButtons(layout=Layout(width='max-content'), options=(('A. Square', 0), ('B. Cube…"
      ]
     },
     "metadata": {},
     "output_type": "display_data"
    },
    {
     "data": {
      "application/vnd.jupyter.widget-view+json": {
       "model_id": "9eddb234f95b427396a03562acd54000",
       "version_major": 2,
       "version_minor": 0
      },
      "text/plain": [
       "VBox(children=(Output(), RadioButtons(layout=Layout(width='max-content'), options=(('A. Corrects for negative …"
      ]
     },
     "metadata": {},
     "output_type": "display_data"
    }
   ],
   "source": [
    "if __name__ == \"__main__\":\n",
    "    display(L2P3Q1, L2P3Q2, L2P3Q3)"
   ]
  },
  {
   "cell_type": "markdown",
   "id": "154e5989-8dee-46a1-bc77-d541303d4510",
   "metadata": {},
   "source": [
    "## Page 4"
   ]
  },
  {
   "cell_type": "code",
   "execution_count": 17,
   "id": "69575d3a-928a-41bb-9063-e5e7441afbba",
   "metadata": {},
   "outputs": [],
   "source": [
    "L2P4Q1 = MultipleChoice('1. What does the rcompanion library allow you to do?',['A. Add a best fit curve to your histogram','B. Use the transformTukey() function', 'C. Both A & B'],'C. Both A & B')\n",
    "L2P4Q2 = MultipleChoice('2. Can you plot infinite values?',['A. Yes','B. No'],'B. No')\n",
    "L2P4Q3 = MultipleChoice('3. What is the function to take the log of your data?',['A. sqrt()','B. log()', 'C. Just multiply the variable by itself', 'D. ^3'],'B. log()')"
   ]
  },
  {
   "cell_type": "code",
   "execution_count": 18,
   "id": "44d62e53-3974-46f6-abd5-a7fb1d6c1d70",
   "metadata": {},
   "outputs": [
    {
     "data": {
      "application/vnd.jupyter.widget-view+json": {
       "model_id": "6933eb6f5fc64ab3aea5d66b467a7176",
       "version_major": 2,
       "version_minor": 0
      },
      "text/plain": [
       "VBox(children=(Output(), RadioButtons(layout=Layout(width='max-content'), options=(('A. Add a best fit curve t…"
      ]
     },
     "metadata": {},
     "output_type": "display_data"
    },
    {
     "data": {
      "application/vnd.jupyter.widget-view+json": {
       "model_id": "071f1ab0dbb24bc182e80bb1bb8e9034",
       "version_major": 2,
       "version_minor": 0
      },
      "text/plain": [
       "VBox(children=(Output(), RadioButtons(layout=Layout(width='max-content'), options=(('A. Yes', 0), ('B. No', 1)…"
      ]
     },
     "metadata": {},
     "output_type": "display_data"
    },
    {
     "data": {
      "application/vnd.jupyter.widget-view+json": {
       "model_id": "5ee33843e1284f4e888c7e0f4653bf2a",
       "version_major": 2,
       "version_minor": 0
      },
      "text/plain": [
       "VBox(children=(Output(), RadioButtons(layout=Layout(width='max-content'), options=(('A. sqrt()', 0), ('B. log(…"
      ]
     },
     "metadata": {},
     "output_type": "display_data"
    }
   ],
   "source": [
    "if __name__ == \"__main__\":\n",
    "    display(L2P4Q1, L2P4Q2, L2P4Q3)"
   ]
  },
  {
   "cell_type": "markdown",
   "id": "f371d1f7-a98b-4e85-b988-a9791b3fbcd7",
   "metadata": {},
   "source": [
    "## Page 7"
   ]
  },
  {
   "cell_type": "code",
   "execution_count": 19,
   "id": "8c6840b7-28ff-471a-9eb8-7e06bd984c66",
   "metadata": {},
   "outputs": [],
   "source": [
    "L2P7Q1 = MultipleChoice('1. If you wanted to see a histogram with a best fit curve, which function would you use?',['A. .hist()','B. pyplot', 'C. sns.distplot()'],'C. sns.distplot()')\n",
    "L2P7Q2 = MultipleChoice('2. What is the function to take the log of your data?',['A. np.sqrt()','B. np.log()', 'C. Just multiply the variable by itself', 'D. ^3'],'B. np.log()')\n",
    "L2P7Q3 = MultipleChoice('3. What package do you need to make use of the boxcox transformations?',['A. pandas','B. numpy', 'C. scipy', 'D. sklearn'],'C. scipy')"
   ]
  },
  {
   "cell_type": "code",
   "execution_count": 20,
   "id": "d5a94751-80c0-4201-a803-112c519f93ac",
   "metadata": {},
   "outputs": [
    {
     "data": {
      "application/vnd.jupyter.widget-view+json": {
       "model_id": "06d12462c1c54ef4a742af3f439ae7f8",
       "version_major": 2,
       "version_minor": 0
      },
      "text/plain": [
       "VBox(children=(Output(), RadioButtons(layout=Layout(width='max-content'), options=(('A. .hist()', 0), ('B. pyp…"
      ]
     },
     "metadata": {},
     "output_type": "display_data"
    },
    {
     "data": {
      "application/vnd.jupyter.widget-view+json": {
       "model_id": "dcc669c097934df282ad913c20c787cb",
       "version_major": 2,
       "version_minor": 0
      },
      "text/plain": [
       "VBox(children=(Output(), RadioButtons(layout=Layout(width='max-content'), options=(('A. np.sqrt()', 0), ('B. n…"
      ]
     },
     "metadata": {},
     "output_type": "display_data"
    },
    {
     "data": {
      "application/vnd.jupyter.widget-view+json": {
       "model_id": "e3bdb2b167a9436a831375c06629685b",
       "version_major": 2,
       "version_minor": 0
      },
      "text/plain": [
       "VBox(children=(Output(), RadioButtons(layout=Layout(width='max-content'), options=(('A. pandas', 0), ('B. nump…"
      ]
     },
     "metadata": {},
     "output_type": "display_data"
    }
   ],
   "source": [
    "if __name__ == \"__main__\":\n",
    "    display(L2P7Q1, L2P7Q2, L2P7Q3)"
   ]
  },
  {
   "cell_type": "markdown",
   "id": "6ba20c20-8793-46df-8221-31451bf32cf9",
   "metadata": {},
   "source": [
    "## Lesson 3\n",
    "\n",
    "## Page 2"
   ]
  },
  {
   "cell_type": "code",
   "execution_count": 21,
   "id": "73cf6c8c-ec1e-4f60-8172-f2f9875cafe9",
   "metadata": {},
   "outputs": [],
   "source": [
    "L3P2Q1 = MultipleChoice('1. What goes in the argument n= for the prop.test() function?',['A. The proportion','B. The p value', \"C. The total number of one particular item you're interested in\", 'D. The total number of items'],'D. The total number of items')\n",
    "L3P2Q2 = MultipleChoice(\"2. Where can you find the proportion of the item in the output?\",['A. Under sample estimates','B. Under data', 'C. Under p value', 'D. Under confidence interval'],'A. Under sample estimates')"
   ]
  },
  {
   "cell_type": "code",
   "execution_count": 22,
   "id": "42b31b2f-b43a-4dd0-a289-e819acc097f5",
   "metadata": {},
   "outputs": [
    {
     "data": {
      "application/vnd.jupyter.widget-view+json": {
       "model_id": "b09296b7e8f4470296f0c816c01a9659",
       "version_major": 2,
       "version_minor": 0
      },
      "text/plain": [
       "VBox(children=(Output(), RadioButtons(layout=Layout(width='max-content'), options=(('A. The proportion', 0), (…"
      ]
     },
     "metadata": {},
     "output_type": "display_data"
    },
    {
     "data": {
      "application/vnd.jupyter.widget-view+json": {
       "model_id": "3e0a35d89080438aa867f550378a38ff",
       "version_major": 2,
       "version_minor": 0
      },
      "text/plain": [
       "VBox(children=(Output(), RadioButtons(layout=Layout(width='max-content'), options=(('A. Under sample estimates…"
      ]
     },
     "metadata": {},
     "output_type": "display_data"
    }
   ],
   "source": [
    "if __name__ == \"__main__\":\n",
    "    display(L3P2Q1, L3P2Q2)"
   ]
  },
  {
   "cell_type": "markdown",
   "id": "38720125-5436-4cb5-af7c-0c376aa81a38",
   "metadata": {},
   "source": [
    "## Page 3"
   ]
  },
  {
   "cell_type": "code",
   "execution_count": 23,
   "id": "5fc6d96b-f269-4a0c-b68a-0b42c474be74",
   "metadata": {},
   "outputs": [],
   "source": [
    "L3P3Q1 = MultipleChoice('1. If you wanted to test whether there was 80% jelly beans, what would you put for the value variable?',['A. .8','B. .5', \"C. .05\", 'D. .08'],'A. .8')\n",
    "L3P3Q2 = MultipleChoice(\"2. The number you place in the nobs variable is the total number of objects.\",['A. True','B. False'],'A. True')"
   ]
  },
  {
   "cell_type": "code",
   "execution_count": 24,
   "id": "aa074637-a23b-4657-914a-9974ffbec2e3",
   "metadata": {},
   "outputs": [
    {
     "data": {
      "application/vnd.jupyter.widget-view+json": {
       "model_id": "abd5450d5f5e4eeebe54c218e5c32aec",
       "version_major": 2,
       "version_minor": 0
      },
      "text/plain": [
       "VBox(children=(Output(), RadioButtons(layout=Layout(width='max-content'), options=(('A. .8', 0), ('B. .5', 1),…"
      ]
     },
     "metadata": {},
     "output_type": "display_data"
    },
    {
     "data": {
      "application/vnd.jupyter.widget-view+json": {
       "model_id": "77e7e017fca3417f8d45532175a2cabf",
       "version_major": 2,
       "version_minor": 0
      },
      "text/plain": [
       "VBox(children=(Output(), RadioButtons(layout=Layout(width='max-content'), options=(('A. True', 0), ('B. False'…"
      ]
     },
     "metadata": {},
     "output_type": "display_data"
    }
   ],
   "source": [
    "if __name__ == \"__main__\":\n",
    "    display(L3P3Q1, L3P3Q2)"
   ]
  },
  {
   "cell_type": "markdown",
   "id": "cbb67806-14f4-48be-a146-f7f35ff76b69",
   "metadata": {},
   "source": [
    "## Page 4"
   ]
  },
  {
   "cell_type": "code",
   "execution_count": 25,
   "id": "3906df98-b855-41e0-9b65-f088672cd958",
   "metadata": {},
   "outputs": [],
   "source": [
    "L3P4Q1 = MultipleChoice('1. If you wanted a one-tailed test to see if the proportions were greater, which option for alternative= would you choose?',['A. one-tailed','B. greater', \"C. less\", 'D. two-tailed'],'B. greater')\n",
    "L3P4Q2 = MultipleChoice(\"2. You need to feed a vector of in both your x= and n= arguments..\",['A. True','B. False'],'A. True')"
   ]
  },
  {
   "cell_type": "code",
   "execution_count": 26,
   "id": "91023b03-0f8c-491e-aeb0-e264f01128f5",
   "metadata": {},
   "outputs": [
    {
     "data": {
      "application/vnd.jupyter.widget-view+json": {
       "model_id": "c85db56cde4d49d099c1e3a60a897535",
       "version_major": 2,
       "version_minor": 0
      },
      "text/plain": [
       "VBox(children=(Output(), RadioButtons(layout=Layout(width='max-content'), options=(('A. one-tailed', 0), ('B. …"
      ]
     },
     "metadata": {},
     "output_type": "display_data"
    },
    {
     "data": {
      "application/vnd.jupyter.widget-view+json": {
       "model_id": "b3d2d90d3f9f4f97adca4bffb822d597",
       "version_major": 2,
       "version_minor": 0
      },
      "text/plain": [
       "VBox(children=(Output(), RadioButtons(layout=Layout(width='max-content'), options=(('A. True', 0), ('B. False'…"
      ]
     },
     "metadata": {},
     "output_type": "display_data"
    }
   ],
   "source": [
    "if __name__ == \"__main__\":\n",
    "    display(L3P4Q1, L3P4Q2)"
   ]
  },
  {
   "cell_type": "markdown",
   "id": "e92a6411-8cbc-4bfd-8286-b78438364ff1",
   "metadata": {},
   "source": [
    "## Page 5"
   ]
  },
  {
   "cell_type": "code",
   "execution_count": 27,
   "id": "e84b113d-5366-4592-9434-cf5fb4206c49",
   "metadata": {},
   "outputs": [],
   "source": [
    "L3P5Q1 = MultipleChoice(\"1. The same function for one proportion testing is used for two proportion testing in Python.\",['A. True','B. False'],'A. True')"
   ]
  },
  {
   "cell_type": "code",
   "execution_count": 28,
   "id": "58245bdb-2ea6-47d9-b597-296f8a007fd8",
   "metadata": {},
   "outputs": [
    {
     "data": {
      "application/vnd.jupyter.widget-view+json": {
       "model_id": "89aab777bdab4984aaccb22233ca3561",
       "version_major": 2,
       "version_minor": 0
      },
      "text/plain": [
       "VBox(children=(Output(), RadioButtons(layout=Layout(width='max-content'), options=(('A. True', 0), ('B. False'…"
      ]
     },
     "metadata": {},
     "output_type": "display_data"
    }
   ],
   "source": [
    "if __name__ == \"__main__\":\n",
    "    display(L3P5Q1)"
   ]
  },
  {
   "cell_type": "markdown",
   "id": "6fd95fc2-f369-4898-a15c-402a15239d78",
   "metadata": {},
   "source": [
    "## Page 6"
   ]
  },
  {
   "cell_type": "code",
   "execution_count": 29,
   "id": "cc7dd978-728c-4a87-b35e-8bf6bbf95402",
   "metadata": {},
   "outputs": [],
   "source": [
    "L3P6Q1 = MultipleChoice('1. Which package provides the ability to do Chi-Squares in R?',['A. chisquare','B. prop.test', \"C. tidyr\", 'D. gmodels'],'D. gmodels')\n",
    "L3P6Q2 = MultipleChoice(\"2. Which of the following will print out your expected frequencies?\",['A. expected=TRUE','B. chisq=TRUE', 'C. format=\"SPSS\"', 'D. sredid=TRUE'],'C. format=\"SPSS\"')\n",
    "L3P6Q3 = MultipleChoice(\"3. Above what cut-off is a standardized residual significant?\",['A. .2','B. 2', 'C. +- 2', 'D. +2'],'C. +- 2')"
   ]
  },
  {
   "cell_type": "code",
   "execution_count": 30,
   "id": "47a0cc04-740c-4650-9d50-e17180057542",
   "metadata": {},
   "outputs": [
    {
     "data": {
      "application/vnd.jupyter.widget-view+json": {
       "model_id": "7b7a0d293dea445dbf42584c09764c30",
       "version_major": 2,
       "version_minor": 0
      },
      "text/plain": [
       "VBox(children=(Output(), RadioButtons(layout=Layout(width='max-content'), options=(('A. chisquare', 0), ('B. p…"
      ]
     },
     "metadata": {},
     "output_type": "display_data"
    },
    {
     "data": {
      "application/vnd.jupyter.widget-view+json": {
       "model_id": "58baa65cec8242aeafcb89d386b8d08f",
       "version_major": 2,
       "version_minor": 0
      },
      "text/plain": [
       "VBox(children=(Output(), RadioButtons(layout=Layout(width='max-content'), options=(('A. expected=TRUE', 0), ('…"
      ]
     },
     "metadata": {},
     "output_type": "display_data"
    },
    {
     "data": {
      "application/vnd.jupyter.widget-view+json": {
       "model_id": "53783d6469c74a67bd4af362908a709d",
       "version_major": 2,
       "version_minor": 0
      },
      "text/plain": [
       "VBox(children=(Output(), RadioButtons(layout=Layout(width='max-content'), options=(('A. .2', 0), ('B. 2', 1), …"
      ]
     },
     "metadata": {},
     "output_type": "display_data"
    }
   ],
   "source": [
    "if __name__ == \"__main__\":\n",
    "    display(L3P6Q1, L3P6Q2, L3P6Q3)"
   ]
  },
  {
   "cell_type": "markdown",
   "id": "7ae5a2c2-964d-47f2-8bea-31e3762e9253",
   "metadata": {},
   "source": [
    "## Page 7"
   ]
  },
  {
   "cell_type": "code",
   "execution_count": 31,
   "id": "74f261cb-b2da-4087-82c6-a69026d17c2d",
   "metadata": {},
   "outputs": [],
   "source": [
    "L3P7Q1 = MultipleChoice('1. When would you use a goodness of fit Chi-Square?',['A. To compare proportions','B. To determine whether two categorical variables are related', \"C. To look at categorical variables over time\", 'D. When testing to see if a sample came from a population'],'D. When testing to see if a sample came from a population')\n",
    "L3P7Q2 = MultipleChoice('2. What is required to perform a goodness of fit Chi-Square?',['A. A dataframe','B. Expected frequencies', 'C. Observed frequencies', 'D. Observed & expected frequencies'],'D. Observed & expected frequencies')\n",
    "L3P7Q3 = MultipleChoice('3. You run a goodness of fit Chi-Square as follows:(See Above) And get a p value of .9. What is the correct interpretation of this test?',['A. The observed & expected frequencies are similar, and thus the sample probably did not come from the population','B. The observed & expected frequencies are similar, and thus the sample probably came from the population', 'C. The observed & expected frequencies are dissimilar, and thus the sample probably did not come from the population', 'D. The observed & expected frequencies are dissimilar, and thus the sample probably came from the population'],'B. The observed & expected frequencies are similar, and thus the sample probably came from the population')"
   ]
  },
  {
   "cell_type": "code",
   "execution_count": 32,
   "id": "22a337e6-6f9d-4ecc-b135-77dd8f3ec13e",
   "metadata": {},
   "outputs": [
    {
     "data": {
      "application/vnd.jupyter.widget-view+json": {
       "model_id": "c697e3d93d0e4ce2ba05d8f0c52167e6",
       "version_major": 2,
       "version_minor": 0
      },
      "text/plain": [
       "VBox(children=(Output(), RadioButtons(layout=Layout(width='max-content'), options=(('A. To compare proportions…"
      ]
     },
     "metadata": {},
     "output_type": "display_data"
    },
    {
     "data": {
      "application/vnd.jupyter.widget-view+json": {
       "model_id": "d20a5dd9446243f2b877196b24682c88",
       "version_major": 2,
       "version_minor": 0
      },
      "text/plain": [
       "VBox(children=(Output(), RadioButtons(layout=Layout(width='max-content'), options=(('A. A dataframe', 0), ('B.…"
      ]
     },
     "metadata": {},
     "output_type": "display_data"
    }
   ],
   "source": [
    "if __name__ == \"__main__\":\n",
    "    display(L3P7Q1, L3P7Q2)"
   ]
  },
  {
   "cell_type": "markdown",
   "id": "7bc20ca3-d02a-4852-be5b-94714980fd13",
   "metadata": {},
   "source": [
    "#### Question 3 goodness of fit Chi-Square info\n",
    "\n",
    "observed = c(721, 850)\n",
    "\n",
    "expected = c(0.60, 0.40)\n",
    "\n",
    "chisq.test(x = observed, p = expected)"
   ]
  },
  {
   "cell_type": "code",
   "execution_count": 33,
   "id": "3113cac0-5e17-455c-8da1-ab00c50b1ac8",
   "metadata": {},
   "outputs": [
    {
     "data": {
      "application/vnd.jupyter.widget-view+json": {
       "model_id": "fee3d208ee1c4d06bd49fee935bf98b2",
       "version_major": 2,
       "version_minor": 0
      },
      "text/plain": [
       "VBox(children=(Output(), RadioButtons(layout=Layout(width='max-content'), options=(('A. The observed & expecte…"
      ]
     },
     "metadata": {},
     "output_type": "display_data"
    }
   ],
   "source": [
    "if __name__ == \"__main__\":\n",
    "    display(L3P7Q3)"
   ]
  },
  {
   "cell_type": "markdown",
   "id": "a8e668a0-b1e6-400d-8162-8f0d2326f218",
   "metadata": {},
   "source": [
    "## Page 8"
   ]
  },
  {
   "cell_type": "code",
   "execution_count": 34,
   "id": "0a6d7dad-70b0-49f2-b772-e9684e24f157",
   "metadata": {},
   "outputs": [],
   "source": [
    "L3P8Q1 = MultipleChoice('1. How does computing a goodness of fit Chi-Square in Python differ from computing it in R?',['A. Python takes percentages for the observed values, while R takes raw values','B. Python takes raw values for the observed values, while R takes percentages', 'C. Python takes percentages for the expected values, while R takes raw values', 'D. Python takes raw alues for the expected values, while R takes percentages'],'D. Python takes raw alues for the expected values, while R takes percentages')\n",
    "L3P8Q2 = MultipleChoice('2. Would a p value of 4.7213478932-15 be significant?',['A. Yes','B. No'],'A. Yes')"
   ]
  },
  {
   "cell_type": "code",
   "execution_count": 35,
   "id": "63aabd83-a41e-46ea-a462-717736bc2f78",
   "metadata": {},
   "outputs": [
    {
     "data": {
      "application/vnd.jupyter.widget-view+json": {
       "model_id": "e2780384c3d5449ab685b0adadcba55a",
       "version_major": 2,
       "version_minor": 0
      },
      "text/plain": [
       "VBox(children=(Output(), RadioButtons(layout=Layout(width='max-content'), options=(('A. Python takes percentag…"
      ]
     },
     "metadata": {},
     "output_type": "display_data"
    },
    {
     "data": {
      "application/vnd.jupyter.widget-view+json": {
       "model_id": "bbbc0e63fd9241ea80d4f5289ff7921c",
       "version_major": 2,
       "version_minor": 0
      },
      "text/plain": [
       "VBox(children=(Output(), RadioButtons(layout=Layout(width='max-content'), options=(('A. Yes', 0), ('B. No', 1)…"
      ]
     },
     "metadata": {},
     "output_type": "display_data"
    }
   ],
   "source": [
    "if __name__ == \"__main__\":\n",
    "    display(L3P8Q1, L3P8Q2)"
   ]
  },
  {
   "cell_type": "markdown",
   "id": "0fd17a99-d0e2-45ae-8924-8f8ebe0b37cf",
   "metadata": {},
   "source": [
    "## Page 9"
   ]
  },
  {
   "cell_type": "code",
   "execution_count": 36,
   "id": "542ab104-b5de-4d24-bce2-7f0343368029",
   "metadata": {},
   "outputs": [],
   "source": [
    "L3P9Q1 = MultipleChoice('1. Which of the following is an assumption of the McNemar Chi-Square?',['A. Expected values in every cell greater than 5','B. Observed values in every cell greater than 5', 'C. Independence', 'D. Normality'],'A. Expected values in every cell greater than 5')\n",
    "L3P9Q2 = MultipleChoice(\"2. When doing a McNemar Chi-Square, you need to look at the Pearson's Chi-squared test value.\",['A. True','B. False'],'B. False')"
   ]
  },
  {
   "cell_type": "code",
   "execution_count": 37,
   "id": "10a6cb24-ae35-4b94-8374-d284e023c401",
   "metadata": {},
   "outputs": [
    {
     "data": {
      "application/vnd.jupyter.widget-view+json": {
       "model_id": "7cb321ee8dc24c77af1c8fe3087eee40",
       "version_major": 2,
       "version_minor": 0
      },
      "text/plain": [
       "VBox(children=(Output(), RadioButtons(layout=Layout(width='max-content'), options=(('A. Expected values in eve…"
      ]
     },
     "metadata": {},
     "output_type": "display_data"
    },
    {
     "data": {
      "application/vnd.jupyter.widget-view+json": {
       "model_id": "a12f592c6da94249ae38f827dba593f3",
       "version_major": 2,
       "version_minor": 0
      },
      "text/plain": [
       "VBox(children=(Output(), RadioButtons(layout=Layout(width='max-content'), options=(('A. True', 0), ('B. False'…"
      ]
     },
     "metadata": {},
     "output_type": "display_data"
    }
   ],
   "source": [
    "if __name__ == \"__main__\":\n",
    "    display(L3P9Q1, L3P9Q2)"
   ]
  },
  {
   "cell_type": "markdown",
   "id": "5fef6f46-66ac-4fec-8c44-6a904c6d9a7d",
   "metadata": {},
   "source": [
    "## Page 10"
   ]
  },
  {
   "cell_type": "code",
   "execution_count": 38,
   "id": "1c3a4283-c782-4780-816b-86ea09a2ee0a",
   "metadata": {},
   "outputs": [],
   "source": [
    "L3P10Q1 = MultipleChoice('1. If you use a greater than or less than operand, you must have numeric data in Python',['A. True','B. False'],'A. True')\n",
    "L3P10Q2 = MultipleChoice('2. The McNemar Chi-Square function in Python will take raw data.',['A. True','B. False'],'B. False')\n",
    "L3P10Q3 = MultipleChoice('3. How does Python differ from R in McNemar Chi-Square output?',['A. Python only provides standardized residuals, R does not','B. Python only provides expected frequencies, R does not', 'C. Python does not provide expected frequencies or standardized residuals, R provides both', 'D. R does not provide expected frequencies or standardized residuals, Python provides both'],'C. Python does not provide expected frequencies or standardized residuals, R provides both')"
   ]
  },
  {
   "cell_type": "code",
   "execution_count": 39,
   "id": "7adf80c9-5aef-4615-9424-fb2ef20afd8e",
   "metadata": {},
   "outputs": [
    {
     "data": {
      "application/vnd.jupyter.widget-view+json": {
       "model_id": "36702afbc52544f1b34d5572848ecc90",
       "version_major": 2,
       "version_minor": 0
      },
      "text/plain": [
       "VBox(children=(Output(), RadioButtons(layout=Layout(width='max-content'), options=(('A. True', 0), ('B. False'…"
      ]
     },
     "metadata": {},
     "output_type": "display_data"
    },
    {
     "data": {
      "application/vnd.jupyter.widget-view+json": {
       "model_id": "39d996ab8fd5427484e7a261be0dcd60",
       "version_major": 2,
       "version_minor": 0
      },
      "text/plain": [
       "VBox(children=(Output(), RadioButtons(layout=Layout(width='max-content'), options=(('A. True', 0), ('B. False'…"
      ]
     },
     "metadata": {},
     "output_type": "display_data"
    },
    {
     "data": {
      "application/vnd.jupyter.widget-view+json": {
       "model_id": "de4925fc04ac4ac79689ef9e65c31e8b",
       "version_major": 2,
       "version_minor": 0
      },
      "text/plain": [
       "VBox(children=(Output(), RadioButtons(layout=Layout(width='max-content'), options=(('A. Python only provides s…"
      ]
     },
     "metadata": {},
     "output_type": "display_data"
    }
   ],
   "source": [
    "if __name__ == \"__main__\":\n",
    "    display(L3P10Q1, L3P10Q2, L3P10Q3)"
   ]
  },
  {
   "cell_type": "markdown",
   "id": "23990a1c-4faf-4a26-a3dd-b1162dc85a69",
   "metadata": {},
   "source": [
    "## Lesson 4\n",
    "\n",
    "## Page 2"
   ]
  },
  {
   "cell_type": "code",
   "execution_count": 40,
   "id": "e33ff5ad-6fbf-4408-8ff4-ed4d275a78f6",
   "metadata": {},
   "outputs": [],
   "source": [
    "L4P2Q1 = MultipleChoice('1. What is the branch of statistics called that deals with multiple independent variables at once?',['A. Multivariate statistics','B. Intermediate statistics', 'C. Statistics', 'D. Modeling'],'A. Multivariate statistics')\n",
    "L4P2Q2 = MultipleChoice('2. What is the difference between an ANOVA and a t-test?',['A. An ANOVA can only handle two levels, t-tests can handle more','B. t-tests can handle multiple levels of an independent variable and multiple independent variables; ANOVAs cannot', 'C. An ANOVA can handle multiple levels of an independent variable and multiple independent variables; t-tests cannot', 'D. An ANOVA can only handle one independent variable; t-tests can handle more'],'C. An ANOVA can handle multiple levels of an independent variable and multiple independent variables; t-tests cannot')\n",
    "L4P2Q3 = MultipleChoice('3. What is the difference between a between subjects and a within subjects ANOVA?',['A. Between subjects looks at the same people or groups; within subjects looks at different people or groups','B. Bewteen subjects looks at different people of groups; within subjects looks at the same people or groups', 'C. Between subjects has multiple independent variables; wihtin subjects has only one', 'D. Within subjects has multiple independent variables, between subjects has only one'],'B. Bewteen subjects looks at different people of groups; within subjects looks at the same people or groups')\n",
    "L4P2Q4 = MultipleChoice('4. What is the difference between a one-way and a factorial ANOVA?',['A. One-way ANOVAs look at different people or groups; factorial ANOVAs look at the same people or groups','B. One-way ANOVAs look at the same people or groups; factorial ANOVAs look at different people or groups', 'C. One-way ANOVAs have more than one independent variable; factorial ANOVAs have only one', 'D. One-way ANOVAs only have one independent variable; factorial ANOVAs have more than one'],'D. One-way ANOVAs only have one independent variable; factorial ANOVAs have more than one')\n",
    "L4P2Q5 = MultipleChoice('5. A mixed method ANOVA combines both within and between subjects ANOVAs.',['A. True','B. False'],'A. True')"
   ]
  },
  {
   "cell_type": "code",
   "execution_count": 41,
   "id": "60b6e2fb-d26b-467b-98a1-8809535ee5e1",
   "metadata": {},
   "outputs": [
    {
     "data": {
      "application/vnd.jupyter.widget-view+json": {
       "model_id": "3196cc7ec3954871a34972a38fcd4fab",
       "version_major": 2,
       "version_minor": 0
      },
      "text/plain": [
       "VBox(children=(Output(), RadioButtons(layout=Layout(width='max-content'), options=(('A. Multivariate statistic…"
      ]
     },
     "metadata": {},
     "output_type": "display_data"
    },
    {
     "data": {
      "application/vnd.jupyter.widget-view+json": {
       "model_id": "cdb25a0ffd554255bb3282eb9035c857",
       "version_major": 2,
       "version_minor": 0
      },
      "text/plain": [
       "VBox(children=(Output(), RadioButtons(layout=Layout(width='max-content'), options=(('A. An ANOVA can only hand…"
      ]
     },
     "metadata": {},
     "output_type": "display_data"
    },
    {
     "data": {
      "application/vnd.jupyter.widget-view+json": {
       "model_id": "fc2b3354fad349aabcd96a1c52126356",
       "version_major": 2,
       "version_minor": 0
      },
      "text/plain": [
       "VBox(children=(Output(), RadioButtons(layout=Layout(width='max-content'), options=(('A. Between subjects looks…"
      ]
     },
     "metadata": {},
     "output_type": "display_data"
    },
    {
     "data": {
      "application/vnd.jupyter.widget-view+json": {
       "model_id": "5af3e7af6a25444d96c486c7a0c81ced",
       "version_major": 2,
       "version_minor": 0
      },
      "text/plain": [
       "VBox(children=(Output(), RadioButtons(layout=Layout(width='max-content'), options=(('A. One-way ANOVAs look at…"
      ]
     },
     "metadata": {},
     "output_type": "display_data"
    },
    {
     "data": {
      "application/vnd.jupyter.widget-view+json": {
       "model_id": "7c5e7e6d9ca34f709834273d211d6211",
       "version_major": 2,
       "version_minor": 0
      },
      "text/plain": [
       "VBox(children=(Output(), RadioButtons(layout=Layout(width='max-content'), options=(('A. True', 0), ('B. False'…"
      ]
     },
     "metadata": {},
     "output_type": "display_data"
    }
   ],
   "source": [
    "if __name__ == \"__main__\":\n",
    "    display(L4P2Q1, L4P2Q2, L4P2Q3, L4P2Q4, L4P2Q5)"
   ]
  },
  {
   "cell_type": "markdown",
   "id": "0667cebd-8bf8-4922-a7a8-ac3688a5897c",
   "metadata": {},
   "source": [
    "## Page 3"
   ]
  },
  {
   "cell_type": "code",
   "execution_count": 42,
   "id": "62c7d186-c8d7-4d34-ae7f-41243a634baf",
   "metadata": {},
   "outputs": [],
   "source": [
    "L4P3Q1 = MultipleChoice('1. Which of the following is NOT an assumption of ANOVA?',['A. Homogeneity of variance','B. Heterogeneity of variance', 'C. Independence', 'D. Sphericity'],'B. Heterogeneity of variance')\n",
    "L4P3Q2 = MultipleChoice('2. You want to run a factorial ANOVA with three independent variables. What sample size do you need?',['A. 20','B. 60', 'C. 40', 'D. 80'],'B. 60')\n",
    "L4P3Q3 = MultipleChoice('3. You are analyzing data about poison dart frogs, and have an independent variable about skin color, where the levels are \"red skin\", \"blue skin\", and \"green skin.\" You place frogs that have both red and green markings into both the \"red skin\" group and the \"green skin\" group. Will your ANOVA meet the assumption of independence?',['A. Yes','B. No'],'B. No')"
   ]
  },
  {
   "cell_type": "code",
   "execution_count": 43,
   "id": "8a272e6a-afdc-4bb2-916f-bd5e85d8c814",
   "metadata": {},
   "outputs": [
    {
     "data": {
      "application/vnd.jupyter.widget-view+json": {
       "model_id": "e4b0c47eb0a54571840df741713ac46d",
       "version_major": 2,
       "version_minor": 0
      },
      "text/plain": [
       "VBox(children=(Output(), RadioButtons(layout=Layout(width='max-content'), options=(('A. Homogeneity of varianc…"
      ]
     },
     "metadata": {},
     "output_type": "display_data"
    },
    {
     "data": {
      "application/vnd.jupyter.widget-view+json": {
       "model_id": "7e954df844ff4606a9cdba4da535ba43",
       "version_major": 2,
       "version_minor": 0
      },
      "text/plain": [
       "VBox(children=(Output(), RadioButtons(layout=Layout(width='max-content'), options=(('A. 20', 0), ('B. 60', 1),…"
      ]
     },
     "metadata": {},
     "output_type": "display_data"
    },
    {
     "data": {
      "application/vnd.jupyter.widget-view+json": {
       "model_id": "ddb4d969826a471cabc25c1c25aec0c0",
       "version_major": 2,
       "version_minor": 0
      },
      "text/plain": [
       "VBox(children=(Output(), RadioButtons(layout=Layout(width='max-content'), options=(('A. Yes', 0), ('B. No', 1)…"
      ]
     },
     "metadata": {},
     "output_type": "display_data"
    }
   ],
   "source": [
    "if __name__ == \"__main__\":\n",
    "    display(L4P3Q1, L4P3Q2, L4P3Q3)"
   ]
  },
  {
   "cell_type": "markdown",
   "id": "a2a05e33-87fb-4224-9fa6-43a1c95d83c0",
   "metadata": {},
   "source": [
    "## Page 4"
   ]
  },
  {
   "cell_type": "code",
   "execution_count": 44,
   "id": "a087b758-0ea7-46f7-aa08-8a17b4db2ff8",
   "metadata": {},
   "outputs": [],
   "source": [
    "L4P4Q1 = MultipleChoice('1. Which test is used to test for homogeneity of variance when your data is normally distributed?',[\"A. Bartlett's test\",\"B. Fligner's test\"],\"A. Bartlett's test\")\n",
    "L4P4Q2 = MultipleChoice('2. When testing for homogeneity of variance, to meet the assumption the p value should be less than .05.',['A. True','B. False'],'B. False')"
   ]
  },
  {
   "cell_type": "code",
   "execution_count": 45,
   "id": "5f9e46ea-0dbe-4cfc-89a8-dc958201814c",
   "metadata": {},
   "outputs": [
    {
     "data": {
      "application/vnd.jupyter.widget-view+json": {
       "model_id": "05e32a9fb28243f694158b274d8e54b1",
       "version_major": 2,
       "version_minor": 0
      },
      "text/plain": [
       "VBox(children=(Output(), RadioButtons(layout=Layout(width='max-content'), options=((\"A. Bartlett's test\", 0), …"
      ]
     },
     "metadata": {},
     "output_type": "display_data"
    },
    {
     "data": {
      "application/vnd.jupyter.widget-view+json": {
       "model_id": "3c89eb20bbc34f9f954f0182f576129e",
       "version_major": 2,
       "version_minor": 0
      },
      "text/plain": [
       "VBox(children=(Output(), RadioButtons(layout=Layout(width='max-content'), options=(('A. True', 0), ('B. False'…"
      ]
     },
     "metadata": {},
     "output_type": "display_data"
    }
   ],
   "source": [
    "if __name__ == \"__main__\":\n",
    "    display(L4P4Q1, L4P4Q2)"
   ]
  },
  {
   "cell_type": "markdown",
   "id": "33913053-c9ab-4c43-8e40-a962b2be83fa",
   "metadata": {},
   "source": [
    "## Page 5"
   ]
  },
  {
   "cell_type": "code",
   "execution_count": 46,
   "id": "ab3c1095-aa41-43b9-bfb7-02ceac26e8ab",
   "metadata": {},
   "outputs": [],
   "source": [
    "L4P5Q1 = MultipleChoice('1. For which situation is the aov() function used?',['A. When variance is equal','B. When variance is unequal'],'A. When variance is equal')\n",
    "L4P5Q2 = MultipleChoice('2. What part of the ANOVA output tells you whether the overall model is significant?',['A. Df','B. Sum sq','C. Mean sq','D. Pr(>F)'],'D. Pr(>F)')\n",
    "L4P5Q3 = MultipleChoice('3. The statistic for regression and ANOVAs is the same, but how that statistic is used differs.',['A. True','B. False'],'A. True')\n",
    "L4P5Q4 = MultipleChoice('4. What does the p.adjust= argument do in a post hoc?',['A. Corect for the assumption of homogeneity of variance','B. Correct for Type 1 error','C. Correct for Type 2 error','D. Correct for the assumption of independence'],'B. Correct for Type 1 error')\n",
    "L4P5Q5 = MultipleChoice('5. What does the pool.sd=FALSE argument do in a post hoc?',['A. Corect for the assumption of homogeneity of variance','B. Correct for Type 1 error','C. Correct for Type 2 error','D. Correct for the assumption of independence'],'A. Corect for the assumption of homogeneity of variance')\n",
    "L4P5Q6 = MultipleChoice('6. When interpreting your ANOVA, which of the following is not needed?',['A. Examination of the overall p value','B. Examination of the post hoc p values', 'C. Examination of the means', 'D. Examination of the sum of squares'],'D. Examination of the sum of squares')"
   ]
  },
  {
   "cell_type": "code",
   "execution_count": 47,
   "id": "54de7634-5f7a-4943-92e7-a1c569630af5",
   "metadata": {},
   "outputs": [
    {
     "data": {
      "application/vnd.jupyter.widget-view+json": {
       "model_id": "5d520588bd3e4f878144dfbdae836701",
       "version_major": 2,
       "version_minor": 0
      },
      "text/plain": [
       "VBox(children=(Output(), RadioButtons(layout=Layout(width='max-content'), options=(('A. When variance is equal…"
      ]
     },
     "metadata": {},
     "output_type": "display_data"
    },
    {
     "data": {
      "application/vnd.jupyter.widget-view+json": {
       "model_id": "5362d205005f423fac476d9e75ee4f87",
       "version_major": 2,
       "version_minor": 0
      },
      "text/plain": [
       "VBox(children=(Output(), RadioButtons(layout=Layout(width='max-content'), options=(('A. Df', 0), ('B. Sum sq',…"
      ]
     },
     "metadata": {},
     "output_type": "display_data"
    },
    {
     "data": {
      "application/vnd.jupyter.widget-view+json": {
       "model_id": "24ded99812944e4685e217990b0a96a3",
       "version_major": 2,
       "version_minor": 0
      },
      "text/plain": [
       "VBox(children=(Output(), RadioButtons(layout=Layout(width='max-content'), options=(('A. True', 0), ('B. False'…"
      ]
     },
     "metadata": {},
     "output_type": "display_data"
    },
    {
     "data": {
      "application/vnd.jupyter.widget-view+json": {
       "model_id": "b6cdf82ca2a44a39bb8a5b351797cefa",
       "version_major": 2,
       "version_minor": 0
      },
      "text/plain": [
       "VBox(children=(Output(), RadioButtons(layout=Layout(width='max-content'), options=(('A. Corect for the assumpt…"
      ]
     },
     "metadata": {},
     "output_type": "display_data"
    },
    {
     "data": {
      "application/vnd.jupyter.widget-view+json": {
       "model_id": "5d993aba4d2845febc5b62948f9a2164",
       "version_major": 2,
       "version_minor": 0
      },
      "text/plain": [
       "VBox(children=(Output(), RadioButtons(layout=Layout(width='max-content'), options=(('A. Corect for the assumpt…"
      ]
     },
     "metadata": {},
     "output_type": "display_data"
    },
    {
     "data": {
      "application/vnd.jupyter.widget-view+json": {
       "model_id": "23bb8564817b49c0a5442a23584adb63",
       "version_major": 2,
       "version_minor": 0
      },
      "text/plain": [
       "VBox(children=(Output(), RadioButtons(layout=Layout(width='max-content'), options=(('A. Examination of the ove…"
      ]
     },
     "metadata": {},
     "output_type": "display_data"
    }
   ],
   "source": [
    "if __name__ == \"__main__\":\n",
    "    display(L4P5Q1, L4P5Q2, L4P5Q3, L4P5Q4, L4P5Q5, L4P5Q6)"
   ]
  },
  {
   "cell_type": "markdown",
   "id": "1aada971-0682-432c-8933-a1a00b0f0ebe",
   "metadata": {},
   "source": [
    "## Page 8"
   ]
  },
  {
   "cell_type": "code",
   "execution_count": 48,
   "id": "b3bf7721-7271-4bc6-a6dc-ec248374eb85",
   "metadata": {},
   "outputs": [],
   "source": [
    "L4P8Q1 = MultipleChoice('1. To test assumptions and run post-hocs in Python, what steps will you need to take?',[\"A. Only keep the levels of the independent variable you're testing\",'B. Only keep the two variables in your ANOVA','C. Ensure your DV is an integer','D. Recode your IV to be numeric','E. All of the above'],'E. All of the above')\n",
    "L4P8Q2 = MultipleChoice('2. You can correct for violating the assumption of homogeneity of variance in Python.',['A. True','B. False'],'B. False')"
   ]
  },
  {
   "cell_type": "code",
   "execution_count": 49,
   "id": "e2d2bc8c-abe0-4fd9-b19b-bcbc1a2d228b",
   "metadata": {},
   "outputs": [
    {
     "data": {
      "application/vnd.jupyter.widget-view+json": {
       "model_id": "14540eb0d482413d861b7bf5e5a9290f",
       "version_major": 2,
       "version_minor": 0
      },
      "text/plain": [
       "VBox(children=(Output(), RadioButtons(layout=Layout(width='max-content'), options=((\"A. Only keep the levels o…"
      ]
     },
     "metadata": {},
     "output_type": "display_data"
    },
    {
     "data": {
      "application/vnd.jupyter.widget-view+json": {
       "model_id": "291671b297124623bb172c5180d00a44",
       "version_major": 2,
       "version_minor": 0
      },
      "text/plain": [
       "VBox(children=(Output(), RadioButtons(layout=Layout(width='max-content'), options=(('A. True', 0), ('B. False'…"
      ]
     },
     "metadata": {},
     "output_type": "display_data"
    }
   ],
   "source": [
    "if __name__ == \"__main__\":\n",
    "    display(L4P8Q1, L4P8Q2)"
   ]
  },
  {
   "cell_type": "markdown",
   "id": "ce9f3538-f1db-4a5a-9d9a-8ef25f80eb12",
   "metadata": {},
   "source": [
    "## Page 9"
   ]
  },
  {
   "cell_type": "code",
   "execution_count": 50,
   "id": "24febd23-f925-4f63-ad08-be05ce62bfb9",
   "metadata": {},
   "outputs": [],
   "source": [
    "L4P9Q1 = MultipleChoice('1. Which of the following will give you a basic one way ANOVA in Python?',['A. posthoc.tukeyhsd()','B. MultiComparison()','C. stats.f_oneway()','D. .groupby()'],'C. stats.f_oneway()')\n",
    "L4P9Q2 = MultipleChoice('2. Can you address a violation of the assumption of homogeneity of variance in Python?',['A. Yes','B. No'],'B. No')"
   ]
  },
  {
   "cell_type": "code",
   "execution_count": 51,
   "id": "15d42c64-8898-478b-9a40-579a160e06bd",
   "metadata": {},
   "outputs": [
    {
     "data": {
      "application/vnd.jupyter.widget-view+json": {
       "model_id": "4caeb9e24bd1494692b86d125afa51b5",
       "version_major": 2,
       "version_minor": 0
      },
      "text/plain": [
       "VBox(children=(Output(), RadioButtons(layout=Layout(width='max-content'), options=(('A. posthoc.tukeyhsd()', 0…"
      ]
     },
     "metadata": {},
     "output_type": "display_data"
    },
    {
     "data": {
      "application/vnd.jupyter.widget-view+json": {
       "model_id": "e49268a43d2045f393b6bfdd2346ef24",
       "version_major": 2,
       "version_minor": 0
      },
      "text/plain": [
       "VBox(children=(Output(), RadioButtons(layout=Layout(width='max-content'), options=(('A. Yes', 0), ('B. No', 1)…"
      ]
     },
     "metadata": {},
     "output_type": "display_data"
    }
   ],
   "source": [
    "if __name__ == \"__main__\":\n",
    "    display(L4P9Q1, L4P9Q2)"
   ]
  },
  {
   "cell_type": "markdown",
   "id": "5fa39846-af97-4b68-b741-7bdc3ebcaa61",
   "metadata": {},
   "source": [
    "## Lesson 5\n",
    "\n",
    "## Page 2"
   ]
  },
  {
   "cell_type": "code",
   "execution_count": 52,
   "id": "0c596943-dd75-41dc-bbfb-9568443b1739",
   "metadata": {},
   "outputs": [],
   "source": [
    "L5P2Q1 = MultipleChoice('1. Which data format is required for repeated measures ANOVAs in R?',['A. Long','B. Wide'],'A. Long')\n",
    "L5P2Q2 = MultipleChoice('2. The assumptions for one-way ANOVAs and repeated measures ANOVAs are the same.',['A. True','B. False'],'B. False')"
   ]
  },
  {
   "cell_type": "code",
   "execution_count": 53,
   "id": "31e1df7c-3cb4-432a-9a90-5595664c5842",
   "metadata": {},
   "outputs": [
    {
     "data": {
      "application/vnd.jupyter.widget-view+json": {
       "model_id": "397d3c57cedc4e7caa7b71e8bf4d9b8b",
       "version_major": 2,
       "version_minor": 0
      },
      "text/plain": [
       "VBox(children=(Output(), RadioButtons(layout=Layout(width='max-content'), options=(('A. Long', 0), ('B. Wide',…"
      ]
     },
     "metadata": {},
     "output_type": "display_data"
    },
    {
     "data": {
      "application/vnd.jupyter.widget-view+json": {
       "model_id": "9f4a7adf0a274b439d68435a75383cbb",
       "version_major": 2,
       "version_minor": 0
      },
      "text/plain": [
       "VBox(children=(Output(), RadioButtons(layout=Layout(width='max-content'), options=(('A. True', 0), ('B. False'…"
      ]
     },
     "metadata": {},
     "output_type": "display_data"
    }
   ],
   "source": [
    "if __name__ == \"__main__\":\n",
    "    display(L5P2Q1, L5P2Q2)"
   ]
  },
  {
   "cell_type": "markdown",
   "id": "f0d0fb5d-250e-4853-9bf6-9ad3438300be",
   "metadata": {},
   "source": [
    "## Page 3"
   ]
  },
  {
   "cell_type": "code",
   "execution_count": 54,
   "id": "168dac41-bdbd-4dbd-8d6e-65b33aacc23a",
   "metadata": {},
   "outputs": [],
   "source": [
    "L5P3Q1 = MultipleChoice('1. What part of the code when running an ANOVA indicates that it is repeated measures?',['A. aov()','B. ~','C. summary()','D. Error()'],'D. Error()')\n",
    "L5P3Q2 = MultipleChoice('2. You see a line in your repeated measures ANOVA output that starts with Group:contrasts. What type of effect is that?',['A. Significant effect','B. Interaction effect','C. One way effect of time','D. One way effect of group'],'B. Interaction effect')"
   ]
  },
  {
   "cell_type": "code",
   "execution_count": 55,
   "id": "b0cb8401-74ce-4c46-b6e1-9d189ef47d3b",
   "metadata": {},
   "outputs": [
    {
     "data": {
      "application/vnd.jupyter.widget-view+json": {
       "model_id": "9995ddde1be64d3f867c3c36821111a4",
       "version_major": 2,
       "version_minor": 0
      },
      "text/plain": [
       "VBox(children=(Output(), RadioButtons(layout=Layout(width='max-content'), options=(('A. aov()', 0), ('B. ~', 1…"
      ]
     },
     "metadata": {},
     "output_type": "display_data"
    },
    {
     "data": {
      "application/vnd.jupyter.widget-view+json": {
       "model_id": "344fad3864d84aae8ef867b9a76dfdd3",
       "version_major": 2,
       "version_minor": 0
      },
      "text/plain": [
       "VBox(children=(Output(), RadioButtons(layout=Layout(width='max-content'), options=(('A. Significant effect', 0…"
      ]
     },
     "metadata": {},
     "output_type": "display_data"
    }
   ],
   "source": [
    "if __name__ == \"__main__\":\n",
    "    display(L5P3Q1, L5P3Q2)"
   ]
  },
  {
   "cell_type": "markdown",
   "id": "b11f5104-9379-42eb-9260-837991e741bd",
   "metadata": {},
   "source": [
    "## Lesson 6\n",
    "\n",
    "## Page 2"
   ]
  },
  {
   "cell_type": "code",
   "execution_count": 56,
   "id": "48dd51bf-1ceb-44d5-a667-fa54b523081f",
   "metadata": {},
   "outputs": [],
   "source": [
    "L6P2Q1 = MultipleChoice('1. How does a mixed measures ANOVA differ from a repeated measures ANOVA?',['A. Mixed measures has a wihtin and a bewteen subjects factor, repeated measures only has a within subjects factor','B. Mized measures had only a wihtin subjects factor, repeated measures has a wihtin and between subjects factor','C. Mixed measures has a factor of time, repeated measures does not','D. Repeated measures has a factor of time, mixed measures does not'],'A. Mixed measures has a wihtin and a bewteen subjects factor, repeated measures only has a within subjects factor')"
   ]
  },
  {
   "cell_type": "code",
   "execution_count": 57,
   "id": "7f61bcd6-6850-43f6-93d7-93fa9b426831",
   "metadata": {},
   "outputs": [
    {
     "data": {
      "application/vnd.jupyter.widget-view+json": {
       "model_id": "36ba601c3925469caed6c23ec4defabb",
       "version_major": 2,
       "version_minor": 0
      },
      "text/plain": [
       "VBox(children=(Output(), RadioButtons(layout=Layout(width='max-content'), options=(('A. Mixed measures has a w…"
      ]
     },
     "metadata": {},
     "output_type": "display_data"
    }
   ],
   "source": [
    "if __name__ == \"__main__\":\n",
    "    display(L6P2Q1)"
   ]
  },
  {
   "cell_type": "markdown",
   "id": "c724b0be-8382-4560-876a-31051abdc4da",
   "metadata": {},
   "source": [
    "## Page 3"
   ]
  },
  {
   "cell_type": "code",
   "execution_count": 58,
   "id": "2cc3ad74-689f-48c6-b84d-36971217fa80",
   "metadata": {},
   "outputs": [],
   "source": [
    "L6P3Q1 = MultipleChoice('1. You see a line in your repeated measures ANOVA output that starts with Group:contrasts. What type of effect is that?',['A. Significant effect','B. Interaction effect','C. One way effect of time','D. One way effect of group'],'B. Interaction effect')"
   ]
  },
  {
   "cell_type": "code",
   "execution_count": 59,
   "id": "12ed78d4-736e-497e-873b-56fd58818e97",
   "metadata": {},
   "outputs": [
    {
     "data": {
      "application/vnd.jupyter.widget-view+json": {
       "model_id": "d7e966572e094679981e47f2b00d57e5",
       "version_major": 2,
       "version_minor": 0
      },
      "text/plain": [
       "VBox(children=(Output(), RadioButtons(layout=Layout(width='max-content'), options=(('A. Significant effect', 0…"
      ]
     },
     "metadata": {},
     "output_type": "display_data"
    }
   ],
   "source": [
    "if __name__ == \"__main__\":\n",
    "    display(L6P3Q1)"
   ]
  },
  {
   "cell_type": "markdown",
   "id": "6d1aa4a0-95e8-4a2e-9374-358dcd31fbdd",
   "metadata": {},
   "source": [
    "## Lesson 7\n",
    "\n",
    "## Page 2"
   ]
  },
  {
   "cell_type": "code",
   "execution_count": 60,
   "id": "a786f80d-e033-49f3-85eb-c5dd12c27813",
   "metadata": {},
   "outputs": [],
   "source": [
    "L7P2Q1 = MultipleChoice('1. Analyses of covariance are very similar to ANOVAs.',['A. True','B. False'],'A. True')\n",
    "L7P2Q2 = MultipleChoice('2. What is a covariate meant to do?',['A. Look at change over time','B. Be another factor in your ANOVA','C. Control for natural effects','D. Determine between subjects effects'],'C. Control for natural effects')\n",
    "L7P2Q3 = MultipleChoice('3. Can you use categorical covariates?',['A. Yes, but they need to be dummy coded','B. Yes','C. No'],'A. Yes, but they need to be dummy coded')"
   ]
  },
  {
   "cell_type": "code",
   "execution_count": 61,
   "id": "9588155b-f378-46b3-8ec5-f21113ae1cef",
   "metadata": {},
   "outputs": [
    {
     "data": {
      "application/vnd.jupyter.widget-view+json": {
       "model_id": "72bc922a0e6849a68c7a81508b66b29d",
       "version_major": 2,
       "version_minor": 0
      },
      "text/plain": [
       "VBox(children=(Output(), RadioButtons(layout=Layout(width='max-content'), options=(('A. True', 0), ('B. False'…"
      ]
     },
     "metadata": {},
     "output_type": "display_data"
    },
    {
     "data": {
      "application/vnd.jupyter.widget-view+json": {
       "model_id": "238cb00018804711bd90034d51084825",
       "version_major": 2,
       "version_minor": 0
      },
      "text/plain": [
       "VBox(children=(Output(), RadioButtons(layout=Layout(width='max-content'), options=(('A. Look at change over ti…"
      ]
     },
     "metadata": {},
     "output_type": "display_data"
    },
    {
     "data": {
      "application/vnd.jupyter.widget-view+json": {
       "model_id": "c9788cdada0140e29b788d5757453833",
       "version_major": 2,
       "version_minor": 0
      },
      "text/plain": [
       "VBox(children=(Output(), RadioButtons(layout=Layout(width='max-content'), options=(('A. Yes, but they need to …"
      ]
     },
     "metadata": {},
     "output_type": "display_data"
    }
   ],
   "source": [
    "if __name__ == \"__main__\":\n",
    "    display(L7P2Q1, L7P2Q2, L7P2Q3)"
   ]
  },
  {
   "cell_type": "markdown",
   "id": "8c7942d9-d401-445c-85d8-d9c7acdc82f9",
   "metadata": {},
   "source": [
    "## Page 3"
   ]
  },
  {
   "cell_type": "code",
   "execution_count": 62,
   "id": "d0c765b2-0830-46fb-a36e-afc3e4d646c0",
   "metadata": {},
   "outputs": [],
   "source": [
    "L7P3Q1 = MultipleChoice('1. All categorical variables need to be factors in R to complete all the necessary steps of ANCOVAs.',['A. True','B. False'],'A. True')\n",
    "L7P3Q2 = MultipleChoice('2. What does the assumption of homogeneity of regression slopes test for?',['A. Whether the IVs are related','B. Whether the IV and the DV are related','C. Whether the covariate and the DV are related','D. Whether the covariate and the IV are related'],'C. Whether the covariate and the DV are related')\n",
    "L7P3Q3 = MultipleChoice('3. If you violate the assumption of homogeneity of regression slopes, what should you do?',['A. Panic','B. Use the CV as an additional IV in your ANOVA model instead','C. Use the IV as an additional CV in your ANOVA model instead','D. Do not conduct any tests in the family of ANOVAs'],'B. Use the CV as an additional IV in your ANOVA model instead')\n",
    "L7P3Q4 = MultipleChoice('4. Jenny decides to create an ANCOVA model holding gender and age constant that looks at the influence of horses on happiness levels for an equine therapy trial. What is the minimum sample size she needs, per the assumptions of ANCOVA?',['A. 20','B. 40','C. 60','D. 80'],'C. 60')"
   ]
  },
  {
   "cell_type": "code",
   "execution_count": 63,
   "id": "852234fa-66f3-4b96-97a8-be6895f7437c",
   "metadata": {},
   "outputs": [
    {
     "data": {
      "application/vnd.jupyter.widget-view+json": {
       "model_id": "2737dc3ca53146fe855113c32a4a50ef",
       "version_major": 2,
       "version_minor": 0
      },
      "text/plain": [
       "VBox(children=(Output(), RadioButtons(layout=Layout(width='max-content'), options=(('A. True', 0), ('B. False'…"
      ]
     },
     "metadata": {},
     "output_type": "display_data"
    },
    {
     "data": {
      "application/vnd.jupyter.widget-view+json": {
       "model_id": "4e5aa68c82b74a02bba6122d694a60ff",
       "version_major": 2,
       "version_minor": 0
      },
      "text/plain": [
       "VBox(children=(Output(), RadioButtons(layout=Layout(width='max-content'), options=(('A. Whether the IVs are re…"
      ]
     },
     "metadata": {},
     "output_type": "display_data"
    },
    {
     "data": {
      "application/vnd.jupyter.widget-view+json": {
       "model_id": "ff34cf4eb8d04ce1a4e90f222b2ec64c",
       "version_major": 2,
       "version_minor": 0
      },
      "text/plain": [
       "VBox(children=(Output(), RadioButtons(layout=Layout(width='max-content'), options=(('A. Panic', 0), ('B. Use t…"
      ]
     },
     "metadata": {},
     "output_type": "display_data"
    },
    {
     "data": {
      "application/vnd.jupyter.widget-view+json": {
       "model_id": "33507f9606b54ed580c383bc0a45a11f",
       "version_major": 2,
       "version_minor": 0
      },
      "text/plain": [
       "VBox(children=(Output(), RadioButtons(layout=Layout(width='max-content'), options=(('A. 20', 0), ('B. 40', 1),…"
      ]
     },
     "metadata": {},
     "output_type": "display_data"
    }
   ],
   "source": [
    "if __name__ == \"__main__\":\n",
    "    display(L7P3Q1, L7P3Q2, L7P3Q3, L7P3Q4)"
   ]
  },
  {
   "cell_type": "markdown",
   "id": "3ba84f1c-eb86-4392-aa9e-080f4b43157e",
   "metadata": {},
   "source": [
    "## Page 4"
   ]
  },
  {
   "cell_type": "code",
   "execution_count": 64,
   "id": "cef134a9-fb03-4a01-b0cc-6557ff5d9776",
   "metadata": {},
   "outputs": [],
   "source": [
    "L7P4Q1 = MultipleChoice('1. In the above model, which variable is guaranteed to be a covariate?',['A. Gender','B. Age','C. MooseDroppings','D. Diet'],'A. Gender')\n",
    "L7P4Q2 = MultipleChoice('2. Which sign looks at an interaction between variables in an ANOVA-family model?',['A. ~','B. +','C. *','D. ='],'C. *')\n",
    "L7P4Q3 = MultipleChoice('3. If you have an interaction effect, which type= specification is required if the assumption of homogeneity of variance has been violated?',['A. Type 1','B. Type 2','C. Type 3'],'A. Type 1')\n",
    "L7P4Q4 = MultipleChoice('4. It is important to look at adjusted means when using ANCOVAS.',['A. True','B. False'],'A. True')"
   ]
  },
  {
   "cell_type": "markdown",
   "id": "1eda0059-fcc8-434e-b4cc-7fff6873caa0",
   "metadata": {},
   "source": [
    "#### Question 1 info\n",
    "\n",
    "ANCOVA = lm(MooseDroppings~Gender + Age + Diet*Gender + Diet*Age, data=MoosePoop)"
   ]
  },
  {
   "cell_type": "code",
   "execution_count": 65,
   "id": "821040a5-4ed9-47f3-9abb-450f20d5a519",
   "metadata": {},
   "outputs": [
    {
     "data": {
      "application/vnd.jupyter.widget-view+json": {
       "model_id": "43db1e8cbac14d82afa68eccd52d9cab",
       "version_major": 2,
       "version_minor": 0
      },
      "text/plain": [
       "VBox(children=(Output(), RadioButtons(layout=Layout(width='max-content'), options=(('A. Gender', 0), ('B. Age'…"
      ]
     },
     "metadata": {},
     "output_type": "display_data"
    }
   ],
   "source": [
    "if __name__ == \"__main__\":\n",
    "    display(L7P4Q1)"
   ]
  },
  {
   "cell_type": "code",
   "execution_count": 66,
   "id": "3a859d0c-89ce-49ae-b422-771dec7e6b05",
   "metadata": {},
   "outputs": [
    {
     "data": {
      "application/vnd.jupyter.widget-view+json": {
       "model_id": "a7e9d29d71c0459da8771d12a5be1099",
       "version_major": 2,
       "version_minor": 0
      },
      "text/plain": [
       "VBox(children=(Output(), RadioButtons(layout=Layout(width='max-content'), options=(('A. ~', 0), ('B. +', 1), (…"
      ]
     },
     "metadata": {},
     "output_type": "display_data"
    },
    {
     "data": {
      "application/vnd.jupyter.widget-view+json": {
       "model_id": "8ad5548b09594d7d8f282c4fbbe41859",
       "version_major": 2,
       "version_minor": 0
      },
      "text/plain": [
       "VBox(children=(Output(), RadioButtons(layout=Layout(width='max-content'), options=(('A. Type 1', 0), ('B. Type…"
      ]
     },
     "metadata": {},
     "output_type": "display_data"
    },
    {
     "data": {
      "application/vnd.jupyter.widget-view+json": {
       "model_id": "d0a4a0d4bf024a1d8999a13df9bec23c",
       "version_major": 2,
       "version_minor": 0
      },
      "text/plain": [
       "VBox(children=(Output(), RadioButtons(layout=Layout(width='max-content'), options=(('A. True', 0), ('B. False'…"
      ]
     },
     "metadata": {},
     "output_type": "display_data"
    }
   ],
   "source": [
    "if __name__ == \"__main__\":\n",
    "    display(L7P4Q2, L7P4Q3, L7P4Q4)"
   ]
  },
  {
   "cell_type": "markdown",
   "id": "133af83f-90b7-476a-a1bd-2cef00ffcc03",
   "metadata": {},
   "source": [
    "## Lesson 8\n",
    "\n",
    "## Page 2"
   ]
  },
  {
   "cell_type": "code",
   "execution_count": 67,
   "id": "46bc7362-4a78-45f0-93b4-e1758e84981a",
   "metadata": {},
   "outputs": [],
   "source": [
    "L8P2Q1 = MultipleChoice('1. What is the primary way in which ANOVAs differ from MANOVAs?',['A. ANOVAs have only one dependent variable, MANOVAs have multiple','B. ANOVAs have multiple dependent variables, MANOVAs have just one','C. ANOVAs have only one independent variable, MANOVAs have multiple','D. ANOVAs have multiple independent variables, MANOVAs have just one'],'A. ANOVAs have only one dependent variable, MANOVAs have multiple')\n",
    "L8P2Q2 = MultipleChoice('2. Which of the following is NOT a reason to use one MANOVA instead of multiple ANOVAs?',['A. Reduces type 1 error rate','B. Reduces type 2 error rate','C. Increased power to detect effects','D. Saves time and coding'],'B. Reduces type 2 error rate')\n",
    "L8P2Q3 = MultipleChoice('3. Any variation of ANOVAs can be applied to MANOVAs as well.',['A. True','B. False'],'B. True')"
   ]
  },
  {
   "cell_type": "code",
   "execution_count": 68,
   "id": "01d21956-1b6b-40d4-b5a5-625fefc3dc5c",
   "metadata": {},
   "outputs": [
    {
     "data": {
      "application/vnd.jupyter.widget-view+json": {
       "model_id": "4ac3b63d27874ce999a245983cc38028",
       "version_major": 2,
       "version_minor": 0
      },
      "text/plain": [
       "VBox(children=(Output(), RadioButtons(layout=Layout(width='max-content'), options=(('A. ANOVAs have only one d…"
      ]
     },
     "metadata": {},
     "output_type": "display_data"
    },
    {
     "data": {
      "application/vnd.jupyter.widget-view+json": {
       "model_id": "3bf37382f2a846eda4f922cbe28ec64f",
       "version_major": 2,
       "version_minor": 0
      },
      "text/plain": [
       "VBox(children=(Output(), RadioButtons(layout=Layout(width='max-content'), options=(('A. Reduces type 1 error r…"
      ]
     },
     "metadata": {},
     "output_type": "display_data"
    },
    {
     "data": {
      "application/vnd.jupyter.widget-view+json": {
       "model_id": "fe3a4186d8934aaf96f39996c2c9f507",
       "version_major": 2,
       "version_minor": 0
      },
      "text/plain": [
       "VBox(children=(Output(), RadioButtons(layout=Layout(width='max-content'), options=(('A. True', 0), ('B. False'…"
      ]
     },
     "metadata": {},
     "output_type": "display_data"
    }
   ],
   "source": [
    "if __name__ == \"__main__\":\n",
    "    display(L8P2Q1, L8P2Q2, L8P2Q3)"
   ]
  },
  {
   "cell_type": "markdown",
   "id": "3f8e847e-a217-4433-9d0c-b849cff10a4f",
   "metadata": {},
   "source": [
    "## Page 3"
   ]
  },
  {
   "cell_type": "code",
   "execution_count": 69,
   "id": "0d53cc4a-bd39-4bd5-b70e-855382fb4289",
   "metadata": {},
   "outputs": [],
   "source": [
    "L8P3Q1 = MultipleChoice('1. Which of the following is not required to perform the Wilks-Shapiro test of multivariate normality?',['A. Data stored in a matrix','B. Numeric data','C. 5000 or fewer cases','D. Data stored in a data frame'],'D. Data stored in a data frame')\n",
    "L8P3Q2 = MultipleChoice(\"2. If you had 5 dependent variables, how many times would you need to run Levene's Test of homogeneity of variance?\",['A. 1','B. 5','C. 7','D. 3'],'B. 5')\n",
    "L8P3Q3 = MultipleChoice('3. How do you test for the absence of multicollinearity?',['A. Determine the correlation between independent variables','B. Determine the correlation between dependent variables','C. Determine the correlation between all variables in your model','D. Use the Wilks-Shapiro test'],'B. Determine the correlation between dependent variables')"
   ]
  },
  {
   "cell_type": "code",
   "execution_count": 70,
   "id": "55f3bf8d-1b81-45c0-9f8f-dd87198c34d5",
   "metadata": {},
   "outputs": [
    {
     "data": {
      "application/vnd.jupyter.widget-view+json": {
       "model_id": "1026778fc22245a8a258dee0314312b9",
       "version_major": 2,
       "version_minor": 0
      },
      "text/plain": [
       "VBox(children=(Output(), RadioButtons(layout=Layout(width='max-content'), options=(('A. Data stored in a matri…"
      ]
     },
     "metadata": {},
     "output_type": "display_data"
    },
    {
     "data": {
      "application/vnd.jupyter.widget-view+json": {
       "model_id": "6c98b05e1ca748c187267e6245a015ec",
       "version_major": 2,
       "version_minor": 0
      },
      "text/plain": [
       "VBox(children=(Output(), RadioButtons(layout=Layout(width='max-content'), options=(('A. 1', 0), ('B. 5', 1), (…"
      ]
     },
     "metadata": {},
     "output_type": "display_data"
    },
    {
     "data": {
      "application/vnd.jupyter.widget-view+json": {
       "model_id": "cf403248658a4342ae477932cdbe56a4",
       "version_major": 2,
       "version_minor": 0
      },
      "text/plain": [
       "VBox(children=(Output(), RadioButtons(layout=Layout(width='max-content'), options=(('A. Determine the correlat…"
      ]
     },
     "metadata": {},
     "output_type": "display_data"
    }
   ],
   "source": [
    "if __name__ == \"__main__\":\n",
    "    display(L8P3Q1, L8P3Q2, L8P3Q3)"
   ]
  },
  {
   "cell_type": "markdown",
   "id": "26956f54-0b68-4c9e-92d8-150dd63c6543",
   "metadata": {},
   "source": [
    "## Page 4"
   ]
  },
  {
   "cell_type": "code",
   "execution_count": 71,
   "id": "3813fc8f-cd35-4455-877e-ab4d2c22de38",
   "metadata": {},
   "outputs": [],
   "source": [
    "L8P4Q1 = MultipleChoice('1. What does the function cbind() do?',['A. Perform a post hoc on the dependent variables','B. Perform a post hoc on the independent variables','C. Stick your dependent variables together','D. Stick your independent variables together'],'C. Stick your dependent variables together')\n",
    "L8P4Q2 = MultipleChoice('2. What is the appropriate post hoc for a MANOVA?',['A. ANOVAs','B. Pairwise t-tests','C. Chi-Squares'],'A. ANOVAs')"
   ]
  },
  {
   "cell_type": "code",
   "execution_count": 72,
   "id": "f3ef1b21-4bce-42f1-a367-61c79ee5486f",
   "metadata": {},
   "outputs": [
    {
     "data": {
      "application/vnd.jupyter.widget-view+json": {
       "model_id": "29b1b6a422da49c2830d7a6d2ce5580e",
       "version_major": 2,
       "version_minor": 0
      },
      "text/plain": [
       "VBox(children=(Output(), RadioButtons(layout=Layout(width='max-content'), options=(('A. Perform a post hoc on …"
      ]
     },
     "metadata": {},
     "output_type": "display_data"
    },
    {
     "data": {
      "application/vnd.jupyter.widget-view+json": {
       "model_id": "721efee2b4234fa5b947467ee35f44fa",
       "version_major": 2,
       "version_minor": 0
      },
      "text/plain": [
       "VBox(children=(Output(), RadioButtons(layout=Layout(width='max-content'), options=(('A. ANOVAs', 0), ('B. Pair…"
      ]
     },
     "metadata": {},
     "output_type": "display_data"
    }
   ],
   "source": [
    "if __name__ == \"__main__\":\n",
    "    display(L8P4Q1, L8P4Q2)"
   ]
  },
  {
   "cell_type": "markdown",
   "id": "0b61f12c-1344-451d-ac29-68275cc99ba7",
   "metadata": {},
   "source": [
    "## Lesson 9\n",
    "\n",
    "## Page 2"
   ]
  },
  {
   "cell_type": "code",
   "execution_count": 73,
   "id": "ced50c4e-7878-4a7c-913e-eb41bf21335f",
   "metadata": {},
   "outputs": [],
   "source": [
    "L9P2Q1 = MultipleChoice('1. Of which type of error is this statement above an example?',['A. Type 1 error','B. Type 2 error'],'A. Type 1 error')\n",
    "L9P2Q2 = MultipleChoice('2. Of which type of error is this statement above an example?',['A. Type 1 error','B. Type 2 error'],'B. Type 2 error')\n",
    "L9P2Q3 = MultipleChoice('3. Which of the following statements about power is INCORRECT?',['A. Power is great with a one-tailed test','B. As the standard deviation gets bigger, power gets smaller','C. As the sample size gets smaller, power gets larger','D. As the sample size gets bigger, power gets larger'],'C. As the sample size gets smaller, power gets larger')\n",
    "L9P2Q4 = MultipleChoice('4. If you want to examine power ahead of time, which type of power should you use?',['A. A priori','B. post hoc'],'A. A priori')\n",
    "L9P2Q5 = MultipleChoice('5. What is the typical value for power?',['A. .05','B. .08','C. .2','D. .8'],'D. .8')"
   ]
  },
  {
   "cell_type": "markdown",
   "id": "add169d1-f3dc-47d0-b642-f04440f63b75",
   "metadata": {},
   "source": [
    "#### Question 1 info\n",
    "\n",
    "You are looking at some ice cream sales data and report that mint chocolate chip is selling better than cookie dough, but in reality, they are selling at the same rate."
   ]
  },
  {
   "cell_type": "code",
   "execution_count": 74,
   "id": "c3997735-97cf-43a8-8374-0aebf81edc40",
   "metadata": {},
   "outputs": [
    {
     "data": {
      "application/vnd.jupyter.widget-view+json": {
       "model_id": "c1824a73515749b5bcab41badf4858a3",
       "version_major": 2,
       "version_minor": 0
      },
      "text/plain": [
       "VBox(children=(Output(), RadioButtons(layout=Layout(width='max-content'), options=(('A. Type 1 error', 0), ('B…"
      ]
     },
     "metadata": {},
     "output_type": "display_data"
    }
   ],
   "source": [
    "if __name__ == \"__main__\":\n",
    "    display(L9P2Q1)"
   ]
  },
  {
   "cell_type": "markdown",
   "id": "4cd0a32b-844c-4770-8798-717b4924c348",
   "metadata": {},
   "source": [
    "#### Question 2 info\n",
    "\n",
    "Of which type of error is this statement an example?"
   ]
  },
  {
   "cell_type": "code",
   "execution_count": 75,
   "id": "5da4582c-eb6a-44ed-8ddc-ad790a668f81",
   "metadata": {},
   "outputs": [
    {
     "data": {
      "application/vnd.jupyter.widget-view+json": {
       "model_id": "9a453cf017fe45bdbf855b50d3b90da6",
       "version_major": 2,
       "version_minor": 0
      },
      "text/plain": [
       "VBox(children=(Output(), RadioButtons(layout=Layout(width='max-content'), options=(('A. Type 1 error', 0), ('B…"
      ]
     },
     "metadata": {},
     "output_type": "display_data"
    }
   ],
   "source": [
    "if __name__ == \"__main__\":\n",
    "    display(L9P2Q2)"
   ]
  },
  {
   "cell_type": "code",
   "execution_count": 76,
   "id": "fed0cf11-e3ad-43a5-a631-b2a942ef4f70",
   "metadata": {},
   "outputs": [
    {
     "data": {
      "application/vnd.jupyter.widget-view+json": {
       "model_id": "05af654618d64a83b90ff2071b82e3ae",
       "version_major": 2,
       "version_minor": 0
      },
      "text/plain": [
       "VBox(children=(Output(), RadioButtons(layout=Layout(width='max-content'), options=(('A. Power is great with a …"
      ]
     },
     "metadata": {},
     "output_type": "display_data"
    },
    {
     "data": {
      "application/vnd.jupyter.widget-view+json": {
       "model_id": "87624713be8748f4bb508722c9b9cdf5",
       "version_major": 2,
       "version_minor": 0
      },
      "text/plain": [
       "VBox(children=(Output(), RadioButtons(layout=Layout(width='max-content'), options=(('A. A priori', 0), ('B. po…"
      ]
     },
     "metadata": {},
     "output_type": "display_data"
    },
    {
     "data": {
      "application/vnd.jupyter.widget-view+json": {
       "model_id": "e904da24f0d042f5a219024cd613e906",
       "version_major": 2,
       "version_minor": 0
      },
      "text/plain": [
       "VBox(children=(Output(), RadioButtons(layout=Layout(width='max-content'), options=(('A. .05', 0), ('B. .08', 1…"
      ]
     },
     "metadata": {},
     "output_type": "display_data"
    }
   ],
   "source": [
    "if __name__ == \"__main__\":\n",
    "    display(L9P2Q3, L9P2Q4, L9P2Q5)"
   ]
  },
  {
   "cell_type": "markdown",
   "id": "b2cc1b71-8074-4c04-b1d9-7a7586f17747",
   "metadata": {},
   "source": [
    "## Page 5"
   ]
  },
  {
   "cell_type": "code",
   "execution_count": 77,
   "id": "c22a8c3f-d0fa-4935-8691-bd55371cda8e",
   "metadata": {},
   "outputs": [],
   "source": [
    "L9P5Q1 = MultipleChoice('1. Which tab should you utilize in G*Power?',['A. Central and noncentral distributions','B. Protocol of power analyses'],'B. Protocol of power analyses')\n",
    "L9P5Q2 = MultipleChoice('2. Under the Type of power analysis options, which of the following are you MOST LIKELY to utilize?',['A. A priori','B. Compromise','C. Sensitivity','D. Post hoc'],'A. A priori')"
   ]
  },
  {
   "cell_type": "code",
   "execution_count": 78,
   "id": "2db40fe9-c45b-4d01-b9a8-51e7f834b3fe",
   "metadata": {},
   "outputs": [
    {
     "data": {
      "application/vnd.jupyter.widget-view+json": {
       "model_id": "88512f59d6784aadaf436d3be765b70b",
       "version_major": 2,
       "version_minor": 0
      },
      "text/plain": [
       "VBox(children=(Output(), RadioButtons(layout=Layout(width='max-content'), options=(('A. Central and noncentral…"
      ]
     },
     "metadata": {},
     "output_type": "display_data"
    },
    {
     "data": {
      "application/vnd.jupyter.widget-view+json": {
       "model_id": "5d0e1e9258424e3da42cebc8abbfb426",
       "version_major": 2,
       "version_minor": 0
      },
      "text/plain": [
       "VBox(children=(Output(), RadioButtons(layout=Layout(width='max-content'), options=(('A. A priori', 0), ('B. Co…"
      ]
     },
     "metadata": {},
     "output_type": "display_data"
    }
   ],
   "source": [
    "if __name__ == \"__main__\":\n",
    "    display(L9P5Q1, L9P5Q2)"
   ]
  },
  {
   "cell_type": "markdown",
   "id": "521d57ee-e124-4676-b561-0d35d49e7845",
   "metadata": {},
   "source": [
    "## Page 6"
   ]
  },
  {
   "cell_type": "code",
   "execution_count": 81,
   "id": "319aaeeb-4476-4a48-9a4f-63c3b4ff8d86",
   "metadata": {},
   "outputs": [],
   "source": [
    "L9P6Q1 = MultipleChoice('1. Do you need to change the default alpha parameter in G*Power?',['A. Yes','B. No'],'B. No')\n",
    "L9P6Q2 = MultipleChoice('2. What would a medium effect size be for a test in the t-test family?',['A. .5','B. .2','C. .8','D. .3'],'A. .5')\n",
    "L9P6Q3 = MultipleChoice('3. If you have equal sized groups in your independent variable, what value would you place as your allocation ratio?',['A. .05','B. .5','C. 1','D. 2'],'C. 1')\n",
    "L9P6Q4 = MultipleChoice('4. If you have one group that is approximately a third bigger than the other group for your independent variable, what value would you place as your allocation ratio?',['A. 3','B. 1.3','C. 1','D. .5'],'B. 1.3')"
   ]
  },
  {
   "cell_type": "code",
   "execution_count": 82,
   "id": "0739a7b8-4dea-4df4-b300-881ab6ac559a",
   "metadata": {},
   "outputs": [
    {
     "data": {
      "application/vnd.jupyter.widget-view+json": {
       "model_id": "e9fee38c7fd24c8f850865bad07f2fc1",
       "version_major": 2,
       "version_minor": 0
      },
      "text/plain": [
       "VBox(children=(Output(outputs=({'name': 'stdout', 'text': '1. Do you need to change the default alpha paramete…"
      ]
     },
     "metadata": {},
     "output_type": "display_data"
    },
    {
     "data": {
      "application/vnd.jupyter.widget-view+json": {
       "model_id": "d45a76369ad8412293df1b3a5ee640cd",
       "version_major": 2,
       "version_minor": 0
      },
      "text/plain": [
       "VBox(children=(Output(outputs=({'name': 'stdout', 'text': '2. What would a medium effect size be for a test in…"
      ]
     },
     "metadata": {},
     "output_type": "display_data"
    },
    {
     "data": {
      "application/vnd.jupyter.widget-view+json": {
       "model_id": "c4bf7e4ff1894ca2a34b0c93bfb15ac4",
       "version_major": 2,
       "version_minor": 0
      },
      "text/plain": [
       "VBox(children=(Output(outputs=({'name': 'stdout', 'text': '3. If you have equal sized groups in your independe…"
      ]
     },
     "metadata": {},
     "output_type": "display_data"
    },
    {
     "data": {
      "application/vnd.jupyter.widget-view+json": {
       "model_id": "9af6651e5ce249bc908e1a3c9d3c7e51",
       "version_major": 2,
       "version_minor": 0
      },
      "text/plain": [
       "VBox(children=(Output(outputs=({'name': 'stdout', 'text': '4. If you have one group that is approximately a th…"
      ]
     },
     "metadata": {},
     "output_type": "display_data"
    }
   ],
   "source": [
    "if __name__ == \"__main__\":\n",
    "    display(L9P6Q1, L9P6Q2, L9P6Q3, L9P6Q4)"
   ]
  },
  {
   "cell_type": "markdown",
   "id": "8fc57e1e-13a4-4143-995f-668689bb4a2f",
   "metadata": {},
   "source": [
    "## Page 7"
   ]
  },
  {
   "cell_type": "code",
   "execution_count": 83,
   "id": "9e799676-d44e-4b1a-810b-7bc78c495c17",
   "metadata": {},
   "outputs": [],
   "source": [
    "L9P7Q1 = MultipleChoice('1. You want to run a three-way ANOVA. What is the number you should place in the numerator degrees of freedom input parameter for between-subjects designs?',['A. 2','B. 3','C. 1','D. 0'],'A. 2')\n",
    "L9P7Q2 = MultipleChoice(\"2. You own a barbecue restaurant chain and want to see how your chains differ by region of the country. There are three areas: South, Southwest, and Midwest. (Yankees don't know what good barbecue is!). What is the number you should place in the Number of groups input parameter for a between-subjects design?\",['A. 1','B. 2','C. 4','D. 3'],'D. 3')"
   ]
  },
  {
   "cell_type": "code",
   "execution_count": 84,
   "id": "9391973e-8ce9-41b6-98f3-4c5f8eab1336",
   "metadata": {},
   "outputs": [
    {
     "data": {
      "application/vnd.jupyter.widget-view+json": {
       "model_id": "eba890b1b6804d28add50d647073082c",
       "version_major": 2,
       "version_minor": 0
      },
      "text/plain": [
       "VBox(children=(Output(outputs=({'name': 'stdout', 'text': '1. You want to run a three-way ANOVA. What is the n…"
      ]
     },
     "metadata": {},
     "output_type": "display_data"
    },
    {
     "data": {
      "application/vnd.jupyter.widget-view+json": {
       "model_id": "6099c5998f924794b151966c9980b7a1",
       "version_major": 2,
       "version_minor": 0
      },
      "text/plain": [
       "VBox(children=(Output(outputs=({'name': 'stdout', 'text': \"2. You own a barbecue restaurant chain and want to …"
      ]
     },
     "metadata": {},
     "output_type": "display_data"
    }
   ],
   "source": [
    "if __name__ == \"__main__\":\n",
    "    display(L9P7Q1, L9P7Q2)"
   ]
  },
  {
   "cell_type": "markdown",
   "id": "aef8b131-2d71-431e-9f8e-dc234e256449",
   "metadata": {},
   "source": [
    "## Page 8"
   ]
  },
  {
   "cell_type": "code",
   "execution_count": 85,
   "id": "0ec4cd81-a7ef-4859-becd-f7beac9f5dd6",
   "metadata": {},
   "outputs": [],
   "source": [
    "L9P8Q1 = MultipleChoice('1. Which of the following is something that changes when you go from a power analysis of between-subjects measures to a power analysis of regression?',['A. Power increases','B. Number of groups becomes number of predictors','C. Alpha decreases','D. Alpha increases'],'B. Number of groups becomes number of predictors')\n",
    "L9P8Q2 = MultipleChoice('2. If you are hoping to detect a large effect for regression, what f squared value should you use?',['A. .02','B. .15','C. .35','D. .55'],'C. .35')\n",
    "L9P8Q3 = MultipleChoice('3. You are running an ANCOVA with one covariate. What number should you place in the Number of covariates parameter?',['A. 2','B. .2','C. .1','D. 1'],'D. 1')"
   ]
  },
  {
   "cell_type": "code",
   "execution_count": 86,
   "id": "99c0bdad-f207-4892-8809-e60856460b2c",
   "metadata": {},
   "outputs": [
    {
     "data": {
      "application/vnd.jupyter.widget-view+json": {
       "model_id": "2792e59cc9084ea987168b3376629907",
       "version_major": 2,
       "version_minor": 0
      },
      "text/plain": [
       "VBox(children=(Output(outputs=({'name': 'stdout', 'text': '1. Which of the following is something that changes…"
      ]
     },
     "metadata": {},
     "output_type": "display_data"
    },
    {
     "data": {
      "application/vnd.jupyter.widget-view+json": {
       "model_id": "5b1bec543690422397773acbc5189ca7",
       "version_major": 2,
       "version_minor": 0
      },
      "text/plain": [
       "VBox(children=(Output(outputs=({'name': 'stdout', 'text': '2. If you are hoping to detect a large effect for r…"
      ]
     },
     "metadata": {},
     "output_type": "display_data"
    },
    {
     "data": {
      "application/vnd.jupyter.widget-view+json": {
       "model_id": "63c12772b70b45768f7fb82405da2f0e",
       "version_major": 2,
       "version_minor": 0
      },
      "text/plain": [
       "VBox(children=(Output(outputs=({'name': 'stdout', 'text': '3. You are running an ANCOVA with one covariate. Wh…"
      ]
     },
     "metadata": {},
     "output_type": "display_data"
    }
   ],
   "source": [
    "if __name__ == \"__main__\":\n",
    "    display(L9P8Q1, L9P8Q2, L9P8Q3)"
   ]
  },
  {
   "cell_type": "markdown",
   "id": "9d3f3b90-7431-4821-a18d-3b0f7cda686e",
   "metadata": {},
   "source": [
    "## Page 9"
   ]
  },
  {
   "cell_type": "code",
   "execution_count": 87,
   "id": "52164034-166c-4140-95bb-a7a0d3e62c90",
   "metadata": {},
   "outputs": [],
   "source": [
    "L9P9Q1 = MultipleChoice('1. If you are examining data over 7 years, what should your Number of measurements input parameter be for a repeated measures design?',['A. 14','B. 2','C. 7','D. 3.5'],'C. 7')\n",
    "L9P9Q2 = MultipleChoice('2. You have pre, post, and one-year follow up data and expect that this data will be not as related, because the one-year timepoint is pretty far out. What should your Corr among rep measures parameter be for a repeated measures design?',['A. 0','B. .7','C. .5','D. .3'],'D. .3')\n",
    "L9P9Q3 = MultipleChoice('3. It is acceptable to accept the default nonsphericity correction for a repeated measures design.',['A. True','B. False'],'A. True')"
   ]
  },
  {
   "cell_type": "code",
   "execution_count": 88,
   "id": "b979c514-89b5-4d8b-a652-b72312e9188b",
   "metadata": {},
   "outputs": [
    {
     "data": {
      "application/vnd.jupyter.widget-view+json": {
       "model_id": "ba59db4d20564e2ea5750c3195c2185b",
       "version_major": 2,
       "version_minor": 0
      },
      "text/plain": [
       "VBox(children=(Output(outputs=({'name': 'stdout', 'text': '1. If you are examining data over 7 years, what sho…"
      ]
     },
     "metadata": {},
     "output_type": "display_data"
    },
    {
     "data": {
      "application/vnd.jupyter.widget-view+json": {
       "model_id": "7c738ebff17b494ca6841b79dcb8c34b",
       "version_major": 2,
       "version_minor": 0
      },
      "text/plain": [
       "VBox(children=(Output(outputs=({'name': 'stdout', 'text': '2. You have pre, post, and one-year follow up data …"
      ]
     },
     "metadata": {},
     "output_type": "display_data"
    },
    {
     "data": {
      "application/vnd.jupyter.widget-view+json": {
       "model_id": "8036611912d04fd898fd56e413be5780",
       "version_major": 2,
       "version_minor": 0
      },
      "text/plain": [
       "VBox(children=(Output(outputs=({'name': 'stdout', 'text': '3. It is acceptable to accept the default nonspheri…"
      ]
     },
     "metadata": {},
     "output_type": "display_data"
    }
   ],
   "source": [
    "if __name__ == \"__main__\":\n",
    "    display(L9P9Q1, L9P9Q2, L9P9Q3)"
   ]
  }
 ],
 "metadata": {
  "kernelspec": {
   "display_name": "Python 3 (ipykernel)",
   "language": "python",
   "name": "python3"
  },
  "language_info": {
   "codemirror_mode": {
    "name": "ipython",
    "version": 3
   },
   "file_extension": ".py",
   "mimetype": "text/x-python",
   "name": "python",
   "nbconvert_exporter": "python",
   "pygments_lexer": "ipython3",
   "version": "3.9.9"
  }
 },
 "nbformat": 4,
 "nbformat_minor": 5
}
